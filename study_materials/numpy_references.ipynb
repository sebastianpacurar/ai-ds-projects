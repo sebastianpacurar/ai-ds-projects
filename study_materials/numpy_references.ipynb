{
 "cells": [
  {
   "cell_type": "markdown",
   "metadata": {
    "id": "NaRimhvgi8m8"
   },
   "source": [
    "# NB Seup"
   ]
  },
  {
   "cell_type": "code",
   "execution_count": 3,
   "metadata": {
    "ExecuteTime": {
     "end_time": "2025-02-22T13:05:13.714171Z",
     "start_time": "2025-02-22T13:05:13.710062Z"
    },
    "executionInfo": {
     "elapsed": 5,
     "status": "ok",
     "timestamp": 1743368131258,
     "user": {
      "displayName": "Pacurar Sebastian",
      "userId": "15686393619609976384"
     },
     "user_tz": -180
    },
    "id": "WQxGHxtUiZgD"
   },
   "outputs": [],
   "source": [
    "import numpy as np\n",
    "import matplotlib.pyplot as plt"
   ]
  },
  {
   "cell_type": "markdown",
   "metadata": {
    "id": "UTkaWe8EyrZE"
   },
   "source": [
    "<br><hr><hr><br>"
   ]
  },
  {
   "cell_type": "markdown",
   "metadata": {
    "id": "ov99EDP7S_q4"
   },
   "source": [
    "# Data Types\n"
   ]
  },
  {
   "cell_type": "markdown",
   "metadata": {
    "id": "yvxtuJHJV1JA"
   },
   "source": [
    "<br><hr></br>"
   ]
  },
  {
   "cell_type": "markdown",
   "metadata": {
    "id": "mbix_t70Tfgw"
   },
   "source": [
    "## Tables"
   ]
  },
  {
   "cell_type": "markdown",
   "metadata": {
    "id": "IJuEJeEKUDFe"
   },
   "source": [
    "#### Table of Data Type codes\n",
    "\n",
    "<table>\n",
    "  <tr>\n",
    "    <th>Code</th>\n",
    "    <th>Type</th>\n",
    "  </tr>\n",
    "  <tr>\n",
    "    <td><code>i</code></td>\n",
    "    <td>Integer (signed)</td>\n",
    "  </tr>\n",
    "  <tr>\n",
    "    <td><code>u</code></td>\n",
    "    <td>Unsigned integer</td>\n",
    "  </tr>\n",
    "  <tr>\n",
    "    <td><code>f</code></td>\n",
    "    <td>Floating-point number</td>\n",
    "  </tr>\n",
    "  <tr>\n",
    "    <td><code>c</code></td>\n",
    "    <td>Complex floating-point number</td>\n",
    "  </tr>\n",
    "  <tr>\n",
    "    <td><code>b</code></td>\n",
    "    <td>Boolean</td>\n",
    "  </tr>\n",
    "  <tr>\n",
    "    <td><code>S</code></td>\n",
    "    <td>Byte string</td>\n",
    "  </tr>\n",
    "  <tr>\n",
    "    <td><code>U</code></td>\n",
    "    <td>Unicode string</td>\n",
    "  </tr>\n",
    "  <tr>\n",
    "    <td><code>O</code></td>\n",
    "    <td>Python object</td>\n",
    "  </tr>\n",
    "  <tr>\n",
    "    <td><code>M</code></td>\n",
    "    <td>DateTime</td>\n",
    "  </tr>\n",
    "  <tr>\n",
    "    <td><code>m</code></td>\n",
    "    <td>TimeDelta</td>\n",
    "  </tr>\n",
    "  <tr>\n",
    "    <td><code>V</code></td>\n",
    "    <td>Void (Raw Data)</td>\n",
    "  </tr>\n",
    "</table>\n",
    "\n",
    "\n",
    "<hr><br>"
   ]
  },
  {
   "cell_type": "markdown",
   "metadata": {
    "id": "N_cLZ36yTjV0"
   },
   "source": [
    "#### Tables of Data Types\n",
    "\n",
    "\n",
    "Integer Types:\n",
    "<table border=\"1\">\n",
    "  <tr>\n",
    "    <th>Data Type</th>\n",
    "    <th>Description</th>\n",
    "    <th>Example Code</th>\n",
    "  </tr>\n",
    "  <tr>\n",
    "    <td>int8 (<code>i1</code>)</td>\n",
    "    <td>8-bit signed integer</td>\n",
    "    <td>np.int8</td>\n",
    "  </tr>\n",
    "  <tr>\n",
    "    <td>int16 (<code>i2</code>)</td>\n",
    "    <td>16-bit signed integer</td>\n",
    "    <td>np.int16</td>\n",
    "  </tr>\n",
    "  <tr>\n",
    "    <td>int32 (<code>i4</code>)</td>\n",
    "    <td>32-bit signed integer</td>\n",
    "    <td>np.int32</td>\n",
    "  </tr>\n",
    "  <tr>\n",
    "    <td>int64 (<code>i8</code>)</td>\n",
    "    <td>64-bit signed integer</td>\n",
    "    <td>np.int64</td>\n",
    "  </tr>\n",
    "</table>\n",
    "\n",
    "<hr><br>\n",
    "\n",
    "Unsigned Integer Types\n",
    "<table border=\"1\">\n",
    "  <tr>\n",
    "    <th>Data Type</th>\n",
    "    <th>Description</th>\n",
    "    <th>Example Code</th>\n",
    "  </tr>\n",
    "  <tr>\n",
    "    <td>uint8 (<code>u1</code>)</td>\n",
    "    <td>8-bit unsigned integer</td>\n",
    "    <td>np.uint8</td>\n",
    "  </tr>\n",
    "  <tr>\n",
    "    <td>uint16 (<code>u2</code>)</td>\n",
    "    <td>16-bit unsigned integer</td>\n",
    "    <td>np.uint16</td>\n",
    "  </tr>\n",
    "  <tr>\n",
    "    <td>uint32 (<code>u4</code>)</td>\n",
    "    <td>32-bit unsigned integer</td>\n",
    "    <td>np.uint32</td>\n",
    "  </tr>\n",
    "  <tr>\n",
    "    <td>uint64 (<code>u8</code>)</td>\n",
    "    <td>64-bit unsigned integer</td>\n",
    "    <td>np.uint64</td>\n",
    "  </tr>\n",
    "</table>\n",
    "\n",
    "<hr><br>\n",
    "\n",
    "Floating-Point Types\n",
    "<table border=\"1\">\n",
    "  <tr>\n",
    "    <th>Data Type</th>\n",
    "    <th>Description</th>\n",
    "    <th>Example Code</th>\n",
    "  </tr>\n",
    "  <tr>\n",
    "    <td>float16 (<code>f2</code>)</td>\n",
    "    <td>16-bit half precision float</td>\n",
    "    <td>np.float16</td>\n",
    "  </tr>\n",
    "  <tr>\n",
    "    <td>float32 (<code>f4</code>)</td>\n",
    "    <td>32-bit single precision float</td>\n",
    "    <td>np.float32</td>\n",
    "  </tr>\n",
    "  <tr>\n",
    "    <td>float64 (<code>f8</code>)</td>\n",
    "    <td>64-bit double precision float</td>\n",
    "    <td>np.float64</td>\n",
    "  </tr>\n",
    "  <tr>\n",
    "    <td>float128 (<code>f16</code>)</td>\n",
    "    <td>128-bit extended precision float</td>\n",
    "    <td>np.float128</td>\n",
    "  </tr>\n",
    "</table>\n",
    "\n",
    "<hr><br>\n",
    "\n",
    "Complex Number Types\n",
    "<table border=\"1\">\n",
    "  <tr>\n",
    "    <th>Data Type</th>\n",
    "    <th>Description</th>\n",
    "    <th>Example Code</th>\n",
    "  </tr>\n",
    "  <tr>\n",
    "    <td>complex64 (<code>c8</code>)</td>\n",
    "    <td>64-bit complex number</td>\n",
    "    <td>np.complex64</td>\n",
    "  </tr>\n",
    "  <tr>\n",
    "    <td>complex128 (<code>c16</code>)</td>\n",
    "    <td>128-bit complex number</td>\n",
    "    <td>np.complex128</td>\n",
    "  </tr>\n",
    "  <tr>\n",
    "    <td>complex256 (<code>c32</code>)</td>\n",
    "    <td>256-bit complex number</td>\n",
    "    <td>np.complex256</td>\n",
    "  </tr>\n",
    "</table>\n",
    "\n",
    "<hr><br>\n",
    "\n",
    "Boolean Types\n",
    "<table border=\"1\">\n",
    "  <tr>\n",
    "    <th>Data Type</th>\n",
    "    <th>Description</th>\n",
    "    <th>Example Code</th>\n",
    "  </tr>\n",
    "  <tr>\n",
    "    <td>bool_ (<code>b1</code>)</td>\n",
    "    <td>Boolean (True/False)</td>\n",
    "    <td>np.bool_</td>\n",
    "  </tr>\n",
    "</table>\n",
    "\n",
    "<hr><br>\n",
    "\n",
    "String Type\n",
    "<table border=\"1\">\n",
    "  <tr>\n",
    "    <th>Data Type</th>\n",
    "    <th>Description</th>\n",
    "    <th>Example Code</th>\n",
    "  </tr>\n",
    "  <tr>\n",
    "    <td>str_ (<code>U</code>)</td>\n",
    "    <td>Unicode string</td>\n",
    "    <td>np.str_</td>\n",
    "  </tr>\n",
    "  <tr>\n",
    "    <td>bytes_ (<code>S</code>)</td>\n",
    "    <td>Fixed-length byte string</td>\n",
    "    <td>np.bytes_</td>\n",
    "  </tr>\n",
    "</table>\n",
    "\n",
    "<hr><br>\n",
    "\n",
    "Time and Date Types\n",
    "<table border=\"1\">\n",
    "  <tr>\n",
    "    <th>Data Type</th>\n",
    "    <th>Description</th>\n",
    "    <th>Example Code</th>\n",
    "  </tr>\n",
    "  <tr>\n",
    "    <td>datetime64 (<code>M8</code>)</td>\n",
    "    <td>Date and time values</td>\n",
    "    <td>np.datetime64</td>\n",
    "  </tr>\n",
    "  <tr>\n",
    "    <td>timedelta64 (<code>m8</code>)</td>\n",
    "    <td>Time difference values</td>\n",
    "    <td>np.timedelta64</td>\n",
    "  </tr>\n",
    "</table>\n",
    "\n",
    "<hr><br>\n",
    "\n",
    "Object Type\n",
    "<table border=\"1\">\n",
    "  <tr>\n",
    "    <th>Data Type</th>\n",
    "    <th>Description</th>\n",
    "    <th>Example Code</th>\n",
    "  </tr>\n",
    "  <tr>\n",
    "    <td>object_ (<code>O</code>)</td>\n",
    "    <td>Stores arbitrary Python objects</td>\n",
    "    <td>np.object_</td>\n",
    "  </tr>\n",
    "</table>\n",
    "\n",
    "<hr><br>\n",
    "\n",
    "Void Type\n",
    "<table border=\"1\">\n",
    "  <tr>\n",
    "    <th>Data Type</th>\n",
    "    <th>Description</th>\n",
    "    <th>Example Code</th>\n",
    "  </tr>\n",
    "  <tr>\n",
    "    <td>void (<code>V</code>)</td>\n",
    "    <td>Raw binary data or structured data</td>\n",
    "    <td>np.void</td>\n",
    "  </tr>\n",
    "</table>"
   ]
  },
  {
   "cell_type": "markdown",
   "metadata": {
    "id": "45fveobWUTcK"
   },
   "source": [
    "<hr><br>\n",
    "\n",
    "## arr.astype()\n",
    "\n",
    "* Convert the data type of an array to a different type\n",
    "* Creates a new array with the specified type while keeping the original array unchanged\n",
    "* Syntax:\n",
    "```python\n",
    "arr.astype(dtype, order=\"K\", casting=\"unsafe\", subok=True, copy=True)\n",
    "```\n",
    "\n",
    "* Args:\n",
    "    * `dtype` (required): the target data type\n",
    "    * `order` (default = `\"K\"`): specifies memory layout:\n",
    "        * `\"C\"` = C-style row-major order\n",
    "        * `\"F\"` = Fortran-style column-major order\n",
    "        * `\"A\"` = preserve existing order\n",
    "        * `\"K\"` = keep original memory if possible\n",
    "    * casting (default = `\"unsafe\"`):\n",
    "        * `\"no\"` = prevents any type conversion\n",
    "        * `\"equiv\"` = only allows equivalent types\n",
    "        * `\"safe\"` = only allows casting that does not lose information\n",
    "        * `\"same_kind\"` = allows casting within the same category\n",
    "        * `\"unsafe\"` = allows any conversion, even if it causes data loss\n",
    "    * `subok` (default = `False`):\n",
    "        * `True` = allows subclasses to be returned\n",
    "        * `False` = a base ndarray is always returned\n",
    "    * `copy` (default = `True`):\n",
    "        * `True` = creates a copy of the object\n",
    "        * `False` = a reference is used when possible"
   ]
  },
  {
   "cell_type": "code",
   "execution_count": 11,
   "metadata": {
    "colab": {
     "base_uri": "https://localhost:8080/"
    },
    "executionInfo": {
     "elapsed": 13,
     "status": "ok",
     "timestamp": 1743368131274,
     "user": {
      "displayName": "Pacurar Sebastian",
      "userId": "15686393619609976384"
     },
     "user_tz": -180
    },
    "id": "f3r_MWyXaEb4",
    "outputId": "dbbc1c51-7ab7-4179-b1d2-e1f7835ef40f"
   },
   "outputs": [
    {
     "name": "stdout",
     "output_type": "stream",
     "text": [
      "\n",
      "'i4' data type: \n",
      "initial arr: [ 1 -2  3 -4] of type int32\n",
      "converted arr: [ 1 -2  3 -4] of type int32\n",
      "\n"
     ]
    }
   ],
   "source": [
    "# integer (signed)\n",
    "arr = np.array([1, -2, 3, -4])\n",
    "signed_int = arr.astype(\"i4\")  # 32-bit signed integer\n",
    "print(f\"\\n'i4' data type: \\ninitial arr: {arr} of type {arr.dtype}\\nconverted arr: {signed_int} of type {signed_int.dtype}\\n\")"
   ]
  },
  {
   "cell_type": "code",
   "execution_count": 12,
   "metadata": {
    "colab": {
     "base_uri": "https://localhost:8080/"
    },
    "executionInfo": {
     "elapsed": 16,
     "status": "ok",
     "timestamp": 1743368131293,
     "user": {
      "displayName": "Pacurar Sebastian",
      "userId": "15686393619609976384"
     },
     "user_tz": -180
    },
    "id": "aqPjjWtMgg_b",
    "outputId": "7c593563-4345-4071-f815-c66ce8b71e25"
   },
   "outputs": [
    {
     "name": "stdout",
     "output_type": "stream",
     "text": [
      "\n",
      "'u2' data type: \n",
      "initial arr: [1 2 3 4] of type int32\n",
      "converted arr: [1 2 3 4] of type uint16\n",
      "\n"
     ]
    }
   ],
   "source": [
    "# unsigned integer\n",
    "arr = np.array([1, 2, 3, 4])\n",
    "unsigned_int = arr.astype(\"u2\")  # 16-bit unsigned integer\n",
    "print(f\"\\n'u2' data type: \\ninitial arr: {arr} of type {arr.dtype}\\nconverted arr: {unsigned_int} of type {unsigned_int.dtype}\\n\")"
   ]
  },
  {
   "cell_type": "code",
   "execution_count": 13,
   "metadata": {
    "colab": {
     "base_uri": "https://localhost:8080/"
    },
    "executionInfo": {
     "elapsed": 5,
     "status": "ok",
     "timestamp": 1743368131299,
     "user": {
      "displayName": "Pacurar Sebastian",
      "userId": "15686393619609976384"
     },
     "user_tz": -180
    },
    "id": "hO2j6Xg_gg1x",
    "outputId": "9e72ea4e-ffbf-4725-8c66-9ebaf96e1276"
   },
   "outputs": [
    {
     "name": "stdout",
     "output_type": "stream",
     "text": [
      "\n",
      "'f4' data type: \n",
      "initial arr: [1 2 3 4] of type int32\n",
      "converted arr: [1. 2. 3. 4.] of type float32\n",
      "\n"
     ]
    }
   ],
   "source": [
    "# floating-point number\n",
    "arr = np.array([1, 2, 3, 4])\n",
    "float_arr = arr.astype(\"f4\")  # 32-bit floating-point\n",
    "print(f\"\\n'f4' data type: \\ninitial arr: {arr} of type {arr.dtype}\\nconverted arr: {float_arr} of type {float_arr.dtype}\\n\")"
   ]
  },
  {
   "cell_type": "code",
   "execution_count": 14,
   "metadata": {
    "colab": {
     "base_uri": "https://localhost:8080/"
    },
    "executionInfo": {
     "elapsed": 9,
     "status": "ok",
     "timestamp": 1743368131309,
     "user": {
      "displayName": "Pacurar Sebastian",
      "userId": "15686393619609976384"
     },
     "user_tz": -180
    },
    "id": "m4GFjdoZggrx",
    "outputId": "c873388f-1f19-4bd1-d32f-545a8cdceb17"
   },
   "outputs": [
    {
     "name": "stdout",
     "output_type": "stream",
     "text": [
      "\n",
      "'c8' data type: \n",
      "initial arr: [1 2 3 4] of type int32\n",
      "converted arr: [1.+0.j 2.+0.j 3.+0.j 4.+0.j] of type complex64\n",
      "\n"
     ]
    }
   ],
   "source": [
    "# complex floating-point number\n",
    "arr = np.array([1, 2, 3, 4])\n",
    "complex_arr = arr.astype(\"c8\")  # 64-bit complex number\n",
    "print(f\"\\n'c8' data type: \\ninitial arr: {arr} of type {arr.dtype}\\nconverted arr: {complex_arr} of type {complex_arr.dtype}\\n\")"
   ]
  },
  {
   "cell_type": "code",
   "execution_count": 15,
   "metadata": {
    "colab": {
     "base_uri": "https://localhost:8080/"
    },
    "executionInfo": {
     "elapsed": 5,
     "status": "ok",
     "timestamp": 1743368131315,
     "user": {
      "displayName": "Pacurar Sebastian",
      "userId": "15686393619609976384"
     },
     "user_tz": -180
    },
    "id": "UUjXg5YvggjL",
    "outputId": "395bbdef-5e03-44ea-d971-75a866de6a06"
   },
   "outputs": [
    {
     "name": "stdout",
     "output_type": "stream",
     "text": [
      "\n",
      "'b' data type: \n",
      "initial arr: [0 1 2 0] of type int32\n",
      "converted arr: [0 1 2 0] of type int8\n",
      "\n"
     ]
    }
   ],
   "source": [
    "# boolean\n",
    "arr = np.array([0, 1, 2, 0])\n",
    "bool_arr = arr.astype(\"b\")  # boolean type\n",
    "print(f\"\\n'b' data type: \\ninitial arr: {arr} of type {arr.dtype}\\nconverted arr: {bool_arr} of type {bool_arr.dtype}\\n\")"
   ]
  },
  {
   "cell_type": "code",
   "execution_count": 16,
   "metadata": {
    "colab": {
     "base_uri": "https://localhost:8080/"
    },
    "executionInfo": {
     "elapsed": 8,
     "status": "ok",
     "timestamp": 1743368131323,
     "user": {
      "displayName": "Pacurar Sebastian",
      "userId": "15686393619609976384"
     },
     "user_tz": -180
    },
    "id": "VSKvFHPiggbA",
    "outputId": "1b066e47-56b0-409e-8ba2-bd0bcbc798a5"
   },
   "outputs": [
    {
     "name": "stdout",
     "output_type": "stream",
     "text": [
      "\n",
      "'S' data type: \n",
      "initial arr: ['a' 'b' 'c'] of type <U1\n",
      "converted arr: [b'a' b'b' b'c'] of type |S1\n",
      "\n"
     ]
    }
   ],
   "source": [
    "# byte string\n",
    "arr = np.array([\"a\", \"b\", \"c\"])\n",
    "byte_str_arr = arr.astype(\"S\")  # convert to byte string\n",
    "print(f\"\\n'S' data type: \\ninitial arr: {arr} of type {arr.dtype}\\nconverted arr: {byte_str_arr} of type {byte_str_arr.dtype}\\n\")"
   ]
  },
  {
   "cell_type": "code",
   "execution_count": 17,
   "metadata": {
    "colab": {
     "base_uri": "https://localhost:8080/"
    },
    "executionInfo": {
     "elapsed": 10,
     "status": "ok",
     "timestamp": 1743368131335,
     "user": {
      "displayName": "Pacurar Sebastian",
      "userId": "15686393619609976384"
     },
     "user_tz": -180
    },
    "id": "DYn8aICwggP3",
    "outputId": "6c61f313-915f-4f27-ca75-0e9d99c308a4"
   },
   "outputs": [
    {
     "name": "stdout",
     "output_type": "stream",
     "text": [
      "\n",
      "'U' data type: \n",
      "initial arr: [1 2 3] of type int32\n",
      "converted arr: ['1' '2' '3'] of type <U11\n",
      "\n"
     ]
    }
   ],
   "source": [
    "# unicode string\n",
    "arr = np.array([1, 2, 3])\n",
    "unicode_str_arr = arr.astype(\"U\")  # convert to Unicode string\n",
    "print(f\"\\n'U' data type: \\ninitial arr: {arr} of type {arr.dtype}\\nconverted arr: {unicode_str_arr} of type {unicode_str_arr.dtype}\\n\")"
   ]
  },
  {
   "cell_type": "code",
   "execution_count": 18,
   "metadata": {
    "colab": {
     "base_uri": "https://localhost:8080/"
    },
    "executionInfo": {
     "elapsed": 26,
     "status": "ok",
     "timestamp": 1743368131363,
     "user": {
      "displayName": "Pacurar Sebastian",
      "userId": "15686393619609976384"
     },
     "user_tz": -180
    },
    "id": "3flcY8nGggGu",
    "outputId": "640c70fd-4fe3-4508-8c74-f3517c3369b6"
   },
   "outputs": [
    {
     "name": "stdout",
     "output_type": "stream",
     "text": [
      "\n",
      "'O' data type: \n",
      "initial arr: [1 'test' 3.5] of type object\n",
      "converted arr: [1 'test' 3.5] of type object\n",
      "\n"
     ]
    }
   ],
   "source": [
    "# python object\n",
    "arr = np.array([1, \"test\", 3.5], dtype=object)\n",
    "obj_arr = arr.astype(\"O\")  # convert to Python object\n",
    "print(f\"\\n'O' data type: \\ninitial arr: {arr} of type {arr.dtype}\\nconverted arr: {obj_arr} of type {obj_arr.dtype}\\n\")"
   ]
  },
  {
   "cell_type": "code",
   "execution_count": 19,
   "metadata": {
    "colab": {
     "base_uri": "https://localhost:8080/"
    },
    "executionInfo": {
     "elapsed": 10,
     "status": "ok",
     "timestamp": 1743368131374,
     "user": {
      "displayName": "Pacurar Sebastian",
      "userId": "15686393619609976384"
     },
     "user_tz": -180
    },
    "id": "nd2PyHz9gf-6",
    "outputId": "6f4348ad-2b90-4e06-a3ce-0d2da23c018b"
   },
   "outputs": [
    {
     "name": "stdout",
     "output_type": "stream",
     "text": [
      "\n",
      "'M' data type: \n",
      "initial arr: ['2025-03-27' '2024-06-15'] of type <U10\n",
      "converted arr: ['2025-03-27' '2024-06-15'] of type datetime64[D]\n",
      "\n"
     ]
    }
   ],
   "source": [
    "# dateTime\n",
    "arr = np.array([\"2025-03-27\", \"2024-06-15\"])\n",
    "datetime_arr = arr.astype(\"M\")  # convert to datetime\n",
    "print(f\"\\n'M' data type: \\ninitial arr: {arr} of type {arr.dtype}\\nconverted arr: {datetime_arr} of type {datetime_arr.dtype}\\n\")"
   ]
  },
  {
   "cell_type": "code",
   "execution_count": 20,
   "metadata": {
    "colab": {
     "base_uri": "https://localhost:8080/"
    },
    "executionInfo": {
     "elapsed": 6,
     "status": "ok",
     "timestamp": 1743368131381,
     "user": {
      "displayName": "Pacurar Sebastian",
      "userId": "15686393619609976384"
     },
     "user_tz": -180
    },
    "id": "eQHk85TGgf25",
    "outputId": "f74d2817-0ab5-4526-ccfa-d43ea1c458ec"
   },
   "outputs": [
    {
     "name": "stdout",
     "output_type": "stream",
     "text": [
      "\n",
      "'m' data type: \n",
      "initial arr: [1 2 3] of type int32\n",
      "converted arr: [1 2 3] of type timedelta64\n",
      "\n"
     ]
    }
   ],
   "source": [
    "# timeDelta\n",
    "arr = np.array([1, 2, 3])\n",
    "timedelta_arr = arr.astype(\"m\")  # convert to timedelta\n",
    "print(f\"\\n'm' data type: \\ninitial arr: {arr} of type {arr.dtype}\\nconverted arr: {timedelta_arr} of type {timedelta_arr.dtype}\\n\")"
   ]
  },
  {
   "cell_type": "code",
   "execution_count": 21,
   "metadata": {
    "colab": {
     "base_uri": "https://localhost:8080/"
    },
    "executionInfo": {
     "elapsed": 7,
     "status": "ok",
     "timestamp": 1743368131389,
     "user": {
      "displayName": "Pacurar Sebastian",
      "userId": "15686393619609976384"
     },
     "user_tz": -180
    },
    "id": "s8ld5MfUgfvw",
    "outputId": "514fe960-84ae-418e-ca49-a0403ba3f0be"
   },
   "outputs": [
    {
     "name": "stdout",
     "output_type": "stream",
     "text": [
      "\n",
      "'V' data type: \n",
      "initial arr: [(1, 2) (3, 4)] of type [('a', '<i4'), ('b', '<i4')]\n",
      "converted arr: [(1, 2) (3, 4)] of type [('a', '<i4'), ('b', '<i4')]\n",
      "\n"
     ]
    }
   ],
   "source": [
    "# void (raw data)\n",
    "arr = np.array([(1, 2), (3, 4)], dtype=[(\"a\", \"i4\"), (\"b\", \"i4\")])\n",
    "void_arr = arr.astype(\"V\")  # convert to raw binary data\n",
    "print(f\"\\n'V' data type: \\ninitial arr: {arr} of type {arr.dtype}\\nconverted arr: {void_arr} of type {void_arr.dtype}\\n\")  # binary representation"
   ]
  },
  {
   "cell_type": "markdown",
   "metadata": {
    "id": "MB5c44eAiz3P"
   },
   "source": [
    "# Array Creation"
   ]
  },
  {
   "cell_type": "markdown",
   "metadata": {
    "id": "EbmIgx0zsQE9"
   },
   "source": [
    "<br><hr><br>"
   ]
  },
  {
   "cell_type": "markdown",
   "metadata": {
    "id": "XdwPavdmeL5t"
   },
   "source": [
    "## np.array()\n",
    "\n",
    "* Creates a np array from a list, tuple or other array-like objects\n",
    "* Syntax:\n",
    "```python\n",
    "np.array(object, dtype=float64, *, copy=True, order=\"K\", subok=False, ndmin=0, like=None)\n",
    "```\n",
    "* Args:\n",
    "    * `object`: the target array\n",
    "    * `dtype` (default = `float64`): data type of the output array\n",
    "    * `copy` (default = `True`):\n",
    "        * `True` = creates a copy of the object\n",
    "        * `False` = a reference is used when possible\n",
    "    * `order` (default = `\"K\"`): specifies memory layout:\n",
    "        * `\"C\"` = C-style row-major order\n",
    "        * `\"F\"` = Fortran-style column-major order\n",
    "        * `\"A\"` = preserve existing order\n",
    "        * `\"K\"` = keep original memory if possible\n",
    "    * `subok` (default = `False`):\n",
    "        * `True` = allows subclasses to be returned\n",
    "        * `False` = a base ndarray is always returned\n",
    "    * `ndmin` (default = `0`): minimum number of dimensions for the array\n",
    "    * `like`: reference obj to allow creation of arrays that are not numpy arrays"
   ]
  },
  {
   "cell_type": "code",
   "execution_count": 25,
   "metadata": {
    "colab": {
     "base_uri": "https://localhost:8080/"
    },
    "executionInfo": {
     "elapsed": 6,
     "status": "ok",
     "timestamp": 1743368131396,
     "user": {
      "displayName": "Pacurar Sebastian",
      "userId": "15686393619609976384"
     },
     "user_tz": -180
    },
    "id": "nHKCB5S8pJoX",
    "outputId": "ece953ee-e7fa-46fc-d36a-2e682158e2bc"
   },
   "outputs": [
    {
     "data": {
      "text/plain": [
       "array([[1., 2., 3.]], dtype=float32)"
      ]
     },
     "execution_count": 25,
     "metadata": {},
     "output_type": "execute_result"
    }
   ],
   "source": [
    "np.array([1, 2, 3], dtype=np.float32, ndmin=2)"
   ]
  },
  {
   "cell_type": "markdown",
   "metadata": {
    "id": "2eaRQrmpsS8T"
   },
   "source": [
    "<br><hr><br>"
   ]
  },
  {
   "cell_type": "markdown",
   "metadata": {
    "id": "pq3rp__LcHr4"
   },
   "source": [
    "## np.arange()\n",
    "\n",
    "* Creates an array with evenly spaced values within a given range\n",
    "* Syntax:\n",
    "```python\n",
    "np.arange(start, stop=None, step=1, dtype=float64, *, like=None)\n",
    "```\n",
    "\n",
    "* Args:\n",
    "    * `start` (default = `0`): the starting value of the sequence\n",
    "    * `stop` (required): the end value exclusively\n",
    "    * `step` (default = `1`): the increment between values\n",
    "    * `dtype` (default = `float64`): data type of the output array\n",
    "    * `like`: reference obj to allow creation of arrays that are not numpy arrays"
   ]
  },
  {
   "cell_type": "code",
   "execution_count": 28,
   "metadata": {
    "colab": {
     "base_uri": "https://localhost:8080/"
    },
    "executionInfo": {
     "elapsed": 7,
     "status": "ok",
     "timestamp": 1743368131404,
     "user": {
      "displayName": "Pacurar Sebastian",
      "userId": "15686393619609976384"
     },
     "user_tz": -180
    },
    "id": "uIfkV_5Rp7Tl",
    "outputId": "cf75126c-f370-489d-e763-eea5bf12ea18"
   },
   "outputs": [
    {
     "data": {
      "text/plain": [
       "array([1., 3., 5., 7., 9.], dtype=float32)"
      ]
     },
     "execution_count": 28,
     "metadata": {},
     "output_type": "execute_result"
    }
   ],
   "source": [
    "np.arange(1, 10, 2, dtype=np.float32)"
   ]
  },
  {
   "cell_type": "markdown",
   "metadata": {
    "id": "HRZXtXojsUP7"
   },
   "source": [
    "<br><hr><br>"
   ]
  },
  {
   "cell_type": "markdown",
   "metadata": {
    "id": "j4_inwU_cJGT"
   },
   "source": [
    "## np.linspace()\n",
    "* Creates an array with `num` evenly spaced between `start` and `stop`\n",
    "* Syntax:\n",
    "```python\n",
    "np.linspace(start, stop, num=50, endpoint=True, retstep=False, dtype=None, *, axis=0)\n",
    "```\n",
    "* Args:\n",
    "    * `start`: the starting point of the sequence\n",
    "    * `stop`: then ending part of the sequence\n",
    "    * `num`: (default = `50`): the number of values to generate\n",
    "    * `endpoint` (default = `True`)\n",
    "        * `True` = makes `stop` value inclusive\n",
    "        * `False` = makes `stop` value exclusive (like normal python range())\n",
    "    * `retstep` (default = `False`)\n",
    "        * `True` = returns the step size along with the array\n",
    "        * `False` = returns only the array\n",
    "    * `dtype` (deafult = `float64`): data type of the output array\n",
    "    * ?`axis` (default = `0`): the axis in the result along which the linspace values are stored\n"
   ]
  },
  {
   "cell_type": "code",
   "execution_count": 31,
   "metadata": {
    "colab": {
     "base_uri": "https://localhost:8080/"
    },
    "executionInfo": {
     "elapsed": 7,
     "status": "ok",
     "timestamp": 1743368131413,
     "user": {
      "displayName": "Pacurar Sebastian",
      "userId": "15686393619609976384"
     },
     "user_tz": -180
    },
    "id": "_W-Dui0EullY",
    "outputId": "9dd3efcb-9258-4f35-be9a-efbf05435aac"
   },
   "outputs": [
    {
     "data": {
      "text/plain": [
       "(array([0., 2., 4., 6., 8.]), 2.0)"
      ]
     },
     "execution_count": 31,
     "metadata": {},
     "output_type": "execute_result"
    }
   ],
   "source": [
    "arr, step = np.linspace(0, 10, 5, endpoint=False, retstep=True)\n",
    "arr, step"
   ]
  },
  {
   "cell_type": "markdown",
   "metadata": {
    "id": "E2ZmeGLQvF1q"
   },
   "source": [
    "<br><hr><br>"
   ]
  },
  {
   "cell_type": "markdown",
   "metadata": {
    "id": "Al5UT907cZ8I"
   },
   "source": [
    "## np.identity()\n",
    "\n",
    "* Creates a square identity matrix (diagonal elements = 1, others = 0)\n",
    "* Syntax:\n",
    "```python\n",
    "np.identity(n, dtype=None, *, like=None)\n",
    "```\n",
    "\n",
    "* Args:\n",
    "    * `n`: the size of the identity matrix (n * n)\n",
    "    * `dtype` (optional): data type of the output array\n",
    "    * `like`: reference obj to allow creation of arrays that are not numpy arrays"
   ]
  },
  {
   "cell_type": "code",
   "execution_count": 34,
   "metadata": {
    "colab": {
     "base_uri": "https://localhost:8080/"
    },
    "executionInfo": {
     "elapsed": 15,
     "status": "ok",
     "timestamp": 1743368131430,
     "user": {
      "displayName": "Pacurar Sebastian",
      "userId": "15686393619609976384"
     },
     "user_tz": -180
    },
    "id": "lDxw2uNDvE4u",
    "outputId": "9a852716-7817-4066-9112-d4267943c59a"
   },
   "outputs": [
    {
     "data": {
      "text/plain": [
       "array([[1, 0, 0, 0],\n",
       "       [0, 1, 0, 0],\n",
       "       [0, 0, 1, 0],\n",
       "       [0, 0, 0, 1]], dtype=uint8)"
      ]
     },
     "execution_count": 34,
     "metadata": {},
     "output_type": "execute_result"
    }
   ],
   "source": [
    "np.identity(4, dtype=np.uint8)"
   ]
  },
  {
   "cell_type": "markdown",
   "metadata": {
    "id": "84JEbOD5vhqh"
   },
   "source": [
    "<br><hr><br>"
   ]
  },
  {
   "cell_type": "markdown",
   "metadata": {
    "id": "MkLMBrSbccJD"
   },
   "source": [
    "## np.eye()\n",
    "\n",
    "* Creates a 2D array with ones on a diagonal\n",
    "* Syntax:\n",
    "```python\n",
    "np.eye(N, M=None, k=0, dtype=float64, *, order=\"C\", like=None)\n",
    "```\n",
    "\n",
    "* Args:\n",
    "    * `N` (required): the number of rows\n",
    "    * `M` (default = `N`): the number of columns\n",
    "    * `k` (default = `0`): the index of the diagonal\n",
    "        * `0` = main diagonal\n",
    "        * `x > 0` = shift the diagonal up with `x` units\n",
    "        * `x < 0` = shift the diagonal down with `x` units\n",
    "    * `order` (default = `\"K\"`): specifies memory layout:\n",
    "        * `\"C\"` = C-style row-major order\n",
    "        * `\"F\"` = Fortran-style column-major order\n",
    "    * `dtype` (default = `float64`): data type of the output array\n",
    "    * `like`: reference obj to allow creation of arrays that are not numpy arrays\n"
   ]
  },
  {
   "cell_type": "code",
   "execution_count": 37,
   "metadata": {
    "colab": {
     "base_uri": "https://localhost:8080/"
    },
    "executionInfo": {
     "elapsed": 9,
     "status": "ok",
     "timestamp": 1743368131441,
     "user": {
      "displayName": "Pacurar Sebastian",
      "userId": "15686393619609976384"
     },
     "user_tz": -180
    },
    "id": "Z-3EZuMlwirw",
    "outputId": "3037ab44-dd09-49bf-9c8e-b1df4e6b9299"
   },
   "outputs": [
    {
     "name": "stdout",
     "output_type": "stream",
     "text": [
      "[[0 1 0 0]\n",
      " [0 0 1 0]\n",
      " [0 0 0 1]]\n",
      "\n",
      "[[0 0 0 0 0]\n",
      " [0 0 0 0 0]\n",
      " [1 0 0 0 0]\n",
      " [0 1 0 0 0]\n",
      " [0 0 1 0 0]]\n"
     ]
    }
   ],
   "source": [
    "a = np.eye(3, 4, k=1, dtype=np.uint8)\n",
    "b = np.eye(5, k=-2, dtype=np.uint8)\n",
    "print(f\"{a}\\n\\n{b}\")"
   ]
  },
  {
   "cell_type": "markdown",
   "metadata": {
    "id": "s9ygIuDdxHCs"
   },
   "source": [
    "<br><hr><br>"
   ]
  },
  {
   "cell_type": "markdown",
   "metadata": {
    "id": "PBKVbjK_WQDm"
   },
   "source": [
    "## np.zeros()\n",
    "\n",
    "* Creates an array filled with zeros\n",
    "* Syntax:\n",
    "```python\n",
    "np.zeros(shape, dtype=float64, order=\"C\", *, like=None)\n",
    "```\n",
    "\n",
    "* Args:\n",
    "    * `shape` (required): the shape of the array\n",
    "    * `dtype` (default = `float64`): data type of the output array\n",
    "    * `order` (default = `\"K\"`): specifies memory layout:\n",
    "        * `\"C\"` = C-style row-major order\n",
    "        * `\"F\"` = Fortran-style column-major order\n",
    "    * `like`: reference obj to allow creation of arrays that are not numpy arrays\n"
   ]
  },
  {
   "cell_type": "code",
   "execution_count": 40,
   "metadata": {
    "ExecuteTime": {
     "end_time": "2025-02-22T13:05:15.717391Z",
     "start_time": "2025-02-22T13:05:15.711131Z"
    },
    "colab": {
     "base_uri": "https://localhost:8080/"
    },
    "executionInfo": {
     "elapsed": 11,
     "status": "ok",
     "timestamp": 1743368131454,
     "user": {
      "displayName": "Pacurar Sebastian",
      "userId": "15686393619609976384"
     },
     "user_tz": -180
    },
    "id": "cFHz1D4_jX87",
    "outputId": "965b464b-fa2c-4b4f-8a15-8e9612a38df9"
   },
   "outputs": [
    {
     "data": {
      "text/plain": [
       "array([[0., 0., 0., 0.],\n",
       "       [0., 0., 0., 0.]])"
      ]
     },
     "execution_count": 40,
     "metadata": {},
     "output_type": "execute_result"
    }
   ],
   "source": [
    "np.zeros((2, 4))"
   ]
  },
  {
   "cell_type": "markdown",
   "metadata": {
    "id": "sWp1SRsaxMCT"
   },
   "source": [
    "<br><hr><br>"
   ]
  },
  {
   "cell_type": "markdown",
   "metadata": {
    "id": "c88ihE5dWSeJ"
   },
   "source": [
    "## np.ones()\n",
    "\n",
    "* Creates an array filled with ones\n",
    "* Syntax:\n",
    "```python\n",
    "np.ones(shape, dtype=float64, order=\"C\", *, like=None)\n",
    "```\n",
    "\n",
    "* Args:\n",
    "    * `shape` (required): the shape of the array\n",
    "    * `dtype` (default = `float64`): data type of the output array\n",
    "    * `order` (default = `\"K\"`): specifies memory layout:\n",
    "        * `\"C\"` = C-style row-major order\n",
    "        * `\"F\"` = Fortran-style column-major order\n",
    "    * `like`: reference obj to allow creation of arrays that are not numpy arrays"
   ]
  },
  {
   "cell_type": "code",
   "execution_count": 43,
   "metadata": {
    "ExecuteTime": {
     "end_time": "2025-02-22T13:05:15.817684Z",
     "start_time": "2025-02-22T13:05:15.809061Z"
    },
    "colab": {
     "base_uri": "https://localhost:8080/"
    },
    "executionInfo": {
     "elapsed": 47,
     "status": "ok",
     "timestamp": 1743368131503,
     "user": {
      "displayName": "Pacurar Sebastian",
      "userId": "15686393619609976384"
     },
     "user_tz": -180
    },
    "id": "alE2bn5djYQH",
    "outputId": "0d7e5254-da57-4864-f4c0-922e86bd6614"
   },
   "outputs": [
    {
     "data": {
      "text/plain": [
       "array([[1., 1.],\n",
       "       [1., 1.],\n",
       "       [1., 1.],\n",
       "       [1., 1.]])"
      ]
     },
     "execution_count": 43,
     "metadata": {},
     "output_type": "execute_result"
    }
   ],
   "source": [
    "np.ones((4, 2))"
   ]
  },
  {
   "cell_type": "markdown",
   "metadata": {
    "id": "VQXi_OKfxbT7"
   },
   "source": [
    "<br><hr><br>"
   ]
  },
  {
   "cell_type": "markdown",
   "metadata": {
    "id": "3z7bo1042FHF"
   },
   "source": [
    "## np.full()\n",
    "\n",
    "* Creates an array filled with a constant value\n",
    "* Syntax:\n",
    "```python\n",
    "np.full(shape, fill_value, dtype=None, *, order=\"C\", like=None)\n",
    "```\n",
    "\n",
    "* Args:\n",
    "    * `shape`: shape of the output array(ex: `(3, 3)`, `(10,)`)\n",
    "    * `fill_value`: the constant value to fill the array with\n",
    "    * `dtype` (default = `None`):\n",
    "        * `None` = infers type from `fill_value`\n",
    "    * `order` (default = `\"K\"`): specifies memory layout:\n",
    "        * `\"C\"` = C-style row-major order\n",
    "        * `\"F\"` = Fortran-style column-major order\n",
    "    * `like`: reference obj to allow creation of arrays that are not numpy arrays"
   ]
  },
  {
   "cell_type": "code",
   "execution_count": 46,
   "metadata": {
    "colab": {
     "base_uri": "https://localhost:8080/",
     "height": 435
    },
    "executionInfo": {
     "elapsed": 136,
     "status": "ok",
     "timestamp": 1743368131640,
     "user": {
      "displayName": "Pacurar Sebastian",
      "userId": "15686393619609976384"
     },
     "user_tz": -180
    },
    "id": "kE9F2c3U2QOn",
    "outputId": "25595036-cc28-4b81-adef-267ac282f5d1"
   },
   "outputs": [
    {
     "data": {
      "image/png": "[encoded data removed]",
      "text/plain": [
       "<Figure size 640x480 with 1 Axes>"
      ]
     },
     "metadata": {},
     "output_type": "display_data"
    }
   ],
   "source": [
    "a = np.array([[1, 2, 3], [4, 5, 6], [7, 8, 9]])\n",
    "x = np.linspace(-1, 1, 100)\n",
    "\n",
    "constant = lambda x, a: np.full(x.shape, a)\n",
    "\n",
    "plt.plot(x, constant(x, a=1), lw=3, color=\"darkred\")\n",
    "plt.plot(x, constant(x, a=2), lw=3, color=\"darkgreen\")\n",
    "plt.plot(x, constant(x, a=3), lw=3, color=\"darkblue\")\n",
    "\n",
    "plt.grid(True, lw=0.5, color=\"0.8\")\n",
    "plt.ylim(top=4, bottom=0)\n",
    "plt.show()"
   ]
  },
  {
   "cell_type": "markdown",
   "metadata": {
    "id": "9gF2Ue-Ixuu6"
   },
   "source": [
    "<br><hr><br>"
   ]
  },
  {
   "cell_type": "markdown",
   "metadata": {
    "id": "8EE14AL4WUY1"
   },
   "source": [
    "## np.empty()\n",
    "\n",
    "* Creates an uninitialized array (values will be random/garbage)\n",
    "* Syntax:\n",
    "```python\n",
    "np.empty(shape, dtype=float64, order=\"C\", *, like=None)\n",
    "```\n",
    "\n",
    "* Args:\n",
    "    * `shape`: shape of the output array(ex: `(3, 3)`, `(10,)`)\n",
    "    * `fill_value`: the constant value to fill the array with\n",
    "    * `dtype` (default = `float64`): data type of the output array\n",
    "    * `order` (default = `\"K\"`): specifies memory layout:\n",
    "        * `\"C\"` = C-style row-major order\n",
    "        * `\"F\"` = Fortran-style column-major order\n",
    "    * `like`: reference obj to allow creation of arrays that are not numpy arrays\n"
   ]
  },
  {
   "cell_type": "code",
   "execution_count": 49,
   "metadata": {
    "ExecuteTime": {
     "end_time": "2025-02-22T13:05:15.896498Z",
     "start_time": "2025-02-22T13:05:15.891328Z"
    },
    "colab": {
     "base_uri": "https://localhost:8080/"
    },
    "executionInfo": {
     "elapsed": 68,
     "status": "ok",
     "timestamp": 1743368131711,
     "user": {
      "displayName": "Pacurar Sebastian",
      "userId": "15686393619609976384"
     },
     "user_tz": -180
    },
    "id": "tCwwA9eIjaFr",
    "outputId": "52070dc5-f18a-45bd-fa5e-308e402e01e0"
   },
   "outputs": [
    {
     "data": {
      "text/plain": [
       "array([[[1.10966630e-311, 2.81617418e-322, 0.00000000e+000],\n",
       "        [0.00000000e+000, 9.40396377e-038, 3.69776220e-062]],\n",
       "\n",
       "       [[6.50936631e-091, 7.49401239e-067, 1.52532831e-052],\n",
       "        [1.77674130e+160, 6.48224659e+170, 4.93432906e+257]]])"
      ]
     },
     "execution_count": 49,
     "metadata": {},
     "output_type": "execute_result"
    }
   ],
   "source": [
    "# return random values, based on memory\n",
    "# since returns unexpected results, use np.zeros() instead\n",
    "np.empty((2, 2, 3))"
   ]
  },
  {
   "cell_type": "markdown",
   "metadata": {
    "id": "poEoHjVa1hSv"
   },
   "source": [
    "<br><hr><br>"
   ]
  },
  {
   "cell_type": "markdown",
   "metadata": {
    "id": "gQtrzbQ-Wf2w"
   },
   "source": [
    "## np.view()\n",
    "\n",
    "* Creates a new view (reference) of the same data without copying\n",
    "* Modifying any of the arrays will affect the other, as long as the modifications are done at the element level\n",
    "* Modifying the structure (reshaping the view arr), does not affect the original array\n",
    "\n",
    "* Syntax:\n",
    "```python\n",
    "arr.view(dtype=None, type=None)\n",
    "```\n",
    "\n",
    "* Args:\n",
    "    * `dtype` (default = `None`): data type of the output array\n",
    "        * `None` = preserves type of target array\n",
    "    * `type` (default = `None`): type of the returned view\n",
    "        * `None` = returns type of target\n",
    "\n",
    "\n"
   ]
  },
  {
   "cell_type": "code",
   "execution_count": 52,
   "metadata": {
    "colab": {
     "base_uri": "https://localhost:8080/",
     "height": 139
    },
    "executionInfo": {
     "elapsed": 365,
     "status": "ok",
     "timestamp": 1743368132101,
     "user": {
      "displayName": "Pacurar Sebastian",
      "userId": "15686393619609976384"
     },
     "user_tz": -180
    },
    "id": "1HkF0j3qzau3",
    "outputId": "a27d9df4-b530-46cd-eada-3ea59c3fae89"
   },
   "outputs": [
    {
     "name": "stdout",
     "output_type": "stream",
     "text": [
      "original = [99  2  3]; view = [99  2  3]\n",
      "\n",
      "after reshaping 'view' to (-1, 1):\n"
     ]
    },
    {
     "data": {
      "text/plain": [
       "array([99,  2,  3])"
      ]
     },
     "metadata": {},
     "output_type": "display_data"
    },
    {
     "data": {
      "text/plain": [
       "array([[99],\n",
       "       [ 2],\n",
       "       [ 3]])"
      ]
     },
     "metadata": {},
     "output_type": "display_data"
    }
   ],
   "source": [
    "arr = np.array([1, 2, 3])\n",
    "view = arr.view()\n",
    "view[0] = 99\n",
    "print(f\"original = {arr}; view = {view}\\n\")\n",
    "\n",
    "view = view.reshape(-1, 1)\n",
    "print(\"after reshaping 'view' to (-1, 1):\")\n",
    "display(arr)\n",
    "display(view)"
   ]
  },
  {
   "cell_type": "markdown",
   "metadata": {
    "id": "uJlGOZBpWmZz"
   },
   "source": [
    "## np.copy()\n",
    "\n",
    "* Creates a new copy of the array (not a reference)\n",
    "* Modifying any of the arrays, will not affect the other (like deepcopy)\n",
    "\n",
    "* Syntax:\n",
    "```python\n",
    "arr.copy(order='K')\n",
    "```\n",
    "\n",
    "* Args:\n",
    "    * `order` (default = `\"K\"`): specifies memory layout:\n",
    "        * `\"C\"` = C-style row-major order\n",
    "        * `\"F\"` = Fortran-style column-major order\n",
    "        * `\"A\"` = preserve existing order\n",
    "        * `\"K\"` = keep original memory if possible\n"
   ]
  },
  {
   "cell_type": "code",
   "execution_count": 54,
   "metadata": {
    "colab": {
     "base_uri": "https://localhost:8080/"
    },
    "executionInfo": {
     "elapsed": 30,
     "status": "ok",
     "timestamp": 1743368132211,
     "user": {
      "displayName": "Pacurar Sebastian",
      "userId": "15686393619609976384"
     },
     "user_tz": -180
    },
    "id": "729-dSOTWoDv",
    "outputId": "4faa482b-1a3d-4715-fe78-04a80139f487"
   },
   "outputs": [
    {
     "name": "stdout",
     "output_type": "stream",
     "text": [
      "original = [1 2 3]; copy = [1 2 3]\n",
      "\n",
      "after Changing copy array:\n",
      "original = [1 2 3]; copy = [1 0 3]\n"
     ]
    }
   ],
   "source": [
    "arr = np.array([1, 2, 3])\n",
    "\n",
    "my_copy = arr.copy()  # acts as python deepcopy()\n",
    "print(f\"original = {arr}; copy = {my_copy}\\n\")\n",
    "\n",
    "my_copy[1] = 0\n",
    "print(f\"after Changing copy array:\\noriginal = {arr}; copy = {my_copy}\")"
   ]
  },
  {
   "cell_type": "markdown",
   "metadata": {
    "id": "mQ2Fb8H81kj1"
   },
   "source": [
    "<br><hr><hr><br>"
   ]
  },
  {
   "cell_type": "markdown",
   "metadata": {
    "id": "a9ebZcHFf0fK"
   },
   "source": [
    "# Random (no distributions)"
   ]
  },
  {
   "cell_type": "markdown",
   "metadata": {
    "id": "De_MygCIaeec"
   },
   "source": [
    "## Overview\n",
    "\n",
    "<table>\n",
    "    <tbody>\n",
    "        <tr>\n",
    "        <th><strong>Function</strong></th>\n",
    "        <th><strong>Purpose</strong></th>\n",
    "    </tr>\n",
    "    <tr>\n",
    "        <td><strong>rand()</strong></td>\n",
    "        <td>Generate uniform random numbers between 0 and 1</td>\n",
    "    </tr>\n",
    "    <tr>\n",
    "        <td><strong>random()</strong></td>\n",
    "        <td>Generate uniform random numbers between 0 and 1</td>\n",
    "    </tr>\n",
    "    <tr>\n",
    "        <td><strong>randint()</strong></td>\n",
    "        <td>Generate random integers within a given range</td>\n",
    "    </tr>\n",
    "    <tr>\n",
    "        <td><strong>choice()</strong></td>\n",
    "        <td>Randomly select an element from a given array</td>\n",
    "    </tr>\n",
    "    <tr>\n",
    "        <td><strong>shuffle()</strong></td>\n",
    "        <td>Randomly shuffle elements of an array in place</td>\n",
    "    </tr>\n",
    "    <tr>\n",
    "        <td><strong>permutation()</strong></td>\n",
    "        <td>Generate a random permutation of array elements</td>\n",
    "    </tr>\n",
    "    <tr>\n",
    "        <td><strong>seed()</strong></td>\n",
    "        <td>Set the seed for reproducible random number generation</td>\n",
    "    </tr>\n",
    "    </tbody>\n",
    "</table>"
   ]
  },
  {
   "cell_type": "markdown",
   "metadata": {
    "id": "90Kw592APCRK"
   },
   "source": [
    "<br><hr><br>"
   ]
  },
  {
   "cell_type": "markdown",
   "metadata": {
    "id": "ZJdioitvgPT3"
   },
   "source": [
    "## random()\n",
    "\n",
    "* Generates random numbers from a uniform distribution between 0 and 1 (excluding 1)\n",
    "* Syntax:\n",
    "```python\n",
    "np.random.random(size=None)\n",
    "```\n",
    "\n",
    "* Args:\n",
    "    * `size` (default = `None`): shape of the array\n",
    "        * `None` = returns a single random float"
   ]
  },
  {
   "cell_type": "code",
   "execution_count": 60,
   "metadata": {
    "ExecuteTime": {
     "end_time": "2025-02-22T13:05:17.758484Z",
     "start_time": "2025-02-22T13:05:17.749438Z"
    },
    "colab": {
     "base_uri": "https://localhost:8080/",
     "height": 225
    },
    "executionInfo": {
     "elapsed": 101,
     "status": "ok",
     "timestamp": 1743368132365,
     "user": {
      "displayName": "Pacurar Sebastian",
      "userId": "15686393619609976384"
     },
     "user_tz": -180
    },
    "id": "3tfapaYks3Vo",
    "outputId": "d58d24e9-9c5f-439b-d814-b36fe689e2ae"
   },
   "outputs": [
    {
     "name": "stdout",
     "output_type": "stream",
     "text": [
      "0.8808364641511691\n"
     ]
    },
    {
     "data": {
      "text/plain": [
       "array([0.26104718, 0.15080167, 0.17368095, 0.15944758, 0.67189483])"
      ]
     },
     "metadata": {},
     "output_type": "display_data"
    },
    {
     "data": {
      "text/plain": [
       "array([[0.92286397, 0.47814579, 0.70441515],\n",
       "       [0.90045215, 0.48441729, 0.35510726],\n",
       "       [0.82839809, 0.40436912, 0.0283174 ]])"
      ]
     },
     "metadata": {},
     "output_type": "display_data"
    },
    {
     "data": {
      "text/plain": [
       "array([[[0.32193036, 0.78678704, 0.61048369, 0.59778718],\n",
       "        [0.87935837, 0.12561612, 0.80352155, 0.98548458],\n",
       "        [0.38484638, 0.36304496, 0.66370979, 0.03513187]],\n",
       "\n",
       "       [[0.12554887, 0.57398848, 0.96299937, 0.6494925 ],\n",
       "        [0.34126133, 0.39719638, 0.28053014, 0.07786435],\n",
       "        [0.30490327, 0.27673345, 0.24680371, 0.21347383]]])"
      ]
     },
     "metadata": {},
     "output_type": "display_data"
    }
   ],
   "source": [
    "# generate a single random float\n",
    "print(np.random.random())\n",
    "\n",
    "# generate a 1D array of 5 random numbers\n",
    "display(np.random.random((5,)))\n",
    "\n",
    "# generate a 3x3 matrix of random numbers\n",
    "display(np.random.random((3, 3)))\n",
    "\n",
    "# Generate a 2x3x4 array (3D)\n",
    "display(np.random.random((2, 3, 4)))"
   ]
  },
  {
   "cell_type": "markdown",
   "metadata": {
    "id": "jq8Woa20PBZi"
   },
   "source": [
    "<br><hr><br>"
   ]
  },
  {
   "cell_type": "markdown",
   "metadata": {
    "id": "iSUi-A4EgwM6"
   },
   "source": [
    "## randint()\n",
    "\n",
    "* Generates random integers within a specified range\n",
    "* Syntax:\n",
    "```python\n",
    "np.random.randint(low, high=None, size=None, dtype=int)\n",
    "```\n",
    "\n",
    "* Args:\n",
    "    * `low` (required): minimum inclusive int\n",
    "    * `high` (default = `None`): maximum (exclusive) int\n",
    "        * `None` = generates values from `0` to `low`\n",
    "    * `size` (default = `None`): shape of the array\n",
    "        * `None` = returns a single random int\n",
    "    * `dtype` (default = `int64`): data type of the output array"
   ]
  },
  {
   "cell_type": "code",
   "execution_count": 63,
   "metadata": {
    "ExecuteTime": {
     "end_time": "2025-02-22T13:05:17.836923Z",
     "start_time": "2025-02-22T13:05:17.828509Z"
    },
    "colab": {
     "base_uri": "https://localhost:8080/",
     "height": 104
    },
    "executionInfo": {
     "elapsed": 390,
     "status": "ok",
     "timestamp": 1743368132756,
     "user": {
      "displayName": "Pacurar Sebastian",
      "userId": "15686393619609976384"
     },
     "user_tz": -180
    },
    "id": "UEAF3CqYhY7h",
    "outputId": "fc7d03e8-1044-4161-e7d3-47138097e7d2"
   },
   "outputs": [
    {
     "data": {
      "text/plain": [
       "12"
      ]
     },
     "metadata": {},
     "output_type": "display_data"
    },
    {
     "data": {
      "text/plain": [
       "array([13, 92, 42, 57, 47])"
      ]
     },
     "metadata": {},
     "output_type": "display_data"
    },
    {
     "data": {
      "text/plain": [
       "array([[7, 7, 9],\n",
       "       [2, 6, 7],\n",
       "       [9, 2, 2]], dtype=int8)"
      ]
     },
     "metadata": {},
     "output_type": "display_data"
    }
   ],
   "source": [
    "# generate a single random ints between 10 and 50\n",
    "display(np.random.randint(low=10, high=50))\n",
    "\n",
    "# generate a 1D array of 5 random ints between 0 and 100\n",
    "display(np.random.randint(low=0, high=100, size=5))\n",
    "\n",
    "# generate a 3x3 matrix of random ints between 1 and 10 of type int8\n",
    "display(np.random.randint(low=1, high=10, size=(3, 3), dtype=np.int8))"
   ]
  },
  {
   "cell_type": "markdown",
   "metadata": {
    "id": "Vsa0xYnmPAZ5"
   },
   "source": [
    "<br><hr><br>"
   ]
  },
  {
   "cell_type": "markdown",
   "metadata": {
    "id": "AP12UULXmkm5"
   },
   "source": [
    "## choice()\n",
    "\n",
    "* Randomly selects elements from a given array or range\n",
    "* Syntax:\n",
    "```python\n",
    "np.random.choice(a, size=None, replace=True, p=None)\n",
    "```\n",
    "\n",
    "* Args:\n",
    "    * `a` (required): input array\n",
    "    * `size` (default = `None`): number of samples to pick\n",
    "        * `None` = a single sample\n",
    "    * `replace` (default = `True`):\n",
    "        * `True` = elements can be selected multiple times (with replacement)\n",
    "        * `False` = each element can only be selected once (without replacement)\n",
    "    * `p` (default = `None`): probability distribution of elements being chosen\n",
    "        * `None` = each element in `a` has an equal probability of being selected\n",
    "        * array of probabilities = sum of elements must be 1\n",
    "        \n"
   ]
  },
  {
   "cell_type": "code",
   "execution_count": 66,
   "metadata": {
    "ExecuteTime": {
     "end_time": "2025-02-22T13:05:17.925454Z",
     "start_time": "2025-02-22T13:05:17.918197Z"
    },
    "colab": {
     "base_uri": "https://localhost:8080/",
     "height": 69
    },
    "executionInfo": {
     "elapsed": 121,
     "status": "ok",
     "timestamp": 1743368132879,
     "user": {
      "displayName": "Pacurar Sebastian",
      "userId": "15686393619609976384"
     },
     "user_tz": -180
    },
    "id": "JsfdcGw0msJR",
    "outputId": "4cb21db9-52bf-4717-88bf-6e96d621759a"
   },
   "outputs": [
    {
     "name": "stdout",
     "output_type": "stream",
     "text": [
      "40\n"
     ]
    },
    {
     "data": {
      "text/plain": [
       "array([20, 40, 50, 30, 50, 40, 10, 10, 30, 40])"
      ]
     },
     "metadata": {},
     "output_type": "display_data"
    },
    {
     "data": {
      "text/plain": [
       "array([10, 30, 40, 20, 50])"
      ]
     },
     "metadata": {},
     "output_type": "display_data"
    }
   ],
   "source": [
    "# randomly select one element from the list\n",
    "print(np.random.choice(a=[10, 20, 30, 40, 50]))\n",
    "\n",
    "# generate an array of 10 random choices (with replacement)\n",
    "display(np.random.choice(a=[10, 20, 30, 40, 50], size=10))\n",
    "\n",
    "# generate an array of 5 unique choices (without replacement)\n",
    "display(np.random.choice(a=[10, 20, 30, 40, 50], size=5, replace=False))  # this will generate all the numbers of a, but in a different order"
   ]
  },
  {
   "cell_type": "code",
   "execution_count": 67,
   "metadata": {
    "ExecuteTime": {
     "end_time": "2025-02-22T13:05:18.002282Z",
     "start_time": "2025-02-22T13:05:17.992434Z"
    },
    "colab": {
     "base_uri": "https://localhost:8080/",
     "height": 69
    },
    "executionInfo": {
     "elapsed": 33,
     "status": "ok",
     "timestamp": 1743368132916,
     "user": {
      "displayName": "Pacurar Sebastian",
      "userId": "15686393619609976384"
     },
     "user_tz": -180
    },
    "id": "Ow5R62s8rTGJ",
    "outputId": "0235d0b1-d52a-4732-9c9c-a9be50d56da0"
   },
   "outputs": [
    {
     "name": "stdout",
     "output_type": "stream",
     "text": [
      "10\n"
     ]
    },
    {
     "data": {
      "text/plain": [
       "array([40, 40, 30, 40, 20, 10, 50, 40, 30, 40])"
      ]
     },
     "metadata": {},
     "output_type": "display_data"
    },
    {
     "data": {
      "text/plain": [
       "array([30, 40, 10, 50, 20])"
      ]
     },
     "metadata": {},
     "output_type": "display_data"
    }
   ],
   "source": [
    "# example with probabilities using 'p' parameter\n",
    "elements = [10, 20, 30, 40, 50]\n",
    "\n",
    "# probabilities assigned to each element. sum of list must be equal to 1\n",
    "probabilities = [0.1, 0.2, 0.4, 0.2, 0.1]\n",
    "\n",
    "# randomly select one element with given probabilities\n",
    "print(np.random.choice(a=elements, p=probabilities))\n",
    "\n",
    "# generate an array of 10 random choices (with replacement)\n",
    "display(np.random.choice(a=elements, size=10, p=probabilities))\n",
    "\n",
    "# generate an array of 5 unique choices (without replacement)\n",
    "#  if \"replace\" is False, \"p\" is ignored because each element can only be selected once.\n",
    "display(np.random.choice(a=elements, size=5, replace=False))"
   ]
  },
  {
   "cell_type": "code",
   "execution_count": 68,
   "metadata": {
    "colab": {
     "base_uri": "https://localhost:8080/"
    },
    "executionInfo": {
     "elapsed": 37,
     "status": "ok",
     "timestamp": 1743368132956,
     "user": {
      "displayName": "Pacurar Sebastian",
      "userId": "15686393619609976384"
     },
     "user_tz": -180
    },
    "id": "jMg6da-PMlkj",
    "outputId": "20be71fc-50c9-4c5f-dbf4-6463f2ed1ea7"
   },
   "outputs": [
    {
     "name": "stdout",
     "output_type": "stream",
     "text": [
      "[1 3 3]\n"
     ]
    }
   ],
   "source": [
    "# select 3 random elements WITH replacement\n",
    "arr = np.array([1, 2, 3, 4, 5])\n",
    "\n",
    "random_samples = np.random.choice(arr, size=3, replace=True)\n",
    "print(random_samples)  # elemets can repeat, example: [2 2 5]"
   ]
  },
  {
   "cell_type": "code",
   "execution_count": 69,
   "metadata": {
    "colab": {
     "base_uri": "https://localhost:8080/"
    },
    "executionInfo": {
     "elapsed": 68,
     "status": "ok",
     "timestamp": 1743368133026,
     "user": {
      "displayName": "Pacurar Sebastian",
      "userId": "15686393619609976384"
     },
     "user_tz": -180
    },
    "id": "B3RyUjbyMq0D",
    "outputId": "4a3a9041-3472-4e72-c504-099a4f9cbe1a"
   },
   "outputs": [
    {
     "name": "stdout",
     "output_type": "stream",
     "text": [
      "[1 5 3]\n"
     ]
    }
   ],
   "source": [
    "# select 3 random elements WITHout replacement\n",
    "arr = np.array([1, 2, 3, 4, 5])\n",
    "\n",
    "random_samples = np.random.choice(arr, size=3, replace=False)\n",
    "print(random_samples)  # unique random selections"
   ]
  },
  {
   "cell_type": "markdown",
   "metadata": {
    "id": "QDewJmC3O9Bj"
   },
   "source": [
    "<br><hr><br>"
   ]
  },
  {
   "cell_type": "markdown",
   "metadata": {
    "id": "pOwWoO3InWy4"
   },
   "source": [
    "## shuffle()\n",
    "\n",
    "* Shuffles an array in place (modifies the original array)\n",
    "* Syntax:\n",
    "```python\n",
    "np.random.shuffle(arr)\n",
    "```\n",
    "\n",
    "* Args:\n",
    "    * `arr` (required): input array\n",
    "\n"
   ]
  },
  {
   "cell_type": "code",
   "execution_count": 72,
   "metadata": {
    "ExecuteTime": {
     "end_time": "2025-02-22T13:05:18.119674Z",
     "start_time": "2025-02-22T13:05:18.115126Z"
    },
    "colab": {
     "base_uri": "https://localhost:8080/"
    },
    "executionInfo": {
     "elapsed": 67,
     "status": "ok",
     "timestamp": 1743368133141,
     "user": {
      "displayName": "Pacurar Sebastian",
      "userId": "15686393619609976384"
     },
     "user_tz": -180
    },
    "id": "vLygs1agnfou",
    "outputId": "0b7da382-806b-4a46-d579-44a5a4610859"
   },
   "outputs": [
    {
     "name": "stdout",
     "output_type": "stream",
     "text": [
      "original array before shuffle: [1 2 3 4 5]\n",
      "original array after shuffle: [5 4 3 1 2]\n"
     ]
    }
   ],
   "source": [
    "arr = np.array([1, 2, 3, 4, 5])\n",
    "print(f\"original array before shuffle: {arr}\")\n",
    "\n",
    "np.random.shuffle(x=arr)\n",
    "print(f\"original array after shuffle: {arr}\")"
   ]
  },
  {
   "cell_type": "markdown",
   "metadata": {
    "id": "SxCVskp3PGEn"
   },
   "source": [
    "<br><hr><br>"
   ]
  },
  {
   "cell_type": "markdown",
   "metadata": {
    "id": "Mg8HVsXsnB-x"
   },
   "source": [
    "## permutation()\n",
    "\n",
    "* Creates a shuffled copy of an array or range (does not modify the original)\n",
    "* Syntax:\n",
    "```python\n",
    "np.random.permutation(x)\n",
    "```\n",
    "\n",
    "* Args:\n",
    "    * `x` (required): input array"
   ]
  },
  {
   "cell_type": "code",
   "execution_count": 75,
   "metadata": {
    "ExecuteTime": {
     "end_time": "2025-02-22T13:05:18.168057Z",
     "start_time": "2025-02-22T13:05:18.158857Z"
    },
    "colab": {
     "base_uri": "https://localhost:8080/",
     "height": 121
    },
    "executionInfo": {
     "elapsed": 433,
     "status": "ok",
     "timestamp": 1743368133664,
     "user": {
      "displayName": "Pacurar Sebastian",
      "userId": "15686393619609976384"
     },
     "user_tz": -180
    },
    "id": "YfJOA4CBnHYh",
    "outputId": "3491b368-0247-4d96-8b88-21d85c826826"
   },
   "outputs": [
    {
     "name": "stdout",
     "output_type": "stream",
     "text": [
      "Original array: [1 2 3 4 5]\n"
     ]
    },
    {
     "data": {
      "text/plain": [
       "array([5, 1, 4, 3, 2])"
      ]
     },
     "metadata": {},
     "output_type": "display_data"
    },
    {
     "data": {
      "text/plain": [
       "array([5, 1, 4, 3, 2])"
      ]
     },
     "metadata": {},
     "output_type": "display_data"
    },
    {
     "data": {
      "text/plain": [
       "array([4, 5, 2, 3, 1])"
      ]
     },
     "metadata": {},
     "output_type": "display_data"
    },
    {
     "data": {
      "text/plain": [
       "array([4, 3, 1, 5, 2])"
      ]
     },
     "metadata": {},
     "output_type": "display_data"
    },
    {
     "data": {
      "text/plain": [
       "array([3, 2, 1, 4, 5])"
      ]
     },
     "metadata": {},
     "output_type": "display_data"
    }
   ],
   "source": [
    "arr = np.array([1, 2, 3, 4, 5])\n",
    "print(f\"Original array: {arr}\")\n",
    "\n",
    "# return 5 copies of the array with items shuffled\n",
    "for i in range(5):\n",
    "    display(np.random.permutation(x=arr))"
   ]
  },
  {
   "cell_type": "markdown",
   "metadata": {
    "id": "HapkXMkePn2D"
   },
   "source": [
    "<br><hr><br>"
   ]
  },
  {
   "cell_type": "markdown",
   "metadata": {
    "id": "hC4COoRO1jUR"
   },
   "source": [
    "## seed()\n",
    "\n",
    "* Sets the seed for the random number generator to ensure reproducibility\n",
    "* The same seed will always generate the same sequence of random numbers\n",
    "* Syntax:\n",
    "```python\n",
    "np.random.seed(seed)\n",
    "```\n",
    "\n",
    "* Args:\n",
    "    * `seed` (required): int value to set the seed"
   ]
  },
  {
   "cell_type": "code",
   "execution_count": 78,
   "metadata": {
    "ExecuteTime": {
     "end_time": "2025-02-22T13:05:18.228814Z",
     "start_time": "2025-02-22T13:05:18.218003Z"
    },
    "colab": {
     "base_uri": "https://localhost:8080/",
     "height": 104
    },
    "executionInfo": {
     "elapsed": 100,
     "status": "ok",
     "timestamp": 1743368133766,
     "user": {
      "displayName": "Pacurar Sebastian",
      "userId": "15686393619609976384"
     },
     "user_tz": -180
    },
    "id": "6rhKDZLE1oL1",
    "outputId": "20ffd838-dc45-4472-ab42-322896173ba0"
   },
   "outputs": [
    {
     "data": {
      "text/plain": [
       "0.7777024105738202"
      ]
     },
     "metadata": {},
     "output_type": "display_data"
    },
    {
     "data": {
      "text/plain": [
       "0.2375412200349123"
      ]
     },
     "metadata": {},
     "output_type": "display_data"
    },
    {
     "data": {
      "text/plain": [
       "0.8242785326613685"
      ]
     },
     "metadata": {},
     "output_type": "display_data"
    },
    {
     "data": {
      "text/plain": [
       "0.9657491980429997"
      ]
     },
     "metadata": {},
     "output_type": "display_data"
    },
    {
     "data": {
      "text/plain": [
       "0.9726011139048933"
      ]
     },
     "metadata": {},
     "output_type": "display_data"
    }
   ],
   "source": [
    "# set seed for the whole cell run. Note that this remains applied for the following cells\n",
    "np.random.seed(13)\n",
    "\n",
    "# generate 5 arrays with 3 random floats in it\n",
    "#  rerunning this cell will cause the exact same results as before\n",
    "for i in range(5):\n",
    "    display(np.random.rand())\n",
    "\n",
    "# reset to numpy default seed system, to prevent following notebooks get affected\n",
    "np.random.seed(None)"
   ]
  },
  {
   "cell_type": "markdown",
   "metadata": {
    "id": "pwTfqkKgVS6f"
   },
   "source": [
    "<br><hr><hr><br>"
   ]
  },
  {
   "cell_type": "markdown",
   "metadata": {
    "id": "Xf1elyxnutkF"
   },
   "source": [
    "# Element wise ops on 2 matrices"
   ]
  },
  {
   "cell_type": "markdown",
   "metadata": {
    "id": "OnEnXf84Lksz"
   },
   "source": [
    "<br><hr><br>"
   ]
  },
  {
   "cell_type": "markdown",
   "metadata": {
    "id": "-ODunhnoacvk"
   },
   "source": [
    "## Addition (+)"
   ]
  },
  {
   "cell_type": "code",
   "execution_count": 83,
   "metadata": {
    "ExecuteTime": {
     "end_time": "2025-02-22T13:05:49.715110Z",
     "start_time": "2025-02-22T13:05:49.709172Z"
    },
    "colab": {
     "base_uri": "https://localhost:8080/"
    },
    "executionInfo": {
     "elapsed": 14,
     "status": "ok",
     "timestamp": 1743368133822,
     "user": {
      "displayName": "Pacurar Sebastian",
      "userId": "15686393619609976384"
     },
     "user_tz": -180
    },
    "id": "fGxBKzI7sZb9",
    "outputId": "12ef3039-f80d-4bee-8112-9a7bdda4a28c"
   },
   "outputs": [
    {
     "data": {
      "text/plain": [
       "(array([[2, 2, 2],\n",
       "        [2, 2, 2],\n",
       "        [2, 2, 2]], dtype=uint8),\n",
       " array([[1, 2, 3],\n",
       "        [4, 5, 6],\n",
       "        [7, 8, 9]], dtype=uint8),\n",
       " array([[ 3,  4,  5],\n",
       "        [ 6,  7,  8],\n",
       "        [ 9, 10, 11]], dtype=uint8))"
      ]
     },
     "execution_count": 83,
     "metadata": {},
     "output_type": "execute_result"
    }
   ],
   "source": [
    "a = np.zeros((3, 3), dtype=np.uint8)\n",
    "a.fill(2)\n",
    "b = np.array([[1, 2, 3], [4, 5, 6], [7, 8, 9]], dtype=np.uint8)\n",
    "add_ops = a + b\n",
    "\n",
    "a, b, add_ops"
   ]
  },
  {
   "cell_type": "markdown",
   "metadata": {
    "id": "dIZ60uueLoQe"
   },
   "source": [
    "<br><hr><br>"
   ]
  },
  {
   "cell_type": "markdown",
   "metadata": {
    "id": "HMJsAq8xajMe"
   },
   "source": [
    "## Division (/)"
   ]
  },
  {
   "cell_type": "code",
   "execution_count": 86,
   "metadata": {
    "colab": {
     "base_uri": "https://localhost:8080/"
    },
    "executionInfo": {
     "elapsed": 52,
     "status": "ok",
     "timestamp": 1743368133875,
     "user": {
      "displayName": "Pacurar Sebastian",
      "userId": "15686393619609976384"
     },
     "user_tz": -180
    },
    "id": "cgaGoY1HalRM",
    "outputId": "b2c962da-12bd-4369-e5f6-d759d7665201"
   },
   "outputs": [
    {
     "data": {
      "text/plain": [
       "(array([[2, 2, 2],\n",
       "        [2, 2, 2],\n",
       "        [2, 2, 2]], dtype=uint8),\n",
       " array([[1, 2, 3],\n",
       "        [4, 5, 6],\n",
       "        [7, 8, 9]], dtype=uint8),\n",
       " array([[2.        , 1.        , 0.66666667],\n",
       "        [0.5       , 0.4       , 0.33333333],\n",
       "        [0.28571429, 0.25      , 0.22222222]]),\n",
       " array([[0.5, 1. , 1.5],\n",
       "        [2. , 2.5, 3. ],\n",
       "        [3.5, 4. , 4.5]]))"
      ]
     },
     "execution_count": 86,
     "metadata": {},
     "output_type": "execute_result"
    }
   ],
   "source": [
    "# using floor division operator. output is in int\n",
    "a = np.zeros((3, 3), dtype=np.uint8)\n",
    "a.fill(2)\n",
    "b = np.array([[1, 2, 3], [4, 5, 6], [7, 8, 9]], dtype=np.uint8)\n",
    "\n",
    "division_1 = a / b  # this returns floats\n",
    "division_2 = b / a  # this returns floats\n",
    "\n",
    "a, b, division_1, division_2"
   ]
  },
  {
   "cell_type": "markdown",
   "metadata": {
    "id": "m7oxhTXCLpF7"
   },
   "source": [
    "<br><hr><br>"
   ]
  },
  {
   "cell_type": "markdown",
   "metadata": {
    "id": "4Z7TpA98ZexH"
   },
   "source": [
    "## Floor Division (//)"
   ]
  },
  {
   "cell_type": "code",
   "execution_count": 89,
   "metadata": {
    "colab": {
     "base_uri": "https://localhost:8080/"
    },
    "executionInfo": {
     "elapsed": 103,
     "status": "ok",
     "timestamp": 1743368134043,
     "user": {
      "displayName": "Pacurar Sebastian",
      "userId": "15686393619609976384"
     },
     "user_tz": -180
    },
    "id": "fdBeLMp6ZhsS",
    "outputId": "a487db39-d3da-4bb8-90a5-8471fd2d4ae2"
   },
   "outputs": [
    {
     "data": {
      "text/plain": [
       "(array([[2, 2, 2],\n",
       "        [2, 2, 2],\n",
       "        [2, 2, 2]], dtype=uint8),\n",
       " array([[1, 2, 3],\n",
       "        [4, 5, 6],\n",
       "        [7, 8, 9]], dtype=uint8),\n",
       " array([[2, 1, 0],\n",
       "        [0, 0, 0],\n",
       "        [0, 0, 0]], dtype=uint8),\n",
       " array([[0, 1, 1],\n",
       "        [2, 2, 3],\n",
       "        [3, 4, 4]], dtype=uint8))"
      ]
     },
     "execution_count": 89,
     "metadata": {},
     "output_type": "execute_result"
    }
   ],
   "source": [
    "# using floor division operator. output is in int\n",
    "a = np.zeros((3, 3), dtype=np.uint8)\n",
    "a.fill(2)\n",
    "b = np.array([[1, 2, 3], [4, 5, 6], [7, 8, 9]], dtype=np.uint8)\n",
    "\n",
    "floor_1 = a // b  # this returns ints\n",
    "floor_2 = b // a  # this returns ints\n",
    "\n",
    "a, b, floor_1, floor_2"
   ]
  },
  {
   "cell_type": "markdown",
   "metadata": {
    "id": "GDd2gbAmLp6o"
   },
   "source": [
    "<br><hr><br>"
   ]
  },
  {
   "cell_type": "markdown",
   "metadata": {
    "id": "V4cdqzC4wU_T"
   },
   "source": [
    "## Modulo (%)"
   ]
  },
  {
   "cell_type": "code",
   "execution_count": 92,
   "metadata": {
    "ExecuteTime": {
     "end_time": "2025-02-22T13:05:49.729752Z",
     "start_time": "2025-02-22T13:05:49.724161Z"
    },
    "colab": {
     "base_uri": "https://localhost:8080/"
    },
    "executionInfo": {
     "elapsed": 111,
     "status": "ok",
     "timestamp": 1743368134158,
     "user": {
      "displayName": "Pacurar Sebastian",
      "userId": "15686393619609976384"
     },
     "user_tz": -180
    },
    "id": "x7XpOAjyvADu",
    "outputId": "a8d17c3a-ce13-4b0a-fe06-68cb2dbb2276"
   },
   "outputs": [
    {
     "data": {
      "text/plain": [
       "(array([[2, 2, 2],\n",
       "        [2, 2, 2],\n",
       "        [2, 2, 2]], dtype=uint8),\n",
       " array([[1, 2, 3],\n",
       "        [4, 5, 6],\n",
       "        [7, 8, 9]], dtype=uint8),\n",
       " array([[0, 0, 2],\n",
       "        [2, 2, 2],\n",
       "        [2, 2, 2]], dtype=uint8),\n",
       " array([[1, 0, 1],\n",
       "        [0, 1, 0],\n",
       "        [1, 0, 1]], dtype=uint8))"
      ]
     },
     "execution_count": 92,
     "metadata": {},
     "output_type": "execute_result"
    }
   ],
   "source": [
    "a = np.zeros((3, 3), dtype=np.uint8)\n",
    "a.fill(2)\n",
    "b = np.array([[1, 2, 3], [4, 5, 6], [7, 8, 9]], dtype=np.uint8)\n",
    "\n",
    "a_mod_b = a % b\n",
    "b_mod_a = b % a\n",
    "\n",
    "a, b, a_mod_b, b_mod_a"
   ]
  },
  {
   "cell_type": "markdown",
   "metadata": {
    "id": "xUcuXjOkLqnG"
   },
   "source": [
    "<br><hr><br>"
   ]
  },
  {
   "cell_type": "markdown",
   "metadata": {
    "id": "o6xCpSjDXVkR"
   },
   "source": [
    "## Product (*)"
   ]
  },
  {
   "cell_type": "code",
   "execution_count": 95,
   "metadata": {
    "ExecuteTime": {
     "end_time": "2025-02-22T13:05:50.347702Z",
     "start_time": "2025-02-22T13:05:50.342166Z"
    },
    "colab": {
     "base_uri": "https://localhost:8080/"
    },
    "executionInfo": {
     "elapsed": 139,
     "status": "ok",
     "timestamp": 1743368134350,
     "user": {
      "displayName": "Pacurar Sebastian",
      "userId": "15686393619609976384"
     },
     "user_tz": -180
    },
    "id": "l7rSTHRKy-sj",
    "outputId": "27120782-c10e-426c-aee4-013ff6c0fbf1"
   },
   "outputs": [
    {
     "data": {
      "text/plain": [
       "array([[ 2,  4,  6],\n",
       "       [ 8, 10, 12],\n",
       "       [14, 16, 18]], dtype=uint8)"
      ]
     },
     "execution_count": 95,
     "metadata": {},
     "output_type": "execute_result"
    }
   ],
   "source": [
    "# using element wise multiplication: a * b\n",
    "a = np.zeros((3, 3), dtype=np.uint8)\n",
    "a.fill(2)\n",
    "b = np.array([[1, 2, 3], [4, 5, 6], [7, 8, 9]], dtype=np.uint8)\n",
    "\n",
    "a * b"
   ]
  },
  {
   "cell_type": "markdown",
   "metadata": {
    "id": "noDmSO0IVRuz"
   },
   "source": [
    "<br><hr><hr><br>"
   ]
  },
  {
   "cell_type": "markdown",
   "metadata": {
    "id": "rYkPoC8vy8ST"
   },
   "source": [
    "# Matrix Multiplication\n",
    "\n",
    "<table>\n",
    "    <tr>\n",
    "        <th>Feature</th>\n",
    "        <th>np.dot()</th>\n",
    "        <th>np.matmul()</th>\n",
    "    </tr>\n",
    "    <tr>\n",
    "        <td><b>1D × 1D Behavior</b></td>\n",
    "        <td>Returns a <b>scalar</b> (dot product)</td>\n",
    "        <td>Returns a <b>scalar</b> (dot product)</td>\n",
    "    </tr>\n",
    "    <tr>\n",
    "        <td><b>2D × 2D Behavior</b></td>\n",
    "        <td>Matrix multiplication</td>\n",
    "        <td>Matrix multiplication</td>\n",
    "    </tr>\n",
    "    <tr>\n",
    "        <td><b>N-Dimensional Behavior</b></td>\n",
    "        <td>Contracts last axis of <code>a</code> with second-last of <code>b</code></td>\n",
    "        <td>Treats last two axes as matrices</td>\n",
    "    </tr>\n",
    "    <tr>\n",
    "        <td><b>Broadcasting</b></td>\n",
    "        <td>No automatic broadcasting</td>\n",
    "        <td>Broadcasts batch dimensions</td>\n",
    "    </tr>\n",
    "</table>\n"
   ]
  },
  {
   "cell_type": "markdown",
   "metadata": {
    "id": "hZk6u4D68XMS"
   },
   "source": [
    "<br><hr><br>"
   ]
  },
  {
   "cell_type": "markdown",
   "metadata": {
    "id": "5YIQr6AIXbBy"
   },
   "source": [
    "## np.matmul()\n",
    "\n",
    "* Performs matrix multiplication (not element-wise)\n",
    "* Works on 1D, 2D and higher dimensional arrayws with broadcasting\n",
    "* Equivalent to the `@` operator in most cases\n",
    "* Syntax:\n",
    "```python\n",
    "np.matmul(a, b)\n",
    "```\n",
    "\n",
    "* Args:\n",
    "    * `a` (required): first input array\n",
    "    * `b` (required): second input array\n",
    "\n",
    "* Rules:\n",
    "    * If `a` and `b` are 1D, it computes the *dot product*\n",
    "    * If `a` and `b` are both 2D, it does standard *matrix multiplication*\n",
    "    * If `a` or `b` is N-dimenstional, it treats the last 2 axes as matrices"
   ]
  },
  {
   "cell_type": "code",
   "execution_count": 100,
   "metadata": {
    "colab": {
     "base_uri": "https://localhost:8080/"
    },
    "executionInfo": {
     "elapsed": 326,
     "status": "ok",
     "timestamp": 1743368134678,
     "user": {
      "displayName": "Pacurar Sebastian",
      "userId": "15686393619609976384"
     },
     "user_tz": -180
    },
    "id": "pxdLBFWEZTVP",
    "outputId": "e3d38266-f67b-43c4-f988-6c373c8c8c70"
   },
   "outputs": [
    {
     "name": "stdout",
     "output_type": "stream",
     "text": [
      "32\n"
     ]
    }
   ],
   "source": [
    "# example on 1D dimensions\n",
    "\n",
    "a = np.array([1, 2, 3])\n",
    "b = np.array([4, 5, 6])\n",
    "\n",
    "result = np.matmul(a, b)  # equivalent to np.dot(a, b)\n",
    "print(result)  # output: 32 (1*4 + 2*5 + 3*6)"
   ]
  },
  {
   "cell_type": "code",
   "execution_count": 101,
   "metadata": {
    "colab": {
     "base_uri": "https://localhost:8080/"
    },
    "executionInfo": {
     "elapsed": 27,
     "status": "ok",
     "timestamp": 1743368134992,
     "user": {
      "displayName": "Pacurar Sebastian",
      "userId": "15686393619609976384"
     },
     "user_tz": -180
    },
    "id": "vi21RKCXveJS",
    "outputId": "28dad1e0-a02a-44ff-e5b8-7a42562184c7"
   },
   "outputs": [
    {
     "name": "stdout",
     "output_type": "stream",
     "text": [
      "[[19 22]\n",
      " [43 50]]\n"
     ]
    }
   ],
   "source": [
    "# example on 2D dimensions\n",
    "\n",
    "a = np.array([[1, 2],\n",
    "              [3, 4]])\n",
    "\n",
    "b = np.array([[5, 6],\n",
    "              [7, 8]])\n",
    "\n",
    "result = np.matmul(a, b)  # rows of a are multiplied by columns of b\n",
    "print(result)"
   ]
  },
  {
   "cell_type": "code",
   "execution_count": 102,
   "metadata": {
    "colab": {
     "base_uri": "https://localhost:8080/"
    },
    "executionInfo": {
     "elapsed": 16,
     "status": "ok",
     "timestamp": 1743368135010,
     "user": {
      "displayName": "Pacurar Sebastian",
      "userId": "15686393619609976384"
     },
     "user_tz": -180
    },
    "id": "fvIHxsSXvvv9",
    "outputId": "45a5ea8a-5a6d-48cd-a062-d075898a280f"
   },
   "outputs": [
    {
     "name": "stdout",
     "output_type": "stream",
     "text": [
      "(2, 3, 5)\n"
     ]
    }
   ],
   "source": [
    "# example on n-dimensions\n",
    "\"\"\"\n",
    "    - The last two axes are treated as matrices: (3,4) × (4,5) -> (3,5)\n",
    "    - The first axis (2) represents batch size, so the operation is applied independently for each batch\n",
    "\"\"\"\n",
    "\n",
    "a = np.random.randint(1, 10, (2, 3, 4))  # shape: (2, 3, 4)\n",
    "b = np.random.randint(1, 10, (2, 4, 5))  # shape: (2, 4, 5)\n",
    "\n",
    "result = np.matmul(a, b)  # shape: (2, 3, 5)\n",
    "print(result.shape)  # output: (2, 3, 5)"
   ]
  },
  {
   "cell_type": "markdown",
   "metadata": {
    "id": "tmQJvYUV8ZQF"
   },
   "source": [
    "<br><hr><br>"
   ]
  },
  {
   "cell_type": "markdown",
   "metadata": {
    "id": "o_xhWmj3Xmu5"
   },
   "source": [
    "## element wise (@)\n",
    "\n",
    "* Shorthand for `np.matmul()` in most cases\n",
    "* Cannot handle sparse matrices, since it expects dense arrays (numpy `ndarray` objects) only, leading to an error being thrown"
   ]
  },
  {
   "cell_type": "code",
   "execution_count": 105,
   "metadata": {
    "colab": {
     "base_uri": "https://localhost:8080/"
    },
    "executionInfo": {
     "elapsed": 13,
     "status": "ok",
     "timestamp": 1743368135025,
     "user": {
      "displayName": "Pacurar Sebastian",
      "userId": "15686393619609976384"
     },
     "user_tz": -180
    },
    "id": "vM_8IOIi_xa-",
    "outputId": "a4390af2-e3ce-4a28-944d-3542ddb9cdb0"
   },
   "outputs": [
    {
     "name": "stdout",
     "output_type": "stream",
     "text": [
      "[[19 22]\n",
      " [43 50]]\n"
     ]
    }
   ],
   "source": [
    "a = np.array([[1, 2],\n",
    "              [3, 4]])\n",
    "\n",
    "b = np.array([[5, 6],\n",
    "              [7, 8]])\n",
    "\n",
    "result = a @ b  # rows of a are multiplied by columns of b\n",
    "print(result)"
   ]
  },
  {
   "cell_type": "markdown",
   "metadata": {
    "id": "b5k1WT86AY0L"
   },
   "source": [
    "<br><hr><br>"
   ]
  },
  {
   "cell_type": "markdown",
   "metadata": {
    "id": "jHHpNdJGXdrw"
   },
   "source": [
    "## np.dot()\n",
    "\n",
    "* Used for both dot product and matrix multiplication, but its behavior depends on the input dimensions\n",
    "* Unlike `np.matmul()`, it performs element-wise sum of products for arrays with more than two dimensions\n",
    "* Syntax:\n",
    "```python\n",
    "np.dot(a, b)\n",
    "```\n",
    "\n",
    "* Args:\n",
    "    * `a` (required): first input array\n",
    "    * `b` (required): second input array"
   ]
  },
  {
   "cell_type": "code",
   "execution_count": 108,
   "metadata": {
    "colab": {
     "base_uri": "https://localhost:8080/"
    },
    "executionInfo": {
     "elapsed": 17,
     "status": "ok",
     "timestamp": 1743368135044,
     "user": {
      "displayName": "Pacurar Sebastian",
      "userId": "15686393619609976384"
     },
     "user_tz": -180
    },
    "id": "TWK0L7t8ZT7Y",
    "outputId": "fcf7acaa-8696-4b57-b372-563327bbc5b9"
   },
   "outputs": [
    {
     "name": "stdout",
     "output_type": "stream",
     "text": [
      "32\n"
     ]
    }
   ],
   "source": [
    "# example with 1D dot product\n",
    "\n",
    "a = np.array([1, 2, 3])\n",
    "b = np.array([4, 5, 6])\n",
    "\n",
    "print(np.dot(a, b))  # output: 32  (1*4 + 2*5 + 3*6)"
   ]
  },
  {
   "cell_type": "code",
   "execution_count": 109,
   "metadata": {
    "colab": {
     "base_uri": "https://localhost:8080/"
    },
    "executionInfo": {
     "elapsed": 51,
     "status": "ok",
     "timestamp": 1743368135096,
     "user": {
      "displayName": "Pacurar Sebastian",
      "userId": "15686393619609976384"
     },
     "user_tz": -180
    },
    "id": "0svh5zVPA5X1",
    "outputId": "8ea76ff8-10de-4018-f878-4221cb366ec4"
   },
   "outputs": [
    {
     "name": "stdout",
     "output_type": "stream",
     "text": [
      "[[19 22]\n",
      " [43 50]]\n"
     ]
    }
   ],
   "source": [
    "# example with 2D matrix multiplication\n",
    "\n",
    "a = np.array([[1, 2],\n",
    "              [3, 4]])\n",
    "\n",
    "b = np.array([[5, 6],\n",
    "              [7, 8]])\n",
    "\n",
    "print(np.dot(a, b))"
   ]
  },
  {
   "cell_type": "code",
   "execution_count": 110,
   "metadata": {
    "colab": {
     "base_uri": "https://localhost:8080/"
    },
    "executionInfo": {
     "elapsed": 15,
     "status": "ok",
     "timestamp": 1743368135113,
     "user": {
      "displayName": "Pacurar Sebastian",
      "userId": "15686393619609976384"
     },
     "user_tz": -180
    },
    "id": "efri9zPMBjFk",
    "outputId": "62750c09-51a3-4d29-b303-472c6d5ff853"
   },
   "outputs": [
    {
     "name": "stdout",
     "output_type": "stream",
     "text": [
      "[[[[ 1  2]\n",
      "   [10 13]]\n",
      "\n",
      "  [[ 3  4]\n",
      "   [22 29]]]\n",
      "\n",
      "\n",
      " [[[ 5  6]\n",
      "   [34 45]]\n",
      "\n",
      "  [[ 7  8]\n",
      "   [46 61]]]]\n"
     ]
    }
   ],
   "source": [
    "# example with higher-dimensional case, sium product over last axis\n",
    "\n",
    "a = np.array([[[1, 2], [3, 4]],\n",
    "              [[5, 6], [7, 8]]])\n",
    "\n",
    "b = np.array([[[1, 0], [0, 1]],\n",
    "              [[2, 3], [4, 5]]])\n",
    "\n",
    "print(np.dot(a, b))"
   ]
  },
  {
   "cell_type": "markdown",
   "metadata": {
    "id": "qvnHrpaIVQme"
   },
   "source": [
    "<br><hr><hr><br>"
   ]
  },
  {
   "cell_type": "markdown",
   "metadata": {
    "id": "UOyyLyBPt_ep"
   },
   "source": [
    "# Transposition\n",
    "\n",
    "<table >\n",
    "    <thead>\n",
    "        <tr>\n",
    "            <th>Function</th>\n",
    "            <th>Purpose</th>\n",
    "            <th>Example Usage</th>\n",
    "            <th>Shape Change</th>\n",
    "        </tr>\n",
    "    </thead>\n",
    "    <tbody>\n",
    "        <tr>\n",
    "            <td>np.swapaxes()</td>\n",
    "            <td>Swap two specified axes of an array</td>\n",
    "            <td>np.swapaxes(arr, 0, 1)</td>\n",
    "            <td>Swaps axes 0 and 1</td>\n",
    "        </tr>\n",
    "        <tr>\n",
    "            <td>np.transpose()</td>\n",
    "            <td>Transposes an array (reverses axes or custom order)</td>\n",
    "            <td>np.transpose(arr)</td>\n",
    "            <td>Reverses axes by default or use custom axis order</td>\n",
    "        </tr>\n",
    "        <tr>\n",
    "            <td>.T</td>\n",
    "            <td>Shorthand for np.transpose()</td>\n",
    "            <td>arr.T</td>\n",
    "            <td>Transposes the array (rows <-> columns)</td>\n",
    "        </tr>\n",
    "    </tbody>\n",
    "</table>\n"
   ]
  },
  {
   "cell_type": "markdown",
   "metadata": {
    "id": "eK5NswtA8apm"
   },
   "source": [
    "<br><hr><br>"
   ]
  },
  {
   "cell_type": "markdown",
   "metadata": {
    "id": "PG2bjco4f7FV"
   },
   "source": [
    "## np.swapaxes()\n",
    "\n",
    "* Swaps 2 axes of an array. This function does not modify the original array, instead it returns a new one\n",
    "* Syntax:\n",
    "```python\n",
    "np.swapaxes(arr, axis1, axis2)\n",
    "```\n",
    "\n",
    "* Args:\n",
    "    * `arr` (required): input array to swap axes\n",
    "    * `axis1` (required): first axis to swap\n",
    "    * `axis2` (required): second axis to swap"
   ]
  },
  {
   "cell_type": "code",
   "execution_count": 115,
   "metadata": {
    "colab": {
     "base_uri": "https://localhost:8080/"
    },
    "executionInfo": {
     "elapsed": 69,
     "status": "ok",
     "timestamp": 1743368135185,
     "user": {
      "displayName": "Pacurar Sebastian",
      "userId": "15686393619609976384"
     },
     "user_tz": -180
    },
    "id": "xFmba0yLE5Rh",
    "outputId": "7f3117b7-78d1-4b32-c0b4-790c6a35c18b"
   },
   "outputs": [
    {
     "name": "stdout",
     "output_type": "stream",
     "text": [
      "[[1 4]\n",
      " [2 5]\n",
      " [3 6]]\n"
     ]
    }
   ],
   "source": [
    "# example with 2D axes\n",
    "\n",
    "arr = np.array([[1, 2, 3],\n",
    "                [4, 5, 6]])\n",
    "\n",
    "swapped = np.swapaxes(arr, 0, 1)  # Swap axis 0 (rows) with axis 1 (columns)\n",
    "print(swapped)"
   ]
  },
  {
   "cell_type": "code",
   "execution_count": 116,
   "metadata": {
    "colab": {
     "base_uri": "https://localhost:8080/"
    },
    "executionInfo": {
     "elapsed": 45,
     "status": "ok",
     "timestamp": 1743368135232,
     "user": {
      "displayName": "Pacurar Sebastian",
      "userId": "15686393619609976384"
     },
     "user_tz": -180
    },
    "id": "IvAcfDkUEhwo",
    "outputId": "d4559501-8c42-4cdb-f3b2-39885e78c26d"
   },
   "outputs": [
    {
     "name": "stdout",
     "output_type": "stream",
     "text": [
      "Array shape Before swap: (2, 3, 4)\n",
      "Array shape After swap: (2, 4, 3)\n"
     ]
    }
   ],
   "source": [
    "# example with 3D axes\n",
    "\n",
    "arr = np.random.rand(2, 3, 4)\n",
    "print(f\"Array shape Before swap: {arr.shape}\")\n",
    "\n",
    "# swap axes 1 and 2\n",
    "swapped = np.swapaxes(arr, 1, 2)\n",
    "print(f\"Array shape After swap: {swapped.shape}\")"
   ]
  },
  {
   "cell_type": "markdown",
   "metadata": {
    "id": "SRz6pmt98ev6"
   },
   "source": [
    "<br><hr><br>"
   ]
  },
  {
   "cell_type": "markdown",
   "metadata": {
    "id": "N7P2vTqBf_jS"
   },
   "source": [
    "## np.transpose()\n",
    "\n",
    "* Returns the transposition of an array, which is essentially swapping its axes\n",
    "* For 2D arrays, it's equivalent to flipping the array over its diagonal (example: swapping rows and columns)\n",
    "* Syntax:\n",
    "```python\n",
    "np.transpose(arr, axes=None)\n",
    "```\n",
    "\n",
    "* Args:\n",
    "    * `arr` (required): the input array to transpose\n",
    "    * `axes` (default = `None`): a tuple or list of axis integer\n",
    "        * `None` = reverses the dimensions of the array\n",
    "        * a tuple or list of axis integer = defines the new order of axes"
   ]
  },
  {
   "cell_type": "code",
   "execution_count": 119,
   "metadata": {
    "colab": {
     "base_uri": "https://localhost:8080/"
    },
    "executionInfo": {
     "elapsed": 27,
     "status": "ok",
     "timestamp": 1743368135261,
     "user": {
      "displayName": "Pacurar Sebastian",
      "userId": "15686393619609976384"
     },
     "user_tz": -180
    },
    "id": "_jk5hZo3FuwZ",
    "outputId": "4c6ef125-db9b-4acf-dd24-055d9a1383c2"
   },
   "outputs": [
    {
     "name": "stdout",
     "output_type": "stream",
     "text": [
      "initial array: \n",
      "[[1 2 3]\n",
      " [4 5 6]] \n",
      "\n",
      "transposed array: \n",
      "[[1 4]\n",
      " [2 5]\n",
      " [3 6]]\n",
      "\n"
     ]
    }
   ],
   "source": [
    "arr = np.array([[1, 2, 3],\n",
    "                [4, 5, 6]])\n",
    "\n",
    "print(f\"initial array: \\n{arr} \\n\")\n",
    "print(f\"transposed array: \\n{np.transpose(arr)}\\n\")"
   ]
  },
  {
   "cell_type": "code",
   "execution_count": 120,
   "metadata": {
    "colab": {
     "base_uri": "https://localhost:8080/"
    },
    "executionInfo": {
     "elapsed": 35,
     "status": "ok",
     "timestamp": 1743368135301,
     "user": {
      "displayName": "Pacurar Sebastian",
      "userId": "15686393619609976384"
     },
     "user_tz": -180
    },
    "id": "rmCbn-CnFxh4",
    "outputId": "d4810a6b-d71c-4cbb-91a3-ed72a61ad97c"
   },
   "outputs": [
    {
     "name": "stdout",
     "output_type": "stream",
     "text": [
      "(2, 2, 2)\n"
     ]
    }
   ],
   "source": [
    "arr = np.array([[[1, 2], [3, 4]],\n",
    "                [[5, 6], [7, 8]]])\n",
    "\n",
    "# swap axes 0 and 1\n",
    "transposed_custom = np.transpose(arr, (1, 0, 2))\n",
    "print(transposed_custom.shape)"
   ]
  },
  {
   "cell_type": "markdown",
   "metadata": {
    "id": "vsuuUNMw8fbm"
   },
   "source": [
    "<br><hr><br>"
   ]
  },
  {
   "cell_type": "markdown",
   "metadata": {
    "id": "nlZo8nbQgT5j"
   },
   "source": [
    "## arr.T\n",
    "\n",
    "* Mainly, same behavior as `np.transpose()`\n",
    "* It’s an attribute, so it only works for transposing in the default manner: flipping the first axis with the second\n",
    "* It cannot be used to swap non-adjacent axes\n",
    "    * `arr.T` is equivalent to `np.transpose(arr)` for 2D arrays, but doesn't allow custom axes for higher-dimensional arrays"
   ]
  },
  {
   "cell_type": "code",
   "execution_count": 123,
   "metadata": {
    "colab": {
     "base_uri": "https://localhost:8080/"
    },
    "executionInfo": {
     "elapsed": 21,
     "status": "ok",
     "timestamp": 1743368135326,
     "user": {
      "displayName": "Pacurar Sebastian",
      "userId": "15686393619609976384"
     },
     "user_tz": -180
    },
    "id": "VhW68fAmF8OY",
    "outputId": "eecc5a99-6a76-4517-9e53-2418fa2917c2"
   },
   "outputs": [
    {
     "name": "stdout",
     "output_type": "stream",
     "text": [
      "initial array: \n",
      "[[1 2 3]\n",
      " [4 5 6]] \n",
      "\n",
      "transposed array: \n",
      "[[1 4]\n",
      " [2 5]\n",
      " [3 6]]\n",
      "\n"
     ]
    }
   ],
   "source": [
    "arr = np.array([[1, 2, 3],\n",
    "                [4, 5, 6]])\n",
    "\n",
    "print(f\"initial array: \\n{arr} \\n\")\n",
    "print(f\"transposed array: \\n{arr.T}\\n\")"
   ]
  },
  {
   "cell_type": "markdown",
   "metadata": {
    "id": "Jw8I8ZOdVO1S"
   },
   "source": [
    "<br><hr><hr><br>"
   ]
  },
  {
   "cell_type": "markdown",
   "metadata": {
    "id": "01E8E68feiT3"
   },
   "source": [
    "# Array Search"
   ]
  },
  {
   "cell_type": "markdown",
   "metadata": {
    "id": "GWNoyufHzZXe"
   },
   "source": [
    "<br><hr><br>"
   ]
  },
  {
   "cell_type": "markdown",
   "metadata": {
    "id": "yAyXsQRGekn-"
   },
   "source": [
    "## np.where()\n",
    "\n",
    "* Returns the indices where a given `condition is True`, or selects elements based on a condition\n",
    "* Syntax:\n",
    "```python\n",
    "np.where(condition, x=None, y=None)\n",
    "```\n",
    "\n",
    "* Args:\n",
    "    * condition (required): boolean condition array\n",
    "    * `x` (default = `None`): values to return when condition is `True`\n",
    "    * `y` (default = `None`): values to return when condition is `False`"
   ]
  },
  {
   "cell_type": "code",
   "execution_count": 128,
   "metadata": {
    "colab": {
     "base_uri": "https://localhost:8080/"
    },
    "executionInfo": {
     "elapsed": 51,
     "status": "ok",
     "timestamp": 1743368135379,
     "user": {
      "displayName": "Pacurar Sebastian",
      "userId": "15686393619609976384"
     },
     "user_tz": -180
    },
    "id": "MCsLmu12yuhg",
    "outputId": "c85aaa1a-3c16-4800-94e1-b165c5363d27"
   },
   "outputs": [
    {
     "name": "stdout",
     "output_type": "stream",
     "text": [
      "(array([2, 3, 4], dtype=int64),)\n"
     ]
    }
   ],
   "source": [
    "arr = np.array([10, 20, 30, 40, 50])\n",
    "result = np.where(arr > 25)  # indices where condition is True\n",
    "print(result)"
   ]
  },
  {
   "cell_type": "code",
   "execution_count": 129,
   "metadata": {
    "colab": {
     "base_uri": "https://localhost:8080/"
    },
    "executionInfo": {
     "elapsed": 24,
     "status": "ok",
     "timestamp": 1743368135410,
     "user": {
      "displayName": "Pacurar Sebastian",
      "userId": "15686393619609976384"
     },
     "user_tz": -180
    },
    "id": "Xu8AjU1Kxbzp",
    "outputId": "707b52cc-97f9-4f8c-cac0-41fd77539770"
   },
   "outputs": [
    {
     "name": "stdout",
     "output_type": "stream",
     "text": [
      "[  0   0  60  80 100]\n"
     ]
    }
   ],
   "source": [
    "# replace values based on a condition\n",
    "arr = np.array([10, 20, 30, 40, 50])\n",
    "\n",
    "# if arr > 25, double the value; otherwise, set to 0\n",
    "result = np.where(arr > 25, arr * 2, 0)\n",
    "print(result)"
   ]
  },
  {
   "cell_type": "markdown",
   "metadata": {
    "id": "F6MAD1nJzdTw"
   },
   "source": [
    "<br><hr><br>"
   ]
  },
  {
   "cell_type": "markdown",
   "metadata": {
    "id": "-q-tSdzvXb1Z"
   },
   "source": [
    "## np.argmax()\n",
    "\n",
    "* Returns the index of the maximum value along a specified axis\n",
    "* Syntax:\n",
    "```python\n",
    "np.argmax(arr, axis=None)\n",
    "```\n",
    "\n",
    "* Args:\n",
    "    * `arr` (required): input array\n",
    "    * `axis` (default = `None`): axis along which to search\n",
    "        * `None` = flattened array"
   ]
  },
  {
   "cell_type": "code",
   "execution_count": 132,
   "metadata": {
    "colab": {
     "base_uri": "https://localhost:8080/"
    },
    "executionInfo": {
     "elapsed": 19,
     "status": "ok",
     "timestamp": 1743368135430,
     "user": {
      "displayName": "Pacurar Sebastian",
      "userId": "15686393619609976384"
     },
     "user_tz": -180
    },
    "id": "l6_IaRtVzN3L",
    "outputId": "e91865e6-84a8-44db-b1bb-dd20c5bc0efd"
   },
   "outputs": [
    {
     "name": "stdout",
     "output_type": "stream",
     "text": [
      "3\n"
     ]
    }
   ],
   "source": [
    "arr = np.array([10, 30, 20, 50, 40])\n",
    "print(np.argmax(arr))  # 3 (index of max value 50)"
   ]
  },
  {
   "cell_type": "code",
   "execution_count": 133,
   "metadata": {
    "colab": {
     "base_uri": "https://localhost:8080/"
    },
    "executionInfo": {
     "elapsed": 27,
     "status": "ok",
     "timestamp": 1743368135466,
     "user": {
      "displayName": "Pacurar Sebastian",
      "userId": "15686393619609976384"
     },
     "user_tz": -180
    },
    "id": "MUSD83qS4vvg",
    "outputId": "a5613db1-5145-4494-acf8-d3c10b9de2ac"
   },
   "outputs": [
    {
     "data": {
      "text/plain": [
       "array([2, 2, 2], dtype=int64)"
      ]
     },
     "execution_count": 133,
     "metadata": {},
     "output_type": "execute_result"
    }
   ],
   "source": [
    "# find index of max value along axis 0 (columns)\n",
    "arr = np.array([[1, 2, 3],\n",
    "                [4, 5, 6],\n",
    "                [7, 8, 9]])\n",
    "\n",
    "\"\"\"\n",
    "the maximum values in each column are found at index 2 (the 3rd row):\n",
    " - col 1: max is 7 at index 2\n",
    " - col 2: max is 8 at index 2\n",
    " - col 3: max is 9 at index 2\n",
    "\"\"\"\n",
    "\n",
    "np.argmax(arr, axis=0)"
   ]
  },
  {
   "cell_type": "code",
   "execution_count": 134,
   "metadata": {
    "colab": {
     "base_uri": "https://localhost:8080/"
    },
    "executionInfo": {
     "elapsed": 8,
     "status": "ok",
     "timestamp": 1743368135475,
     "user": {
      "displayName": "Pacurar Sebastian",
      "userId": "15686393619609976384"
     },
     "user_tz": -180
    },
    "id": "VqpCqY4b40kg",
    "outputId": "e44587b5-cbe9-49dd-bd5c-3542fa201cc1"
   },
   "outputs": [
    {
     "data": {
      "text/plain": [
       "array([2, 2, 2], dtype=int64)"
      ]
     },
     "execution_count": 134,
     "metadata": {},
     "output_type": "execute_result"
    }
   ],
   "source": [
    "# find index of max value along axis 1 (rows)\n",
    "arr = np.array([[1, 2, 3],\n",
    "                [4, 5, 6],\n",
    "                [7, 8, 9]])\n",
    "\n",
    "\"\"\"\n",
    "the maximum values in each row are at index 2 (the 3rd column):\n",
    " - row 1: max is 7 at index 2\n",
    " - row 2: max is 8 at index 2\n",
    " - row 3: max is 9 at index 2\n",
    "\"\"\"\n",
    "\n",
    "np.argmax(arr, axis=1)"
   ]
  },
  {
   "cell_type": "code",
   "execution_count": 135,
   "metadata": {
    "colab": {
     "base_uri": "https://localhost:8080/"
    },
    "executionInfo": {
     "elapsed": 14,
     "status": "ok",
     "timestamp": 1743368135530,
     "user": {
      "displayName": "Pacurar Sebastian",
      "userId": "15686393619609976384"
     },
     "user_tz": -180
    },
    "id": "GtTV-iFt7JCM",
    "outputId": "a4b065f3-126a-4a93-9dfa-50a89c387951"
   },
   "outputs": [
    {
     "name": "stdout",
     "output_type": "stream",
     "text": [
      "index of max val: \n",
      "11\n",
      "\n",
      "index of max vals along axis 0 (depth): \n",
      "[[2 2]\n",
      " [2 2]]\n",
      "\n"
     ]
    }
   ],
   "source": [
    "arr = np.array([[[1, 2], [3, 4]],\n",
    "                [[5, 6], [7, 8]],\n",
    "                [[9, 10], [11, 12]]])\n",
    "\n",
    "print(f\"index of max val: \\n{np.argmax(arr)}\\n\")  # find index of max value across all elements (flattened)\n",
    "print(f\"index of max vals along axis 0 (depth): \\n{np.argmax(arr, axis=0)}\\n\")  # find index of max value along axis 0 (depth)"
   ]
  },
  {
   "cell_type": "markdown",
   "metadata": {
    "id": "ehlh1Q-GzrXt"
   },
   "source": [
    "<br><hr><br>"
   ]
  },
  {
   "cell_type": "markdown",
   "metadata": {
    "id": "TMAmN0cnXd5o"
   },
   "source": [
    "## np.argmin()\n",
    "\n",
    "* Returns the index of the minimum value along a specified axis\n",
    "* Syntax:\n",
    "```python\n",
    "np.argmin(arr, axis=None)\n",
    "```\n",
    "\n",
    "* Args:\n",
    "    * `arr` (required): input array\n",
    "    * `axis` (default = `None`): axis along which to search\n",
    "        * `None` = flattened array"
   ]
  },
  {
   "cell_type": "code",
   "execution_count": 138,
   "metadata": {
    "colab": {
     "base_uri": "https://localhost:8080/"
    },
    "executionInfo": {
     "elapsed": 51,
     "status": "ok",
     "timestamp": 1743368135583,
     "user": {
      "displayName": "Pacurar Sebastian",
      "userId": "15686393619609976384"
     },
     "user_tz": -180
    },
    "id": "PPRcJXs2z5KA",
    "outputId": "9868e3c6-6842-493f-9ac3-1b2225c722c1"
   },
   "outputs": [
    {
     "name": "stdout",
     "output_type": "stream",
     "text": [
      "0\n"
     ]
    }
   ],
   "source": [
    "arr = np.array([10, 30, 20, 50, 40])\n",
    "print(np.argmin(arr))  # 0 (index of min value 10)"
   ]
  },
  {
   "cell_type": "code",
   "execution_count": 139,
   "metadata": {
    "colab": {
     "base_uri": "https://localhost:8080/"
    },
    "executionInfo": {
     "elapsed": 23,
     "status": "ok",
     "timestamp": 1743368135608,
     "user": {
      "displayName": "Pacurar Sebastian",
      "userId": "15686393619609976384"
     },
     "user_tz": -180
    },
    "id": "fyKAo00O51kp",
    "outputId": "9bbef4b5-586c-40c6-c6d8-3161b3b32ba1"
   },
   "outputs": [
    {
     "data": {
      "text/plain": [
       "array([1, 2, 2], dtype=int64)"
      ]
     },
     "execution_count": 139,
     "metadata": {},
     "output_type": "execute_result"
    }
   ],
   "source": [
    "# find index of min value along axis 0 (columns)\n",
    "arr = np.array([[10, 20, 30],\n",
    "                [5, 15, 25],\n",
    "                [7, 14, 21]])\n",
    "\n",
    "\"\"\"\n",
    "the minimum values in each column are found at index 1 (the 2nd row):\n",
    " - col 1: min is 5 at index 1\n",
    " - col 2: min is 15 at index 1\n",
    " - col 3: min is 25 at index 1\n",
    "\"\"\"\n",
    "\n",
    "np.argmin(arr, axis=0)"
   ]
  },
  {
   "cell_type": "code",
   "execution_count": 140,
   "metadata": {
    "colab": {
     "base_uri": "https://localhost:8080/"
    },
    "executionInfo": {
     "elapsed": 31,
     "status": "ok",
     "timestamp": 1743368135687,
     "user": {
      "displayName": "Pacurar Sebastian",
      "userId": "15686393619609976384"
     },
     "user_tz": -180
    },
    "id": "4-vYfz1-51dY",
    "outputId": "cc651571-217b-4734-d9cf-16212ade14bb"
   },
   "outputs": [
    {
     "data": {
      "text/plain": [
       "array([0, 0, 0], dtype=int64)"
      ]
     },
     "execution_count": 140,
     "metadata": {},
     "output_type": "execute_result"
    }
   ],
   "source": [
    "# find index of min value along axis 1 (rows)\n",
    "arr = np.array([[10, 20, 30],\n",
    "                [5, 15, 25],\n",
    "                [7, 14, 21]])\n",
    "\n",
    "\"\"\"\n",
    "the minimum values in each row are at index 0 (the 1st column):\n",
    " - row 1: min is 10 at index 0\n",
    " - row 2: min is 5 at index 0\n",
    " - row 3: min is 7 at index 0\n",
    "\"\"\"\n",
    "\n",
    "np.argmin(arr, axis=1)"
   ]
  },
  {
   "cell_type": "code",
   "execution_count": 141,
   "metadata": {
    "colab": {
     "base_uri": "https://localhost:8080/"
    },
    "executionInfo": {
     "elapsed": 37,
     "status": "ok",
     "timestamp": 1743368135726,
     "user": {
      "displayName": "Pacurar Sebastian",
      "userId": "15686393619609976384"
     },
     "user_tz": -180
    },
    "id": "FN7MxlUS7Kpi",
    "outputId": "10c42e8e-d9a3-4597-923a-6ba531d904fa"
   },
   "outputs": [
    {
     "name": "stdout",
     "output_type": "stream",
     "text": [
      "index of min value: 0\n",
      "\n",
      "min values along axis 0 (depth):\n",
      " [[0 0]\n",
      " [0 0]]\n"
     ]
    }
   ],
   "source": [
    "arr = np.array([[[1, 2], [3, 4]],\n",
    "                [[5, 6], [7, 8]],\n",
    "                [[9, 10], [11, 12]]])\n",
    "\n",
    "print(f\"index of min value: {np.argmin(arr)}\\n\")  # find index of max value across all elements (flattened)\n",
    "print(\"min values along axis 0 (depth):\\n\", np.argmin(arr, axis=0))  # find index of max value along axis 0 (depth)"
   ]
  },
  {
   "cell_type": "markdown",
   "metadata": {
    "id": "ito7Rnkz0tmA"
   },
   "source": [
    "<br><hr><br>"
   ]
  },
  {
   "cell_type": "markdown",
   "metadata": {
    "id": "8NtPrM3QXgmJ"
   },
   "source": [
    "## np.nonzero()\n",
    "\n",
    "* Returns the indices of nonzero elements\n",
    "* Syntax:\n",
    "```python\n",
    "np.nonzero(arr)\n",
    "```\n",
    "\n",
    "* Args:\n",
    "    * `arr` (required): input array"
   ]
  },
  {
   "cell_type": "code",
   "execution_count": 144,
   "metadata": {
    "colab": {
     "base_uri": "https://localhost:8080/"
    },
    "executionInfo": {
     "elapsed": 52,
     "status": "ok",
     "timestamp": 1743368135838,
     "user": {
      "displayName": "Pacurar Sebastian",
      "userId": "15686393619609976384"
     },
     "user_tz": -180
    },
    "id": "vmeucT720HJz",
    "outputId": "bdbb7208-0def-4b71-d0e9-f52e9397b2a1"
   },
   "outputs": [
    {
     "name": "stdout",
     "output_type": "stream",
     "text": [
      "(array([1, 3, 5], dtype=int64),)\n"
     ]
    }
   ],
   "source": [
    "# returns a tuple of arrays (one per dimension) with indices of nonzero elements\n",
    "arr = np.array([0, 5, 0, 3, 0, 7])\n",
    "print(np.nonzero(arr))"
   ]
  },
  {
   "cell_type": "markdown",
   "metadata": {
    "id": "sJabcdWd0v_2"
   },
   "source": [
    "<br><hr><br>"
   ]
  },
  {
   "cell_type": "markdown",
   "metadata": {
    "id": "yD4XFMy0Xij9"
   },
   "source": [
    "## np.flatnonzero()\n",
    "\n",
    "* Returns the flattened indices of nonzero elements\n",
    "* Syntax:\n",
    "```python\n",
    "np.flatnonzero(arr)\n",
    "```\n",
    "\n",
    "* Args:\n",
    "    * `arr` (required): input array    "
   ]
  },
  {
   "cell_type": "code",
   "execution_count": 147,
   "metadata": {
    "colab": {
     "base_uri": "https://localhost:8080/"
    },
    "executionInfo": {
     "elapsed": 93,
     "status": "ok",
     "timestamp": 1743368135933,
     "user": {
      "displayName": "Pacurar Sebastian",
      "userId": "15686393619609976384"
     },
     "user_tz": -180
    },
    "id": "FgT57H1N0fOP",
    "outputId": "4f7000fd-54c4-44ff-c500-23dc1d7ed699"
   },
   "outputs": [
    {
     "name": "stdout",
     "output_type": "stream",
     "text": [
      "[1 3 5]\n"
     ]
    }
   ],
   "source": [
    "arr = np.array([[0, 2, 0],\n",
    "                [4, 0, 5]])\n",
    "\n",
    "print(np.flatnonzero(arr))  # reutrn indices of 2, 4 and 5"
   ]
  },
  {
   "cell_type": "markdown",
   "metadata": {
    "id": "s6o8kHIU1rW6"
   },
   "source": [
    "<br><hr><br>"
   ]
  },
  {
   "cell_type": "markdown",
   "metadata": {
    "id": "fJMqx_muXkjS"
   },
   "source": [
    "## np.isin()\n",
    "\n",
    "* Checks if elements of one array exist in another array\n",
    "* Syntax:\n",
    "```python\n",
    "np.isin(element, test_elements, assume_unique=False, invert=False)\n",
    "```\n",
    "\n",
    "* Args:\n",
    "    * `element` (required): input array to test\n",
    "    * `test_elements` (required): input array of values to check against\n",
    "    * `assume_unique` (default = `False`):\n",
    "        * `True` = speeds up computation\n",
    "        * `False` = does not speed up computation\n",
    "    * `invert` (default = `False`):\n",
    "        * `False` = perform `element` IS in `test_elements`\n",
    "        * `True` = perform `element` IS NOT in `test_elements`"
   ]
  },
  {
   "cell_type": "code",
   "execution_count": 150,
   "metadata": {
    "colab": {
     "base_uri": "https://localhost:8080/"
    },
    "executionInfo": {
     "elapsed": 93,
     "status": "ok",
     "timestamp": 1743368136029,
     "user": {
      "displayName": "Pacurar Sebastian",
      "userId": "15686393619609976384"
     },
     "user_tz": -180
    },
    "id": "AlmNtmLx1iaR",
    "outputId": "758a5277-1772-430d-e582-4d74aec5a86a"
   },
   "outputs": [
    {
     "name": "stdout",
     "output_type": "stream",
     "text": [
      "[False  True False  True]\n",
      "[ True False  True False]\n"
     ]
    }
   ],
   "source": [
    "arr = np.array([10, 20, 30, 40])\n",
    "test = np.array([20, 40, 60])\n",
    "print(np.isin(arr, test))\n",
    "print(np.isin(arr, test, invert=True))"
   ]
  },
  {
   "cell_type": "markdown",
   "metadata": {
    "id": "YgIuL7V41paI"
   },
   "source": [
    "<br><hr><br>"
   ]
  },
  {
   "cell_type": "markdown",
   "metadata": {
    "id": "oiCNQN1KXl2_"
   },
   "source": [
    "## np.extract()\n",
    "\n",
    "* Returns elements that satisfy a given condition\n",
    "* Syntax:\n",
    "```python\n",
    "np.extract(condition, arr)\n",
    "```\n",
    "\n",
    "* Args:\n",
    "    * condition (required): boolean arry\n",
    "    * `arr` (required): input array\n"
   ]
  },
  {
   "cell_type": "code",
   "execution_count": 153,
   "metadata": {
    "colab": {
     "base_uri": "https://localhost:8080/"
    },
    "executionInfo": {
     "elapsed": 240,
     "status": "ok",
     "timestamp": 1743368136295,
     "user": {
      "displayName": "Pacurar Sebastian",
      "userId": "15686393619609976384"
     },
     "user_tz": -180
    },
    "id": "flbtJ_1z1-TH",
    "outputId": "b21ed133-5e08-4411-b449-0ad71cbff05d"
   },
   "outputs": [
    {
     "name": "stdout",
     "output_type": "stream",
     "text": [
      "[30 40]\n"
     ]
    }
   ],
   "source": [
    "arr = np.array([10, 20, 30, 40])\n",
    "result = np.extract(arr > 20, arr)\n",
    "print(result)  # [30 40]"
   ]
  },
  {
   "cell_type": "markdown",
   "metadata": {
    "id": "c-RSjNOQ2A8G"
   },
   "source": [
    "<br><hr><br>"
   ]
  },
  {
   "cell_type": "markdown",
   "metadata": {
    "id": "Cw05gb0Aeptk"
   },
   "source": [
    "## np.searchsorted()\n",
    "\n",
    "* Finds where an element should be inserted to maintain sorted order\n",
    "* Syntax:\n",
    "```python\n",
    "np.searchsorted(sorted_arr, values, side='left')\n",
    "```\n",
    "\n",
    "* Args:\n",
    "    * `sorted_arr` (required): sorted 1D input array\n",
    "    * `values` (required): values to search for\n",
    "    * `side` (default = `left`):\n",
    "        * `left` = returns the leftmost index\n",
    "        * `right` = returns the rightmost index"
   ]
  },
  {
   "cell_type": "code",
   "execution_count": 156,
   "metadata": {
    "colab": {
     "base_uri": "https://localhost:8080/"
    },
    "executionInfo": {
     "elapsed": 13,
     "status": "ok",
     "timestamp": 1743368136309,
     "user": {
      "displayName": "Pacurar Sebastian",
      "userId": "15686393619609976384"
     },
     "user_tz": -180
    },
    "id": "Pn7CitWN2dje",
    "outputId": "56fe04c0-7c19-472c-e11b-f5a98ee972a9"
   },
   "outputs": [
    {
     "name": "stdout",
     "output_type": "stream",
     "text": [
      "[2 3]\n"
     ]
    }
   ],
   "source": [
    "arr = np.array([10, 20, 30, 40])\n",
    "print(np.searchsorted(arr, [25, 35]))  # [2 3]"
   ]
  },
  {
   "cell_type": "markdown",
   "metadata": {
    "id": "dDvef4NX2lkM"
   },
   "source": [
    "<br><hr><br>"
   ]
  },
  {
   "cell_type": "markdown",
   "metadata": {
    "id": "5w2NUKsrVD7-"
   },
   "source": [
    "<br><hr><hr><br>"
   ]
  },
  {
   "cell_type": "markdown",
   "metadata": {
    "id": "gz3EUYEudDVE"
   },
   "source": [
    "# Join Arrays"
   ]
  },
  {
   "cell_type": "markdown",
   "metadata": {
    "id": "uDUaWg3_VC3v"
   },
   "source": [
    "<br><hr><br>"
   ]
  },
  {
   "cell_type": "markdown",
   "metadata": {
    "id": "BNa4-n5zdFHk"
   },
   "source": [
    "## np.concatenate()\n",
    "\n",
    "* Joins multiple arrays along an existing axis\n",
    "* Works on any number of arrays, as long as their dimensions match along the specified axis\n",
    "* Syntax:\n",
    "```python\n",
    "np.concatenate((arr1, arr2, ...), axis=0)\n",
    "```\n",
    "\n",
    "* Args:\n",
    "    * tuple of arrays (required): input arrays to concatenate\n",
    "    * `axis` (default = `0`): the axis along which to concatenate\n",
    "        * `0` = vertically (row-wise)\n",
    "        * `1` = horizontally (col-wise)"
   ]
  },
  {
   "cell_type": "code",
   "execution_count": 162,
   "metadata": {
    "colab": {
     "base_uri": "https://localhost:8080/"
    },
    "executionInfo": {
     "elapsed": 6,
     "status": "ok",
     "timestamp": 1743368136317,
     "user": {
      "displayName": "Pacurar Sebastian",
      "userId": "15686393619609976384"
     },
     "user_tz": -180
    },
    "id": "JE_BCu9YrXx4",
    "outputId": "e9be3e1b-870e-4129-edcc-f4680fb7f464"
   },
   "outputs": [
    {
     "name": "stdout",
     "output_type": "stream",
     "text": [
      "[1 2 3 4 5 6]\n"
     ]
    }
   ],
   "source": [
    "a = np.array([1, 2, 3])\n",
    "b = np.array([4, 5, 6])\n",
    "\n",
    "concat_axis_0 = np.concatenate((a, b), axis=0)  # vertical stack\n",
    "\n",
    "print(concat_axis_0)  # rows combined"
   ]
  },
  {
   "cell_type": "code",
   "execution_count": 163,
   "metadata": {
    "colab": {
     "base_uri": "https://localhost:8080/"
    },
    "executionInfo": {
     "elapsed": 9,
     "status": "ok",
     "timestamp": 1743368136327,
     "user": {
      "displayName": "Pacurar Sebastian",
      "userId": "15686393619609976384"
     },
     "user_tz": -180
    },
    "id": "frm0Z8SaUVlP",
    "outputId": "55cfdb3a-0d95-477d-dcb1-a4336680dd3c"
   },
   "outputs": [
    {
     "name": "stdout",
     "output_type": "stream",
     "text": [
      "[[1 2]\n",
      " [3 4]\n",
      " [5 6]\n",
      " [7 8]]\n",
      "\n",
      "[[1 2 5 6]\n",
      " [3 4 7 8]]\n"
     ]
    }
   ],
   "source": [
    "a = np.array([[1, 2], [3, 4]])\n",
    "b = np.array([[5, 6], [7, 8]])\n",
    "\n",
    "concat_axis_0 = np.concatenate((a, b), axis=0)  # vertical stack\n",
    "concat_axis_1 = np.concatenate((a, b), axis=1)  # horizontal stack\n",
    "\n",
    "print(concat_axis_0)  # rows combined\n",
    "print()\n",
    "print(concat_axis_1)  # columns combined"
   ]
  },
  {
   "cell_type": "markdown",
   "metadata": {
    "id": "Jco-D0brU_by"
   },
   "source": [
    "<br><hr><br>"
   ]
  },
  {
   "cell_type": "markdown",
   "metadata": {
    "id": "YK30Qks0dMAz"
   },
   "source": [
    "## np.stack()\n",
    "\n",
    "* Stacks multiple arrays along a new axis\n",
    "* Input arrays must have the same shape\n",
    "* Syntax:\n",
    "```python\n",
    "np.stack((arr1, arr2, ...), axis=0)\n",
    "```\n",
    "\n",
    "* Args:\n",
    "    * tuple of arrays (required): input arrays to stack\n",
    "    * `axis` (default = `0`): the axis where the new dimension is added\n",
    "        * `0` = vertically (row-wise)\n",
    "        * `1` = horizontally (col-wise)"
   ]
  },
  {
   "cell_type": "code",
   "execution_count": 166,
   "metadata": {
    "colab": {
     "base_uri": "https://localhost:8080/"
    },
    "executionInfo": {
     "elapsed": 8,
     "status": "ok",
     "timestamp": 1743368136336,
     "user": {
      "displayName": "Pacurar Sebastian",
      "userId": "15686393619609976384"
     },
     "user_tz": -180
    },
    "id": "Xn9XIWnbluBj",
    "outputId": "95f6cb42-9fa5-4c84-99b0-89bc42e3eaa9"
   },
   "outputs": [
    {
     "name": "stdout",
     "output_type": "stream",
     "text": [
      "[[1 2 3]\n",
      " [4 5 6]]\n",
      "\n",
      "[[1 4]\n",
      " [2 5]\n",
      " [3 6]]\n"
     ]
    }
   ],
   "source": [
    "a = np.array([1, 2, 3])\n",
    "b = np.array([4, 5, 6])\n",
    "\n",
    "stacked_axis_0 = np.stack((a, b), axis=0)  # adds new axis at axis=0\n",
    "stacked_axis_1 = np.stack((a, b), axis=1)  # adds new axis at axis=1\n",
    "\n",
    "print(stacked_axis_0)  # creates a 2x3 array\n",
    "print()\n",
    "print(stacked_axis_1)  # creates a 3x2 array"
   ]
  },
  {
   "cell_type": "code",
   "execution_count": 167,
   "metadata": {
    "colab": {
     "base_uri": "https://localhost:8080/"
    },
    "executionInfo": {
     "elapsed": 170,
     "status": "ok",
     "timestamp": 1743368136507,
     "user": {
      "displayName": "Pacurar Sebastian",
      "userId": "15686393619609976384"
     },
     "user_tz": -180
    },
    "id": "JxR-5tTKq4mT",
    "outputId": "ac030da3-1dfb-45e6-97ea-d9a7f45b8dd2"
   },
   "outputs": [
    {
     "name": "stdout",
     "output_type": "stream",
     "text": [
      "[[[1 2]\n",
      "  [3 4]]\n",
      "\n",
      " [[5 6]\n",
      "  [7 8]]]\n",
      "\n",
      "\n",
      "\n",
      "[[[1 2]\n",
      "  [5 6]]\n",
      "\n",
      " [[3 4]\n",
      "  [7 8]]]\n"
     ]
    }
   ],
   "source": [
    "a = np.array([[1, 2], [3, 4]])\n",
    "b = np.array([[5, 6], [7, 8]])\n",
    "\n",
    "stacked_axis_0 = np.stack((a, b), axis=0)  # adds new axis at axis=0\n",
    "stacked_axis_1 = np.stack((a, b), axis=1)  # adds new axis at axis=1\n",
    "\n",
    "print(stacked_axis_0)  # creates a 2x2x2 array\n",
    "print(\"\\n\\n\")\n",
    "print(stacked_axis_1)  # creates a 2x2x2 array"
   ]
  },
  {
   "cell_type": "markdown",
   "metadata": {
    "id": "MJQuxiJHlupQ"
   },
   "source": [
    "<br><hr><br>"
   ]
  },
  {
   "cell_type": "markdown",
   "metadata": {
    "id": "JxAvS4oZdVVT"
   },
   "source": [
    "## np.hstack()\n",
    "\n",
    "* Horizontally stacks arrays (col-wise, `axis` = 1)\n",
    "* Syntax:\n",
    "```python\n",
    "np.hstack((arr1, arr2, ...))\n",
    "```\n",
    "\n",
    "* Args:\n",
    "    * tuple of arrays (required): input arrays to stack\n"
   ]
  },
  {
   "cell_type": "code",
   "execution_count": 170,
   "metadata": {
    "colab": {
     "base_uri": "https://localhost:8080/"
    },
    "executionInfo": {
     "elapsed": 55,
     "status": "ok",
     "timestamp": 1743368136577,
     "user": {
      "displayName": "Pacurar Sebastian",
      "userId": "15686393619609976384"
     },
     "user_tz": -180
    },
    "id": "5KFiUFHSq0Vc",
    "outputId": "692684a4-2a4d-4c68-bbf8-9dcf7a7580c8"
   },
   "outputs": [
    {
     "name": "stdout",
     "output_type": "stream",
     "text": [
      "[1 2 3 4 5 6]\n"
     ]
    }
   ],
   "source": [
    "a = np.array([1, 2, 3])\n",
    "b = np.array([4, 5, 6])\n",
    "\n",
    "hstacked = np.hstack((a, b))\n",
    "print(hstacked)"
   ]
  },
  {
   "cell_type": "code",
   "execution_count": 171,
   "metadata": {
    "colab": {
     "base_uri": "https://localhost:8080/"
    },
    "executionInfo": {
     "elapsed": 16,
     "status": "ok",
     "timestamp": 1743368136596,
     "user": {
      "displayName": "Pacurar Sebastian",
      "userId": "15686393619609976384"
     },
     "user_tz": -180
    },
    "id": "WebODyjRmQYx",
    "outputId": "15a600fa-6728-4065-e470-c5ac456f4b25"
   },
   "outputs": [
    {
     "name": "stdout",
     "output_type": "stream",
     "text": [
      "[[1 2 5 6]\n",
      " [3 4 7 8]]\n"
     ]
    }
   ],
   "source": [
    "a = np.array([[1, 2], [3, 4]])\n",
    "b = np.array([[5, 6], [7, 8]])\n",
    "\n",
    "hstacked = np.hstack((a, b))\n",
    "print(hstacked)"
   ]
  },
  {
   "cell_type": "markdown",
   "metadata": {
    "id": "hfev2EhnmSro"
   },
   "source": [
    "<br><hr><br>"
   ]
  },
  {
   "cell_type": "markdown",
   "metadata": {
    "id": "T_S_h46KS4Dd"
   },
   "source": [
    "## np.column_stack()\n",
    "\n",
    "* Stacks 1D arrays into columns to form a 2D array\n",
    "* Syntax:\n",
    "```python\n",
    "np.column_stack((arr1, arr2, ...))\n",
    "```\n",
    "\n",
    "* Args:\n",
    "    * tuple of arrays (required): input arrays to stack"
   ]
  },
  {
   "cell_type": "code",
   "execution_count": 174,
   "metadata": {
    "colab": {
     "base_uri": "https://localhost:8080/"
    },
    "executionInfo": {
     "elapsed": 10,
     "status": "ok",
     "timestamp": 1743368136607,
     "user": {
      "displayName": "Pacurar Sebastian",
      "userId": "15686393619609976384"
     },
     "user_tz": -180
    },
    "id": "S5HN6vyBppld",
    "outputId": "e6d50007-3ee1-4207-c159-f24ed44ee6a4"
   },
   "outputs": [
    {
     "name": "stdout",
     "output_type": "stream",
     "text": [
      "[[1 4]\n",
      " [2 5]\n",
      " [3 6]]\n"
     ]
    }
   ],
   "source": [
    "a = np.array([1, 2, 3])\n",
    "b = np.array([4, 5, 6])\n",
    "\n",
    "col_stacked = np.column_stack((a, b))\n",
    "print(col_stacked)"
   ]
  },
  {
   "cell_type": "code",
   "execution_count": 175,
   "metadata": {
    "colab": {
     "base_uri": "https://localhost:8080/"
    },
    "executionInfo": {
     "elapsed": 39,
     "status": "ok",
     "timestamp": 1743368136647,
     "user": {
      "displayName": "Pacurar Sebastian",
      "userId": "15686393619609976384"
     },
     "user_tz": -180
    },
    "id": "PesGrFkJsfvR",
    "outputId": "88930bf6-f4b5-47e1-a499-cb84b0285ca3"
   },
   "outputs": [
    {
     "name": "stdout",
     "output_type": "stream",
     "text": [
      "[[1 2 5 6]\n",
      " [3 4 7 8]]\n"
     ]
    }
   ],
   "source": [
    "a = np.array([[1, 2], [3, 4]])\n",
    "b = np.array([[5, 6], [7, 8]])\n",
    "\n",
    "col_stacked = np.column_stack((a, b))\n",
    "print(col_stacked)"
   ]
  },
  {
   "cell_type": "markdown",
   "metadata": {
    "id": "YikaBh74rqoP"
   },
   "source": [
    "<br><hr><br>"
   ]
  },
  {
   "cell_type": "markdown",
   "metadata": {
    "id": "mE36xlSTTNWv"
   },
   "source": [
    "## np.c_[]\n",
    "\n",
    "* Shorthand for `np.column_stack()`\n",
    "* Concatenates 1D arrays as columns to create a 2D array\n",
    "* Syntax:\n",
    "```python\n",
    "np.c_[arr1, arr2, ...]\n",
    "```\n",
    "\n",
    "* Args (content of list):\n",
    "    * np arrays separated by comma (required): 1D arrays to stack into columns"
   ]
  },
  {
   "cell_type": "code",
   "execution_count": 178,
   "metadata": {
    "colab": {
     "base_uri": "https://localhost:8080/"
    },
    "executionInfo": {
     "elapsed": 8,
     "status": "ok",
     "timestamp": 1743368136656,
     "user": {
      "displayName": "Pacurar Sebastian",
      "userId": "15686393619609976384"
     },
     "user_tz": -180
    },
    "id": "ZOp3vVpHsU7K",
    "outputId": "69b2af15-eb3d-402b-a44e-91f5cd0e8ff1"
   },
   "outputs": [
    {
     "name": "stdout",
     "output_type": "stream",
     "text": [
      "[[1 4]\n",
      " [2 5]\n",
      " [3 6]]\n"
     ]
    }
   ],
   "source": [
    "a = np.array([1, 2, 3])\n",
    "b = np.array([4, 5, 6])\n",
    "\n",
    "column_stacked = np.c_[a, b]\n",
    "print(column_stacked)"
   ]
  },
  {
   "cell_type": "code",
   "execution_count": 179,
   "metadata": {
    "colab": {
     "base_uri": "https://localhost:8080/"
    },
    "executionInfo": {
     "elapsed": 101,
     "status": "ok",
     "timestamp": 1743368136758,
     "user": {
      "displayName": "Pacurar Sebastian",
      "userId": "15686393619609976384"
     },
     "user_tz": -180
    },
    "id": "nOD6qMzDsaEe",
    "outputId": "6379cb81-d0c1-49e5-b1af-9646284b1793"
   },
   "outputs": [
    {
     "name": "stdout",
     "output_type": "stream",
     "text": [
      "[[1 2 5 6]\n",
      " [3 4 7 8]]\n"
     ]
    }
   ],
   "source": [
    "a = np.array([[1, 2], [3, 4]])\n",
    "b = np.array([[5, 6], [7, 8]])\n",
    "\n",
    "column_stacked = np.c_[a, b]\n",
    "print(column_stacked)"
   ]
  },
  {
   "cell_type": "markdown",
   "metadata": {
    "id": "GLMz4wmUslvg"
   },
   "source": [
    "<br><hr><br>"
   ]
  },
  {
   "cell_type": "markdown",
   "metadata": {
    "id": "3XEPbf35dYyZ"
   },
   "source": [
    "## np.vstack()\n",
    "\n",
    "* Vertically stacks arrays (row-wise, `axis` = 0)\n",
    "* Syntax:\n",
    "```python\n",
    "np.vstack((arr1, arr2, ...))\n",
    "```\n",
    "\n",
    "* Args:\n",
    "    * tuple of arrays (required): input arrays to stack"
   ]
  },
  {
   "cell_type": "code",
   "execution_count": 182,
   "metadata": {
    "colab": {
     "base_uri": "https://localhost:8080/"
    },
    "executionInfo": {
     "elapsed": 18,
     "status": "ok",
     "timestamp": 1743368136777,
     "user": {
      "displayName": "Pacurar Sebastian",
      "userId": "15686393619609976384"
     },
     "user_tz": -180
    },
    "id": "MsiuodjlqZNS",
    "outputId": "cb85e75f-2bb8-4e30-cac9-db24be0c1568"
   },
   "outputs": [
    {
     "name": "stdout",
     "output_type": "stream",
     "text": [
      "[[1 2 3]\n",
      " [4 5 6]]\n"
     ]
    }
   ],
   "source": [
    "a = np.array([1, 2, 3])\n",
    "b = np.array([4, 5, 6])\n",
    "\n",
    "vstacked = np.vstack((a, b))\n",
    "print(vstacked)"
   ]
  },
  {
   "cell_type": "code",
   "execution_count": 183,
   "metadata": {
    "colab": {
     "base_uri": "https://localhost:8080/"
    },
    "executionInfo": {
     "elapsed": 35,
     "status": "ok",
     "timestamp": 1743368136814,
     "user": {
      "displayName": "Pacurar Sebastian",
      "userId": "15686393619609976384"
     },
     "user_tz": -180
    },
    "id": "Er_DvqZ3mpZn",
    "outputId": "4151c6d6-2dd5-422e-c391-49ef5ef93763"
   },
   "outputs": [
    {
     "name": "stdout",
     "output_type": "stream",
     "text": [
      "[[1 2]\n",
      " [3 4]\n",
      " [5 6]\n",
      " [7 8]]\n"
     ]
    }
   ],
   "source": [
    "a = np.array([[1, 2], [3, 4]])\n",
    "b = np.array([[5, 6], [7, 8]])\n",
    "\n",
    "vstacked = np.vstack((a, b))\n",
    "print(vstacked)"
   ]
  },
  {
   "cell_type": "markdown",
   "metadata": {
    "id": "3KT-lGfUsqzS"
   },
   "source": [
    "<br><hr><br>"
   ]
  },
  {
   "cell_type": "markdown",
   "metadata": {
    "id": "ywyBNUwuTAi0"
   },
   "source": [
    "## np.row_stack() [Deprecated]\n",
    "\n",
    "* Stacks 1D arrays as rows in a 2D array\n",
    "* Forces 2D Stacking\n",
    "* Syntax:\n",
    "```python\n",
    "np.row_stack((arr1, arr2, ...))\n",
    "```\n",
    "\n",
    "* Args:\n",
    "    * tuple of arrays (required): input arrays to stack"
   ]
  },
  {
   "cell_type": "code",
   "execution_count": 186,
   "metadata": {
    "colab": {
     "base_uri": "https://localhost:8080/"
    },
    "executionInfo": {
     "elapsed": 37,
     "status": "ok",
     "timestamp": 1743368136911,
     "user": {
      "displayName": "Pacurar Sebastian",
      "userId": "15686393619609976384"
     },
     "user_tz": -180
    },
    "id": "mO2jGRjdp_Xz",
    "outputId": "ad3702cc-8a54-4987-f35e-30aecd3f500d"
   },
   "outputs": [
    {
     "name": "stdout",
     "output_type": "stream",
     "text": [
      "[[1 2 3]\n",
      " [4 5 6]]\n"
     ]
    }
   ],
   "source": [
    "a = np.array([1, 2, 3])\n",
    "b = np.array([4, 5, 6])\n",
    "\n",
    "row_stacked = np.row_stack((a, b))\n",
    "print(row_stacked)"
   ]
  },
  {
   "cell_type": "code",
   "execution_count": 187,
   "metadata": {
    "colab": {
     "base_uri": "https://localhost:8080/"
    },
    "executionInfo": {
     "elapsed": 61,
     "status": "ok",
     "timestamp": 1743368137018,
     "user": {
      "displayName": "Pacurar Sebastian",
      "userId": "15686393619609976384"
     },
     "user_tz": -180
    },
    "id": "-vEmTtA9qVek",
    "outputId": "6782d7c3-5d6a-426e-e495-6eea28ced401"
   },
   "outputs": [
    {
     "name": "stdout",
     "output_type": "stream",
     "text": [
      "[[1 2]\n",
      " [3 4]\n",
      " [5 6]\n",
      " [7 8]]\n"
     ]
    }
   ],
   "source": [
    "a = np.array([[1, 2], [3, 4]])\n",
    "b = np.array([[5, 6], [7, 8]])\n",
    "\n",
    "row_stacked = np.row_stack((a, b))\n",
    "print(row_stacked)"
   ]
  },
  {
   "cell_type": "markdown",
   "metadata": {
    "id": "wJczcmLRuOF_"
   },
   "source": [
    "<br><hr><br>"
   ]
  },
  {
   "cell_type": "markdown",
   "metadata": {
    "id": "r1TdW2lZTmwT"
   },
   "source": [
    "## np.r_[]\n",
    "\n",
    "* Simply concatenates arrays along axis=0\n",
    "* Creates a 1D array by default unless input arrays are multi-dimensional\n",
    "* Syntax:\n",
    "```python\n",
    "np.r_[arr1, arr2, ...]\n",
    "```\n",
    "\n",
    "* Args (content of list):\n",
    "    * np arrays separated by comma (required): 1D arrays to stack into rows"
   ]
  },
  {
   "cell_type": "code",
   "execution_count": 190,
   "metadata": {
    "colab": {
     "base_uri": "https://localhost:8080/"
    },
    "executionInfo": {
     "elapsed": 135,
     "status": "ok",
     "timestamp": 1743368137156,
     "user": {
      "displayName": "Pacurar Sebastian",
      "userId": "15686393619609976384"
     },
     "user_tz": -180
    },
    "id": "SW1n7NwmtERu",
    "outputId": "d664b913-aaa7-4da0-aa07-6250771e20f7"
   },
   "outputs": [
    {
     "name": "stdout",
     "output_type": "stream",
     "text": [
      "[1 2 3 4 5 6]\n"
     ]
    }
   ],
   "source": [
    "a = np.array([1, 2, 3])\n",
    "b = np.array([4, 5, 6])\n",
    "\n",
    "row_stacked = np.r_[a, b]\n",
    "print(row_stacked)"
   ]
  },
  {
   "cell_type": "code",
   "execution_count": 191,
   "metadata": {
    "colab": {
     "base_uri": "https://localhost:8080/"
    },
    "executionInfo": {
     "elapsed": 12,
     "status": "ok",
     "timestamp": 1743368137170,
     "user": {
      "displayName": "Pacurar Sebastian",
      "userId": "15686393619609976384"
     },
     "user_tz": -180
    },
    "id": "GIK_xSp_uVGm",
    "outputId": "9f47ad4f-d5c9-4f5e-b00e-ebdd644d7dd6"
   },
   "outputs": [
    {
     "name": "stdout",
     "output_type": "stream",
     "text": [
      "[[1 2]\n",
      " [3 4]\n",
      " [5 6]\n",
      " [7 8]]\n"
     ]
    }
   ],
   "source": [
    "a = np.array([[1, 2], [3, 4]])\n",
    "b = np.array([[5, 6], [7, 8]])\n",
    "\n",
    "row_stacked = np.r_[a, b]\n",
    "print(row_stacked)"
   ]
  },
  {
   "cell_type": "markdown",
   "metadata": {
    "id": "oa9fRPhzuQ_k"
   },
   "source": [
    "<br><hr><br>"
   ]
  },
  {
   "cell_type": "markdown",
   "metadata": {
    "id": "84aq9fIldcVV"
   },
   "source": [
    "## np.dstack()\n",
    "\n",
    "* Stacks arrays along the third dimension (`axis` = 2)\n",
    "* Syntax:\n",
    "```python\n",
    "np.dstack((arr1, arr2, ...))\n",
    "```\n",
    "\n",
    "* Args:\n",
    "    * tuple of arrays (required): input arrays to stack"
   ]
  },
  {
   "cell_type": "code",
   "execution_count": 194,
   "metadata": {
    "colab": {
     "base_uri": "https://localhost:8080/"
    },
    "executionInfo": {
     "elapsed": 14,
     "status": "ok",
     "timestamp": 1743368137186,
     "user": {
      "displayName": "Pacurar Sebastian",
      "userId": "15686393619609976384"
     },
     "user_tz": -180
    },
    "id": "DmeNOw2NpItm",
    "outputId": "2d53e803-faea-4953-9fc6-bf96dd561561"
   },
   "outputs": [
    {
     "name": "stdout",
     "output_type": "stream",
     "text": [
      "[[[1 5]\n",
      "  [2 6]]\n",
      "\n",
      " [[3 7]\n",
      "  [4 8]]]\n"
     ]
    }
   ],
   "source": [
    "a = np.array([[1, 2], [3, 4]])\n",
    "b = np.array([[5, 6], [7, 8]])\n",
    "\n",
    "dstacked = np.dstack((a, b))\n",
    "print(dstacked)"
   ]
  },
  {
   "cell_type": "markdown",
   "metadata": {
    "id": "v4QCqxR3qoyH"
   },
   "source": [
    "<br><hr><br>"
   ]
  },
  {
   "cell_type": "markdown",
   "metadata": {
    "id": "-Tk2vWmVWcOQ"
   },
   "source": [
    "## np.block()\n",
    "\n",
    "* Joins arrays in a structured way, supporting nested lists (block-wise joining)\n",
    "* Syntax:\n",
    "```python\n",
    "np.block([[arr1, arr2], [arr3, arr4]])\n",
    "```\n",
    "\n",
    "* Args:\n",
    "    * nested list of arrays (required): input arrays to stack in a block format"
   ]
  },
  {
   "cell_type": "code",
   "execution_count": 197,
   "metadata": {
    "colab": {
     "base_uri": "https://localhost:8080/"
    },
    "executionInfo": {
     "elapsed": 11,
     "status": "ok",
     "timestamp": 1743368137198,
     "user": {
      "displayName": "Pacurar Sebastian",
      "userId": "15686393619609976384"
     },
     "user_tz": -180
    },
    "id": "DszIuhDqW2Jb",
    "outputId": "88431ab4-b871-4197-b892-5a01f0c6104c"
   },
   "outputs": [
    {
     "name": "stdout",
     "output_type": "stream",
     "text": [
      "[[1 2 5 6]\n",
      " [3 4 7 8]]\n"
     ]
    }
   ],
   "source": [
    "# Creating small 2x2 arrays\n",
    "arr1 = np.array([[1, 2], [3, 4]])\n",
    "arr2 = np.array([[5, 6], [7, 8]])\n",
    "\n",
    "# Using np.block() to combine these two arrays\n",
    "blocked = np.block([[arr1, arr2]])\n",
    "\n",
    "print(blocked)"
   ]
  },
  {
   "cell_type": "markdown",
   "metadata": {
    "id": "7hZiyfqApY6h"
   },
   "source": [
    "<br><hr><hr><br>"
   ]
  },
  {
   "cell_type": "markdown",
   "metadata": {
    "id": "RT9z1VuHfGOt"
   },
   "source": [
    "# Array Split"
   ]
  },
  {
   "cell_type": "markdown",
   "metadata": {
    "id": "i9NIaeWU8lZu"
   },
   "source": [
    "<br><hr><br>"
   ]
  },
  {
   "cell_type": "markdown",
   "metadata": {
    "id": "6YXGXTKhYgzb"
   },
   "source": [
    "## np.split()\n",
    "\n",
    "* Splits an array into multiple sub-arrays along a specified axis\n",
    "* Syntax:\n",
    "```python\n",
    "np.split(arr, indices_or_sections, axis=0)\n",
    "```\n",
    "\n",
    "* Args:\n",
    "    * `arr` (required): the input array\n",
    "    * `indices_or_sections` (required):\n",
    "        * if an integer, the array is split into that many equal parts\n",
    "        * if a sequence of indices, the array is split at those indices\n",
    "    * `axis` (default = `0`): the axis along which to split"
   ]
  },
  {
   "cell_type": "code",
   "execution_count": 202,
   "metadata": {
    "colab": {
     "base_uri": "https://localhost:8080/"
    },
    "executionInfo": {
     "elapsed": 54,
     "status": "ok",
     "timestamp": 1743368137253,
     "user": {
      "displayName": "Pacurar Sebastian",
      "userId": "15686393619609976384"
     },
     "user_tz": -180
    },
    "id": "GCvMVCvD9if0",
    "outputId": "d1c5ffed-d6e6-4efa-fd13-ea7efcf8f975"
   },
   "outputs": [
    {
     "data": {
      "text/plain": [
       "[array([1, 2]), array([3, 4]), array([5, 6])]"
      ]
     },
     "execution_count": 202,
     "metadata": {},
     "output_type": "execute_result"
    }
   ],
   "source": [
    "# splitting into equal parts\n",
    "arr = np.array([1, 2, 3, 4, 5, 6])\n",
    "np.split(arr, 3)  # splits into 3 equal sub-arrays"
   ]
  },
  {
   "cell_type": "code",
   "execution_count": 203,
   "metadata": {
    "colab": {
     "base_uri": "https://localhost:8080/"
    },
    "executionInfo": {
     "elapsed": 18,
     "status": "ok",
     "timestamp": 1743368137289,
     "user": {
      "displayName": "Pacurar Sebastian",
      "userId": "15686393619609976384"
     },
     "user_tz": -180
    },
    "id": "1rVvDxyr9n5i",
    "outputId": "c5e2e4f5-dfa8-46cd-dc64-f242c6547050"
   },
   "outputs": [
    {
     "data": {
      "text/plain": [
       "[array([1, 2]), array([3, 4]), array([5, 6])]"
      ]
     },
     "execution_count": 203,
     "metadata": {},
     "output_type": "execute_result"
    }
   ],
   "source": [
    "# splitting at specific indices\n",
    "arr = np.array([1, 2, 3, 4, 5, 6])\n",
    "np.split(arr, [2, 4])  # splits at indices 2 and 4"
   ]
  },
  {
   "cell_type": "markdown",
   "metadata": {
    "id": "9knz2hvB8mPe"
   },
   "source": [
    "<br><hr><br>"
   ]
  },
  {
   "cell_type": "markdown",
   "metadata": {
    "id": "uzbAAhhFfPLm"
   },
   "source": [
    "## np.array_split()\n",
    "\n",
    "* Similar to `np.split()`, but allows splitting into uneven parts\n",
    "* Syntax:\n",
    "```python\n",
    "np.array_split(arr, indices_or_sections, axis=0)\n",
    "```\n",
    "\n",
    "* Args:\n",
    "    * `arr` (required): the input array\n",
    "    * `indices_or_sections` (required):\n",
    "        * if an integer, the array is split into that many equal parts\n",
    "        * if a sequence of indices, the array is split at those indices\n",
    "    * `axis` (default = `0`): the axis along which to split"
   ]
  },
  {
   "cell_type": "code",
   "execution_count": 206,
   "metadata": {
    "colab": {
     "base_uri": "https://localhost:8080/"
    },
    "executionInfo": {
     "elapsed": 70,
     "status": "ok",
     "timestamp": 1743368137362,
     "user": {
      "displayName": "Pacurar Sebastian",
      "userId": "15686393619609976384"
     },
     "user_tz": -180
    },
    "id": "VikY34_2-cdw",
    "outputId": "c4f9692e-eb73-49d0-af12-d6d8a8e21be9"
   },
   "outputs": [
    {
     "data": {
      "text/plain": [
       "[array([1, 2]), array([3, 4]), array([5])]"
      ]
     },
     "execution_count": 206,
     "metadata": {},
     "output_type": "execute_result"
    }
   ],
   "source": [
    "# uneven split\n",
    "arr = np.array([1, 2, 3, 4, 5])\n",
    "np.array_split(arr, 3)  # splits into 3 uneven sub-arrays"
   ]
  },
  {
   "cell_type": "markdown",
   "metadata": {
    "id": "cJ2c8qey8m2C"
   },
   "source": [
    "<br><hr><br>"
   ]
  },
  {
   "cell_type": "markdown",
   "metadata": {
    "id": "WKTTt-j_fTIR"
   },
   "source": [
    "## np.hsplit()\n",
    "\n",
    "* Splits an array horizontally (col-wise, `axis` = 1)\n",
    "* Syntax:\n",
    "```python\n",
    "np.hsplit(arr, indices_or_sections)\n",
    "```\n",
    "\n",
    "* Args:\n",
    "    * `arr` (required): input array\n",
    "    * `indices_or_sections` (required): the number of equal parts, or specific column indices"
   ]
  },
  {
   "cell_type": "code",
   "execution_count": 209,
   "metadata": {
    "colab": {
     "base_uri": "https://localhost:8080/"
    },
    "executionInfo": {
     "elapsed": 10,
     "status": "ok",
     "timestamp": 1743368137428,
     "user": {
      "displayName": "Pacurar Sebastian",
      "userId": "15686393619609976384"
     },
     "user_tz": -180
    },
    "id": "OwcaEovu_CoX",
    "outputId": "f64c2455-6ba9-411b-bf3d-0567370fcc30"
   },
   "outputs": [
    {
     "data": {
      "text/plain": [
       "[array([[1, 2],\n",
       "        [5, 6]]),\n",
       " array([[3, 4],\n",
       "        [7, 8]])]"
      ]
     },
     "execution_count": 209,
     "metadata": {},
     "output_type": "execute_result"
    }
   ],
   "source": [
    "# splitting into equal parts\n",
    "\n",
    "arr = np.array([[1, 2, 3, 4], [5, 6, 7, 8]])\n",
    "np.hsplit(arr, 2)  # Splits into 2 parts"
   ]
  },
  {
   "cell_type": "code",
   "execution_count": 210,
   "metadata": {
    "colab": {
     "base_uri": "https://localhost:8080/"
    },
    "executionInfo": {
     "elapsed": 34,
     "status": "ok",
     "timestamp": 1743368137463,
     "user": {
      "displayName": "Pacurar Sebastian",
      "userId": "15686393619609976384"
     },
     "user_tz": -180
    },
    "id": "LGAkFi4S_Ccl",
    "outputId": "6748326f-d0ac-4310-bad8-e267b1afdfab"
   },
   "outputs": [
    {
     "data": {
      "text/plain": [
       "[array([[1],\n",
       "        [5]]),\n",
       " array([[2, 3],\n",
       "        [6, 7]]),\n",
       " array([[4],\n",
       "        [8]])]"
      ]
     },
     "execution_count": 210,
     "metadata": {},
     "output_type": "execute_result"
    }
   ],
   "source": [
    "# splitting at specific columns\n",
    "\n",
    "arr = np.array([[1, 2, 3, 4], [5, 6, 7, 8]])\n",
    "np.hsplit(arr, [1, 3])  # splits at column indices 1 and 3"
   ]
  },
  {
   "cell_type": "markdown",
   "metadata": {
    "id": "ulcfKqIR8nw6"
   },
   "source": [
    "<br><hr><br>"
   ]
  },
  {
   "cell_type": "markdown",
   "metadata": {
    "id": "P4bp2kvlfWIn"
   },
   "source": [
    "## np.vsplit()\n",
    "\n",
    "* Splits an array vertically (row-wise, `axis` = 0)\n",
    "* Syntax:\n",
    "```python\n",
    "np.vsplit(arr, indices_or_sections)\n",
    "```\n",
    "\n",
    "* Args:\n",
    "    * `arr` (required): input array\n",
    "    * `indices_or_sections` (required): the number of equal parts, or specific row indices"
   ]
  },
  {
   "cell_type": "code",
   "execution_count": 213,
   "metadata": {
    "colab": {
     "base_uri": "https://localhost:8080/"
    },
    "executionInfo": {
     "elapsed": 133,
     "status": "ok",
     "timestamp": 1743368137597,
     "user": {
      "displayName": "Pacurar Sebastian",
      "userId": "15686393619609976384"
     },
     "user_tz": -180
    },
    "id": "ptkRwCoH_0Gp",
    "outputId": "23a15da2-e596-4ad5-e5e3-61379afa8297"
   },
   "outputs": [
    {
     "data": {
      "text/plain": [
       "[array([[1, 2, 3]]), array([[4, 5, 6]]), array([[7, 8, 9]])]"
      ]
     },
     "execution_count": 213,
     "metadata": {},
     "output_type": "execute_result"
    }
   ],
   "source": [
    "# splitting into equal row parts\n",
    "arr = np.array([[1, 2, 3], [4, 5, 6], [7, 8, 9]])\n",
    "np.vsplit(arr, 3)  # splits into 3 row parts"
   ]
  },
  {
   "cell_type": "code",
   "execution_count": 214,
   "metadata": {
    "colab": {
     "base_uri": "https://localhost:8080/"
    },
    "executionInfo": {
     "elapsed": 87,
     "status": "ok",
     "timestamp": 1743368137724,
     "user": {
      "displayName": "Pacurar Sebastian",
      "userId": "15686393619609976384"
     },
     "user_tz": -180
    },
    "id": "p4tS4Yum_6TX",
    "outputId": "00c7c87b-a3c9-43da-94e1-a85dd5b86dc1"
   },
   "outputs": [
    {
     "data": {
      "text/plain": [
       "[array([[1, 2, 3]]), array([[4, 5, 6]]), array([[7, 8, 9]])]"
      ]
     },
     "execution_count": 214,
     "metadata": {},
     "output_type": "execute_result"
    }
   ],
   "source": [
    "# splitting at specific row indices\n",
    "arr = np.array([[1, 2, 3], [4, 5, 6], [7, 8, 9]])\n",
    "np.vsplit(arr, [1, 2])  # splits at row indices 1 and 2"
   ]
  },
  {
   "cell_type": "markdown",
   "metadata": {
    "id": "4oD2SD_V8obU"
   },
   "source": [
    "<br><hr><br>"
   ]
  },
  {
   "cell_type": "markdown",
   "metadata": {
    "id": "NS99B7NQfZ0-"
   },
   "source": [
    "## np.dsplit()\n",
    "\n",
    "* Splits an array depth-wise (along `axis` = 2, used for 3D arrays)\n",
    "* Syntax:\n",
    "```python\n",
    "np.dsplit(arr, indices_or_sections)\n",
    "```\n",
    "\n",
    "* Args:\n",
    "    * `arr` (required): input array\n",
    "    * `indices_or_sections` (required): the number of equal parts, or specific row indices\n"
   ]
  },
  {
   "cell_type": "code",
   "execution_count": 217,
   "metadata": {
    "colab": {
     "base_uri": "https://localhost:8080/"
    },
    "executionInfo": {
     "elapsed": 134,
     "status": "ok",
     "timestamp": 1743368137861,
     "user": {
      "displayName": "Pacurar Sebastian",
      "userId": "15686393619609976384"
     },
     "user_tz": -180
    },
    "id": "7_KZr0JsAaUG",
    "outputId": "fea4602b-c60e-4e6e-da8a-0c424e945818"
   },
   "outputs": [
    {
     "data": {
      "text/plain": [
       "[array([[[ 1],\n",
       "         [ 4]],\n",
       " \n",
       "        [[ 7],\n",
       "         [10]]]),\n",
       " array([[[ 2],\n",
       "         [ 5]],\n",
       " \n",
       "        [[ 8],\n",
       "         [11]]]),\n",
       " array([[[ 3],\n",
       "         [ 6]],\n",
       " \n",
       "        [[ 9],\n",
       "         [12]]])]"
      ]
     },
     "execution_count": 217,
     "metadata": {},
     "output_type": "execute_result"
    }
   ],
   "source": [
    "arr = np.array([[[1, 2, 3], [4, 5, 6]],\n",
    "                [[7, 8, 9], [10, 11, 12]]])\n",
    "\n",
    "np.dsplit(arr, 3)  # splits into 3 depth slices"
   ]
  },
  {
   "cell_type": "markdown",
   "metadata": {
    "id": "I3RLJ493XANu"
   },
   "source": [
    "<br><hr><hr><br>"
   ]
  },
  {
   "cell_type": "markdown",
   "metadata": {
    "id": "yRO8wfecuK6F"
   },
   "source": [
    "# Flatten"
   ]
  },
  {
   "cell_type": "code",
   "execution_count": 220,
   "metadata": {
    "executionInfo": {
     "elapsed": 6,
     "status": "ok",
     "timestamp": 1743368137871,
     "user": {
      "displayName": "Pacurar Sebastian",
      "userId": "15686393619609976384"
     },
     "user_tz": -180
    },
    "id": "vwKJ41eDPowP"
   },
   "outputs": [],
   "source": [
    "a = np.array([[[0, 1, 2], [3, 4, 5], [6, 7, 8]], [[9, 10, 11], [12, 13, 14], [15, 16, 17]]])"
   ]
  },
  {
   "cell_type": "markdown",
   "metadata": {
    "id": "FiWXZmcB8qWj"
   },
   "source": [
    "<br><hr><br>"
   ]
  },
  {
   "cell_type": "markdown",
   "metadata": {
    "id": "6I2oQBbOPg3t"
   },
   "source": [
    "## np.reshape()\n",
    "\n",
    "* Reshapes an array into a new shape without changing data\n",
    "* May return a view or a copy, depending on the memory layout\n",
    "* Less explicit than `np.ravel()` or `np.flatten()`\n",
    "* Syntax:\n",
    "```python\n",
    "np.reshape(arr, newshape, order=\"C\")\n",
    "```\n",
    "\n",
    "* Args:\n",
    "    * `arr` (required): input array\n",
    "    * `newshape` (required): the target shape (must have the same total elements as `arr`)\n",
    "    * `order` (default = `\"C\"`):\n",
    "        * `\"C\"` = C-style row-major order\n",
    "        * `\"F\"` = Fortran-style column-major order\n",
    "        * `\"A\"` = preserve existing order\n",
    "        * `\"K\"` = keep original memory if possible"
   ]
  },
  {
   "cell_type": "code",
   "execution_count": 223,
   "metadata": {
    "colab": {
     "base_uri": "https://localhost:8080/"
    },
    "executionInfo": {
     "elapsed": 16,
     "status": "ok",
     "timestamp": 1743368137973,
     "user": {
      "displayName": "Pacurar Sebastian",
      "userId": "15686393619609976384"
     },
     "user_tz": -180
    },
    "id": "zzu3jXK3Pqrd",
    "outputId": "1f45485c-c8b5-4d9f-c563-a9f9153fb6c2"
   },
   "outputs": [
    {
     "data": {
      "text/plain": [
       "(array([[[ 0,  1,  2],\n",
       "         [ 3,  4,  5],\n",
       "         [ 6,  7,  8]],\n",
       " \n",
       "        [[ 9, 10, 11],\n",
       "         [12, 13, 14],\n",
       "         [15, 16, 17]]]),\n",
       " array([ 0,  1,  2,  3,  4,  5,  6,  7,  8,  9, 10, 11, 12, 13, 14, 15, 16,\n",
       "        17]),\n",
       " array([ 0,  1,  2,  3,  4,  5,  6,  7,  8,  9, 10, 11, 12, 13, 14, 15, 16,\n",
       "        17]))"
      ]
     },
     "execution_count": 223,
     "metadata": {},
     "output_type": "execute_result"
    }
   ],
   "source": [
    "flatten_1 = a.reshape(a.size)\n",
    "flatten_2 = a.reshape(-1)\n",
    "a, flatten_1, flatten_2"
   ]
  },
  {
   "cell_type": "code",
   "execution_count": 224,
   "metadata": {
    "colab": {
     "base_uri": "https://localhost:8080/",
     "height": 52
    },
    "executionInfo": {
     "elapsed": 19,
     "status": "ok",
     "timestamp": 1743368138009,
     "user": {
      "displayName": "Pacurar Sebastian",
      "userId": "15686393619609976384"
     },
     "user_tz": -180
    },
    "id": "6c1vUMZKC0UX",
    "outputId": "c15e11fb-a81d-416b-9226-90b530f653d6"
   },
   "outputs": [
    {
     "data": {
      "text/plain": [
       "array([[1, 2, 3, 4, 5, 6]])"
      ]
     },
     "metadata": {},
     "output_type": "display_data"
    },
    {
     "data": {
      "text/plain": [
       "(1, 6)"
      ]
     },
     "metadata": {},
     "output_type": "display_data"
    }
   ],
   "source": [
    "\"\"\"\n",
    "    - converts arr into a 1-row, 6-col 2D array\n",
    "    - still a 2D array with shape (1, 6), but visually \"flattened\"\n",
    "\"\"\"\n",
    "arr = np.array([[1, 2, 3],\n",
    "                [4, 5, 6]])\n",
    "\n",
    "reshaped = np.reshape(arr, (1, arr.size))\n",
    "\n",
    "display(reshaped)\n",
    "display(reshaped.shape)"
   ]
  },
  {
   "cell_type": "code",
   "execution_count": 225,
   "metadata": {
    "colab": {
     "base_uri": "https://localhost:8080/",
     "height": 52
    },
    "executionInfo": {
     "elapsed": 54,
     "status": "ok",
     "timestamp": 1743368138066,
     "user": {
      "displayName": "Pacurar Sebastian",
      "userId": "15686393619609976384"
     },
     "user_tz": -180
    },
    "id": "-HpGy8XPl_g2",
    "outputId": "64cf2671-45e5-4e6f-c96b-e84e97eac172"
   },
   "outputs": [
    {
     "data": {
      "text/plain": [
       "array([[1, 2, 3, 4, 5, 6]])"
      ]
     },
     "metadata": {},
     "output_type": "display_data"
    },
    {
     "data": {
      "text/plain": [
       "(1, 6)"
      ]
     },
     "metadata": {},
     "output_type": "display_data"
    }
   ],
   "source": [
    "\"\"\"\n",
    "    - \"-1\" lets NumPy infer the missing dimension\n",
    "    - since arr has 6 elements, NumPy deduces this as (1, 6)\n",
    "\"\"\"\n",
    "arr = np.array([[1, 2, 3],\n",
    "                [4, 5, 6]])\n",
    "\n",
    "reshaped = np.reshape(arr, (-1, arr.size))\n",
    "\n",
    "display(reshaped)\n",
    "display(reshaped.shape)"
   ]
  },
  {
   "cell_type": "code",
   "execution_count": 226,
   "metadata": {
    "colab": {
     "base_uri": "https://localhost:8080/",
     "height": 52
    },
    "executionInfo": {
     "elapsed": 69,
     "status": "ok",
     "timestamp": 1743368138138,
     "user": {
      "displayName": "Pacurar Sebastian",
      "userId": "15686393619609976384"
     },
     "user_tz": -180
    },
    "id": "sMdCtolamhfH",
    "outputId": "2913a8d4-340a-4b74-ab47-0d85a1fc8695"
   },
   "outputs": [
    {
     "data": {
      "text/plain": [
       "array([1, 2, 3, 4, 5, 6])"
      ]
     },
     "metadata": {},
     "output_type": "display_data"
    },
    {
     "data": {
      "text/plain": [
       "(6,)"
      ]
     },
     "metadata": {},
     "output_type": "display_data"
    }
   ],
   "source": [
    "\"\"\"\n",
    "    - equivalent to np.reshape(arr, (6,))\n",
    "    - flattens arr into a 1D array [1, 2, 3, 4, 5, 6]\n",
    "    - shape becomes (6,)\n",
    "\"\"\"\n",
    "arr = np.array([[1, 2, 3],\n",
    "                [4, 5, 6]])\n",
    "\n",
    "reshaped = np.reshape(arr, (arr.size))\n",
    "\n",
    "display(reshaped)\n",
    "display(reshaped.shape)"
   ]
  },
  {
   "cell_type": "code",
   "execution_count": 227,
   "metadata": {
    "colab": {
     "base_uri": "https://localhost:8080/",
     "height": 52
    },
    "executionInfo": {
     "elapsed": 97,
     "status": "ok",
     "timestamp": 1743368138257,
     "user": {
      "displayName": "Pacurar Sebastian",
      "userId": "15686393619609976384"
     },
     "user_tz": -180
    },
    "id": "gPQXJz6hnyOg",
    "outputId": "03651605-af89-4318-c018-c28f5a344efb"
   },
   "outputs": [
    {
     "data": {
      "text/plain": [
       "array([1, 2, 3, 4, 5, 6])"
      ]
     },
     "metadata": {},
     "output_type": "display_data"
    },
    {
     "data": {
      "text/plain": [
       "(6,)"
      ]
     },
     "metadata": {},
     "output_type": "display_data"
    }
   ],
   "source": [
    "\"\"\"\n",
    "    - explicitly reshapes arr to a 1D array with arr.size elements\n",
    "    - shape becomes (6,)\n",
    "\"\"\"\n",
    "arr = np.array([[1, 2, 3],\n",
    "                [4, 5, 6]])\n",
    "\n",
    "reshaped = np.reshape(arr, (arr.size,))\n",
    "\n",
    "display(reshaped)\n",
    "display(reshaped.shape)"
   ]
  },
  {
   "cell_type": "markdown",
   "metadata": {
    "id": "LQQ3Xq6H8rdI"
   },
   "source": [
    "<br><hr><br>"
   ]
  },
  {
   "cell_type": "markdown",
   "metadata": {
    "id": "v_BPoDgLPrRR"
   },
   "source": [
    "## np.flatten()\n",
    "\n",
    "* Returns a copy of the array as a 1D array\n",
    "* Changes to the new array do not affect the original array\n",
    "* Slower than `np.ravel()` since it allocates new memory\n",
    "* Syntax:\n",
    "```python\n",
    "arr.flatten(order=\"C\")\n",
    "```\n",
    "\n",
    "* Args:\n",
    "    * `order` (default = `\"C\"`):\n",
    "        * `\"C\"` = row-major order (row-wise)\n",
    "        * `\"F\"` = col-major order (col-wise)\n",
    "        * `\"A\"` = preserve original order\n",
    "        * `\"K\"` = preserve order in memory"
   ]
  },
  {
   "cell_type": "code",
   "execution_count": 230,
   "metadata": {
    "colab": {
     "base_uri": "https://localhost:8080/"
    },
    "executionInfo": {
     "elapsed": 11,
     "status": "ok",
     "timestamp": 1743368138273,
     "user": {
      "displayName": "Pacurar Sebastian",
      "userId": "15686393619609976384"
     },
     "user_tz": -180
    },
    "id": "Gqyu-p6Uplf_",
    "outputId": "06de203a-b692-48ea-bff9-f620d30a2249"
   },
   "outputs": [
    {
     "data": {
      "text/plain": [
       "array([1, 2, 3, 4, 5, 6])"
      ]
     },
     "execution_count": 230,
     "metadata": {},
     "output_type": "execute_result"
    }
   ],
   "source": [
    "arr = np.array([[1, 2, 3],\n",
    "                [4, 5, 6]])\n",
    "\n",
    "arr.flatten()"
   ]
  },
  {
   "cell_type": "markdown",
   "metadata": {
    "id": "PBmkXKar8sTq"
   },
   "source": [
    "<br><hr><br>"
   ]
  },
  {
   "cell_type": "markdown",
   "metadata": {
    "id": "r5h-vr6OPyx-"
   },
   "source": [
    "## np.ravel()\n",
    "\n",
    "* Returns a 1D view of the array if the array is contiguous in memory, otherwise returns a copy\n",
    "* If a view is returned, changes to raveled array will affect the original array\n",
    "* If a copy is needed, it returns a new array\n",
    "* Syntax:\n",
    "```python\n",
    "arr.ravel(order=\"C\")\n",
    "```\n",
    "\n",
    "* Args:\n",
    "    * `order` (default=`\"C\"`):\n",
    "        * `\"C\"` = row-major order (row-wise)\n",
    "        * `\"F\"` = col-major order (col-wise)\n",
    "        * `\"A\"` = preserve original order\n",
    "        * `\"K\"` = preserve order in memory"
   ]
  },
  {
   "cell_type": "code",
   "execution_count": 233,
   "metadata": {
    "colab": {
     "base_uri": "https://localhost:8080/"
    },
    "executionInfo": {
     "elapsed": 61,
     "status": "ok",
     "timestamp": 1743368138336,
     "user": {
      "displayName": "Pacurar Sebastian",
      "userId": "15686393619609976384"
     },
     "user_tz": -180
    },
    "id": "OOfMpldcP1Yo",
    "outputId": "371b5f5a-7f52-4e7b-8319-8204fc7584e2"
   },
   "outputs": [
    {
     "data": {
      "text/plain": [
       "array([1, 2, 3, 4, 5, 6])"
      ]
     },
     "execution_count": 233,
     "metadata": {},
     "output_type": "execute_result"
    }
   ],
   "source": [
    "arr = np.array([[1, 2, 3],\n",
    "                [4, 5, 6]])\n",
    "\n",
    "arr.ravel()"
   ]
  },
  {
   "cell_type": "markdown",
   "metadata": {
    "id": "jahrqUC-8uJr"
   },
   "source": [
    "<br><hr><hr><br>"
   ]
  },
  {
   "cell_type": "markdown",
   "metadata": {
    "id": "IGdcMbl-urdi"
   },
   "source": [
    "# Central Tendency (Location)\n"
   ]
  },
  {
   "cell_type": "markdown",
   "metadata": {
    "id": "GTt9tzs2vXa3"
   },
   "source": [
    "<br><hr><br>"
   ]
  },
  {
   "cell_type": "markdown",
   "metadata": {
    "id": "a6SWEwOVucJ7"
   },
   "source": [
    "## np.mean()\n",
    "\n",
    "* Computes the mean (average) of all elements in an array along a specified axis\n",
    "* Syntax:\n",
    "```python\n",
    "np.mean(array, axis=None, dtype=None, keepdims=False)\n",
    "```\n",
    "\n",
    "* Args:\n",
    "    * `array` (required): input array\n",
    "    * `axis` (default = `None`):\n",
    "        * `None` = mean of all elements\n",
    "        * `0` = col-wise mean\n",
    "        * `1` = row-wise mean\n",
    "    * `dtype` (default = `None`): data type of the output mean\n",
    "    * `keepdims` (default = `False`)\n",
    "        * `True` = retains reduced dimensions\n",
    "        * `False` = does not retain reduced dimensions"
   ]
  },
  {
   "cell_type": "code",
   "execution_count": 238,
   "metadata": {
    "ExecuteTime": {
     "end_time": "2025-02-22T13:05:17.260276Z",
     "start_time": "2025-02-22T13:05:17.253576Z"
    },
    "colab": {
     "base_uri": "https://localhost:8080/"
    },
    "executionInfo": {
     "elapsed": 11,
     "status": "ok",
     "timestamp": 1743368138350,
     "user": {
      "displayName": "Pacurar Sebastian",
      "userId": "15686393619609976384"
     },
     "user_tz": -180
    },
    "id": "d_WHG9c0lY_N",
    "outputId": "89033f8f-f6b1-458b-ea65-07ac80dc4858"
   },
   "outputs": [
    {
     "name": "stdout",
     "output_type": "stream",
     "text": [
      "initial array: \n",
      "[[3 2 8]\n",
      " [4 5 1]] \n",
      "\n",
      "mean of all elems in the entire array: 3.8333333333333335\n",
      "\n",
      "mean of elems on every col: \n",
      "[3.5 3.5 4.5]\n",
      "\n",
      "mean of elems on every row: \n",
      "[4.33333333 3.33333333]\n",
      "\n"
     ]
    }
   ],
   "source": [
    "arr = np.array([[3, 2, 8],\n",
    "                [4, 5, 1]])\n",
    "\n",
    "print(f\"initial array: \\n{arr} \\n\")\n",
    "print(f\"mean of all elems in the entire array: {np.mean(arr)}\\n\")  # entire array\n",
    "print(f\"mean of elems on every col: \\n{np.mean(arr, axis=0)}\\n\")  # col-wise mean\n",
    "print(f\"mean of elems on every row: \\n{np.mean(arr, axis=1)}\\n\")  # row-wise mean"
   ]
  },
  {
   "cell_type": "markdown",
   "metadata": {
    "id": "_KzSKNy985cw"
   },
   "source": [
    "<br><hr><br>"
   ]
  },
  {
   "cell_type": "markdown",
   "metadata": {
    "id": "7YYoFiOYwZGX"
   },
   "source": [
    "## --TODO np.average()\n",
    "\n",
    "* Computes the weighted or unweighted average (mean) of an array\n",
    "* Syntax:\n",
    "```python\n",
    "np.average(a, axis=None, weights=None, returned=False)\n",
    "```\n",
    "\n",
    "* Args\n",
    "    * `a` (required): input array\n",
    "    * `axis` (default = `None`):\n",
    "        * `None` = average of all elements\n",
    "        * `0` = col-wise average\n",
    "        * `1` = row-wise average\n",
    "    * `weights` (default = `None`):\n",
    "        * `None` = no weights, same result as `np.mean()`\n",
    "        * array with the same shape as `a`\n",
    "    * `returned` (default = `False`):\n",
    "        * `False` = only returns the weighted average\n",
    "        * `True` = returns a tuple formed of average value and sum of weights\n"
   ]
  },
  {
   "cell_type": "code",
   "execution_count": 241,
   "metadata": {
    "colab": {
     "base_uri": "https://localhost:8080/"
    },
    "executionInfo": {
     "elapsed": 56,
     "status": "ok",
     "timestamp": 1743368138408,
     "user": {
      "displayName": "Pacurar Sebastian",
      "userId": "15686393619609976384"
     },
     "user_tz": -180
    },
    "id": "YDK3kxKMo5Cm",
    "outputId": "ec845b5c-9fb3-46b4-e57a-d394dd557d92"
   },
   "outputs": [
    {
     "name": "stdout",
     "output_type": "stream",
     "text": [
      "3.7\n"
     ]
    }
   ],
   "source": [
    "# using weights\n",
    "\n",
    "arr = np.array([1, 2, 3, 4, 5])\n",
    "weights = np.array([1, 1, 2, 2, 4])  # Give more weight to larger numbers\n",
    "\n",
    "weighted_avg = np.average(arr, weights=weights)\n",
    "\n",
    "print(weighted_avg)  # Output: 3.8333 (weighted mean)"
   ]
  },
  {
   "cell_type": "code",
   "execution_count": 242,
   "metadata": {
    "colab": {
     "base_uri": "https://localhost:8080/"
    },
    "executionInfo": {
     "elapsed": 40,
     "status": "ok",
     "timestamp": 1743368138449,
     "user": {
      "displayName": "Pacurar Sebastian",
      "userId": "15686393619609976384"
     },
     "user_tz": -180
    },
    "id": "fzLkJRJ0o9vx",
    "outputId": "24b0716b-209b-4eb8-9958-c6d4bdb0267a"
   },
   "outputs": [
    {
     "name": "stdout",
     "output_type": "stream",
     "text": [
      "[4. 5. 6.]\n"
     ]
    }
   ],
   "source": [
    "# using axis=0 (column-wise averaging)\n",
    "\n",
    "arr = np.array([\n",
    "    [1, 2, 3],\n",
    "    [4, 5, 6],\n",
    "    [7, 8, 9]\n",
    "])\n",
    "\n",
    "col_avg = np.average(arr, axis=0)  # Compute average along columns\n",
    "\n",
    "print(col_avg)  # Output: [4. 5. 6.] (average of each column)"
   ]
  },
  {
   "cell_type": "code",
   "execution_count": 243,
   "metadata": {
    "colab": {
     "base_uri": "https://localhost:8080/"
    },
    "executionInfo": {
     "elapsed": 26,
     "status": "ok",
     "timestamp": 1743368138525,
     "user": {
      "displayName": "Pacurar Sebastian",
      "userId": "15686393619609976384"
     },
     "user_tz": -180
    },
    "id": "ZXM3OQOdpByL",
    "outputId": "010de0a1-2046-4ec5-9ebd-c98ad51ad110"
   },
   "outputs": [
    {
     "name": "stdout",
     "output_type": "stream",
     "text": [
      "[2. 5. 8.]\n"
     ]
    }
   ],
   "source": [
    "# using axis=1 (row-wise averaging)\n",
    "\n",
    "arr = np.array([\n",
    "    [1, 2, 3],\n",
    "    [4, 5, 6],\n",
    "    [7, 8, 9]\n",
    "])\n",
    "\n",
    "row_avg = np.average(arr, axis=1)  # Compute average along rows\n",
    "\n",
    "print(row_avg)  # Output: [2. 5. 8.] (average of each row)"
   ]
  },
  {
   "cell_type": "code",
   "execution_count": 244,
   "metadata": {
    "colab": {
     "base_uri": "https://localhost:8080/"
    },
    "executionInfo": {
     "elapsed": 14,
     "status": "ok",
     "timestamp": 1743368138539,
     "user": {
      "displayName": "Pacurar Sebastian",
      "userId": "15686393619609976384"
     },
     "user_tz": -180
    },
    "id": "GmUX6yCxpKZ5",
    "outputId": "873b53f2-f287-433b-d6e2-250f3730795f"
   },
   "outputs": [
    {
     "name": "stdout",
     "output_type": "stream",
     "text": [
      "[5.5 6.5 7.5]\n"
     ]
    }
   ],
   "source": [
    "# using axis with weights\n",
    "\n",
    "arr = np.array([\n",
    "    [1, 2, 3],\n",
    "    [4, 5, 6],\n",
    "    [7, 8, 9]\n",
    "])\n",
    "\n",
    "weights = np.array([0.1, 0.3, 0.6])  # Higher weight for the last column\n",
    "col_weighted_avg = np.average(arr, axis=0, weights=weights)\n",
    "\n",
    "print(col_weighted_avg)  # Output: [5.5 6.5 7.5] (weighted column-wise mean)"
   ]
  },
  {
   "cell_type": "code",
   "execution_count": 245,
   "metadata": {
    "colab": {
     "base_uri": "https://localhost:8080/"
    },
    "executionInfo": {
     "elapsed": 86,
     "status": "ok",
     "timestamp": 1743368138627,
     "user": {
      "displayName": "Pacurar Sebastian",
      "userId": "15686393619609976384"
     },
     "user_tz": -180
    },
    "id": "JCUNc0U-pj71",
    "outputId": "e0294f8e-9b93-42f2-c9c7-c15b6266d160"
   },
   "outputs": [
    {
     "name": "stdout",
     "output_type": "stream",
     "text": [
      "[2.5 5.5 8.5] [1. 1. 1.]\n"
     ]
    }
   ],
   "source": [
    "# return example:\n",
    "\n",
    "# using axis with weights\n",
    "\n",
    "arr = np.array([\n",
    "    [1, 2, 3],\n",
    "    [4, 5, 6],\n",
    "    [7, 8, 9]\n",
    "])\n",
    "\n",
    "weights = np.array([0.1, 0.3, 0.6])  # Higher weight for the last column\n",
    "avg, sum_weights = np.average(arr, axis=1, weights=weights, returned=True)\n",
    "print(avg, sum_weights)"
   ]
  },
  {
   "cell_type": "markdown",
   "metadata": {
    "id": "wCoNszyRwZYv"
   },
   "source": [
    "<br><hr><br>"
   ]
  },
  {
   "cell_type": "markdown",
   "metadata": {
    "id": "uDNF0_KcXw7g"
   },
   "source": [
    "## np.median()\n",
    "\n",
    "* Computes the median (middle value) of an array\n",
    "* Syntax:\n",
    "```python\n",
    "np.median(arr, axis=None, out=None, overwrite_input=False)\n",
    "```\n",
    "\n",
    "* Args:\n",
    "    * `arr` (required): input array\n",
    "    * `axis` (default = `None`):\n",
    "        * `None` = global median\n",
    "        * `0` = col-wise median\n",
    "        * `1` = row-wise median\n",
    "    * `out` (optional): alternative output array\n",
    "    * `overwrite_input` (default = `False`):\n",
    "        * `False` = does not modify the input array\n",
    "        * `True` = mpdifies the input array"
   ]
  },
  {
   "cell_type": "code",
   "execution_count": 248,
   "metadata": {
    "colab": {
     "base_uri": "https://localhost:8080/"
    },
    "executionInfo": {
     "elapsed": 42,
     "status": "ok",
     "timestamp": 1743368138671,
     "user": {
      "displayName": "Pacurar Sebastian",
      "userId": "15686393619609976384"
     },
     "user_tz": -180
    },
    "id": "lUPl1gUO3UBN",
    "outputId": "caf1a3a8-5d9a-4454-d865-8b353ef91970"
   },
   "outputs": [
    {
     "name": "stdout",
     "output_type": "stream",
     "text": [
      "initial array: \n",
      "[[3 2 8]\n",
      " [4 5 1]\n",
      " [6 9 3]]\n",
      "\n",
      "median of all elems in the entire array: 4.0\n",
      "\n",
      "median of elems on every col: \n",
      "[4. 5. 3.]\n",
      "\n",
      "median of elems on every row: \n",
      "[3. 4. 6.]\n",
      "\n"
     ]
    }
   ],
   "source": [
    "arr = np.array([[3, 2, 8],\n",
    "                [4, 5, 1],\n",
    "                [6, 9, 3]])\n",
    "\n",
    "print(f\"initial array: \\n{arr}\\n\")\n",
    "print(f\"median of all elems in the entire array: {np.median(arr)}\\n\")  # entire array\n",
    "print(f\"median of elems on every col: \\n{np.median(arr, axis=0)}\\n\")  # col-wise min\n",
    "print(f\"median of elems on every row: \\n{np.median(arr, axis=1)}\\n\")  # row-wise min"
   ]
  },
  {
   "cell_type": "markdown",
   "metadata": {
    "id": "zdHptaM63V-8"
   },
   "source": [
    "<br><hr><hr><br>"
   ]
  },
  {
   "cell_type": "markdown",
   "metadata": {
    "id": "7iJuNX0UvpsK"
   },
   "source": [
    "# Dispersion (Spread)"
   ]
  },
  {
   "cell_type": "markdown",
   "metadata": {
    "id": "WXBReodPv8Wa"
   },
   "source": [
    "<br><hr><br>"
   ]
  },
  {
   "cell_type": "markdown",
   "metadata": {
    "id": "8YhTf5BEv91t"
   },
   "source": [
    "## np.var()\n",
    "* Computes the variance along the specified axis\n",
    "* Syntax:\n",
    "```python\n",
    "np.var(a, axis=None, dtype=None, out=None, ddof=0, keepdims=False, where=True)\n",
    "```\n",
    "\n",
    "* Args:\n",
    "    * `a` (required): input array\n",
    "    * `axis` (default = `None`):\n",
    "        * `None` = global variance\n",
    "        * `0` = col-wise variance\n",
    "        * `1` = row-wise variance\n",
    "    * `dtype` (default = `None`)\n",
    "        * `None` = type is the same as the input array\n",
    "    * `out` (default = `None`): output array in which to place the result\n",
    "    * `ddof` (default = `0`): Delta Degrees of Freedom\n",
    "    * `keepdims` (default = `False`):\n",
    "        * `True` = the reduced axes are left in the result as dimensions with size one\n",
    "    * `where` (default = `True`)\n",
    "        * elements to include in variance computation\n",
    "        * allows for conditional variance calculations"
   ]
  },
  {
   "cell_type": "markdown",
   "metadata": {
    "id": "z5b3DRcXVmH6"
   },
   "source": [
    "<br><hr><br>"
   ]
  },
  {
   "cell_type": "code",
   "execution_count": 254,
   "metadata": {
    "colab": {
     "base_uri": "https://localhost:8080/"
    },
    "executionInfo": {
     "elapsed": 47,
     "status": "ok",
     "timestamp": 1743368138718,
     "user": {
      "displayName": "Pacurar Sebastian",
      "userId": "15686393619609976384"
     },
     "user_tz": -180
    },
    "id": "OXNrnnOfdq_B",
    "outputId": "f7523574-2dcf-43d1-9ce3-bbb508c9a92d"
   },
   "outputs": [
    {
     "name": "stdout",
     "output_type": "stream",
     "text": [
      "initial array: \n",
      "[[1 2 3]\n",
      " [4 5 6]\n",
      " [7 8 9]]\n",
      "\n",
      "variance of x globally: \n",
      "6.666666666666667\n",
      "\n",
      "variance of x on col axis: \n",
      "[6. 6. 6.]\n",
      "\n",
      "variance of x on row axis: \n",
      "[0.66666667 0.66666667 0.66666667]\n",
      "\n"
     ]
    }
   ],
   "source": [
    "x = np.array([[1, 2, 3],\n",
    "              [4, 5, 6],\n",
    "              [7, 8, 9]])\n",
    "\n",
    "print(f\"initial array: \\n{x}\\n\")\n",
    "print(f\"variance of x globally: \\n{np.var(x)}\\n\")\n",
    "print(f\"variance of x on col axis: \\n{np.var(x, axis=0)}\\n\")\n",
    "print(f\"variance of x on row axis: \\n{np.var(x, axis=1)}\\n\")"
   ]
  },
  {
   "cell_type": "markdown",
   "metadata": {
    "id": "oWf-W4i0Vky_"
   },
   "source": [
    "## np.std()\n",
    "* Computes the standard deviation along the specified axis\n",
    "* Syntax:\n",
    "```python\n",
    "np.std(a, axis=None, dtype=None, out=None, ddof=0, keepdims=False, where=True)\n",
    "```\n",
    "\n",
    "* Args:\n",
    "    * `a` (required): input array\n",
    "    * `axis` (default = `None`):\n",
    "        * `None` = global std\n",
    "        * `0` = col-wise std\n",
    "        * `1` = row-wise std\n",
    "    * `dtype` (default = `None`)\n",
    "        * `None` = type is the same as the input array\n",
    "    * `out` (default = `None`): output array in which to place the result\n",
    "    * `ddof` (default = `0`): Delta Degrees of Freedom\n",
    "    * `keepdims` (default = `False`):\n",
    "        * `True` = the reduced axes are left in the result as dimensions with size one\n",
    "    * `where` (default = `True`)\n",
    "        * elements to include in std computation\n",
    "        * allows for conditional std calculations"
   ]
  },
  {
   "cell_type": "code",
   "execution_count": 256,
   "metadata": {
    "colab": {
     "base_uri": "https://localhost:8080/"
    },
    "executionInfo": {
     "elapsed": 48,
     "status": "ok",
     "timestamp": 1743368138803,
     "user": {
      "displayName": "Pacurar Sebastian",
      "userId": "15686393619609976384"
     },
     "user_tz": -180
    },
    "id": "JoUs1ROQe1JF",
    "outputId": "efdd159c-577d-42dc-c76e-d73445286c08"
   },
   "outputs": [
    {
     "name": "stdout",
     "output_type": "stream",
     "text": [
      "initial array: \n",
      "[[1 2 3]\n",
      " [4 5 6]\n",
      " [7 8 9]]\n",
      "\n",
      "std of x globally: \n",
      "2.581988897471611\n",
      "\n",
      "std of x on col axis: \n",
      "[2.44948974 2.44948974 2.44948974]\n",
      "\n",
      "std of x on row axis: \n",
      "[0.81649658 0.81649658 0.81649658]\n",
      "\n"
     ]
    }
   ],
   "source": [
    "x = np.array([[1, 2, 3],\n",
    "              [4, 5, 6],\n",
    "              [7, 8, 9]])\n",
    "\n",
    "print(f\"initial array: \\n{x}\\n\")\n",
    "print(f\"std of x globally: \\n{np.std(x)}\\n\")\n",
    "print(f\"std of x on col axis: \\n{np.std(x, axis=0)}\\n\")\n",
    "print(f\"std of x on row axis: \\n{np.std(x, axis=1)}\\n\")"
   ]
  },
  {
   "cell_type": "markdown",
   "metadata": {
    "id": "jX1eB7H3e1sU"
   },
   "source": [
    "<br><hr><br>"
   ]
  },
  {
   "cell_type": "markdown",
   "metadata": {
    "id": "tBvdGSjyuNZG"
   },
   "source": [
    "## np.ptp()\n",
    "\n",
    "* Returns the range (peak-to-peak value) of an array, which is the difference between the maximum and minimum values: `arr.max() - arr.min()`\n",
    "* Args:\n",
    "    * `array`: target array\n",
    "    * `axis` (optional): the axis along which to compute the p2p range\n",
    "        * `axis=None` (default): computes the range for the entire array\n",
    "        * `axis=0`: computes along columns\n",
    "        * `axis=1`: computes along rows\n",
    "\n",
    "    * `axis` (default = `None`): the axis along which to compute the p2p range:\n",
    "        * `None` = global range\n",
    "        * `0` = col-wise range\n",
    "        * `1` = row-wise range\n",
    "    * `keepdims` (default = `False`)\n",
    "        * `True` = retains reduced dimensions\n",
    "        * `False` = does not retain reduced dimensions"
   ]
  },
  {
   "cell_type": "code",
   "execution_count": 259,
   "metadata": {
    "ExecuteTime": {
     "end_time": "2025-02-22T13:05:17.386192Z",
     "start_time": "2025-02-22T13:05:17.381269Z"
    },
    "colab": {
     "base_uri": "https://localhost:8080/"
    },
    "executionInfo": {
     "elapsed": 52,
     "status": "ok",
     "timestamp": 1743368138857,
     "user": {
      "displayName": "Pacurar Sebastian",
      "userId": "15686393619609976384"
     },
     "user_tz": -180
    },
    "id": "z5eTI3w9lppu",
    "outputId": "66d93874-df14-4a29-8b17-d6243344166c"
   },
   "outputs": [
    {
     "name": "stdout",
     "output_type": "stream",
     "text": [
      "initial array: \n",
      "[[3 2 8]\n",
      " [4 5 1]] \n",
      "\n",
      "(max - min) in entire array: 7\n",
      "\n",
      "(max - min) on col axis: \n",
      "[1 3 7]\n",
      "\n",
      "(max - min) on row axis: \n",
      "[6 4]\n"
     ]
    }
   ],
   "source": [
    "arr = np.array([[3, 2, 8],\n",
    "                [4, 5, 1]])\n",
    "\n",
    "print(f\"initial array: \\n{arr} \\n\")\n",
    "print(f\"(max - min) in entire array: {np.ptp(arr)}\\n\")  # entire array\n",
    "print(f\"(max - min) on col axis: \\n{np.ptp(arr, axis=0)}\\n\")  # col-wise range\n",
    "print(f\"(max - min) on row axis: \\n{np.ptp(arr, axis=1)}\")  # row-wise range"
   ]
  },
  {
   "cell_type": "markdown",
   "metadata": {
    "id": "r_3-SzkEwA8j"
   },
   "source": [
    "<br><hr><br>"
   ]
  },
  {
   "cell_type": "markdown",
   "metadata": {
    "id": "mexeQju5XyeV"
   },
   "source": [
    "## --TODO np.percentile()\n",
    "\n",
    "* Computes the percentile of an array\n",
    "* Syntax:\n",
    "```python\n",
    "np.percentile(arr, q, axis=None, out=None, overwrite_input=False, method=\"linear\")\n",
    "```\n",
    "\n",
    "* Args:\n",
    "    * `arr` (required): input array\n",
    "    * `q` (required): precentile(s) to compute (0 to 100)\n",
    "    * `axis` (default = `None`):\n",
    "        * `None` = global percentile\n",
    "        * `0` = col-wise percentile\n",
    "        * `1` = row-wise percentile\n",
    "    * `out` (optional): alternative output array\n",
    "    * `overwrite_input` (default = `False`):\n",
    "        * `False` = does not modify the input array\n",
    "        * `True` = mpdifies the input array\n",
    "    * `method` (default = `linear`): interpolation method"
   ]
  },
  {
   "cell_type": "code",
   "execution_count": 262,
   "metadata": {
    "colab": {
     "base_uri": "https://localhost:8080/"
    },
    "executionInfo": {
     "elapsed": 65,
     "status": "ok",
     "timestamp": 1743368138958,
     "user": {
      "displayName": "Pacurar Sebastian",
      "userId": "15686393619609976384"
     },
     "user_tz": -180
    },
    "id": "v_ri7aaF35Jq",
    "outputId": "431c4fae-024f-4095-b950-433a846f4b97"
   },
   "outputs": [
    {
     "name": "stdout",
     "output_type": "stream",
     "text": [
      "30.0\n",
      "[20. 40.]\n"
     ]
    }
   ],
   "source": [
    "arr = np.array([10, 20, 30, 40, 50])\n",
    "print(np.percentile(arr, 50))\n",
    "print(np.percentile(arr, [25, 75]))"
   ]
  },
  {
   "cell_type": "code",
   "execution_count": 263,
   "metadata": {
    "colab": {
     "base_uri": "https://localhost:8080/"
    },
    "executionInfo": {
     "elapsed": 49,
     "status": "ok",
     "timestamp": 1743368139010,
     "user": {
      "displayName": "Pacurar Sebastian",
      "userId": "15686393619609976384"
     },
     "user_tz": -180
    },
    "id": "kyZRHIBsG881",
    "outputId": "40d27e7c-8acd-460d-bfb2-cea43fa774dd"
   },
   "outputs": [
    {
     "name": "stdout",
     "output_type": "stream",
     "text": [
      "5.0\n"
     ]
    }
   ],
   "source": [
    "arr = np.array([[1, 2, 3],\n",
    "                [4, 5, 6],\n",
    "                [7, 8, 9]])\n",
    "\n",
    "# compute the 50th percentile (median) for the entire array\n",
    "print(np.percentile(arr, 50))"
   ]
  },
  {
   "cell_type": "code",
   "execution_count": 264,
   "metadata": {
    "colab": {
     "base_uri": "https://localhost:8080/"
    },
    "executionInfo": {
     "elapsed": 25,
     "status": "ok",
     "timestamp": 1743368139053,
     "user": {
      "displayName": "Pacurar Sebastian",
      "userId": "15686393619609976384"
     },
     "user_tz": -180
    },
    "id": "XY9pD9wZLUnM",
    "outputId": "f84c3ebc-4c50-4540-94b3-9ded582969b8"
   },
   "outputs": [
    {
     "name": "stdout",
     "output_type": "stream",
     "text": [
      "[3. 7.]\n"
     ]
    }
   ],
   "source": [
    "arr = np.array([[1, 2, 3],\n",
    "                [4, 5, 6],\n",
    "                [7, 8, 9]])\n",
    "\n",
    "# compute the 25th and 75th percentiles for the entire array\n",
    "print(np.percentile(arr, [25, 75]))"
   ]
  },
  {
   "cell_type": "code",
   "execution_count": 265,
   "metadata": {
    "colab": {
     "base_uri": "https://localhost:8080/"
    },
    "executionInfo": {
     "elapsed": 29,
     "status": "ok",
     "timestamp": 1743368139104,
     "user": {
      "displayName": "Pacurar Sebastian",
      "userId": "15686393619609976384"
     },
     "user_tz": -180
    },
    "id": "mIK6UbQoLUeg",
    "outputId": "3b8c49c2-d286-45f0-c09d-dbe3e371c15b"
   },
   "outputs": [
    {
     "name": "stdout",
     "output_type": "stream",
     "text": [
      "[4. 5. 6.]\n"
     ]
    }
   ],
   "source": [
    "arr = np.array([[1, 2, 3],\n",
    "                [4, 5, 6],\n",
    "                [7, 8, 9]])\n",
    "\n",
    "# compute the 50th percentile (median) along each column (axis=0)\n",
    "print(np.percentile(arr, 50, axis=0))"
   ]
  },
  {
   "cell_type": "code",
   "execution_count": 266,
   "metadata": {
    "colab": {
     "base_uri": "https://localhost:8080/"
    },
    "executionInfo": {
     "elapsed": 69,
     "status": "ok",
     "timestamp": 1743368139212,
     "user": {
      "displayName": "Pacurar Sebastian",
      "userId": "15686393619609976384"
     },
     "user_tz": -180
    },
    "id": "njJEhB05LUW1",
    "outputId": "fdab5b7d-84e1-4662-9576-6feef9c46d28"
   },
   "outputs": [
    {
     "name": "stdout",
     "output_type": "stream",
     "text": [
      "[[2.5 3.5 4.5]\n",
      " [5.5 6.5 7.5]]\n"
     ]
    }
   ],
   "source": [
    "arr = np.array([[1, 2, 3],\n",
    "                [4, 5, 6],\n",
    "                [7, 8, 9]])\n",
    "\n",
    "# compute the 25th and 75th percentiles along each column (axis=0)\n",
    "print(np.percentile(arr, [25, 75], axis=0))"
   ]
  },
  {
   "cell_type": "code",
   "execution_count": 267,
   "metadata": {
    "colab": {
     "base_uri": "https://localhost:8080/"
    },
    "executionInfo": {
     "elapsed": 33,
     "status": "ok",
     "timestamp": 1743368139246,
     "user": {
      "displayName": "Pacurar Sebastian",
      "userId": "15686393619609976384"
     },
     "user_tz": -180
    },
    "id": "wMJyLEVdLUPT",
    "outputId": "0024912d-0d09-4836-c791-0a77cb4ba870"
   },
   "outputs": [
    {
     "name": "stdout",
     "output_type": "stream",
     "text": [
      "[2. 5. 8.]\n"
     ]
    }
   ],
   "source": [
    "arr = np.array([[1, 2, 3],\n",
    "                [4, 5, 6],\n",
    "                [7, 8, 9]])\n",
    "\n",
    "# compute the 50th percentile (median) along each row (axis=1)\n",
    "print(np.percentile(arr, 50, axis=1))"
   ]
  },
  {
   "cell_type": "code",
   "execution_count": 268,
   "metadata": {
    "colab": {
     "base_uri": "https://localhost:8080/"
    },
    "executionInfo": {
     "elapsed": 68,
     "status": "ok",
     "timestamp": 1743368139362,
     "user": {
      "displayName": "Pacurar Sebastian",
      "userId": "15686393619609976384"
     },
     "user_tz": -180
    },
    "id": "cZZCXfN5LUC3",
    "outputId": "055263ed-a5b0-4aec-9353-a1ef27414cd2"
   },
   "outputs": [
    {
     "name": "stdout",
     "output_type": "stream",
     "text": [
      "[[1.5 4.5 7.5]\n",
      " [2.5 5.5 8.5]]\n"
     ]
    }
   ],
   "source": [
    "arr = np.array([[1, 2, 3],\n",
    "                [4, 5, 6],\n",
    "                [7, 8, 9]])\n",
    "\n",
    "# compute the 25th and 75th percentiles along each row (axis=1)\n",
    "print(np.percentile(arr, [25, 75], axis=1))"
   ]
  },
  {
   "cell_type": "markdown",
   "metadata": {
    "id": "ul8939cmXN8X"
   },
   "source": [
    "<br><hr><br>"
   ]
  },
  {
   "cell_type": "markdown",
   "metadata": {
    "id": "E8q2QpZCVuCs"
   },
   "source": [
    "## --TODO np.quantile()\n",
    "* Computes the q-th quantile of the data (similar to np.percentile() but takes values between 0 and 1 instead of 0 to 100\n",
    "* Syntax:\n",
    "```python\n",
    "np.quantile(arr, q, axis=None, out=None, overwrite_input=False, method=\"linear\")\n",
    "```\n",
    "\n",
    "* Args:\n",
    "    * `arr` (required): input array\n",
    "    * `q` (required): a float or array of floats in the range [0, 1]\n",
    "        * `0.5` = median (50th percentile)\n",
    "        * `0.25` = first quartile (Q1)\n",
    "        * `0.75` = third quartile (Q3)\n",
    "    * `axis` (default = `None`)"
   ]
  },
  {
   "cell_type": "code",
   "execution_count": 271,
   "metadata": {
    "colab": {
     "base_uri": "https://localhost:8080/"
    },
    "executionInfo": {
     "elapsed": 16,
     "status": "ok",
     "timestamp": 1743368139380,
     "user": {
      "displayName": "Pacurar Sebastian",
      "userId": "15686393619609976384"
     },
     "user_tz": -180
    },
    "id": "qYtStbGJZL-I",
    "outputId": "b77e3868-87e3-46b3-f549-10c349b7e195"
   },
   "outputs": [
    {
     "name": "stdout",
     "output_type": "stream",
     "text": [
      "30.0\n",
      "[20. 40.]\n"
     ]
    }
   ],
   "source": [
    "arr = np.array([10, 20, 30, 40, 50])\n",
    "\n",
    "# compute the 50th percentile (median) using quantiles (0.5 = 50%)\n",
    "print(np.quantile(arr, 0.5))\n",
    "\n",
    "# compute the 25th and 75th percentiles using quantiles (0.25 and 0.75)\n",
    "print(np.quantile(arr, [0.25, 0.75]))"
   ]
  },
  {
   "cell_type": "code",
   "execution_count": 272,
   "metadata": {
    "colab": {
     "base_uri": "https://localhost:8080/"
    },
    "executionInfo": {
     "elapsed": 30,
     "status": "ok",
     "timestamp": 1743368139411,
     "user": {
      "displayName": "Pacurar Sebastian",
      "userId": "15686393619609976384"
     },
     "user_tz": -180
    },
    "id": "wd6eNCBEZL-J",
    "outputId": "42e055e6-3ee0-4b23-b573-a948d7ef5fbf"
   },
   "outputs": [
    {
     "name": "stdout",
     "output_type": "stream",
     "text": [
      "5.0\n"
     ]
    }
   ],
   "source": [
    "arr = np.array([[1, 2, 3],\n",
    "                [4, 5, 6],\n",
    "                [7, 8, 9]])\n",
    "\n",
    "# compute the 50th percentile (median) for the entire array (flattened)\n",
    "print(np.quantile(arr, 0.5))"
   ]
  },
  {
   "cell_type": "code",
   "execution_count": 273,
   "metadata": {
    "colab": {
     "base_uri": "https://localhost:8080/"
    },
    "executionInfo": {
     "elapsed": 44,
     "status": "ok",
     "timestamp": 1743368139457,
     "user": {
      "displayName": "Pacurar Sebastian",
      "userId": "15686393619609976384"
     },
     "user_tz": -180
    },
    "id": "EvMFix31ZL-J",
    "outputId": "3d9a943c-3c7a-4d7f-d082-c1a2aa93247b"
   },
   "outputs": [
    {
     "name": "stdout",
     "output_type": "stream",
     "text": [
      "[3. 7.]\n"
     ]
    }
   ],
   "source": [
    "arr = np.array([[1, 2, 3],\n",
    "                [4, 5, 6],\n",
    "                [7, 8, 9]])\n",
    "\n",
    "# compute the 25th and 75th percentiles for the entire array (flattened)\n",
    "print(np.quantile(arr, [0.25, 0.75]))"
   ]
  },
  {
   "cell_type": "code",
   "execution_count": 274,
   "metadata": {
    "colab": {
     "base_uri": "https://localhost:8080/"
    },
    "executionInfo": {
     "elapsed": 9,
     "status": "ok",
     "timestamp": 1743368139497,
     "user": {
      "displayName": "Pacurar Sebastian",
      "userId": "15686393619609976384"
     },
     "user_tz": -180
    },
    "id": "3Ue7FFECZL-K",
    "outputId": "9d48cf30-4899-4e6b-e071-326e276252d2"
   },
   "outputs": [
    {
     "name": "stdout",
     "output_type": "stream",
     "text": [
      "[4. 5. 6.]\n"
     ]
    }
   ],
   "source": [
    "arr = np.array([[1, 2, 3],\n",
    "                [4, 5, 6],\n",
    "                [7, 8, 9]])\n",
    "\n",
    "# compute the 50th percentile (median) along each column (axis=0)\n",
    "print(np.quantile(arr, 0.5, axis=0))"
   ]
  },
  {
   "cell_type": "code",
   "execution_count": 275,
   "metadata": {
    "colab": {
     "base_uri": "https://localhost:8080/"
    },
    "executionInfo": {
     "elapsed": 108,
     "status": "ok",
     "timestamp": 1743368139606,
     "user": {
      "displayName": "Pacurar Sebastian",
      "userId": "15686393619609976384"
     },
     "user_tz": -180
    },
    "id": "nBD1d_E1ZL-K",
    "outputId": "caad7bb5-dc59-4b4b-9f7e-7d5bca5a66f7"
   },
   "outputs": [
    {
     "name": "stdout",
     "output_type": "stream",
     "text": [
      "[[2.5 3.5 4.5]\n",
      " [5.5 6.5 7.5]]\n"
     ]
    }
   ],
   "source": [
    "arr = np.array([[1, 2, 3],\n",
    "                [4, 5, 6],\n",
    "                [7, 8, 9]])\n",
    "\n",
    "# compute the 25th and 75th percentiles along each column (axis=0)\n",
    "print(np.quantile(arr, [0.25, 0.75], axis=0))"
   ]
  },
  {
   "cell_type": "code",
   "execution_count": 276,
   "metadata": {
    "colab": {
     "base_uri": "https://localhost:8080/"
    },
    "executionInfo": {
     "elapsed": 32,
     "status": "ok",
     "timestamp": 1743368139641,
     "user": {
      "displayName": "Pacurar Sebastian",
      "userId": "15686393619609976384"
     },
     "user_tz": -180
    },
    "id": "Ia2x0JlMZL-K",
    "outputId": "b86668a3-fffb-4df8-ba94-cafe429fea58"
   },
   "outputs": [
    {
     "name": "stdout",
     "output_type": "stream",
     "text": [
      "[2. 5. 8.]\n"
     ]
    }
   ],
   "source": [
    "arr = np.array([[1, 2, 3],\n",
    "                [4, 5, 6],\n",
    "                [7, 8, 9]])\n",
    "\n",
    "# compute the 50th percentile (median) along each row (axis=1)\n",
    "print(np.quantile(arr, 0.5, axis=1))"
   ]
  },
  {
   "cell_type": "code",
   "execution_count": 277,
   "metadata": {
    "colab": {
     "base_uri": "https://localhost:8080/"
    },
    "executionInfo": {
     "elapsed": 9,
     "status": "ok",
     "timestamp": 1743368139651,
     "user": {
      "displayName": "Pacurar Sebastian",
      "userId": "15686393619609976384"
     },
     "user_tz": -180
    },
    "id": "QxbPY3RCZL-L",
    "outputId": "29927e79-6ae9-43e7-c709-882215eb156e"
   },
   "outputs": [
    {
     "name": "stdout",
     "output_type": "stream",
     "text": [
      "[[1.5 4.5 7.5]\n",
      " [2.5 5.5 8.5]]\n"
     ]
    }
   ],
   "source": [
    "arr = np.array([[1, 2, 3],\n",
    "                [4, 5, 6],\n",
    "                [7, 8, 9]])\n",
    "\n",
    "# compute the 25th and 75th percentiles along each row (axis=1)\n",
    "print(np.quantile(arr, [0.25, 0.75], axis=1))"
   ]
  },
  {
   "cell_type": "markdown",
   "metadata": {
    "id": "0iPmL9Pdvuzj"
   },
   "source": [
    "<br><hr><hr><br>"
   ]
  },
  {
   "cell_type": "markdown",
   "metadata": {
    "id": "RMn2vIiKhfgp"
   },
   "source": [
    "# Other functions"
   ]
  },
  {
   "cell_type": "markdown",
   "metadata": {
    "id": "eTbcomDk8vt6"
   },
   "source": [
    "<br><hr><br>"
   ]
  },
  {
   "cell_type": "markdown",
   "metadata": {
    "id": "qeRsWRp5uUEZ"
   },
   "source": [
    "## np.fill()\n",
    "\n",
    "* Fills an existing array with a specified scalar value\n",
    "* Modifies the array in place\n",
    "* Faster than filling using broadcasting, because it does not create an intermediacte object, it simply updates memory locations\n",
    "* Syntax:\n",
    "```python\n",
    "arr.fill(value)\n",
    "```\n",
    "\n",
    "* Args:\n",
    "    * `value` (required): the scalar value used to fill the array\n"
   ]
  },
  {
   "cell_type": "code",
   "execution_count": 282,
   "metadata": {
    "ExecuteTime": {
     "end_time": "2025-02-22T13:05:16.957596Z",
     "start_time": "2025-02-22T13:05:16.951755Z"
    },
    "colab": {
     "base_uri": "https://localhost:8080/"
    },
    "executionInfo": {
     "elapsed": 6,
     "status": "ok",
     "timestamp": 1743368139658,
     "user": {
      "displayName": "Pacurar Sebastian",
      "userId": "15686393619609976384"
     },
     "user_tz": -180
    },
    "id": "05HDPNThj8tQ",
    "outputId": "a85695c2-0b76-4df3-bab6-f0c6cd244d6d"
   },
   "outputs": [
    {
     "data": {
      "text/plain": [
       "(array([[2, 2, 2],\n",
       "        [2, 2, 2],\n",
       "        [2, 2, 2]], dtype=int64),\n",
       " array([[8, 8, 8],\n",
       "        [8, 8, 8],\n",
       "        [8, 8, 8]], dtype=int64))"
      ]
     },
     "execution_count": 282,
     "metadata": {},
     "output_type": "execute_result"
    }
   ],
   "source": [
    "# fill an array\n",
    "a = np.zeros((3, 3), dtype=np.int64)\n",
    "b = a.copy()\n",
    "\n",
    "a[:] = 2  # fill using broadcasting\n",
    "b.fill(8)  # fill using fill()\n",
    "a, b"
   ]
  },
  {
   "cell_type": "markdown",
   "metadata": {
    "id": "--cC3urm8xM4"
   },
   "source": [
    "<br><hr><br>"
   ]
  },
  {
   "cell_type": "markdown",
   "metadata": {
    "id": "ek-bsRlTWFcp"
   },
   "source": [
    "## np.sort()\n",
    "\n",
    "* Returns a sorted copy of an array along a specified axis\n",
    "* Syntax:\n",
    "```python\n",
    "np.sort(array, axis=-1, kind=\"quicksort\", order=None)\n",
    "```\n",
    "\n",
    "* Args:\n",
    "    * `array` (required): input array\n",
    "    * `axis` (default = `-1`):\n",
    "        * `None` = flatten and sort\n",
    "        * `0` = sort along columns\n",
    "        * `1` = sort along rows\n",
    "    * `kind` (default = `\"quicksort\"`): sorting algorithm:\n",
    "        * `\"quicksort\"`\n",
    "        * `\"mergesort\"`\n",
    "        * `\"heapsort\"`\n",
    "        * `\"stable\"`\n",
    "    * `order` (default = `None`): field name for sorting structured arrays"
   ]
  },
  {
   "cell_type": "code",
   "execution_count": 285,
   "metadata": {
    "ExecuteTime": {
     "end_time": "2025-02-22T13:05:16.841379Z",
     "start_time": "2025-02-22T13:05:16.832879Z"
    },
    "colab": {
     "base_uri": "https://localhost:8080/"
    },
    "executionInfo": {
     "elapsed": 49,
     "status": "ok",
     "timestamp": 1743368139708,
     "user": {
      "displayName": "Pacurar Sebastian",
      "userId": "15686393619609976384"
     },
     "user_tz": -180
    },
    "id": "fa6ILaZojebb",
    "outputId": "9109c1c4-2237-4deb-c56e-ad25e71b3d85"
   },
   "outputs": [
    {
     "data": {
      "text/plain": [
       "(array([[2., 9., 2.],\n",
       "        [4., 4., 3.],\n",
       "        [4., 4., 3.]]),\n",
       " array([[2., 4., 2.],\n",
       "        [4., 4., 3.],\n",
       "        [4., 9., 3.]]),\n",
       " array([[2., 2., 9.],\n",
       "        [3., 4., 4.],\n",
       "        [3., 4., 4.]]))"
      ]
     },
     "execution_count": 285,
     "metadata": {},
     "output_type": "execute_result"
    }
   ],
   "source": [
    "# sort arrays\n",
    "a = np.eye(3)\n",
    "\n",
    "a[1:, :2] = 4\n",
    "a[0, 0] = 2\n",
    "a[0, 1] = 9\n",
    "a[0, -1] = 2\n",
    "a[1:, -1] = 3\n",
    "\n",
    "col_sort = np.sort(a, axis=0, kind='quicksort')  # sort based on columns. quicksort is the default algo\n",
    "row_sort = np.sort(a, axis=1, kind='quicksort')  # sort based on rows, which is default (1). quicksort is the default algo\n",
    "a, col_sort, row_sort"
   ]
  },
  {
   "cell_type": "markdown",
   "metadata": {
    "id": "oF6PRdcE8xvc"
   },
   "source": [
    "<br><hr><br>"
   ]
  },
  {
   "cell_type": "markdown",
   "metadata": {
    "id": "xOC87cc4uYsz"
   },
   "source": [
    "## np.sum()\n",
    "\n",
    "* Computes the sum of all elements in an array along a specified axis\n",
    "* Syntax:\n",
    "```python\n",
    "np.sum(array, axis=None, dtype=None, keepdims=False)\n",
    "```\n",
    "\n",
    "* Args:\n",
    "    * `array` (required): input array\n",
    "    * `axis` (default = `None`)\n",
    "        * `None` = sum of all elements\n",
    "        * `0` = col-wise sum\n",
    "        * `1` = row-sie sum\n",
    "    * `dtype` (default = `None`): data type of the output sum\n",
    "    * `keepdims` (default = `False`)\n",
    "        * `True` = retains reduced dimensions\n",
    "        * `False` = does not retain reduced dimensions"
   ]
  },
  {
   "cell_type": "code",
   "execution_count": 288,
   "metadata": {
    "ExecuteTime": {
     "end_time": "2025-02-22T13:05:17.155421Z",
     "start_time": "2025-02-22T13:05:17.149131Z"
    },
    "colab": {
     "base_uri": "https://localhost:8080/"
    },
    "executionInfo": {
     "elapsed": 46,
     "status": "ok",
     "timestamp": 1743368139768,
     "user": {
      "displayName": "Pacurar Sebastian",
      "userId": "15686393619609976384"
     },
     "user_tz": -180
    },
    "id": "C5qUst7ClLRn",
    "outputId": "fcec77d0-f62b-4816-bdd1-fc62ac32da8a"
   },
   "outputs": [
    {
     "name": "stdout",
     "output_type": "stream",
     "text": [
      "initial array: \n",
      "[[1 2 3]\n",
      " [4 5 6]] \n",
      "\n",
      "sum of all elems in the entire array: 21\n",
      "\n",
      "sum of elems on every col: \n",
      "[5 7 9]\n",
      "\n",
      "sum of elems on every row: \n",
      "[ 6 15]\n",
      "\n"
     ]
    }
   ],
   "source": [
    "arr = np.array([[1, 2, 3],\n",
    "                [4, 5, 6]])\n",
    "\n",
    "print(f\"initial array: \\n{arr} \\n\")\n",
    "print(f\"sum of all elems in the entire array: {arr.sum()}\\n\")  # entire array\n",
    "print(f\"sum of elems on every col: \\n{arr.sum(axis=0)}\\n\")  # col-wise sum\n",
    "print(f\"sum of elems on every row: \\n{arr.sum(axis=1)}\\n\")  # row-wise sum"
   ]
  },
  {
   "cell_type": "markdown",
   "metadata": {
    "id": "xHLq6s0i8yUk"
   },
   "source": [
    "<br><hr><br>"
   ]
  },
  {
   "cell_type": "markdown",
   "metadata": {
    "id": "MK2h1Q3juZpy"
   },
   "source": [
    "## np.prod()\n",
    "\n",
    "* Computes the product of all elements in an array along a specified axis\n",
    "* Syntax:\n",
    "```python\n",
    "np.prod(array, axis=None, dtype=None, keepdims=False)\n",
    "```\n",
    "\n",
    "* Args:\n",
    "    * `array` (required): input array\n",
    "    * `axis` (default = `None`):\n",
    "        * `None` = product of all elements\n",
    "        * `0` = col-wise product\n",
    "        * `1` = row-wise product\n",
    "    * `dtype` (default=`None`): data type of the output product\n",
    "    * `keepdims` (default = `False`)\n",
    "        * `True` = retains reduced dimensions\n",
    "        * `False` = does not retain reduced dimensions"
   ]
  },
  {
   "cell_type": "code",
   "execution_count": 291,
   "metadata": {
    "colab": {
     "base_uri": "https://localhost:8080/"
    },
    "executionInfo": {
     "elapsed": 73,
     "status": "ok",
     "timestamp": 1743368139863,
     "user": {
      "displayName": "Pacurar Sebastian",
      "userId": "15686393619609976384"
     },
     "user_tz": -180
    },
    "id": "FKphAI4bNn_9",
    "outputId": "2a84ab06-0dc4-48be-c139-edcb27372178"
   },
   "outputs": [
    {
     "name": "stdout",
     "output_type": "stream",
     "text": [
      "initial array: \n",
      "[[1 2 3]\n",
      " [4 5 6]] \n",
      "\n",
      "prod of all elems in the entire array: 720\n",
      "\n",
      "prod of elems on every col: \n",
      "[ 4 10 18]\n",
      "\n",
      "prod of elems on every row: \n",
      "[  6 120]\n",
      "\n"
     ]
    }
   ],
   "source": [
    "arr = np.array([[1, 2, 3],\n",
    "                [4, 5, 6]])\n",
    "\n",
    "print(f\"initial array: \\n{arr} \\n\")\n",
    "print(f\"prod of all elems in the entire array: {arr.prod()}\\n\")  # entire array\n",
    "print(f\"prod of elems on every col: \\n{arr.prod(axis=0)}\\n\")  # col-wise prod\n",
    "print(f\"prod of elems on every row: \\n{arr.prod(axis=1)}\\n\")  # row-wise prod"
   ]
  },
  {
   "cell_type": "markdown",
   "metadata": {
    "id": "d2GsAvA7y9_g"
   },
   "source": [
    "<br><hr><br>"
   ]
  },
  {
   "cell_type": "markdown",
   "metadata": {
    "id": "FexqtixbzALm"
   },
   "source": [
    "## np.polyfit()\n",
    "\n",
    "* Fit a polynomial to data using the least squares method\n",
    "* Syntax:\n",
    "```python\n",
    "np.polyfit(x, y, deg, rcond=None, full=False, w=None, cov=False)\n",
    "```\n",
    "\n",
    "* Args:\n",
    "    * `x` (required): input data (independent variable)\n",
    "    * `y` (required): target data (dependent variable)\n",
    "    * `deg` (required): the deggree of the polynomial to fit:\n",
    "        * `1` = linear\n",
    "        * `2` = quadratic\n",
    "        * `3` = cubic\n",
    "        * `n` = n-th deggree\n",
    "    * `rcond` (default = `None`): a value for the relative condition number used in the least-squares fitting\n",
    "    * `full` (default = `False`):\n",
    "        * `True` = return diagnostic info for the fit\n",
    "        * `False` = do not return diagnostic info\n",
    "    * `w` (default= `None`): weights for each data point, used in weighted least squares\n",
    "    * `cov` (default = `False`):\n",
    "        * `True` = return the covariance matrix of the estimated coefficients\n",
    "        * `False` = do not return the matrix"
   ]
  },
  {
   "cell_type": "code",
   "execution_count": 294,
   "metadata": {
    "colab": {
     "base_uri": "https://localhost:8080/"
    },
    "executionInfo": {
     "elapsed": 28,
     "status": "ok",
     "timestamp": 1743368139893,
     "user": {
      "displayName": "Pacurar Sebastian",
      "userId": "15686393619609976384"
     },
     "user_tz": -180
    },
    "id": "0pOqj0kf06NL",
    "outputId": "0d6d2784-c430-44fe-895b-c557e37b07dd"
   },
   "outputs": [
    {
     "name": "stdout",
     "output_type": "stream",
     "text": [
      "[ 1.9342196  -0.46114059  0.07268842]\n"
     ]
    }
   ],
   "source": [
    "x = np.linspace(-3, 3, 20)\n",
    "y = 2 * x ** 2 + np.random.randn(20) * 2  # quadratic relationship with noise\n",
    "\n",
    "coeffs = np.polyfit(x, y, deg=2)\n",
    "print(coeffs)  # output: [a, b, c] for ax^2 + bx + c"
   ]
  },
  {
   "cell_type": "code",
   "execution_count": 295,
   "metadata": {
    "colab": {
     "base_uri": "https://localhost:8080/"
    },
    "executionInfo": {
     "elapsed": 36,
     "status": "ok",
     "timestamp": 1743368214398,
     "user": {
      "displayName": "Pacurar Sebastian",
      "userId": "15686393619609976384"
     },
     "user_tz": -180
    },
    "id": "GB9SVgdK15bp",
    "outputId": "36de9d3d-dbc2-42ad-8b2a-fd8e80932e75"
   },
   "outputs": [
    {
     "name": "stdout",
     "output_type": "stream",
     "text": [
      "[ 2.33136888  0.14934561 -1.20256701]\n"
     ]
    }
   ],
   "source": [
    "x = np.linspace(-3, 3, 20)\n",
    "y = 2 * x ** 2 + np.random.randn(20) * 2  # quadratic relationship with noise\n",
    "\n",
    "coeffs = np.polyfit(x, y, deg=2, rcond=1e-3)  # uses a smaller threshold for singular values\n",
    "print(coeffs)"
   ]
  },
  {
   "cell_type": "code",
   "execution_count": 296,
   "metadata": {
    "colab": {
     "base_uri": "https://localhost:8080/"
    },
    "executionInfo": {
     "elapsed": 32,
     "status": "ok",
     "timestamp": 1743368769275,
     "user": {
      "displayName": "Pacurar Sebastian",
      "userId": "15686393619609976384"
     },
     "user_tz": -180
    },
    "id": "YXjmODxT2G7t",
    "outputId": "b963561a-939d-46a2-b7bc-32222ada6102"
   },
   "outputs": [
    {
     "name": "stdout",
     "output_type": "stream",
     "text": [
      "coefficients: [1.77644751 0.04754204 0.33541756]\n",
      "residuals (sum of squared residuals): [79.45430868]\n",
      "rank: 3\n",
      "singular values: [1.32159165 1.         0.50338405]\n",
      "condition number threshold: 4.440892098500626e-15\n"
     ]
    }
   ],
   "source": [
    "x = np.linspace(-3, 3, 20)\n",
    "y = 2 * x ** 2 + np.random.randn(20) * 2  # quadratic relationship with noise\n",
    "\n",
    "coeffs, residuals, rank, singular_values, rcond = np.polyfit(x, y, deg=2, full=True)\n",
    "\n",
    "print(f\"coefficients: {coeffs}\\nresiduals (sum of squared residuals): {residuals}\\nrank: {rank}\")\n",
    "print(f\"singular values: {singular_values}\\ncondition number threshold: {rcond}\")"
   ]
  },
  {
   "cell_type": "code",
   "execution_count": 297,
   "metadata": {
    "colab": {
     "base_uri": "https://localhost:8080/"
    },
    "executionInfo": {
     "elapsed": 31,
     "status": "ok",
     "timestamp": 1743368814546,
     "user": {
      "displayName": "Pacurar Sebastian",
      "userId": "15686393619609976384"
     },
     "user_tz": -180
    },
    "id": "hyXs5mXk3Zxn",
    "outputId": "d5ecf3ca-0da2-4d43-dfea-914793bee7ff"
   },
   "outputs": [
    {
     "name": "stdout",
     "output_type": "stream",
     "text": [
      "coefficients: [1.77644751 0.04754204 0.33541756]\n",
      "covariance matrix:\n",
      "[[ 2.67702460e-02  1.06429232e-17 -8.87644999e-02]\n",
      " [ 1.06429232e-17  7.04776781e-02 -2.99466756e-17]\n",
      " [-8.87644999e-02 -2.99466756e-17  5.28013538e-01]]\n"
     ]
    }
   ],
   "source": [
    "coeffs, cov_matrix = np.polyfit(x, y, deg=2, cov=True)\n",
    "print(f\"coefficients: {coeffs}\\ncovariance matrix:\\n{cov_matrix}\")"
   ]
  },
  {
   "cell_type": "markdown",
   "metadata": {
    "id": "LTwbfe9p06nb"
   },
   "source": [
    "<br><hr><br>"
   ]
  },
  {
   "cell_type": "markdown",
   "metadata": {
    "id": "Mv8pmGwu09cD"
   },
   "source": [
    "## -- TODO np.poly1d(c)\n",
    "\n",
    "* Create a polynomial function from a set of coefficients\n",
    "* Allows for easy evaluation of the polynomial at different values\n",
    "* Syntax:\n",
    "```python\n",
    "np.poly1d(c)\n",
    "```\n",
    "\n",
    "* Args:\n",
    "    * `c` (required): an array containing the coefficients of the polynomial, ordered from highest degree to lowest"
   ]
  },
  {
   "cell_type": "markdown",
   "metadata": {
    "id": "VXG1rxJi8zLS"
   },
   "source": [
    "<br><hr><br>"
   ]
  },
  {
   "cell_type": "markdown",
   "metadata": {
    "id": "pvstSjxcJrQl"
   },
   "source": [
    "## np.meshgrid()\n",
    "* Creates coordinate grids from 1D arrays, allowing to plot 2D functions, such as $f(x, y)$\n",
    "* Typically used for plotting functions, vector fields, numerical simulations\n",
    "* Syntax:\n",
    "```python\n",
    "np.meshgrid(*xi, copy=True, sparse=False, indexing=\"xy\")\n",
    "```\n",
    "* Args:\n",
    "    * `*xi` (required): input 1D arrays\n",
    "    * `copy` (default = `True`):\n",
    "        * `True` = creates a copy of the input data\n",
    "        * `False` = uses a reference when possible\n",
    "    * `sparse` (default = `False`):\n",
    "        * `True` = returns only necessary data for memory efficiency (useful for large grids)\n",
    "        * `False` = returns full coordinate arrays\n",
    "    * `indexing` (default = `\"xy\"`):\n",
    "        * `\"xy\"` = creates a grid in Cartesian (matrix-style) coords\n",
    "        * `\"ij\"` = creates a grid in index-based (broadcasting-friendly) coords"
   ]
  },
  {
   "cell_type": "code",
   "execution_count": 302,
   "metadata": {
    "colab": {
     "base_uri": "https://localhost:8080/"
    },
    "executionInfo": {
     "elapsed": 81,
     "status": "ok",
     "timestamp": 1743368140015,
     "user": {
      "displayName": "Pacurar Sebastian",
      "userId": "15686393619609976384"
     },
     "user_tz": -180
    },
    "id": "W9FTog7-MV4S",
    "outputId": "45f0ccf7-22d8-414d-c128-e1098d8c4479"
   },
   "outputs": [
    {
     "name": "stdout",
     "output_type": "stream",
     "text": [
      "x Grid:\n",
      " [[1 2 3]\n",
      " [1 2 3]\n",
      " [1 2 3]]\n",
      "\n",
      "y Grid:\n",
      " [[4 4 4]\n",
      " [5 5 5]\n",
      " [6 6 6]]\n"
     ]
    }
   ],
   "source": [
    "# array output example\n",
    "\n",
    "x = np.array([1, 2, 3])  # x-coordinates\n",
    "y = np.array([4, 5, 6])  # y-coordinates\n",
    "\n",
    "xv, yv = np.meshgrid(x, y)\n",
    "\n",
    "print(\"x Grid:\\n\", xv)\n",
    "print(\"\\ny Grid:\\n\", yv)"
   ]
  },
  {
   "cell_type": "code",
   "execution_count": 303,
   "metadata": {
    "colab": {
     "base_uri": "https://localhost:8080/",
     "height": 636
    },
    "executionInfo": {
     "elapsed": 238,
     "status": "ok",
     "timestamp": 1743368140296,
     "user": {
      "displayName": "Pacurar Sebastian",
      "userId": "15686393619609976384"
     },
     "user_tz": -180
    },
    "id": "5lPI19lorVfs",
    "outputId": "7a977b83-3064-4f7b-fd56-f5d7edc18f77"
   },
   "outputs": [
    {
     "name": "stdout",
     "output_type": "stream",
     "text": [
      "Grid X for 'xy' indexing:\n",
      " [[0 1 2 3 4]\n",
      " [0 1 2 3 4]\n",
      " [0 1 2 3 4]\n",
      " [0 1 2 3 4]\n",
      " [0 1 2 3 4]]\n",
      "\n",
      "Grid Y for 'xy' indexing:\n",
      " [[0 0 0 0 0]\n",
      " [1 1 1 1 1]\n",
      " [2 2 2 2 2]\n",
      " [3 3 3 3 3]\n",
      " [4 4 4 4 4]]\n"
     ]
    },
    {
     "data": {
      "image/png": "[encoded data removed]",
      "text/plain": [
       "<Figure size 1000x400 with 2 Axes>"
      ]
     },
     "metadata": {},
     "output_type": "display_data"
    }
   ],
   "source": [
    "# plotting scattered coords on a [0-4] grid using \"xy\" indexing\n",
    "\n",
    "x = np.arange(5)\n",
    "y = np.arange(5)\n",
    "\n",
    "xv, yv = np.meshgrid(x, y)  # create grid points\n",
    "\n",
    "print(\"Grid X for 'xy' indexing:\\n\", xv)\n",
    "print(\"\\nGrid Y for 'xy' indexing:\\n\", yv)\n",
    "\n",
    "# plot graphs\n",
    "fig, axes = plt.subplots(1, 2, figsize=(10, 4))\n",
    "axes[0].scatter(x, y)\n",
    "axes[0].set_title(\"x, y plot\")\n",
    "axes[0].set_xlabel(\"x\")\n",
    "axes[0].set_ylabel(\"y\")\n",
    "\n",
    "axes[1].scatter(xv, yv)\n",
    "axes[1].set_title(\"xv, yv plot\")\n",
    "axes[1].set_xlabel(\"xv\")\n",
    "axes[1].set_ylabel(\"yv\")\n",
    "\n",
    "plt.show()"
   ]
  },
  {
   "cell_type": "code",
   "execution_count": 304,
   "metadata": {
    "colab": {
     "base_uri": "https://localhost:8080/",
     "height": 636
    },
    "executionInfo": {
     "elapsed": 30,
     "status": "ok",
     "timestamp": 1743368140393,
     "user": {
      "displayName": "Pacurar Sebastian",
      "userId": "15686393619609976384"
     },
     "user_tz": -180
    },
    "id": "rbt84EW2z-a8",
    "outputId": "90e3e61b-a1ef-49d8-f5db-c9d67e297d04"
   },
   "outputs": [
    {
     "name": "stdout",
     "output_type": "stream",
     "text": [
      "Grid X for 'ij' indexing:\n",
      " [[0 0 0 0 0]\n",
      " [1 1 1 1 1]\n",
      " [2 2 2 2 2]\n",
      " [3 3 3 3 3]\n",
      " [4 4 4 4 4]]\n",
      "\n",
      "Grid Y for 'ij' indexing:\n",
      " [[0 1 2 3 4]\n",
      " [0 1 2 3 4]\n",
      " [0 1 2 3 4]\n",
      " [0 1 2 3 4]\n",
      " [0 1 2 3 4]]\n"
     ]
    },
    {
     "data": {
      "image/png": "[encoded data removed]",
      "text/plain": [
       "<Figure size 1000x400 with 2 Axes>"
      ]
     },
     "metadata": {},
     "output_type": "display_data"
    }
   ],
   "source": [
    "# plotting scattered coords on a [0-4] grid using \"ij\" indexing\n",
    "\n",
    "x = np.arange(5)\n",
    "y = np.arange(5)\n",
    "\n",
    "xv, yv = np.meshgrid(x, y, indexing=\"ij\")\n",
    "\n",
    "print(\"Grid X for 'ij' indexing:\\n\", xv)\n",
    "print(\"\\nGrid Y for 'ij' indexing:\\n\", yv)\n",
    "\n",
    "# plot graphs\n",
    "fig, axes = plt.subplots(1, 2, figsize=(10, 4))\n",
    "axes[0].scatter(x, y)\n",
    "axes[0].set_title(\"x, y plot\")\n",
    "axes[0].set_xlabel(\"x\")\n",
    "axes[0].set_ylabel(\"y\")\n",
    "\n",
    "axes[1].scatter(xv, yv)\n",
    "axes[1].set_title(\"xv, yv plot\")\n",
    "axes[1].set_xlabel(\"xv\")\n",
    "axes[1].set_ylabel(\"yv\")\n",
    "\n",
    "plt.show()"
   ]
  },
  {
   "cell_type": "code",
   "execution_count": 305,
   "metadata": {
    "colab": {
     "base_uri": "https://localhost:8080/",
     "height": 566
    },
    "executionInfo": {
     "elapsed": 292,
     "status": "ok",
     "timestamp": 1743368140688,
     "user": {
      "displayName": "Pacurar Sebastian",
      "userId": "15686393619609976384"
     },
     "user_tz": -180
    },
    "id": "UyS_zy-W0WuD",
    "outputId": "3f39a874-3316-4a47-d7a7-63e616efab38"
   },
   "outputs": [
    {
     "name": "stdout",
     "output_type": "stream",
     "text": [
      "Grid X for sparse True:\n",
      " [[0 1 2 3 4]]\n",
      "\n",
      "Grid Y for sparse True:\n",
      " [[0]\n",
      " [1]\n",
      " [2]\n",
      " [3]\n",
      " [4]]\n"
     ]
    },
    {
     "data": {
      "image/png": "[encoded data removed]",
      "text/plain": [
       "<Figure size 1000x400 with 2 Axes>"
      ]
     },
     "metadata": {},
     "output_type": "display_data"
    }
   ],
   "source": [
    "# plotting scattered coords on a [0-4] grid using \"xy\" indexing\n",
    "\n",
    "x = np.arange(5)\n",
    "y = np.arange(5)\n",
    "\n",
    "xv, yv = np.meshgrid(x, y, sparse=True)\n",
    "\n",
    "print(\"Grid X for sparse True:\\n\", xv)\n",
    "print(\"\\nGrid Y for sparse True:\\n\", yv)\n",
    "\n",
    "# plot graphs\n",
    "fig, axes = plt.subplots(1, 2, figsize=(10, 4))\n",
    "axes[0].scatter(x, y)\n",
    "axes[0].set_title(\"x, y plot\")\n",
    "axes[0].set_xlabel(\"x\")\n",
    "axes[0].set_ylabel(\"y\")\n",
    "\n",
    "axes[1].scatter(xv, yv)\n",
    "axes[1].set_title(\"xv, yv plot\")\n",
    "axes[1].set_xlabel(\"xv\")\n",
    "axes[1].set_ylabel(\"yv\")\n",
    "\n",
    "plt.show()"
   ]
  },
  {
   "cell_type": "code",
   "execution_count": 306,
   "metadata": {
    "colab": {
     "base_uri": "https://localhost:8080/",
     "height": 435
    },
    "executionInfo": {
     "elapsed": 68,
     "status": "ok",
     "timestamp": 1743368140758,
     "user": {
      "displayName": "Pacurar Sebastian",
      "userId": "15686393619609976384"
     },
     "user_tz": -180
    },
    "id": "BiDR1MyQJwvO",
    "outputId": "18f52531-712c-4e20-ddd2-f82cb29b3351"
   },
   "outputs": [
    {
     "data": {
      "image/png": "[encoded data removed]",
      "text/plain": [
       "<Figure size 640x480 with 2 Axes>"
      ]
     },
     "metadata": {},
     "output_type": "display_data"
    }
   ],
   "source": [
    "# plot 2D function on a cntour plot\n",
    "x = np.linspace(-10, 10, 50)\n",
    "y = np.linspace(-10, 10, 50)\n",
    "\n",
    "xv, yv = np.meshgrid(x, y)\n",
    "z = np.sin(np.sqrt(xv ** 2 + yv ** 2))  # compute 2d func\n",
    "\n",
    "# plot graph\n",
    "plt.contourf(x, y, z, cmap=\"viridis\")\n",
    "plt.colorbar()\n",
    "plt.show()"
   ]
  },
  {
   "cell_type": "markdown",
   "metadata": {
    "id": "GJzCp_zW80HA"
   },
   "source": [
    "<br><hr><br>"
   ]
  },
  {
   "cell_type": "markdown",
   "metadata": {
    "id": "5FojTOCI805Y"
   },
   "source": [
    "<br><hr><br>"
   ]
  },
  {
   "cell_type": "markdown",
   "metadata": {
    "id": "eNwoiCSTufN1"
   },
   "source": [
    "## np.min()\n",
    "\n",
    "* Returns the minimum value in an array along a specified axis\n",
    "* Syntax:\n",
    "```python\n",
    "np.min(array, axis=None, keepdims=False)\n",
    "```\n",
    "\n",
    "* Args:\n",
    "    * `array` (required): input array\n",
    "    * `axis` (default = `None`):\n",
    "        * `None` = global min\n",
    "        * `0` = col-wise min\n",
    "        * `1` = row-wise min\n",
    "    * `keepdims` (default = `False`)\n",
    "        * `True` = retains reduced dimensions\n",
    "        * `False` = does not retain reduced dimensions"
   ]
  },
  {
   "cell_type": "code",
   "execution_count": 310,
   "metadata": {
    "ExecuteTime": {
     "end_time": "2025-02-22T13:05:17.287900Z",
     "start_time": "2025-02-22T13:05:17.281688Z"
    },
    "colab": {
     "base_uri": "https://localhost:8080/"
    },
    "executionInfo": {
     "elapsed": 11,
     "status": "ok",
     "timestamp": 1743368140770,
     "user": {
      "displayName": "Pacurar Sebastian",
      "userId": "15686393619609976384"
     },
     "user_tz": -180
    },
    "id": "ZjWzbhd4lZaY",
    "outputId": "466edc2f-08fc-44ac-b476-008ffa53644f"
   },
   "outputs": [
    {
     "name": "stdout",
     "output_type": "stream",
     "text": [
      "initial array: \n",
      "[[3 2 8]\n",
      " [4 5 1]] \n",
      "\n",
      "min elem in the entire array: 1\n",
      "\n",
      "min elem on every col: \n",
      "[3 2 1]\n",
      "\n",
      "min elem on every row: \n",
      "[2 1]\n",
      "\n"
     ]
    }
   ],
   "source": [
    "arr = np.array([[3, 2, 8],\n",
    "                [4, 5, 1]])\n",
    "\n",
    "print(f\"initial array: \\n{arr} \\n\")\n",
    "print(f\"min elem in the entire array: {np.min(arr)}\\n\")  # entire array\n",
    "print(f\"min elem on every col: \\n{np.min(arr, axis=0)}\\n\")  # col-wise min\n",
    "print(f\"min elem on every row: \\n{np.min(arr, axis=1)}\\n\")  # row-wise min"
   ]
  },
  {
   "cell_type": "markdown",
   "metadata": {
    "id": "Ly23jHHGsbQd"
   },
   "source": [
    "<br><hr><br>"
   ]
  },
  {
   "cell_type": "markdown",
   "metadata": {
    "id": "UZ55AmBusYbR"
   },
   "source": [
    "## np.max()\n",
    "\n",
    "* Returns the maximum value in an array along a specified axis\n",
    "* Syntax:\n",
    "```python\n",
    "np.max(array, axis=None, keepdims=False)\n",
    "```\n",
    "\n",
    "* Args:\n",
    "    * `array` (required): input array\n",
    "    * `axis` (default = `None`):\n",
    "        * `None` = global max\n",
    "        * `0` = col-wise max\n",
    "        * `1` = row-wise max\n",
    "    * `keepdims` (default = `False`)\n",
    "        * `True` = retains reduced dimensions\n",
    "        * `False` = does not retain reduced dimensions"
   ]
  },
  {
   "cell_type": "code",
   "execution_count": 313,
   "metadata": {
    "colab": {
     "base_uri": "https://localhost:8080/"
    },
    "executionInfo": {
     "elapsed": 9,
     "status": "ok",
     "timestamp": 1743368140780,
     "user": {
      "displayName": "Pacurar Sebastian",
      "userId": "15686393619609976384"
     },
     "user_tz": -180
    },
    "id": "y4tztlMhtn1y",
    "outputId": "10d24e9a-2960-4ebf-9dda-233606c97080"
   },
   "outputs": [
    {
     "name": "stdout",
     "output_type": "stream",
     "text": [
      "initial array: \n",
      "[[3 2 8]\n",
      " [4 5 1]] \n",
      "\n",
      "max elem in the entire array: 8\n",
      "\n",
      "max elem on every col: \n",
      "[4 5 8]\n",
      "\n",
      "max elem on every row: \n",
      "[8 5]\n",
      "\n"
     ]
    }
   ],
   "source": [
    "arr = np.array([[3, 2, 8],\n",
    "                [4, 5, 1]])\n",
    "\n",
    "print(f\"initial array: \\n{arr} \\n\")\n",
    "print(f\"max elem in the entire array: {np.max(arr)}\\n\")  # entire array\n",
    "print(f\"max elem on every col: \\n{np.max(arr, axis=0)}\\n\")  # col-wise max\n",
    "print(f\"max elem on every row: \\n{np.max(arr, axis=1)}\\n\")  # row-wise max"
   ]
  },
  {
   "cell_type": "markdown",
   "metadata": {
    "id": "jF3eMfPI84a-"
   },
   "source": [
    "<br><hr><br>"
   ]
  },
  {
   "cell_type": "markdown",
   "metadata": {
    "id": "wTs5OVGDvC6T"
   },
   "source": [
    "## np.repeat()\n",
    "\n",
    "* Repeats elements of an array along a specified axis\n",
    "* Syntax:\n",
    "```python\n",
    "np.repeat(array, repeats, axis=None)\n",
    "```\n",
    "\n",
    "* Args:\n",
    "    * `array` (required): input array\n",
    "    * `repeats` (required):\n",
    "        * integer: repeats each element that many times\n",
    "        * array: specifies repetitions for each element\n",
    "    * `axis` (default = `None`)\n",
    "        * `None` = flatten and repeat\n",
    "        * `0` = repeat along rows\n",
    "        * `1` = repeat along cols"
   ]
  },
  {
   "cell_type": "code",
   "execution_count": 316,
   "metadata": {
    "ExecuteTime": {
     "end_time": "2025-02-22T13:05:17.480703Z",
     "start_time": "2025-02-22T13:05:17.471906Z"
    },
    "colab": {
     "base_uri": "https://localhost:8080/"
    },
    "executionInfo": {
     "elapsed": 7,
     "status": "ok",
     "timestamp": 1743368140789,
     "user": {
      "displayName": "Pacurar Sebastian",
      "userId": "15686393619609976384"
     },
     "user_tz": -180
    },
    "id": "ij2iykVdltiH",
    "outputId": "56c3a4a9-b4ef-493d-b862-ec9567cc8e0e"
   },
   "outputs": [
    {
     "name": "stdout",
     "output_type": "stream",
     "text": [
      "initial array: \n",
      "[[1 2]\n",
      " [3 4]]\n",
      "\n",
      "repeat each element once: \n",
      "[1 1 2 2 3 3 4 4]\n",
      "\n",
      "repeat each row once: \n",
      "[[1 2]\n",
      " [1 2]\n",
      " [3 4]\n",
      " [3 4]]\n",
      "\n",
      "repeat each col once: \n",
      "[[1 1 2 2]\n",
      " [3 3 4 4]]\n",
      "\n"
     ]
    }
   ],
   "source": [
    "arr = np.array([[1, 2],\n",
    "                [3, 4]])\n",
    "\n",
    "print(f\"initial array: \\n{arr}\\n\")\n",
    "print(f\"repeat each element once: \\n{np.repeat(arr, 2)}\\n\")  # repeat each element once\n",
    "print(f\"repeat each row once: \\n{np.repeat(arr, 2, axis=0)}\\n\")  # repeat each row once\n",
    "print(f\"repeat each col once: \\n{np.repeat(arr, 2, axis=1)}\\n\")  # repeat each col once"
   ]
  },
  {
   "cell_type": "markdown",
   "metadata": {
    "id": "JccZMEXf86Jg"
   },
   "source": [
    "<br><hr><br>"
   ]
  },
  {
   "cell_type": "markdown",
   "metadata": {
    "id": "u54CmHBlcuZK"
   },
   "source": [
    "## np.tile()\n",
    "\n",
    "* Repeats an entire array a specified number of times\n",
    "* Syntax:\n",
    "```python\n",
    "np.tile(array, reps)\n",
    "```\n",
    "\n",
    "* Args:\n",
    "    * `array` (required): input array\n",
    "    * `reps` (required):\n",
    "        * integer: repeats along all dimensions\n",
    "        * tuple: specifies repetitions along each axis"
   ]
  },
  {
   "cell_type": "code",
   "execution_count": 319,
   "metadata": {
    "colab": {
     "base_uri": "https://localhost:8080/"
    },
    "executionInfo": {
     "elapsed": 9,
     "status": "ok",
     "timestamp": 1743368140799,
     "user": {
      "displayName": "Pacurar Sebastian",
      "userId": "15686393619609976384"
     },
     "user_tz": -180
    },
    "id": "6cZMUb7Fw89x",
    "outputId": "f37d423e-75df-41b2-a33f-3ae2c3cc586b"
   },
   "outputs": [
    {
     "name": "stdout",
     "output_type": "stream",
     "text": [
      "initial array: \n",
      "[1 2 3]\n",
      "\n",
      "repeat array twice: \n",
      "[1 2 3 1 2 3]\n",
      "\n",
      "repeat 2 times along rows, 3 times along columns: \n",
      "[[1 2 3 1 2 3 1 2 3]\n",
      " [1 2 3 1 2 3 1 2 3]]\n",
      "\n"
     ]
    }
   ],
   "source": [
    "arr = np.array([1, 2, 3])\n",
    "\n",
    "print(f\"initial array: \\n{arr}\\n\")\n",
    "print(f\"repeat array twice: \\n{np.tile(arr, 2)}\\n\")  # repeat array twice\n",
    "print(f\"repeat 2 times along rows, 3 times along columns: \\n{np.tile(arr, (2, 3))}\\n\")  # repeat 2 times along rows, 3 times along columns"
   ]
  },
  {
   "cell_type": "markdown",
   "metadata": {
    "id": "2ofTJPs28600"
   },
   "source": [
    "<br><hr><br>"
   ]
  },
  {
   "cell_type": "markdown",
   "metadata": {
    "id": "J2pyIdUHW-ip"
   },
   "source": [
    "## np.unique()\n",
    "\n",
    "* Returns the unique elements of an array, optionally with counts or indices\n",
    "* Syntax:\n",
    "```python\n",
    "np.unique(array, return_index=False, return_inverse=False, return_counts=False, axis=None)\n",
    "```\n",
    "\n",
    "* Args:\n",
    "    * `array`: input array\n",
    "    * `return_index` (default = `False`):\n",
    "        * `False` = does not return indices of first occurrences\n",
    "        * `True` = returns indices of first occurrences\n",
    "    * `return_inverse` (default = `False`):\n",
    "        * `False` = does not return indices to reconstruct array from unique elements\n",
    "        * `True` = returns indices to reconstruct array from unique elements\n",
    "    * `return_counts` (default = `False`):\n",
    "        * `False` = does not return count of each unique element\n",
    "        * `True` = returns count of each unique element\n",
    "    * `axis` (default = `None`):\n",
    "        * `None` = returns unique elements from the flattened array\n",
    "        * `0` = finds unique rows\n",
    "        * `1` = finds unique cols"
   ]
  },
  {
   "cell_type": "code",
   "execution_count": 322,
   "metadata": {
    "ExecuteTime": {
     "end_time": "2025-02-22T13:05:17.517304Z",
     "start_time": "2025-02-22T13:05:17.508518Z"
    },
    "colab": {
     "base_uri": "https://localhost:8080/"
    },
    "executionInfo": {
     "elapsed": 14,
     "status": "ok",
     "timestamp": 1743368140814,
     "user": {
      "displayName": "Pacurar Sebastian",
      "userId": "15686393619609976384"
     },
     "user_tz": -180
    },
    "id": "PZs44H5Ql4Q4",
    "outputId": "717db0ca-7fe8-408f-a2f0-87a8867603db"
   },
   "outputs": [
    {
     "name": "stdout",
     "output_type": "stream",
     "text": [
      "(array([1, 2, 3, 4]), array([2, 2, 2, 1], dtype=int64))\n"
     ]
    }
   ],
   "source": [
    "# example with return_counts = True\n",
    "arr = np.array([3, 1, 2, 3, 2, 1, 4])\n",
    "unique_values = np.unique(arr, return_counts=True)\n",
    "print(unique_values)  # unique elements with counts"
   ]
  },
  {
   "cell_type": "code",
   "execution_count": 323,
   "metadata": {
    "colab": {
     "base_uri": "https://localhost:8080/"
    },
    "executionInfo": {
     "elapsed": 9,
     "status": "ok",
     "timestamp": 1743368140824,
     "user": {
      "displayName": "Pacurar Sebastian",
      "userId": "15686393619609976384"
     },
     "user_tz": -180
    },
    "id": "yqOYqCjpzlzw",
    "outputId": "21b54da6-b75d-4091-a36e-96e76c46bc16"
   },
   "outputs": [
    {
     "name": "stdout",
     "output_type": "stream",
     "text": [
      "initial array: \n",
      "[[1 2 2]\n",
      " [1 3 3]\n",
      " [1 2 2]]\n",
      "\n",
      "unique rows: \n",
      "[[1 2 2]\n",
      " [1 3 3]]\n",
      "\n",
      "unique cols: \n",
      "[[1 2]\n",
      " [1 3]\n",
      " [1 2]]\n",
      "\n"
     ]
    }
   ],
   "source": [
    "# example with axis\n",
    "arr = np.array([[1, 2, 2],\n",
    "                [1, 3, 3],\n",
    "                [1, 2, 2]])\n",
    "\n",
    "print(f\"initial array: \\n{arr}\\n\")\n",
    "print(f\"unique rows: \\n{np.unique(arr, axis=0)}\\n\")  # unique rows\n",
    "print(f\"unique cols: \\n{np.unique(arr, axis=1)}\\n\")  # unique columns"
   ]
  },
  {
   "cell_type": "markdown",
   "metadata": {
    "id": "FKP30Rzt88KY"
   },
   "source": [
    "<br><hr><br>"
   ]
  },
  {
   "cell_type": "markdown",
   "metadata": {
    "id": "9lIHh6gtgfG9"
   },
   "source": [
    "## np.diagonal()\n",
    "\n",
    "* Returns the diagonal elements of a 2D array (or diagonals from n-dimensional arrays)\n",
    "* Syntax:\n",
    "```python\n",
    "np.diagonal(array, offset=0, axis1=0, axis2=1)\n",
    "```\n",
    "\n",
    "* Args:\n",
    "    * `array` (required): input array\n",
    "    * `offset` (default = `0`):\n",
    "        * `0` = main diagonal\n",
    "        * `x > 0` = above the main diagonal by `x` units\n",
    "        * `x < 0` = below the main diagonal by `x` units\n",
    "    * `axis1` (default = `0`): first axis od 2D slices\n",
    "    * `axis2` (default = `1`): second axis of 2D slices"
   ]
  },
  {
   "cell_type": "code",
   "execution_count": 326,
   "metadata": {
    "ExecuteTime": {
     "end_time": "2025-02-22T13:05:17.641062Z",
     "start_time": "2025-02-22T13:05:17.633062Z"
    },
    "colab": {
     "base_uri": "https://localhost:8080/"
    },
    "executionInfo": {
     "elapsed": 23,
     "status": "ok",
     "timestamp": 1743368140848,
     "user": {
      "displayName": "Pacurar Sebastian",
      "userId": "15686393619609976384"
     },
     "user_tz": -180
    },
    "id": "H7qM8Wo0j5rz",
    "outputId": "f438d4e8-f0da-4b54-8d09-005c34e407c7",
    "scrolled": true
   },
   "outputs": [
    {
     "name": "stdout",
     "output_type": "stream",
     "text": [
      "initial array: \n",
      "[[1 2 3]\n",
      " [4 5 6]\n",
      " [7 8 9]]\n",
      "\n",
      "main diagonal: \n",
      "[1 5 9]\n",
      "\n",
      "by 1 above main diagonal: \n",
      "[2 6]\n",
      "\n",
      "by 1 below main diagonal: \n",
      "[4 8]\n",
      "\n"
     ]
    }
   ],
   "source": [
    "arr = np.array([[1, 2, 3],\n",
    "                [4, 5, 6],\n",
    "                [7, 8, 9]])\n",
    "\n",
    "print(f\"initial array: \\n{arr}\\n\")\n",
    "print(f\"main diagonal: \\n{np.diagonal(arr)}\\n\")  # main diagonal\n",
    "print(f\"by 1 above main diagonal: \\n{np.diagonal(arr, offset=1)}\\n\")  # above main diagonal\n",
    "print(f\"by 1 below main diagonal: \\n{np.diagonal(arr, offset=-1)}\\n\")  # above main diagonal"
   ]
  },
  {
   "cell_type": "markdown",
   "metadata": {
    "id": "EBpU891V89IU"
   },
   "source": [
    "<br><hr><br>"
   ]
  },
  {
   "cell_type": "markdown",
   "metadata": {
    "id": "HgKSVJT8XN8u"
   },
   "source": [
    "## np.floor()\n",
    "\n",
    "* Rounds elements downward to the nearest intege\n",
    "* Syntax:\n",
    "```python\n",
    "np.floor(array)\n",
    "```\n",
    "\n",
    "* Args:\n",
    "    * `array` (required): input array\n"
   ]
  },
  {
   "cell_type": "code",
   "execution_count": 329,
   "metadata": {
    "ExecuteTime": {
     "end_time": "2025-02-22T13:05:50.281536Z",
     "start_time": "2025-02-22T13:05:50.273937Z"
    },
    "colab": {
     "base_uri": "https://localhost:8080/"
    },
    "executionInfo": {
     "elapsed": 7,
     "status": "ok",
     "timestamp": 1743368140856,
     "user": {
      "displayName": "Pacurar Sebastian",
      "userId": "15686393619609976384"
     },
     "user_tz": -180
    },
    "id": "MuA_pp3ZxIXQ",
    "outputId": "ee37ff12-ca7e-4a1b-b856-4433246a4bde"
   },
   "outputs": [
    {
     "name": "stdout",
     "output_type": "stream",
     "text": [
      "initial array: \n",
      "[ 1.7 -2.3  3.9]\n",
      "\n",
      "floor value of each element: \n",
      "[ 1. -3.  3.]\n"
     ]
    }
   ],
   "source": [
    "arr = np.array([1.7, -2.3, 3.9])\n",
    "\n",
    "print(f\"initial array: \\n{arr}\\n\")\n",
    "print(f\"floor value of each element: \\n{np.floor(arr)}\")"
   ]
  },
  {
   "cell_type": "markdown",
   "metadata": {
    "id": "S3j3b6ZU893p"
   },
   "source": [
    "<br><hr><br>"
   ]
  },
  {
   "cell_type": "markdown",
   "metadata": {
    "id": "PyB7AgJWf2Io"
   },
   "source": [
    "## np.ceil()\n",
    "\n",
    "* Rounds elements upward to the nearest integer\n",
    "* Syntax:\n",
    "```python\n",
    "np.ceil(array)\n",
    "```\n",
    "\n",
    "* Args:\n",
    "    * `array` (required): input array"
   ]
  },
  {
   "cell_type": "code",
   "execution_count": 332,
   "metadata": {
    "colab": {
     "base_uri": "https://localhost:8080/"
    },
    "executionInfo": {
     "elapsed": 12,
     "status": "ok",
     "timestamp": 1743368140869,
     "user": {
      "displayName": "Pacurar Sebastian",
      "userId": "15686393619609976384"
     },
     "user_tz": -180
    },
    "id": "pS-4JW2sGY47",
    "outputId": "1f347700-05d2-4b89-ff06-1163c3023d9c"
   },
   "outputs": [
    {
     "name": "stdout",
     "output_type": "stream",
     "text": [
      "initial array: \n",
      "[ 1.7 -2.3  3.9]\n",
      "\n",
      "ceil value of each element: \n",
      "[ 2. -2.  4.]\n"
     ]
    }
   ],
   "source": [
    "arr = np.array([1.7, -2.3, 3.9])\n",
    "\n",
    "print(f\"initial array: \\n{arr}\\n\")\n",
    "print(f\"ceil value of each element: \\n{np.ceil(arr)}\")"
   ]
  },
  {
   "cell_type": "markdown",
   "metadata": {
    "id": "9_0EDaOq8-wq"
   },
   "source": [
    "<br><hr><hr><br>"
   ]
  }
 ],
 "metadata": {
  "colab": {
   "provenance": [],
   "toc_visible": true
  },
  "kernelspec": {
   "display_name": "Python [conda env:base] *",
   "language": "python",
   "name": "conda-base-py"
  },
  "language_info": {
   "codemirror_mode": {
    "name": "ipython",
    "version": 3
   },
   "file_extension": ".py",
   "mimetype": "text/x-python",
   "name": "python",
   "nbconvert_exporter": "python",
   "pygments_lexer": "ipython3",
   "version": "3.12.7"
  }
 },
 "nbformat": 4,
 "nbformat_minor": 4
}
