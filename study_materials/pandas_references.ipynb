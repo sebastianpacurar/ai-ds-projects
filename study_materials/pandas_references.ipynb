{
 "cells": [
  {
   "cell_type": "markdown",
   "metadata": {
    "id": "RSDOfgLSiD9k"
   },
   "source": [
    "# NB Setup"
   ]
  },
  {
   "cell_type": "code",
   "execution_count": 2,
   "metadata": {
    "ExecuteTime": {
     "end_time": "2025-03-16T09:52:20.140680Z",
     "start_time": "2025-03-16T09:52:19.501051Z"
    },
    "colab": {
     "base_uri": "https://localhost:8080/"
    },
    "executionInfo": {
     "elapsed": 17373,
     "status": "ok",
     "timestamp": 1742117665238,
     "user": {
      "displayName": "Pacurar Sebastian",
      "userId": "15686393619609976384"
     },
     "user_tz": -120
    },
    "id": "iVcKaDS-ZePh",
    "outputId": "f47fe2bb-7d4e-4315-f6d0-8cc443cefa24"
   },
   "outputs": [
    {
     "name": "stdout",
     "output_type": "stream",
     "text": [
      "Folder C:\\Users\\pacur\\Documents\\git\\ai-ds-projects\\study_materials\\nb_data already exists in C:\\Users\\pacur\\Documents\\git\\ai-ds-projects\\study_materials\n",
      "Skip File \"RewardsData.csv\"; already exists in C:\\Users\\pacur\\Documents\\git\\ai-ds-projects\\study_materials\\nb_data\n",
      "Skip File \"bios.csv\"; already exists in C:\\Users\\pacur\\Documents\\git\\ai-ds-projects\\study_materials\\nb_data\n",
      "Skip File \"coffee.csv\"; already exists in C:\\Users\\pacur\\Documents\\git\\ai-ds-projects\\study_materials\\nb_data\n",
      "Skip File \"noc_regions.csv\"; already exists in C:\\Users\\pacur\\Documents\\git\\ai-ds-projects\\study_materials\\nb_data\n",
      "Skip File \"nyc_jobs.csv\"; already exists in C:\\Users\\pacur\\Documents\\git\\ai-ds-projects\\study_materials\\nb_data\n",
      "Loaded \"bios.csv\" to Dataframe\n",
      "Loaded \"coffee.csv\" to Dataframe\n",
      "Loaded \"noc_regions.csv\" to Dataframe\n",
      "Loaded \"nyc_jobs.csv\" to Dataframe\n",
      "Loaded \"RewardsData.csv\" to Dataframe\n"
     ]
    }
   ],
   "source": [
    "# This cell should be run only once at start time.\n",
    "#  rerunning it won't do anything if the data files already exist in the specified data_path folder, apart from resetting the frame vars\n",
    "#  rerun in case of data corruption, but delete the data_path related folder from the current directory\n",
    "#  code execution is compatible with both jupyter_notebook and google_colab formats\n",
    "\n",
    "import os\n",
    "import requests\n",
    "import gdown\n",
    "import numpy as np\n",
    "import pandas as pd\n",
    "import datetime as dt\n",
    "import seaborn as sns\n",
    "\n",
    "data_folder = \"nb_data\"\n",
    "data_path = os.path.join(os.getcwd(), data_folder)\n",
    "\n",
    "file_paths_and_url = {\n",
    "    \"bios.csv\": \"https://raw.githubusercontent.com/sebastianpacurar/ai-ds-projects/refs/heads/data_sets/data_sets/bios.csv\",\n",
    "    \"coffee.csv\": \"https://raw.githubusercontent.com/sebastianpacurar/ai-ds-projects/refs/heads/data_sets/data_sets/coffee.csv\",\n",
    "    \"noc_regions.csv\": \"https://raw.githubusercontent.com/sebastianpacurar/ai-ds-projects/refs/heads/data_sets/data_sets/noc_regions.csv\",\n",
    "    \"nyc_jobs.csv\": \"https://raw.githubusercontent.com/sebastianpacurar/ai-ds-projects/refs/heads/data_sets/data_sets/NYC_Jobs.csv\"\n",
    "}\n",
    "\n",
    "g_drive_paths_and_url = {\n",
    "    \"RewardsData.csv\": \"https://drive.google.com/uc?export=download&id=1xYz0MCT0-xLYx5H-Z4a25K6jL5-MTe6X\"\n",
    "}\n",
    "\n",
    "\n",
    "def path_to(f_path):\n",
    "    return os.path.join(data_path, f_path)\n",
    "\n",
    "\n",
    "# create root folder for this notebook's data sets\n",
    "def create_data_sets_folder():\n",
    "    if not os.path.exists(data_path):\n",
    "        os.makedirs(data_path)\n",
    "        print(f\"Folder {data_path} created in {os.getcwd()}\")\n",
    "    else:\n",
    "        print(f\"Folder {data_path} already exists in {os.getcwd()}\")\n",
    "\n",
    "\n",
    "# download data set files from github repos, and store them in data_path\n",
    "def download_raw_git_files():\n",
    "    for f_name, f_url in file_paths_and_url.items():\n",
    "        f_path = os.path.join(data_path, f_name)\n",
    "        if not os.path.exists(f_path):\n",
    "            res = requests.get(f_url)\n",
    "            with open(f_path, \"wb\") as file:\n",
    "                file.write(res.content)\n",
    "            print(f\"File \\\"{f_name}\\\" downloaded in {data_path}\")\n",
    "        else:\n",
    "            print(f\"Skip File \\\"{f_name}\\\"; already exists in {data_path}\")\n",
    "\n",
    "\n",
    "# download data set files from google drive locations by id\n",
    "def download_google_drive_files():\n",
    "    for f_name, f_url in g_drive_paths_and_url.items():\n",
    "        f_path = os.path.join(data_path, f_name)\n",
    "        if not os.path.exists(f_path):\n",
    "            f_id = f_url.split(\"&id=\")[1]\n",
    "            gdown.download(f\"https://drive.google.com/uc?export=download&id={f_id}\", path_to(f_name), quiet=True)\n",
    "            print(f'\\nFile \"{f_name}\" downloaded in {data_path}')\n",
    "        else:\n",
    "            print(f'Skip File \"{f_name}\"; already exists in {data_path}')\n",
    "\n",
    "\n",
    "def load_csv_data_set(f_path):\n",
    "    try:\n",
    "        df = pd.read_csv(path_to(f_path))\n",
    "        print(f'Loaded \"{f_path}\" to Dataframe')\n",
    "        return df\n",
    "    except:\n",
    "        print(f'Something went wrong with loading the \"{f_path}\"')\n",
    "\n",
    "\n",
    "# download data sets if they don't exist\n",
    "create_data_sets_folder()\n",
    "download_google_drive_files()\n",
    "download_raw_git_files()\n",
    "\n",
    "# load data sets into data frames for sample use\n",
    "bios = load_csv_data_set(\"bios.csv\")\n",
    "coffee = load_csv_data_set(\"coffee.csv\")\n",
    "nocs = load_csv_data_set(\"noc_regions.csv\")\n",
    "nyc_jobs = load_csv_data_set(\"nyc_jobs.csv\")\n",
    "rewards = load_csv_data_set(\"RewardsData.csv\")"
   ]
  },
  {
   "cell_type": "markdown",
   "metadata": {
    "id": "sxSSHzNfJRK_"
   },
   "source": [
    "<br><hr><hr><br>"
   ]
  },
  {
   "cell_type": "markdown",
   "metadata": {
    "id": "Aqm73H-UDUpm"
   },
   "source": [
    "# 1) Basics\n"
   ]
  },
  {
   "cell_type": "markdown",
   "metadata": {
    "id": "E_sAttDzG9AH"
   },
   "source": [
    "<br><hr><br>"
   ]
  },
  {
   "cell_type": "markdown",
   "metadata": {
    "id": "z9Q2eDNjZl67"
   },
   "source": [
    "## 1.1 - loc(), iloc(), at(), iat()\n",
    "\n",
    "* Syntax\n",
    "<table>\n",
    "  <tr>\n",
    "    <th>Task</th>\n",
    "    <th>.loc[]</th>\n",
    "    <th>.iloc[]</th>\n",
    "    <th>.at[]</th>\n",
    "    <th>.iat[]</th>\n",
    "  </tr>\n",
    "  <tr>\n",
    "    <td>1 Row</td>\n",
    "    <td>df.loc[0, :]</td>\n",
    "    <td>df.iloc[0, :]</td>\n",
    "    <td>No</td>\n",
    "    <td>No</td>\n",
    "  </tr>\n",
    "  <tr>\n",
    "    <td>1 Column</td>\n",
    "    <td>df.loc[:, 'Price']</td>\n",
    "    <td>df.iloc[:, 1]</td>\n",
    "    <td>No</td>\n",
    "    <td>No</td>\n",
    "  </tr>\n",
    "  <tr>\n",
    "    <td>n Rows</td>\n",
    "    <td>df.loc[0:1, :]</td>\n",
    "    <td>df.iloc[0:2, :]</td>\n",
    "    <td>No</td>\n",
    "    <td>No</td>\n",
    "  </tr>\n",
    "  <tr>\n",
    "    <td>n Columns</td>\n",
    "    <td>df.loc[:, ['Price', 'Quantity']]</td>\n",
    "    <td>df.iloc[:, [1, 2]]</td>\n",
    "    <td>No</td>\n",
    "    <td>No</td>\n",
    "  </tr>\n",
    "  <tr>\n",
    "    <td>Single value by label</td>\n",
    "    <td>df.loc[0, 'Price']</td>\n",
    "    <td>No</td>\n",
    "    <td>df.at[0, 'Price']</td>\n",
    "    <td>No</td>\n",
    "  </tr>\n",
    "  <tr>\n",
    "    <td>Single value by index</td>\n",
    "    <td>No</td>\n",
    "    <td>df.iloc[0, 1]</td>\n",
    "    <td>No</td>\n",
    "    <td>df.iat[0, 1]</td>\n",
    "  </tr>\n",
    "  <tr>\n",
    "    <td>Rows where Price > 5</td>\n",
    "    <td>df.loc[df['Price'] > 5, :]</td>\n",
    "    <td>No</td>\n",
    "    <td>No</td>\n",
    "    <td>No</td>\n",
    "  </tr>\n",
    "</table>\n",
    "\n",
    "</br>\n",
    "\n",
    "* When to use which\n",
    "<table>\n",
    "  <tr>\n",
    "    <th>Scenario</th>\n",
    "    <th>.loc[]</th>\n",
    "    <th>.iloc[]</th>\n",
    "    <th>.at[]</th>\n",
    "    <th>.iat[]</th>\n",
    "  </tr>\n",
    "  <tr>\n",
    "    <td>Need to retrieve a single value</td>\n",
    "    <td>X</td>\n",
    "    <td>X</td>\n",
    "    <td>O</td>\n",
    "    <td>O</td>\n",
    "  </tr>\n",
    "  <tr>\n",
    "    <td>Need to retrieve multiple rows/columns</td>\n",
    "    <td>O</td>\n",
    "    <td>O</td>\n",
    "    <td>X</td>\n",
    "    <td>X</td>\n",
    "  </tr>\n",
    "  <tr>\n",
    "    <td>Need to modify one cell efficiently</td>\n",
    "    <td>X</td>\n",
    "    <td>X</td>\n",
    "    <td>O</td>\n",
    "    <td>O</td>\n",
    "  </tr>\n",
    "  <tr>\n",
    "    <td>Need to modify multiple values</td>\n",
    "    <td>O</td>\n",
    "    <td>O</td>\n",
    "    <td>X</td>\n",
    "    <td>X</td>\n",
    "  </tr>\n",
    "  <tr>\n",
    "    <td>Accessing with labels (row and column names)</td>\n",
    "    <td>O</td>\n",
    "    <td>X</td>\n",
    "    <td>O</td>\n",
    "    <td>X</td>\n",
    "  </tr>\n",
    "  <tr>\n",
    "    <td>Accessing with index positions</td>\n",
    "    <td>X</td>\n",
    "    <td>O</td>\n",
    "    <td>X</td>\n",
    "    <td>O</td>\n",
    "  </tr>\n",
    "  <tr>\n",
    "    <td>Filtering with conditions</td>\n",
    "    <td>O</td>\n",
    "    <td>X</td>\n",
    "    <td>X</td>\n",
    "    <td>X</td>\n",
    "  </tr>\n",
    "</table>"
   ]
  },
  {
   "cell_type": "code",
   "execution_count": 7,
   "metadata": {
    "ExecuteTime": {
     "end_time": "2025-03-16T09:52:20.520917Z",
     "start_time": "2025-03-16T09:52:20.510925Z"
    },
    "colab": {
     "base_uri": "https://localhost:8080/",
     "height": 488
    },
    "executionInfo": {
     "elapsed": 75,
     "status": "ok",
     "timestamp": 1742117665341,
     "user": {
      "displayName": "Pacurar Sebastian",
      "userId": "15686393619609976384"
     },
     "user_tz": -120
    },
    "id": "khZ8vh6SZlUT",
    "outputId": "e9ab359c-7796-47ee-c041-3c4fc9119c8b"
   },
   "outputs": [
    {
     "data": {
      "text/html": [
       "<div>\n",
       "<style scoped>\n",
       "    .dataframe tbody tr th:only-of-type {\n",
       "        vertical-align: middle;\n",
       "    }\n",
       "\n",
       "    .dataframe tbody tr th {\n",
       "        vertical-align: top;\n",
       "    }\n",
       "\n",
       "    .dataframe thead th {\n",
       "        text-align: right;\n",
       "    }\n",
       "</style>\n",
       "<table border=\"1\" class=\"dataframe\">\n",
       "  <thead>\n",
       "    <tr style=\"text-align: right;\">\n",
       "      <th></th>\n",
       "      <th>Day</th>\n",
       "      <th>Coffee Type</th>\n",
       "      <th>Units Sold</th>\n",
       "    </tr>\n",
       "  </thead>\n",
       "  <tbody>\n",
       "    <tr>\n",
       "      <th>0</th>\n",
       "      <td>Monday</td>\n",
       "      <td>Espresso</td>\n",
       "      <td>25</td>\n",
       "    </tr>\n",
       "    <tr>\n",
       "      <th>1</th>\n",
       "      <td>Monday</td>\n",
       "      <td>Latte</td>\n",
       "      <td>15</td>\n",
       "    </tr>\n",
       "    <tr>\n",
       "      <th>2</th>\n",
       "      <td>Tuesday</td>\n",
       "      <td>Espresso</td>\n",
       "      <td>30</td>\n",
       "    </tr>\n",
       "    <tr>\n",
       "      <th>3</th>\n",
       "      <td>Tuesday</td>\n",
       "      <td>Latte</td>\n",
       "      <td>20</td>\n",
       "    </tr>\n",
       "    <tr>\n",
       "      <th>4</th>\n",
       "      <td>Wednesday</td>\n",
       "      <td>Espresso</td>\n",
       "      <td>35</td>\n",
       "    </tr>\n",
       "    <tr>\n",
       "      <th>5</th>\n",
       "      <td>Wednesday</td>\n",
       "      <td>Latte</td>\n",
       "      <td>25</td>\n",
       "    </tr>\n",
       "    <tr>\n",
       "      <th>6</th>\n",
       "      <td>Thursday</td>\n",
       "      <td>Espresso</td>\n",
       "      <td>40</td>\n",
       "    </tr>\n",
       "    <tr>\n",
       "      <th>7</th>\n",
       "      <td>Thursday</td>\n",
       "      <td>Latte</td>\n",
       "      <td>30</td>\n",
       "    </tr>\n",
       "    <tr>\n",
       "      <th>8</th>\n",
       "      <td>Friday</td>\n",
       "      <td>Espresso</td>\n",
       "      <td>45</td>\n",
       "    </tr>\n",
       "    <tr>\n",
       "      <th>9</th>\n",
       "      <td>Friday</td>\n",
       "      <td>Latte</td>\n",
       "      <td>35</td>\n",
       "    </tr>\n",
       "    <tr>\n",
       "      <th>10</th>\n",
       "      <td>Saturday</td>\n",
       "      <td>Espresso</td>\n",
       "      <td>45</td>\n",
       "    </tr>\n",
       "    <tr>\n",
       "      <th>11</th>\n",
       "      <td>Saturday</td>\n",
       "      <td>Latte</td>\n",
       "      <td>35</td>\n",
       "    </tr>\n",
       "    <tr>\n",
       "      <th>12</th>\n",
       "      <td>Sunday</td>\n",
       "      <td>Espresso</td>\n",
       "      <td>45</td>\n",
       "    </tr>\n",
       "    <tr>\n",
       "      <th>13</th>\n",
       "      <td>Sunday</td>\n",
       "      <td>Latte</td>\n",
       "      <td>35</td>\n",
       "    </tr>\n",
       "  </tbody>\n",
       "</table>\n",
       "</div>"
      ],
      "text/plain": [
       "          Day Coffee Type  Units Sold\n",
       "0      Monday    Espresso          25\n",
       "1      Monday       Latte          15\n",
       "2     Tuesday    Espresso          30\n",
       "3     Tuesday       Latte          20\n",
       "4   Wednesday    Espresso          35\n",
       "5   Wednesday       Latte          25\n",
       "6    Thursday    Espresso          40\n",
       "7    Thursday       Latte          30\n",
       "8      Friday    Espresso          45\n",
       "9      Friday       Latte          35\n",
       "10   Saturday    Espresso          45\n",
       "11   Saturday       Latte          35\n",
       "12     Sunday    Espresso          45\n",
       "13     Sunday       Latte          35"
      ]
     },
     "execution_count": 7,
     "metadata": {},
     "output_type": "execute_result"
    }
   ],
   "source": [
    "coffee"
   ]
  },
  {
   "cell_type": "code",
   "execution_count": 8,
   "metadata": {
    "ExecuteTime": {
     "end_time": "2025-03-16T09:52:20.662174Z",
     "start_time": "2025-03-16T09:52:20.653102Z"
    },
    "colab": {
     "base_uri": "https://localhost:8080/",
     "height": 339
    },
    "executionInfo": {
     "elapsed": 95,
     "status": "ok",
     "timestamp": 1742117665437,
     "user": {
      "displayName": "Pacurar Sebastian",
      "userId": "15686393619609976384"
     },
     "user_tz": -120
    },
    "id": "_xNBFmTVpvuL",
    "outputId": "2ec0c9d4-9c5d-4293-f14c-cc0cb0515d2d"
   },
   "outputs": [
    {
     "data": {
      "text/plain": [
       "Day              Monday\n",
       "Coffee Type    Espresso\n",
       "Units Sold           25\n",
       "Name: 0, dtype: object"
      ]
     },
     "metadata": {},
     "output_type": "display_data"
    },
    {
     "data": {
      "text/plain": [
       "Day              Monday\n",
       "Coffee Type    Espresso\n",
       "Units Sold           25\n",
       "Name: 0, dtype: object"
      ]
     },
     "metadata": {},
     "output_type": "display_data"
    }
   ],
   "source": [
    "# return the first row in a key and value columns\n",
    "coffee_sample = coffee.copy()\n",
    "\n",
    "with_loc = coffee_sample.loc[0, :]\n",
    "with_iloc = coffee_sample.iloc[0, :]\n",
    "\n",
    "display(with_loc)\n",
    "display(with_iloc)"
   ]
  },
  {
   "cell_type": "code",
   "execution_count": 9,
   "metadata": {
    "ExecuteTime": {
     "end_time": "2025-03-16T09:52:20.815144Z",
     "start_time": "2025-03-16T09:52:20.800169Z"
    },
    "colab": {
     "base_uri": "https://localhost:8080/",
     "height": 464
    },
    "executionInfo": {
     "elapsed": 39,
     "status": "ok",
     "timestamp": 1742117665496,
     "user": {
      "displayName": "Pacurar Sebastian",
      "userId": "15686393619609976384"
     },
     "user_tz": -120
    },
    "id": "jOXEt0mEqhbE",
    "outputId": "e61cd4f8-41bc-45f6-a9ca-e75542f8811d"
   },
   "outputs": [
    {
     "data": {
      "text/plain": [
       "0    Espresso\n",
       "1       Latte\n",
       "2    Espresso\n",
       "3       Latte\n",
       "4    Espresso\n",
       "Name: Coffee Type, dtype: object"
      ]
     },
     "metadata": {},
     "output_type": "display_data"
    },
    {
     "data": {
      "text/plain": [
       "0    Espresso\n",
       "1       Latte\n",
       "2    Espresso\n",
       "3       Latte\n",
       "4    Espresso\n",
       "Name: Coffee Type, dtype: object"
      ]
     },
     "metadata": {},
     "output_type": "display_data"
    }
   ],
   "source": [
    "# select column Coffee Type\n",
    "coffee_sample = coffee.copy()\n",
    "\n",
    "with_loc = coffee_sample.loc[:, \"Coffee Type\"].head()\n",
    "with_iloc = coffee_sample.iloc[:, 1].head()\n",
    "\n",
    "display(with_loc)\n",
    "display(with_iloc)"
   ]
  },
  {
   "cell_type": "code",
   "execution_count": 10,
   "metadata": {
    "ExecuteTime": {
     "end_time": "2025-03-16T09:52:20.978729Z",
     "start_time": "2025-03-16T09:52:20.965647Z"
    },
    "colab": {
     "base_uri": "https://localhost:8080/",
     "height": 395
    },
    "executionInfo": {
     "elapsed": 110,
     "status": "ok",
     "timestamp": 1742117665608,
     "user": {
      "displayName": "Pacurar Sebastian",
      "userId": "15686393619609976384"
     },
     "user_tz": -120
    },
    "id": "d4jjZl9hqy1o",
    "outputId": "85748933-2bcd-4531-edbc-aae2b9daa018"
   },
   "outputs": [
    {
     "data": {
      "text/html": [
       "<div>\n",
       "<style scoped>\n",
       "    .dataframe tbody tr th:only-of-type {\n",
       "        vertical-align: middle;\n",
       "    }\n",
       "\n",
       "    .dataframe tbody tr th {\n",
       "        vertical-align: top;\n",
       "    }\n",
       "\n",
       "    .dataframe thead th {\n",
       "        text-align: right;\n",
       "    }\n",
       "</style>\n",
       "<table border=\"1\" class=\"dataframe\">\n",
       "  <thead>\n",
       "    <tr style=\"text-align: right;\">\n",
       "      <th></th>\n",
       "      <th>Day</th>\n",
       "      <th>Units Sold</th>\n",
       "    </tr>\n",
       "  </thead>\n",
       "  <tbody>\n",
       "    <tr>\n",
       "      <th>0</th>\n",
       "      <td>Monday</td>\n",
       "      <td>25</td>\n",
       "    </tr>\n",
       "    <tr>\n",
       "      <th>1</th>\n",
       "      <td>Monday</td>\n",
       "      <td>15</td>\n",
       "    </tr>\n",
       "    <tr>\n",
       "      <th>2</th>\n",
       "      <td>Tuesday</td>\n",
       "      <td>30</td>\n",
       "    </tr>\n",
       "    <tr>\n",
       "      <th>3</th>\n",
       "      <td>Tuesday</td>\n",
       "      <td>20</td>\n",
       "    </tr>\n",
       "    <tr>\n",
       "      <th>4</th>\n",
       "      <td>Wednesday</td>\n",
       "      <td>35</td>\n",
       "    </tr>\n",
       "  </tbody>\n",
       "</table>\n",
       "</div>"
      ],
      "text/plain": [
       "         Day  Units Sold\n",
       "0     Monday          25\n",
       "1     Monday          15\n",
       "2    Tuesday          30\n",
       "3    Tuesday          20\n",
       "4  Wednesday          35"
      ]
     },
     "metadata": {},
     "output_type": "display_data"
    },
    {
     "data": {
      "text/html": [
       "<div>\n",
       "<style scoped>\n",
       "    .dataframe tbody tr th:only-of-type {\n",
       "        vertical-align: middle;\n",
       "    }\n",
       "\n",
       "    .dataframe tbody tr th {\n",
       "        vertical-align: top;\n",
       "    }\n",
       "\n",
       "    .dataframe thead th {\n",
       "        text-align: right;\n",
       "    }\n",
       "</style>\n",
       "<table border=\"1\" class=\"dataframe\">\n",
       "  <thead>\n",
       "    <tr style=\"text-align: right;\">\n",
       "      <th></th>\n",
       "      <th>Day</th>\n",
       "      <th>Units Sold</th>\n",
       "    </tr>\n",
       "  </thead>\n",
       "  <tbody>\n",
       "    <tr>\n",
       "      <th>0</th>\n",
       "      <td>Monday</td>\n",
       "      <td>25</td>\n",
       "    </tr>\n",
       "    <tr>\n",
       "      <th>1</th>\n",
       "      <td>Monday</td>\n",
       "      <td>15</td>\n",
       "    </tr>\n",
       "    <tr>\n",
       "      <th>2</th>\n",
       "      <td>Tuesday</td>\n",
       "      <td>30</td>\n",
       "    </tr>\n",
       "    <tr>\n",
       "      <th>3</th>\n",
       "      <td>Tuesday</td>\n",
       "      <td>20</td>\n",
       "    </tr>\n",
       "    <tr>\n",
       "      <th>4</th>\n",
       "      <td>Wednesday</td>\n",
       "      <td>35</td>\n",
       "    </tr>\n",
       "  </tbody>\n",
       "</table>\n",
       "</div>"
      ],
      "text/plain": [
       "         Day  Units Sold\n",
       "0     Monday          25\n",
       "1     Monday          15\n",
       "2    Tuesday          30\n",
       "3    Tuesday          20\n",
       "4  Wednesday          35"
      ]
     },
     "metadata": {},
     "output_type": "display_data"
    }
   ],
   "source": [
    "# select columns Day and Units Sold\n",
    "coffee_sample = coffee.copy()\n",
    "\n",
    "with_loc = coffee_sample.loc[:, [\"Day\", \"Units Sold\"]].head()\n",
    "with_iloc = coffee_sample.iloc[:, [0, 2]].head()\n",
    "\n",
    "display(with_loc)\n",
    "display(with_iloc)"
   ]
  },
  {
   "cell_type": "code",
   "execution_count": 11,
   "metadata": {
    "ExecuteTime": {
     "end_time": "2025-03-16T09:52:21.129270Z",
     "start_time": "2025-03-16T09:52:21.105187Z"
    },
    "colab": {
     "base_uri": "https://localhost:8080/",
     "height": 332
    },
    "executionInfo": {
     "elapsed": 137,
     "status": "ok",
     "timestamp": 1742117665747,
     "user": {
      "displayName": "Pacurar Sebastian",
      "userId": "15686393619609976384"
     },
     "user_tz": -120
    },
    "id": "eCOgerw8E61J",
    "outputId": "f713490c-c099-4060-d439-84f7757dbfc3"
   },
   "outputs": [
    {
     "data": {
      "text/html": [
       "<div>\n",
       "<style scoped>\n",
       "    .dataframe tbody tr th:only-of-type {\n",
       "        vertical-align: middle;\n",
       "    }\n",
       "\n",
       "    .dataframe tbody tr th {\n",
       "        vertical-align: top;\n",
       "    }\n",
       "\n",
       "    .dataframe thead th {\n",
       "        text-align: right;\n",
       "    }\n",
       "</style>\n",
       "<table border=\"1\" class=\"dataframe\">\n",
       "  <thead>\n",
       "    <tr style=\"text-align: right;\">\n",
       "      <th></th>\n",
       "      <th>Day</th>\n",
       "      <th>Units Sold</th>\n",
       "    </tr>\n",
       "  </thead>\n",
       "  <tbody>\n",
       "    <tr>\n",
       "      <th>0</th>\n",
       "      <td>Monday</td>\n",
       "      <td>25</td>\n",
       "    </tr>\n",
       "    <tr>\n",
       "      <th>2</th>\n",
       "      <td>Tuesday</td>\n",
       "      <td>30</td>\n",
       "    </tr>\n",
       "    <tr>\n",
       "      <th>4</th>\n",
       "      <td>Wednesday</td>\n",
       "      <td>35</td>\n",
       "    </tr>\n",
       "    <tr>\n",
       "      <th>6</th>\n",
       "      <td>Thursday</td>\n",
       "      <td>40</td>\n",
       "    </tr>\n",
       "  </tbody>\n",
       "</table>\n",
       "</div>"
      ],
      "text/plain": [
       "         Day  Units Sold\n",
       "0     Monday          25\n",
       "2    Tuesday          30\n",
       "4  Wednesday          35\n",
       "6   Thursday          40"
      ]
     },
     "metadata": {},
     "output_type": "display_data"
    },
    {
     "data": {
      "text/html": [
       "<div>\n",
       "<style scoped>\n",
       "    .dataframe tbody tr th:only-of-type {\n",
       "        vertical-align: middle;\n",
       "    }\n",
       "\n",
       "    .dataframe tbody tr th {\n",
       "        vertical-align: top;\n",
       "    }\n",
       "\n",
       "    .dataframe thead th {\n",
       "        text-align: right;\n",
       "    }\n",
       "</style>\n",
       "<table border=\"1\" class=\"dataframe\">\n",
       "  <thead>\n",
       "    <tr style=\"text-align: right;\">\n",
       "      <th></th>\n",
       "      <th>Day</th>\n",
       "      <th>Units Sold</th>\n",
       "    </tr>\n",
       "  </thead>\n",
       "  <tbody>\n",
       "    <tr>\n",
       "      <th>0</th>\n",
       "      <td>Monday</td>\n",
       "      <td>25</td>\n",
       "    </tr>\n",
       "    <tr>\n",
       "      <th>2</th>\n",
       "      <td>Tuesday</td>\n",
       "      <td>30</td>\n",
       "    </tr>\n",
       "    <tr>\n",
       "      <th>4</th>\n",
       "      <td>Wednesday</td>\n",
       "      <td>35</td>\n",
       "    </tr>\n",
       "    <tr>\n",
       "      <th>6</th>\n",
       "      <td>Thursday</td>\n",
       "      <td>40</td>\n",
       "    </tr>\n",
       "  </tbody>\n",
       "</table>\n",
       "</div>"
      ],
      "text/plain": [
       "         Day  Units Sold\n",
       "0     Monday          25\n",
       "2    Tuesday          30\n",
       "4  Wednesday          35\n",
       "6   Thursday          40"
      ]
     },
     "metadata": {},
     "output_type": "display_data"
    }
   ],
   "source": [
    "# grab first, third, fourth, sixth rows, for Day and Units Sold columns\n",
    "\n",
    "coffee_sample = coffee.copy()\n",
    "\n",
    "with_loc = coffee_sample.loc[[0, 2, 4, 6], [\"Day\", \"Units Sold\"]]\n",
    "with_iloc = coffee_sample.iloc[[0, 2, 4, 6], [0, 2]]\n",
    "\n",
    "display(with_loc)\n",
    "display(with_iloc)"
   ]
  },
  {
   "cell_type": "code",
   "execution_count": 12,
   "metadata": {
    "ExecuteTime": {
     "end_time": "2025-03-16T09:52:21.421509Z",
     "start_time": "2025-03-16T09:52:21.413674Z"
    },
    "colab": {
     "base_uri": "https://localhost:8080/",
     "height": 206
    },
    "executionInfo": {
     "elapsed": 111,
     "status": "ok",
     "timestamp": 1742117665855,
     "user": {
      "displayName": "Pacurar Sebastian",
      "userId": "15686393619609976384"
     },
     "user_tz": -120
    },
    "id": "79l6LVQYZxXh",
    "outputId": "e3f46cdb-5e3e-45b1-c51b-80b9688aa805"
   },
   "outputs": [
    {
     "data": {
      "text/html": [
       "<div>\n",
       "<style scoped>\n",
       "    .dataframe tbody tr th:only-of-type {\n",
       "        vertical-align: middle;\n",
       "    }\n",
       "\n",
       "    .dataframe tbody tr th {\n",
       "        vertical-align: top;\n",
       "    }\n",
       "\n",
       "    .dataframe thead th {\n",
       "        text-align: right;\n",
       "    }\n",
       "</style>\n",
       "<table border=\"1\" class=\"dataframe\">\n",
       "  <thead>\n",
       "    <tr style=\"text-align: right;\">\n",
       "      <th></th>\n",
       "      <th>Day</th>\n",
       "      <th>Coffee Type</th>\n",
       "      <th>Units Sold</th>\n",
       "    </tr>\n",
       "  </thead>\n",
       "  <tbody>\n",
       "    <tr>\n",
       "      <th>0</th>\n",
       "      <td>Monday</td>\n",
       "      <td>Espresso</td>\n",
       "      <td>25</td>\n",
       "    </tr>\n",
       "    <tr>\n",
       "      <th>1</th>\n",
       "      <td>Monday</td>\n",
       "      <td>Latte</td>\n",
       "      <td>10</td>\n",
       "    </tr>\n",
       "    <tr>\n",
       "      <th>2</th>\n",
       "      <td>Tuesday</td>\n",
       "      <td>Espresso</td>\n",
       "      <td>30</td>\n",
       "    </tr>\n",
       "    <tr>\n",
       "      <th>3</th>\n",
       "      <td>Tuesday</td>\n",
       "      <td>Latte</td>\n",
       "      <td>20</td>\n",
       "    </tr>\n",
       "    <tr>\n",
       "      <th>4</th>\n",
       "      <td>Wednesday</td>\n",
       "      <td>Espresso</td>\n",
       "      <td>35</td>\n",
       "    </tr>\n",
       "  </tbody>\n",
       "</table>\n",
       "</div>"
      ],
      "text/plain": [
       "         Day Coffee Type  Units Sold\n",
       "0     Monday    Espresso          25\n",
       "1     Monday       Latte          10\n",
       "2    Tuesday    Espresso          30\n",
       "3    Tuesday       Latte          20\n",
       "4  Wednesday    Espresso          35"
      ]
     },
     "execution_count": 12,
     "metadata": {},
     "output_type": "execute_result"
    }
   ],
   "source": [
    "# set the first row, Units Sold column to be equal to 10 instead of 15\n",
    "coffee_sample = coffee.copy()\n",
    "\n",
    "coffee_sample.loc[1, \"Units Sold\"] = 10\n",
    "coffee_sample.head()"
   ]
  },
  {
   "cell_type": "code",
   "execution_count": 13,
   "metadata": {
    "ExecuteTime": {
     "end_time": "2025-03-16T09:52:21.857416Z",
     "start_time": "2025-03-16T09:52:21.849125Z"
    },
    "colab": {
     "base_uri": "https://localhost:8080/",
     "height": 206
    },
    "executionInfo": {
     "elapsed": 88,
     "status": "ok",
     "timestamp": 1742117665922,
     "user": {
      "displayName": "Pacurar Sebastian",
      "userId": "15686393619609976384"
     },
     "user_tz": -120
    },
    "id": "mBjuYVhZZ2ah",
    "outputId": "c55dfb2f-a6bb-4a77-8b00-3172fa1da915"
   },
   "outputs": [
    {
     "data": {
      "text/html": [
       "<div>\n",
       "<style scoped>\n",
       "    .dataframe tbody tr th:only-of-type {\n",
       "        vertical-align: middle;\n",
       "    }\n",
       "\n",
       "    .dataframe tbody tr th {\n",
       "        vertical-align: top;\n",
       "    }\n",
       "\n",
       "    .dataframe thead th {\n",
       "        text-align: right;\n",
       "    }\n",
       "</style>\n",
       "<table border=\"1\" class=\"dataframe\">\n",
       "  <thead>\n",
       "    <tr style=\"text-align: right;\">\n",
       "      <th></th>\n",
       "      <th>Day</th>\n",
       "      <th>Coffee Type</th>\n",
       "      <th>Units Sold</th>\n",
       "    </tr>\n",
       "  </thead>\n",
       "  <tbody>\n",
       "    <tr>\n",
       "      <th>0</th>\n",
       "      <td>Monday</td>\n",
       "      <td>Espresso</td>\n",
       "      <td>100</td>\n",
       "    </tr>\n",
       "    <tr>\n",
       "      <th>1</th>\n",
       "      <td>Monday</td>\n",
       "      <td>Latte</td>\n",
       "      <td>100</td>\n",
       "    </tr>\n",
       "    <tr>\n",
       "      <th>2</th>\n",
       "      <td>Tuesday</td>\n",
       "      <td>Espresso</td>\n",
       "      <td>100</td>\n",
       "    </tr>\n",
       "    <tr>\n",
       "      <th>3</th>\n",
       "      <td>Tuesday</td>\n",
       "      <td>Latte</td>\n",
       "      <td>100</td>\n",
       "    </tr>\n",
       "    <tr>\n",
       "      <th>4</th>\n",
       "      <td>Wednesday</td>\n",
       "      <td>Espresso</td>\n",
       "      <td>100</td>\n",
       "    </tr>\n",
       "  </tbody>\n",
       "</table>\n",
       "</div>"
      ],
      "text/plain": [
       "         Day Coffee Type  Units Sold\n",
       "0     Monday    Espresso         100\n",
       "1     Monday       Latte         100\n",
       "2    Tuesday    Espresso         100\n",
       "3    Tuesday       Latte         100\n",
       "4  Wednesday    Espresso         100"
      ]
     },
     "execution_count": 13,
     "metadata": {},
     "output_type": "execute_result"
    }
   ],
   "source": [
    "# change units sold to 100 for first 5 entries\n",
    "coffee_sample = coffee.copy()\n",
    "\n",
    "coffee_sample.loc[0:5, \"Units Sold\"] = 100\n",
    "coffee_sample.head()"
   ]
  },
  {
   "cell_type": "code",
   "execution_count": 14,
   "metadata": {
    "ExecuteTime": {
     "end_time": "2025-03-16T09:52:22.253240Z",
     "start_time": "2025-03-16T09:52:22.245954Z"
    },
    "colab": {
     "base_uri": "https://localhost:8080/"
    },
    "executionInfo": {
     "elapsed": 24,
     "status": "ok",
     "timestamp": 1742117665947,
     "user": {
      "displayName": "Pacurar Sebastian",
      "userId": "15686393619609976384"
     },
     "user_tz": -120
    },
    "id": "5dDxBldQjdg7",
    "outputId": "6bb599cc-9c47-4463-ac44-ded4d886ebad"
   },
   "outputs": [
    {
     "data": {
      "text/plain": [
       "(25, 'Monday')"
      ]
     },
     "execution_count": 14,
     "metadata": {},
     "output_type": "execute_result"
    }
   ],
   "source": [
    "coffee_sample = coffee.copy()\n",
    "\n",
    "# get units sold for row 0\n",
    "units_sold_row_0 = coffee_sample.at[0, \"Units Sold\"]\n",
    "\n",
    "# this won't work, because at() and iat() are scalars only\n",
    "# coffee.at[0:3, \"Units Sold\"]\n",
    "\n",
    "first_row_first_col = coffee_sample.iat[0, 0]\n",
    "units_sold_row_0, first_row_first_col"
   ]
  },
  {
   "cell_type": "markdown",
   "metadata": {
    "id": "dUThX4AxDR-1"
   },
   "source": [
    "<br><hr><br>"
   ]
  },
  {
   "cell_type": "markdown",
   "metadata": {
    "id": "BFvvgnfPdDrk"
   },
   "source": [
    "## 1.2 - Grab Columns and Sort Values"
   ]
  },
  {
   "cell_type": "code",
   "execution_count": 17,
   "metadata": {
    "ExecuteTime": {
     "end_time": "2025-03-16T09:52:22.521134Z",
     "start_time": "2025-03-16T09:52:22.512811Z"
    },
    "colab": {
     "base_uri": "https://localhost:8080/",
     "height": 488
    },
    "executionInfo": {
     "elapsed": 64,
     "status": "ok",
     "timestamp": 1742117666013,
     "user": {
      "displayName": "Pacurar Sebastian",
      "userId": "15686393619609976384"
     },
     "user_tz": -120
    },
    "id": "7d8218fc-3312-4838-873b-928dfcef01e2",
    "outputId": "379665ad-185e-461b-a459-eff8c8a64669"
   },
   "outputs": [
    {
     "data": {
      "text/html": [
       "<div>\n",
       "<style scoped>\n",
       "    .dataframe tbody tr th:only-of-type {\n",
       "        vertical-align: middle;\n",
       "    }\n",
       "\n",
       "    .dataframe tbody tr th {\n",
       "        vertical-align: top;\n",
       "    }\n",
       "\n",
       "    .dataframe thead th {\n",
       "        text-align: right;\n",
       "    }\n",
       "</style>\n",
       "<table border=\"1\" class=\"dataframe\">\n",
       "  <thead>\n",
       "    <tr style=\"text-align: right;\">\n",
       "      <th></th>\n",
       "      <th>Day</th>\n",
       "      <th>Coffee Type</th>\n",
       "      <th>Units Sold</th>\n",
       "    </tr>\n",
       "  </thead>\n",
       "  <tbody>\n",
       "    <tr>\n",
       "      <th>1</th>\n",
       "      <td>Monday</td>\n",
       "      <td>Latte</td>\n",
       "      <td>15</td>\n",
       "    </tr>\n",
       "    <tr>\n",
       "      <th>3</th>\n",
       "      <td>Tuesday</td>\n",
       "      <td>Latte</td>\n",
       "      <td>20</td>\n",
       "    </tr>\n",
       "    <tr>\n",
       "      <th>0</th>\n",
       "      <td>Monday</td>\n",
       "      <td>Espresso</td>\n",
       "      <td>25</td>\n",
       "    </tr>\n",
       "    <tr>\n",
       "      <th>5</th>\n",
       "      <td>Wednesday</td>\n",
       "      <td>Latte</td>\n",
       "      <td>25</td>\n",
       "    </tr>\n",
       "    <tr>\n",
       "      <th>2</th>\n",
       "      <td>Tuesday</td>\n",
       "      <td>Espresso</td>\n",
       "      <td>30</td>\n",
       "    </tr>\n",
       "    <tr>\n",
       "      <th>7</th>\n",
       "      <td>Thursday</td>\n",
       "      <td>Latte</td>\n",
       "      <td>30</td>\n",
       "    </tr>\n",
       "    <tr>\n",
       "      <th>4</th>\n",
       "      <td>Wednesday</td>\n",
       "      <td>Espresso</td>\n",
       "      <td>35</td>\n",
       "    </tr>\n",
       "    <tr>\n",
       "      <th>9</th>\n",
       "      <td>Friday</td>\n",
       "      <td>Latte</td>\n",
       "      <td>35</td>\n",
       "    </tr>\n",
       "    <tr>\n",
       "      <th>11</th>\n",
       "      <td>Saturday</td>\n",
       "      <td>Latte</td>\n",
       "      <td>35</td>\n",
       "    </tr>\n",
       "    <tr>\n",
       "      <th>13</th>\n",
       "      <td>Sunday</td>\n",
       "      <td>Latte</td>\n",
       "      <td>35</td>\n",
       "    </tr>\n",
       "    <tr>\n",
       "      <th>6</th>\n",
       "      <td>Thursday</td>\n",
       "      <td>Espresso</td>\n",
       "      <td>40</td>\n",
       "    </tr>\n",
       "    <tr>\n",
       "      <th>8</th>\n",
       "      <td>Friday</td>\n",
       "      <td>Espresso</td>\n",
       "      <td>45</td>\n",
       "    </tr>\n",
       "    <tr>\n",
       "      <th>10</th>\n",
       "      <td>Saturday</td>\n",
       "      <td>Espresso</td>\n",
       "      <td>45</td>\n",
       "    </tr>\n",
       "    <tr>\n",
       "      <th>12</th>\n",
       "      <td>Sunday</td>\n",
       "      <td>Espresso</td>\n",
       "      <td>45</td>\n",
       "    </tr>\n",
       "  </tbody>\n",
       "</table>\n",
       "</div>"
      ],
      "text/plain": [
       "          Day Coffee Type  Units Sold\n",
       "1      Monday       Latte          15\n",
       "3     Tuesday       Latte          20\n",
       "0      Monday    Espresso          25\n",
       "5   Wednesday       Latte          25\n",
       "2     Tuesday    Espresso          30\n",
       "7    Thursday       Latte          30\n",
       "4   Wednesday    Espresso          35\n",
       "9      Friday       Latte          35\n",
       "11   Saturday       Latte          35\n",
       "13     Sunday       Latte          35\n",
       "6    Thursday    Espresso          40\n",
       "8      Friday    Espresso          45\n",
       "10   Saturday    Espresso          45\n",
       "12     Sunday    Espresso          45"
      ]
     },
     "execution_count": 17,
     "metadata": {},
     "output_type": "execute_result"
    }
   ],
   "source": [
    "# sort values based on Units Sold in ascending order\n",
    "\n",
    "coffee_sample = coffee.copy()\n",
    "coffee_sample.sort_values(\"Units Sold\")"
   ]
  },
  {
   "cell_type": "code",
   "execution_count": 18,
   "metadata": {
    "ExecuteTime": {
     "end_time": "2025-03-16T09:52:22.792205Z",
     "start_time": "2025-03-16T09:52:22.784846Z"
    },
    "colab": {
     "base_uri": "https://localhost:8080/",
     "height": 488
    },
    "executionInfo": {
     "elapsed": 21,
     "status": "ok",
     "timestamp": 1742117666036,
     "user": {
      "displayName": "Pacurar Sebastian",
      "userId": "15686393619609976384"
     },
     "user_tz": -120
    },
    "id": "v_-l7M53dSo3",
    "outputId": "fc1b7ba4-b288-4673-ad97-ccc1f18c7b55"
   },
   "outputs": [
    {
     "data": {
      "text/html": [
       "<div>\n",
       "<style scoped>\n",
       "    .dataframe tbody tr th:only-of-type {\n",
       "        vertical-align: middle;\n",
       "    }\n",
       "\n",
       "    .dataframe tbody tr th {\n",
       "        vertical-align: top;\n",
       "    }\n",
       "\n",
       "    .dataframe thead th {\n",
       "        text-align: right;\n",
       "    }\n",
       "</style>\n",
       "<table border=\"1\" class=\"dataframe\">\n",
       "  <thead>\n",
       "    <tr style=\"text-align: right;\">\n",
       "      <th></th>\n",
       "      <th>Day</th>\n",
       "      <th>Coffee Type</th>\n",
       "      <th>Units Sold</th>\n",
       "    </tr>\n",
       "  </thead>\n",
       "  <tbody>\n",
       "    <tr>\n",
       "      <th>8</th>\n",
       "      <td>Friday</td>\n",
       "      <td>Espresso</td>\n",
       "      <td>45</td>\n",
       "    </tr>\n",
       "    <tr>\n",
       "      <th>10</th>\n",
       "      <td>Saturday</td>\n",
       "      <td>Espresso</td>\n",
       "      <td>45</td>\n",
       "    </tr>\n",
       "    <tr>\n",
       "      <th>12</th>\n",
       "      <td>Sunday</td>\n",
       "      <td>Espresso</td>\n",
       "      <td>45</td>\n",
       "    </tr>\n",
       "    <tr>\n",
       "      <th>6</th>\n",
       "      <td>Thursday</td>\n",
       "      <td>Espresso</td>\n",
       "      <td>40</td>\n",
       "    </tr>\n",
       "    <tr>\n",
       "      <th>4</th>\n",
       "      <td>Wednesday</td>\n",
       "      <td>Espresso</td>\n",
       "      <td>35</td>\n",
       "    </tr>\n",
       "    <tr>\n",
       "      <th>9</th>\n",
       "      <td>Friday</td>\n",
       "      <td>Latte</td>\n",
       "      <td>35</td>\n",
       "    </tr>\n",
       "    <tr>\n",
       "      <th>11</th>\n",
       "      <td>Saturday</td>\n",
       "      <td>Latte</td>\n",
       "      <td>35</td>\n",
       "    </tr>\n",
       "    <tr>\n",
       "      <th>13</th>\n",
       "      <td>Sunday</td>\n",
       "      <td>Latte</td>\n",
       "      <td>35</td>\n",
       "    </tr>\n",
       "    <tr>\n",
       "      <th>2</th>\n",
       "      <td>Tuesday</td>\n",
       "      <td>Espresso</td>\n",
       "      <td>30</td>\n",
       "    </tr>\n",
       "    <tr>\n",
       "      <th>7</th>\n",
       "      <td>Thursday</td>\n",
       "      <td>Latte</td>\n",
       "      <td>30</td>\n",
       "    </tr>\n",
       "    <tr>\n",
       "      <th>0</th>\n",
       "      <td>Monday</td>\n",
       "      <td>Espresso</td>\n",
       "      <td>25</td>\n",
       "    </tr>\n",
       "    <tr>\n",
       "      <th>5</th>\n",
       "      <td>Wednesday</td>\n",
       "      <td>Latte</td>\n",
       "      <td>25</td>\n",
       "    </tr>\n",
       "    <tr>\n",
       "      <th>3</th>\n",
       "      <td>Tuesday</td>\n",
       "      <td>Latte</td>\n",
       "      <td>20</td>\n",
       "    </tr>\n",
       "    <tr>\n",
       "      <th>1</th>\n",
       "      <td>Monday</td>\n",
       "      <td>Latte</td>\n",
       "      <td>15</td>\n",
       "    </tr>\n",
       "  </tbody>\n",
       "</table>\n",
       "</div>"
      ],
      "text/plain": [
       "          Day Coffee Type  Units Sold\n",
       "8      Friday    Espresso          45\n",
       "10   Saturday    Espresso          45\n",
       "12     Sunday    Espresso          45\n",
       "6    Thursday    Espresso          40\n",
       "4   Wednesday    Espresso          35\n",
       "9      Friday       Latte          35\n",
       "11   Saturday       Latte          35\n",
       "13     Sunday       Latte          35\n",
       "2     Tuesday    Espresso          30\n",
       "7    Thursday       Latte          30\n",
       "0      Monday    Espresso          25\n",
       "5   Wednesday       Latte          25\n",
       "3     Tuesday       Latte          20\n",
       "1      Monday       Latte          15"
      ]
     },
     "execution_count": 18,
     "metadata": {},
     "output_type": "execute_result"
    }
   ],
   "source": [
    "# sort values based on Units Sold in descending order\n",
    "\n",
    "coffee_sample = coffee.copy()\n",
    "coffee_sample.sort_values(\"Units Sold\", ascending=False)"
   ]
  },
  {
   "cell_type": "code",
   "execution_count": 19,
   "metadata": {
    "ExecuteTime": {
     "end_time": "2025-03-16T09:52:23.118971Z",
     "start_time": "2025-03-16T09:52:23.099534Z"
    },
    "colab": {
     "base_uri": "https://localhost:8080/",
     "height": 488
    },
    "executionInfo": {
     "elapsed": 74,
     "status": "ok",
     "timestamp": 1742117666111,
     "user": {
      "displayName": "Pacurar Sebastian",
      "userId": "15686393619609976384"
     },
     "user_tz": -120
    },
    "id": "TIdfCwlFdTG1",
    "outputId": "93ff6940-23ca-42dd-ede1-dbf2b8ea1fd7"
   },
   "outputs": [
    {
     "data": {
      "text/html": [
       "<div>\n",
       "<style scoped>\n",
       "    .dataframe tbody tr th:only-of-type {\n",
       "        vertical-align: middle;\n",
       "    }\n",
       "\n",
       "    .dataframe tbody tr th {\n",
       "        vertical-align: top;\n",
       "    }\n",
       "\n",
       "    .dataframe thead th {\n",
       "        text-align: right;\n",
       "    }\n",
       "</style>\n",
       "<table border=\"1\" class=\"dataframe\">\n",
       "  <thead>\n",
       "    <tr style=\"text-align: right;\">\n",
       "      <th></th>\n",
       "      <th>Day</th>\n",
       "      <th>Coffee Type</th>\n",
       "      <th>Units Sold</th>\n",
       "    </tr>\n",
       "  </thead>\n",
       "  <tbody>\n",
       "    <tr>\n",
       "      <th>8</th>\n",
       "      <td>Friday</td>\n",
       "      <td>Espresso</td>\n",
       "      <td>45</td>\n",
       "    </tr>\n",
       "    <tr>\n",
       "      <th>10</th>\n",
       "      <td>Saturday</td>\n",
       "      <td>Espresso</td>\n",
       "      <td>45</td>\n",
       "    </tr>\n",
       "    <tr>\n",
       "      <th>12</th>\n",
       "      <td>Sunday</td>\n",
       "      <td>Espresso</td>\n",
       "      <td>45</td>\n",
       "    </tr>\n",
       "    <tr>\n",
       "      <th>6</th>\n",
       "      <td>Thursday</td>\n",
       "      <td>Espresso</td>\n",
       "      <td>40</td>\n",
       "    </tr>\n",
       "    <tr>\n",
       "      <th>4</th>\n",
       "      <td>Wednesday</td>\n",
       "      <td>Espresso</td>\n",
       "      <td>35</td>\n",
       "    </tr>\n",
       "    <tr>\n",
       "      <th>9</th>\n",
       "      <td>Friday</td>\n",
       "      <td>Latte</td>\n",
       "      <td>35</td>\n",
       "    </tr>\n",
       "    <tr>\n",
       "      <th>11</th>\n",
       "      <td>Saturday</td>\n",
       "      <td>Latte</td>\n",
       "      <td>35</td>\n",
       "    </tr>\n",
       "    <tr>\n",
       "      <th>13</th>\n",
       "      <td>Sunday</td>\n",
       "      <td>Latte</td>\n",
       "      <td>35</td>\n",
       "    </tr>\n",
       "    <tr>\n",
       "      <th>2</th>\n",
       "      <td>Tuesday</td>\n",
       "      <td>Espresso</td>\n",
       "      <td>30</td>\n",
       "    </tr>\n",
       "    <tr>\n",
       "      <th>7</th>\n",
       "      <td>Thursday</td>\n",
       "      <td>Latte</td>\n",
       "      <td>30</td>\n",
       "    </tr>\n",
       "    <tr>\n",
       "      <th>0</th>\n",
       "      <td>Monday</td>\n",
       "      <td>Espresso</td>\n",
       "      <td>25</td>\n",
       "    </tr>\n",
       "    <tr>\n",
       "      <th>5</th>\n",
       "      <td>Wednesday</td>\n",
       "      <td>Latte</td>\n",
       "      <td>25</td>\n",
       "    </tr>\n",
       "    <tr>\n",
       "      <th>3</th>\n",
       "      <td>Tuesday</td>\n",
       "      <td>Latte</td>\n",
       "      <td>20</td>\n",
       "    </tr>\n",
       "    <tr>\n",
       "      <th>1</th>\n",
       "      <td>Monday</td>\n",
       "      <td>Latte</td>\n",
       "      <td>15</td>\n",
       "    </tr>\n",
       "  </tbody>\n",
       "</table>\n",
       "</div>"
      ],
      "text/plain": [
       "          Day Coffee Type  Units Sold\n",
       "8      Friday    Espresso          45\n",
       "10   Saturday    Espresso          45\n",
       "12     Sunday    Espresso          45\n",
       "6    Thursday    Espresso          40\n",
       "4   Wednesday    Espresso          35\n",
       "9      Friday       Latte          35\n",
       "11   Saturday       Latte          35\n",
       "13     Sunday       Latte          35\n",
       "2     Tuesday    Espresso          30\n",
       "7    Thursday       Latte          30\n",
       "0      Monday    Espresso          25\n",
       "5   Wednesday       Latte          25\n",
       "3     Tuesday       Latte          20\n",
       "1      Monday       Latte          15"
      ]
     },
     "execution_count": 19,
     "metadata": {},
     "output_type": "execute_result"
    }
   ],
   "source": [
    "# sort based on Units Sold, and then sort based on Coffee Type in descending order\n",
    "#  first sort is done by Units Sold, and if there is the same value for Units Sold under different Coffee Type, then sort based on that as well\n",
    "#  ascending=[0,1] means sort units sold in descending order, and coffee type in ascending order. Since coffee type is a string it will be sorted alphabetically\n",
    "\n",
    "coffee_sample = coffee.copy()\n",
    "coffee_sample.sort_values([\"Units Sold\", \"Coffee Type\"], ascending=[0, 1])"
   ]
  },
  {
   "cell_type": "code",
   "execution_count": 20,
   "metadata": {
    "ExecuteTime": {
     "end_time": "2025-03-16T09:52:23.320103Z",
     "start_time": "2025-03-16T09:52:23.306838Z"
    },
    "colab": {
     "base_uri": "https://localhost:8080/"
    },
    "executionInfo": {
     "elapsed": 35,
     "status": "ok",
     "timestamp": 1742117666126,
     "user": {
      "displayName": "Pacurar Sebastian",
      "userId": "15686393619609976384"
     },
     "user_tz": -120
    },
    "id": "smiV1h0ddWVE",
    "outputId": "7af827c9-5c5b-46df-edaa-3225ea51fc3e"
   },
   "outputs": [
    {
     "name": "stdout",
     "output_type": "stream",
     "text": [
      "index 0 has 25 of Units Sold\n",
      "index 1 has 15 of Units Sold\n",
      "index 2 has 30 of Units Sold\n",
      "index 3 has 20 of Units Sold\n",
      "index 4 has 35 of Units Sold\n",
      "index 5 has 25 of Units Sold\n",
      "index 6 has 40 of Units Sold\n",
      "index 7 has 30 of Units Sold\n",
      "index 8 has 45 of Units Sold\n",
      "index 9 has 35 of Units Sold\n",
      "index 10 has 45 of Units Sold\n",
      "index 11 has 35 of Units Sold\n",
      "index 12 has 45 of Units Sold\n",
      "index 13 has 35 of Units Sold\n"
     ]
    }
   ],
   "source": [
    "# iterate through rows. not recommended because it loses some of the memory performance benefits\n",
    "#  the below iterates through the row and prints the index and units sold for every row\n",
    "for index, row in coffee_sample.iterrows():\n",
    "    print(f'index {index} has {row[\"Units Sold\"]} of Units Sold')"
   ]
  },
  {
   "cell_type": "markdown",
   "metadata": {
    "id": "xuM7t4W2FxOb"
   },
   "source": [
    "<br><hr><br>"
   ]
  },
  {
   "cell_type": "markdown",
   "metadata": {
    "id": "RFg9evJYdx2N"
   },
   "source": [
    "## 1.3 - Adding and Removing Columns"
   ]
  },
  {
   "cell_type": "code",
   "execution_count": 23,
   "metadata": {
    "ExecuteTime": {
     "end_time": "2025-03-16T09:52:23.574177Z",
     "start_time": "2025-03-16T09:52:23.567176Z"
    },
    "colab": {
     "base_uri": "https://localhost:8080/",
     "height": 488
    },
    "executionInfo": {
     "elapsed": 131,
     "status": "ok",
     "timestamp": 1742117666256,
     "user": {
      "displayName": "Pacurar Sebastian",
      "userId": "15686393619609976384"
     },
     "user_tz": -120
    },
    "id": "a98i9mFYd6gA",
    "outputId": "52900727-ab7e-441e-f1fa-4bba25c7fec8"
   },
   "outputs": [
    {
     "data": {
      "text/html": [
       "<div>\n",
       "<style scoped>\n",
       "    .dataframe tbody tr th:only-of-type {\n",
       "        vertical-align: middle;\n",
       "    }\n",
       "\n",
       "    .dataframe tbody tr th {\n",
       "        vertical-align: top;\n",
       "    }\n",
       "\n",
       "    .dataframe thead th {\n",
       "        text-align: right;\n",
       "    }\n",
       "</style>\n",
       "<table border=\"1\" class=\"dataframe\">\n",
       "  <thead>\n",
       "    <tr style=\"text-align: right;\">\n",
       "      <th></th>\n",
       "      <th>Day</th>\n",
       "      <th>Coffee Type</th>\n",
       "      <th>Units Sold</th>\n",
       "    </tr>\n",
       "  </thead>\n",
       "  <tbody>\n",
       "    <tr>\n",
       "      <th>0</th>\n",
       "      <td>Monday</td>\n",
       "      <td>Espresso</td>\n",
       "      <td>25</td>\n",
       "    </tr>\n",
       "    <tr>\n",
       "      <th>1</th>\n",
       "      <td>Monday</td>\n",
       "      <td>Latte</td>\n",
       "      <td>15</td>\n",
       "    </tr>\n",
       "    <tr>\n",
       "      <th>2</th>\n",
       "      <td>Tuesday</td>\n",
       "      <td>Espresso</td>\n",
       "      <td>30</td>\n",
       "    </tr>\n",
       "    <tr>\n",
       "      <th>3</th>\n",
       "      <td>Tuesday</td>\n",
       "      <td>Latte</td>\n",
       "      <td>20</td>\n",
       "    </tr>\n",
       "    <tr>\n",
       "      <th>4</th>\n",
       "      <td>Wednesday</td>\n",
       "      <td>Espresso</td>\n",
       "      <td>35</td>\n",
       "    </tr>\n",
       "    <tr>\n",
       "      <th>5</th>\n",
       "      <td>Wednesday</td>\n",
       "      <td>Latte</td>\n",
       "      <td>25</td>\n",
       "    </tr>\n",
       "    <tr>\n",
       "      <th>6</th>\n",
       "      <td>Thursday</td>\n",
       "      <td>Espresso</td>\n",
       "      <td>40</td>\n",
       "    </tr>\n",
       "    <tr>\n",
       "      <th>7</th>\n",
       "      <td>Thursday</td>\n",
       "      <td>Latte</td>\n",
       "      <td>30</td>\n",
       "    </tr>\n",
       "    <tr>\n",
       "      <th>8</th>\n",
       "      <td>Friday</td>\n",
       "      <td>Espresso</td>\n",
       "      <td>45</td>\n",
       "    </tr>\n",
       "    <tr>\n",
       "      <th>9</th>\n",
       "      <td>Friday</td>\n",
       "      <td>Latte</td>\n",
       "      <td>35</td>\n",
       "    </tr>\n",
       "    <tr>\n",
       "      <th>10</th>\n",
       "      <td>Saturday</td>\n",
       "      <td>Espresso</td>\n",
       "      <td>45</td>\n",
       "    </tr>\n",
       "    <tr>\n",
       "      <th>11</th>\n",
       "      <td>Saturday</td>\n",
       "      <td>Latte</td>\n",
       "      <td>35</td>\n",
       "    </tr>\n",
       "    <tr>\n",
       "      <th>12</th>\n",
       "      <td>Sunday</td>\n",
       "      <td>Espresso</td>\n",
       "      <td>45</td>\n",
       "    </tr>\n",
       "    <tr>\n",
       "      <th>13</th>\n",
       "      <td>Sunday</td>\n",
       "      <td>Latte</td>\n",
       "      <td>35</td>\n",
       "    </tr>\n",
       "  </tbody>\n",
       "</table>\n",
       "</div>"
      ],
      "text/plain": [
       "          Day Coffee Type  Units Sold\n",
       "0      Monday    Espresso          25\n",
       "1      Monday       Latte          15\n",
       "2     Tuesday    Espresso          30\n",
       "3     Tuesday       Latte          20\n",
       "4   Wednesday    Espresso          35\n",
       "5   Wednesday       Latte          25\n",
       "6    Thursday    Espresso          40\n",
       "7    Thursday       Latte          30\n",
       "8      Friday    Espresso          45\n",
       "9      Friday       Latte          35\n",
       "10   Saturday    Espresso          45\n",
       "11   Saturday       Latte          35\n",
       "12     Sunday    Espresso          45\n",
       "13     Sunday       Latte          35"
      ]
     },
     "execution_count": 23,
     "metadata": {},
     "output_type": "execute_result"
    }
   ],
   "source": [
    "coffee_sample = coffee.copy()\n",
    "coffee_sample"
   ]
  },
  {
   "cell_type": "code",
   "execution_count": 24,
   "metadata": {
    "ExecuteTime": {
     "end_time": "2025-03-16T09:52:23.817766Z",
     "start_time": "2025-03-16T09:52:23.808047Z"
    },
    "colab": {
     "base_uri": "https://localhost:8080/",
     "height": 488
    },
    "executionInfo": {
     "elapsed": 113,
     "status": "ok",
     "timestamp": 1742117666371,
     "user": {
      "displayName": "Pacurar Sebastian",
      "userId": "15686393619609976384"
     },
     "user_tz": -120
    },
    "id": "7F4FAU5kd-Bp",
    "outputId": "3b836c11-3802-4929-9a65-2ad3f37c0397"
   },
   "outputs": [
    {
     "data": {
      "text/html": [
       "<div>\n",
       "<style scoped>\n",
       "    .dataframe tbody tr th:only-of-type {\n",
       "        vertical-align: middle;\n",
       "    }\n",
       "\n",
       "    .dataframe tbody tr th {\n",
       "        vertical-align: top;\n",
       "    }\n",
       "\n",
       "    .dataframe thead th {\n",
       "        text-align: right;\n",
       "    }\n",
       "</style>\n",
       "<table border=\"1\" class=\"dataframe\">\n",
       "  <thead>\n",
       "    <tr style=\"text-align: right;\">\n",
       "      <th></th>\n",
       "      <th>Day</th>\n",
       "      <th>Coffee Type</th>\n",
       "      <th>Units Sold</th>\n",
       "      <th>price</th>\n",
       "    </tr>\n",
       "  </thead>\n",
       "  <tbody>\n",
       "    <tr>\n",
       "      <th>0</th>\n",
       "      <td>Monday</td>\n",
       "      <td>Espresso</td>\n",
       "      <td>25</td>\n",
       "      <td>4.99</td>\n",
       "    </tr>\n",
       "    <tr>\n",
       "      <th>1</th>\n",
       "      <td>Monday</td>\n",
       "      <td>Latte</td>\n",
       "      <td>15</td>\n",
       "      <td>4.99</td>\n",
       "    </tr>\n",
       "    <tr>\n",
       "      <th>2</th>\n",
       "      <td>Tuesday</td>\n",
       "      <td>Espresso</td>\n",
       "      <td>30</td>\n",
       "      <td>4.99</td>\n",
       "    </tr>\n",
       "    <tr>\n",
       "      <th>3</th>\n",
       "      <td>Tuesday</td>\n",
       "      <td>Latte</td>\n",
       "      <td>20</td>\n",
       "      <td>4.99</td>\n",
       "    </tr>\n",
       "    <tr>\n",
       "      <th>4</th>\n",
       "      <td>Wednesday</td>\n",
       "      <td>Espresso</td>\n",
       "      <td>35</td>\n",
       "      <td>4.99</td>\n",
       "    </tr>\n",
       "    <tr>\n",
       "      <th>5</th>\n",
       "      <td>Wednesday</td>\n",
       "      <td>Latte</td>\n",
       "      <td>25</td>\n",
       "      <td>4.99</td>\n",
       "    </tr>\n",
       "    <tr>\n",
       "      <th>6</th>\n",
       "      <td>Thursday</td>\n",
       "      <td>Espresso</td>\n",
       "      <td>40</td>\n",
       "      <td>4.99</td>\n",
       "    </tr>\n",
       "    <tr>\n",
       "      <th>7</th>\n",
       "      <td>Thursday</td>\n",
       "      <td>Latte</td>\n",
       "      <td>30</td>\n",
       "      <td>4.99</td>\n",
       "    </tr>\n",
       "    <tr>\n",
       "      <th>8</th>\n",
       "      <td>Friday</td>\n",
       "      <td>Espresso</td>\n",
       "      <td>45</td>\n",
       "      <td>4.99</td>\n",
       "    </tr>\n",
       "    <tr>\n",
       "      <th>9</th>\n",
       "      <td>Friday</td>\n",
       "      <td>Latte</td>\n",
       "      <td>35</td>\n",
       "      <td>4.99</td>\n",
       "    </tr>\n",
       "    <tr>\n",
       "      <th>10</th>\n",
       "      <td>Saturday</td>\n",
       "      <td>Espresso</td>\n",
       "      <td>45</td>\n",
       "      <td>4.99</td>\n",
       "    </tr>\n",
       "    <tr>\n",
       "      <th>11</th>\n",
       "      <td>Saturday</td>\n",
       "      <td>Latte</td>\n",
       "      <td>35</td>\n",
       "      <td>4.99</td>\n",
       "    </tr>\n",
       "    <tr>\n",
       "      <th>12</th>\n",
       "      <td>Sunday</td>\n",
       "      <td>Espresso</td>\n",
       "      <td>45</td>\n",
       "      <td>4.99</td>\n",
       "    </tr>\n",
       "    <tr>\n",
       "      <th>13</th>\n",
       "      <td>Sunday</td>\n",
       "      <td>Latte</td>\n",
       "      <td>35</td>\n",
       "      <td>4.99</td>\n",
       "    </tr>\n",
       "  </tbody>\n",
       "</table>\n",
       "</div>"
      ],
      "text/plain": [
       "          Day Coffee Type  Units Sold  price\n",
       "0      Monday    Espresso          25   4.99\n",
       "1      Monday       Latte          15   4.99\n",
       "2     Tuesday    Espresso          30   4.99\n",
       "3     Tuesday       Latte          20   4.99\n",
       "4   Wednesday    Espresso          35   4.99\n",
       "5   Wednesday       Latte          25   4.99\n",
       "6    Thursday    Espresso          40   4.99\n",
       "7    Thursday       Latte          30   4.99\n",
       "8      Friday    Espresso          45   4.99\n",
       "9      Friday       Latte          35   4.99\n",
       "10   Saturday    Espresso          45   4.99\n",
       "11   Saturday       Latte          35   4.99\n",
       "12     Sunday    Espresso          45   4.99\n",
       "13     Sunday       Latte          35   4.99"
      ]
     },
     "execution_count": 24,
     "metadata": {},
     "output_type": "execute_result"
    }
   ],
   "source": [
    "# add column price\n",
    "coffee_sample['price'] = 4.99\n",
    "coffee_sample"
   ]
  },
  {
   "cell_type": "code",
   "execution_count": 25,
   "metadata": {
    "ExecuteTime": {
     "end_time": "2025-03-16T09:52:24.170394Z",
     "start_time": "2025-03-16T09:52:24.161337Z"
    },
    "colab": {
     "base_uri": "https://localhost:8080/",
     "height": 112
    },
    "executionInfo": {
     "elapsed": 102,
     "status": "ok",
     "timestamp": 1742117666475,
     "user": {
      "displayName": "Pacurar Sebastian",
      "userId": "15686393619609976384"
     },
     "user_tz": -120
    },
    "id": "uLlQl8eIeAWg",
    "outputId": "45d7cb00-d40b-4ba7-a154-415b33842f1c"
   },
   "outputs": [
    {
     "data": {
      "text/html": [
       "<div>\n",
       "<style scoped>\n",
       "    .dataframe tbody tr th:only-of-type {\n",
       "        vertical-align: middle;\n",
       "    }\n",
       "\n",
       "    .dataframe tbody tr th {\n",
       "        vertical-align: top;\n",
       "    }\n",
       "\n",
       "    .dataframe thead th {\n",
       "        text-align: right;\n",
       "    }\n",
       "</style>\n",
       "<table border=\"1\" class=\"dataframe\">\n",
       "  <thead>\n",
       "    <tr style=\"text-align: right;\">\n",
       "      <th></th>\n",
       "      <th>Day</th>\n",
       "      <th>Coffee Type</th>\n",
       "      <th>Units Sold</th>\n",
       "      <th>price</th>\n",
       "      <th>new_price</th>\n",
       "    </tr>\n",
       "  </thead>\n",
       "  <tbody>\n",
       "    <tr>\n",
       "      <th>0</th>\n",
       "      <td>Monday</td>\n",
       "      <td>Espresso</td>\n",
       "      <td>25</td>\n",
       "      <td>4.99</td>\n",
       "      <td>3.99</td>\n",
       "    </tr>\n",
       "    <tr>\n",
       "      <th>1</th>\n",
       "      <td>Monday</td>\n",
       "      <td>Latte</td>\n",
       "      <td>15</td>\n",
       "      <td>4.99</td>\n",
       "      <td>5.99</td>\n",
       "    </tr>\n",
       "  </tbody>\n",
       "</table>\n",
       "</div>"
      ],
      "text/plain": [
       "      Day Coffee Type  Units Sold  price  new_price\n",
       "0  Monday    Espresso          25   4.99       3.99\n",
       "1  Monday       Latte          15   4.99       5.99"
      ]
     },
     "execution_count": 25,
     "metadata": {},
     "output_type": "execute_result"
    }
   ],
   "source": [
    "# adding a column based on conditional. using np.where to add 3.99 for Espresso, and 5.99 for anything which is not Espresso\n",
    "coffee_sample['new_price'] = np.where(coffee[\"Coffee Type\"] == \"Espresso\", 3.99, 5.99)\n",
    "coffee_sample.head(2)"
   ]
  },
  {
   "cell_type": "code",
   "execution_count": 26,
   "metadata": {
    "ExecuteTime": {
     "end_time": "2025-03-16T09:52:24.444370Z",
     "start_time": "2025-03-16T09:52:24.434827Z"
    },
    "colab": {
     "base_uri": "https://localhost:8080/",
     "height": 112
    },
    "executionInfo": {
     "elapsed": 79,
     "status": "ok",
     "timestamp": 1742117666517,
     "user": {
      "displayName": "Pacurar Sebastian",
      "userId": "15686393619609976384"
     },
     "user_tz": -120
    },
    "id": "qqOrHJYbeFYU",
    "outputId": "a353f631-a02e-416b-851f-92b4bb5ade5b"
   },
   "outputs": [
    {
     "data": {
      "text/html": [
       "<div>\n",
       "<style scoped>\n",
       "    .dataframe tbody tr th:only-of-type {\n",
       "        vertical-align: middle;\n",
       "    }\n",
       "\n",
       "    .dataframe tbody tr th {\n",
       "        vertical-align: top;\n",
       "    }\n",
       "\n",
       "    .dataframe thead th {\n",
       "        text-align: right;\n",
       "    }\n",
       "</style>\n",
       "<table border=\"1\" class=\"dataframe\">\n",
       "  <thead>\n",
       "    <tr style=\"text-align: right;\">\n",
       "      <th></th>\n",
       "      <th>Day</th>\n",
       "      <th>Coffee Type</th>\n",
       "      <th>Units Sold</th>\n",
       "      <th>new_price</th>\n",
       "    </tr>\n",
       "  </thead>\n",
       "  <tbody>\n",
       "    <tr>\n",
       "      <th>0</th>\n",
       "      <td>Monday</td>\n",
       "      <td>Espresso</td>\n",
       "      <td>25</td>\n",
       "      <td>3.99</td>\n",
       "    </tr>\n",
       "    <tr>\n",
       "      <th>1</th>\n",
       "      <td>Monday</td>\n",
       "      <td>Latte</td>\n",
       "      <td>15</td>\n",
       "      <td>5.99</td>\n",
       "    </tr>\n",
       "  </tbody>\n",
       "</table>\n",
       "</div>"
      ],
      "text/plain": [
       "      Day Coffee Type  Units Sold  new_price\n",
       "0  Monday    Espresso          25       3.99\n",
       "1  Monday       Latte          15       5.99"
      ]
     },
     "execution_count": 26,
     "metadata": {},
     "output_type": "execute_result"
    }
   ],
   "source": [
    "# how to remove a column, but it just returns a new dataframe\n",
    "coffee_sample.drop(columns=[\"price\"]).head(2)"
   ]
  },
  {
   "cell_type": "code",
   "execution_count": 27,
   "metadata": {
    "ExecuteTime": {
     "end_time": "2025-03-16T09:52:24.839435Z",
     "start_time": "2025-03-16T09:52:24.828886Z"
    },
    "colab": {
     "base_uri": "https://localhost:8080/",
     "height": 112
    },
    "executionInfo": {
     "elapsed": 136,
     "status": "ok",
     "timestamp": 1742117666663,
     "user": {
      "displayName": "Pacurar Sebastian",
      "userId": "15686393619609976384"
     },
     "user_tz": -120
    },
    "id": "27kYwameeWaJ",
    "outputId": "cfba48f3-2032-4afd-eeac-ca02c10eed6a"
   },
   "outputs": [
    {
     "data": {
      "text/html": [
       "<div>\n",
       "<style scoped>\n",
       "    .dataframe tbody tr th:only-of-type {\n",
       "        vertical-align: middle;\n",
       "    }\n",
       "\n",
       "    .dataframe tbody tr th {\n",
       "        vertical-align: top;\n",
       "    }\n",
       "\n",
       "    .dataframe thead th {\n",
       "        text-align: right;\n",
       "    }\n",
       "</style>\n",
       "<table border=\"1\" class=\"dataframe\">\n",
       "  <thead>\n",
       "    <tr style=\"text-align: right;\">\n",
       "      <th></th>\n",
       "      <th>Day</th>\n",
       "      <th>Coffee Type</th>\n",
       "      <th>Units Sold</th>\n",
       "      <th>new_price</th>\n",
       "    </tr>\n",
       "  </thead>\n",
       "  <tbody>\n",
       "    <tr>\n",
       "      <th>0</th>\n",
       "      <td>Monday</td>\n",
       "      <td>Espresso</td>\n",
       "      <td>25</td>\n",
       "      <td>3.99</td>\n",
       "    </tr>\n",
       "    <tr>\n",
       "      <th>1</th>\n",
       "      <td>Monday</td>\n",
       "      <td>Latte</td>\n",
       "      <td>15</td>\n",
       "      <td>5.99</td>\n",
       "    </tr>\n",
       "  </tbody>\n",
       "</table>\n",
       "</div>"
      ],
      "text/plain": [
       "      Day Coffee Type  Units Sold  new_price\n",
       "0  Monday    Espresso          25       3.99\n",
       "1  Monday       Latte          15       5.99"
      ]
     },
     "execution_count": 27,
     "metadata": {},
     "output_type": "execute_result"
    }
   ],
   "source": [
    "# by adding inplace=True, will update the original coffee dataframe\n",
    "coffee_sample.drop(columns=[\"price\"], inplace=True)\n",
    "coffee_sample.head(2)"
   ]
  },
  {
   "cell_type": "code",
   "execution_count": 28,
   "metadata": {
    "ExecuteTime": {
     "end_time": "2025-03-16T09:52:25.134874Z",
     "start_time": "2025-03-16T09:52:25.127182Z"
    },
    "colab": {
     "base_uri": "https://localhost:8080/",
     "height": 112
    },
    "executionInfo": {
     "elapsed": 138,
     "status": "ok",
     "timestamp": 1742117666803,
     "user": {
      "displayName": "Pacurar Sebastian",
      "userId": "15686393619609976384"
     },
     "user_tz": -120
    },
    "id": "7S_xDEOKeit_",
    "outputId": "4e47cdf7-3772-4dac-9eb8-2f975ec853f1"
   },
   "outputs": [
    {
     "data": {
      "text/html": [
       "<div>\n",
       "<style scoped>\n",
       "    .dataframe tbody tr th:only-of-type {\n",
       "        vertical-align: middle;\n",
       "    }\n",
       "\n",
       "    .dataframe tbody tr th {\n",
       "        vertical-align: top;\n",
       "    }\n",
       "\n",
       "    .dataframe thead th {\n",
       "        text-align: right;\n",
       "    }\n",
       "</style>\n",
       "<table border=\"1\" class=\"dataframe\">\n",
       "  <thead>\n",
       "    <tr style=\"text-align: right;\">\n",
       "      <th></th>\n",
       "      <th>Day</th>\n",
       "      <th>Coffee Type</th>\n",
       "      <th>Units Sold</th>\n",
       "      <th>new_price</th>\n",
       "      <th>revenue</th>\n",
       "    </tr>\n",
       "  </thead>\n",
       "  <tbody>\n",
       "    <tr>\n",
       "      <th>0</th>\n",
       "      <td>Monday</td>\n",
       "      <td>Espresso</td>\n",
       "      <td>25</td>\n",
       "      <td>3.99</td>\n",
       "      <td>99.75</td>\n",
       "    </tr>\n",
       "    <tr>\n",
       "      <th>1</th>\n",
       "      <td>Monday</td>\n",
       "      <td>Latte</td>\n",
       "      <td>15</td>\n",
       "      <td>5.99</td>\n",
       "      <td>89.85</td>\n",
       "    </tr>\n",
       "  </tbody>\n",
       "</table>\n",
       "</div>"
      ],
      "text/plain": [
       "      Day Coffee Type  Units Sold  new_price  revenue\n",
       "0  Monday    Espresso          25       3.99    99.75\n",
       "1  Monday       Latte          15       5.99    89.85"
      ]
     },
     "execution_count": 28,
     "metadata": {},
     "output_type": "execute_result"
    }
   ],
   "source": [
    "# add a column revenue, which is equal to Units Sold * new_price for every row\n",
    "coffee_sample[\"revenue\"] = coffee_sample[\"Units Sold\"] * coffee_sample['new_price']\n",
    "coffee_sample.head(2)"
   ]
  },
  {
   "cell_type": "code",
   "execution_count": 29,
   "metadata": {
    "ExecuteTime": {
     "end_time": "2025-03-16T09:52:25.454796Z",
     "start_time": "2025-03-16T09:52:25.443797Z"
    },
    "colab": {
     "base_uri": "https://localhost:8080/",
     "height": 206
    },
    "executionInfo": {
     "elapsed": 61,
     "status": "ok",
     "timestamp": 1742117666863,
     "user": {
      "displayName": "Pacurar Sebastian",
      "userId": "15686393619609976384"
     },
     "user_tz": -120
    },
    "id": "t0ABBYYVe8_T",
    "outputId": "ebed87bb-de8c-4f83-dcec-b4934bcc92a7"
   },
   "outputs": [
    {
     "data": {
      "text/html": [
       "<div>\n",
       "<style scoped>\n",
       "    .dataframe tbody tr th:only-of-type {\n",
       "        vertical-align: middle;\n",
       "    }\n",
       "\n",
       "    .dataframe tbody tr th {\n",
       "        vertical-align: top;\n",
       "    }\n",
       "\n",
       "    .dataframe thead th {\n",
       "        text-align: right;\n",
       "    }\n",
       "</style>\n",
       "<table border=\"1\" class=\"dataframe\">\n",
       "  <thead>\n",
       "    <tr style=\"text-align: right;\">\n",
       "      <th></th>\n",
       "      <th>Day</th>\n",
       "      <th>Coffee Type</th>\n",
       "      <th>Units Sold</th>\n",
       "      <th>renamed_price</th>\n",
       "      <th>revenue</th>\n",
       "    </tr>\n",
       "  </thead>\n",
       "  <tbody>\n",
       "    <tr>\n",
       "      <th>0</th>\n",
       "      <td>Monday</td>\n",
       "      <td>Espresso</td>\n",
       "      <td>25</td>\n",
       "      <td>3.99</td>\n",
       "      <td>99.75</td>\n",
       "    </tr>\n",
       "    <tr>\n",
       "      <th>1</th>\n",
       "      <td>Monday</td>\n",
       "      <td>Latte</td>\n",
       "      <td>15</td>\n",
       "      <td>5.99</td>\n",
       "      <td>89.85</td>\n",
       "    </tr>\n",
       "    <tr>\n",
       "      <th>2</th>\n",
       "      <td>Tuesday</td>\n",
       "      <td>Espresso</td>\n",
       "      <td>30</td>\n",
       "      <td>3.99</td>\n",
       "      <td>119.70</td>\n",
       "    </tr>\n",
       "    <tr>\n",
       "      <th>3</th>\n",
       "      <td>Tuesday</td>\n",
       "      <td>Latte</td>\n",
       "      <td>20</td>\n",
       "      <td>5.99</td>\n",
       "      <td>119.80</td>\n",
       "    </tr>\n",
       "    <tr>\n",
       "      <th>4</th>\n",
       "      <td>Wednesday</td>\n",
       "      <td>Espresso</td>\n",
       "      <td>35</td>\n",
       "      <td>3.99</td>\n",
       "      <td>139.65</td>\n",
       "    </tr>\n",
       "  </tbody>\n",
       "</table>\n",
       "</div>"
      ],
      "text/plain": [
       "         Day Coffee Type  Units Sold  renamed_price  revenue\n",
       "0     Monday    Espresso          25           3.99    99.75\n",
       "1     Monday       Latte          15           5.99    89.85\n",
       "2    Tuesday    Espresso          30           3.99   119.70\n",
       "3    Tuesday       Latte          20           5.99   119.80\n",
       "4  Wednesday    Espresso          35           3.99   139.65"
      ]
     },
     "execution_count": 29,
     "metadata": {},
     "output_type": "execute_result"
    }
   ],
   "source": [
    "# rename new_price column to price. Remember to add inplace to update the original dataframe instead of returning a new one\n",
    "#  AVOID USING inplace as it will be decommissioned!!!! use object allocation instead\n",
    "coffee_sample.rename(columns={'new_price': 'renamed_price'}, inplace=True)\n",
    "coffee_sample.head()"
   ]
  },
  {
   "cell_type": "code",
   "execution_count": 30,
   "metadata": {
    "ExecuteTime": {
     "end_time": "2025-03-16T09:52:25.686486Z",
     "start_time": "2025-03-16T09:52:25.671487Z"
    },
    "colab": {
     "base_uri": "https://localhost:8080/",
     "height": 112
    },
    "executionInfo": {
     "elapsed": 55,
     "status": "ok",
     "timestamp": 1742117666949,
     "user": {
      "displayName": "Pacurar Sebastian",
      "userId": "15686393619609976384"
     },
     "user_tz": -120
    },
    "id": "LmPmmSZ4fCm2",
    "outputId": "78fb5f06-45e2-4c75-a680-8ad7be29dbf2"
   },
   "outputs": [
    {
     "data": {
      "text/html": [
       "<div>\n",
       "<style scoped>\n",
       "    .dataframe tbody tr th:only-of-type {\n",
       "        vertical-align: middle;\n",
       "    }\n",
       "\n",
       "    .dataframe tbody tr th {\n",
       "        vertical-align: top;\n",
       "    }\n",
       "\n",
       "    .dataframe thead th {\n",
       "        text-align: right;\n",
       "    }\n",
       "</style>\n",
       "<table border=\"1\" class=\"dataframe\">\n",
       "  <thead>\n",
       "    <tr style=\"text-align: right;\">\n",
       "      <th></th>\n",
       "      <th>athlete_id</th>\n",
       "      <th>name</th>\n",
       "      <th>born_date</th>\n",
       "      <th>born_city</th>\n",
       "      <th>born_region</th>\n",
       "      <th>born_country</th>\n",
       "      <th>NOC</th>\n",
       "      <th>height_cm</th>\n",
       "      <th>weight_kg</th>\n",
       "      <th>died_date</th>\n",
       "    </tr>\n",
       "  </thead>\n",
       "  <tbody>\n",
       "    <tr>\n",
       "      <th>0</th>\n",
       "      <td>1</td>\n",
       "      <td>Jean-François Blanchy</td>\n",
       "      <td>1886-12-12</td>\n",
       "      <td>Bordeaux</td>\n",
       "      <td>Gironde</td>\n",
       "      <td>FRA</td>\n",
       "      <td>France</td>\n",
       "      <td>NaN</td>\n",
       "      <td>NaN</td>\n",
       "      <td>1960-10-02</td>\n",
       "    </tr>\n",
       "    <tr>\n",
       "      <th>1</th>\n",
       "      <td>2</td>\n",
       "      <td>Arnaud Boetsch</td>\n",
       "      <td>1969-04-01</td>\n",
       "      <td>Meulan</td>\n",
       "      <td>Yvelines</td>\n",
       "      <td>FRA</td>\n",
       "      <td>France</td>\n",
       "      <td>183.0</td>\n",
       "      <td>76.0</td>\n",
       "      <td>NaN</td>\n",
       "    </tr>\n",
       "  </tbody>\n",
       "</table>\n",
       "</div>"
      ],
      "text/plain": [
       "   athlete_id                   name   born_date born_city born_region  \\\n",
       "0           1  Jean-François Blanchy  1886-12-12  Bordeaux     Gironde   \n",
       "1           2         Arnaud Boetsch  1969-04-01    Meulan    Yvelines   \n",
       "\n",
       "  born_country     NOC  height_cm  weight_kg   died_date  \n",
       "0          FRA  France        NaN        NaN  1960-10-02  \n",
       "1          FRA  France      183.0       76.0         NaN  "
      ]
     },
     "execution_count": 30,
     "metadata": {},
     "output_type": "execute_result"
    }
   ],
   "source": [
    "# make a copy of bios() to perform operations on it\n",
    "bios_new = bios.copy()\n",
    "bios_new.head(2)"
   ]
  },
  {
   "cell_type": "code",
   "execution_count": 31,
   "metadata": {
    "ExecuteTime": {
     "end_time": "2025-03-16T09:52:26.519829Z",
     "start_time": "2025-03-16T09:52:26.091300Z"
    },
    "colab": {
     "base_uri": "https://localhost:8080/",
     "height": 112
    },
    "executionInfo": {
     "elapsed": 2910,
     "status": "ok",
     "timestamp": 1742117669860,
     "user": {
      "displayName": "Pacurar Sebastian",
      "userId": "15686393619609976384"
     },
     "user_tz": -120
    },
    "id": "cLvUnwdVfTjO",
    "outputId": "7458f3a1-7d10-41d4-bdd6-964ee41892f0"
   },
   "outputs": [
    {
     "data": {
      "text/html": [
       "<div>\n",
       "<style scoped>\n",
       "    .dataframe tbody tr th:only-of-type {\n",
       "        vertical-align: middle;\n",
       "    }\n",
       "\n",
       "    .dataframe tbody tr th {\n",
       "        vertical-align: top;\n",
       "    }\n",
       "\n",
       "    .dataframe thead th {\n",
       "        text-align: right;\n",
       "    }\n",
       "</style>\n",
       "<table border=\"1\" class=\"dataframe\">\n",
       "  <thead>\n",
       "    <tr style=\"text-align: right;\">\n",
       "      <th></th>\n",
       "      <th>athlete_id</th>\n",
       "      <th>name</th>\n",
       "      <th>born_date</th>\n",
       "      <th>born_city</th>\n",
       "      <th>born_region</th>\n",
       "      <th>born_country</th>\n",
       "      <th>NOC</th>\n",
       "      <th>height_cm</th>\n",
       "      <th>weight_kg</th>\n",
       "      <th>died_date</th>\n",
       "      <th>first_name</th>\n",
       "      <th>last_name</th>\n",
       "    </tr>\n",
       "  </thead>\n",
       "  <tbody>\n",
       "    <tr>\n",
       "      <th>0</th>\n",
       "      <td>1</td>\n",
       "      <td>Jean-François Blanchy</td>\n",
       "      <td>1886-12-12</td>\n",
       "      <td>Bordeaux</td>\n",
       "      <td>Gironde</td>\n",
       "      <td>FRA</td>\n",
       "      <td>France</td>\n",
       "      <td>NaN</td>\n",
       "      <td>NaN</td>\n",
       "      <td>1960-10-02</td>\n",
       "      <td>Jean-François</td>\n",
       "      <td>Blanchy</td>\n",
       "    </tr>\n",
       "    <tr>\n",
       "      <th>1</th>\n",
       "      <td>2</td>\n",
       "      <td>Arnaud Boetsch</td>\n",
       "      <td>1969-04-01</td>\n",
       "      <td>Meulan</td>\n",
       "      <td>Yvelines</td>\n",
       "      <td>FRA</td>\n",
       "      <td>France</td>\n",
       "      <td>183.0</td>\n",
       "      <td>76.0</td>\n",
       "      <td>NaN</td>\n",
       "      <td>Arnaud</td>\n",
       "      <td>Boetsch</td>\n",
       "    </tr>\n",
       "  </tbody>\n",
       "</table>\n",
       "</div>"
      ],
      "text/plain": [
       "   athlete_id                   name   born_date born_city born_region  \\\n",
       "0           1  Jean-François Blanchy  1886-12-12  Bordeaux     Gironde   \n",
       "1           2         Arnaud Boetsch  1969-04-01    Meulan    Yvelines   \n",
       "\n",
       "  born_country     NOC  height_cm  weight_kg   died_date     first_name  \\\n",
       "0          FRA  France        NaN        NaN  1960-10-02  Jean-François   \n",
       "1          FRA  France      183.0       76.0         NaN         Arnaud   \n",
       "\n",
       "  last_name  \n",
       "0   Blanchy  \n",
       "1   Boetsch  "
      ]
     },
     "execution_count": 31,
     "metadata": {},
     "output_type": "execute_result"
    }
   ],
   "source": [
    "# add 2 new columns first_name and last_name, which are based on the name column split,\n",
    "#  where first element is first_name and second element is last_name\n",
    "bios_new['first_name'] = bios_new['name'].str.split(' ').str[0]\n",
    "bios_new['last_name'] = bios_new['name'].str.split(' ').str[1]\n",
    "bios_new.head(2)"
   ]
  },
  {
   "cell_type": "code",
   "execution_count": 32,
   "metadata": {
    "ExecuteTime": {
     "end_time": "2025-03-16T09:52:26.719118Z",
     "start_time": "2025-03-16T09:52:26.626594Z"
    },
    "colab": {
     "base_uri": "https://localhost:8080/"
    },
    "executionInfo": {
     "elapsed": 317,
     "status": "ok",
     "timestamp": 1742117670178,
     "user": {
      "displayName": "Pacurar Sebastian",
      "userId": "15686393619609976384"
     },
     "user_tz": -120
    },
    "id": "EJ62BflXfgeS",
    "outputId": "20029282-5dcf-489f-a8d7-3420eef075e2"
   },
   "outputs": [
    {
     "name": "stdout",
     "output_type": "stream",
     "text": [
      "<class 'pandas.core.frame.DataFrame'>\n",
      "RangeIndex: 145500 entries, 0 to 145499\n",
      "Data columns (total 12 columns):\n",
      " #   Column        Non-Null Count   Dtype  \n",
      "---  ------        --------------   -----  \n",
      " 0   athlete_id    145500 non-null  int64  \n",
      " 1   name          145500 non-null  object \n",
      " 2   born_date     143693 non-null  object \n",
      " 3   born_city     110908 non-null  object \n",
      " 4   born_region   110908 non-null  object \n",
      " 5   born_country  110908 non-null  object \n",
      " 6   NOC           145499 non-null  object \n",
      " 7   height_cm     106651 non-null  float64\n",
      " 8   weight_kg     102070 non-null  float64\n",
      " 9   died_date     33940 non-null   object \n",
      " 10  first_name    145500 non-null  object \n",
      " 11  last_name     145500 non-null  object \n",
      "dtypes: float64(2), int64(1), object(9)\n",
      "memory usage: 13.3+ MB\n"
     ]
    }
   ],
   "source": [
    "bios_new.info()  # check first_name and last_name created columns"
   ]
  },
  {
   "cell_type": "code",
   "execution_count": 33,
   "metadata": {
    "ExecuteTime": {
     "end_time": "2025-03-16T09:52:27.042318Z",
     "start_time": "2025-03-16T09:52:26.928909Z"
    },
    "colab": {
     "base_uri": "https://localhost:8080/"
    },
    "executionInfo": {
     "elapsed": 472,
     "status": "ok",
     "timestamp": 1742117670651,
     "user": {
      "displayName": "Pacurar Sebastian",
      "userId": "15686393619609976384"
     },
     "user_tz": -120
    },
    "id": "O-U2ACf-fmyq",
    "outputId": "07ccae31-0c6b-4955-c02e-72a282e5db00"
   },
   "outputs": [
    {
     "name": "stdout",
     "output_type": "stream",
     "text": [
      "<class 'pandas.core.frame.DataFrame'>\n",
      "RangeIndex: 145500 entries, 0 to 145499\n",
      "Data columns (total 13 columns):\n",
      " #   Column         Non-Null Count   Dtype         \n",
      "---  ------         --------------   -----         \n",
      " 0   athlete_id     145500 non-null  int64         \n",
      " 1   name           145500 non-null  object        \n",
      " 2   born_date      143693 non-null  object        \n",
      " 3   born_city      110908 non-null  object        \n",
      " 4   born_region    110908 non-null  object        \n",
      " 5   born_country   110908 non-null  object        \n",
      " 6   NOC            145499 non-null  object        \n",
      " 7   height_cm      106651 non-null  float64       \n",
      " 8   weight_kg      102070 non-null  float64       \n",
      " 9   died_date      33940 non-null   object        \n",
      " 10  first_name     145500 non-null  object        \n",
      " 11  last_name      145500 non-null  object        \n",
      " 12  born_datetime  143693 non-null  datetime64[ns]\n",
      "dtypes: datetime64[ns](1), float64(2), int64(1), object(9)\n",
      "memory usage: 14.4+ MB\n"
     ]
    }
   ],
   "source": [
    "# add a new column converted to datetime of pandas\n",
    "bios_new['born_datetime'] = pd.to_datetime(bios_new['born_date'], errors='coerce')\n",
    "bios_new.info()  # check born_datetime created column"
   ]
  },
  {
   "cell_type": "code",
   "execution_count": 34,
   "metadata": {
    "ExecuteTime": {
     "end_time": "2025-03-16T09:52:27.202716Z",
     "start_time": "2025-03-16T09:52:27.142816Z"
    },
    "colab": {
     "base_uri": "https://localhost:8080/"
    },
    "executionInfo": {
     "elapsed": 627,
     "status": "ok",
     "timestamp": 1742117671290,
     "user": {
      "displayName": "Pacurar Sebastian",
      "userId": "15686393619609976384"
     },
     "user_tz": -120
    },
    "id": "xs2oDTq5f-ot",
    "outputId": "4129cf9d-38e0-436d-d9c9-9eed86925e1e"
   },
   "outputs": [
    {
     "name": "stdout",
     "output_type": "stream",
     "text": [
      "<class 'pandas.core.frame.DataFrame'>\n",
      "RangeIndex: 145500 entries, 0 to 145499\n",
      "Data columns (total 14 columns):\n",
      " #   Column         Non-Null Count   Dtype         \n",
      "---  ------         --------------   -----         \n",
      " 0   athlete_id     145500 non-null  int64         \n",
      " 1   name           145500 non-null  object        \n",
      " 2   born_date      143693 non-null  object        \n",
      " 3   born_city      110908 non-null  object        \n",
      " 4   born_region    110908 non-null  object        \n",
      " 5   born_country   110908 non-null  object        \n",
      " 6   NOC            145499 non-null  object        \n",
      " 7   height_cm      106651 non-null  float64       \n",
      " 8   weight_kg      102070 non-null  float64       \n",
      " 9   died_date      33940 non-null   object        \n",
      " 10  first_name     145500 non-null  object        \n",
      " 11  last_name      145500 non-null  object        \n",
      " 12  born_datetime  143693 non-null  datetime64[ns]\n",
      " 13  born_year      143693 non-null  float64       \n",
      "dtypes: datetime64[ns](1), float64(3), int64(1), object(9)\n",
      "memory usage: 15.5+ MB\n"
     ]
    }
   ],
   "source": [
    "# since born_year is a dt (datetime) object, you can extract various info from it, like year\n",
    "bios_new['born_year'] = bios_new['born_datetime'].dt.year\n",
    "bios_new.info()  # check born_year created column"
   ]
  },
  {
   "cell_type": "code",
   "execution_count": 35,
   "metadata": {
    "ExecuteTime": {
     "end_time": "2025-03-16T09:52:27.302790Z",
     "start_time": "2025-03-16T09:52:27.289701Z"
    },
    "colab": {
     "base_uri": "https://localhost:8080/",
     "height": 206
    },
    "executionInfo": {
     "elapsed": 101,
     "status": "ok",
     "timestamp": 1742117671393,
     "user": {
      "displayName": "Pacurar Sebastian",
      "userId": "15686393619609976384"
     },
     "user_tz": -120
    },
    "id": "OAyn97wVgId8",
    "outputId": "0adeb294-17ad-4cf2-b071-d64fc59bffc6"
   },
   "outputs": [
    {
     "data": {
      "text/html": [
       "<div>\n",
       "<style scoped>\n",
       "    .dataframe tbody tr th:only-of-type {\n",
       "        vertical-align: middle;\n",
       "    }\n",
       "\n",
       "    .dataframe tbody tr th {\n",
       "        vertical-align: top;\n",
       "    }\n",
       "\n",
       "    .dataframe thead th {\n",
       "        text-align: right;\n",
       "    }\n",
       "</style>\n",
       "<table border=\"1\" class=\"dataframe\">\n",
       "  <thead>\n",
       "    <tr style=\"text-align: right;\">\n",
       "      <th></th>\n",
       "      <th>name</th>\n",
       "      <th>born_year</th>\n",
       "    </tr>\n",
       "  </thead>\n",
       "  <tbody>\n",
       "    <tr>\n",
       "      <th>0</th>\n",
       "      <td>Jean-François Blanchy</td>\n",
       "      <td>1886.0</td>\n",
       "    </tr>\n",
       "    <tr>\n",
       "      <th>1</th>\n",
       "      <td>Arnaud Boetsch</td>\n",
       "      <td>1969.0</td>\n",
       "    </tr>\n",
       "    <tr>\n",
       "      <th>2</th>\n",
       "      <td>Jean Borotra</td>\n",
       "      <td>1898.0</td>\n",
       "    </tr>\n",
       "    <tr>\n",
       "      <th>3</th>\n",
       "      <td>Jacques Brugnon</td>\n",
       "      <td>1895.0</td>\n",
       "    </tr>\n",
       "    <tr>\n",
       "      <th>4</th>\n",
       "      <td>Albert Canet</td>\n",
       "      <td>1878.0</td>\n",
       "    </tr>\n",
       "  </tbody>\n",
       "</table>\n",
       "</div>"
      ],
      "text/plain": [
       "                    name  born_year\n",
       "0  Jean-François Blanchy     1886.0\n",
       "1         Arnaud Boetsch     1969.0\n",
       "2           Jean Borotra     1898.0\n",
       "3        Jacques Brugnon     1895.0\n",
       "4           Albert Canet     1878.0"
      ]
     },
     "execution_count": 35,
     "metadata": {},
     "output_type": "execute_result"
    }
   ],
   "source": [
    "bios_new[['name', 'born_year']].head()  # retrieve the entries with name and born_year columns displayed only"
   ]
  },
  {
   "cell_type": "code",
   "execution_count": 36,
   "metadata": {
    "ExecuteTime": {
     "end_time": "2025-03-16T09:52:28.404715Z",
     "start_time": "2025-03-16T09:52:27.415321Z"
    },
    "colab": {
     "base_uri": "https://localhost:8080/",
     "height": 206
    },
    "executionInfo": {
     "elapsed": 1930,
     "status": "ok",
     "timestamp": 1742117673324,
     "user": {
      "displayName": "Pacurar Sebastian",
      "userId": "15686393619609976384"
     },
     "user_tz": -120
    },
    "id": "UIp3O88egPjT",
    "outputId": "9a9d8234-7bcc-44aa-a65f-895d070b840d"
   },
   "outputs": [
    {
     "data": {
      "text/html": [
       "<div>\n",
       "<style scoped>\n",
       "    .dataframe tbody tr th:only-of-type {\n",
       "        vertical-align: middle;\n",
       "    }\n",
       "\n",
       "    .dataframe tbody tr th {\n",
       "        vertical-align: top;\n",
       "    }\n",
       "\n",
       "    .dataframe thead th {\n",
       "        text-align: right;\n",
       "    }\n",
       "</style>\n",
       "<table border=\"1\" class=\"dataframe\">\n",
       "  <thead>\n",
       "    <tr style=\"text-align: right;\">\n",
       "      <th></th>\n",
       "      <th>athlete_id</th>\n",
       "      <th>name</th>\n",
       "      <th>born_date</th>\n",
       "      <th>born_city</th>\n",
       "      <th>born_region</th>\n",
       "      <th>born_country</th>\n",
       "      <th>NOC</th>\n",
       "      <th>height_cm</th>\n",
       "      <th>weight_kg</th>\n",
       "      <th>died_date</th>\n",
       "      <th>Category</th>\n",
       "    </tr>\n",
       "  </thead>\n",
       "  <tbody>\n",
       "    <tr>\n",
       "      <th>0</th>\n",
       "      <td>1</td>\n",
       "      <td>Jean-François Blanchy</td>\n",
       "      <td>1886-12-12</td>\n",
       "      <td>Bordeaux</td>\n",
       "      <td>Gironde</td>\n",
       "      <td>FRA</td>\n",
       "      <td>France</td>\n",
       "      <td>NaN</td>\n",
       "      <td>NaN</td>\n",
       "      <td>1960-10-02</td>\n",
       "      <td>Heavyweight</td>\n",
       "    </tr>\n",
       "    <tr>\n",
       "      <th>1</th>\n",
       "      <td>2</td>\n",
       "      <td>Arnaud Boetsch</td>\n",
       "      <td>1969-04-01</td>\n",
       "      <td>Meulan</td>\n",
       "      <td>Yvelines</td>\n",
       "      <td>FRA</td>\n",
       "      <td>France</td>\n",
       "      <td>183.0</td>\n",
       "      <td>76.0</td>\n",
       "      <td>NaN</td>\n",
       "      <td>Middleweight</td>\n",
       "    </tr>\n",
       "    <tr>\n",
       "      <th>2</th>\n",
       "      <td>3</td>\n",
       "      <td>Jean Borotra</td>\n",
       "      <td>1898-08-13</td>\n",
       "      <td>Biarritz</td>\n",
       "      <td>Pyrénées-Atlantiques</td>\n",
       "      <td>FRA</td>\n",
       "      <td>France</td>\n",
       "      <td>183.0</td>\n",
       "      <td>76.0</td>\n",
       "      <td>1994-07-17</td>\n",
       "      <td>Middleweight</td>\n",
       "    </tr>\n",
       "    <tr>\n",
       "      <th>3</th>\n",
       "      <td>4</td>\n",
       "      <td>Jacques Brugnon</td>\n",
       "      <td>1895-05-11</td>\n",
       "      <td>Paris VIIIe</td>\n",
       "      <td>Paris</td>\n",
       "      <td>FRA</td>\n",
       "      <td>France</td>\n",
       "      <td>168.0</td>\n",
       "      <td>64.0</td>\n",
       "      <td>1978-03-20</td>\n",
       "      <td>Lightweight</td>\n",
       "    </tr>\n",
       "    <tr>\n",
       "      <th>4</th>\n",
       "      <td>5</td>\n",
       "      <td>Albert Canet</td>\n",
       "      <td>1878-04-17</td>\n",
       "      <td>Wandsworth</td>\n",
       "      <td>England</td>\n",
       "      <td>GBR</td>\n",
       "      <td>France</td>\n",
       "      <td>NaN</td>\n",
       "      <td>NaN</td>\n",
       "      <td>1930-07-25</td>\n",
       "      <td>Heavyweight</td>\n",
       "    </tr>\n",
       "  </tbody>\n",
       "</table>\n",
       "</div>"
      ],
      "text/plain": [
       "   athlete_id                   name   born_date    born_city  \\\n",
       "0           1  Jean-François Blanchy  1886-12-12     Bordeaux   \n",
       "1           2         Arnaud Boetsch  1969-04-01       Meulan   \n",
       "2           3           Jean Borotra  1898-08-13     Biarritz   \n",
       "3           4        Jacques Brugnon  1895-05-11  Paris VIIIe   \n",
       "4           5           Albert Canet  1878-04-17   Wandsworth   \n",
       "\n",
       "            born_region born_country     NOC  height_cm  weight_kg  \\\n",
       "0               Gironde          FRA  France        NaN        NaN   \n",
       "1              Yvelines          FRA  France      183.0       76.0   \n",
       "2  Pyrénées-Atlantiques          FRA  France      183.0       76.0   \n",
       "3                 Paris          FRA  France      168.0       64.0   \n",
       "4               England          GBR  France        NaN        NaN   \n",
       "\n",
       "    died_date      Category  \n",
       "0  1960-10-02   Heavyweight  \n",
       "1         NaN  Middleweight  \n",
       "2  1994-07-17  Middleweight  \n",
       "3  1978-03-20   Lightweight  \n",
       "4  1930-07-25   Heavyweight  "
      ]
     },
     "execution_count": 36,
     "metadata": {},
     "output_type": "execute_result"
    }
   ],
   "source": [
    "def categorize_athlete(row):\n",
    "    if row['height_cm'] < 175 and row['weight_kg'] < 70:\n",
    "        return 'Lightweight'\n",
    "    elif row['height_cm'] < 185 and row['weight_kg'] <= 80:\n",
    "        return 'Middleweight'\n",
    "    else:\n",
    "        return 'Heavyweight'\n",
    "\n",
    "\n",
    "# using a custom function without lambda, on the row axis\n",
    "bios['Category'] = bios.apply(categorize_athlete, axis=1)\n",
    "bios.head()"
   ]
  },
  {
   "cell_type": "markdown",
   "metadata": {
    "id": "TSB2YVcBFzt4"
   },
   "source": [
    "<br><hr><br>"
   ]
  },
  {
   "cell_type": "markdown",
   "metadata": {
    "id": "a7O2svpyo7UZ"
   },
   "source": [
    "## 1.4 - Merging and Concatenating"
   ]
  },
  {
   "cell_type": "code",
   "execution_count": 39,
   "metadata": {
    "ExecuteTime": {
     "end_time": "2025-03-16T09:52:28.487416Z",
     "start_time": "2025-03-16T09:52:28.442655Z"
    },
    "colab": {
     "base_uri": "https://localhost:8080/",
     "height": 206
    },
    "executionInfo": {
     "elapsed": 72,
     "status": "ok",
     "timestamp": 1742117673398,
     "user": {
      "displayName": "Pacurar Sebastian",
      "userId": "15686393619609976384"
     },
     "user_tz": -120
    },
    "id": "jhaLDpsGo_li",
    "outputId": "170f0656-f5e6-4e23-94b7-492cc13642df"
   },
   "outputs": [
    {
     "data": {
      "text/html": [
       "<div>\n",
       "<style scoped>\n",
       "    .dataframe tbody tr th:only-of-type {\n",
       "        vertical-align: middle;\n",
       "    }\n",
       "\n",
       "    .dataframe tbody tr th {\n",
       "        vertical-align: top;\n",
       "    }\n",
       "\n",
       "    .dataframe thead th {\n",
       "        text-align: right;\n",
       "    }\n",
       "</style>\n",
       "<table border=\"1\" class=\"dataframe\">\n",
       "  <thead>\n",
       "    <tr style=\"text-align: right;\">\n",
       "      <th></th>\n",
       "      <th>NOC</th>\n",
       "      <th>region</th>\n",
       "      <th>notes</th>\n",
       "    </tr>\n",
       "  </thead>\n",
       "  <tbody>\n",
       "    <tr>\n",
       "      <th>0</th>\n",
       "      <td>AFG</td>\n",
       "      <td>Afghanistan</td>\n",
       "      <td>NaN</td>\n",
       "    </tr>\n",
       "    <tr>\n",
       "      <th>1</th>\n",
       "      <td>AHO</td>\n",
       "      <td>Curacao</td>\n",
       "      <td>Netherlands Antilles</td>\n",
       "    </tr>\n",
       "    <tr>\n",
       "      <th>2</th>\n",
       "      <td>ALB</td>\n",
       "      <td>Albania</td>\n",
       "      <td>NaN</td>\n",
       "    </tr>\n",
       "    <tr>\n",
       "      <th>3</th>\n",
       "      <td>ALG</td>\n",
       "      <td>Algeria</td>\n",
       "      <td>NaN</td>\n",
       "    </tr>\n",
       "    <tr>\n",
       "      <th>4</th>\n",
       "      <td>AND</td>\n",
       "      <td>Andorra</td>\n",
       "      <td>NaN</td>\n",
       "    </tr>\n",
       "  </tbody>\n",
       "</table>\n",
       "</div>"
      ],
      "text/plain": [
       "   NOC       region                 notes\n",
       "0  AFG  Afghanistan                   NaN\n",
       "1  AHO      Curacao  Netherlands Antilles\n",
       "2  ALB      Albania                   NaN\n",
       "3  ALG      Algeria                   NaN\n",
       "4  AND      Andorra                   NaN"
      ]
     },
     "execution_count": 39,
     "metadata": {},
     "output_type": "execute_result"
    }
   ],
   "source": [
    "nocs_sample = nocs.copy()\n",
    "bios_sample = bios.copy()\n",
    "nocs_sample.head()"
   ]
  },
  {
   "cell_type": "code",
   "execution_count": 40,
   "metadata": {
    "ExecuteTime": {
     "end_time": "2025-03-16T09:52:28.910385Z",
     "start_time": "2025-03-16T09:52:28.845671Z"
    },
    "colab": {
     "base_uri": "https://localhost:8080/",
     "height": 293
    },
    "executionInfo": {
     "elapsed": 87,
     "status": "ok",
     "timestamp": 1742117673486,
     "user": {
      "displayName": "Pacurar Sebastian",
      "userId": "15686393619609976384"
     },
     "user_tz": -120
    },
    "id": "vuoBqAmApDGZ",
    "outputId": "02a60612-b0bf-429e-d531-f7d34103f9e8"
   },
   "outputs": [
    {
     "data": {
      "text/html": [
       "<div>\n",
       "<style scoped>\n",
       "    .dataframe tbody tr th:only-of-type {\n",
       "        vertical-align: middle;\n",
       "    }\n",
       "\n",
       "    .dataframe tbody tr th {\n",
       "        vertical-align: top;\n",
       "    }\n",
       "\n",
       "    .dataframe thead th {\n",
       "        text-align: right;\n",
       "    }\n",
       "</style>\n",
       "<table border=\"1\" class=\"dataframe\">\n",
       "  <thead>\n",
       "    <tr style=\"text-align: right;\">\n",
       "      <th></th>\n",
       "      <th>athlete_id</th>\n",
       "      <th>name</th>\n",
       "      <th>born_date</th>\n",
       "      <th>born_city</th>\n",
       "      <th>born_region</th>\n",
       "      <th>born_country</th>\n",
       "      <th>NOC_x</th>\n",
       "      <th>height_cm</th>\n",
       "      <th>weight_kg</th>\n",
       "      <th>died_date</th>\n",
       "      <th>Category</th>\n",
       "      <th>NOC_y</th>\n",
       "      <th>region</th>\n",
       "      <th>notes</th>\n",
       "    </tr>\n",
       "  </thead>\n",
       "  <tbody>\n",
       "    <tr>\n",
       "      <th>0</th>\n",
       "      <td>1</td>\n",
       "      <td>Jean-François Blanchy</td>\n",
       "      <td>1886-12-12</td>\n",
       "      <td>Bordeaux</td>\n",
       "      <td>Gironde</td>\n",
       "      <td>FRA</td>\n",
       "      <td>France</td>\n",
       "      <td>NaN</td>\n",
       "      <td>NaN</td>\n",
       "      <td>1960-10-02</td>\n",
       "      <td>Heavyweight</td>\n",
       "      <td>FRA</td>\n",
       "      <td>France</td>\n",
       "      <td>NaN</td>\n",
       "    </tr>\n",
       "    <tr>\n",
       "      <th>1</th>\n",
       "      <td>2</td>\n",
       "      <td>Arnaud Boetsch</td>\n",
       "      <td>1969-04-01</td>\n",
       "      <td>Meulan</td>\n",
       "      <td>Yvelines</td>\n",
       "      <td>FRA</td>\n",
       "      <td>France</td>\n",
       "      <td>183.0</td>\n",
       "      <td>76.0</td>\n",
       "      <td>NaN</td>\n",
       "      <td>Middleweight</td>\n",
       "      <td>FRA</td>\n",
       "      <td>France</td>\n",
       "      <td>NaN</td>\n",
       "    </tr>\n",
       "    <tr>\n",
       "      <th>2</th>\n",
       "      <td>3</td>\n",
       "      <td>Jean Borotra</td>\n",
       "      <td>1898-08-13</td>\n",
       "      <td>Biarritz</td>\n",
       "      <td>Pyrénées-Atlantiques</td>\n",
       "      <td>FRA</td>\n",
       "      <td>France</td>\n",
       "      <td>183.0</td>\n",
       "      <td>76.0</td>\n",
       "      <td>1994-07-17</td>\n",
       "      <td>Middleweight</td>\n",
       "      <td>FRA</td>\n",
       "      <td>France</td>\n",
       "      <td>NaN</td>\n",
       "    </tr>\n",
       "    <tr>\n",
       "      <th>3</th>\n",
       "      <td>4</td>\n",
       "      <td>Jacques Brugnon</td>\n",
       "      <td>1895-05-11</td>\n",
       "      <td>Paris VIIIe</td>\n",
       "      <td>Paris</td>\n",
       "      <td>FRA</td>\n",
       "      <td>France</td>\n",
       "      <td>168.0</td>\n",
       "      <td>64.0</td>\n",
       "      <td>1978-03-20</td>\n",
       "      <td>Lightweight</td>\n",
       "      <td>FRA</td>\n",
       "      <td>France</td>\n",
       "      <td>NaN</td>\n",
       "    </tr>\n",
       "    <tr>\n",
       "      <th>4</th>\n",
       "      <td>5</td>\n",
       "      <td>Albert Canet</td>\n",
       "      <td>1878-04-17</td>\n",
       "      <td>Wandsworth</td>\n",
       "      <td>England</td>\n",
       "      <td>GBR</td>\n",
       "      <td>France</td>\n",
       "      <td>NaN</td>\n",
       "      <td>NaN</td>\n",
       "      <td>1930-07-25</td>\n",
       "      <td>Heavyweight</td>\n",
       "      <td>GBR</td>\n",
       "      <td>UK</td>\n",
       "      <td>NaN</td>\n",
       "    </tr>\n",
       "  </tbody>\n",
       "</table>\n",
       "</div>"
      ],
      "text/plain": [
       "   athlete_id                   name   born_date    born_city  \\\n",
       "0           1  Jean-François Blanchy  1886-12-12     Bordeaux   \n",
       "1           2         Arnaud Boetsch  1969-04-01       Meulan   \n",
       "2           3           Jean Borotra  1898-08-13     Biarritz   \n",
       "3           4        Jacques Brugnon  1895-05-11  Paris VIIIe   \n",
       "4           5           Albert Canet  1878-04-17   Wandsworth   \n",
       "\n",
       "            born_region born_country   NOC_x  height_cm  weight_kg  \\\n",
       "0               Gironde          FRA  France        NaN        NaN   \n",
       "1              Yvelines          FRA  France      183.0       76.0   \n",
       "2  Pyrénées-Atlantiques          FRA  France      183.0       76.0   \n",
       "3                 Paris          FRA  France      168.0       64.0   \n",
       "4               England          GBR  France        NaN        NaN   \n",
       "\n",
       "    died_date      Category NOC_y  region notes  \n",
       "0  1960-10-02   Heavyweight   FRA  France   NaN  \n",
       "1         NaN  Middleweight   FRA  France   NaN  \n",
       "2  1994-07-17  Middleweight   FRA  France   NaN  \n",
       "3  1978-03-20   Lightweight   FRA  France   NaN  \n",
       "4  1930-07-25   Heavyweight   GBR      UK   NaN  "
      ]
     },
     "execution_count": 40,
     "metadata": {},
     "output_type": "execute_result"
    }
   ],
   "source": [
    "# inner join between bios and nocs, ON born_country column for bios and NOC column for nocs\n",
    "bios_new = pd.merge(bios_sample, nocs_sample, left_on='born_country', right_on='NOC', how='left')\n",
    "bios_new.head()"
   ]
  },
  {
   "cell_type": "code",
   "execution_count": 41,
   "metadata": {
    "ExecuteTime": {
     "end_time": "2025-03-16T09:52:29.228105Z",
     "start_time": "2025-03-16T09:52:29.195573Z"
    },
    "colab": {
     "base_uri": "https://localhost:8080/",
     "height": 206
    },
    "executionInfo": {
     "elapsed": 119,
     "status": "ok",
     "timestamp": 1742117673606,
     "user": {
      "displayName": "Pacurar Sebastian",
      "userId": "15686393619609976384"
     },
     "user_tz": -120
    },
    "id": "XKN5OgIkpGuH",
    "outputId": "1a749d4e-ae1a-4349-eb5c-3c123c3b5e94"
   },
   "outputs": [
    {
     "data": {
      "text/html": [
       "<div>\n",
       "<style scoped>\n",
       "    .dataframe tbody tr th:only-of-type {\n",
       "        vertical-align: middle;\n",
       "    }\n",
       "\n",
       "    .dataframe tbody tr th {\n",
       "        vertical-align: top;\n",
       "    }\n",
       "\n",
       "    .dataframe thead th {\n",
       "        text-align: right;\n",
       "    }\n",
       "</style>\n",
       "<table border=\"1\" class=\"dataframe\">\n",
       "  <thead>\n",
       "    <tr style=\"text-align: right;\">\n",
       "      <th></th>\n",
       "      <th>athlete_id</th>\n",
       "      <th>name</th>\n",
       "      <th>born_date</th>\n",
       "      <th>born_city</th>\n",
       "      <th>born_region</th>\n",
       "      <th>born_country</th>\n",
       "      <th>NOC</th>\n",
       "      <th>height_cm</th>\n",
       "      <th>weight_kg</th>\n",
       "      <th>died_date</th>\n",
       "      <th>Category</th>\n",
       "    </tr>\n",
       "  </thead>\n",
       "  <tbody>\n",
       "    <tr>\n",
       "      <th>54</th>\n",
       "      <td>55</td>\n",
       "      <td>Monique Javer</td>\n",
       "      <td>1967-07-22</td>\n",
       "      <td>Burlingame</td>\n",
       "      <td>California</td>\n",
       "      <td>USA</td>\n",
       "      <td>Great Britain</td>\n",
       "      <td>177.0</td>\n",
       "      <td>64.0</td>\n",
       "      <td>NaN</td>\n",
       "      <td>Middleweight</td>\n",
       "    </tr>\n",
       "    <tr>\n",
       "      <th>960</th>\n",
       "      <td>964</td>\n",
       "      <td>Xóchitl Escobedo</td>\n",
       "      <td>1968-09-17</td>\n",
       "      <td>West Covina</td>\n",
       "      <td>California</td>\n",
       "      <td>USA</td>\n",
       "      <td>Mexico</td>\n",
       "      <td>170.0</td>\n",
       "      <td>60.0</td>\n",
       "      <td>NaN</td>\n",
       "      <td>Lightweight</td>\n",
       "    </tr>\n",
       "    <tr>\n",
       "      <th>961</th>\n",
       "      <td>965</td>\n",
       "      <td>Angélica Gavaldón</td>\n",
       "      <td>1973-10-03</td>\n",
       "      <td>El Centro</td>\n",
       "      <td>California</td>\n",
       "      <td>USA</td>\n",
       "      <td>Mexico</td>\n",
       "      <td>160.0</td>\n",
       "      <td>54.0</td>\n",
       "      <td>NaN</td>\n",
       "      <td>Lightweight</td>\n",
       "    </tr>\n",
       "    <tr>\n",
       "      <th>1231</th>\n",
       "      <td>1238</td>\n",
       "      <td>Bert Schneider</td>\n",
       "      <td>1897-07-01</td>\n",
       "      <td>Cleveland</td>\n",
       "      <td>Ohio</td>\n",
       "      <td>USA</td>\n",
       "      <td>Canada</td>\n",
       "      <td>NaN</td>\n",
       "      <td>NaN</td>\n",
       "      <td>1986-02-20</td>\n",
       "      <td>Heavyweight</td>\n",
       "    </tr>\n",
       "    <tr>\n",
       "      <th>1345</th>\n",
       "      <td>1352</td>\n",
       "      <td>Laura Berg</td>\n",
       "      <td>1975-01-06</td>\n",
       "      <td>Santa Fe Springs</td>\n",
       "      <td>California</td>\n",
       "      <td>USA</td>\n",
       "      <td>United States</td>\n",
       "      <td>168.0</td>\n",
       "      <td>61.0</td>\n",
       "      <td>NaN</td>\n",
       "      <td>Lightweight</td>\n",
       "    </tr>\n",
       "  </tbody>\n",
       "</table>\n",
       "</div>"
      ],
      "text/plain": [
       "      athlete_id               name   born_date         born_city born_region  \\\n",
       "54            55      Monique Javer  1967-07-22        Burlingame  California   \n",
       "960          964   Xóchitl Escobedo  1968-09-17       West Covina  California   \n",
       "961          965  Angélica Gavaldón  1973-10-03         El Centro  California   \n",
       "1231        1238     Bert Schneider  1897-07-01         Cleveland        Ohio   \n",
       "1345        1352         Laura Berg  1975-01-06  Santa Fe Springs  California   \n",
       "\n",
       "     born_country            NOC  height_cm  weight_kg   died_date  \\\n",
       "54            USA  Great Britain      177.0       64.0         NaN   \n",
       "960           USA         Mexico      170.0       60.0         NaN   \n",
       "961           USA         Mexico      160.0       54.0         NaN   \n",
       "1231          USA         Canada        NaN        NaN  1986-02-20   \n",
       "1345          USA  United States      168.0       61.0         NaN   \n",
       "\n",
       "          Category  \n",
       "54    Middleweight  \n",
       "960    Lightweight  \n",
       "961    Lightweight  \n",
       "1231   Heavyweight  \n",
       "1345   Lightweight  "
      ]
     },
     "execution_count": 41,
     "metadata": {},
     "output_type": "execute_result"
    }
   ],
   "source": [
    "# concat 2 data frames\n",
    "usa = bios_sample[bios_sample['born_country'] == 'USA'].copy()  # only born in USA data frame\n",
    "gb = bios_sample[bios_sample['born_country'] == 'GBR'].copy()  # only born in UK data frame\n",
    "\n",
    "new_df = pd.concat([usa, gb])\n",
    "new_df.head()"
   ]
  },
  {
   "cell_type": "code",
   "execution_count": 42,
   "metadata": {
    "ExecuteTime": {
     "end_time": "2025-03-16T09:52:29.597596Z",
     "start_time": "2025-03-16T09:52:29.486731Z"
    },
    "colab": {
     "base_uri": "https://localhost:8080/",
     "height": 359
    },
    "executionInfo": {
     "elapsed": 219,
     "status": "ok",
     "timestamp": 1742117673811,
     "user": {
      "displayName": "Pacurar Sebastian",
      "userId": "15686393619609976384"
     },
     "user_tz": -120
    },
    "id": "oSsXzTvKpR2r",
    "outputId": "9672453f-af81-46fa-db82-20f2ce236587"
   },
   "outputs": [
    {
     "data": {
      "text/html": [
       "<div>\n",
       "<style scoped>\n",
       "    .dataframe tbody tr th:only-of-type {\n",
       "        vertical-align: middle;\n",
       "    }\n",
       "\n",
       "    .dataframe tbody tr th {\n",
       "        vertical-align: top;\n",
       "    }\n",
       "\n",
       "    .dataframe thead th {\n",
       "        text-align: right;\n",
       "    }\n",
       "</style>\n",
       "<table border=\"1\" class=\"dataframe\">\n",
       "  <thead>\n",
       "    <tr style=\"text-align: right;\">\n",
       "      <th></th>\n",
       "      <th>athlete_id</th>\n",
       "      <th>name_x</th>\n",
       "      <th>born_date_x</th>\n",
       "      <th>born_city_x</th>\n",
       "      <th>born_region_x</th>\n",
       "      <th>born_country_x</th>\n",
       "      <th>NOC_x</th>\n",
       "      <th>height_cm_x</th>\n",
       "      <th>weight_kg_x</th>\n",
       "      <th>died_date_x</th>\n",
       "      <th>...</th>\n",
       "      <th>name_y</th>\n",
       "      <th>born_date_y</th>\n",
       "      <th>born_city_y</th>\n",
       "      <th>born_region_y</th>\n",
       "      <th>born_country_y</th>\n",
       "      <th>NOC_y</th>\n",
       "      <th>height_cm_y</th>\n",
       "      <th>weight_kg_y</th>\n",
       "      <th>died_date_y</th>\n",
       "      <th>Category_y</th>\n",
       "    </tr>\n",
       "  </thead>\n",
       "  <tbody>\n",
       "    <tr>\n",
       "      <th>0</th>\n",
       "      <td>1</td>\n",
       "      <td>Jean-François Blanchy</td>\n",
       "      <td>1886-12-12</td>\n",
       "      <td>Bordeaux</td>\n",
       "      <td>Gironde</td>\n",
       "      <td>FRA</td>\n",
       "      <td>France</td>\n",
       "      <td>NaN</td>\n",
       "      <td>NaN</td>\n",
       "      <td>1960-10-02</td>\n",
       "      <td>...</td>\n",
       "      <td>Jean-François Blanchy</td>\n",
       "      <td>1886-12-12</td>\n",
       "      <td>Bordeaux</td>\n",
       "      <td>Gironde</td>\n",
       "      <td>FRA</td>\n",
       "      <td>France</td>\n",
       "      <td>NaN</td>\n",
       "      <td>NaN</td>\n",
       "      <td>1960-10-02</td>\n",
       "      <td>Heavyweight</td>\n",
       "    </tr>\n",
       "    <tr>\n",
       "      <th>1</th>\n",
       "      <td>2</td>\n",
       "      <td>Arnaud Boetsch</td>\n",
       "      <td>1969-04-01</td>\n",
       "      <td>Meulan</td>\n",
       "      <td>Yvelines</td>\n",
       "      <td>FRA</td>\n",
       "      <td>France</td>\n",
       "      <td>183.0</td>\n",
       "      <td>76.0</td>\n",
       "      <td>NaN</td>\n",
       "      <td>...</td>\n",
       "      <td>Arnaud Boetsch</td>\n",
       "      <td>1969-04-01</td>\n",
       "      <td>Meulan</td>\n",
       "      <td>Yvelines</td>\n",
       "      <td>FRA</td>\n",
       "      <td>France</td>\n",
       "      <td>183.0</td>\n",
       "      <td>76.0</td>\n",
       "      <td>NaN</td>\n",
       "      <td>Middleweight</td>\n",
       "    </tr>\n",
       "    <tr>\n",
       "      <th>2</th>\n",
       "      <td>3</td>\n",
       "      <td>Jean Borotra</td>\n",
       "      <td>1898-08-13</td>\n",
       "      <td>Biarritz</td>\n",
       "      <td>Pyrénées-Atlantiques</td>\n",
       "      <td>FRA</td>\n",
       "      <td>France</td>\n",
       "      <td>183.0</td>\n",
       "      <td>76.0</td>\n",
       "      <td>1994-07-17</td>\n",
       "      <td>...</td>\n",
       "      <td>Jean Borotra</td>\n",
       "      <td>1898-08-13</td>\n",
       "      <td>Biarritz</td>\n",
       "      <td>Pyrénées-Atlantiques</td>\n",
       "      <td>FRA</td>\n",
       "      <td>France</td>\n",
       "      <td>183.0</td>\n",
       "      <td>76.0</td>\n",
       "      <td>1994-07-17</td>\n",
       "      <td>Middleweight</td>\n",
       "    </tr>\n",
       "    <tr>\n",
       "      <th>3</th>\n",
       "      <td>4</td>\n",
       "      <td>Jacques Brugnon</td>\n",
       "      <td>1895-05-11</td>\n",
       "      <td>Paris VIIIe</td>\n",
       "      <td>Paris</td>\n",
       "      <td>FRA</td>\n",
       "      <td>France</td>\n",
       "      <td>168.0</td>\n",
       "      <td>64.0</td>\n",
       "      <td>1978-03-20</td>\n",
       "      <td>...</td>\n",
       "      <td>Jacques Brugnon</td>\n",
       "      <td>1895-05-11</td>\n",
       "      <td>Paris VIIIe</td>\n",
       "      <td>Paris</td>\n",
       "      <td>FRA</td>\n",
       "      <td>France</td>\n",
       "      <td>168.0</td>\n",
       "      <td>64.0</td>\n",
       "      <td>1978-03-20</td>\n",
       "      <td>Lightweight</td>\n",
       "    </tr>\n",
       "    <tr>\n",
       "      <th>4</th>\n",
       "      <td>5</td>\n",
       "      <td>Albert Canet</td>\n",
       "      <td>1878-04-17</td>\n",
       "      <td>Wandsworth</td>\n",
       "      <td>England</td>\n",
       "      <td>GBR</td>\n",
       "      <td>France</td>\n",
       "      <td>NaN</td>\n",
       "      <td>NaN</td>\n",
       "      <td>1930-07-25</td>\n",
       "      <td>...</td>\n",
       "      <td>Albert Canet</td>\n",
       "      <td>1878-04-17</td>\n",
       "      <td>Wandsworth</td>\n",
       "      <td>England</td>\n",
       "      <td>GBR</td>\n",
       "      <td>France</td>\n",
       "      <td>NaN</td>\n",
       "      <td>NaN</td>\n",
       "      <td>1930-07-25</td>\n",
       "      <td>Heavyweight</td>\n",
       "    </tr>\n",
       "  </tbody>\n",
       "</table>\n",
       "<p>5 rows × 21 columns</p>\n",
       "</div>"
      ],
      "text/plain": [
       "   athlete_id                 name_x born_date_x  born_city_x  \\\n",
       "0           1  Jean-François Blanchy  1886-12-12     Bordeaux   \n",
       "1           2         Arnaud Boetsch  1969-04-01       Meulan   \n",
       "2           3           Jean Borotra  1898-08-13     Biarritz   \n",
       "3           4        Jacques Brugnon  1895-05-11  Paris VIIIe   \n",
       "4           5           Albert Canet  1878-04-17   Wandsworth   \n",
       "\n",
       "          born_region_x born_country_x   NOC_x  height_cm_x  weight_kg_x  \\\n",
       "0               Gironde            FRA  France          NaN          NaN   \n",
       "1              Yvelines            FRA  France        183.0         76.0   \n",
       "2  Pyrénées-Atlantiques            FRA  France        183.0         76.0   \n",
       "3                 Paris            FRA  France        168.0         64.0   \n",
       "4               England            GBR  France          NaN          NaN   \n",
       "\n",
       "  died_date_x  ...                 name_y born_date_y  born_city_y  \\\n",
       "0  1960-10-02  ...  Jean-François Blanchy  1886-12-12     Bordeaux   \n",
       "1         NaN  ...         Arnaud Boetsch  1969-04-01       Meulan   \n",
       "2  1994-07-17  ...           Jean Borotra  1898-08-13     Biarritz   \n",
       "3  1978-03-20  ...        Jacques Brugnon  1895-05-11  Paris VIIIe   \n",
       "4  1930-07-25  ...           Albert Canet  1878-04-17   Wandsworth   \n",
       "\n",
       "          born_region_y born_country_y   NOC_y height_cm_y  weight_kg_y  \\\n",
       "0               Gironde            FRA  France         NaN          NaN   \n",
       "1              Yvelines            FRA  France       183.0         76.0   \n",
       "2  Pyrénées-Atlantiques            FRA  France       183.0         76.0   \n",
       "3                 Paris            FRA  France       168.0         64.0   \n",
       "4               England            GBR  France         NaN          NaN   \n",
       "\n",
       "   died_date_y    Category_y  \n",
       "0   1960-10-02   Heavyweight  \n",
       "1          NaN  Middleweight  \n",
       "2   1994-07-17  Middleweight  \n",
       "3   1978-03-20   Lightweight  \n",
       "4   1930-07-25   Heavyweight  \n",
       "\n",
       "[5 rows x 21 columns]"
      ]
     },
     "execution_count": 42,
     "metadata": {},
     "output_type": "execute_result"
    }
   ],
   "source": [
    "results = bios.copy()\n",
    "\n",
    "# merge to dataframes together under a shared column\n",
    "combined_df = pd.merge(results, bios, on='athlete_id', how='left')\n",
    "\n",
    "combined_df.head()"
   ]
  },
  {
   "cell_type": "markdown",
   "metadata": {
    "id": "uGrVyV0iG0tU"
   },
   "source": [
    "<br><hr><br>"
   ]
  },
  {
   "cell_type": "markdown",
   "metadata": {
    "id": "6stCQV41qFY2"
   },
   "source": [
    "## 1.5 - Handle Null values (TODO)"
   ]
  },
  {
   "cell_type": "code",
   "execution_count": 45,
   "metadata": {
    "ExecuteTime": {
     "end_time": "2025-03-16T09:52:29.790005Z",
     "start_time": "2025-03-16T09:52:29.784718Z"
    },
    "executionInfo": {
     "elapsed": 2,
     "status": "ok",
     "timestamp": 1742117673814,
     "user": {
      "displayName": "Pacurar Sebastian",
      "userId": "15686393619609976384"
     },
     "user_tz": -120
    },
    "id": "nint1Nj0TJfS"
   },
   "outputs": [],
   "source": [
    "# TODO"
   ]
  },
  {
   "cell_type": "markdown",
   "metadata": {
    "id": "8p2Y3Oc7G4hL"
   },
   "source": [
    "<br><hr><br>"
   ]
  },
  {
   "cell_type": "markdown",
   "metadata": {
    "id": "0W3m_F4zRA_8"
   },
   "source": [
    "## 1.6 - apply()"
   ]
  },
  {
   "cell_type": "code",
   "execution_count": 48,
   "metadata": {
    "ExecuteTime": {
     "end_time": "2025-03-16T09:52:30.192294Z",
     "start_time": "2025-03-16T09:52:30.169611Z"
    },
    "colab": {
     "base_uri": "https://localhost:8080/",
     "height": 848
    },
    "executionInfo": {
     "elapsed": 46,
     "status": "ok",
     "timestamp": 1742117673861,
     "user": {
      "displayName": "Pacurar Sebastian",
      "userId": "15686393619609976384"
     },
     "user_tz": -120
    },
    "id": "lzEoQrYfS1MF",
    "outputId": "499ec22c-e797-484e-c507-851ae38dd694"
   },
   "outputs": [
    {
     "data": {
      "text/html": [
       "<div>\n",
       "<style scoped>\n",
       "    .dataframe tbody tr th:only-of-type {\n",
       "        vertical-align: middle;\n",
       "    }\n",
       "\n",
       "    .dataframe tbody tr th {\n",
       "        vertical-align: top;\n",
       "    }\n",
       "\n",
       "    .dataframe thead th {\n",
       "        text-align: right;\n",
       "    }\n",
       "</style>\n",
       "<table border=\"1\" class=\"dataframe\">\n",
       "  <thead>\n",
       "    <tr style=\"text-align: right;\">\n",
       "      <th></th>\n",
       "      <th>Salary Range From</th>\n",
       "      <th>Salary From Sqrt</th>\n",
       "      <th>Salary Range To</th>\n",
       "      <th>Salary To Sqrt</th>\n",
       "    </tr>\n",
       "  </thead>\n",
       "  <tbody>\n",
       "    <tr>\n",
       "      <th>0</th>\n",
       "      <td>84252.0</td>\n",
       "      <td>290.261951</td>\n",
       "      <td>84252.0</td>\n",
       "      <td>290.261951</td>\n",
       "    </tr>\n",
       "    <tr>\n",
       "      <th>1</th>\n",
       "      <td>82884.0</td>\n",
       "      <td>287.895814</td>\n",
       "      <td>116391.0</td>\n",
       "      <td>341.161252</td>\n",
       "    </tr>\n",
       "    <tr>\n",
       "      <th>2</th>\n",
       "      <td>105000.0</td>\n",
       "      <td>324.037035</td>\n",
       "      <td>125000.0</td>\n",
       "      <td>353.553391</td>\n",
       "    </tr>\n",
       "    <tr>\n",
       "      <th>3</th>\n",
       "      <td>87203.0</td>\n",
       "      <td>295.301541</td>\n",
       "      <td>131623.0</td>\n",
       "      <td>362.798842</td>\n",
       "    </tr>\n",
       "    <tr>\n",
       "      <th>4</th>\n",
       "      <td>58449.0</td>\n",
       "      <td>241.762280</td>\n",
       "      <td>67216.0</td>\n",
       "      <td>259.260487</td>\n",
       "    </tr>\n",
       "    <tr>\n",
       "      <th>...</th>\n",
       "      <td>...</td>\n",
       "      <td>...</td>\n",
       "      <td>...</td>\n",
       "      <td>...</td>\n",
       "    </tr>\n",
       "    <tr>\n",
       "      <th>3768</th>\n",
       "      <td>85371.0</td>\n",
       "      <td>292.183162</td>\n",
       "      <td>119883.0</td>\n",
       "      <td>346.241245</td>\n",
       "    </tr>\n",
       "    <tr>\n",
       "      <th>3769</th>\n",
       "      <td>74650.0</td>\n",
       "      <td>273.221522</td>\n",
       "      <td>85847.0</td>\n",
       "      <td>292.996587</td>\n",
       "    </tr>\n",
       "    <tr>\n",
       "      <th>3770</th>\n",
       "      <td>100000.0</td>\n",
       "      <td>316.227766</td>\n",
       "      <td>115000.0</td>\n",
       "      <td>339.116499</td>\n",
       "    </tr>\n",
       "    <tr>\n",
       "      <th>3771</th>\n",
       "      <td>42288.0</td>\n",
       "      <td>205.640463</td>\n",
       "      <td>59400.0</td>\n",
       "      <td>243.721152</td>\n",
       "    </tr>\n",
       "    <tr>\n",
       "      <th>3772</th>\n",
       "      <td>62397.0</td>\n",
       "      <td>249.793915</td>\n",
       "      <td>71757.0</td>\n",
       "      <td>267.874971</td>\n",
       "    </tr>\n",
       "  </tbody>\n",
       "</table>\n",
       "<p>3773 rows × 4 columns</p>\n",
       "</div>"
      ],
      "text/plain": [
       "      Salary Range From  Salary From Sqrt  Salary Range To  Salary To Sqrt\n",
       "0               84252.0        290.261951          84252.0      290.261951\n",
       "1               82884.0        287.895814         116391.0      341.161252\n",
       "2              105000.0        324.037035         125000.0      353.553391\n",
       "3               87203.0        295.301541         131623.0      362.798842\n",
       "4               58449.0        241.762280          67216.0      259.260487\n",
       "...                 ...               ...              ...             ...\n",
       "3768            85371.0        292.183162         119883.0      346.241245\n",
       "3769            74650.0        273.221522          85847.0      292.996587\n",
       "3770           100000.0        316.227766         115000.0      339.116499\n",
       "3771            42288.0        205.640463          59400.0      243.721152\n",
       "3772            62397.0        249.793915          71757.0      267.874971\n",
       "\n",
       "[3773 rows x 4 columns]"
      ]
     },
     "metadata": {},
     "output_type": "display_data"
    },
    {
     "data": {
      "text/html": [
       "<div>\n",
       "<style scoped>\n",
       "    .dataframe tbody tr th:only-of-type {\n",
       "        vertical-align: middle;\n",
       "    }\n",
       "\n",
       "    .dataframe tbody tr th {\n",
       "        vertical-align: top;\n",
       "    }\n",
       "\n",
       "    .dataframe thead th {\n",
       "        text-align: right;\n",
       "    }\n",
       "</style>\n",
       "<table border=\"1\" class=\"dataframe\">\n",
       "  <thead>\n",
       "    <tr style=\"text-align: right;\">\n",
       "      <th></th>\n",
       "      <th>Salary Range From</th>\n",
       "      <th>Salary Range To</th>\n",
       "    </tr>\n",
       "  </thead>\n",
       "  <tbody>\n",
       "    <tr>\n",
       "      <th>0</th>\n",
       "      <td>290.261951</td>\n",
       "      <td>290.261951</td>\n",
       "    </tr>\n",
       "    <tr>\n",
       "      <th>1</th>\n",
       "      <td>287.895814</td>\n",
       "      <td>341.161252</td>\n",
       "    </tr>\n",
       "    <tr>\n",
       "      <th>2</th>\n",
       "      <td>324.037035</td>\n",
       "      <td>353.553391</td>\n",
       "    </tr>\n",
       "    <tr>\n",
       "      <th>3</th>\n",
       "      <td>295.301541</td>\n",
       "      <td>362.798842</td>\n",
       "    </tr>\n",
       "    <tr>\n",
       "      <th>4</th>\n",
       "      <td>241.762280</td>\n",
       "      <td>259.260487</td>\n",
       "    </tr>\n",
       "    <tr>\n",
       "      <th>...</th>\n",
       "      <td>...</td>\n",
       "      <td>...</td>\n",
       "    </tr>\n",
       "    <tr>\n",
       "      <th>3768</th>\n",
       "      <td>292.183162</td>\n",
       "      <td>346.241245</td>\n",
       "    </tr>\n",
       "    <tr>\n",
       "      <th>3769</th>\n",
       "      <td>273.221522</td>\n",
       "      <td>292.996587</td>\n",
       "    </tr>\n",
       "    <tr>\n",
       "      <th>3770</th>\n",
       "      <td>316.227766</td>\n",
       "      <td>339.116499</td>\n",
       "    </tr>\n",
       "    <tr>\n",
       "      <th>3771</th>\n",
       "      <td>205.640463</td>\n",
       "      <td>243.721152</td>\n",
       "    </tr>\n",
       "    <tr>\n",
       "      <th>3772</th>\n",
       "      <td>249.793915</td>\n",
       "      <td>267.874971</td>\n",
       "    </tr>\n",
       "  </tbody>\n",
       "</table>\n",
       "<p>3773 rows × 2 columns</p>\n",
       "</div>"
      ],
      "text/plain": [
       "      Salary Range From  Salary Range To\n",
       "0            290.261951       290.261951\n",
       "1            287.895814       341.161252\n",
       "2            324.037035       353.553391\n",
       "3            295.301541       362.798842\n",
       "4            241.762280       259.260487\n",
       "...                 ...              ...\n",
       "3768         292.183162       346.241245\n",
       "3769         273.221522       292.996587\n",
       "3770         316.227766       339.116499\n",
       "3771         205.640463       243.721152\n",
       "3772         249.793915       267.874971\n",
       "\n",
       "[3773 rows x 2 columns]"
      ]
     },
     "metadata": {},
     "output_type": "display_data"
    },
    {
     "data": {
      "text/plain": [
       "None"
      ]
     },
     "metadata": {},
     "output_type": "display_data"
    }
   ],
   "source": [
    "nyc_jobs_sample = nyc_jobs.copy()\n",
    "nyc_jobs_sample_2 = nyc_jobs.copy()\n",
    "\n",
    "# apply a function across a column\n",
    "nyc_jobs_sample[\"Salary From Sqrt\"] = nyc_jobs_sample[\"Salary Range From\"].apply(np.sqrt)\n",
    "nyc_jobs_sample[\"Salary To Sqrt\"] = nyc_jobs_sample[\"Salary Range To\"].apply(np.sqrt)\n",
    "display(nyc_jobs_sample[[\"Salary Range From\", \"Salary From Sqrt\", \"Salary Range To\", \"Salary To Sqrt\"]])\n",
    "\n",
    "# apply a function across multiple columns (defaults to col-wise: axis=0)\n",
    "cols_changed = display(nyc_jobs_sample_2[[\"Salary Range From\", \"Salary Range To\"]].apply(np.sqrt))\n",
    "display(cols_changed)"
   ]
  },
  {
   "cell_type": "code",
   "execution_count": 49,
   "metadata": {
    "ExecuteTime": {
     "end_time": "2025-03-16T09:52:30.461261Z",
     "start_time": "2025-03-16T09:52:30.379581Z"
    },
    "colab": {
     "base_uri": "https://localhost:8080/",
     "height": 525
    },
    "executionInfo": {
     "elapsed": 253,
     "status": "ok",
     "timestamp": 1742117674105,
     "user": {
      "displayName": "Pacurar Sebastian",
      "userId": "15686393619609976384"
     },
     "user_tz": -120
    },
    "id": "ZR7d8ZN7T81j",
    "outputId": "a4982e1a-54f8-45b8-fc92-316ae9f840f2"
   },
   "outputs": [
    {
     "data": {
      "text/html": [
       "<div>\n",
       "<style scoped>\n",
       "    .dataframe tbody tr th:only-of-type {\n",
       "        vertical-align: middle;\n",
       "    }\n",
       "\n",
       "    .dataframe tbody tr th {\n",
       "        vertical-align: top;\n",
       "    }\n",
       "\n",
       "    .dataframe thead th {\n",
       "        text-align: right;\n",
       "    }\n",
       "</style>\n",
       "<table border=\"1\" class=\"dataframe\">\n",
       "  <thead>\n",
       "    <tr style=\"text-align: right;\">\n",
       "      <th></th>\n",
       "      <th>Salary Range From</th>\n",
       "      <th>Salary Range To</th>\n",
       "    </tr>\n",
       "  </thead>\n",
       "  <tbody>\n",
       "    <tr>\n",
       "      <th>0</th>\n",
       "      <td>84252.0</td>\n",
       "      <td>84252.0</td>\n",
       "    </tr>\n",
       "    <tr>\n",
       "      <th>1</th>\n",
       "      <td>82884.0</td>\n",
       "      <td>116391.0</td>\n",
       "    </tr>\n",
       "    <tr>\n",
       "      <th>2</th>\n",
       "      <td>105000.0</td>\n",
       "      <td>125000.0</td>\n",
       "    </tr>\n",
       "    <tr>\n",
       "      <th>3</th>\n",
       "      <td>87203.0</td>\n",
       "      <td>131623.0</td>\n",
       "    </tr>\n",
       "    <tr>\n",
       "      <th>4</th>\n",
       "      <td>58449.0</td>\n",
       "      <td>67216.0</td>\n",
       "    </tr>\n",
       "  </tbody>\n",
       "</table>\n",
       "</div>"
      ],
      "text/plain": [
       "   Salary Range From  Salary Range To\n",
       "0            84252.0          84252.0\n",
       "1            82884.0         116391.0\n",
       "2           105000.0         125000.0\n",
       "3            87203.0         131623.0\n",
       "4            58449.0          67216.0"
      ]
     },
     "metadata": {},
     "output_type": "display_data"
    },
    {
     "data": {
      "text/html": [
       "<div>\n",
       "<style scoped>\n",
       "    .dataframe tbody tr th:only-of-type {\n",
       "        vertical-align: middle;\n",
       "    }\n",
       "\n",
       "    .dataframe tbody tr th {\n",
       "        vertical-align: top;\n",
       "    }\n",
       "\n",
       "    .dataframe thead th {\n",
       "        text-align: right;\n",
       "    }\n",
       "</style>\n",
       "<table border=\"1\" class=\"dataframe\">\n",
       "  <thead>\n",
       "    <tr style=\"text-align: right;\">\n",
       "      <th></th>\n",
       "      <th>Salary Range From</th>\n",
       "      <th>Salary Range To</th>\n",
       "      <th>Salary Mean</th>\n",
       "    </tr>\n",
       "  </thead>\n",
       "  <tbody>\n",
       "    <tr>\n",
       "      <th>0</th>\n",
       "      <td>84252.0</td>\n",
       "      <td>84252.0</td>\n",
       "      <td>84252.0</td>\n",
       "    </tr>\n",
       "    <tr>\n",
       "      <th>1</th>\n",
       "      <td>82884.0</td>\n",
       "      <td>116391.0</td>\n",
       "      <td>99637.5</td>\n",
       "    </tr>\n",
       "    <tr>\n",
       "      <th>2</th>\n",
       "      <td>105000.0</td>\n",
       "      <td>125000.0</td>\n",
       "      <td>115000.0</td>\n",
       "    </tr>\n",
       "    <tr>\n",
       "      <th>3</th>\n",
       "      <td>87203.0</td>\n",
       "      <td>131623.0</td>\n",
       "      <td>109413.0</td>\n",
       "    </tr>\n",
       "    <tr>\n",
       "      <th>4</th>\n",
       "      <td>58449.0</td>\n",
       "      <td>67216.0</td>\n",
       "      <td>62832.5</td>\n",
       "    </tr>\n",
       "  </tbody>\n",
       "</table>\n",
       "</div>"
      ],
      "text/plain": [
       "   Salary Range From  Salary Range To  Salary Mean\n",
       "0            84252.0          84252.0      84252.0\n",
       "1            82884.0         116391.0      99637.5\n",
       "2           105000.0         125000.0     115000.0\n",
       "3            87203.0         131623.0     109413.0\n",
       "4            58449.0          67216.0      62832.5"
      ]
     },
     "metadata": {},
     "output_type": "display_data"
    },
    {
     "data": {
      "text/plain": [
       "Salary Range From    57657.939466\n",
       "Salary Range To      79660.249595\n",
       "dtype: float64"
      ]
     },
     "metadata": {},
     "output_type": "display_data"
    }
   ],
   "source": [
    "# apply row-wise, col-wise operations\n",
    "nyc_jobs_sample = nyc_jobs.copy()\n",
    "display(nyc_jobs_sample[['Salary Range From', 'Salary Range To']].head())\n",
    "\n",
    "# apply row-wise operation, mean of \"Salary Range From\" and \"Salary Range To\" on each row\n",
    "nyc_jobs_sample[\"Salary Mean\"] = nyc_jobs_sample[['Salary Range From', 'Salary Range To']].apply(np.mean, axis=1)\n",
    "display(nyc_jobs_sample[[\"Salary Range From\", \"Salary Range To\", \"Salary Mean\"]].head())\n",
    "\n",
    "# apply column-wise operation, mean of \"Salary Range From\" for all jobs and \"Salary Range To\" for all jobs\n",
    "display(nyc_jobs_sample[['Salary Range From', 'Salary Range To']].apply(np.mean, axis=0))"
   ]
  },
  {
   "cell_type": "code",
   "execution_count": 50,
   "metadata": {
    "ExecuteTime": {
     "end_time": "2025-03-16T09:52:30.907378Z",
     "start_time": "2025-03-16T09:52:30.893371Z"
    },
    "colab": {
     "base_uri": "https://localhost:8080/",
     "height": 206
    },
    "executionInfo": {
     "elapsed": 36,
     "status": "ok",
     "timestamp": 1742117674128,
     "user": {
      "displayName": "Pacurar Sebastian",
      "userId": "15686393619609976384"
     },
     "user_tz": -120
    },
    "id": "Yym2uGXGYd2V",
    "outputId": "7054baf9-33ba-4077-e974-1fe5bfe029cf"
   },
   "outputs": [
    {
     "data": {
      "text/html": [
       "<div>\n",
       "<style scoped>\n",
       "    .dataframe tbody tr th:only-of-type {\n",
       "        vertical-align: middle;\n",
       "    }\n",
       "\n",
       "    .dataframe tbody tr th {\n",
       "        vertical-align: top;\n",
       "    }\n",
       "\n",
       "    .dataframe thead th {\n",
       "        text-align: right;\n",
       "    }\n",
       "</style>\n",
       "<table border=\"1\" class=\"dataframe\">\n",
       "  <thead>\n",
       "    <tr style=\"text-align: right;\">\n",
       "      <th></th>\n",
       "      <th>Civil Service Title</th>\n",
       "      <th>Civil Service Updated</th>\n",
       "    </tr>\n",
       "  </thead>\n",
       "  <tbody>\n",
       "    <tr>\n",
       "      <th>0</th>\n",
       "      <td>PUBLIC HEALTH NURSE</td>\n",
       "      <td>Public Health Nurse</td>\n",
       "    </tr>\n",
       "    <tr>\n",
       "      <th>1</th>\n",
       "      <td>CERT IT DEVELOPER (APP)</td>\n",
       "      <td>Cert It Developer (App)</td>\n",
       "    </tr>\n",
       "    <tr>\n",
       "      <th>2</th>\n",
       "      <td>EXECUTIVE AGENCY COUNSEL</td>\n",
       "      <td>Executive Agency Counsel</td>\n",
       "    </tr>\n",
       "    <tr>\n",
       "      <th>3</th>\n",
       "      <td>CERTIFIED IT ADMINISTRATOR (LA</td>\n",
       "      <td>Certified It Administrator (La</td>\n",
       "    </tr>\n",
       "    <tr>\n",
       "      <th>4</th>\n",
       "      <td>ASSOCIATE HUMAN RIGHTS SPECIAL</td>\n",
       "      <td>Associate Human Rights Special</td>\n",
       "    </tr>\n",
       "  </tbody>\n",
       "</table>\n",
       "</div>"
      ],
      "text/plain": [
       "              Civil Service Title           Civil Service Updated\n",
       "0             PUBLIC HEALTH NURSE             Public Health Nurse\n",
       "1         CERT IT DEVELOPER (APP)         Cert It Developer (App)\n",
       "2        EXECUTIVE AGENCY COUNSEL        Executive Agency Counsel\n",
       "3  CERTIFIED IT ADMINISTRATOR (LA  Certified It Administrator (La\n",
       "4  ASSOCIATE HUMAN RIGHTS SPECIAL  Associate Human Rights Special"
      ]
     },
     "execution_count": 50,
     "metadata": {},
     "output_type": "execute_result"
    }
   ],
   "source": [
    "# apply custom functions\n",
    "\n",
    "def capitalize_position(title):\n",
    "    title_lower = title.lower()\n",
    "    title_final = title_lower.title()\n",
    "    return title_final\n",
    "\n",
    "\n",
    "nyc_jobs_sample = nyc_jobs.copy()\n",
    "\n",
    "nyc_jobs_sample[\"Civil Service Updated\"] = nyc_jobs_sample[\"Civil Service Title\"].apply(capitalize_position)\n",
    "nyc_jobs_sample[[\"Civil Service Title\", \"Civil Service Updated\"]].head()"
   ]
  },
  {
   "cell_type": "code",
   "execution_count": 51,
   "metadata": {
    "ExecuteTime": {
     "end_time": "2025-03-16T09:52:31.282483Z",
     "start_time": "2025-03-16T09:52:31.272083Z"
    },
    "colab": {
     "base_uri": "https://localhost:8080/",
     "height": 206
    },
    "executionInfo": {
     "elapsed": 7,
     "status": "ok",
     "timestamp": 1742117674136,
     "user": {
      "displayName": "Pacurar Sebastian",
      "userId": "15686393619609976384"
     },
     "user_tz": -120
    },
    "id": "5WDsORc4aO6V",
    "outputId": "e993a903-59bd-4e05-8312-198f8eaf7335"
   },
   "outputs": [
    {
     "data": {
      "text/html": [
       "<div>\n",
       "<style scoped>\n",
       "    .dataframe tbody tr th:only-of-type {\n",
       "        vertical-align: middle;\n",
       "    }\n",
       "\n",
       "    .dataframe tbody tr th {\n",
       "        vertical-align: top;\n",
       "    }\n",
       "\n",
       "    .dataframe thead th {\n",
       "        text-align: right;\n",
       "    }\n",
       "</style>\n",
       "<table border=\"1\" class=\"dataframe\">\n",
       "  <thead>\n",
       "    <tr style=\"text-align: right;\">\n",
       "      <th></th>\n",
       "      <th>Civil Service Title</th>\n",
       "      <th>Civil Service Lower</th>\n",
       "    </tr>\n",
       "  </thead>\n",
       "  <tbody>\n",
       "    <tr>\n",
       "      <th>0</th>\n",
       "      <td>PUBLIC HEALTH NURSE</td>\n",
       "      <td>Public Health Nurse</td>\n",
       "    </tr>\n",
       "    <tr>\n",
       "      <th>1</th>\n",
       "      <td>CERT IT DEVELOPER (APP)</td>\n",
       "      <td>Cert It Developer (App)</td>\n",
       "    </tr>\n",
       "    <tr>\n",
       "      <th>2</th>\n",
       "      <td>EXECUTIVE AGENCY COUNSEL</td>\n",
       "      <td>Executive Agency Counsel</td>\n",
       "    </tr>\n",
       "    <tr>\n",
       "      <th>3</th>\n",
       "      <td>CERTIFIED IT ADMINISTRATOR (LA</td>\n",
       "      <td>Certified It Administrator (La</td>\n",
       "    </tr>\n",
       "    <tr>\n",
       "      <th>4</th>\n",
       "      <td>ASSOCIATE HUMAN RIGHTS SPECIAL</td>\n",
       "      <td>Associate Human Rights Special</td>\n",
       "    </tr>\n",
       "  </tbody>\n",
       "</table>\n",
       "</div>"
      ],
      "text/plain": [
       "              Civil Service Title             Civil Service Lower\n",
       "0             PUBLIC HEALTH NURSE             Public Health Nurse\n",
       "1         CERT IT DEVELOPER (APP)         Cert It Developer (App)\n",
       "2        EXECUTIVE AGENCY COUNSEL        Executive Agency Counsel\n",
       "3  CERTIFIED IT ADMINISTRATOR (LA  Certified It Administrator (La\n",
       "4  ASSOCIATE HUMAN RIGHTS SPECIAL  Associate Human Rights Special"
      ]
     },
     "execution_count": 51,
     "metadata": {},
     "output_type": "execute_result"
    }
   ],
   "source": [
    "# using anonymous functions\n",
    "\n",
    "nyc_jobs_sample = nyc_jobs.copy()\n",
    "\n",
    "nyc_jobs_sample[\"Civil Service Lower\"] = nyc_jobs_sample[\"Civil Service Title\"].apply(lambda x: x.lower().title())\n",
    "nyc_jobs_sample[[\"Civil Service Title\", \"Civil Service Lower\"]].head()"
   ]
  },
  {
   "cell_type": "code",
   "execution_count": 52,
   "metadata": {
    "ExecuteTime": {
     "end_time": "2025-03-16T09:52:31.968378Z",
     "start_time": "2025-03-16T09:52:31.600884Z"
    },
    "colab": {
     "base_uri": "https://localhost:8080/",
     "height": 1000
    },
    "executionInfo": {
     "elapsed": 845,
     "status": "ok",
     "timestamp": 1742117674982,
     "user": {
      "displayName": "Pacurar Sebastian",
      "userId": "15686393619609976384"
     },
     "user_tz": -120
    },
    "id": "SPlq8a7acKZu",
    "outputId": "f41516d8-68c0-4930-910f-72e8e6fcdd98"
   },
   "outputs": [
    {
     "data": {
      "text/plain": [
       "0    [424339, DEPT OF HEALTH/MENTAL HYGIENE, Extern...\n",
       "1    [379094, NYC EMPLOYEES RETIREMENT SYS, Externa...\n",
       "2    [520417, NYC HOUSING AUTHORITY, External, 1, C...\n",
       "3    [233549, NYC EMPLOYEES RETIREMENT SYS, Externa...\n",
       "4    [510256, HUMAN RIGHTS COMMISSION, External, 5,...\n",
       "dtype: object"
      ]
     },
     "metadata": {},
     "output_type": "display_data"
    },
    {
     "data": {
      "text/html": [
       "<div>\n",
       "<style scoped>\n",
       "    .dataframe tbody tr th:only-of-type {\n",
       "        vertical-align: middle;\n",
       "    }\n",
       "\n",
       "    .dataframe tbody tr th {\n",
       "        vertical-align: top;\n",
       "    }\n",
       "\n",
       "    .dataframe thead th {\n",
       "        text-align: right;\n",
       "    }\n",
       "</style>\n",
       "<table border=\"1\" class=\"dataframe\">\n",
       "  <thead>\n",
       "    <tr style=\"text-align: right;\">\n",
       "      <th></th>\n",
       "      <th>0</th>\n",
       "      <th>1</th>\n",
       "      <th>2</th>\n",
       "      <th>3</th>\n",
       "      <th>4</th>\n",
       "      <th>5</th>\n",
       "      <th>6</th>\n",
       "      <th>7</th>\n",
       "      <th>8</th>\n",
       "      <th>9</th>\n",
       "      <th>...</th>\n",
       "      <th>20</th>\n",
       "      <th>21</th>\n",
       "      <th>22</th>\n",
       "      <th>23</th>\n",
       "      <th>24</th>\n",
       "      <th>25</th>\n",
       "      <th>26</th>\n",
       "      <th>27</th>\n",
       "      <th>28</th>\n",
       "      <th>29</th>\n",
       "    </tr>\n",
       "  </thead>\n",
       "  <tbody>\n",
       "    <tr>\n",
       "      <th>0</th>\n",
       "      <td>424339</td>\n",
       "      <td>DEPT OF HEALTH/MENTAL HYGIENE</td>\n",
       "      <td>External</td>\n",
       "      <td>1</td>\n",
       "      <td>Triage Nurse, Bureau of Public Health Clinics</td>\n",
       "      <td>PUBLIC HEALTH NURSE</td>\n",
       "      <td>Competitive-1</td>\n",
       "      <td>51011</td>\n",
       "      <td>03</td>\n",
       "      <td>Health</td>\n",
       "      <td>...</td>\n",
       "      <td>**IMPORTANT NOTES TO ALL CANDIDATES:   Please ...</td>\n",
       "      <td>Apply online with a cover letter to https://a1...</td>\n",
       "      <td>NaN</td>\n",
       "      <td>NaN</td>\n",
       "      <td>NaN</td>\n",
       "      <td>New York City Residency is not required for th...</td>\n",
       "      <td>03/01/2022</td>\n",
       "      <td>NaN</td>\n",
       "      <td>04/05/2022</td>\n",
       "      <td>04/12/2022</td>\n",
       "    </tr>\n",
       "    <tr>\n",
       "      <th>1</th>\n",
       "      <td>379094</td>\n",
       "      <td>NYC EMPLOYEES RETIREMENT SYS</td>\n",
       "      <td>External</td>\n",
       "      <td>1</td>\n",
       "      <td>CERTIFIED IT DEVELOPER (APPLICATIONS)</td>\n",
       "      <td>CERT IT DEVELOPER (APP)</td>\n",
       "      <td>Competitive-1</td>\n",
       "      <td>13643</td>\n",
       "      <td>02</td>\n",
       "      <td>Technology, Data &amp; Innovation</td>\n",
       "      <td>...</td>\n",
       "      <td>NaN</td>\n",
       "      <td>TO APPLY FOR CONSIDERATION, PLEASE FORWARD A C...</td>\n",
       "      <td>NaN</td>\n",
       "      <td>NaN</td>\n",
       "      <td>NaN</td>\n",
       "      <td>New York City Residency is not required for th...</td>\n",
       "      <td>01/07/2019</td>\n",
       "      <td>NaN</td>\n",
       "      <td>01/07/2019</td>\n",
       "      <td>04/12/2022</td>\n",
       "    </tr>\n",
       "    <tr>\n",
       "      <th>2</th>\n",
       "      <td>520417</td>\n",
       "      <td>NYC HOUSING AUTHORITY</td>\n",
       "      <td>External</td>\n",
       "      <td>1</td>\n",
       "      <td>Chief of Settlement</td>\n",
       "      <td>EXECUTIVE AGENCY COUNSEL</td>\n",
       "      <td>Non-Competitive-5</td>\n",
       "      <td>95005</td>\n",
       "      <td>M2</td>\n",
       "      <td>Legal Affairs</td>\n",
       "      <td>...</td>\n",
       "      <td>1.  Resume and cover letter must also include ...</td>\n",
       "      <td>Click the Apply Now button.</td>\n",
       "      <td>NaN</td>\n",
       "      <td>NaN</td>\n",
       "      <td>NaN</td>\n",
       "      <td>NYCHA has no residency requirements.</td>\n",
       "      <td>03/28/2022</td>\n",
       "      <td>NaN</td>\n",
       "      <td>03/28/2022</td>\n",
       "      <td>04/12/2022</td>\n",
       "    </tr>\n",
       "    <tr>\n",
       "      <th>3</th>\n",
       "      <td>233549</td>\n",
       "      <td>NYC EMPLOYEES RETIREMENT SYS</td>\n",
       "      <td>External</td>\n",
       "      <td>1</td>\n",
       "      <td>CERTIFIED IT ADMINISTRATOR (LAN/WAN), LEVEL 4</td>\n",
       "      <td>CERTIFIED IT ADMINISTRATOR (LA</td>\n",
       "      <td>Competitive-1</td>\n",
       "      <td>13652</td>\n",
       "      <td>04</td>\n",
       "      <td>Information Technology &amp; Telecommunications</td>\n",
       "      <td>...</td>\n",
       "      <td>NaN</td>\n",
       "      <td>Click the 'apply now' button to apply.  Please...</td>\n",
       "      <td>NaN</td>\n",
       "      <td>NaN</td>\n",
       "      <td>NaN</td>\n",
       "      <td>New York City Residency is not required for th...</td>\n",
       "      <td>03/01/2016</td>\n",
       "      <td>NaN</td>\n",
       "      <td>03/01/2016</td>\n",
       "      <td>04/12/2022</td>\n",
       "    </tr>\n",
       "    <tr>\n",
       "      <th>4</th>\n",
       "      <td>510256</td>\n",
       "      <td>HUMAN RIGHTS COMMISSION</td>\n",
       "      <td>External</td>\n",
       "      <td>5</td>\n",
       "      <td>Associate Human Rights Specialist</td>\n",
       "      <td>ASSOCIATE HUMAN RIGHTS SPECIAL</td>\n",
       "      <td>Competitive-1</td>\n",
       "      <td>55038</td>\n",
       "      <td>01</td>\n",
       "      <td>Constituent Services &amp; Community Programs</td>\n",
       "      <td>...</td>\n",
       "      <td>NaN</td>\n",
       "      <td>For City employees: Go to Employee Self-Servic...</td>\n",
       "      <td>: DAY, 9-5; ON OCCASION, CANDIDATES MAY BE REQ...</td>\n",
       "      <td>22 Reade St, Ny</td>\n",
       "      <td>NaN</td>\n",
       "      <td>New York City residency is generally required ...</td>\n",
       "      <td>12/16/2021</td>\n",
       "      <td>NaN</td>\n",
       "      <td>12/16/2021</td>\n",
       "      <td>04/12/2022</td>\n",
       "    </tr>\n",
       "  </tbody>\n",
       "</table>\n",
       "<p>5 rows × 30 columns</p>\n",
       "</div>"
      ],
      "text/plain": [
       "       0                              1         2   3   \\\n",
       "0  424339  DEPT OF HEALTH/MENTAL HYGIENE  External   1   \n",
       "1  379094   NYC EMPLOYEES RETIREMENT SYS  External   1   \n",
       "2  520417          NYC HOUSING AUTHORITY  External   1   \n",
       "3  233549   NYC EMPLOYEES RETIREMENT SYS  External   1   \n",
       "4  510256        HUMAN RIGHTS COMMISSION  External   5   \n",
       "\n",
       "                                              4   \\\n",
       "0  Triage Nurse, Bureau of Public Health Clinics   \n",
       "1          CERTIFIED IT DEVELOPER (APPLICATIONS)   \n",
       "2                            Chief of Settlement   \n",
       "3  CERTIFIED IT ADMINISTRATOR (LAN/WAN), LEVEL 4   \n",
       "4              Associate Human Rights Specialist   \n",
       "\n",
       "                               5                  6      7   8   \\\n",
       "0             PUBLIC HEALTH NURSE      Competitive-1  51011  03   \n",
       "1         CERT IT DEVELOPER (APP)      Competitive-1  13643  02   \n",
       "2        EXECUTIVE AGENCY COUNSEL  Non-Competitive-5  95005  M2   \n",
       "3  CERTIFIED IT ADMINISTRATOR (LA      Competitive-1  13652  04   \n",
       "4  ASSOCIATE HUMAN RIGHTS SPECIAL      Competitive-1  55038  01   \n",
       "\n",
       "                                            9   ...  \\\n",
       "0                                       Health  ...   \n",
       "1                Technology, Data & Innovation  ...   \n",
       "2                                Legal Affairs  ...   \n",
       "3  Information Technology & Telecommunications  ...   \n",
       "4    Constituent Services & Community Programs  ...   \n",
       "\n",
       "                                                  20  \\\n",
       "0  **IMPORTANT NOTES TO ALL CANDIDATES:   Please ...   \n",
       "1                                                NaN   \n",
       "2  1.  Resume and cover letter must also include ...   \n",
       "3                                                NaN   \n",
       "4                                                NaN   \n",
       "\n",
       "                                                  21  \\\n",
       "0  Apply online with a cover letter to https://a1...   \n",
       "1  TO APPLY FOR CONSIDERATION, PLEASE FORWARD A C...   \n",
       "2                        Click the Apply Now button.   \n",
       "3  Click the 'apply now' button to apply.  Please...   \n",
       "4  For City employees: Go to Employee Self-Servic...   \n",
       "\n",
       "                                                  22               23  24  \\\n",
       "0                                                NaN              NaN NaN   \n",
       "1                                                NaN              NaN NaN   \n",
       "2                                                NaN              NaN NaN   \n",
       "3                                                NaN              NaN NaN   \n",
       "4  : DAY, 9-5; ON OCCASION, CANDIDATES MAY BE REQ...  22 Reade St, Ny NaN   \n",
       "\n",
       "                                                  25          26   27  \\\n",
       "0  New York City Residency is not required for th...  03/01/2022  NaN   \n",
       "1  New York City Residency is not required for th...  01/07/2019  NaN   \n",
       "2               NYCHA has no residency requirements.  03/28/2022  NaN   \n",
       "3  New York City Residency is not required for th...  03/01/2016  NaN   \n",
       "4  New York City residency is generally required ...  12/16/2021  NaN   \n",
       "\n",
       "           28          29  \n",
       "0  04/05/2022  04/12/2022  \n",
       "1  01/07/2019  04/12/2022  \n",
       "2  03/28/2022  04/12/2022  \n",
       "3  03/01/2016  04/12/2022  \n",
       "4  12/16/2021  04/12/2022  \n",
       "\n",
       "[5 rows x 30 columns]"
      ]
     },
     "metadata": {},
     "output_type": "display_data"
    },
    {
     "data": {
      "text/html": [
       "<div>\n",
       "<style scoped>\n",
       "    .dataframe tbody tr th:only-of-type {\n",
       "        vertical-align: middle;\n",
       "    }\n",
       "\n",
       "    .dataframe tbody tr th {\n",
       "        vertical-align: top;\n",
       "    }\n",
       "\n",
       "    .dataframe thead th {\n",
       "        text-align: right;\n",
       "    }\n",
       "</style>\n",
       "<table border=\"1\" class=\"dataframe\">\n",
       "  <thead>\n",
       "    <tr style=\"text-align: right;\">\n",
       "      <th></th>\n",
       "      <th>Job ID</th>\n",
       "      <th>Agency</th>\n",
       "      <th>Posting Type</th>\n",
       "      <th># Of Positions</th>\n",
       "      <th>Business Title</th>\n",
       "      <th>Civil Service Title</th>\n",
       "      <th>Title Classification</th>\n",
       "      <th>Title Code No</th>\n",
       "      <th>Level</th>\n",
       "      <th>Job Category</th>\n",
       "      <th>...</th>\n",
       "      <th>Additional Information</th>\n",
       "      <th>To Apply</th>\n",
       "      <th>Hours/Shift</th>\n",
       "      <th>Work Location 1</th>\n",
       "      <th>Recruitment Contact</th>\n",
       "      <th>Residency Requirement</th>\n",
       "      <th>Posting Date</th>\n",
       "      <th>Post Until</th>\n",
       "      <th>Posting Updated</th>\n",
       "      <th>Process Date</th>\n",
       "    </tr>\n",
       "  </thead>\n",
       "  <tbody>\n",
       "    <tr>\n",
       "      <th>0</th>\n",
       "      <td>424339</td>\n",
       "      <td>DEPT OF HEALTH/MENTAL HYGIENE</td>\n",
       "      <td>External</td>\n",
       "      <td>1</td>\n",
       "      <td>Triage Nurse, Bureau of Public Health Clinics</td>\n",
       "      <td>PUBLIC HEALTH NURSE</td>\n",
       "      <td>Competitive-1</td>\n",
       "      <td>51011</td>\n",
       "      <td>03</td>\n",
       "      <td>Health</td>\n",
       "      <td>...</td>\n",
       "      <td>**IMPORTANT NOTES TO ALL CANDIDATES:   Please ...</td>\n",
       "      <td>Apply online with a cover letter to https://a1...</td>\n",
       "      <td>NaN</td>\n",
       "      <td>NaN</td>\n",
       "      <td>NaN</td>\n",
       "      <td>New York City Residency is not required for th...</td>\n",
       "      <td>03/01/2022</td>\n",
       "      <td>NaN</td>\n",
       "      <td>04/05/2022</td>\n",
       "      <td>04/12/2022</td>\n",
       "    </tr>\n",
       "    <tr>\n",
       "      <th>1</th>\n",
       "      <td>379094</td>\n",
       "      <td>NYC EMPLOYEES RETIREMENT SYS</td>\n",
       "      <td>External</td>\n",
       "      <td>1</td>\n",
       "      <td>CERTIFIED IT DEVELOPER (APPLICATIONS)</td>\n",
       "      <td>CERT IT DEVELOPER (APP)</td>\n",
       "      <td>Competitive-1</td>\n",
       "      <td>13643</td>\n",
       "      <td>02</td>\n",
       "      <td>Technology, Data &amp; Innovation</td>\n",
       "      <td>...</td>\n",
       "      <td>NaN</td>\n",
       "      <td>TO APPLY FOR CONSIDERATION, PLEASE FORWARD A C...</td>\n",
       "      <td>NaN</td>\n",
       "      <td>NaN</td>\n",
       "      <td>NaN</td>\n",
       "      <td>New York City Residency is not required for th...</td>\n",
       "      <td>01/07/2019</td>\n",
       "      <td>NaN</td>\n",
       "      <td>01/07/2019</td>\n",
       "      <td>04/12/2022</td>\n",
       "    </tr>\n",
       "    <tr>\n",
       "      <th>2</th>\n",
       "      <td>520417</td>\n",
       "      <td>NYC HOUSING AUTHORITY</td>\n",
       "      <td>External</td>\n",
       "      <td>1</td>\n",
       "      <td>Chief of Settlement</td>\n",
       "      <td>EXECUTIVE AGENCY COUNSEL</td>\n",
       "      <td>Non-Competitive-5</td>\n",
       "      <td>95005</td>\n",
       "      <td>M2</td>\n",
       "      <td>Legal Affairs</td>\n",
       "      <td>...</td>\n",
       "      <td>1.  Resume and cover letter must also include ...</td>\n",
       "      <td>Click the Apply Now button.</td>\n",
       "      <td>NaN</td>\n",
       "      <td>NaN</td>\n",
       "      <td>NaN</td>\n",
       "      <td>NYCHA has no residency requirements.</td>\n",
       "      <td>03/28/2022</td>\n",
       "      <td>NaN</td>\n",
       "      <td>03/28/2022</td>\n",
       "      <td>04/12/2022</td>\n",
       "    </tr>\n",
       "    <tr>\n",
       "      <th>3</th>\n",
       "      <td>233549</td>\n",
       "      <td>NYC EMPLOYEES RETIREMENT SYS</td>\n",
       "      <td>External</td>\n",
       "      <td>1</td>\n",
       "      <td>CERTIFIED IT ADMINISTRATOR (LAN/WAN), LEVEL 4</td>\n",
       "      <td>CERTIFIED IT ADMINISTRATOR (LA</td>\n",
       "      <td>Competitive-1</td>\n",
       "      <td>13652</td>\n",
       "      <td>04</td>\n",
       "      <td>Information Technology &amp; Telecommunications</td>\n",
       "      <td>...</td>\n",
       "      <td>NaN</td>\n",
       "      <td>Click the 'apply now' button to apply.  Please...</td>\n",
       "      <td>NaN</td>\n",
       "      <td>NaN</td>\n",
       "      <td>NaN</td>\n",
       "      <td>New York City Residency is not required for th...</td>\n",
       "      <td>03/01/2016</td>\n",
       "      <td>NaN</td>\n",
       "      <td>03/01/2016</td>\n",
       "      <td>04/12/2022</td>\n",
       "    </tr>\n",
       "    <tr>\n",
       "      <th>4</th>\n",
       "      <td>510256</td>\n",
       "      <td>HUMAN RIGHTS COMMISSION</td>\n",
       "      <td>External</td>\n",
       "      <td>5</td>\n",
       "      <td>Associate Human Rights Specialist</td>\n",
       "      <td>ASSOCIATE HUMAN RIGHTS SPECIAL</td>\n",
       "      <td>Competitive-1</td>\n",
       "      <td>55038</td>\n",
       "      <td>01</td>\n",
       "      <td>Constituent Services &amp; Community Programs</td>\n",
       "      <td>...</td>\n",
       "      <td>NaN</td>\n",
       "      <td>For City employees: Go to Employee Self-Servic...</td>\n",
       "      <td>: DAY, 9-5; ON OCCASION, CANDIDATES MAY BE REQ...</td>\n",
       "      <td>22 Reade St, Ny</td>\n",
       "      <td>NaN</td>\n",
       "      <td>New York City residency is generally required ...</td>\n",
       "      <td>12/16/2021</td>\n",
       "      <td>NaN</td>\n",
       "      <td>12/16/2021</td>\n",
       "      <td>04/12/2022</td>\n",
       "    </tr>\n",
       "  </tbody>\n",
       "</table>\n",
       "<p>5 rows × 30 columns</p>\n",
       "</div>"
      ],
      "text/plain": [
       "   Job ID                         Agency Posting Type # Of Positions  \\\n",
       "0  424339  DEPT OF HEALTH/MENTAL HYGIENE     External              1   \n",
       "1  379094   NYC EMPLOYEES RETIREMENT SYS     External              1   \n",
       "2  520417          NYC HOUSING AUTHORITY     External              1   \n",
       "3  233549   NYC EMPLOYEES RETIREMENT SYS     External              1   \n",
       "4  510256        HUMAN RIGHTS COMMISSION     External              5   \n",
       "\n",
       "                                  Business Title  \\\n",
       "0  Triage Nurse, Bureau of Public Health Clinics   \n",
       "1          CERTIFIED IT DEVELOPER (APPLICATIONS)   \n",
       "2                            Chief of Settlement   \n",
       "3  CERTIFIED IT ADMINISTRATOR (LAN/WAN), LEVEL 4   \n",
       "4              Associate Human Rights Specialist   \n",
       "\n",
       "              Civil Service Title Title Classification Title Code No Level  \\\n",
       "0             PUBLIC HEALTH NURSE        Competitive-1         51011    03   \n",
       "1         CERT IT DEVELOPER (APP)        Competitive-1         13643    02   \n",
       "2        EXECUTIVE AGENCY COUNSEL    Non-Competitive-5         95005    M2   \n",
       "3  CERTIFIED IT ADMINISTRATOR (LA        Competitive-1         13652    04   \n",
       "4  ASSOCIATE HUMAN RIGHTS SPECIAL        Competitive-1         55038    01   \n",
       "\n",
       "                                  Job Category  ...  \\\n",
       "0                                       Health  ...   \n",
       "1                Technology, Data & Innovation  ...   \n",
       "2                                Legal Affairs  ...   \n",
       "3  Information Technology & Telecommunications  ...   \n",
       "4    Constituent Services & Community Programs  ...   \n",
       "\n",
       "                              Additional Information  \\\n",
       "0  **IMPORTANT NOTES TO ALL CANDIDATES:   Please ...   \n",
       "1                                                NaN   \n",
       "2  1.  Resume and cover letter must also include ...   \n",
       "3                                                NaN   \n",
       "4                                                NaN   \n",
       "\n",
       "                                            To Apply  \\\n",
       "0  Apply online with a cover letter to https://a1...   \n",
       "1  TO APPLY FOR CONSIDERATION, PLEASE FORWARD A C...   \n",
       "2                        Click the Apply Now button.   \n",
       "3  Click the 'apply now' button to apply.  Please...   \n",
       "4  For City employees: Go to Employee Self-Servic...   \n",
       "\n",
       "                                         Hours/Shift  Work Location 1  \\\n",
       "0                                                NaN              NaN   \n",
       "1                                                NaN              NaN   \n",
       "2                                                NaN              NaN   \n",
       "3                                                NaN              NaN   \n",
       "4  : DAY, 9-5; ON OCCASION, CANDIDATES MAY BE REQ...  22 Reade St, Ny   \n",
       "\n",
       "  Recruitment Contact                              Residency Requirement  \\\n",
       "0                 NaN  New York City Residency is not required for th...   \n",
       "1                 NaN  New York City Residency is not required for th...   \n",
       "2                 NaN               NYCHA has no residency requirements.   \n",
       "3                 NaN  New York City Residency is not required for th...   \n",
       "4                 NaN  New York City residency is generally required ...   \n",
       "\n",
       "  Posting Date Post Until Posting Updated Process Date  \n",
       "0   03/01/2022        NaN      04/05/2022   04/12/2022  \n",
       "1   01/07/2019        NaN      01/07/2019   04/12/2022  \n",
       "2   03/28/2022        NaN      03/28/2022   04/12/2022  \n",
       "3   03/01/2016        NaN      03/01/2016   04/12/2022  \n",
       "4   12/16/2021        NaN      12/16/2021   04/12/2022  \n",
       "\n",
       "[5 rows x 30 columns]"
      ]
     },
     "metadata": {},
     "output_type": "display_data"
    }
   ],
   "source": [
    "# result_type argument in apply()\n",
    "nyc_jobs_sample = nyc_jobs.copy()\n",
    "\n",
    "# get every row under a single column, as list type, where every element is the initial column\n",
    "display(nyc_jobs_sample.apply(lambda x: x.tolist(), axis=1).head())\n",
    "\n",
    "# use \"expand\" to split the list into columns, but the column names are incremented ints:\n",
    "display(nyc_jobs_sample.apply(lambda x: x.tolist(), axis=1, result_type='expand').head())\n",
    "\n",
    "# use \"broadcast\" to have the same behavior as \"expand\", but keep the initial column names\n",
    "display(nyc_jobs_sample.apply(lambda x: x.tolist(), axis=1, result_type='broadcast').head())"
   ]
  },
  {
   "cell_type": "markdown",
   "metadata": {
    "id": "Ju0Z4NTPK3hp"
   },
   "source": [
    "<br><hr><hr><br>"
   ]
  },
  {
   "cell_type": "markdown",
   "metadata": {
    "id": "AUAmVOGsaAeG"
   },
   "source": [
    "# 2) Filtering Data"
   ]
  },
  {
   "cell_type": "markdown",
   "metadata": {
    "id": "w2N-5jXJIf_a"
   },
   "source": [
    "<br><hr><br>"
   ]
  },
  {
   "cell_type": "markdown",
   "metadata": {
    "id": "bxfjhIx7fKk-"
   },
   "source": [
    "### 2.1 - Standard filtering"
   ]
  },
  {
   "cell_type": "code",
   "execution_count": 57,
   "metadata": {
    "ExecuteTime": {
     "end_time": "2025-03-16T09:52:32.167960Z",
     "start_time": "2025-03-16T09:52:32.094632Z"
    },
    "colab": {
     "base_uri": "https://localhost:8080/"
    },
    "executionInfo": {
     "elapsed": 107,
     "status": "ok",
     "timestamp": 1742117675091,
     "user": {
      "displayName": "Pacurar Sebastian",
      "userId": "15686393619609976384"
     },
     "user_tz": -120
    },
    "id": "7lx0AXXRcfqG",
    "outputId": "1e5062bc-871a-4227-d510-4f8dbbe38c1b"
   },
   "outputs": [
    {
     "name": "stdout",
     "output_type": "stream",
     "text": [
      "<class 'pandas.core.frame.DataFrame'>\n",
      "RangeIndex: 145500 entries, 0 to 145499\n",
      "Data columns (total 11 columns):\n",
      " #   Column        Non-Null Count   Dtype  \n",
      "---  ------        --------------   -----  \n",
      " 0   athlete_id    145500 non-null  int64  \n",
      " 1   name          145500 non-null  object \n",
      " 2   born_date     143693 non-null  object \n",
      " 3   born_city     110908 non-null  object \n",
      " 4   born_region   110908 non-null  object \n",
      " 5   born_country  110908 non-null  object \n",
      " 6   NOC           145499 non-null  object \n",
      " 7   height_cm     106651 non-null  float64\n",
      " 8   weight_kg     102070 non-null  float64\n",
      " 9   died_date     33940 non-null   object \n",
      " 10  Category      145500 non-null  object \n",
      "dtypes: float64(2), int64(1), object(8)\n",
      "memory usage: 12.2+ MB\n"
     ]
    }
   ],
   "source": [
    "bios_sample = bios.copy()\n",
    "bios_sample.info()"
   ]
  },
  {
   "cell_type": "code",
   "execution_count": 58,
   "metadata": {
    "ExecuteTime": {
     "end_time": "2025-03-16T09:52:32.669881Z",
     "start_time": "2025-03-16T09:52:32.658617Z"
    },
    "colab": {
     "base_uri": "https://localhost:8080/",
     "height": 293
    },
    "executionInfo": {
     "elapsed": 58,
     "status": "ok",
     "timestamp": 1742117675150,
     "user": {
      "displayName": "Pacurar Sebastian",
      "userId": "15686393619609976384"
     },
     "user_tz": -120
    },
    "id": "eVt-qMn7cg3F",
    "outputId": "851ed76f-bd16-4251-e0b7-dad1ec0bf909"
   },
   "outputs": [
    {
     "data": {
      "text/html": [
       "<div>\n",
       "<style scoped>\n",
       "    .dataframe tbody tr th:only-of-type {\n",
       "        vertical-align: middle;\n",
       "    }\n",
       "\n",
       "    .dataframe tbody tr th {\n",
       "        vertical-align: top;\n",
       "    }\n",
       "\n",
       "    .dataframe thead th {\n",
       "        text-align: right;\n",
       "    }\n",
       "</style>\n",
       "<table border=\"1\" class=\"dataframe\">\n",
       "  <thead>\n",
       "    <tr style=\"text-align: right;\">\n",
       "      <th></th>\n",
       "      <th>athlete_id</th>\n",
       "      <th>name</th>\n",
       "      <th>born_date</th>\n",
       "      <th>born_city</th>\n",
       "      <th>born_region</th>\n",
       "      <th>born_country</th>\n",
       "      <th>NOC</th>\n",
       "      <th>height_cm</th>\n",
       "      <th>weight_kg</th>\n",
       "      <th>died_date</th>\n",
       "      <th>Category</th>\n",
       "    </tr>\n",
       "  </thead>\n",
       "  <tbody>\n",
       "    <tr>\n",
       "      <th>5089</th>\n",
       "      <td>5108</td>\n",
       "      <td>Viktor Pankrashkin</td>\n",
       "      <td>1957-06-19</td>\n",
       "      <td>Moskva (Moscow)</td>\n",
       "      <td>Moskva</td>\n",
       "      <td>RUS</td>\n",
       "      <td>Soviet Union</td>\n",
       "      <td>220.0</td>\n",
       "      <td>112.0</td>\n",
       "      <td>1993-07-24</td>\n",
       "      <td>Heavyweight</td>\n",
       "    </tr>\n",
       "    <tr>\n",
       "      <th>5583</th>\n",
       "      <td>5606</td>\n",
       "      <td>Paulinho Villas Boas</td>\n",
       "      <td>1963-01-26</td>\n",
       "      <td>São Paulo</td>\n",
       "      <td>São Paulo</td>\n",
       "      <td>BRA</td>\n",
       "      <td>Brazil</td>\n",
       "      <td>217.0</td>\n",
       "      <td>106.0</td>\n",
       "      <td>NaN</td>\n",
       "      <td>Heavyweight</td>\n",
       "    </tr>\n",
       "    <tr>\n",
       "      <th>5673</th>\n",
       "      <td>5696</td>\n",
       "      <td>Gunther Behnke</td>\n",
       "      <td>1963-01-19</td>\n",
       "      <td>Leverkusen</td>\n",
       "      <td>Nordrhein-Westfalen</td>\n",
       "      <td>GER</td>\n",
       "      <td>Germany</td>\n",
       "      <td>221.0</td>\n",
       "      <td>114.0</td>\n",
       "      <td>NaN</td>\n",
       "      <td>Heavyweight</td>\n",
       "    </tr>\n",
       "    <tr>\n",
       "      <th>5716</th>\n",
       "      <td>5739</td>\n",
       "      <td>Uwe Blab</td>\n",
       "      <td>1962-03-26</td>\n",
       "      <td>München (Munich)</td>\n",
       "      <td>Bayern</td>\n",
       "      <td>GER</td>\n",
       "      <td>Germany West Germany</td>\n",
       "      <td>218.0</td>\n",
       "      <td>110.0</td>\n",
       "      <td>NaN</td>\n",
       "      <td>Heavyweight</td>\n",
       "    </tr>\n",
       "    <tr>\n",
       "      <th>5781</th>\n",
       "      <td>5804</td>\n",
       "      <td>Tommy Burleson</td>\n",
       "      <td>1952-02-24</td>\n",
       "      <td>Crossnore</td>\n",
       "      <td>North Carolina</td>\n",
       "      <td>USA</td>\n",
       "      <td>United States</td>\n",
       "      <td>223.0</td>\n",
       "      <td>102.0</td>\n",
       "      <td>NaN</td>\n",
       "      <td>Heavyweight</td>\n",
       "    </tr>\n",
       "  </tbody>\n",
       "</table>\n",
       "</div>"
      ],
      "text/plain": [
       "      athlete_id                   name   born_date         born_city  \\\n",
       "5089        5108     Viktor Pankrashkin  1957-06-19   Moskva (Moscow)   \n",
       "5583        5606   Paulinho Villas Boas  1963-01-26         São Paulo   \n",
       "5673        5696         Gunther Behnke  1963-01-19        Leverkusen   \n",
       "5716        5739               Uwe Blab  1962-03-26  München (Munich)   \n",
       "5781        5804         Tommy Burleson  1952-02-24         Crossnore   \n",
       "\n",
       "              born_region born_country                   NOC  height_cm  \\\n",
       "5089               Moskva          RUS          Soviet Union      220.0   \n",
       "5583            São Paulo          BRA                Brazil      217.0   \n",
       "5673  Nordrhein-Westfalen          GER               Germany      221.0   \n",
       "5716               Bayern          GER  Germany West Germany      218.0   \n",
       "5781       North Carolina          USA         United States      223.0   \n",
       "\n",
       "      weight_kg   died_date     Category  \n",
       "5089      112.0  1993-07-24  Heavyweight  \n",
       "5583      106.0         NaN  Heavyweight  \n",
       "5673      114.0         NaN  Heavyweight  \n",
       "5716      110.0         NaN  Heavyweight  \n",
       "5781      102.0         NaN  Heavyweight  "
      ]
     },
     "execution_count": 58,
     "metadata": {},
     "output_type": "execute_result"
    }
   ],
   "source": [
    "# filter the athletes with a height higher than 215 cm\n",
    "bios_sample.loc[bios_sample['height_cm'] > 215].head()"
   ]
  },
  {
   "cell_type": "code",
   "execution_count": 59,
   "metadata": {
    "ExecuteTime": {
     "end_time": "2025-03-16T09:52:33.007348Z",
     "start_time": "2025-03-16T09:52:32.990350Z"
    },
    "colab": {
     "base_uri": "https://localhost:8080/",
     "height": 206
    },
    "executionInfo": {
     "elapsed": 67,
     "status": "ok",
     "timestamp": 1742117675218,
     "user": {
      "displayName": "Pacurar Sebastian",
      "userId": "15686393619609976384"
     },
     "user_tz": -120
    },
    "id": "aTWpJZQ6cmxe",
    "outputId": "8ad26f3f-0e88-4d5a-be45-981e4edd9122"
   },
   "outputs": [
    {
     "data": {
      "text/html": [
       "<div>\n",
       "<style scoped>\n",
       "    .dataframe tbody tr th:only-of-type {\n",
       "        vertical-align: middle;\n",
       "    }\n",
       "\n",
       "    .dataframe tbody tr th {\n",
       "        vertical-align: top;\n",
       "    }\n",
       "\n",
       "    .dataframe thead th {\n",
       "        text-align: right;\n",
       "    }\n",
       "</style>\n",
       "<table border=\"1\" class=\"dataframe\">\n",
       "  <thead>\n",
       "    <tr style=\"text-align: right;\">\n",
       "      <th></th>\n",
       "      <th>name</th>\n",
       "      <th>height_cm</th>\n",
       "    </tr>\n",
       "  </thead>\n",
       "  <tbody>\n",
       "    <tr>\n",
       "      <th>5089</th>\n",
       "      <td>Viktor Pankrashkin</td>\n",
       "      <td>220.0</td>\n",
       "    </tr>\n",
       "    <tr>\n",
       "      <th>5583</th>\n",
       "      <td>Paulinho Villas Boas</td>\n",
       "      <td>217.0</td>\n",
       "    </tr>\n",
       "    <tr>\n",
       "      <th>5673</th>\n",
       "      <td>Gunther Behnke</td>\n",
       "      <td>221.0</td>\n",
       "    </tr>\n",
       "    <tr>\n",
       "      <th>5716</th>\n",
       "      <td>Uwe Blab</td>\n",
       "      <td>218.0</td>\n",
       "    </tr>\n",
       "    <tr>\n",
       "      <th>5781</th>\n",
       "      <td>Tommy Burleson</td>\n",
       "      <td>223.0</td>\n",
       "    </tr>\n",
       "  </tbody>\n",
       "</table>\n",
       "</div>"
      ],
      "text/plain": [
       "                       name  height_cm\n",
       "5089     Viktor Pankrashkin      220.0\n",
       "5583   Paulinho Villas Boas      217.0\n",
       "5673         Gunther Behnke      221.0\n",
       "5716               Uwe Blab      218.0\n",
       "5781         Tommy Burleson      223.0"
      ]
     },
     "execution_count": 59,
     "metadata": {},
     "output_type": "execute_result"
    }
   ],
   "source": [
    "# filter the rows based on height_cm, and grab only the name and height_cm columns\n",
    "bios_sample.loc[bios_sample[\"height_cm\"] > 215, [\"name\", \"height_cm\"]].head()"
   ]
  },
  {
   "cell_type": "code",
   "execution_count": 60,
   "metadata": {
    "ExecuteTime": {
     "end_time": "2025-03-16T09:52:33.145572Z",
     "start_time": "2025-03-16T09:52:33.137475Z"
    },
    "colab": {
     "base_uri": "https://localhost:8080/",
     "height": 206
    },
    "executionInfo": {
     "elapsed": 9,
     "status": "ok",
     "timestamp": 1742117675219,
     "user": {
      "displayName": "Pacurar Sebastian",
      "userId": "15686393619609976384"
     },
     "user_tz": -120
    },
    "id": "rJ_HHfTDcpwR",
    "outputId": "caa63acb-ebb7-429a-c034-97a06d71691d"
   },
   "outputs": [
    {
     "data": {
      "text/html": [
       "<div>\n",
       "<style scoped>\n",
       "    .dataframe tbody tr th:only-of-type {\n",
       "        vertical-align: middle;\n",
       "    }\n",
       "\n",
       "    .dataframe tbody tr th {\n",
       "        vertical-align: top;\n",
       "    }\n",
       "\n",
       "    .dataframe thead th {\n",
       "        text-align: right;\n",
       "    }\n",
       "</style>\n",
       "<table border=\"1\" class=\"dataframe\">\n",
       "  <thead>\n",
       "    <tr style=\"text-align: right;\">\n",
       "      <th></th>\n",
       "      <th>name</th>\n",
       "      <th>height_cm</th>\n",
       "    </tr>\n",
       "  </thead>\n",
       "  <tbody>\n",
       "    <tr>\n",
       "      <th>5089</th>\n",
       "      <td>Viktor Pankrashkin</td>\n",
       "      <td>220.0</td>\n",
       "    </tr>\n",
       "    <tr>\n",
       "      <th>5583</th>\n",
       "      <td>Paulinho Villas Boas</td>\n",
       "      <td>217.0</td>\n",
       "    </tr>\n",
       "    <tr>\n",
       "      <th>5673</th>\n",
       "      <td>Gunther Behnke</td>\n",
       "      <td>221.0</td>\n",
       "    </tr>\n",
       "    <tr>\n",
       "      <th>5716</th>\n",
       "      <td>Uwe Blab</td>\n",
       "      <td>218.0</td>\n",
       "    </tr>\n",
       "    <tr>\n",
       "      <th>5781</th>\n",
       "      <td>Tommy Burleson</td>\n",
       "      <td>223.0</td>\n",
       "    </tr>\n",
       "  </tbody>\n",
       "</table>\n",
       "</div>"
      ],
      "text/plain": [
       "                       name  height_cm\n",
       "5089     Viktor Pankrashkin      220.0\n",
       "5583   Paulinho Villas Boas      217.0\n",
       "5673         Gunther Behnke      221.0\n",
       "5716               Uwe Blab      218.0\n",
       "5781         Tommy Burleson      223.0"
      ]
     },
     "execution_count": 60,
     "metadata": {},
     "output_type": "execute_result"
    }
   ],
   "source": [
    "# same as the above but using binary syntax (bracket syntax). it's just a syntactic sugar for the above\n",
    "bios_sample[(bios_sample[\"height_cm\"] > 215)][[\"name\", \"height_cm\"]].head()"
   ]
  },
  {
   "cell_type": "code",
   "execution_count": 61,
   "metadata": {
    "ExecuteTime": {
     "end_time": "2025-03-16T09:52:33.477067Z",
     "start_time": "2025-03-16T09:52:33.461067Z"
    },
    "colab": {
     "base_uri": "https://localhost:8080/",
     "height": 175
    },
    "executionInfo": {
     "elapsed": 33,
     "status": "ok",
     "timestamp": 1742117675252,
     "user": {
      "displayName": "Pacurar Sebastian",
      "userId": "15686393619609976384"
     },
     "user_tz": -120
    },
    "id": "aIyvjwq_crEL",
    "outputId": "c36355e0-c5db-470b-a6ce-1e175b16b021"
   },
   "outputs": [
    {
     "data": {
      "text/html": [
       "<div>\n",
       "<style scoped>\n",
       "    .dataframe tbody tr th:only-of-type {\n",
       "        vertical-align: middle;\n",
       "    }\n",
       "\n",
       "    .dataframe tbody tr th {\n",
       "        vertical-align: top;\n",
       "    }\n",
       "\n",
       "    .dataframe thead th {\n",
       "        text-align: right;\n",
       "    }\n",
       "</style>\n",
       "<table border=\"1\" class=\"dataframe\">\n",
       "  <thead>\n",
       "    <tr style=\"text-align: right;\">\n",
       "      <th></th>\n",
       "      <th>name</th>\n",
       "      <th>height_cm</th>\n",
       "      <th>born_city</th>\n",
       "    </tr>\n",
       "  </thead>\n",
       "  <tbody>\n",
       "    <tr>\n",
       "      <th>5781</th>\n",
       "      <td>Tommy Burleson</td>\n",
       "      <td>223.0</td>\n",
       "      <td>Crossnore</td>\n",
       "    </tr>\n",
       "    <tr>\n",
       "      <th>6722</th>\n",
       "      <td>Shaquille O'Neal</td>\n",
       "      <td>216.0</td>\n",
       "      <td>Newark</td>\n",
       "    </tr>\n",
       "    <tr>\n",
       "      <th>6937</th>\n",
       "      <td>David Robinson</td>\n",
       "      <td>216.0</td>\n",
       "      <td>Key West</td>\n",
       "    </tr>\n",
       "    <tr>\n",
       "      <th>123850</th>\n",
       "      <td>Tyson Chandler</td>\n",
       "      <td>216.0</td>\n",
       "      <td>Hanford</td>\n",
       "    </tr>\n",
       "  </tbody>\n",
       "</table>\n",
       "</div>"
      ],
      "text/plain": [
       "                    name  height_cm  born_city\n",
       "5781      Tommy Burleson      223.0  Crossnore\n",
       "6722    Shaquille O'Neal      216.0     Newark\n",
       "6937      David Robinson      216.0   Key West\n",
       "123850    Tyson Chandler      216.0    Hanford"
      ]
     },
     "execution_count": 61,
     "metadata": {},
     "output_type": "execute_result"
    }
   ],
   "source": [
    "# return the entries (name, height and born_city) with height_cm greater than 215 who were born in USA country\n",
    "bios_sample[(bios_sample[\"height_cm\"] > 215) & (bios_sample[\"born_country\"] == \"USA\")][[\"name\", \"height_cm\", \"born_city\"]].head()"
   ]
  },
  {
   "cell_type": "code",
   "execution_count": 62,
   "metadata": {
    "ExecuteTime": {
     "end_time": "2025-03-16T09:52:33.704772Z",
     "start_time": "2025-03-16T09:52:33.661988Z"
    },
    "colab": {
     "base_uri": "https://localhost:8080/",
     "height": 206
    },
    "executionInfo": {
     "elapsed": 95,
     "status": "ok",
     "timestamp": 1742117675348,
     "user": {
      "displayName": "Pacurar Sebastian",
      "userId": "15686393619609976384"
     },
     "user_tz": -120
    },
    "id": "UPRuV-ifcsa5",
    "outputId": "59f959d2-9180-4773-9e90-f42cb7e4cce5"
   },
   "outputs": [
    {
     "data": {
      "text/html": [
       "<div>\n",
       "<style scoped>\n",
       "    .dataframe tbody tr th:only-of-type {\n",
       "        vertical-align: middle;\n",
       "    }\n",
       "\n",
       "    .dataframe tbody tr th {\n",
       "        vertical-align: top;\n",
       "    }\n",
       "\n",
       "    .dataframe thead th {\n",
       "        text-align: right;\n",
       "    }\n",
       "</style>\n",
       "<table border=\"1\" class=\"dataframe\">\n",
       "  <thead>\n",
       "    <tr style=\"text-align: right;\">\n",
       "      <th></th>\n",
       "      <th>athlete_id</th>\n",
       "      <th>name</th>\n",
       "      <th>born_date</th>\n",
       "      <th>born_city</th>\n",
       "      <th>born_region</th>\n",
       "      <th>born_country</th>\n",
       "      <th>NOC</th>\n",
       "      <th>height_cm</th>\n",
       "      <th>weight_kg</th>\n",
       "      <th>died_date</th>\n",
       "      <th>Category</th>\n",
       "    </tr>\n",
       "  </thead>\n",
       "  <tbody>\n",
       "    <tr>\n",
       "      <th>1897</th>\n",
       "      <td>1907</td>\n",
       "      <td>Keith Hanlon</td>\n",
       "      <td>1966-09-01</td>\n",
       "      <td>NaN</td>\n",
       "      <td>NaN</td>\n",
       "      <td>NaN</td>\n",
       "      <td>Ireland</td>\n",
       "      <td>NaN</td>\n",
       "      <td>NaN</td>\n",
       "      <td>NaN</td>\n",
       "      <td>Heavyweight</td>\n",
       "    </tr>\n",
       "    <tr>\n",
       "      <th>3505</th>\n",
       "      <td>3517</td>\n",
       "      <td>Keith Wallace</td>\n",
       "      <td>1961-03-29</td>\n",
       "      <td>Preston</td>\n",
       "      <td>England</td>\n",
       "      <td>GBR</td>\n",
       "      <td>Great Britain</td>\n",
       "      <td>165.0</td>\n",
       "      <td>51.0</td>\n",
       "      <td>1999-12-31</td>\n",
       "      <td>Lightweight</td>\n",
       "    </tr>\n",
       "    <tr>\n",
       "      <th>6228</th>\n",
       "      <td>6255</td>\n",
       "      <td>Keith Hartley</td>\n",
       "      <td>1940-10-15</td>\n",
       "      <td>Vancouver</td>\n",
       "      <td>British Columbia</td>\n",
       "      <td>CAN</td>\n",
       "      <td>Canada</td>\n",
       "      <td>200.0</td>\n",
       "      <td>85.0</td>\n",
       "      <td>NaN</td>\n",
       "      <td>Heavyweight</td>\n",
       "    </tr>\n",
       "    <tr>\n",
       "      <th>8898</th>\n",
       "      <td>8946</td>\n",
       "      <td>Keith Mwila</td>\n",
       "      <td>1966-01-01</td>\n",
       "      <td>NaN</td>\n",
       "      <td>NaN</td>\n",
       "      <td>NaN</td>\n",
       "      <td>Zambia</td>\n",
       "      <td>NaN</td>\n",
       "      <td>NaN</td>\n",
       "      <td>1993-01-09</td>\n",
       "      <td>Heavyweight</td>\n",
       "    </tr>\n",
       "    <tr>\n",
       "      <th>12053</th>\n",
       "      <td>12118</td>\n",
       "      <td>Keith Hervey</td>\n",
       "      <td>1898-11-03</td>\n",
       "      <td>Fulham</td>\n",
       "      <td>England</td>\n",
       "      <td>GBR</td>\n",
       "      <td>Great Britain</td>\n",
       "      <td>NaN</td>\n",
       "      <td>NaN</td>\n",
       "      <td>1973-02-22</td>\n",
       "      <td>Heavyweight</td>\n",
       "    </tr>\n",
       "  </tbody>\n",
       "</table>\n",
       "</div>"
      ],
      "text/plain": [
       "       athlete_id           name   born_date  born_city       born_region  \\\n",
       "1897         1907   Keith Hanlon  1966-09-01        NaN               NaN   \n",
       "3505         3517  Keith Wallace  1961-03-29    Preston           England   \n",
       "6228         6255  Keith Hartley  1940-10-15  Vancouver  British Columbia   \n",
       "8898         8946    Keith Mwila  1966-01-01        NaN               NaN   \n",
       "12053       12118   Keith Hervey  1898-11-03     Fulham           England   \n",
       "\n",
       "      born_country            NOC  height_cm  weight_kg   died_date  \\\n",
       "1897           NaN        Ireland        NaN        NaN         NaN   \n",
       "3505           GBR  Great Britain      165.0       51.0  1999-12-31   \n",
       "6228           CAN         Canada      200.0       85.0         NaN   \n",
       "8898           NaN         Zambia        NaN        NaN  1993-01-09   \n",
       "12053          GBR  Great Britain        NaN        NaN  1973-02-22   \n",
       "\n",
       "          Category  \n",
       "1897   Heavyweight  \n",
       "3505   Lightweight  \n",
       "6228   Heavyweight  \n",
       "8898   Heavyweight  \n",
       "12053  Heavyweight  "
      ]
     },
     "execution_count": 62,
     "metadata": {},
     "output_type": "execute_result"
    }
   ],
   "source": [
    "# return the entries whose name column starts with \"Keith\"\n",
    "#   str returns the string property of a data frame field\n",
    "bios_sample[bios_sample[\"name\"].str.contains('Keith')].head()"
   ]
  },
  {
   "cell_type": "code",
   "execution_count": 63,
   "metadata": {
    "ExecuteTime": {
     "end_time": "2025-03-16T09:52:34.063278Z",
     "start_time": "2025-03-16T09:52:33.997777Z"
    },
    "colab": {
     "base_uri": "https://localhost:8080/",
     "height": 206
    },
    "executionInfo": {
     "elapsed": 131,
     "status": "ok",
     "timestamp": 1742117675480,
     "user": {
      "displayName": "Pacurar Sebastian",
      "userId": "15686393619609976384"
     },
     "user_tz": -120
    },
    "id": "Ybb3npBAcv07",
    "outputId": "995b0b15-0f07-4bd1-a5f4-93f337997f94"
   },
   "outputs": [
    {
     "data": {
      "text/html": [
       "<div>\n",
       "<style scoped>\n",
       "    .dataframe tbody tr th:only-of-type {\n",
       "        vertical-align: middle;\n",
       "    }\n",
       "\n",
       "    .dataframe tbody tr th {\n",
       "        vertical-align: top;\n",
       "    }\n",
       "\n",
       "    .dataframe thead th {\n",
       "        text-align: right;\n",
       "    }\n",
       "</style>\n",
       "<table border=\"1\" class=\"dataframe\">\n",
       "  <thead>\n",
       "    <tr style=\"text-align: right;\">\n",
       "      <th></th>\n",
       "      <th>athlete_id</th>\n",
       "      <th>name</th>\n",
       "      <th>born_date</th>\n",
       "      <th>born_city</th>\n",
       "      <th>born_region</th>\n",
       "      <th>born_country</th>\n",
       "      <th>NOC</th>\n",
       "      <th>height_cm</th>\n",
       "      <th>weight_kg</th>\n",
       "      <th>died_date</th>\n",
       "      <th>Category</th>\n",
       "    </tr>\n",
       "  </thead>\n",
       "  <tbody>\n",
       "    <tr>\n",
       "      <th>1897</th>\n",
       "      <td>1907</td>\n",
       "      <td>Keith Hanlon</td>\n",
       "      <td>1966-09-01</td>\n",
       "      <td>NaN</td>\n",
       "      <td>NaN</td>\n",
       "      <td>NaN</td>\n",
       "      <td>Ireland</td>\n",
       "      <td>NaN</td>\n",
       "      <td>NaN</td>\n",
       "      <td>NaN</td>\n",
       "      <td>Heavyweight</td>\n",
       "    </tr>\n",
       "    <tr>\n",
       "      <th>3505</th>\n",
       "      <td>3517</td>\n",
       "      <td>Keith Wallace</td>\n",
       "      <td>1961-03-29</td>\n",
       "      <td>Preston</td>\n",
       "      <td>England</td>\n",
       "      <td>GBR</td>\n",
       "      <td>Great Britain</td>\n",
       "      <td>165.0</td>\n",
       "      <td>51.0</td>\n",
       "      <td>1999-12-31</td>\n",
       "      <td>Lightweight</td>\n",
       "    </tr>\n",
       "    <tr>\n",
       "      <th>6228</th>\n",
       "      <td>6255</td>\n",
       "      <td>Keith Hartley</td>\n",
       "      <td>1940-10-15</td>\n",
       "      <td>Vancouver</td>\n",
       "      <td>British Columbia</td>\n",
       "      <td>CAN</td>\n",
       "      <td>Canada</td>\n",
       "      <td>200.0</td>\n",
       "      <td>85.0</td>\n",
       "      <td>NaN</td>\n",
       "      <td>Heavyweight</td>\n",
       "    </tr>\n",
       "    <tr>\n",
       "      <th>8898</th>\n",
       "      <td>8946</td>\n",
       "      <td>Keith Mwila</td>\n",
       "      <td>1966-01-01</td>\n",
       "      <td>NaN</td>\n",
       "      <td>NaN</td>\n",
       "      <td>NaN</td>\n",
       "      <td>Zambia</td>\n",
       "      <td>NaN</td>\n",
       "      <td>NaN</td>\n",
       "      <td>1993-01-09</td>\n",
       "      <td>Heavyweight</td>\n",
       "    </tr>\n",
       "    <tr>\n",
       "      <th>12053</th>\n",
       "      <td>12118</td>\n",
       "      <td>Keith Hervey</td>\n",
       "      <td>1898-11-03</td>\n",
       "      <td>Fulham</td>\n",
       "      <td>England</td>\n",
       "      <td>GBR</td>\n",
       "      <td>Great Britain</td>\n",
       "      <td>NaN</td>\n",
       "      <td>NaN</td>\n",
       "      <td>1973-02-22</td>\n",
       "      <td>Heavyweight</td>\n",
       "    </tr>\n",
       "  </tbody>\n",
       "</table>\n",
       "</div>"
      ],
      "text/plain": [
       "       athlete_id           name   born_date  born_city       born_region  \\\n",
       "1897         1907   Keith Hanlon  1966-09-01        NaN               NaN   \n",
       "3505         3517  Keith Wallace  1961-03-29    Preston           England   \n",
       "6228         6255  Keith Hartley  1940-10-15  Vancouver  British Columbia   \n",
       "8898         8946    Keith Mwila  1966-01-01        NaN               NaN   \n",
       "12053       12118   Keith Hervey  1898-11-03     Fulham           England   \n",
       "\n",
       "      born_country            NOC  height_cm  weight_kg   died_date  \\\n",
       "1897           NaN        Ireland        NaN        NaN         NaN   \n",
       "3505           GBR  Great Britain      165.0       51.0  1999-12-31   \n",
       "6228           CAN         Canada      200.0       85.0         NaN   \n",
       "8898           NaN         Zambia        NaN        NaN  1993-01-09   \n",
       "12053          GBR  Great Britain        NaN        NaN  1973-02-22   \n",
       "\n",
       "          Category  \n",
       "1897   Heavyweight  \n",
       "3505   Lightweight  \n",
       "6228   Heavyweight  \n",
       "8898   Heavyweight  \n",
       "12053  Heavyweight  "
      ]
     },
     "execution_count": 63,
     "metadata": {},
     "output_type": "execute_result"
    }
   ],
   "source": [
    "# return the entries whose name column starts with \"keith\", and ignore case sensitivity\n",
    "bios_sample[bios_sample[\"name\"].str.contains(\"keith\", case=False)].head()"
   ]
  },
  {
   "cell_type": "code",
   "execution_count": 64,
   "metadata": {
    "ExecuteTime": {
     "end_time": "2025-03-16T09:52:34.356253Z",
     "start_time": "2025-03-16T09:52:34.249565Z"
    },
    "colab": {
     "base_uri": "https://localhost:8080/",
     "height": 206
    },
    "executionInfo": {
     "elapsed": 269,
     "status": "ok",
     "timestamp": 1742117675748,
     "user": {
      "displayName": "Pacurar Sebastian",
      "userId": "15686393619609976384"
     },
     "user_tz": -120
    },
    "id": "EdHP3Kbtcwk_",
    "outputId": "fbee42df-ceef-4adc-d555-61346ed5e9d1"
   },
   "outputs": [
    {
     "data": {
      "text/html": [
       "<div>\n",
       "<style scoped>\n",
       "    .dataframe tbody tr th:only-of-type {\n",
       "        vertical-align: middle;\n",
       "    }\n",
       "\n",
       "    .dataframe tbody tr th {\n",
       "        vertical-align: top;\n",
       "    }\n",
       "\n",
       "    .dataframe thead th {\n",
       "        text-align: right;\n",
       "    }\n",
       "</style>\n",
       "<table border=\"1\" class=\"dataframe\">\n",
       "  <thead>\n",
       "    <tr style=\"text-align: right;\">\n",
       "      <th></th>\n",
       "      <th>athlete_id</th>\n",
       "      <th>name</th>\n",
       "      <th>born_date</th>\n",
       "      <th>born_city</th>\n",
       "      <th>born_region</th>\n",
       "      <th>born_country</th>\n",
       "      <th>NOC</th>\n",
       "      <th>height_cm</th>\n",
       "      <th>weight_kg</th>\n",
       "      <th>died_date</th>\n",
       "      <th>Category</th>\n",
       "    </tr>\n",
       "  </thead>\n",
       "  <tbody>\n",
       "    <tr>\n",
       "      <th>6</th>\n",
       "      <td>7</td>\n",
       "      <td>Patrick Chila</td>\n",
       "      <td>1969-11-27</td>\n",
       "      <td>Ris-Orangis</td>\n",
       "      <td>Essonne</td>\n",
       "      <td>FRA</td>\n",
       "      <td>France</td>\n",
       "      <td>180.0</td>\n",
       "      <td>73.0</td>\n",
       "      <td>NaN</td>\n",
       "      <td>Middleweight</td>\n",
       "    </tr>\n",
       "    <tr>\n",
       "      <th>119</th>\n",
       "      <td>120</td>\n",
       "      <td>Patrick Wheatley</td>\n",
       "      <td>1899-01-20</td>\n",
       "      <td>Vryheid</td>\n",
       "      <td>KwaZulu-Natal</td>\n",
       "      <td>RSA</td>\n",
       "      <td>Great Britain</td>\n",
       "      <td>NaN</td>\n",
       "      <td>NaN</td>\n",
       "      <td>1967-11-05</td>\n",
       "      <td>Heavyweight</td>\n",
       "    </tr>\n",
       "    <tr>\n",
       "      <th>319</th>\n",
       "      <td>320</td>\n",
       "      <td>Patrick De Koning</td>\n",
       "      <td>1961-04-23</td>\n",
       "      <td>Dendermonde</td>\n",
       "      <td>Oost-Vlaanderen</td>\n",
       "      <td>BEL</td>\n",
       "      <td>Belgium</td>\n",
       "      <td>178.0</td>\n",
       "      <td>92.0</td>\n",
       "      <td>NaN</td>\n",
       "      <td>Heavyweight</td>\n",
       "    </tr>\n",
       "    <tr>\n",
       "      <th>1897</th>\n",
       "      <td>1907</td>\n",
       "      <td>Keith Hanlon</td>\n",
       "      <td>1966-09-01</td>\n",
       "      <td>NaN</td>\n",
       "      <td>NaN</td>\n",
       "      <td>NaN</td>\n",
       "      <td>Ireland</td>\n",
       "      <td>NaN</td>\n",
       "      <td>NaN</td>\n",
       "      <td>NaN</td>\n",
       "      <td>Heavyweight</td>\n",
       "    </tr>\n",
       "    <tr>\n",
       "      <th>2115</th>\n",
       "      <td>2125</td>\n",
       "      <td>Patrick Jopp</td>\n",
       "      <td>1962-01-08</td>\n",
       "      <td>NaN</td>\n",
       "      <td>NaN</td>\n",
       "      <td>NaN</td>\n",
       "      <td>Switzerland</td>\n",
       "      <td>176.0</td>\n",
       "      <td>67.0</td>\n",
       "      <td>NaN</td>\n",
       "      <td>Middleweight</td>\n",
       "    </tr>\n",
       "  </tbody>\n",
       "</table>\n",
       "</div>"
      ],
      "text/plain": [
       "      athlete_id               name   born_date    born_city      born_region  \\\n",
       "6              7      Patrick Chila  1969-11-27  Ris-Orangis          Essonne   \n",
       "119          120   Patrick Wheatley  1899-01-20      Vryheid    KwaZulu-Natal   \n",
       "319          320  Patrick De Koning  1961-04-23  Dendermonde  Oost-Vlaanderen   \n",
       "1897        1907       Keith Hanlon  1966-09-01          NaN              NaN   \n",
       "2115        2125       Patrick Jopp  1962-01-08          NaN              NaN   \n",
       "\n",
       "     born_country            NOC  height_cm  weight_kg   died_date  \\\n",
       "6             FRA         France      180.0       73.0         NaN   \n",
       "119           RSA  Great Britain        NaN        NaN  1967-11-05   \n",
       "319           BEL        Belgium      178.0       92.0         NaN   \n",
       "1897          NaN        Ireland        NaN        NaN         NaN   \n",
       "2115          NaN    Switzerland      176.0       67.0         NaN   \n",
       "\n",
       "          Category  \n",
       "6     Middleweight  \n",
       "119    Heavyweight  \n",
       "319    Heavyweight  \n",
       "1897   Heavyweight  \n",
       "2115  Middleweight  "
      ]
     },
     "execution_count": 64,
     "metadata": {},
     "output_type": "execute_result"
    }
   ],
   "source": [
    "# return the entries whose name column starts with \"keith\" or \"patrick\", and ignore case sensitivity\n",
    "bios_sample[bios_sample[\"name\"].str.contains(\"keith|patrick\", case=False)].head()"
   ]
  },
  {
   "cell_type": "code",
   "execution_count": 65,
   "metadata": {
    "ExecuteTime": {
     "end_time": "2025-03-16T09:52:34.679579Z",
     "start_time": "2025-03-16T09:52:34.620455Z"
    },
    "colab": {
     "base_uri": "https://localhost:8080/",
     "height": 206
    },
    "executionInfo": {
     "elapsed": 93,
     "status": "ok",
     "timestamp": 1742117675806,
     "user": {
      "displayName": "Pacurar Sebastian",
      "userId": "15686393619609976384"
     },
     "user_tz": -120
    },
    "id": "8ZPoTqrgcytC",
    "outputId": "4eac954f-be3b-48b1-db13-77bad6660595"
   },
   "outputs": [
    {
     "data": {
      "text/html": [
       "<div>\n",
       "<style scoped>\n",
       "    .dataframe tbody tr th:only-of-type {\n",
       "        vertical-align: middle;\n",
       "    }\n",
       "\n",
       "    .dataframe tbody tr th {\n",
       "        vertical-align: top;\n",
       "    }\n",
       "\n",
       "    .dataframe thead th {\n",
       "        text-align: right;\n",
       "    }\n",
       "</style>\n",
       "<table border=\"1\" class=\"dataframe\">\n",
       "  <thead>\n",
       "    <tr style=\"text-align: right;\">\n",
       "      <th></th>\n",
       "      <th>athlete_id</th>\n",
       "      <th>name</th>\n",
       "      <th>born_date</th>\n",
       "      <th>born_city</th>\n",
       "      <th>born_region</th>\n",
       "      <th>born_country</th>\n",
       "      <th>NOC</th>\n",
       "      <th>height_cm</th>\n",
       "      <th>weight_kg</th>\n",
       "      <th>died_date</th>\n",
       "      <th>Category</th>\n",
       "    </tr>\n",
       "  </thead>\n",
       "  <tbody>\n",
       "    <tr>\n",
       "      <th>5</th>\n",
       "      <td>6</td>\n",
       "      <td>Nicolas Chatelain</td>\n",
       "      <td>1970-01-13</td>\n",
       "      <td>Amiens</td>\n",
       "      <td>Somme</td>\n",
       "      <td>FRA</td>\n",
       "      <td>France</td>\n",
       "      <td>181.0</td>\n",
       "      <td>70.0</td>\n",
       "      <td>NaN</td>\n",
       "      <td>Middleweight</td>\n",
       "    </tr>\n",
       "    <tr>\n",
       "      <th>10</th>\n",
       "      <td>11</td>\n",
       "      <td>Élie, Comte de Lastours</td>\n",
       "      <td>1874-08-12</td>\n",
       "      <td>Orgeval</td>\n",
       "      <td>Yvelines</td>\n",
       "      <td>FRA</td>\n",
       "      <td>France</td>\n",
       "      <td>NaN</td>\n",
       "      <td>NaN</td>\n",
       "      <td>1932-11-18</td>\n",
       "      <td>Heavyweight</td>\n",
       "    </tr>\n",
       "    <tr>\n",
       "      <th>17</th>\n",
       "      <td>18</td>\n",
       "      <td>Jean-Philippe Gatien</td>\n",
       "      <td>1968-10-16</td>\n",
       "      <td>Alès</td>\n",
       "      <td>Gard</td>\n",
       "      <td>FRA</td>\n",
       "      <td>France</td>\n",
       "      <td>178.0</td>\n",
       "      <td>73.0</td>\n",
       "      <td>NaN</td>\n",
       "      <td>Middleweight</td>\n",
       "    </tr>\n",
       "    <tr>\n",
       "      <th>35</th>\n",
       "      <td>36</td>\n",
       "      <td>Étienne Thobois</td>\n",
       "      <td>1967-09-20</td>\n",
       "      <td>Amiens</td>\n",
       "      <td>Somme</td>\n",
       "      <td>FRA</td>\n",
       "      <td>France</td>\n",
       "      <td>186.0</td>\n",
       "      <td>78.0</td>\n",
       "      <td>NaN</td>\n",
       "      <td>Heavyweight</td>\n",
       "    </tr>\n",
       "    <tr>\n",
       "      <th>40</th>\n",
       "      <td>41</td>\n",
       "      <td>Julie Bradbury</td>\n",
       "      <td>1967-02-12</td>\n",
       "      <td>Oxford</td>\n",
       "      <td>England</td>\n",
       "      <td>GBR</td>\n",
       "      <td>Great Britain</td>\n",
       "      <td>175.0</td>\n",
       "      <td>64.0</td>\n",
       "      <td>NaN</td>\n",
       "      <td>Middleweight</td>\n",
       "    </tr>\n",
       "  </tbody>\n",
       "</table>\n",
       "</div>"
      ],
      "text/plain": [
       "    athlete_id                     name   born_date born_city born_region  \\\n",
       "5            6        Nicolas Chatelain  1970-01-13    Amiens       Somme   \n",
       "10          11  Élie, Comte de Lastours  1874-08-12   Orgeval    Yvelines   \n",
       "17          18     Jean-Philippe Gatien  1968-10-16      Alès        Gard   \n",
       "35          36          Étienne Thobois  1967-09-20    Amiens       Somme   \n",
       "40          41           Julie Bradbury  1967-02-12    Oxford     England   \n",
       "\n",
       "   born_country            NOC  height_cm  weight_kg   died_date      Category  \n",
       "5           FRA         France      181.0       70.0         NaN  Middleweight  \n",
       "10          FRA         France        NaN        NaN  1932-11-18   Heavyweight  \n",
       "17          FRA         France      178.0       73.0         NaN  Middleweight  \n",
       "35          FRA         France      186.0       78.0         NaN   Heavyweight  \n",
       "40          GBR  Great Britain      175.0       64.0         NaN  Middleweight  "
      ]
     },
     "execution_count": 65,
     "metadata": {},
     "output_type": "execute_result"
    }
   ],
   "source": [
    "# find athletes born in cities that start with a vowel\n",
    "bios_sample[bios_sample[\"born_city\"].str.contains(r\"^[AEIOUY]\", na=False)].head()"
   ]
  },
  {
   "cell_type": "code",
   "execution_count": 66,
   "metadata": {
    "ExecuteTime": {
     "end_time": "2025-03-16T09:52:35.003391Z",
     "start_time": "2025-03-16T09:52:34.943311Z"
    },
    "colab": {
     "base_uri": "https://localhost:8080/",
     "height": 206
    },
    "executionInfo": {
     "elapsed": 83,
     "status": "ok",
     "timestamp": 1742117675890,
     "user": {
      "displayName": "Pacurar Sebastian",
      "userId": "15686393619609976384"
     },
     "user_tz": -120
    },
    "id": "f0xbOb88c0mj",
    "outputId": "f22d2bd0-832a-4610-df77-236a4d507b8d"
   },
   "outputs": [
    {
     "data": {
      "text/html": [
       "<div>\n",
       "<style scoped>\n",
       "    .dataframe tbody tr th:only-of-type {\n",
       "        vertical-align: middle;\n",
       "    }\n",
       "\n",
       "    .dataframe tbody tr th {\n",
       "        vertical-align: top;\n",
       "    }\n",
       "\n",
       "    .dataframe thead th {\n",
       "        text-align: right;\n",
       "    }\n",
       "</style>\n",
       "<table border=\"1\" class=\"dataframe\">\n",
       "  <thead>\n",
       "    <tr style=\"text-align: right;\">\n",
       "      <th></th>\n",
       "      <th>athlete_id</th>\n",
       "      <th>name</th>\n",
       "      <th>born_date</th>\n",
       "      <th>born_city</th>\n",
       "      <th>born_region</th>\n",
       "      <th>born_country</th>\n",
       "      <th>NOC</th>\n",
       "      <th>height_cm</th>\n",
       "      <th>weight_kg</th>\n",
       "      <th>died_date</th>\n",
       "      <th>Category</th>\n",
       "    </tr>\n",
       "  </thead>\n",
       "  <tbody>\n",
       "    <tr>\n",
       "      <th>37</th>\n",
       "      <td>38</td>\n",
       "      <td>Helen Aitchison</td>\n",
       "      <td>1881-12-06</td>\n",
       "      <td>Sunderland</td>\n",
       "      <td>England</td>\n",
       "      <td>GBR</td>\n",
       "      <td>Great Britain</td>\n",
       "      <td>NaN</td>\n",
       "      <td>NaN</td>\n",
       "      <td>1947-05-26</td>\n",
       "      <td>Heavyweight</td>\n",
       "    </tr>\n",
       "    <tr>\n",
       "      <th>92</th>\n",
       "      <td>93</td>\n",
       "      <td>Anne Gibson</td>\n",
       "      <td>1968-10-26</td>\n",
       "      <td>Dumfries</td>\n",
       "      <td>Scotland</td>\n",
       "      <td>GBR</td>\n",
       "      <td>Great Britain</td>\n",
       "      <td>173.0</td>\n",
       "      <td>70.0</td>\n",
       "      <td>NaN</td>\n",
       "      <td>Middleweight</td>\n",
       "    </tr>\n",
       "    <tr>\n",
       "      <th>107</th>\n",
       "      <td>108</td>\n",
       "      <td>Anders Nielsen</td>\n",
       "      <td>1967-02-24</td>\n",
       "      <td>Cape Town</td>\n",
       "      <td>Western Cape</td>\n",
       "      <td>RSA</td>\n",
       "      <td>Great Britain</td>\n",
       "      <td>173.0</td>\n",
       "      <td>70.0</td>\n",
       "      <td>2010-07-29</td>\n",
       "      <td>Middleweight</td>\n",
       "    </tr>\n",
       "    <tr>\n",
       "      <th>113</th>\n",
       "      <td>114</td>\n",
       "      <td>Julian Robertson</td>\n",
       "      <td>1969-10-09</td>\n",
       "      <td>Peterborough</td>\n",
       "      <td>England</td>\n",
       "      <td>GBR</td>\n",
       "      <td>Great Britain</td>\n",
       "      <td>182.0</td>\n",
       "      <td>73.0</td>\n",
       "      <td>NaN</td>\n",
       "      <td>Middleweight</td>\n",
       "    </tr>\n",
       "    <tr>\n",
       "      <th>120</th>\n",
       "      <td>121</td>\n",
       "      <td>Chris Wilkinson</td>\n",
       "      <td>1970-01-05</td>\n",
       "      <td>Southampton</td>\n",
       "      <td>England</td>\n",
       "      <td>GBR</td>\n",
       "      <td>Great Britain</td>\n",
       "      <td>180.0</td>\n",
       "      <td>72.0</td>\n",
       "      <td>NaN</td>\n",
       "      <td>Middleweight</td>\n",
       "    </tr>\n",
       "  </tbody>\n",
       "</table>\n",
       "</div>"
      ],
      "text/plain": [
       "     athlete_id              name   born_date     born_city   born_region  \\\n",
       "37           38   Helen Aitchison  1881-12-06    Sunderland       England   \n",
       "92           93       Anne Gibson  1968-10-26      Dumfries      Scotland   \n",
       "107         108    Anders Nielsen  1967-02-24     Cape Town  Western Cape   \n",
       "113         114  Julian Robertson  1969-10-09  Peterborough       England   \n",
       "120         121   Chris Wilkinson  1970-01-05   Southampton       England   \n",
       "\n",
       "    born_country            NOC  height_cm  weight_kg   died_date  \\\n",
       "37           GBR  Great Britain        NaN        NaN  1947-05-26   \n",
       "92           GBR  Great Britain      173.0       70.0         NaN   \n",
       "107          RSA  Great Britain      173.0       70.0  2010-07-29   \n",
       "113          GBR  Great Britain      182.0       73.0         NaN   \n",
       "120          GBR  Great Britain      180.0       72.0         NaN   \n",
       "\n",
       "         Category  \n",
       "37    Heavyweight  \n",
       "92   Middleweight  \n",
       "107  Middleweight  \n",
       "113  Middleweight  \n",
       "120  Middleweight  "
      ]
     },
     "execution_count": 66,
     "metadata": {},
     "output_type": "execute_result"
    }
   ],
   "source": [
    "# find athletes with names ending in 'son' or 'sen'\n",
    "bios[bios[\"name\"].str.contains(r\"(?:sen$|son$)\", na=False)].head()"
   ]
  },
  {
   "cell_type": "code",
   "execution_count": 67,
   "metadata": {
    "ExecuteTime": {
     "end_time": "2025-03-16T09:52:35.421081Z",
     "start_time": "2025-03-16T09:52:35.332309Z"
    },
    "colab": {
     "base_uri": "https://localhost:8080/",
     "height": 109
    },
    "executionInfo": {
     "elapsed": 168,
     "status": "ok",
     "timestamp": 1742117676059,
     "user": {
      "displayName": "Pacurar Sebastian",
      "userId": "15686393619609976384"
     },
     "user_tz": -120
    },
    "id": "1oWItlV1c066",
    "outputId": "c79d179d-0b59-46a9-d4e2-031fc0848cbe"
   },
   "outputs": [
    {
     "name": "stderr",
     "output_type": "stream",
     "text": [
      "C:\\Users\\pacur\\AppData\\Local\\Temp\\ipykernel_1588\\856822541.py:3: UserWarning: This pattern is interpreted as a regular expression, and has match groups. To actually get the groups, use str.extract.\n",
      "  bios_sample[bios_sample[\"name\"].str.contains(r\"^(.).*\\1$\", na=False)]\n"
     ]
    },
    {
     "data": {
      "text/html": [
       "<div>\n",
       "<style scoped>\n",
       "    .dataframe tbody tr th:only-of-type {\n",
       "        vertical-align: middle;\n",
       "    }\n",
       "\n",
       "    .dataframe tbody tr th {\n",
       "        vertical-align: top;\n",
       "    }\n",
       "\n",
       "    .dataframe thead th {\n",
       "        text-align: right;\n",
       "    }\n",
       "</style>\n",
       "<table border=\"1\" class=\"dataframe\">\n",
       "  <thead>\n",
       "    <tr style=\"text-align: right;\">\n",
       "      <th></th>\n",
       "      <th>athlete_id</th>\n",
       "      <th>name</th>\n",
       "      <th>born_date</th>\n",
       "      <th>born_city</th>\n",
       "      <th>born_region</th>\n",
       "      <th>born_country</th>\n",
       "      <th>NOC</th>\n",
       "      <th>height_cm</th>\n",
       "      <th>weight_kg</th>\n",
       "      <th>died_date</th>\n",
       "      <th>Category</th>\n",
       "    </tr>\n",
       "  </thead>\n",
       "  <tbody>\n",
       "  </tbody>\n",
       "</table>\n",
       "</div>"
      ],
      "text/plain": [
       "Empty DataFrame\n",
       "Columns: [athlete_id, name, born_date, born_city, born_region, born_country, NOC, height_cm, weight_kg, died_date, Category]\n",
       "Index: []"
      ]
     },
     "execution_count": 67,
     "metadata": {},
     "output_type": "execute_result"
    }
   ],
   "source": [
    "# find athletes with names that start and end with the same letter\n",
    "# not working\n",
    "bios_sample[bios_sample[\"name\"].str.contains(r\"^(.).*\\1$\", na=False)]"
   ]
  },
  {
   "cell_type": "code",
   "execution_count": 68,
   "metadata": {
    "ExecuteTime": {
     "end_time": "2025-03-16T09:52:35.634621Z",
     "start_time": "2025-03-16T09:52:35.571603Z"
    },
    "colab": {
     "base_uri": "https://localhost:8080/",
     "height": 206
    },
    "executionInfo": {
     "elapsed": 157,
     "status": "ok",
     "timestamp": 1742117676217,
     "user": {
      "displayName": "Pacurar Sebastian",
      "userId": "15686393619609976384"
     },
     "user_tz": -120
    },
    "id": "IWzZSCQlc2Gh",
    "outputId": "522b567a-c65e-4768-ba2b-6c8243ccfea3"
   },
   "outputs": [
    {
     "data": {
      "text/html": [
       "<div>\n",
       "<style scoped>\n",
       "    .dataframe tbody tr th:only-of-type {\n",
       "        vertical-align: middle;\n",
       "    }\n",
       "\n",
       "    .dataframe tbody tr th {\n",
       "        vertical-align: top;\n",
       "    }\n",
       "\n",
       "    .dataframe thead th {\n",
       "        text-align: right;\n",
       "    }\n",
       "</style>\n",
       "<table border=\"1\" class=\"dataframe\">\n",
       "  <thead>\n",
       "    <tr style=\"text-align: right;\">\n",
       "      <th></th>\n",
       "      <th>athlete_id</th>\n",
       "      <th>name</th>\n",
       "      <th>born_date</th>\n",
       "      <th>born_city</th>\n",
       "      <th>born_region</th>\n",
       "      <th>born_country</th>\n",
       "      <th>NOC</th>\n",
       "      <th>height_cm</th>\n",
       "      <th>weight_kg</th>\n",
       "      <th>died_date</th>\n",
       "      <th>Category</th>\n",
       "    </tr>\n",
       "  </thead>\n",
       "  <tbody>\n",
       "    <tr>\n",
       "      <th>366</th>\n",
       "      <td>367</td>\n",
       "      <td>Vi Muir</td>\n",
       "      <td>1934-11-04</td>\n",
       "      <td>Duncan</td>\n",
       "      <td>British Columbia</td>\n",
       "      <td>CAN</td>\n",
       "      <td>Canada</td>\n",
       "      <td>170.0</td>\n",
       "      <td>NaN</td>\n",
       "      <td>NaN</td>\n",
       "      <td>Heavyweight</td>\n",
       "    </tr>\n",
       "    <tr>\n",
       "      <th>381</th>\n",
       "      <td>382</td>\n",
       "      <td>He Ying</td>\n",
       "      <td>1977-04-17</td>\n",
       "      <td>Siping</td>\n",
       "      <td>Jilin</td>\n",
       "      <td>CHN</td>\n",
       "      <td>People's Republic of China</td>\n",
       "      <td>170.0</td>\n",
       "      <td>68.0</td>\n",
       "      <td>NaN</td>\n",
       "      <td>Lightweight</td>\n",
       "    </tr>\n",
       "    <tr>\n",
       "      <th>394</th>\n",
       "      <td>395</td>\n",
       "      <td>Hao Wei</td>\n",
       "      <td>1968-10-30</td>\n",
       "      <td>NaN</td>\n",
       "      <td>NaN</td>\n",
       "      <td>NaN</td>\n",
       "      <td>People's Republic of China</td>\n",
       "      <td>184.0</td>\n",
       "      <td>70.0</td>\n",
       "      <td>NaN</td>\n",
       "      <td>Middleweight</td>\n",
       "    </tr>\n",
       "    <tr>\n",
       "      <th>646</th>\n",
       "      <td>649</td>\n",
       "      <td>Ding Yi</td>\n",
       "      <td>1959-01-14</td>\n",
       "      <td>Shanghai</td>\n",
       "      <td>Shanghai</td>\n",
       "      <td>CHN</td>\n",
       "      <td>Austria</td>\n",
       "      <td>166.0</td>\n",
       "      <td>68.0</td>\n",
       "      <td>NaN</td>\n",
       "      <td>Lightweight</td>\n",
       "    </tr>\n",
       "    <tr>\n",
       "      <th>776</th>\n",
       "      <td>780</td>\n",
       "      <td>Chen Li</td>\n",
       "      <td>1971-03-13</td>\n",
       "      <td>Xiangtan</td>\n",
       "      <td>Hunan</td>\n",
       "      <td>CHN</td>\n",
       "      <td>People's Republic of China</td>\n",
       "      <td>165.0</td>\n",
       "      <td>60.0</td>\n",
       "      <td>NaN</td>\n",
       "      <td>Lightweight</td>\n",
       "    </tr>\n",
       "  </tbody>\n",
       "</table>\n",
       "</div>"
      ],
      "text/plain": [
       "     athlete_id     name   born_date born_city       born_region born_country  \\\n",
       "366         367  Vi Muir  1934-11-04    Duncan  British Columbia          CAN   \n",
       "381         382  He Ying  1977-04-17    Siping             Jilin          CHN   \n",
       "394         395  Hao Wei  1968-10-30       NaN               NaN          NaN   \n",
       "646         649  Ding Yi  1959-01-14  Shanghai          Shanghai          CHN   \n",
       "776         780  Chen Li  1971-03-13  Xiangtan             Hunan          CHN   \n",
       "\n",
       "                            NOC  height_cm  weight_kg died_date      Category  \n",
       "366                      Canada      170.0        NaN       NaN   Heavyweight  \n",
       "381  People's Republic of China      170.0       68.0       NaN   Lightweight  \n",
       "394  People's Republic of China      184.0       70.0       NaN  Middleweight  \n",
       "646                     Austria      166.0       68.0       NaN   Lightweight  \n",
       "776  People's Republic of China      165.0       60.0       NaN   Lightweight  "
      ]
     },
     "execution_count": 68,
     "metadata": {},
     "output_type": "execute_result"
    }
   ],
   "source": [
    "# find athletes with a born_city that has exactly 7 characters:\n",
    "bios_sample[bios_sample[\"name\"].str.contains(r\"^.{7}$\", na=False)].head()"
   ]
  },
  {
   "cell_type": "code",
   "execution_count": 69,
   "metadata": {
    "ExecuteTime": {
     "end_time": "2025-03-16T09:52:36.151092Z",
     "start_time": "2025-03-16T09:52:36.021145Z"
    },
    "colab": {
     "base_uri": "https://localhost:8080/",
     "height": 206
    },
    "executionInfo": {
     "elapsed": 157,
     "status": "ok",
     "timestamp": 1742117676371,
     "user": {
      "displayName": "Pacurar Sebastian",
      "userId": "15686393619609976384"
     },
     "user_tz": -120
    },
    "id": "dPxwxJEBc4AM",
    "outputId": "29081260-7f61-4bf4-d9a2-09704a5ed8d5"
   },
   "outputs": [
    {
     "data": {
      "text/html": [
       "<div>\n",
       "<style scoped>\n",
       "    .dataframe tbody tr th:only-of-type {\n",
       "        vertical-align: middle;\n",
       "    }\n",
       "\n",
       "    .dataframe tbody tr th {\n",
       "        vertical-align: top;\n",
       "    }\n",
       "\n",
       "    .dataframe thead th {\n",
       "        text-align: right;\n",
       "    }\n",
       "</style>\n",
       "<table border=\"1\" class=\"dataframe\">\n",
       "  <thead>\n",
       "    <tr style=\"text-align: right;\">\n",
       "      <th></th>\n",
       "      <th>athlete_id</th>\n",
       "      <th>name</th>\n",
       "      <th>born_date</th>\n",
       "      <th>born_city</th>\n",
       "      <th>born_region</th>\n",
       "      <th>born_country</th>\n",
       "      <th>NOC</th>\n",
       "      <th>height_cm</th>\n",
       "      <th>weight_kg</th>\n",
       "      <th>died_date</th>\n",
       "      <th>Category</th>\n",
       "    </tr>\n",
       "  </thead>\n",
       "  <tbody>\n",
       "    <tr>\n",
       "      <th>0</th>\n",
       "      <td>1</td>\n",
       "      <td>Jean-François Blanchy</td>\n",
       "      <td>1886-12-12</td>\n",
       "      <td>Bordeaux</td>\n",
       "      <td>Gironde</td>\n",
       "      <td>FRA</td>\n",
       "      <td>France</td>\n",
       "      <td>NaN</td>\n",
       "      <td>NaN</td>\n",
       "      <td>1960-10-02</td>\n",
       "      <td>Heavyweight</td>\n",
       "    </tr>\n",
       "    <tr>\n",
       "      <th>1</th>\n",
       "      <td>2</td>\n",
       "      <td>Arnaud Boetsch</td>\n",
       "      <td>1969-04-01</td>\n",
       "      <td>Meulan</td>\n",
       "      <td>Yvelines</td>\n",
       "      <td>FRA</td>\n",
       "      <td>France</td>\n",
       "      <td>183.0</td>\n",
       "      <td>76.0</td>\n",
       "      <td>NaN</td>\n",
       "      <td>Middleweight</td>\n",
       "    </tr>\n",
       "    <tr>\n",
       "      <th>2</th>\n",
       "      <td>3</td>\n",
       "      <td>Jean Borotra</td>\n",
       "      <td>1898-08-13</td>\n",
       "      <td>Biarritz</td>\n",
       "      <td>Pyrénées-Atlantiques</td>\n",
       "      <td>FRA</td>\n",
       "      <td>France</td>\n",
       "      <td>183.0</td>\n",
       "      <td>76.0</td>\n",
       "      <td>1994-07-17</td>\n",
       "      <td>Middleweight</td>\n",
       "    </tr>\n",
       "    <tr>\n",
       "      <th>3</th>\n",
       "      <td>4</td>\n",
       "      <td>Jacques Brugnon</td>\n",
       "      <td>1895-05-11</td>\n",
       "      <td>Paris VIIIe</td>\n",
       "      <td>Paris</td>\n",
       "      <td>FRA</td>\n",
       "      <td>France</td>\n",
       "      <td>168.0</td>\n",
       "      <td>64.0</td>\n",
       "      <td>1978-03-20</td>\n",
       "      <td>Lightweight</td>\n",
       "    </tr>\n",
       "    <tr>\n",
       "      <th>4</th>\n",
       "      <td>5</td>\n",
       "      <td>Albert Canet</td>\n",
       "      <td>1878-04-17</td>\n",
       "      <td>Wandsworth</td>\n",
       "      <td>England</td>\n",
       "      <td>GBR</td>\n",
       "      <td>France</td>\n",
       "      <td>NaN</td>\n",
       "      <td>NaN</td>\n",
       "      <td>1930-07-25</td>\n",
       "      <td>Heavyweight</td>\n",
       "    </tr>\n",
       "  </tbody>\n",
       "</table>\n",
       "</div>"
      ],
      "text/plain": [
       "   athlete_id                   name   born_date    born_city  \\\n",
       "0           1  Jean-François Blanchy  1886-12-12     Bordeaux   \n",
       "1           2         Arnaud Boetsch  1969-04-01       Meulan   \n",
       "2           3           Jean Borotra  1898-08-13     Biarritz   \n",
       "3           4        Jacques Brugnon  1895-05-11  Paris VIIIe   \n",
       "4           5           Albert Canet  1878-04-17   Wandsworth   \n",
       "\n",
       "            born_region born_country     NOC  height_cm  weight_kg  \\\n",
       "0               Gironde          FRA  France        NaN        NaN   \n",
       "1              Yvelines          FRA  France      183.0       76.0   \n",
       "2  Pyrénées-Atlantiques          FRA  France      183.0       76.0   \n",
       "3                 Paris          FRA  France      168.0       64.0   \n",
       "4               England          GBR  France        NaN        NaN   \n",
       "\n",
       "    died_date      Category  \n",
       "0  1960-10-02   Heavyweight  \n",
       "1         NaN  Middleweight  \n",
       "2  1994-07-17  Middleweight  \n",
       "3  1978-03-20   Lightweight  \n",
       "4  1930-07-25   Heavyweight  "
      ]
     },
     "execution_count": 69,
     "metadata": {},
     "output_type": "execute_result"
    }
   ],
   "source": [
    "# find athletes with names containing three or more vowels:\n",
    "bios_sample[bios_sample[\"name\"].str.contains(r\"(?:[AEIOUaeiou].*){3,}\", na=False)].head()"
   ]
  },
  {
   "cell_type": "code",
   "execution_count": 70,
   "metadata": {
    "ExecuteTime": {
     "end_time": "2025-03-16T09:52:36.578988Z",
     "start_time": "2025-03-16T09:52:36.439343Z"
    },
    "colab": {
     "base_uri": "https://localhost:8080/",
     "height": 708
    },
    "executionInfo": {
     "elapsed": 197,
     "status": "ok",
     "timestamp": 1742117676569,
     "user": {
      "displayName": "Pacurar Sebastian",
      "userId": "15686393619609976384"
     },
     "user_tz": -120
    },
    "id": "bTAbOKvPc5Hm",
    "outputId": "1b287c74-e020-4d00-d9bd-a76db87ca576"
   },
   "outputs": [
    {
     "data": {
      "text/html": [
       "<div>\n",
       "<style scoped>\n",
       "    .dataframe tbody tr th:only-of-type {\n",
       "        vertical-align: middle;\n",
       "    }\n",
       "\n",
       "    .dataframe tbody tr th {\n",
       "        vertical-align: top;\n",
       "    }\n",
       "\n",
       "    .dataframe thead th {\n",
       "        text-align: right;\n",
       "    }\n",
       "</style>\n",
       "<table border=\"1\" class=\"dataframe\">\n",
       "  <thead>\n",
       "    <tr style=\"text-align: right;\">\n",
       "      <th></th>\n",
       "      <th>name</th>\n",
       "      <th>born_date</th>\n",
       "      <th>height_cm</th>\n",
       "      <th>weight_kg</th>\n",
       "    </tr>\n",
       "  </thead>\n",
       "  <tbody>\n",
       "    <tr>\n",
       "      <th>7883</th>\n",
       "      <td>Iosif Mihalic</td>\n",
       "      <td>1938-11-13</td>\n",
       "      <td>171.0</td>\n",
       "      <td>60.0</td>\n",
       "    </tr>\n",
       "    <tr>\n",
       "      <th>12150</th>\n",
       "      <td>Pál Keméry</td>\n",
       "      <td>1887-12-15</td>\n",
       "      <td>NaN</td>\n",
       "      <td>NaN</td>\n",
       "    </tr>\n",
       "    <tr>\n",
       "      <th>20758</th>\n",
       "      <td>Ileana Gyulai-Drîmbă-Jenei</td>\n",
       "      <td>1946-06-12</td>\n",
       "      <td>164.0</td>\n",
       "      <td>61.0</td>\n",
       "    </tr>\n",
       "    <tr>\n",
       "      <th>20765</th>\n",
       "      <td>Olga Orban-Szabo</td>\n",
       "      <td>1938-10-09</td>\n",
       "      <td>161.0</td>\n",
       "      <td>55.0</td>\n",
       "    </tr>\n",
       "    <tr>\n",
       "      <th>21263</th>\n",
       "      <td>Imre Nagy</td>\n",
       "      <td>1941-05-07</td>\n",
       "      <td>189.0</td>\n",
       "      <td>78.0</td>\n",
       "    </tr>\n",
       "    <tr>\n",
       "      <th>22369</th>\n",
       "      <td>Tibor Székelyhidy</td>\n",
       "      <td>1904-02-20</td>\n",
       "      <td>NaN</td>\n",
       "      <td>NaN</td>\n",
       "    </tr>\n",
       "    <tr>\n",
       "      <th>23046</th>\n",
       "      <td>Adalbert Gurath, Sr.</td>\n",
       "      <td>1915-07-07</td>\n",
       "      <td>NaN</td>\n",
       "      <td>NaN</td>\n",
       "    </tr>\n",
       "    <tr>\n",
       "      <th>23069</th>\n",
       "      <td>Tudor Petruș</td>\n",
       "      <td>1949-10-02</td>\n",
       "      <td>175.0</td>\n",
       "      <td>66.0</td>\n",
       "    </tr>\n",
       "    <tr>\n",
       "      <th>23077</th>\n",
       "      <td>Ladislau Rohony</td>\n",
       "      <td>1938-09-01</td>\n",
       "      <td>184.0</td>\n",
       "      <td>76.0</td>\n",
       "    </tr>\n",
       "    <tr>\n",
       "      <th>26888</th>\n",
       "      <td>Nicolae Bonciocat</td>\n",
       "      <td>1898-04-13</td>\n",
       "      <td>NaN</td>\n",
       "      <td>NaN</td>\n",
       "    </tr>\n",
       "    <tr>\n",
       "      <th>28798</th>\n",
       "      <td>Olga Göllner</td>\n",
       "      <td>1930-11-08</td>\n",
       "      <td>NaN</td>\n",
       "      <td>NaN</td>\n",
       "    </tr>\n",
       "    <tr>\n",
       "      <th>30685</th>\n",
       "      <td>Andrei Abraham</td>\n",
       "      <td>1916-10-07</td>\n",
       "      <td>NaN</td>\n",
       "      <td>NaN</td>\n",
       "    </tr>\n",
       "    <tr>\n",
       "      <th>30686</th>\n",
       "      <td>Ion Albert</td>\n",
       "      <td>1910-06-02</td>\n",
       "      <td>NaN</td>\n",
       "      <td>NaN</td>\n",
       "    </tr>\n",
       "    <tr>\n",
       "      <th>37916</th>\n",
       "      <td>Béla Zoltán</td>\n",
       "      <td>1901-12-17</td>\n",
       "      <td>NaN</td>\n",
       "      <td>NaN</td>\n",
       "    </tr>\n",
       "    <tr>\n",
       "      <th>42478</th>\n",
       "      <td>István Prihoda</td>\n",
       "      <td>1891-11-15</td>\n",
       "      <td>NaN</td>\n",
       "      <td>NaN</td>\n",
       "    </tr>\n",
       "    <tr>\n",
       "      <th>47824</th>\n",
       "      <td>József Fabinyi</td>\n",
       "      <td>1887-03-31</td>\n",
       "      <td>NaN</td>\n",
       "      <td>NaN</td>\n",
       "    </tr>\n",
       "    <tr>\n",
       "      <th>53786</th>\n",
       "      <td>László Jeney</td>\n",
       "      <td>1923-05-30</td>\n",
       "      <td>181.0</td>\n",
       "      <td>77.0</td>\n",
       "    </tr>\n",
       "    <tr>\n",
       "      <th>54223</th>\n",
       "      <td>Adalbert Iordache</td>\n",
       "      <td>1919-01-28</td>\n",
       "      <td>NaN</td>\n",
       "      <td>NaN</td>\n",
       "    </tr>\n",
       "    <tr>\n",
       "      <th>56204</th>\n",
       "      <td>Balaș Fitzi</td>\n",
       "      <td>1941-01-02</td>\n",
       "      <td>153.0</td>\n",
       "      <td>NaN</td>\n",
       "    </tr>\n",
       "    <tr>\n",
       "      <th>56217</th>\n",
       "      <td>Ștefan Tașnadi</td>\n",
       "      <td>1953-03-21</td>\n",
       "      <td>183.0</td>\n",
       "      <td>110.0</td>\n",
       "    </tr>\n",
       "    <tr>\n",
       "      <th>70753</th>\n",
       "      <td>István Somodi</td>\n",
       "      <td>1885-08-22</td>\n",
       "      <td>175.0</td>\n",
       "      <td>63.0</td>\n",
       "    </tr>\n",
       "  </tbody>\n",
       "</table>\n",
       "</div>"
      ],
      "text/plain": [
       "                             name   born_date  height_cm  weight_kg\n",
       "7883                Iosif Mihalic  1938-11-13      171.0       60.0\n",
       "12150                  Pál Keméry  1887-12-15        NaN        NaN\n",
       "20758  Ileana Gyulai-Drîmbă-Jenei  1946-06-12      164.0       61.0\n",
       "20765            Olga Orban-Szabo  1938-10-09      161.0       55.0\n",
       "21263                   Imre Nagy  1941-05-07      189.0       78.0\n",
       "22369           Tibor Székelyhidy  1904-02-20        NaN        NaN\n",
       "23046        Adalbert Gurath, Sr.  1915-07-07        NaN        NaN\n",
       "23069                Tudor Petruș  1949-10-02      175.0       66.0\n",
       "23077             Ladislau Rohony  1938-09-01      184.0       76.0\n",
       "26888           Nicolae Bonciocat  1898-04-13        NaN        NaN\n",
       "28798                Olga Göllner  1930-11-08        NaN        NaN\n",
       "30685              Andrei Abraham  1916-10-07        NaN        NaN\n",
       "30686                  Ion Albert  1910-06-02        NaN        NaN\n",
       "37916                 Béla Zoltán  1901-12-17        NaN        NaN\n",
       "42478              István Prihoda  1891-11-15        NaN        NaN\n",
       "47824              József Fabinyi  1887-03-31        NaN        NaN\n",
       "53786                László Jeney  1923-05-30      181.0       77.0\n",
       "54223           Adalbert Iordache  1919-01-28        NaN        NaN\n",
       "56204                 Balaș Fitzi  1941-01-02      153.0        NaN\n",
       "56217              Ștefan Tașnadi  1953-03-21      183.0      110.0\n",
       "70753               István Somodi  1885-08-22      175.0       63.0"
      ]
     },
     "execution_count": 70,
     "metadata": {},
     "output_type": "execute_result"
    }
   ],
   "source": [
    "# a more complex filtering with multiple conditions\n",
    "\n",
    "bios_sample['died_date'] = pd.to_datetime(bios_sample['died_date'], errors='coerce')\n",
    "bios_sample['born_date'] = pd.to_datetime(bios_sample['died_date'], errors='coerce')\n",
    "\n",
    "ro_players = bios[\n",
    "    (bios_sample['born_country'].str.contains(r'^RO', na=False, case=False)) &\n",
    "    (bios_sample['born_city'].str.contains(r'^cluj', na=False, case=False)) &\n",
    "    (bios_sample['died_date'].notna()) &\n",
    "    (bios_sample['born_date'].dt.year >= 1900)\n",
    "    ][['name', 'born_date', 'height_cm', 'weight_kg']]\n",
    "ro_players"
   ]
  },
  {
   "cell_type": "markdown",
   "metadata": {
    "id": "Sk3-SM2UHp09"
   },
   "source": [
    "<br><hr><br>"
   ]
  },
  {
   "cell_type": "markdown",
   "metadata": {
    "id": "IfTQa5HpfRMJ"
   },
   "source": [
    "### 2.2 - query()"
   ]
  },
  {
   "cell_type": "code",
   "execution_count": 73,
   "metadata": {
    "ExecuteTime": {
     "end_time": "2025-03-16T09:52:36.937660Z",
     "start_time": "2025-03-16T09:52:36.839895Z"
    },
    "colab": {
     "base_uri": "https://localhost:8080/",
     "height": 98
    },
    "executionInfo": {
     "elapsed": 366,
     "status": "ok",
     "timestamp": 1742117676933,
     "user": {
      "displayName": "Pacurar Sebastian",
      "userId": "15686393619609976384"
     },
     "user_tz": -120
    },
    "id": "YPVoD8H-fXYT",
    "outputId": "e4416ebc-2e25-4959-d756-9ba0035769ae"
   },
   "outputs": [
    {
     "data": {
      "text/html": [
       "<div>\n",
       "<style scoped>\n",
       "    .dataframe tbody tr th:only-of-type {\n",
       "        vertical-align: middle;\n",
       "    }\n",
       "\n",
       "    .dataframe tbody tr th {\n",
       "        vertical-align: top;\n",
       "    }\n",
       "\n",
       "    .dataframe thead th {\n",
       "        text-align: right;\n",
       "    }\n",
       "</style>\n",
       "<table border=\"1\" class=\"dataframe\">\n",
       "  <thead>\n",
       "    <tr style=\"text-align: right;\">\n",
       "      <th></th>\n",
       "      <th>pickup</th>\n",
       "      <th>dropoff</th>\n",
       "      <th>passengers</th>\n",
       "      <th>distance</th>\n",
       "      <th>fare</th>\n",
       "      <th>tip</th>\n",
       "      <th>tolls</th>\n",
       "      <th>total</th>\n",
       "      <th>color</th>\n",
       "      <th>payment</th>\n",
       "      <th>pickup_zone</th>\n",
       "      <th>dropoff_zone</th>\n",
       "      <th>pickup_borough</th>\n",
       "      <th>dropoff_borough</th>\n",
       "    </tr>\n",
       "  </thead>\n",
       "  <tbody>\n",
       "    <tr>\n",
       "      <th>4</th>\n",
       "      <td>2019-03-30 13:27:42</td>\n",
       "      <td>2019-03-30 13:37:14</td>\n",
       "      <td>3</td>\n",
       "      <td>2.16</td>\n",
       "      <td>9.0</td>\n",
       "      <td>1.1</td>\n",
       "      <td>0.0</td>\n",
       "      <td>13.4</td>\n",
       "      <td>yellow</td>\n",
       "      <td>credit card</td>\n",
       "      <td>Midtown East</td>\n",
       "      <td>Yorkville West</td>\n",
       "      <td>Manhattan</td>\n",
       "      <td>Manhattan</td>\n",
       "    </tr>\n",
       "  </tbody>\n",
       "</table>\n",
       "</div>"
      ],
      "text/plain": [
       "               pickup             dropoff  passengers  distance  fare  tip  \\\n",
       "4 2019-03-30 13:27:42 2019-03-30 13:37:14           3      2.16   9.0  1.1   \n",
       "\n",
       "   tolls  total   color      payment   pickup_zone    dropoff_zone  \\\n",
       "4    0.0   13.4  yellow  credit card  Midtown East  Yorkville West   \n",
       "\n",
       "  pickup_borough dropoff_borough  \n",
       "4      Manhattan       Manhattan  "
      ]
     },
     "execution_count": 73,
     "metadata": {},
     "output_type": "execute_result"
    }
   ],
   "source": [
    "# basic number calculations\n",
    "df = sns.load_dataset(\"taxis\")\n",
    "df.query(\"passengers == 3\").head(1)"
   ]
  },
  {
   "cell_type": "code",
   "execution_count": 74,
   "metadata": {
    "ExecuteTime": {
     "end_time": "2025-03-16T09:52:37.152297Z",
     "start_time": "2025-03-16T09:52:37.133141Z"
    },
    "colab": {
     "base_uri": "https://localhost:8080/",
     "height": 98
    },
    "executionInfo": {
     "elapsed": 142,
     "status": "ok",
     "timestamp": 1742117677076,
     "user": {
      "displayName": "Pacurar Sebastian",
      "userId": "15686393619609976384"
     },
     "user_tz": -120
    },
    "id": "UWlrHAoVf288",
    "outputId": "c0919f42-c115-465b-9a32-b7868e7f4e64"
   },
   "outputs": [
    {
     "data": {
      "text/html": [
       "<div>\n",
       "<style scoped>\n",
       "    .dataframe tbody tr th:only-of-type {\n",
       "        vertical-align: middle;\n",
       "    }\n",
       "\n",
       "    .dataframe tbody tr th {\n",
       "        vertical-align: top;\n",
       "    }\n",
       "\n",
       "    .dataframe thead th {\n",
       "        text-align: right;\n",
       "    }\n",
       "</style>\n",
       "<table border=\"1\" class=\"dataframe\">\n",
       "  <thead>\n",
       "    <tr style=\"text-align: right;\">\n",
       "      <th></th>\n",
       "      <th>pickup</th>\n",
       "      <th>dropoff</th>\n",
       "      <th>passengers</th>\n",
       "      <th>distance</th>\n",
       "      <th>fare</th>\n",
       "      <th>tip</th>\n",
       "      <th>tolls</th>\n",
       "      <th>total</th>\n",
       "      <th>color</th>\n",
       "      <th>payment</th>\n",
       "      <th>pickup_zone</th>\n",
       "      <th>dropoff_zone</th>\n",
       "      <th>pickup_borough</th>\n",
       "      <th>dropoff_borough</th>\n",
       "    </tr>\n",
       "  </thead>\n",
       "  <tbody>\n",
       "    <tr>\n",
       "      <th>0</th>\n",
       "      <td>2019-03-23 20:21:09</td>\n",
       "      <td>2019-03-23 20:27:24</td>\n",
       "      <td>1</td>\n",
       "      <td>1.6</td>\n",
       "      <td>7.0</td>\n",
       "      <td>2.15</td>\n",
       "      <td>0.0</td>\n",
       "      <td>12.95</td>\n",
       "      <td>yellow</td>\n",
       "      <td>credit card</td>\n",
       "      <td>Lenox Hill West</td>\n",
       "      <td>UN/Turtle Bay South</td>\n",
       "      <td>Manhattan</td>\n",
       "      <td>Manhattan</td>\n",
       "    </tr>\n",
       "  </tbody>\n",
       "</table>\n",
       "</div>"
      ],
      "text/plain": [
       "               pickup             dropoff  passengers  distance  fare   tip  \\\n",
       "0 2019-03-23 20:21:09 2019-03-23 20:27:24           1       1.6   7.0  2.15   \n",
       "\n",
       "   tolls  total   color      payment      pickup_zone         dropoff_zone  \\\n",
       "0    0.0  12.95  yellow  credit card  Lenox Hill West  UN/Turtle Bay South   \n",
       "\n",
       "  pickup_borough dropoff_borough  \n",
       "0      Manhattan       Manhattan  "
      ]
     },
     "execution_count": 74,
     "metadata": {},
     "output_type": "execute_result"
    }
   ],
   "source": [
    "# equal string\n",
    "df.query(\"pickup_borough == 'Manhattan'\").head(1)"
   ]
  },
  {
   "cell_type": "code",
   "execution_count": 75,
   "metadata": {
    "ExecuteTime": {
     "end_time": "2025-03-16T09:52:37.572306Z",
     "start_time": "2025-03-16T09:52:37.550303Z"
    },
    "colab": {
     "base_uri": "https://localhost:8080/",
     "height": 98
    },
    "executionInfo": {
     "elapsed": 100,
     "status": "ok",
     "timestamp": 1742117677196,
     "user": {
      "displayName": "Pacurar Sebastian",
      "userId": "15686393619609976384"
     },
     "user_tz": -120
    },
    "id": "gPL5jsfYgT5z",
    "outputId": "d2d13e8f-81fe-4fb6-a475-2703b1e2570b"
   },
   "outputs": [
    {
     "data": {
      "text/html": [
       "<div>\n",
       "<style scoped>\n",
       "    .dataframe tbody tr th:only-of-type {\n",
       "        vertical-align: middle;\n",
       "    }\n",
       "\n",
       "    .dataframe tbody tr th {\n",
       "        vertical-align: top;\n",
       "    }\n",
       "\n",
       "    .dataframe thead th {\n",
       "        text-align: right;\n",
       "    }\n",
       "</style>\n",
       "<table border=\"1\" class=\"dataframe\">\n",
       "  <thead>\n",
       "    <tr style=\"text-align: right;\">\n",
       "      <th></th>\n",
       "      <th>pickup</th>\n",
       "      <th>dropoff</th>\n",
       "      <th>passengers</th>\n",
       "      <th>distance</th>\n",
       "      <th>fare</th>\n",
       "      <th>tip</th>\n",
       "      <th>tolls</th>\n",
       "      <th>total</th>\n",
       "      <th>color</th>\n",
       "      <th>payment</th>\n",
       "      <th>pickup_zone</th>\n",
       "      <th>dropoff_zone</th>\n",
       "      <th>pickup_borough</th>\n",
       "      <th>dropoff_borough</th>\n",
       "    </tr>\n",
       "  </thead>\n",
       "  <tbody>\n",
       "    <tr>\n",
       "      <th>0</th>\n",
       "      <td>2019-03-23 20:21:09</td>\n",
       "      <td>2019-03-23 20:27:24</td>\n",
       "      <td>1</td>\n",
       "      <td>1.6</td>\n",
       "      <td>7.0</td>\n",
       "      <td>2.15</td>\n",
       "      <td>0.0</td>\n",
       "      <td>12.95</td>\n",
       "      <td>yellow</td>\n",
       "      <td>credit card</td>\n",
       "      <td>Lenox Hill West</td>\n",
       "      <td>UN/Turtle Bay South</td>\n",
       "      <td>Manhattan</td>\n",
       "      <td>Manhattan</td>\n",
       "    </tr>\n",
       "  </tbody>\n",
       "</table>\n",
       "</div>"
      ],
      "text/plain": [
       "               pickup             dropoff  passengers  distance  fare   tip  \\\n",
       "0 2019-03-23 20:21:09 2019-03-23 20:27:24           1       1.6   7.0  2.15   \n",
       "\n",
       "   tolls  total   color      payment      pickup_zone         dropoff_zone  \\\n",
       "0    0.0  12.95  yellow  credit card  Lenox Hill West  UN/Turtle Bay South   \n",
       "\n",
       "  pickup_borough dropoff_borough  \n",
       "0      Manhattan       Manhattan  "
      ]
     },
     "execution_count": 75,
     "metadata": {},
     "output_type": "execute_result"
    }
   ],
   "source": [
    "# and\n",
    "df.query(\"pickup_borough == 'Manhattan' and passengers != 3\").head(1)"
   ]
  },
  {
   "cell_type": "code",
   "execution_count": 76,
   "metadata": {
    "ExecuteTime": {
     "end_time": "2025-03-16T09:52:37.784375Z",
     "start_time": "2025-03-16T09:52:37.768167Z"
    },
    "colab": {
     "base_uri": "https://localhost:8080/",
     "height": 98
    },
    "executionInfo": {
     "elapsed": 14,
     "status": "ok",
     "timestamp": 1742117677211,
     "user": {
      "displayName": "Pacurar Sebastian",
      "userId": "15686393619609976384"
     },
     "user_tz": -120
    },
    "id": "rjkdTuImgmGA",
    "outputId": "01a21ce8-6813-4f06-d491-b91205f9778f"
   },
   "outputs": [
    {
     "data": {
      "text/html": [
       "<div>\n",
       "<style scoped>\n",
       "    .dataframe tbody tr th:only-of-type {\n",
       "        vertical-align: middle;\n",
       "    }\n",
       "\n",
       "    .dataframe tbody tr th {\n",
       "        vertical-align: top;\n",
       "    }\n",
       "\n",
       "    .dataframe thead th {\n",
       "        text-align: right;\n",
       "    }\n",
       "</style>\n",
       "<table border=\"1\" class=\"dataframe\">\n",
       "  <thead>\n",
       "    <tr style=\"text-align: right;\">\n",
       "      <th></th>\n",
       "      <th>pickup</th>\n",
       "      <th>dropoff</th>\n",
       "      <th>passengers</th>\n",
       "      <th>distance</th>\n",
       "      <th>fare</th>\n",
       "      <th>tip</th>\n",
       "      <th>tolls</th>\n",
       "      <th>total</th>\n",
       "      <th>color</th>\n",
       "      <th>payment</th>\n",
       "      <th>pickup_zone</th>\n",
       "      <th>dropoff_zone</th>\n",
       "      <th>pickup_borough</th>\n",
       "      <th>dropoff_borough</th>\n",
       "    </tr>\n",
       "  </thead>\n",
       "  <tbody>\n",
       "    <tr>\n",
       "      <th>0</th>\n",
       "      <td>2019-03-23 20:21:09</td>\n",
       "      <td>2019-03-23 20:27:24</td>\n",
       "      <td>1</td>\n",
       "      <td>1.6</td>\n",
       "      <td>7.0</td>\n",
       "      <td>2.15</td>\n",
       "      <td>0.0</td>\n",
       "      <td>12.95</td>\n",
       "      <td>yellow</td>\n",
       "      <td>credit card</td>\n",
       "      <td>Lenox Hill West</td>\n",
       "      <td>UN/Turtle Bay South</td>\n",
       "      <td>Manhattan</td>\n",
       "      <td>Manhattan</td>\n",
       "    </tr>\n",
       "  </tbody>\n",
       "</table>\n",
       "</div>"
      ],
      "text/plain": [
       "               pickup             dropoff  passengers  distance  fare   tip  \\\n",
       "0 2019-03-23 20:21:09 2019-03-23 20:27:24           1       1.6   7.0  2.15   \n",
       "\n",
       "   tolls  total   color      payment      pickup_zone         dropoff_zone  \\\n",
       "0    0.0  12.95  yellow  credit card  Lenox Hill West  UN/Turtle Bay South   \n",
       "\n",
       "  pickup_borough dropoff_borough  \n",
       "0      Manhattan       Manhattan  "
      ]
     },
     "execution_count": 76,
     "metadata": {},
     "output_type": "execute_result"
    }
   ],
   "source": [
    "# or\n",
    "df.query(\"pickup_borough == 'Manhattan' or passengers != 3\").head(1)"
   ]
  },
  {
   "cell_type": "code",
   "execution_count": 77,
   "metadata": {
    "ExecuteTime": {
     "end_time": "2025-03-16T09:52:38.215329Z",
     "start_time": "2025-03-16T09:52:38.188280Z"
    },
    "colab": {
     "base_uri": "https://localhost:8080/",
     "height": 98
    },
    "executionInfo": {
     "elapsed": 16,
     "status": "ok",
     "timestamp": 1742117677224,
     "user": {
      "displayName": "Pacurar Sebastian",
      "userId": "15686393619609976384"
     },
     "user_tz": -120
    },
    "id": "gWMdO5Augr1p",
    "outputId": "73fe22b2-d1f4-4040-dd97-fc3ff6ccabb2"
   },
   "outputs": [
    {
     "data": {
      "text/html": [
       "<div>\n",
       "<style scoped>\n",
       "    .dataframe tbody tr th:only-of-type {\n",
       "        vertical-align: middle;\n",
       "    }\n",
       "\n",
       "    .dataframe tbody tr th {\n",
       "        vertical-align: top;\n",
       "    }\n",
       "\n",
       "    .dataframe thead th {\n",
       "        text-align: right;\n",
       "    }\n",
       "</style>\n",
       "<table border=\"1\" class=\"dataframe\">\n",
       "  <thead>\n",
       "    <tr style=\"text-align: right;\">\n",
       "      <th></th>\n",
       "      <th>pickup</th>\n",
       "      <th>dropoff</th>\n",
       "      <th>passengers</th>\n",
       "      <th>distance</th>\n",
       "      <th>fare</th>\n",
       "      <th>tip</th>\n",
       "      <th>tolls</th>\n",
       "      <th>total</th>\n",
       "      <th>color</th>\n",
       "      <th>payment</th>\n",
       "      <th>pickup_zone</th>\n",
       "      <th>dropoff_zone</th>\n",
       "      <th>pickup_borough</th>\n",
       "      <th>dropoff_borough</th>\n",
       "    </tr>\n",
       "  </thead>\n",
       "  <tbody>\n",
       "    <tr>\n",
       "      <th>0</th>\n",
       "      <td>2019-03-23 20:21:09</td>\n",
       "      <td>2019-03-23 20:27:24</td>\n",
       "      <td>1</td>\n",
       "      <td>1.6</td>\n",
       "      <td>7.0</td>\n",
       "      <td>2.15</td>\n",
       "      <td>0.0</td>\n",
       "      <td>12.95</td>\n",
       "      <td>yellow</td>\n",
       "      <td>credit card</td>\n",
       "      <td>Lenox Hill West</td>\n",
       "      <td>UN/Turtle Bay South</td>\n",
       "      <td>Manhattan</td>\n",
       "      <td>Manhattan</td>\n",
       "    </tr>\n",
       "  </tbody>\n",
       "</table>\n",
       "</div>"
      ],
      "text/plain": [
       "               pickup             dropoff  passengers  distance  fare   tip  \\\n",
       "0 2019-03-23 20:21:09 2019-03-23 20:27:24           1       1.6   7.0  2.15   \n",
       "\n",
       "   tolls  total   color      payment      pickup_zone         dropoff_zone  \\\n",
       "0    0.0  12.95  yellow  credit card  Lenox Hill West  UN/Turtle Bay South   \n",
       "\n",
       "  pickup_borough dropoff_borough  \n",
       "0      Manhattan       Manhattan  "
      ]
     },
     "execution_count": 77,
     "metadata": {},
     "output_type": "execute_result"
    }
   ],
   "source": [
    "# in\n",
    "df.query(\"pickup_borough in ('Manhattan', 'Brooklyn')\").head(1)"
   ]
  },
  {
   "cell_type": "code",
   "execution_count": 78,
   "metadata": {
    "ExecuteTime": {
     "end_time": "2025-03-16T09:52:38.489103Z",
     "start_time": "2025-03-16T09:52:38.470853Z"
    },
    "colab": {
     "base_uri": "https://localhost:8080/",
     "height": 98
    },
    "executionInfo": {
     "elapsed": 12,
     "status": "ok",
     "timestamp": 1742117677235,
     "user": {
      "displayName": "Pacurar Sebastian",
      "userId": "15686393619609976384"
     },
     "user_tz": -120
    },
    "id": "G3PAVrhYg3tE",
    "outputId": "c2f868bc-6345-43c1-e988-7202504532aa"
   },
   "outputs": [
    {
     "data": {
      "text/html": [
       "<div>\n",
       "<style scoped>\n",
       "    .dataframe tbody tr th:only-of-type {\n",
       "        vertical-align: middle;\n",
       "    }\n",
       "\n",
       "    .dataframe tbody tr th {\n",
       "        vertical-align: top;\n",
       "    }\n",
       "\n",
       "    .dataframe thead th {\n",
       "        text-align: right;\n",
       "    }\n",
       "</style>\n",
       "<table border=\"1\" class=\"dataframe\">\n",
       "  <thead>\n",
       "    <tr style=\"text-align: right;\">\n",
       "      <th></th>\n",
       "      <th>pickup</th>\n",
       "      <th>dropoff</th>\n",
       "      <th>passengers</th>\n",
       "      <th>distance</th>\n",
       "      <th>fare</th>\n",
       "      <th>tip</th>\n",
       "      <th>tolls</th>\n",
       "      <th>total</th>\n",
       "      <th>color</th>\n",
       "      <th>payment</th>\n",
       "      <th>pickup_zone</th>\n",
       "      <th>dropoff_zone</th>\n",
       "      <th>pickup_borough</th>\n",
       "      <th>dropoff_borough</th>\n",
       "    </tr>\n",
       "  </thead>\n",
       "  <tbody>\n",
       "    <tr>\n",
       "      <th>10</th>\n",
       "      <td>2019-03-16 10:02:25</td>\n",
       "      <td>2019-03-16 10:22:29</td>\n",
       "      <td>1</td>\n",
       "      <td>3.9</td>\n",
       "      <td>17.0</td>\n",
       "      <td>0.0</td>\n",
       "      <td>0.0</td>\n",
       "      <td>17.8</td>\n",
       "      <td>yellow</td>\n",
       "      <td>cash</td>\n",
       "      <td>LaGuardia Airport</td>\n",
       "      <td>Astoria</td>\n",
       "      <td>Queens</td>\n",
       "      <td>Queens</td>\n",
       "    </tr>\n",
       "  </tbody>\n",
       "</table>\n",
       "</div>"
      ],
      "text/plain": [
       "                pickup             dropoff  passengers  distance  fare  tip  \\\n",
       "10 2019-03-16 10:02:25 2019-03-16 10:22:29           1       3.9  17.0  0.0   \n",
       "\n",
       "    tolls  total   color payment        pickup_zone dropoff_zone  \\\n",
       "10    0.0   17.8  yellow    cash  LaGuardia Airport      Astoria   \n",
       "\n",
       "   pickup_borough dropoff_borough  \n",
       "10         Queens          Queens  "
      ]
     },
     "execution_count": 78,
     "metadata": {},
     "output_type": "execute_result"
    }
   ],
   "source": [
    "# not in\n",
    "df.query(\"pickup_borough not in ('Manhattan', 'Brooklyn')\").head(1)"
   ]
  },
  {
   "cell_type": "code",
   "execution_count": 79,
   "metadata": {
    "ExecuteTime": {
     "end_time": "2025-03-16T09:52:38.877670Z",
     "start_time": "2025-03-16T09:52:38.850421Z"
    },
    "colab": {
     "base_uri": "https://localhost:8080/",
     "height": 98
    },
    "executionInfo": {
     "elapsed": 15,
     "status": "ok",
     "timestamp": 1742117677251,
     "user": {
      "displayName": "Pacurar Sebastian",
      "userId": "15686393619609976384"
     },
     "user_tz": -120
    },
    "id": "AhAVTGsag74V",
    "outputId": "0c80c479-d4a3-49b6-d1ab-cc957fd3341a"
   },
   "outputs": [
    {
     "data": {
      "text/html": [
       "<div>\n",
       "<style scoped>\n",
       "    .dataframe tbody tr th:only-of-type {\n",
       "        vertical-align: middle;\n",
       "    }\n",
       "\n",
       "    .dataframe tbody tr th {\n",
       "        vertical-align: top;\n",
       "    }\n",
       "\n",
       "    .dataframe thead th {\n",
       "        text-align: right;\n",
       "    }\n",
       "</style>\n",
       "<table border=\"1\" class=\"dataframe\">\n",
       "  <thead>\n",
       "    <tr style=\"text-align: right;\">\n",
       "      <th></th>\n",
       "      <th>pickup</th>\n",
       "      <th>dropoff</th>\n",
       "      <th>passengers</th>\n",
       "      <th>distance</th>\n",
       "      <th>fare</th>\n",
       "      <th>tip</th>\n",
       "      <th>tolls</th>\n",
       "      <th>total</th>\n",
       "      <th>color</th>\n",
       "      <th>payment</th>\n",
       "      <th>pickup_zone</th>\n",
       "      <th>dropoff_zone</th>\n",
       "      <th>pickup_borough</th>\n",
       "      <th>dropoff_borough</th>\n",
       "    </tr>\n",
       "  </thead>\n",
       "  <tbody>\n",
       "    <tr>\n",
       "      <th>0</th>\n",
       "      <td>2019-03-23 20:21:09</td>\n",
       "      <td>2019-03-23 20:27:24</td>\n",
       "      <td>1</td>\n",
       "      <td>1.6</td>\n",
       "      <td>7.0</td>\n",
       "      <td>2.15</td>\n",
       "      <td>0.0</td>\n",
       "      <td>12.95</td>\n",
       "      <td>yellow</td>\n",
       "      <td>credit card</td>\n",
       "      <td>Lenox Hill West</td>\n",
       "      <td>UN/Turtle Bay South</td>\n",
       "      <td>Manhattan</td>\n",
       "      <td>Manhattan</td>\n",
       "    </tr>\n",
       "  </tbody>\n",
       "</table>\n",
       "</div>"
      ],
      "text/plain": [
       "               pickup             dropoff  passengers  distance  fare   tip  \\\n",
       "0 2019-03-23 20:21:09 2019-03-23 20:27:24           1       1.6   7.0  2.15   \n",
       "\n",
       "   tolls  total   color      payment      pickup_zone         dropoff_zone  \\\n",
       "0    0.0  12.95  yellow  credit card  Lenox Hill West  UN/Turtle Bay South   \n",
       "\n",
       "  pickup_borough dropoff_borough  \n",
       "0      Manhattan       Manhattan  "
      ]
     },
     "execution_count": 79,
     "metadata": {},
     "output_type": "execute_result"
    }
   ],
   "source": [
    "borough = [\"Manhattan\", \"Bronx\", \"Queens\"]\n",
    "df.query(\"pickup_borough in @borough\").head(1)"
   ]
  },
  {
   "cell_type": "code",
   "execution_count": 80,
   "metadata": {
    "ExecuteTime": {
     "end_time": "2025-03-16T09:52:39.267547Z",
     "start_time": "2025-03-16T09:52:39.254547Z"
    },
    "colab": {
     "base_uri": "https://localhost:8080/",
     "height": 98
    },
    "executionInfo": {
     "elapsed": 30,
     "status": "ok",
     "timestamp": 1742117677282,
     "user": {
      "displayName": "Pacurar Sebastian",
      "userId": "15686393619609976384"
     },
     "user_tz": -120
    },
    "id": "GIKiXyKxhQXt",
    "outputId": "cbaaa2c5-230d-4b1f-d5a0-db5c90d9d4de"
   },
   "outputs": [
    {
     "data": {
      "text/html": [
       "<div>\n",
       "<style scoped>\n",
       "    .dataframe tbody tr th:only-of-type {\n",
       "        vertical-align: middle;\n",
       "    }\n",
       "\n",
       "    .dataframe tbody tr th {\n",
       "        vertical-align: top;\n",
       "    }\n",
       "\n",
       "    .dataframe thead th {\n",
       "        text-align: right;\n",
       "    }\n",
       "</style>\n",
       "<table border=\"1\" class=\"dataframe\">\n",
       "  <thead>\n",
       "    <tr style=\"text-align: right;\">\n",
       "      <th></th>\n",
       "      <th>pickup</th>\n",
       "      <th>dropoff</th>\n",
       "      <th>passengers</th>\n",
       "      <th>distance</th>\n",
       "      <th>fare</th>\n",
       "      <th>tip</th>\n",
       "      <th>tolls</th>\n",
       "      <th>total</th>\n",
       "      <th>color</th>\n",
       "      <th>payment</th>\n",
       "      <th>pickup_zone</th>\n",
       "      <th>dropoff_zone</th>\n",
       "      <th>pickup_borough</th>\n",
       "      <th>dropoff_borough</th>\n",
       "    </tr>\n",
       "  </thead>\n",
       "  <tbody>\n",
       "    <tr>\n",
       "      <th>23</th>\n",
       "      <td>2019-03-04 12:15:39</td>\n",
       "      <td>2019-03-04 12:26:53</td>\n",
       "      <td>5</td>\n",
       "      <td>1.09</td>\n",
       "      <td>8.5</td>\n",
       "      <td>2.36</td>\n",
       "      <td>0.0</td>\n",
       "      <td>14.16</td>\n",
       "      <td>yellow</td>\n",
       "      <td>credit card</td>\n",
       "      <td>Sutton Place/Turtle Bay North</td>\n",
       "      <td>Midtown North</td>\n",
       "      <td>Manhattan</td>\n",
       "      <td>Manhattan</td>\n",
       "    </tr>\n",
       "  </tbody>\n",
       "</table>\n",
       "</div>"
      ],
      "text/plain": [
       "                pickup             dropoff  passengers  distance  fare   tip  \\\n",
       "23 2019-03-04 12:15:39 2019-03-04 12:26:53           5      1.09   8.5  2.36   \n",
       "\n",
       "    tolls  total   color      payment                    pickup_zone  \\\n",
       "23    0.0  14.16  yellow  credit card  Sutton Place/Turtle Bay North   \n",
       "\n",
       "     dropoff_zone pickup_borough dropoff_borough  \n",
       "23  Midtown North      Manhattan       Manhattan  "
      ]
     },
     "execution_count": 80,
     "metadata": {},
     "output_type": "execute_result"
    }
   ],
   "source": [
    "passengers_var = 5\n",
    "df.query(\"passengers == @passengers_var\").head(1)"
   ]
  },
  {
   "cell_type": "code",
   "execution_count": 81,
   "metadata": {
    "ExecuteTime": {
     "end_time": "2025-03-16T09:52:39.835884Z",
     "start_time": "2025-03-16T09:52:39.824369Z"
    },
    "colab": {
     "base_uri": "https://localhost:8080/",
     "height": 98
    },
    "executionInfo": {
     "elapsed": 30,
     "status": "ok",
     "timestamp": 1742117677313,
     "user": {
      "displayName": "Pacurar Sebastian",
      "userId": "15686393619609976384"
     },
     "user_tz": -120
    },
    "id": "wQHFd_c7hcNb",
    "outputId": "f5b798a0-dab8-4b85-8e62-35e70fa8382e"
   },
   "outputs": [
    {
     "data": {
      "text/html": [
       "<div>\n",
       "<style scoped>\n",
       "    .dataframe tbody tr th:only-of-type {\n",
       "        vertical-align: middle;\n",
       "    }\n",
       "\n",
       "    .dataframe tbody tr th {\n",
       "        vertical-align: top;\n",
       "    }\n",
       "\n",
       "    .dataframe thead th {\n",
       "        text-align: right;\n",
       "    }\n",
       "</style>\n",
       "<table border=\"1\" class=\"dataframe\">\n",
       "  <thead>\n",
       "    <tr style=\"text-align: right;\">\n",
       "      <th></th>\n",
       "      <th>pickup</th>\n",
       "      <th>dropoff</th>\n",
       "      <th>passengers</th>\n",
       "      <th>distance</th>\n",
       "      <th>fare</th>\n",
       "      <th>tip</th>\n",
       "      <th>tolls</th>\n",
       "      <th>total</th>\n",
       "      <th>color</th>\n",
       "      <th>payment</th>\n",
       "      <th>pickup_zone</th>\n",
       "      <th>dropoff_zone</th>\n",
       "      <th>pickup_borough</th>\n",
       "      <th>dropoff_borough</th>\n",
       "    </tr>\n",
       "  </thead>\n",
       "  <tbody>\n",
       "    <tr>\n",
       "      <th>7</th>\n",
       "      <td>2019-03-22 12:47:13</td>\n",
       "      <td>2019-03-22 12:58:17</td>\n",
       "      <td>0</td>\n",
       "      <td>1.4</td>\n",
       "      <td>8.5</td>\n",
       "      <td>0.0</td>\n",
       "      <td>0.0</td>\n",
       "      <td>11.8</td>\n",
       "      <td>yellow</td>\n",
       "      <td>NaN</td>\n",
       "      <td>Murray Hill</td>\n",
       "      <td>Flatiron</td>\n",
       "      <td>Manhattan</td>\n",
       "      <td>Manhattan</td>\n",
       "    </tr>\n",
       "  </tbody>\n",
       "</table>\n",
       "</div>"
      ],
      "text/plain": [
       "               pickup             dropoff  passengers  distance  fare  tip  \\\n",
       "7 2019-03-22 12:47:13 2019-03-22 12:58:17           0       1.4   8.5  0.0   \n",
       "\n",
       "   tolls  total   color payment  pickup_zone dropoff_zone pickup_borough  \\\n",
       "7    0.0   11.8  yellow     NaN  Murray Hill     Flatiron      Manhattan   \n",
       "\n",
       "  dropoff_borough  \n",
       "7       Manhattan  "
      ]
     },
     "execution_count": 81,
     "metadata": {},
     "output_type": "execute_result"
    }
   ],
   "source": [
    "# math operation within function use * to highlight start of operation\n",
    "df.query(\"passengers *3 < 3\").head(1)"
   ]
  },
  {
   "cell_type": "code",
   "execution_count": 82,
   "metadata": {
    "ExecuteTime": {
     "end_time": "2025-03-16T09:52:40.054224Z",
     "start_time": "2025-03-16T09:52:40.037029Z"
    },
    "colab": {
     "base_uri": "https://localhost:8080/",
     "height": 98
    },
    "executionInfo": {
     "elapsed": 12,
     "status": "ok",
     "timestamp": 1742117677324,
     "user": {
      "displayName": "Pacurar Sebastian",
      "userId": "15686393619609976384"
     },
     "user_tz": -120
    },
    "id": "hVpq_8M6h6BW",
    "outputId": "c02ce09f-62d1-46e3-8c54-382ad1e9057b"
   },
   "outputs": [
    {
     "data": {
      "text/html": [
       "<div>\n",
       "<style scoped>\n",
       "    .dataframe tbody tr th:only-of-type {\n",
       "        vertical-align: middle;\n",
       "    }\n",
       "\n",
       "    .dataframe tbody tr th {\n",
       "        vertical-align: top;\n",
       "    }\n",
       "\n",
       "    .dataframe thead th {\n",
       "        text-align: right;\n",
       "    }\n",
       "</style>\n",
       "<table border=\"1\" class=\"dataframe\">\n",
       "  <thead>\n",
       "    <tr style=\"text-align: right;\">\n",
       "      <th></th>\n",
       "      <th>pickup</th>\n",
       "      <th>dropoff</th>\n",
       "      <th>passengers</th>\n",
       "      <th>distance</th>\n",
       "      <th>fare</th>\n",
       "      <th>tip</th>\n",
       "      <th>tolls</th>\n",
       "      <th>total</th>\n",
       "      <th>color</th>\n",
       "      <th>payment</th>\n",
       "      <th>pickup_zone</th>\n",
       "      <th>dropoff_zone</th>\n",
       "      <th>pickup_borough</th>\n",
       "      <th>dropoff_borough</th>\n",
       "    </tr>\n",
       "  </thead>\n",
       "  <tbody>\n",
       "    <tr>\n",
       "      <th>0</th>\n",
       "      <td>2019-03-23 20:21:09</td>\n",
       "      <td>2019-03-23 20:27:24</td>\n",
       "      <td>1</td>\n",
       "      <td>1.6</td>\n",
       "      <td>7.0</td>\n",
       "      <td>2.15</td>\n",
       "      <td>0.0</td>\n",
       "      <td>12.95</td>\n",
       "      <td>yellow</td>\n",
       "      <td>credit card</td>\n",
       "      <td>Lenox Hill West</td>\n",
       "      <td>UN/Turtle Bay South</td>\n",
       "      <td>Manhattan</td>\n",
       "      <td>Manhattan</td>\n",
       "    </tr>\n",
       "  </tbody>\n",
       "</table>\n",
       "</div>"
      ],
      "text/plain": [
       "               pickup             dropoff  passengers  distance  fare   tip  \\\n",
       "0 2019-03-23 20:21:09 2019-03-23 20:27:24           1       1.6   7.0  2.15   \n",
       "\n",
       "   tolls  total   color      payment      pickup_zone         dropoff_zone  \\\n",
       "0    0.0  12.95  yellow  credit card  Lenox Hill West  UN/Turtle Bay South   \n",
       "\n",
       "  pickup_borough dropoff_borough  \n",
       "0      Manhattan       Manhattan  "
      ]
     },
     "execution_count": 82,
     "metadata": {},
     "output_type": "execute_result"
    }
   ],
   "source": [
    "# strings functions\n",
    "df.query(\"color.str.contains('yel')\").head(1)"
   ]
  },
  {
   "cell_type": "code",
   "execution_count": 83,
   "metadata": {
    "ExecuteTime": {
     "end_time": "2025-03-16T09:52:40.502475Z",
     "start_time": "2025-03-16T09:52:40.489473Z"
    },
    "colab": {
     "base_uri": "https://localhost:8080/",
     "height": 98
    },
    "executionInfo": {
     "elapsed": 46,
     "status": "ok",
     "timestamp": 1742117677370,
     "user": {
      "displayName": "Pacurar Sebastian",
      "userId": "15686393619609976384"
     },
     "user_tz": -120
    },
    "id": "-Qtam-BhiWe4",
    "outputId": "ba035b0f-055f-453a-ceaf-0c1f63feab06"
   },
   "outputs": [
    {
     "data": {
      "text/html": [
       "<div>\n",
       "<style scoped>\n",
       "    .dataframe tbody tr th:only-of-type {\n",
       "        vertical-align: middle;\n",
       "    }\n",
       "\n",
       "    .dataframe tbody tr th {\n",
       "        vertical-align: top;\n",
       "    }\n",
       "\n",
       "    .dataframe thead th {\n",
       "        text-align: right;\n",
       "    }\n",
       "</style>\n",
       "<table border=\"1\" class=\"dataframe\">\n",
       "  <thead>\n",
       "    <tr style=\"text-align: right;\">\n",
       "      <th></th>\n",
       "      <th>pickup</th>\n",
       "      <th>dropoff</th>\n",
       "      <th>passengers</th>\n",
       "      <th>distance</th>\n",
       "      <th>fare</th>\n",
       "      <th>tip</th>\n",
       "      <th>tolls</th>\n",
       "      <th>total</th>\n",
       "      <th>color</th>\n",
       "      <th>payment</th>\n",
       "      <th>pickup_zone</th>\n",
       "      <th>dropoff_zone</th>\n",
       "      <th>pickup_borough</th>\n",
       "      <th>dropoff_borough</th>\n",
       "    </tr>\n",
       "  </thead>\n",
       "  <tbody>\n",
       "    <tr>\n",
       "      <th>6203</th>\n",
       "      <td>2019-02-28 23:29:03</td>\n",
       "      <td>2019-02-28 23:32:35</td>\n",
       "      <td>1</td>\n",
       "      <td>0.9</td>\n",
       "      <td>5.0</td>\n",
       "      <td>0.0</td>\n",
       "      <td>0.0</td>\n",
       "      <td>6.3</td>\n",
       "      <td>green</td>\n",
       "      <td>cash</td>\n",
       "      <td>Old Astoria</td>\n",
       "      <td>Long Island City/Queens Plaza</td>\n",
       "      <td>Queens</td>\n",
       "      <td>Queens</td>\n",
       "    </tr>\n",
       "  </tbody>\n",
       "</table>\n",
       "</div>"
      ],
      "text/plain": [
       "                  pickup             dropoff  passengers  distance  fare  tip  \\\n",
       "6203 2019-02-28 23:29:03 2019-02-28 23:32:35           1       0.9   5.0  0.0   \n",
       "\n",
       "      tolls  total  color payment  pickup_zone                   dropoff_zone  \\\n",
       "6203    0.0    6.3  green    cash  Old Astoria  Long Island City/Queens Plaza   \n",
       "\n",
       "     pickup_borough dropoff_borough  \n",
       "6203         Queens          Queens  "
      ]
     },
     "execution_count": 83,
     "metadata": {},
     "output_type": "execute_result"
    }
   ],
   "source": [
    "# dates\n",
    "df.query(\"dropoff.dt.month == 2\").head(1)"
   ]
  },
  {
   "cell_type": "code",
   "execution_count": 84,
   "metadata": {
    "ExecuteTime": {
     "end_time": "2025-03-16T09:52:40.721654Z",
     "start_time": "2025-03-16T09:52:40.708662Z"
    },
    "colab": {
     "base_uri": "https://localhost:8080/",
     "height": 98
    },
    "executionInfo": {
     "elapsed": 96,
     "status": "ok",
     "timestamp": 1742117677483,
     "user": {
      "displayName": "Pacurar Sebastian",
      "userId": "15686393619609976384"
     },
     "user_tz": -120
    },
    "id": "HDg-QgReicqa",
    "outputId": "e979f5a9-be46-4a32-9ae7-7695964fdd81"
   },
   "outputs": [
    {
     "data": {
      "text/html": [
       "<div>\n",
       "<style scoped>\n",
       "    .dataframe tbody tr th:only-of-type {\n",
       "        vertical-align: middle;\n",
       "    }\n",
       "\n",
       "    .dataframe tbody tr th {\n",
       "        vertical-align: top;\n",
       "    }\n",
       "\n",
       "    .dataframe thead th {\n",
       "        text-align: right;\n",
       "    }\n",
       "</style>\n",
       "<table border=\"1\" class=\"dataframe\">\n",
       "  <thead>\n",
       "    <tr style=\"text-align: right;\">\n",
       "      <th></th>\n",
       "      <th>pickup</th>\n",
       "      <th>dropoff</th>\n",
       "      <th>passengers</th>\n",
       "      <th>distance</th>\n",
       "      <th>fare</th>\n",
       "      <th>tip</th>\n",
       "      <th>tolls</th>\n",
       "      <th>total</th>\n",
       "      <th>color</th>\n",
       "      <th>payment</th>\n",
       "      <th>pickup_zone</th>\n",
       "      <th>dropoff_zone</th>\n",
       "      <th>pickup_borough</th>\n",
       "      <th>dropoff_borough</th>\n",
       "    </tr>\n",
       "  </thead>\n",
       "  <tbody>\n",
       "    <tr>\n",
       "      <th>42</th>\n",
       "      <td>2019-03-30 23:59:14</td>\n",
       "      <td>2019-03-30 23:59:17</td>\n",
       "      <td>1</td>\n",
       "      <td>0.0</td>\n",
       "      <td>80.0</td>\n",
       "      <td>20.08</td>\n",
       "      <td>0.0</td>\n",
       "      <td>100.38</td>\n",
       "      <td>yellow</td>\n",
       "      <td>credit card</td>\n",
       "      <td>NaN</td>\n",
       "      <td>NaN</td>\n",
       "      <td>NaN</td>\n",
       "      <td>NaN</td>\n",
       "    </tr>\n",
       "  </tbody>\n",
       "</table>\n",
       "</div>"
      ],
      "text/plain": [
       "                pickup             dropoff  passengers  distance  fare    tip  \\\n",
       "42 2019-03-30 23:59:14 2019-03-30 23:59:17           1       0.0  80.0  20.08   \n",
       "\n",
       "    tolls   total   color      payment pickup_zone dropoff_zone  \\\n",
       "42    0.0  100.38  yellow  credit card         NaN          NaN   \n",
       "\n",
       "   pickup_borough dropoff_borough  \n",
       "42            NaN             NaN  "
      ]
     },
     "execution_count": 84,
     "metadata": {},
     "output_type": "execute_result"
    }
   ],
   "source": [
    "# null values\n",
    "df.query('pickup_borough.isna() == 1').head(1)"
   ]
  },
  {
   "cell_type": "code",
   "execution_count": 85,
   "metadata": {
    "ExecuteTime": {
     "end_time": "2025-03-16T09:52:41.142073Z",
     "start_time": "2025-03-16T09:52:41.131139Z"
    },
    "colab": {
     "base_uri": "https://localhost:8080/",
     "height": 81
    },
    "executionInfo": {
     "elapsed": 68,
     "status": "ok",
     "timestamp": 1742117677486,
     "user": {
      "displayName": "Pacurar Sebastian",
      "userId": "15686393619609976384"
     },
     "user_tz": -120
    },
    "id": "MCedEeviiqrI",
    "outputId": "9ad771ba-02fb-49d9-d550-46b43bfe0c72"
   },
   "outputs": [
    {
     "data": {
      "text/html": [
       "<div>\n",
       "<style scoped>\n",
       "    .dataframe tbody tr th:only-of-type {\n",
       "        vertical-align: middle;\n",
       "    }\n",
       "\n",
       "    .dataframe tbody tr th {\n",
       "        vertical-align: top;\n",
       "    }\n",
       "\n",
       "    .dataframe thead th {\n",
       "        text-align: right;\n",
       "    }\n",
       "</style>\n",
       "<table border=\"1\" class=\"dataframe\">\n",
       "  <thead>\n",
       "    <tr style=\"text-align: right;\">\n",
       "      <th></th>\n",
       "      <th>pickup</th>\n",
       "      <th>dropoff</th>\n",
       "      <th>total</th>\n",
       "      <th>payment</th>\n",
       "    </tr>\n",
       "  </thead>\n",
       "  <tbody>\n",
       "    <tr>\n",
       "      <th>3</th>\n",
       "      <td>2019-03-10 01:23:59</td>\n",
       "      <td>2019-03-10 01:49:51</td>\n",
       "      <td>36.95</td>\n",
       "      <td>credit card</td>\n",
       "    </tr>\n",
       "  </tbody>\n",
       "</table>\n",
       "</div>"
      ],
      "text/plain": [
       "               pickup             dropoff  total      payment\n",
       "3 2019-03-10 01:23:59 2019-03-10 01:49:51  36.95  credit card"
      ]
     },
     "execution_count": 85,
     "metadata": {},
     "output_type": "execute_result"
    }
   ],
   "source": [
    "# grab a series or column after query\n",
    "df.query(\"dropoff.dt.day == 10\")[[\"pickup\", \"dropoff\", \"total\", \"payment\"]].head(1)"
   ]
  },
  {
   "cell_type": "code",
   "execution_count": 86,
   "metadata": {
    "ExecuteTime": {
     "end_time": "2025-03-16T09:52:41.415319Z",
     "start_time": "2025-03-16T09:52:41.399958Z"
    },
    "colab": {
     "base_uri": "https://localhost:8080/",
     "height": 98
    },
    "executionInfo": {
     "elapsed": 31,
     "status": "ok",
     "timestamp": 1742117677515,
     "user": {
      "displayName": "Pacurar Sebastian",
      "userId": "15686393619609976384"
     },
     "user_tz": -120
    },
    "id": "4wqtS1nljM-8",
    "outputId": "2c507c52-16ff-4a39-b954-7c15107013e8"
   },
   "outputs": [
    {
     "data": {
      "text/html": [
       "<div>\n",
       "<style scoped>\n",
       "    .dataframe tbody tr th:only-of-type {\n",
       "        vertical-align: middle;\n",
       "    }\n",
       "\n",
       "    .dataframe tbody tr th {\n",
       "        vertical-align: top;\n",
       "    }\n",
       "\n",
       "    .dataframe thead th {\n",
       "        text-align: right;\n",
       "    }\n",
       "</style>\n",
       "<table border=\"1\" class=\"dataframe\">\n",
       "  <thead>\n",
       "    <tr style=\"text-align: right;\">\n",
       "      <th></th>\n",
       "      <th>pickup</th>\n",
       "      <th>dropoff</th>\n",
       "      <th>passengers</th>\n",
       "      <th>distance</th>\n",
       "      <th>fare</th>\n",
       "      <th>tip</th>\n",
       "      <th>tolls</th>\n",
       "      <th>total</th>\n",
       "      <th>color</th>\n",
       "      <th>payment</th>\n",
       "      <th>pickup_zone</th>\n",
       "      <th>dropoff_zone</th>\n",
       "      <th>pickup_borough</th>\n",
       "      <th>dropoff_borough</th>\n",
       "    </tr>\n",
       "  </thead>\n",
       "  <tbody>\n",
       "    <tr>\n",
       "      <th>0</th>\n",
       "      <td>2019-03-23 20:21:09</td>\n",
       "      <td>2019-03-23 20:27:24</td>\n",
       "      <td>1</td>\n",
       "      <td>1.6</td>\n",
       "      <td>7.0</td>\n",
       "      <td>2.15</td>\n",
       "      <td>0.0</td>\n",
       "      <td>12.95</td>\n",
       "      <td>yellow</td>\n",
       "      <td>credit card</td>\n",
       "      <td>Lenox Hill West</td>\n",
       "      <td>UN/Turtle Bay South</td>\n",
       "      <td>Manhattan</td>\n",
       "      <td>Manhattan</td>\n",
       "    </tr>\n",
       "  </tbody>\n",
       "</table>\n",
       "</div>"
      ],
      "text/plain": [
       "               pickup             dropoff  passengers  distance  fare   tip  \\\n",
       "0 2019-03-23 20:21:09 2019-03-23 20:27:24           1       1.6   7.0  2.15   \n",
       "\n",
       "   tolls  total   color      payment      pickup_zone         dropoff_zone  \\\n",
       "0    0.0  12.95  yellow  credit card  Lenox Hill West  UN/Turtle Bay South   \n",
       "\n",
       "  pickup_borough dropoff_borough  \n",
       "0      Manhattan       Manhattan  "
      ]
     },
     "execution_count": 86,
     "metadata": {},
     "output_type": "execute_result"
    }
   ],
   "source": [
    "# make changes to original dataframe\n",
    "df2 = df.copy()\n",
    "df2.query(\"color == 'yellow'\", inplace=True)\n",
    "df2.head(1)"
   ]
  },
  {
   "cell_type": "code",
   "execution_count": 87,
   "metadata": {
    "ExecuteTime": {
     "end_time": "2025-03-16T09:52:41.726253Z",
     "start_time": "2025-03-16T09:52:41.714267Z"
    },
    "colab": {
     "base_uri": "https://localhost:8080/",
     "height": 98
    },
    "executionInfo": {
     "elapsed": 23,
     "status": "ok",
     "timestamp": 1742117677536,
     "user": {
      "displayName": "Pacurar Sebastian",
      "userId": "15686393619609976384"
     },
     "user_tz": -120
    },
    "id": "OglWYiUb5C8G",
    "outputId": "8079e055-ba14-439b-c1a3-a6c5cf36a5f6"
   },
   "outputs": [
    {
     "data": {
      "text/html": [
       "<div>\n",
       "<style scoped>\n",
       "    .dataframe tbody tr th:only-of-type {\n",
       "        vertical-align: middle;\n",
       "    }\n",
       "\n",
       "    .dataframe tbody tr th {\n",
       "        vertical-align: top;\n",
       "    }\n",
       "\n",
       "    .dataframe thead th {\n",
       "        text-align: right;\n",
       "    }\n",
       "</style>\n",
       "<table border=\"1\" class=\"dataframe\">\n",
       "  <thead>\n",
       "    <tr style=\"text-align: right;\">\n",
       "      <th></th>\n",
       "      <th>pickup</th>\n",
       "      <th>dropoff</th>\n",
       "      <th>passengers</th>\n",
       "      <th>distance</th>\n",
       "      <th>fare</th>\n",
       "      <th>tip</th>\n",
       "      <th>tolls</th>\n",
       "      <th>total</th>\n",
       "      <th>color</th>\n",
       "      <th>payment</th>\n",
       "      <th>pickup_zone</th>\n",
       "      <th>dropoff_zone</th>\n",
       "      <th>pickup_borough</th>\n",
       "      <th>dropoff_borough</th>\n",
       "    </tr>\n",
       "  </thead>\n",
       "  <tbody>\n",
       "    <tr>\n",
       "      <th>42</th>\n",
       "      <td>2019-03-30 23:59:14</td>\n",
       "      <td>2019-03-30 23:59:17</td>\n",
       "      <td>1</td>\n",
       "      <td>0.0</td>\n",
       "      <td>80.0</td>\n",
       "      <td>20.08</td>\n",
       "      <td>0.0</td>\n",
       "      <td>100.38</td>\n",
       "      <td>yellow</td>\n",
       "      <td>credit card</td>\n",
       "      <td>NaN</td>\n",
       "      <td>NaN</td>\n",
       "      <td>NaN</td>\n",
       "      <td>NaN</td>\n",
       "    </tr>\n",
       "  </tbody>\n",
       "</table>\n",
       "</div>"
      ],
      "text/plain": [
       "                pickup             dropoff  passengers  distance  fare    tip  \\\n",
       "42 2019-03-30 23:59:14 2019-03-30 23:59:17           1       0.0  80.0  20.08   \n",
       "\n",
       "    tolls   total   color      payment pickup_zone dropoff_zone  \\\n",
       "42    0.0  100.38  yellow  credit card         NaN          NaN   \n",
       "\n",
       "   pickup_borough dropoff_borough  \n",
       "42            NaN             NaN  "
      ]
     },
     "execution_count": 87,
     "metadata": {},
     "output_type": "execute_result"
    }
   ],
   "source": [
    "# get trips where the fare is above $50, but the distance is less than 3 miles\n",
    "df.query(\"fare > 50 and distance < 3\").head(1)"
   ]
  },
  {
   "cell_type": "code",
   "execution_count": 88,
   "metadata": {
    "ExecuteTime": {
     "end_time": "2025-03-16T09:52:41.944545Z",
     "start_time": "2025-03-16T09:52:41.926548Z"
    },
    "colab": {
     "base_uri": "https://localhost:8080/",
     "height": 98
    },
    "executionInfo": {
     "elapsed": 20,
     "status": "ok",
     "timestamp": 1742117677556,
     "user": {
      "displayName": "Pacurar Sebastian",
      "userId": "15686393619609976384"
     },
     "user_tz": -120
    },
    "id": "-r3SGURy5Dwq",
    "outputId": "81662a44-f515-449a-8ece-9fbbe5d004a2"
   },
   "outputs": [
    {
     "data": {
      "text/html": [
       "<div>\n",
       "<style scoped>\n",
       "    .dataframe tbody tr th:only-of-type {\n",
       "        vertical-align: middle;\n",
       "    }\n",
       "\n",
       "    .dataframe tbody tr th {\n",
       "        vertical-align: top;\n",
       "    }\n",
       "\n",
       "    .dataframe thead th {\n",
       "        text-align: right;\n",
       "    }\n",
       "</style>\n",
       "<table border=\"1\" class=\"dataframe\">\n",
       "  <thead>\n",
       "    <tr style=\"text-align: right;\">\n",
       "      <th></th>\n",
       "      <th>pickup</th>\n",
       "      <th>dropoff</th>\n",
       "      <th>passengers</th>\n",
       "      <th>distance</th>\n",
       "      <th>fare</th>\n",
       "      <th>tip</th>\n",
       "      <th>tolls</th>\n",
       "      <th>total</th>\n",
       "      <th>color</th>\n",
       "      <th>payment</th>\n",
       "      <th>pickup_zone</th>\n",
       "      <th>dropoff_zone</th>\n",
       "      <th>pickup_borough</th>\n",
       "      <th>dropoff_borough</th>\n",
       "    </tr>\n",
       "  </thead>\n",
       "  <tbody>\n",
       "    <tr>\n",
       "      <th>0</th>\n",
       "      <td>2019-03-23 20:21:09</td>\n",
       "      <td>2019-03-23 20:27:24</td>\n",
       "      <td>1</td>\n",
       "      <td>1.6</td>\n",
       "      <td>7.0</td>\n",
       "      <td>2.15</td>\n",
       "      <td>0.0</td>\n",
       "      <td>12.95</td>\n",
       "      <td>yellow</td>\n",
       "      <td>credit card</td>\n",
       "      <td>Lenox Hill West</td>\n",
       "      <td>UN/Turtle Bay South</td>\n",
       "      <td>Manhattan</td>\n",
       "      <td>Manhattan</td>\n",
       "    </tr>\n",
       "  </tbody>\n",
       "</table>\n",
       "</div>"
      ],
      "text/plain": [
       "               pickup             dropoff  passengers  distance  fare   tip  \\\n",
       "0 2019-03-23 20:21:09 2019-03-23 20:27:24           1       1.6   7.0  2.15   \n",
       "\n",
       "   tolls  total   color      payment      pickup_zone         dropoff_zone  \\\n",
       "0    0.0  12.95  yellow  credit card  Lenox Hill West  UN/Turtle Bay South   \n",
       "\n",
       "  pickup_borough dropoff_borough  \n",
       "0      Manhattan       Manhattan  "
      ]
     },
     "execution_count": 88,
     "metadata": {},
     "output_type": "execute_result"
    }
   ],
   "source": [
    "# get trips with tips greater than 30% of fare\n",
    "df.query(\"tip / fare > 0.3\").head(1)"
   ]
  },
  {
   "cell_type": "code",
   "execution_count": 89,
   "metadata": {
    "ExecuteTime": {
     "end_time": "2025-03-16T09:52:42.390501Z",
     "start_time": "2025-03-16T09:52:42.375501Z"
    },
    "colab": {
     "base_uri": "https://localhost:8080/",
     "height": 98
    },
    "executionInfo": {
     "elapsed": 43,
     "status": "ok",
     "timestamp": 1742117677617,
     "user": {
      "displayName": "Pacurar Sebastian",
      "userId": "15686393619609976384"
     },
     "user_tz": -120
    },
    "id": "4abTo3Y35Dg4",
    "outputId": "82dd9788-55a3-42e8-ef68-021d1a771da2"
   },
   "outputs": [
    {
     "data": {
      "text/html": [
       "<div>\n",
       "<style scoped>\n",
       "    .dataframe tbody tr th:only-of-type {\n",
       "        vertical-align: middle;\n",
       "    }\n",
       "\n",
       "    .dataframe tbody tr th {\n",
       "        vertical-align: top;\n",
       "    }\n",
       "\n",
       "    .dataframe thead th {\n",
       "        text-align: right;\n",
       "    }\n",
       "</style>\n",
       "<table border=\"1\" class=\"dataframe\">\n",
       "  <thead>\n",
       "    <tr style=\"text-align: right;\">\n",
       "      <th></th>\n",
       "      <th>pickup</th>\n",
       "      <th>dropoff</th>\n",
       "      <th>passengers</th>\n",
       "      <th>distance</th>\n",
       "      <th>fare</th>\n",
       "      <th>tip</th>\n",
       "      <th>tolls</th>\n",
       "      <th>total</th>\n",
       "      <th>color</th>\n",
       "      <th>payment</th>\n",
       "      <th>pickup_zone</th>\n",
       "      <th>dropoff_zone</th>\n",
       "      <th>pickup_borough</th>\n",
       "      <th>dropoff_borough</th>\n",
       "    </tr>\n",
       "  </thead>\n",
       "  <tbody>\n",
       "    <tr>\n",
       "      <th>393</th>\n",
       "      <td>2019-03-22 04:46:14</td>\n",
       "      <td>2019-03-22 05:16:28</td>\n",
       "      <td>5</td>\n",
       "      <td>18.94</td>\n",
       "      <td>52.0</td>\n",
       "      <td>12.21</td>\n",
       "      <td>5.76</td>\n",
       "      <td>73.27</td>\n",
       "      <td>yellow</td>\n",
       "      <td>credit card</td>\n",
       "      <td>Upper East Side North</td>\n",
       "      <td>JFK Airport</td>\n",
       "      <td>Manhattan</td>\n",
       "      <td>Queens</td>\n",
       "    </tr>\n",
       "  </tbody>\n",
       "</table>\n",
       "</div>"
      ],
      "text/plain": [
       "                 pickup             dropoff  passengers  distance  fare  \\\n",
       "393 2019-03-22 04:46:14 2019-03-22 05:16:28           5     18.94  52.0   \n",
       "\n",
       "       tip  tolls  total   color      payment            pickup_zone  \\\n",
       "393  12.21   5.76  73.27  yellow  credit card  Upper East Side North   \n",
       "\n",
       "    dropoff_zone pickup_borough dropoff_borough  \n",
       "393  JFK Airport      Manhattan          Queens  "
      ]
     },
     "execution_count": 89,
     "metadata": {},
     "output_type": "execute_result"
    }
   ],
   "source": [
    "# get night-time trips with high fares:\n",
    "#  pickup_borough = Manhattan\n",
    "#  pickup = 00:00 - 4:00\n",
    "#  fare is above 40$\n",
    "df.query(\"pickup_borough == 'Manhattan' and 0 <= pickup.dt.hour <= 4 and fare > 40\").head(1)"
   ]
  },
  {
   "cell_type": "markdown",
   "metadata": {
    "id": "WzZ_IR9ZFk87"
   },
   "source": [
    "<br><hr><br>"
   ]
  },
  {
   "cell_type": "markdown",
   "metadata": {
    "id": "EZNgHxS31W8U"
   },
   "source": [
    "### 2.3 - where()\n",
    "\n",
    "* The opposite of **mask()**\n",
    "    * Keeps the values when condition is True and replaces others\n",
    "    * The values that do not meet the condition are replaced with a specified value (defaults to NaN)\n",
    "* Used when you want to **keep values that meet a condition and replace others**"
   ]
  },
  {
   "cell_type": "markdown",
   "metadata": {
    "id": "4LjuVRCyE-by"
   },
   "source": [
    "#### 2.3.1 - Series"
   ]
  },
  {
   "cell_type": "code",
   "execution_count": 93,
   "metadata": {
    "ExecuteTime": {
     "end_time": "2025-03-16T09:52:42.612978Z",
     "start_time": "2025-03-16T09:52:42.607042Z"
    },
    "colab": {
     "base_uri": "https://localhost:8080/",
     "height": 241
    },
    "executionInfo": {
     "elapsed": 12,
     "status": "ok",
     "timestamp": 1742117677631,
     "user": {
      "displayName": "Pacurar Sebastian",
      "userId": "15686393619609976384"
     },
     "user_tz": -120
    },
    "id": "WQimV8PC5rDw",
    "outputId": "5be1c130-3656-4072-be5b-9b99095464fa"
   },
   "outputs": [
    {
     "data": {
      "text/plain": [
       "a    684\n",
       "b    559\n",
       "c    629\n",
       "d    192\n",
       "e    835\n",
       "dtype: int32"
      ]
     },
     "execution_count": 93,
     "metadata": {},
     "output_type": "execute_result"
    }
   ],
   "source": [
    "np.random.seed(0)\n",
    "s = pd.Series(np.random.randint(0, 1000, 5), index=list('abcde'))\n",
    "s"
   ]
  },
  {
   "cell_type": "code",
   "execution_count": 94,
   "metadata": {
    "ExecuteTime": {
     "end_time": "2025-03-16T09:52:43.157182Z",
     "start_time": "2025-03-16T09:52:43.148512Z"
    },
    "colab": {
     "base_uri": "https://localhost:8080/",
     "height": 241
    },
    "executionInfo": {
     "elapsed": 7,
     "status": "ok",
     "timestamp": 1742117677639,
     "user": {
      "displayName": "Pacurar Sebastian",
      "userId": "15686393619609976384"
     },
     "user_tz": -120
    },
    "id": "fWCqAeBK3x7U",
    "outputId": "38436553-92b6-4f52-be90-2f57478f9a11"
   },
   "outputs": [
    {
     "data": {
      "text/plain": [
       "a    684.0\n",
       "b    559.0\n",
       "c    629.0\n",
       "d      NaN\n",
       "e    835.0\n",
       "dtype: float64"
      ]
     },
     "execution_count": 94,
     "metadata": {},
     "output_type": "execute_result"
    }
   ],
   "source": [
    "# get the series with the kept value if the value > 300, else return NaN for that value\n",
    "s.where(s > 300)"
   ]
  },
  {
   "cell_type": "code",
   "execution_count": 95,
   "metadata": {
    "ExecuteTime": {
     "end_time": "2025-03-16T09:52:43.433445Z",
     "start_time": "2025-03-16T09:52:43.427735Z"
    },
    "colab": {
     "base_uri": "https://localhost:8080/",
     "height": 241
    },
    "executionInfo": {
     "elapsed": 32,
     "status": "ok",
     "timestamp": 1742117677672,
     "user": {
      "displayName": "Pacurar Sebastian",
      "userId": "15686393619609976384"
     },
     "user_tz": -120
    },
    "id": "i8PLJPmz4B8m",
    "outputId": "2339d0ee-8e79-48f1-b5dd-e53b73a988b1"
   },
   "outputs": [
    {
     "data": {
      "text/plain": [
       "a    684\n",
       "b    559\n",
       "c    629\n",
       "d     -1\n",
       "e    835\n",
       "dtype: int32"
      ]
     },
     "execution_count": 95,
     "metadata": {},
     "output_type": "execute_result"
    }
   ],
   "source": [
    "# get the series with the kept value if the value > 300, else return -1 for that value\n",
    "s.where(s > 300, -1)"
   ]
  },
  {
   "cell_type": "code",
   "execution_count": 96,
   "metadata": {
    "ExecuteTime": {
     "end_time": "2025-03-16T09:52:43.761747Z",
     "start_time": "2025-03-16T09:52:43.745520Z"
    },
    "colab": {
     "base_uri": "https://localhost:8080/",
     "height": 241
    },
    "executionInfo": {
     "elapsed": 13,
     "status": "ok",
     "timestamp": 1742117677686,
     "user": {
      "displayName": "Pacurar Sebastian",
      "userId": "15686393619609976384"
     },
     "user_tz": -120
    },
    "id": "oQKdZh_F4LRn",
    "outputId": "a2b15a74-9622-416b-ddc6-564baefa72b2"
   },
   "outputs": [
    {
     "data": {
      "text/plain": [
       "a    684\n",
       "b    559\n",
       "c    629\n",
       "d   -192\n",
       "e    835\n",
       "dtype: int32"
      ]
     },
     "execution_count": 96,
     "metadata": {},
     "output_type": "execute_result"
    }
   ],
   "source": [
    "# pass a callable as second arg, and return the value if value > 300 else (value * -1)\n",
    "s.where(s > 300, lambda s_: s_ * -1)"
   ]
  },
  {
   "cell_type": "code",
   "execution_count": 97,
   "metadata": {
    "ExecuteTime": {
     "end_time": "2025-03-16T09:52:44.088930Z",
     "start_time": "2025-03-16T09:52:44.076932Z"
    },
    "colab": {
     "base_uri": "https://localhost:8080/",
     "height": 241
    },
    "executionInfo": {
     "elapsed": 41,
     "status": "ok",
     "timestamp": 1742117677728,
     "user": {
      "displayName": "Pacurar Sebastian",
      "userId": "15686393619609976384"
     },
     "user_tz": -120
    },
    "id": "g8x-v8Ro459p",
    "outputId": "c0e8c3e6-95d3-4d53-f106-e996cb5d92a1"
   },
   "outputs": [
    {
     "data": {
      "text/plain": [
       "a    684.0\n",
       "b      NaN\n",
       "c      NaN\n",
       "d    192.0\n",
       "e      NaN\n",
       "dtype: float64"
      ]
     },
     "execution_count": 97,
     "metadata": {},
     "output_type": "execute_result"
    }
   ],
   "source": [
    "# set all odd values to NaN\n",
    "s.where(s % 2 == 0)"
   ]
  },
  {
   "cell_type": "markdown",
   "metadata": {
    "id": "aQf6qhhQFDgR"
   },
   "source": [
    "#### 2.3.1 - Data Frames"
   ]
  },
  {
   "cell_type": "code",
   "execution_count": 99,
   "metadata": {
    "ExecuteTime": {
     "end_time": "2025-03-16T09:52:44.394278Z",
     "start_time": "2025-03-16T09:52:44.389161Z"
    },
    "colab": {
     "base_uri": "https://localhost:8080/"
    },
    "executionInfo": {
     "elapsed": 9,
     "status": "ok",
     "timestamp": 1742117677729,
     "user": {
      "displayName": "Pacurar Sebastian",
      "userId": "15686393619609976384"
     },
     "user_tz": -120
    },
    "id": "JMtsOfRBH0yh",
    "outputId": "51b80c80-c26b-40bd-e9fc-76bccfbdd6f1"
   },
   "outputs": [
    {
     "name": "stdout",
     "output_type": "stream",
     "text": [
      "boom\n"
     ]
    }
   ],
   "source": [
    "print(\"boom\")"
   ]
  },
  {
   "cell_type": "markdown",
   "metadata": {
    "id": "XBzfAiXzIorF"
   },
   "source": [
    "<br><hr><br>"
   ]
  },
  {
   "cell_type": "markdown",
   "metadata": {
    "id": "rYQHhId06XGf"
   },
   "source": [
    "### 2.4 - mask()\n",
    "\n",
    "* Opposite of where()\n",
    "    * Replaces values where the condition is True\n",
    "    * The values that meet the condition are replaced with a specified value (defaults to NaN)\n",
    "* Use when you want to ***replace values that meet a condition***\n"
   ]
  },
  {
   "cell_type": "code",
   "execution_count": 102,
   "metadata": {
    "ExecuteTime": {
     "end_time": "2025-03-16T09:52:44.626836Z",
     "start_time": "2025-03-16T09:52:44.621405Z"
    },
    "colab": {
     "base_uri": "https://localhost:8080/",
     "height": 241
    },
    "executionInfo": {
     "elapsed": 34,
     "status": "ok",
     "timestamp": 1742117677761,
     "user": {
      "displayName": "Pacurar Sebastian",
      "userId": "15686393619609976384"
     },
     "user_tz": -120
    },
    "id": "hwpor6O46Ypx",
    "outputId": "16160824-1e61-4a7a-dd2a-583f1684b2ef"
   },
   "outputs": [
    {
     "data": {
      "text/plain": [
       "a    684\n",
       "b    559\n",
       "c    629\n",
       "d    192\n",
       "e    835\n",
       "dtype: int32"
      ]
     },
     "execution_count": 102,
     "metadata": {},
     "output_type": "execute_result"
    }
   ],
   "source": [
    "np.random.seed(0)\n",
    "s = pd.Series(np.random.randint(0, 1000, 5), index=list('abcde'))\n",
    "s"
   ]
  },
  {
   "cell_type": "code",
   "execution_count": 103,
   "metadata": {
    "ExecuteTime": {
     "end_time": "2025-03-16T09:52:44.842258Z",
     "start_time": "2025-03-16T09:52:44.836158Z"
    },
    "colab": {
     "base_uri": "https://localhost:8080/",
     "height": 241
    },
    "executionInfo": {
     "elapsed": 10,
     "status": "ok",
     "timestamp": 1742117677773,
     "user": {
      "displayName": "Pacurar Sebastian",
      "userId": "15686393619609976384"
     },
     "user_tz": -120
    },
    "id": "AhvjFiUeAUXM",
    "outputId": "083ae253-bb71-40a0-b3cf-9eb053230f2d"
   },
   "outputs": [
    {
     "data": {
      "text/plain": [
       "a    685\n",
       "b    559\n",
       "c    629\n",
       "d    193\n",
       "e    835\n",
       "dtype: int32"
      ]
     },
     "execution_count": 103,
     "metadata": {},
     "output_type": "execute_result"
    }
   ],
   "source": [
    "s.mask(s % 2 == 0, lambda s_: s_ + 1)\n"
   ]
  },
  {
   "cell_type": "markdown",
   "metadata": {
    "id": "I391uNuWIsy8"
   },
   "source": [
    "<br><hr><br>"
   ]
  },
  {
   "cell_type": "markdown",
   "metadata": {
    "id": "PS82MiE0dFu_"
   },
   "source": [
    "### 2.5 - Masking\n",
    "\n",
    "* reference the columns as series objects and compare them directly"
   ]
  },
  {
   "cell_type": "code",
   "execution_count": 106,
   "metadata": {
    "ExecuteTime": {
     "end_time": "2025-03-16T09:52:44.981148Z",
     "start_time": "2025-03-16T09:52:44.975955Z"
    },
    "colab": {
     "base_uri": "https://localhost:8080/",
     "height": 241
    },
    "executionInfo": {
     "elapsed": 10,
     "status": "ok",
     "timestamp": 1742117677785,
     "user": {
      "displayName": "Pacurar Sebastian",
      "userId": "15686393619609976384"
     },
     "user_tz": -120
    },
    "id": "7PPVzhiLdTqy",
    "outputId": "d1d0c3a6-f597-46f3-80fe-38562d304c04"
   },
   "outputs": [
    {
     "data": {
      "text/plain": [
       "a    684\n",
       "b    559\n",
       "c    629\n",
       "d    192\n",
       "e    835\n",
       "dtype: int32"
      ]
     },
     "execution_count": 106,
     "metadata": {},
     "output_type": "execute_result"
    }
   ],
   "source": [
    "np.random.seed(0)\n",
    "s = pd.Series(np.random.randint(0, 1000, 5), index=list('abcde'))\n",
    "s"
   ]
  },
  {
   "cell_type": "code",
   "execution_count": 107,
   "metadata": {
    "ExecuteTime": {
     "end_time": "2025-03-16T09:52:45.158496Z",
     "start_time": "2025-03-16T09:52:45.153598Z"
    },
    "colab": {
     "base_uri": "https://localhost:8080/",
     "height": 241
    },
    "executionInfo": {
     "elapsed": 11,
     "status": "ok",
     "timestamp": 1742117677797,
     "user": {
      "displayName": "Pacurar Sebastian",
      "userId": "15686393619609976384"
     },
     "user_tz": -120
    },
    "id": "Q_dUKDaB2n5I",
    "outputId": "9e16af70-b91e-40b6-e074-578cd198d155"
   },
   "outputs": [
    {
     "data": {
      "text/plain": [
       "a     True\n",
       "b     True\n",
       "c     True\n",
       "d    False\n",
       "e     True\n",
       "dtype: bool"
      ]
     },
     "execution_count": 107,
     "metadata": {},
     "output_type": "execute_result"
    }
   ],
   "source": [
    "# get all values greater than 300\n",
    "s > 300"
   ]
  },
  {
   "cell_type": "code",
   "execution_count": 108,
   "metadata": {
    "ExecuteTime": {
     "end_time": "2025-03-16T09:52:45.379004Z",
     "start_time": "2025-03-16T09:52:45.371656Z"
    },
    "colab": {
     "base_uri": "https://localhost:8080/",
     "height": 147
    },
    "executionInfo": {
     "elapsed": 11,
     "status": "ok",
     "timestamp": 1742117677807,
     "user": {
      "displayName": "Pacurar Sebastian",
      "userId": "15686393619609976384"
     },
     "user_tz": -120
    },
    "id": "ffgjm4k03Ajs",
    "outputId": "8b613162-14ad-4a3b-c49f-5e70a1a471e7"
   },
   "outputs": [
    {
     "data": {
      "text/plain": [
       "a    684\n",
       "e    835\n",
       "dtype: int32"
      ]
     },
     "execution_count": 108,
     "metadata": {},
     "output_type": "execute_result"
    }
   ],
   "source": [
    "# apply boolean series as a mask index, getting back only those values that are > 650\n",
    "s.loc[s > 650]  # \"s > 650\" is a mask index"
   ]
  },
  {
   "cell_type": "code",
   "execution_count": 109,
   "metadata": {
    "ExecuteTime": {
     "end_time": "2025-03-16T09:52:45.665349Z",
     "start_time": "2025-03-16T09:52:45.659349Z"
    },
    "colab": {
     "base_uri": "https://localhost:8080/",
     "height": 241
    },
    "executionInfo": {
     "elapsed": 9,
     "status": "ok",
     "timestamp": 1742117677817,
     "user": {
      "displayName": "Pacurar Sebastian",
      "userId": "15686393619609976384"
     },
     "user_tz": -120
    },
    "id": "ee-UM3fi3QHC",
    "outputId": "5c23d019-c830-4956-dc52-83fb5d479f45"
   },
   "outputs": [
    {
     "data": {
      "text/plain": [
       "a    684.0\n",
       "b    559.0\n",
       "c    629.0\n",
       "d      NaN\n",
       "e    835.0\n",
       "dtype: float64"
      ]
     },
     "execution_count": 109,
     "metadata": {},
     "output_type": "execute_result"
    }
   ],
   "source": [
    "# replace values that are not  > 300 with NaN\n",
    "s.loc[s <= 300] = np.nan\n",
    "s"
   ]
  },
  {
   "cell_type": "markdown",
   "metadata": {
    "id": "NFfVhe7XK_CL"
   },
   "source": [
    "<br><hr><hr><br>"
   ]
  },
  {
   "cell_type": "markdown",
   "metadata": {
    "id": "f9vGhSthhJtu"
   },
   "source": [
    "# 3) Dates and Time"
   ]
  },
  {
   "cell_type": "markdown",
   "metadata": {
    "id": "e9WxcZ9AIviu"
   },
   "source": [
    "<br><hr><br>"
   ]
  },
  {
   "cell_type": "markdown",
   "metadata": {
    "id": "ndxDtAer6afO"
   },
   "source": [
    "### 3.1 - Extracting time components"
   ]
  },
  {
   "cell_type": "code",
   "execution_count": 114,
   "metadata": {
    "ExecuteTime": {
     "end_time": "2025-03-16T09:52:45.938793Z",
     "start_time": "2025-03-16T09:52:45.912798Z"
    },
    "colab": {
     "base_uri": "https://localhost:8080/",
     "height": 306
    },
    "executionInfo": {
     "elapsed": 31,
     "status": "ok",
     "timestamp": 1742117677846,
     "user": {
      "displayName": "Pacurar Sebastian",
      "userId": "15686393619609976384"
     },
     "user_tz": -120
    },
    "id": "ne24UYJazARX",
    "outputId": "894ae308-6b14-4224-a442-4536cc0cded6"
   },
   "outputs": [
    {
     "name": "stdout",
     "output_type": "stream",
     "text": [
      "Initial data frame:\n"
     ]
    },
    {
     "data": {
      "text/html": [
       "<div>\n",
       "<style scoped>\n",
       "    .dataframe tbody tr th:only-of-type {\n",
       "        vertical-align: middle;\n",
       "    }\n",
       "\n",
       "    .dataframe tbody tr th {\n",
       "        vertical-align: top;\n",
       "    }\n",
       "\n",
       "    .dataframe thead th {\n",
       "        text-align: right;\n",
       "    }\n",
       "</style>\n",
       "<table border=\"1\" class=\"dataframe\">\n",
       "  <thead>\n",
       "    <tr style=\"text-align: right;\">\n",
       "      <th></th>\n",
       "      <th>datetime</th>\n",
       "    </tr>\n",
       "  </thead>\n",
       "  <tbody>\n",
       "    <tr>\n",
       "      <th>0</th>\n",
       "      <td>2023-02-01 14:30:45</td>\n",
       "    </tr>\n",
       "    <tr>\n",
       "      <th>1</th>\n",
       "      <td>2023-03-15 09:15:30</td>\n",
       "    </tr>\n",
       "    <tr>\n",
       "      <th>2</th>\n",
       "      <td>2023-05-20 18:45:15</td>\n",
       "    </tr>\n",
       "  </tbody>\n",
       "</table>\n",
       "</div>"
      ],
      "text/plain": [
       "             datetime\n",
       "0 2023-02-01 14:30:45\n",
       "1 2023-03-15 09:15:30\n",
       "2 2023-05-20 18:45:15"
      ]
     },
     "metadata": {},
     "output_type": "display_data"
    },
    {
     "name": "stdout",
     "output_type": "stream",
     "text": [
      "Add extracted data as columns\n"
     ]
    },
    {
     "data": {
      "text/html": [
       "<div>\n",
       "<style scoped>\n",
       "    .dataframe tbody tr th:only-of-type {\n",
       "        vertical-align: middle;\n",
       "    }\n",
       "\n",
       "    .dataframe tbody tr th {\n",
       "        vertical-align: top;\n",
       "    }\n",
       "\n",
       "    .dataframe thead th {\n",
       "        text-align: right;\n",
       "    }\n",
       "</style>\n",
       "<table border=\"1\" class=\"dataframe\">\n",
       "  <thead>\n",
       "    <tr style=\"text-align: right;\">\n",
       "      <th></th>\n",
       "      <th>datetime</th>\n",
       "      <th>year</th>\n",
       "      <th>month</th>\n",
       "      <th>day</th>\n",
       "      <th>weekday</th>\n",
       "      <th>quarter</th>\n",
       "      <th>hour</th>\n",
       "      <th>minute</th>\n",
       "      <th>second</th>\n",
       "      <th>month_name</th>\n",
       "      <th>day_name</th>\n",
       "    </tr>\n",
       "  </thead>\n",
       "  <tbody>\n",
       "    <tr>\n",
       "      <th>0</th>\n",
       "      <td>2023-02-01 14:30:45</td>\n",
       "      <td>2023</td>\n",
       "      <td>2</td>\n",
       "      <td>1</td>\n",
       "      <td>2</td>\n",
       "      <td>1</td>\n",
       "      <td>14</td>\n",
       "      <td>30</td>\n",
       "      <td>45</td>\n",
       "      <td>February</td>\n",
       "      <td>Wednesday</td>\n",
       "    </tr>\n",
       "    <tr>\n",
       "      <th>1</th>\n",
       "      <td>2023-03-15 09:15:30</td>\n",
       "      <td>2023</td>\n",
       "      <td>3</td>\n",
       "      <td>15</td>\n",
       "      <td>2</td>\n",
       "      <td>1</td>\n",
       "      <td>9</td>\n",
       "      <td>15</td>\n",
       "      <td>30</td>\n",
       "      <td>March</td>\n",
       "      <td>Wednesday</td>\n",
       "    </tr>\n",
       "    <tr>\n",
       "      <th>2</th>\n",
       "      <td>2023-05-20 18:45:15</td>\n",
       "      <td>2023</td>\n",
       "      <td>5</td>\n",
       "      <td>20</td>\n",
       "      <td>5</td>\n",
       "      <td>2</td>\n",
       "      <td>18</td>\n",
       "      <td>45</td>\n",
       "      <td>15</td>\n",
       "      <td>May</td>\n",
       "      <td>Saturday</td>\n",
       "    </tr>\n",
       "  </tbody>\n",
       "</table>\n",
       "</div>"
      ],
      "text/plain": [
       "             datetime  year  month  day  weekday  quarter  hour  minute  \\\n",
       "0 2023-02-01 14:30:45  2023      2    1        2        1    14      30   \n",
       "1 2023-03-15 09:15:30  2023      3   15        2        1     9      15   \n",
       "2 2023-05-20 18:45:15  2023      5   20        5        2    18      45   \n",
       "\n",
       "   second month_name   day_name  \n",
       "0      45   February  Wednesday  \n",
       "1      30      March  Wednesday  \n",
       "2      15        May   Saturday  "
      ]
     },
     "metadata": {},
     "output_type": "display_data"
    }
   ],
   "source": [
    "df = pd.DataFrame({'datetime': ['2023-02-01 14:30:45', '2023-03-15 09:15:30', '2023-05-20 18:45:15']})\n",
    "df['datetime'] = pd.to_datetime(df['datetime'])\n",
    "\n",
    "print(\"Initial data frame:\")\n",
    "display(df)\n",
    "\n",
    "df['year'] = df['datetime'].dt.year\n",
    "df['month'] = df['datetime'].dt.month\n",
    "df['day'] = df['datetime'].dt.day\n",
    "df['weekday'] = df['datetime'].dt.weekday\n",
    "df['quarter'] = df['datetime'].dt.quarter\n",
    "df['hour'] = df['datetime'].dt.hour\n",
    "df['minute'] = df['datetime'].dt.minute\n",
    "df['second'] = df['datetime'].dt.second\n",
    "df['month_name'] = df['datetime'].dt.month_name()\n",
    "df['day_name'] = df['datetime'].dt.day_name()\n",
    "\n",
    "print(\"Add extracted data as columns\")\n",
    "display(df)"
   ]
  },
  {
   "cell_type": "markdown",
   "metadata": {
    "id": "5a6V10j4IxL4"
   },
   "source": [
    "<br><hr><br>"
   ]
  },
  {
   "cell_type": "markdown",
   "metadata": {
    "id": "nn9-4duXvYlv"
   },
   "source": [
    "## 3.2 - Timestamp\n",
    "\n",
    "* Automatically parse time objects, no matter the used format as argument"
   ]
  },
  {
   "cell_type": "code",
   "execution_count": 117,
   "metadata": {
    "ExecuteTime": {
     "end_time": "2025-03-16T09:52:46.335084Z",
     "start_time": "2025-03-16T09:52:46.325084Z"
    },
    "colab": {
     "base_uri": "https://localhost:8080/",
     "height": 72
    },
    "executionInfo": {
     "elapsed": 9,
     "status": "ok",
     "timestamp": 1742117677855,
     "user": {
      "displayName": "Pacurar Sebastian",
      "userId": "15686393619609976384"
     },
     "user_tz": -120
    },
    "id": "quL4VNsXwFS1",
    "outputId": "389a71c7-d3b2-433e-9fbf-70a89f81a6b4"
   },
   "outputs": [
    {
     "data": {
      "text/plain": [
       "Timestamp('2025-01-07 00:00:00')"
      ]
     },
     "metadata": {},
     "output_type": "display_data"
    },
    {
     "data": {
      "text/plain": [
       "Timestamp('2025-01-07 00:00:00')"
      ]
     },
     "metadata": {},
     "output_type": "display_data"
    },
    {
     "data": {
      "text/plain": [
       "Timestamp('2025-01-07 00:00:00')"
      ]
     },
     "metadata": {},
     "output_type": "display_data"
    }
   ],
   "source": [
    "display(pd.Timestamp(\"2025/1/7\"))\n",
    "display(pd.Timestamp(\"2025-1-7\"))\n",
    "display(pd.Timestamp(\"2025, 1, 7\"))"
   ]
  },
  {
   "cell_type": "markdown",
   "metadata": {
    "id": "HyQeuslwIy69"
   },
   "source": [
    "<br><hr><br>"
   ]
  },
  {
   "cell_type": "markdown",
   "metadata": {
    "id": "p0voFV2DwzUt"
   },
   "source": [
    "## 3.3 - DateTimeIndex\n",
    "\n",
    "* An index type that holds an array of timestamps\n",
    "* This replaces the original index, unless using **df.reset_index()** to restore the original index"
   ]
  },
  {
   "cell_type": "code",
   "execution_count": 120,
   "metadata": {
    "ExecuteTime": {
     "end_time": "2025-03-16T09:52:46.591276Z",
     "start_time": "2025-03-16T09:52:46.562784Z"
    },
    "colab": {
     "base_uri": "https://localhost:8080/"
    },
    "executionInfo": {
     "elapsed": 10,
     "status": "ok",
     "timestamp": 1742117677866,
     "user": {
      "displayName": "Pacurar Sebastian",
      "userId": "15686393619609976384"
     },
     "user_tz": -120
    },
    "id": "dFOHiP9hw2IU",
    "outputId": "338f1c5b-be3c-49ed-b954-b7531a7f7035"
   },
   "outputs": [
    {
     "data": {
      "text/plain": [
       "DatetimeIndex(['2020-05-01', '2020-05-02', '2019-05-03'], dtype='datetime64[ns]', freq=None)"
      ]
     },
     "execution_count": 120,
     "metadata": {},
     "output_type": "execute_result"
    }
   ],
   "source": [
    "dates = ['2020/5/1', \"2020/5/2\", \"2019/5/3\"]\n",
    "pd.DatetimeIndex(dates)"
   ]
  },
  {
   "cell_type": "code",
   "execution_count": 121,
   "metadata": {
    "ExecuteTime": {
     "end_time": "2025-03-16T09:52:46.903262Z",
     "start_time": "2025-03-16T09:52:46.889758Z"
    },
    "colab": {
     "base_uri": "https://localhost:8080/",
     "height": 178
    },
    "executionInfo": {
     "elapsed": 42,
     "status": "ok",
     "timestamp": 1742117677907,
     "user": {
      "displayName": "Pacurar Sebastian",
      "userId": "15686393619609976384"
     },
     "user_tz": -120
    },
    "id": "y_s4mQ6LxReT",
    "outputId": "10c7f284-f106-49df-e446-e5e79a351c0a"
   },
   "outputs": [
    {
     "data": {
      "text/plain": [
       "2020-05-01    12\n",
       "2020-05-02    13\n",
       "2019-05-03    10\n",
       "dtype: int64"
      ]
     },
     "metadata": {},
     "output_type": "display_data"
    }
   ],
   "source": [
    "# create a list of datetime objects\n",
    "dates = [dt.datetime(2020, 5, 1), dt.datetime(2020, 5, 2), dt.datetime(2019, 5, 3)]\n",
    "\n",
    "# turn the list into a DatetimeIndex\n",
    "date_index = pd.DatetimeIndex(dates)\n",
    "\n",
    "values = [12, 13, 10]\n",
    "\n",
    "# create a Series and set the index to be based on date_index\n",
    "series = pd.Series(data=values, index=date_index)\n",
    "display(series)"
   ]
  },
  {
   "cell_type": "markdown",
   "metadata": {
    "id": "ie7z24rCI1sb"
   },
   "source": [
    "<br><hr><br>"
   ]
  },
  {
   "cell_type": "markdown",
   "metadata": {
    "id": "Lx1_No-ECD6S"
   },
   "source": [
    "## 3.4 - Unixtime Format"
   ]
  },
  {
   "cell_type": "code",
   "execution_count": 124,
   "metadata": {
    "ExecuteTime": {
     "end_time": "2025-03-16T09:52:47.044802Z",
     "start_time": "2025-03-16T09:52:47.035805Z"
    },
    "colab": {
     "base_uri": "https://localhost:8080/"
    },
    "executionInfo": {
     "elapsed": 15,
     "status": "ok",
     "timestamp": 1742117677921,
     "user": {
      "displayName": "Pacurar Sebastian",
      "userId": "15686393619609976384"
     },
     "user_tz": -120
    },
    "id": "O40UD0JsCC2F",
    "outputId": "7b24aad1-763b-40ff-a5c5-40ba3049bafd"
   },
   "outputs": [
    {
     "data": {
      "text/plain": [
       "DatetimeIndex(['1970-05-23 21:02:47', '1976-02-18 01:52:03',\n",
       "               '1973-04-25 07:00:31', '2113-05-06 07:17:01'],\n",
       "              dtype='datetime64[ns]', freq=None)"
      ]
     },
     "execution_count": 124,
     "metadata": {},
     "output_type": "execute_result"
    }
   ],
   "source": [
    "# parse unixtime format to readable\n",
    "unixtime = [12344567, 193456323, 104569231, 4523498221]\n",
    "pd.to_datetime(unixtime, unit=\"s\")"
   ]
  },
  {
   "cell_type": "markdown",
   "metadata": {
    "id": "fZ2WvzslI4Fo"
   },
   "source": [
    "<br><hr><br>"
   ]
  },
  {
   "cell_type": "markdown",
   "metadata": {
    "id": "ECNb1E_KdgkH"
   },
   "source": [
    "## 3.5 - Timedelta\n",
    "* Represents a duration, which is the difference between two time points\n",
    "* It can be used to express durations in various units like days, hours, minutes, seconds"
   ]
  },
  {
   "cell_type": "code",
   "execution_count": 127,
   "metadata": {
    "ExecuteTime": {
     "end_time": "2025-03-16T09:52:47.096574Z",
     "start_time": "2025-03-16T09:52:47.090340Z"
    },
    "colab": {
     "base_uri": "https://localhost:8080/"
    },
    "executionInfo": {
     "elapsed": 11,
     "status": "ok",
     "timestamp": 1742117677932,
     "user": {
      "displayName": "Pacurar Sebastian",
      "userId": "15686393619609976384"
     },
     "user_tz": -120
    },
    "id": "1iNO-PG_egt2",
    "outputId": "67b2cf5c-561b-470b-b4a5-8c13e327108b"
   },
   "outputs": [
    {
     "data": {
      "text/plain": [
       "Timedelta('10 days 05:30:00')"
      ]
     },
     "execution_count": 127,
     "metadata": {},
     "output_type": "execute_result"
    }
   ],
   "source": [
    "# Timedelta creation, of 10 days t hours and 30 minutes\n",
    "pd.Timedelta(weeks=1, days=3, hours=5, minutes=30)"
   ]
  },
  {
   "cell_type": "code",
   "execution_count": 128,
   "metadata": {
    "ExecuteTime": {
     "end_time": "2025-03-16T09:52:47.264376Z",
     "start_time": "2025-03-16T09:52:47.257341Z"
    },
    "colab": {
     "base_uri": "https://localhost:8080/"
    },
    "executionInfo": {
     "elapsed": 6,
     "status": "ok",
     "timestamp": 1742117677939,
     "user": {
      "displayName": "Pacurar Sebastian",
      "userId": "15686393619609976384"
     },
     "user_tz": -120
    },
    "id": "7tveLMRBewAl",
    "outputId": "e9a133cc-f5e4-4ffd-9670-58d22d4f662c"
   },
   "outputs": [
    {
     "data": {
      "text/plain": [
       "Timedelta('10 days 05:30:00')"
      ]
     },
     "execution_count": 128,
     "metadata": {},
     "output_type": "execute_result"
    }
   ],
   "source": [
    "# Timedelta from a string\n",
    "pd.Timedelta('10 days 5:30:00')"
   ]
  },
  {
   "cell_type": "code",
   "execution_count": 129,
   "metadata": {
    "ExecuteTime": {
     "end_time": "2025-03-16T09:52:47.379790Z",
     "start_time": "2025-03-16T09:52:47.374921Z"
    },
    "colab": {
     "base_uri": "https://localhost:8080/"
    },
    "executionInfo": {
     "elapsed": 13,
     "status": "ok",
     "timestamp": 1742117677953,
     "user": {
      "displayName": "Pacurar Sebastian",
      "userId": "15686393619609976384"
     },
     "user_tz": -120
    },
    "id": "XNPmYPaXe25K",
    "outputId": "47f1490b-c576-4128-ebb2-73e8cebf7dca"
   },
   "outputs": [
    {
     "data": {
      "text/plain": [
       "Timedelta('-3 days +21:00:00')"
      ]
     },
     "execution_count": 129,
     "metadata": {},
     "output_type": "execute_result"
    }
   ],
   "source": [
    "# Timedelta with negative values\n",
    "pd.Timedelta(days=-2, hours=-3)"
   ]
  },
  {
   "cell_type": "code",
   "execution_count": 130,
   "metadata": {
    "ExecuteTime": {
     "end_time": "2025-03-16T09:52:47.442050Z",
     "start_time": "2025-03-16T09:52:47.435291Z"
    },
    "colab": {
     "base_uri": "https://localhost:8080/"
    },
    "executionInfo": {
     "elapsed": 11,
     "status": "ok",
     "timestamp": 1742117677965,
     "user": {
      "displayName": "Pacurar Sebastian",
      "userId": "15686393619609976384"
     },
     "user_tz": -120
    },
    "id": "WcGjhIGfe8rw",
    "outputId": "1d6afc1b-6b43-443a-d927-83e9708cc61b"
   },
   "outputs": [
    {
     "data": {
      "text/plain": [
       "Timedelta('0 days 23:00:00')"
      ]
     },
     "execution_count": 130,
     "metadata": {},
     "output_type": "execute_result"
    }
   ],
   "source": [
    "# substract 2 datetime objects to obtain the Timedelta\n",
    "dt_1 = pd.to_datetime(\"2024-01-01 10:00:00\")\n",
    "dt_2 = pd.to_datetime(\"2024-01-02 9:00:00\")\n",
    "dt_2 - dt_1"
   ]
  },
  {
   "cell_type": "code",
   "execution_count": 131,
   "metadata": {
    "ExecuteTime": {
     "end_time": "2025-03-16T09:52:47.795132Z",
     "start_time": "2025-03-16T09:52:47.779005Z"
    },
    "colab": {
     "base_uri": "https://localhost:8080/"
    },
    "executionInfo": {
     "elapsed": 34,
     "status": "ok",
     "timestamp": 1742117678000,
     "user": {
      "displayName": "Pacurar Sebastian",
      "userId": "15686393619609976384"
     },
     "user_tz": -120
    },
    "id": "lZOTTx0QfWrQ",
    "outputId": "79cb0ed0-ecca-46ba-c633-e85421d1f05c"
   },
   "outputs": [
    {
     "data": {
      "text/plain": [
       "Timedelta('0 days 00:16:40.500000')"
      ]
     },
     "execution_count": 131,
     "metadata": {},
     "output_type": "execute_result"
    }
   ],
   "source": [
    "# using custom units\n",
    "pd.Timedelta(seconds=1000, milliseconds=500)"
   ]
  },
  {
   "cell_type": "code",
   "execution_count": 132,
   "metadata": {
    "ExecuteTime": {
     "end_time": "2025-03-16T09:52:47.882575Z",
     "start_time": "2025-03-16T09:52:47.873123Z"
    },
    "colab": {
     "base_uri": "https://localhost:8080/",
     "height": 163
    },
    "executionInfo": {
     "elapsed": 36,
     "status": "ok",
     "timestamp": 1742117678037,
     "user": {
      "displayName": "Pacurar Sebastian",
      "userId": "15686393619609976384"
     },
     "user_tz": -120
    },
    "id": "ak6BmppMfd1J",
    "outputId": "4ed0e2cc-2f12-46b4-e1df-f43cb232f9e2"
   },
   "outputs": [
    {
     "name": "stdout",
     "output_type": "stream",
     "text": [
      "Original timestamp: 2025-02-22 13:50:00\n",
      "Timedelta value: 5 days 03:00:00\n",
      "\n",
      "after add\n"
     ]
    },
    {
     "data": {
      "text/plain": [
       "Timestamp('2025-02-27 16:50:00')"
      ]
     },
     "metadata": {},
     "output_type": "display_data"
    },
    {
     "name": "stdout",
     "output_type": "stream",
     "text": [
      "\n",
      "after subtract\n"
     ]
    },
    {
     "data": {
      "text/plain": [
       "Timestamp('2025-02-17 10:50:00')"
      ]
     },
     "metadata": {},
     "output_type": "display_data"
    }
   ],
   "source": [
    "# adding and substracting a Timedelta to/from a datetime object\n",
    "dt_1 = pd.to_datetime(\"2025-2-22 13:50:00\")\n",
    "td = pd.Timedelta(days=5, hours=3)\n",
    "print(f\"Original timestamp: {dt_1}\")\n",
    "print(f\"Timedelta value: {td}\")\n",
    "\n",
    "# add\n",
    "print(\"\\nafter add\")\n",
    "display(dt_1 + td)\n",
    "\n",
    "# subtract\n",
    "print(\"\\nafter subtract\")\n",
    "display(dt_1 - td)"
   ]
  },
  {
   "cell_type": "code",
   "execution_count": 133,
   "metadata": {
    "ExecuteTime": {
     "end_time": "2025-03-16T09:52:47.976767Z",
     "start_time": "2025-03-16T09:52:47.970837Z"
    },
    "colab": {
     "base_uri": "https://localhost:8080/"
    },
    "executionInfo": {
     "elapsed": 18,
     "status": "ok",
     "timestamp": 1742117678040,
     "user": {
      "displayName": "Pacurar Sebastian",
      "userId": "15686393619609976384"
     },
     "user_tz": -120
    },
    "id": "sXIkQR24gTzl",
    "outputId": "38a302e1-1d19-426b-c639-73f95ecd1194"
   },
   "outputs": [
    {
     "data": {
      "text/plain": [
       "Timedelta('15 days 00:00:00')"
      ]
     },
     "execution_count": 133,
     "metadata": {},
     "output_type": "execute_result"
    }
   ],
   "source": [
    "# create Timedelta from a range of days\n",
    "pd.Timedelta(15, unit='D')"
   ]
  },
  {
   "cell_type": "markdown",
   "metadata": {
    "id": "0Sf0jD3hI75i"
   },
   "source": [
    "<br><hr><br>"
   ]
  },
  {
   "cell_type": "markdown",
   "metadata": {
    "id": "xRrqjtdRDkeO"
   },
   "source": [
    "## 3.6 - date_range()\n",
    "\n",
    "* Generates a sequence of timestamps (dates and times) based on a specified frequency\n",
    "* Use cases:\n",
    "<table>\n",
    "  <thead>\n",
    "    <tr>\n",
    "      <th>Use Case</th>\n",
    "      <th>Description</th>\n",
    "    </tr>\n",
    "  </thead>\n",
    "  <tbody>\n",
    "    <tr>\n",
    "      <td>Time Series Data</td>\n",
    "      <td>Useful for financial data, weather data, or sensor data collection where you track every single calendar day</td>\n",
    "    </tr>\n",
    "    <tr>\n",
    "      <td>Data Analysis</td>\n",
    "      <td>When you want to generate a sequence of dates to analyze or forecast based on fixed time intervals like weekly, monthly, or yearly ranges</td>\n",
    "    </tr>\n",
    "    <tr>\n",
    "      <td>Event Scheduling</td>\n",
    "      <td>Scheduling tasks or reminders with specific frequency, for example, sending reminders every 1st of the month or setting up daily tasks</td>\n",
    "    </tr>\n",
    "    <tr>\n",
    "      <td>Date-based Reports</td>\n",
    "      <td>Generating date ranges for reports such as monthly, weekly, or yearly reports based on exact calendar dates, useful in business analysis, sales reports, etc</td>\n",
    "    </tr>\n",
    "  </tbody>\n",
    "</table>"
   ]
  },
  {
   "cell_type": "markdown",
   "metadata": {
    "id": "KfD1MK-oGohY"
   },
   "source": [
    "### 3.6.1 - Generate dates"
   ]
  },
  {
   "cell_type": "code",
   "execution_count": 137,
   "metadata": {
    "ExecuteTime": {
     "end_time": "2025-03-16T09:52:48.083033Z",
     "start_time": "2025-03-16T09:52:48.075097Z"
    },
    "colab": {
     "base_uri": "https://localhost:8080/"
    },
    "executionInfo": {
     "elapsed": 20,
     "status": "ok",
     "timestamp": 1742117678061,
     "user": {
      "displayName": "Pacurar Sebastian",
      "userId": "15686393619609976384"
     },
     "user_tz": -120
    },
    "id": "-Wu3MO6rD9o3",
    "outputId": "1f56e575-7c48-4658-bb95-fb2195255ce5"
   },
   "outputs": [
    {
     "data": {
      "text/plain": [
       "DatetimeIndex(['2021-07-09', '2021-07-10', '2021-07-11', '2021-07-12',\n",
       "               '2021-07-13', '2021-07-14', '2021-07-15', '2021-07-16',\n",
       "               '2021-07-17', '2021-07-18',\n",
       "               ...\n",
       "               '2022-06-30', '2022-07-01', '2022-07-02', '2022-07-03',\n",
       "               '2022-07-04', '2022-07-05', '2022-07-06', '2022-07-07',\n",
       "               '2022-07-08', '2022-07-09'],\n",
       "              dtype='datetime64[ns]', length=366, freq='D')"
      ]
     },
     "execution_count": 137,
     "metadata": {},
     "output_type": "execute_result"
    }
   ],
   "source": [
    "times = pd.date_range(start=\"2021-7-9\", end=\"2022-7-9\", freq='D')\n",
    "times"
   ]
  },
  {
   "cell_type": "code",
   "execution_count": 138,
   "metadata": {
    "ExecuteTime": {
     "end_time": "2025-03-16T09:52:48.176061Z",
     "start_time": "2025-03-16T09:52:48.168063Z"
    },
    "colab": {
     "base_uri": "https://localhost:8080/"
    },
    "executionInfo": {
     "elapsed": 24,
     "status": "ok",
     "timestamp": 1742117678086,
     "user": {
      "displayName": "Pacurar Sebastian",
      "userId": "15686393619609976384"
     },
     "user_tz": -120
    },
    "id": "drEV5_LxEfGJ",
    "outputId": "56b44120-48e3-41ed-c150-6cc7bfd5e5f8"
   },
   "outputs": [
    {
     "name": "stderr",
     "output_type": "stream",
     "text": [
      "C:\\Users\\pacur\\AppData\\Local\\Temp\\ipykernel_1588\\3611537975.py:1: FutureWarning: 'A' is deprecated and will be removed in a future version, please use 'YE' instead.\n",
      "  times = pd.date_range(start=\"2021-7-9\", end=\"2022-7-9\", freq='A')\n"
     ]
    },
    {
     "data": {
      "text/plain": [
       "DatetimeIndex(['2021-12-31'], dtype='datetime64[ns]', freq='YE-DEC')"
      ]
     },
     "execution_count": 138,
     "metadata": {},
     "output_type": "execute_result"
    }
   ],
   "source": [
    "times = pd.date_range(start=\"2021-7-9\", end=\"2022-7-9\", freq='A')\n",
    "times"
   ]
  },
  {
   "cell_type": "markdown",
   "metadata": {
    "id": "WjGUXTHpE9mA"
   },
   "source": [
    "### 3.6.2 - Frequencies\n",
    "\n",
    "* Time-based Frequencies:\n",
    "<table>\n",
    "  <thead>\n",
    "    <tr>\n",
    "      <th>Code</th>\n",
    "      <th>Description</th>\n",
    "    </tr>\n",
    "  </thead>\n",
    "  <tbody>\n",
    "    <tr>\n",
    "      <td>'B' or 'b'</td>\n",
    "      <td>Business day frequency (Monday to Friday, excluding holidays)</td>\n",
    "    </tr>\n",
    "    <tr>\n",
    "      <td>'C'</td>\n",
    "      <td>Custom business day frequency (can be customized with holidays)</td>\n",
    "    </tr>\n",
    "    <tr>\n",
    "      <td>'D'</td>\n",
    "      <td>Calendar day frequency (every day)</td>\n",
    "    </tr>\n",
    "    <tr>\n",
    "      <td>'W'</td>\n",
    "      <td>Weekly frequency (every week)</td>\n",
    "    </tr>\n",
    "    <tr>\n",
    "      <td>'W-MON' to 'W-SUN'</td>\n",
    "      <td>Weekly frequency, but only on the specified day of the week.</td>\n",
    "    </tr>\n",
    "    <tr>\n",
    "      <td>'ME'</td>\n",
    "      <td>Month-end frequency (last business day of the month)</td>\n",
    "    </tr>\n",
    "    <tr>\n",
    "      <td>'SME'</td>\n",
    "      <td>Semi-monthly frequency (15th and end of the month)</td>\n",
    "    </tr>\n",
    "    <tr>\n",
    "      <td>'BME'</td>\n",
    "      <td>Business month-end frequency (last business day of the month)</td>\n",
    "    </tr>\n",
    "    <tr>\n",
    "      <td>'MS'</td>\n",
    "      <td>Month start frequency (first business day of the month)</td>\n",
    "    </tr>\n",
    "    <tr>\n",
    "      <td>'BMS'</td>\n",
    "      <td>Business month start frequency (first business day of the month)</td>\n",
    "    </tr>\n",
    "  </tbody>\n",
    "</table>\n",
    "\n",
    "\n",
    "* Year-based Frequencies\n",
    "<table>\n",
    "  <thead>\n",
    "    <tr>\n",
    "      <th>Code</th>\n",
    "      <th>Description</th>\n",
    "    </tr>\n",
    "  </thead>\n",
    "  <tbody>\n",
    "    <tr>\n",
    "      <td>'A' or 'Y'</td>\n",
    "      <td>Year-end frequency (last business day of the year)</td>\n",
    "    </tr>\n",
    "    <tr>\n",
    "      <td>'AS' or 'YS'</td>\n",
    "      <td>Year start frequency (first business day of the year)</td>\n",
    "    </tr>\n",
    "    <tr>\n",
    "      <td>'BA' or 'BY'</td>\n",
    "      <td>Business year-end frequency (last business day of the year)</td>\n",
    "    </tr>\n",
    "    <tr>\n",
    "      <td>'BAS' or 'BYS'</td>\n",
    "      <td>Business year start frequency (first business day of the year)</td>\n",
    "    </tr>\n",
    "  </tbody>\n",
    "</table>\n",
    "\n",
    "\n",
    "* Hour, Minute, Second Frequencies:\n",
    "<table>\n",
    "  <thead>\n",
    "    <tr>\n",
    "      <th>Code</th>\n",
    "      <th>Description</th>\n",
    "    </tr>\n",
    "  </thead>\n",
    "  <tbody>\n",
    "    <tr>\n",
    "      <td>'H'</td>\n",
    "      <td>Hourly frequency</td>\n",
    "    </tr>\n",
    "    <tr>\n",
    "      <td>'T' or 'min'</td>\n",
    "      <td>Minute frequency</td>\n",
    "    </tr>\n",
    "    <tr>\n",
    "      <td>'S'</td>\n",
    "      <td>Second frequency</td>\n",
    "    </tr>\n",
    "    <tr>\n",
    "      <td>'L' or 'ms'</td>\n",
    "      <td>Millisecond frequency</td>\n",
    "    </tr>\n",
    "    <tr>\n",
    "      <td>'U' or 'us'</td>\n",
    "      <td>Microsecond frequency</td>\n",
    "    </tr>\n",
    "  </tbody>\n",
    "</table>\n",
    "\n",
    "\n",
    "* Other Frequencies:\n",
    "<table>\n",
    "  <thead>\n",
    "    <tr>\n",
    "      <th>Code</th>\n",
    "      <th>Description</th>\n",
    "    </tr>\n",
    "  </thead>\n",
    "  <tbody>\n",
    "    <tr>\n",
    "      <td>'Q'</td>\n",
    "      <td>Quarter-end frequency</td>\n",
    "    </tr>\n",
    "    <tr>\n",
    "      <td>'QS'</td>\n",
    "      <td>Quarter start frequency</td>\n",
    "    </tr>\n",
    "    <tr>\n",
    "      <td>'BQS'</td>\n",
    "      <td>Business quarter start frequency</td>\n",
    "    </tr>\n",
    "    <tr>\n",
    "      <td>'BQE'</td>\n",
    "      <td>Business quarter end frequency</td>\n",
    "    </tr>\n",
    "  </tbody>\n",
    "</table>"
   ]
  },
  {
   "cell_type": "code",
   "execution_count": 140,
   "metadata": {
    "ExecuteTime": {
     "end_time": "2025-03-16T09:52:48.254975Z",
     "start_time": "2025-03-16T09:52:48.247998Z"
    },
    "colab": {
     "base_uri": "https://localhost:8080/"
    },
    "executionInfo": {
     "elapsed": 31,
     "status": "ok",
     "timestamp": 1742117678118,
     "user": {
      "displayName": "Pacurar Sebastian",
      "userId": "15686393619609976384"
     },
     "user_tz": -120
    },
    "id": "bxm0pFhuK-x4",
    "outputId": "692bacb0-075b-4e65-b8e8-99347cefc315"
   },
   "outputs": [
    {
     "data": {
      "text/plain": [
       "DatetimeIndex(['2024-01-01', '2024-01-02', '2024-01-03', '2024-01-04',\n",
       "               '2024-01-05', '2024-01-08', '2024-01-09', '2024-01-10',\n",
       "               '2024-01-11', '2024-01-12'],\n",
       "              dtype='datetime64[ns]', freq='B')"
      ]
     },
     "execution_count": 140,
     "metadata": {},
     "output_type": "execute_result"
    }
   ],
   "source": [
    "# \"B\": business day range\n",
    "pd.date_range(start=\"2024-01-01\", periods=10, freq=\"B\")"
   ]
  },
  {
   "cell_type": "code",
   "execution_count": 141,
   "metadata": {
    "ExecuteTime": {
     "end_time": "2025-03-16T09:52:48.345773Z",
     "start_time": "2025-03-16T09:52:48.340269Z"
    },
    "colab": {
     "base_uri": "https://localhost:8080/"
    },
    "executionInfo": {
     "elapsed": 11,
     "status": "ok",
     "timestamp": 1742117678130,
     "user": {
      "displayName": "Pacurar Sebastian",
      "userId": "15686393619609976384"
     },
     "user_tz": -120
    },
    "id": "guY-xlFgIAyJ",
    "outputId": "20f3e58d-b876-42f0-9ac2-9119e326029d"
   },
   "outputs": [
    {
     "data": {
      "text/plain": [
       "DatetimeIndex(['2024-01-01', '2024-01-02', '2024-01-03', '2024-01-04',\n",
       "               '2024-01-05', '2024-01-06', '2024-01-07', '2024-01-08',\n",
       "               '2024-01-09', '2024-01-10'],\n",
       "              dtype='datetime64[ns]', freq='D')"
      ]
     },
     "execution_count": 141,
     "metadata": {},
     "output_type": "execute_result"
    }
   ],
   "source": [
    "# \"D\": daily range\n",
    "pd.date_range(start=\"2024-01-01\", periods=10, freq=\"D\")"
   ]
  },
  {
   "cell_type": "code",
   "execution_count": 142,
   "metadata": {
    "ExecuteTime": {
     "end_time": "2025-03-16T09:52:48.434530Z",
     "start_time": "2025-03-16T09:52:48.428739Z"
    },
    "colab": {
     "base_uri": "https://localhost:8080/"
    },
    "executionInfo": {
     "elapsed": 8,
     "status": "ok",
     "timestamp": 1742117678139,
     "user": {
      "displayName": "Pacurar Sebastian",
      "userId": "15686393619609976384"
     },
     "user_tz": -120
    },
    "id": "bqVLzEvZLOkL",
    "outputId": "d4e9c2cc-f88a-4011-bf86-352092920063"
   },
   "outputs": [
    {
     "data": {
      "text/plain": [
       "DatetimeIndex(['2024-01-07', '2024-01-14', '2024-01-21', '2024-01-28',\n",
       "               '2024-02-04', '2024-02-11', '2024-02-18', '2024-02-25',\n",
       "               '2024-03-03', '2024-03-10'],\n",
       "              dtype='datetime64[ns]', freq='W-SUN')"
      ]
     },
     "execution_count": 142,
     "metadata": {},
     "output_type": "execute_result"
    }
   ],
   "source": [
    "# \"W\": weekly range\n",
    "pd.date_range(start=\"2024-01-01\", periods=10, freq=\"W\")"
   ]
  },
  {
   "cell_type": "code",
   "execution_count": 143,
   "metadata": {
    "ExecuteTime": {
     "end_time": "2025-03-16T09:52:48.536184Z",
     "start_time": "2025-03-16T09:52:48.530061Z"
    },
    "colab": {
     "base_uri": "https://localhost:8080/"
    },
    "executionInfo": {
     "elapsed": 35,
     "status": "ok",
     "timestamp": 1742117678176,
     "user": {
      "displayName": "Pacurar Sebastian",
      "userId": "15686393619609976384"
     },
     "user_tz": -120
    },
    "id": "_AKfV9R6LtaM",
    "outputId": "d310e26b-e40e-4fca-cc22-668bc57de112"
   },
   "outputs": [
    {
     "data": {
      "text/plain": [
       "DatetimeIndex(['2024-01-01', '2024-01-08', '2024-01-15', '2024-01-22',\n",
       "               '2024-01-29', '2024-02-05', '2024-02-12', '2024-02-19',\n",
       "               '2024-02-26', '2024-03-04'],\n",
       "              dtype='datetime64[ns]', freq='W-MON')"
      ]
     },
     "execution_count": 143,
     "metadata": {},
     "output_type": "execute_result"
    }
   ],
   "source": [
    "# \"W-MON\": every monday for a given period\n",
    "pd.date_range(start=\"2024-01-01\", periods=10, freq=\"W-MON\")"
   ]
  },
  {
   "cell_type": "code",
   "execution_count": 144,
   "metadata": {
    "ExecuteTime": {
     "end_time": "2025-03-16T09:52:48.600431Z",
     "start_time": "2025-03-16T09:52:48.595001Z"
    },
    "colab": {
     "base_uri": "https://localhost:8080/"
    },
    "executionInfo": {
     "elapsed": 13,
     "status": "ok",
     "timestamp": 1742117678178,
     "user": {
      "displayName": "Pacurar Sebastian",
      "userId": "15686393619609976384"
     },
     "user_tz": -120
    },
    "id": "Pqcpna05NJfX",
    "outputId": "44f55e32-44cc-4a4d-d76d-496dca140ea0"
   },
   "outputs": [
    {
     "data": {
      "text/plain": [
       "DatetimeIndex(['2024-01-01', '2024-02-01', '2024-03-01', '2024-04-01',\n",
       "               '2024-05-01', '2024-06-01', '2024-07-01', '2024-08-01',\n",
       "               '2024-09-01', '2024-10-01'],\n",
       "              dtype='datetime64[ns]', freq='MS')"
      ]
     },
     "execution_count": 144,
     "metadata": {},
     "output_type": "execute_result"
    }
   ],
   "source": [
    "# \"MS\": month-start range\n",
    "pd.date_range(start=\"2024-01-01\", periods=10, freq=\"MS\")"
   ]
  },
  {
   "cell_type": "code",
   "execution_count": 145,
   "metadata": {
    "ExecuteTime": {
     "end_time": "2025-03-16T09:52:48.829964Z",
     "start_time": "2025-03-16T09:52:48.823456Z"
    },
    "colab": {
     "base_uri": "https://localhost:8080/"
    },
    "executionInfo": {
     "elapsed": 12,
     "status": "ok",
     "timestamp": 1742117678190,
     "user": {
      "displayName": "Pacurar Sebastian",
      "userId": "15686393619609976384"
     },
     "user_tz": -120
    },
    "id": "ba_90RbzIGqy",
    "outputId": "691dff47-800d-43a8-af1b-30b2fdaeeb47"
   },
   "outputs": [
    {
     "data": {
      "text/plain": [
       "DatetimeIndex(['2024-01-31', '2024-02-29', '2024-03-31', '2024-04-30',\n",
       "               '2024-05-31', '2024-06-30', '2024-07-31', '2024-08-31',\n",
       "               '2024-09-30', '2024-10-31'],\n",
       "              dtype='datetime64[ns]', freq='ME')"
      ]
     },
     "execution_count": 145,
     "metadata": {},
     "output_type": "execute_result"
    }
   ],
   "source": [
    "# \"ME\": month-end range\n",
    "pd.date_range(start=\"2024-01-01\", periods=10, freq=\"ME\")"
   ]
  },
  {
   "cell_type": "code",
   "execution_count": 146,
   "metadata": {
    "ExecuteTime": {
     "end_time": "2025-03-16T09:52:48.922755Z",
     "start_time": "2025-03-16T09:52:48.916495Z"
    },
    "colab": {
     "base_uri": "https://localhost:8080/"
    },
    "executionInfo": {
     "elapsed": 14,
     "status": "ok",
     "timestamp": 1742117678205,
     "user": {
      "displayName": "Pacurar Sebastian",
      "userId": "15686393619609976384"
     },
     "user_tz": -120
    },
    "id": "2GHQjrUXIE2b",
    "outputId": "cd1150b4-d0a6-4333-ef95-0d0e55514063"
   },
   "outputs": [
    {
     "name": "stderr",
     "output_type": "stream",
     "text": [
      "C:\\Users\\pacur\\AppData\\Local\\Temp\\ipykernel_1588\\1018285598.py:2: FutureWarning: 'H' is deprecated and will be removed in a future version, please use 'h' instead.\n",
      "  pd.date_range(start=\"2024-01-01\", periods=10, freq=\"H\")\n"
     ]
    },
    {
     "data": {
      "text/plain": [
       "DatetimeIndex(['2024-01-01 00:00:00', '2024-01-01 01:00:00',\n",
       "               '2024-01-01 02:00:00', '2024-01-01 03:00:00',\n",
       "               '2024-01-01 04:00:00', '2024-01-01 05:00:00',\n",
       "               '2024-01-01 06:00:00', '2024-01-01 07:00:00',\n",
       "               '2024-01-01 08:00:00', '2024-01-01 09:00:00'],\n",
       "              dtype='datetime64[ns]', freq='h')"
      ]
     },
     "execution_count": 146,
     "metadata": {},
     "output_type": "execute_result"
    }
   ],
   "source": [
    "# hourly range\n",
    "pd.date_range(start=\"2024-01-01\", periods=10, freq=\"H\")"
   ]
  },
  {
   "cell_type": "code",
   "execution_count": 147,
   "metadata": {
    "ExecuteTime": {
     "end_time": "2025-03-16T09:52:49.005023Z",
     "start_time": "2025-03-16T09:52:48.996737Z"
    },
    "colab": {
     "base_uri": "https://localhost:8080/"
    },
    "executionInfo": {
     "elapsed": 39,
     "status": "ok",
     "timestamp": 1742117678245,
     "user": {
      "displayName": "Pacurar Sebastian",
      "userId": "15686393619609976384"
     },
     "user_tz": -120
    },
    "id": "SVxfTaQkMzKz",
    "outputId": "4ee38600-01e9-4967-f090-701ba29850a2"
   },
   "outputs": [
    {
     "data": {
      "text/plain": [
       "DatetimeIndex(['2024-01-15', '2024-01-31', '2024-02-15', '2024-02-29',\n",
       "               '2024-03-15', '2024-03-31', '2024-04-15', '2024-04-30',\n",
       "               '2024-05-15', '2024-05-31'],\n",
       "              dtype='datetime64[ns]', freq='SME-15')"
      ]
     },
     "execution_count": 147,
     "metadata": {},
     "output_type": "execute_result"
    }
   ],
   "source": [
    "# \"SME\": semi-monthly frequency (15th and the end of the month)\n",
    "pd.date_range(start=\"2024-01-01\", periods=10, freq=\"SME\")"
   ]
  },
  {
   "cell_type": "code",
   "execution_count": 148,
   "metadata": {
    "ExecuteTime": {
     "end_time": "2025-03-16T09:52:49.099482Z",
     "start_time": "2025-03-16T09:52:49.091286Z"
    },
    "colab": {
     "base_uri": "https://localhost:8080/"
    },
    "executionInfo": {
     "elapsed": 58,
     "status": "ok",
     "timestamp": 1742117678304,
     "user": {
      "displayName": "Pacurar Sebastian",
      "userId": "15686393619609976384"
     },
     "user_tz": -120
    },
    "id": "WIchutImNiAR",
    "outputId": "a754020e-1a53-473f-abb1-94e3d8e01b9d"
   },
   "outputs": [
    {
     "data": {
      "text/plain": [
       "DatetimeIndex(['2024-01-01', '2024-02-01', '2024-03-01', '2024-04-01',\n",
       "               '2024-05-01', '2024-06-03', '2024-07-01', '2024-08-01',\n",
       "               '2024-09-02', '2024-10-01'],\n",
       "              dtype='datetime64[ns]', freq='BMS')"
      ]
     },
     "execution_count": 148,
     "metadata": {},
     "output_type": "execute_result"
    }
   ],
   "source": [
    "# BMS\": business month-start frequency\n",
    "pd.date_range(start=\"2024-01-01\", periods=10, freq=\"BMS\")"
   ]
  },
  {
   "cell_type": "code",
   "execution_count": 149,
   "metadata": {
    "ExecuteTime": {
     "end_time": "2025-03-16T09:52:49.168931Z",
     "start_time": "2025-03-16T09:52:49.163068Z"
    },
    "colab": {
     "base_uri": "https://localhost:8080/"
    },
    "executionInfo": {
     "elapsed": 8,
     "status": "ok",
     "timestamp": 1742117678305,
     "user": {
      "displayName": "Pacurar Sebastian",
      "userId": "15686393619609976384"
     },
     "user_tz": -120
    },
    "id": "MlL_KgTsNBMy",
    "outputId": "6ae4cef3-7997-4462-b0be-bbb5f25a8521"
   },
   "outputs": [
    {
     "data": {
      "text/plain": [
       "DatetimeIndex(['2024-01-31', '2024-02-29', '2024-03-29', '2024-04-30',\n",
       "               '2024-05-31', '2024-06-28', '2024-07-31', '2024-08-30',\n",
       "               '2024-09-30', '2024-10-31'],\n",
       "              dtype='datetime64[ns]', freq='BME')"
      ]
     },
     "execution_count": 149,
     "metadata": {},
     "output_type": "execute_result"
    }
   ],
   "source": [
    "# \"BME\": business month-end frequency\n",
    "pd.date_range(start=\"2024-01-01\", periods=10, freq=\"BME\")"
   ]
  },
  {
   "cell_type": "markdown",
   "metadata": {
    "id": "uau0bSyiI978"
   },
   "source": [
    "<br><hr><br>"
   ]
  },
  {
   "cell_type": "markdown",
   "metadata": {
    "id": "ljlGVA-aV6IU"
   },
   "source": [
    "## 3.7 - bdate_range()\n",
    "\n",
    "1.   List item\n",
    "2.   List item\n",
    "\n",
    "\n",
    "\n",
    "* Generate a range of business days (weekdays excluding weekends and optionally specified holidays)\n",
    "* Use cases:\n",
    "<table>\n",
    "  <thead>\n",
    "    <tr>\n",
    "      <th>Use Case</th>\n",
    "      <th>Description</th>\n",
    "    </tr>\n",
    "  </thead>\n",
    "  <tbody>\n",
    "    <tr>\n",
    "      <td>Financial Data Analysis</td>\n",
    "      <td>Useful for financial data, weather data, or sensor data collection where you track every single calendar day</td>\n",
    "    </tr>\n",
    "    <tr>\n",
    "      <td>Business Scheduling</td>\n",
    "      <td>Creating schedules for business operations that operate only on weekdays, such as employee shifts, meetings, or deadlines that don’t occur over the weekend</td>\n",
    "    </tr>\n",
    "    <tr>\n",
    "      <td>Work Hours Tracking</td>\n",
    "      <td>Tracking the hours worked or number of tasks completed on business days, such as in project management, time tracking, or productivity analysis.</td>\n",
    "    </tr>\n",
    "    <tr>\n",
    "      <td>Data Aggregation</td>\n",
    "      <td>Aggregating data to focus on business days only, which can be important for sales reports, payroll, or market analysis where weekend data is irrelevant</td>\n",
    "    </tr>\n",
    "  </tbody>\n",
    "</table>"
   ]
  },
  {
   "cell_type": "markdown",
   "metadata": {
    "id": "rkbYb1r3bvDk"
   },
   "source": [
    "### 3.7.1 - Generate dates"
   ]
  },
  {
   "cell_type": "code",
   "execution_count": 153,
   "metadata": {
    "ExecuteTime": {
     "end_time": "2025-03-16T09:52:49.263396Z",
     "start_time": "2025-03-16T09:52:49.249201Z"
    },
    "colab": {
     "base_uri": "https://localhost:8080/"
    },
    "executionInfo": {
     "elapsed": 12,
     "status": "ok",
     "timestamp": 1742117678315,
     "user": {
      "displayName": "Pacurar Sebastian",
      "userId": "15686393619609976384"
     },
     "user_tz": -120
    },
    "id": "hI09qvYkWPuk",
    "outputId": "1fcb4143-ccf5-42bc-d109-6f3727df5a77"
   },
   "outputs": [
    {
     "data": {
      "text/plain": [
       "DatetimeIndex(['2023-01-02', '2023-01-03', '2023-01-04', '2023-01-05',\n",
       "               '2023-01-06', '2023-01-09', '2023-01-10', '2023-01-11',\n",
       "               '2023-01-12', '2023-01-13',\n",
       "               ...\n",
       "               '2024-12-30', '2024-12-31', '2025-01-01', '2025-01-02',\n",
       "               '2025-01-03', '2025-01-06', '2025-01-07', '2025-01-08',\n",
       "               '2025-01-09', '2025-01-10'],\n",
       "              dtype='datetime64[ns]', length=530, freq='B')"
      ]
     },
     "execution_count": 153,
     "metadata": {},
     "output_type": "execute_result"
    }
   ],
   "source": [
    "# generate business days between \"start\" and \"end\" interval\n",
    "bdays = pd.bdate_range(start=\"2023-01-01\", end=\"2025-01-10\")\n",
    "bdays"
   ]
  },
  {
   "cell_type": "code",
   "execution_count": 154,
   "metadata": {
    "ExecuteTime": {
     "end_time": "2025-03-16T09:52:49.373656Z",
     "start_time": "2025-03-16T09:52:49.363662Z"
    },
    "colab": {
     "base_uri": "https://localhost:8080/"
    },
    "executionInfo": {
     "elapsed": 22,
     "status": "ok",
     "timestamp": 1742117678338,
     "user": {
      "displayName": "Pacurar Sebastian",
      "userId": "15686393619609976384"
     },
     "user_tz": -120
    },
    "id": "MCkRFyrGWe0N",
    "outputId": "3e740378-314c-44f0-e75d-a29da31d5c76"
   },
   "outputs": [
    {
     "data": {
      "text/plain": [
       "DatetimeIndex(['2023-01-02', '2023-01-03', '2023-01-04', '2023-01-05',\n",
       "               '2023-01-06', '2023-01-09', '2023-01-10', '2023-01-11',\n",
       "               '2023-01-12', '2023-01-13'],\n",
       "              dtype='datetime64[ns]', freq='B')"
      ]
     },
     "execution_count": 154,
     "metadata": {},
     "output_type": "execute_result"
    }
   ],
   "source": [
    "# generate the next 10 business days starting from \"start\" value\n",
    "bdays = pd.bdate_range(start=\"2023-01-01\", periods=10)\n",
    "bdays"
   ]
  },
  {
   "cell_type": "markdown",
   "metadata": {
    "id": "LQVbePI5b8d6"
   },
   "source": [
    "### 3.7.2 - Frequencies\n",
    "\n",
    "* Time-based Frequencies:\n",
    "<table>\n",
    "    <tr>\n",
    "        <th>Code</th>\n",
    "        <th>Description</th>\n",
    "    </tr>\n",
    "    <tr>\n",
    "        <td>'B' or 'b'</td>\n",
    "        <td>Business day frequency (Monday to Friday, excluding holidays)</td>\n",
    "    </tr>\n",
    "    <tr>\n",
    "        <td>'C'</td>\n",
    "        <td>Custom business day frequency (can be customized with holidays)</td>\n",
    "    </tr>\n",
    "    <tr>\n",
    "        <td>'D'</td>\n",
    "        <td>Calendar day frequency (every day)</td>\n",
    "    </tr>\n",
    "    <tr>\n",
    "        <td>'W'</td>\n",
    "        <td>Weekly frequency (every week)</td>\n",
    "    </tr>\n",
    "    <tr>\n",
    "        <td>\n",
    "            'W-MON' to W-SUN\n",
    "        </td>\n",
    "        <td>Weekly frequency, but only on the specified day of the week.</td>\n",
    "    </tr>\n",
    "    <tr>\n",
    "        <td>'ME'</td>\n",
    "        <td>Month-end frequency (last business day of the month)</td>\n",
    "    </tr>\n",
    "    <tr>\n",
    "        <td>'SME'</td>\n",
    "        <td>Semi-monthly frequency (15th and end of the month)</td>\n",
    "    </tr>\n",
    "    <tr>\n",
    "        <td>'BME'</td>\n",
    "        <td>Business month-end frequency (last business day of the month)</td>\n",
    "    </tr>\n",
    "    <tr>\n",
    "        <td>'MS'</td>\n",
    "        <td>Month start frequency (first business day of the month)</td>\n",
    "    </tr>\n",
    "    <tr>\n",
    "        <td>'BMS'</td>\n",
    "        <td>Business month start frequency (first business day of the month)</td>\n",
    "    </tr>\n",
    "</table>\n",
    "\n",
    "\n",
    "* Year-based Frequencies:\n",
    "<table>\n",
    "    <tr>\n",
    "        <th>Code</th>\n",
    "        <th>Description</th>\n",
    "    </tr>\n",
    "    <tr>\n",
    "        <td>'A' or 'Y'</td>\n",
    "        <td>Year-end frequency (last business day of the year)</td>\n",
    "    </tr>\n",
    "    <tr>\n",
    "        <td>'AS' or 'YS'</td>\n",
    "        <td>Year start frequency (first business day of the year)</td>\n",
    "    </tr>\n",
    "    <tr>\n",
    "        <td>'BA' or 'BY'</td>\n",
    "        <td>Business year-end frequency (last business day of the year)</td>\n",
    "    </tr>\n",
    "    <tr>\n",
    "        <td>'BAS' or 'BYS'</td>\n",
    "        <td>Business year start frequency (first business day of the year)</td>\n",
    "    </tr>\n",
    "</table>\n",
    "\n",
    "\n",
    "* Hour, Minute, Second Frequencies:\n",
    "<table>\n",
    "    <tr>\n",
    "        <th>Code</th>\n",
    "        <th>Description</th>\n",
    "    </tr>\n",
    "    <tr>\n",
    "        <td>'H'</td>\n",
    "        <td>Hourly frequency</td>\n",
    "    </tr>\n",
    "    <tr>\n",
    "        <td>'T' or 'min'</td>\n",
    "        <td>Minute frequency</td>\n",
    "    </tr>\n",
    "    <tr>\n",
    "        <td>'S'</td>\n",
    "        <td>Second frequency</td>\n",
    "    </tr>\n",
    "    <tr>\n",
    "        <td>'L' or 'ms'</td>\n",
    "        <td>Millisecond frequency</td>\n",
    "    </tr>\n",
    "    <tr>\n",
    "        <td>'U' or 'us'</td>\n",
    "        <td>Microsecond frequency</td>\n",
    "    </tr>\n",
    "</table>\n",
    "\n",
    "\n",
    "* Other Frequencies:\n",
    "<table>\n",
    "    <tr>\n",
    "        <th>Code</th>\n",
    "        <th>Description</th>\n",
    "    </tr>\n",
    "    <tr>\n",
    "        <td>'Q'</td>\n",
    "        <td>Quarter-end frequency</td>\n",
    "    </tr>\n",
    "    <tr>\n",
    "        <td>'QS'</td>\n",
    "        <td>Quarter start frequency</td>\n",
    "    </tr>\n",
    "    <tr>\n",
    "        <td>'BQS'</td>\n",
    "        <td>Business quarter start frequency</td>\n",
    "    </tr>\n",
    "    <tr>\n",
    "        <td>'BQE'</td>\n",
    "        <td>Business quarter end frequency</td>\n",
    "    </tr>\n",
    "</table>"
   ]
  },
  {
   "cell_type": "code",
   "execution_count": 156,
   "metadata": {
    "ExecuteTime": {
     "end_time": "2025-03-16T09:52:49.530245Z",
     "start_time": "2025-03-16T09:52:49.521251Z"
    },
    "colab": {
     "base_uri": "https://localhost:8080/"
    },
    "executionInfo": {
     "elapsed": 64,
     "status": "ok",
     "timestamp": 1742117678387,
     "user": {
      "displayName": "Pacurar Sebastian",
      "userId": "15686393619609976384"
     },
     "user_tz": -120
    },
    "id": "Kk8bMh_adAn3",
    "outputId": "f220dcc3-06f0-42fa-d96e-2ae4fe156634"
   },
   "outputs": [
    {
     "data": {
      "text/plain": [
       "DatetimeIndex(['2025-01-01'], dtype='datetime64[ns]', freq='B')"
      ]
     },
     "execution_count": 156,
     "metadata": {},
     "output_type": "execute_result"
    }
   ],
   "source": [
    "# \"B\": Business day frequency (Monday to Friday, excluding holidays)\n",
    "pd.bdate_range(start=\"2025-1-1\", end=\"2025-1-1\", freq=\"B\")"
   ]
  },
  {
   "cell_type": "code",
   "execution_count": 157,
   "metadata": {
    "ExecuteTime": {
     "end_time": "2025-03-16T09:52:49.596573Z",
     "start_time": "2025-03-16T09:52:49.588571Z"
    },
    "colab": {
     "base_uri": "https://localhost:8080/"
    },
    "executionInfo": {
     "elapsed": 5,
     "status": "ok",
     "timestamp": 1742117678388,
     "user": {
      "displayName": "Pacurar Sebastian",
      "userId": "15686393619609976384"
     },
     "user_tz": -120
    },
    "id": "FnfhXEuwdLAe",
    "outputId": "88c6ffc7-6960-4e10-fc15-ad3ed606cb04"
   },
   "outputs": [
    {
     "name": "stdout",
     "output_type": "stream",
     "text": [
      "\n",
      "Custom Business Day Frequency (excluding holidays):\n",
      "DatetimeIndex(['2025-01-02', '2025-01-03', '2025-01-07', '2025-01-08',\n",
      "               '2025-01-09', '2025-01-10'],\n",
      "              dtype='datetime64[ns]', freq='C')\n"
     ]
    }
   ],
   "source": [
    "# 2. \"C\": Custom business day frequency (can be customized with holidays)\n",
    "holidays = [\"2025-01-01\", \"2025-01-06\"]  # Example holidays\n",
    "\n",
    "# specify holidays using the 'holidays' parameter\n",
    "custom_business_days = pd.bdate_range(start=\"2025-01-01\", end=\"2025-01-10\", freq=\"C\", holidays=holidays)\n",
    "print(\"\\nCustom Business Day Frequency (excluding holidays):\")\n",
    "print(custom_business_days)"
   ]
  },
  {
   "cell_type": "code",
   "execution_count": 158,
   "metadata": {
    "ExecuteTime": {
     "end_time": "2025-03-16T09:52:49.668726Z",
     "start_time": "2025-03-16T09:52:49.663584Z"
    },
    "colab": {
     "base_uri": "https://localhost:8080/"
    },
    "executionInfo": {
     "elapsed": 11,
     "status": "ok",
     "timestamp": 1742117678397,
     "user": {
      "displayName": "Pacurar Sebastian",
      "userId": "15686393619609976384"
     },
     "user_tz": -120
    },
    "id": "Qa49QOludK3k",
    "outputId": "f8052a98-4e6c-4442-9436-6e2edbd97b05"
   },
   "outputs": [
    {
     "data": {
      "text/plain": [
       "DatetimeIndex(['2025-01-01', '2025-01-02', '2025-01-03', '2025-01-04',\n",
       "               '2025-01-05', '2025-01-06', '2025-01-07', '2025-01-08',\n",
       "               '2025-01-09', '2025-01-10'],\n",
       "              dtype='datetime64[ns]', freq='D')"
      ]
     },
     "execution_count": 158,
     "metadata": {},
     "output_type": "execute_result"
    }
   ],
   "source": [
    "# \"D\": Calendar day frequency (every day)\n",
    "pd.date_range(start=\"2025-01-01\", end=\"2025-01-10\", freq=\"D\")"
   ]
  },
  {
   "cell_type": "code",
   "execution_count": 159,
   "metadata": {
    "ExecuteTime": {
     "end_time": "2025-03-16T09:52:49.724136Z",
     "start_time": "2025-03-16T09:52:49.718135Z"
    },
    "colab": {
     "base_uri": "https://localhost:8080/"
    },
    "executionInfo": {
     "elapsed": 11,
     "status": "ok",
     "timestamp": 1742117678414,
     "user": {
      "displayName": "Pacurar Sebastian",
      "userId": "15686393619609976384"
     },
     "user_tz": -120
    },
    "id": "RF03qLQ_dKvB",
    "outputId": "04111fd1-c735-4b08-ea4c-ef43f781c132"
   },
   "outputs": [
    {
     "data": {
      "text/plain": [
       "DatetimeIndex(['2025-01-05', '2025-01-12', '2025-01-19', '2025-01-26'], dtype='datetime64[ns]', freq='W-SUN')"
      ]
     },
     "execution_count": 159,
     "metadata": {},
     "output_type": "execute_result"
    }
   ],
   "source": [
    "# \"W\": Weekly frequency (every week)\n",
    "pd.date_range(start=\"2025-01-01\", end=\"2025-02-01\", freq=\"W\")"
   ]
  },
  {
   "cell_type": "code",
   "execution_count": 160,
   "metadata": {
    "ExecuteTime": {
     "end_time": "2025-03-16T09:52:49.779418Z",
     "start_time": "2025-03-16T09:52:49.773873Z"
    },
    "colab": {
     "base_uri": "https://localhost:8080/"
    },
    "executionInfo": {
     "elapsed": 10,
     "status": "ok",
     "timestamp": 1742117678425,
     "user": {
      "displayName": "Pacurar Sebastian",
      "userId": "15686393619609976384"
     },
     "user_tz": -120
    },
    "id": "z0LnJp4odKmt",
    "outputId": "a244d67a-17ab-4b13-e3b1-bc32f8e6dffe"
   },
   "outputs": [
    {
     "data": {
      "text/plain": [
       "DatetimeIndex(['2025-01-06', '2025-01-13', '2025-01-20', '2025-01-27'], dtype='datetime64[ns]', freq='W-MON')"
      ]
     },
     "execution_count": 160,
     "metadata": {},
     "output_type": "execute_result"
    }
   ],
   "source": [
    "# \"W-MON\", \"W-TUE\", \"W-WED\", \"W-THU\", \"W-FRI\", \"W-SAT\", \"W-SUN\": Weekly frequency, but only on the specified day of the week\n",
    "pd.date_range(start=\"2025-01-01\", end=\"2025-01-31\", freq=\"W-MON\")"
   ]
  },
  {
   "cell_type": "code",
   "execution_count": 161,
   "metadata": {
    "ExecuteTime": {
     "end_time": "2025-03-16T09:52:49.849044Z",
     "start_time": "2025-03-16T09:52:49.837918Z"
    },
    "colab": {
     "base_uri": "https://localhost:8080/"
    },
    "executionInfo": {
     "elapsed": 23,
     "status": "ok",
     "timestamp": 1742117678450,
     "user": {
      "displayName": "Pacurar Sebastian",
      "userId": "15686393619609976384"
     },
     "user_tz": -120
    },
    "id": "tOrOoOC0dKfC",
    "outputId": "d0e0532d-eedd-4531-f30e-1a5b8a429cde"
   },
   "outputs": [
    {
     "data": {
      "text/plain": [
       "DatetimeIndex(['2025-01-31', '2025-02-28', '2025-03-31', '2025-04-30',\n",
       "               '2025-05-31', '2025-06-30', '2025-07-31', '2025-08-31',\n",
       "               '2025-09-30', '2025-10-31', '2025-11-30', '2025-12-31'],\n",
       "              dtype='datetime64[ns]', freq='ME')"
      ]
     },
     "execution_count": 161,
     "metadata": {},
     "output_type": "execute_result"
    }
   ],
   "source": [
    "# \"ME\": Month-End frequency (last business day of the month)\n",
    "pd.date_range(start=\"2025-01-01\", end=\"2025-12-31\", freq=\"ME\")"
   ]
  },
  {
   "cell_type": "code",
   "execution_count": 162,
   "metadata": {
    "ExecuteTime": {
     "end_time": "2025-03-16T09:52:49.966471Z",
     "start_time": "2025-03-16T09:52:49.959400Z"
    },
    "colab": {
     "base_uri": "https://localhost:8080/"
    },
    "executionInfo": {
     "elapsed": 34,
     "status": "ok",
     "timestamp": 1742117678487,
     "user": {
      "displayName": "Pacurar Sebastian",
      "userId": "15686393619609976384"
     },
     "user_tz": -120
    },
    "id": "5WpZL2z4dKWR",
    "outputId": "741834d4-782b-44f7-f37c-b0114b77dd43"
   },
   "outputs": [
    {
     "data": {
      "text/plain": [
       "DatetimeIndex(['2025-01-15', '2025-01-31', '2025-02-15', '2025-02-28',\n",
       "               '2025-03-15', '2025-03-31', '2025-04-15', '2025-04-30',\n",
       "               '2025-05-15', '2025-05-31', '2025-06-15', '2025-06-30',\n",
       "               '2025-07-15', '2025-07-31', '2025-08-15', '2025-08-31',\n",
       "               '2025-09-15', '2025-09-30', '2025-10-15', '2025-10-31',\n",
       "               '2025-11-15', '2025-11-30', '2025-12-15', '2025-12-31'],\n",
       "              dtype='datetime64[ns]', freq='SME-15')"
      ]
     },
     "execution_count": 162,
     "metadata": {},
     "output_type": "execute_result"
    }
   ],
   "source": [
    "# \"SME\": Semi-Monthly End frequency (15th and end of the month)\n",
    "pd.date_range(start=\"2025-01-01\", end=\"2025-12-31\", freq=\"SME\")"
   ]
  },
  {
   "cell_type": "code",
   "execution_count": 163,
   "metadata": {
    "ExecuteTime": {
     "end_time": "2025-03-16T09:52:50.055774Z",
     "start_time": "2025-03-16T09:52:50.044874Z"
    },
    "colab": {
     "base_uri": "https://localhost:8080/"
    },
    "executionInfo": {
     "elapsed": 17,
     "status": "ok",
     "timestamp": 1742117678505,
     "user": {
      "displayName": "Pacurar Sebastian",
      "userId": "15686393619609976384"
     },
     "user_tz": -120
    },
    "id": "WHmiCyeddKN1",
    "outputId": "9455b4da-58fd-4905-c1e6-53ed0707ebba"
   },
   "outputs": [
    {
     "data": {
      "text/plain": [
       "DatetimeIndex(['2025-01-31', '2025-02-28', '2025-03-31', '2025-04-30',\n",
       "               '2025-05-30', '2025-06-30', '2025-07-31', '2025-08-29',\n",
       "               '2025-09-30', '2025-10-31', '2025-11-28', '2025-12-31'],\n",
       "              dtype='datetime64[ns]', freq='BME')"
      ]
     },
     "execution_count": 163,
     "metadata": {},
     "output_type": "execute_result"
    }
   ],
   "source": [
    "# \"BME\": Business Month-End frequency (last business day of the month)\n",
    "pd.bdate_range(start=\"2025-01-01\", end=\"2025-12-31\", freq=\"BME\")"
   ]
  },
  {
   "cell_type": "code",
   "execution_count": 164,
   "metadata": {
    "ExecuteTime": {
     "end_time": "2025-03-16T09:52:50.153758Z",
     "start_time": "2025-03-16T09:52:50.147640Z"
    },
    "colab": {
     "base_uri": "https://localhost:8080/"
    },
    "executionInfo": {
     "elapsed": 11,
     "status": "ok",
     "timestamp": 1742117678517,
     "user": {
      "displayName": "Pacurar Sebastian",
      "userId": "15686393619609976384"
     },
     "user_tz": -120
    },
    "id": "1eQEAoOUdJ-c",
    "outputId": "d87e5dd1-0bbe-4535-afe6-f6d0111b4d47"
   },
   "outputs": [
    {
     "data": {
      "text/plain": [
       "DatetimeIndex(['2025-01-01', '2025-02-01', '2025-03-01', '2025-04-01',\n",
       "               '2025-05-01', '2025-06-01', '2025-07-01', '2025-08-01',\n",
       "               '2025-09-01', '2025-10-01', '2025-11-01', '2025-12-01'],\n",
       "              dtype='datetime64[ns]', freq='MS')"
      ]
     },
     "execution_count": 164,
     "metadata": {},
     "output_type": "execute_result"
    }
   ],
   "source": [
    "# \"MS\": Month Start frequency (first business day of the month)\n",
    "pd.date_range(start=\"2025-01-01\", end=\"2025-12-31\", freq=\"MS\")"
   ]
  },
  {
   "cell_type": "code",
   "execution_count": 165,
   "metadata": {
    "ExecuteTime": {
     "end_time": "2025-03-16T09:52:50.225595Z",
     "start_time": "2025-03-16T09:52:50.216087Z"
    },
    "colab": {
     "base_uri": "https://localhost:8080/"
    },
    "executionInfo": {
     "elapsed": 11,
     "status": "ok",
     "timestamp": 1742117678529,
     "user": {
      "displayName": "Pacurar Sebastian",
      "userId": "15686393619609976384"
     },
     "user_tz": -120
    },
    "id": "6FbiVOZddJ28",
    "outputId": "0c6ad91b-b3ba-4a8c-f82d-75b628e5fc58"
   },
   "outputs": [
    {
     "data": {
      "text/plain": [
       "DatetimeIndex(['2025-01-01', '2025-02-03', '2025-03-03', '2025-04-01',\n",
       "               '2025-05-01', '2025-06-02', '2025-07-01', '2025-08-01',\n",
       "               '2025-09-01', '2025-10-01', '2025-11-03', '2025-12-01'],\n",
       "              dtype='datetime64[ns]', freq='BMS')"
      ]
     },
     "execution_count": 165,
     "metadata": {},
     "output_type": "execute_result"
    }
   ],
   "source": [
    "# \"BMS\": Business Month start frequency (first business day of the month)\n",
    "pd.bdate_range(start=\"2025-01-01\", end=\"2025-12-31\", freq=\"BMS\")"
   ]
  },
  {
   "cell_type": "markdown",
   "metadata": {
    "id": "Nlj0ccNEI_VS"
   },
   "source": [
    "<br><hr><br>"
   ]
  },
  {
   "cell_type": "markdown",
   "metadata": {
    "id": "bIez4rBKHZf8"
   },
   "source": [
    "## 3.8 - period_range()\n",
    "\n",
    "* Generates a sequence of periods (like months, years, or days), rather than exact timestamps (like a date)\n",
    "* Periods are an abstraction in pandas where the time is measured in a specific frequency (like monthly or yearly)\n",
    "* Use cases:\n",
    "    * ***Generating monthly financial reports***\n",
    "    * ***Generating quarterly ranges***"
   ]
  },
  {
   "cell_type": "markdown",
   "metadata": {
    "id": "veimy2NlT9b8"
   },
   "source": [
    "### 3.8.1 - Generate periods"
   ]
  },
  {
   "cell_type": "code",
   "execution_count": 169,
   "metadata": {
    "ExecuteTime": {
     "end_time": "2025-03-16T09:52:50.288909Z",
     "start_time": "2025-03-16T09:52:50.281399Z"
    },
    "colab": {
     "base_uri": "https://localhost:8080/"
    },
    "executionInfo": {
     "elapsed": 11,
     "status": "ok",
     "timestamp": 1742117678546,
     "user": {
      "displayName": "Pacurar Sebastian",
      "userId": "15686393619609976384"
     },
     "user_tz": -120
    },
    "id": "Q3yH1mASUEbg",
    "outputId": "a44f9f3d-d94e-4a7a-d0c5-8636da6ed3f6"
   },
   "outputs": [
    {
     "data": {
      "text/plain": [
       "PeriodIndex(['2024-01', '2024-02', '2024-03', '2024-04', '2024-05'], dtype='period[M]')"
      ]
     },
     "execution_count": 169,
     "metadata": {},
     "output_type": "execute_result"
    }
   ],
   "source": [
    "pd.period_range(start=\"2024-01-01\", periods=5, freq=\"M\")"
   ]
  },
  {
   "cell_type": "markdown",
   "metadata": {
    "id": "ipINwQ76UBz9"
   },
   "source": [
    "### 3.8.2 - Frequencies\n",
    "\n",
    "<table>\n",
    "    <thead>\n",
    "        <tr>\n",
    "            <th>Code</th>\n",
    "            <th>Description</th>\n",
    "        </tr>\n",
    "    </thead>\n",
    "    <tbody>\n",
    "        <tr>\n",
    "            <td>'D'</td>\n",
    "            <td>Calendar day frequency (e.g., days).</td>\n",
    "        </tr>\n",
    "        <tr>\n",
    "            <td>'B'</td>\n",
    "            <td>Business day frequency (Monday to Friday, excluding holidays).</td>\n",
    "        </tr>\n",
    "        <tr>\n",
    "            <td>'W'</td>\n",
    "            <td>Weekly frequency (every week).</td>\n",
    "        </tr>\n",
    "        <tr>\n",
    "            <td>'W-MON' to 'W-SUN'</td>\n",
    "            <td>Weekly frequency, but only on the specified day of the week (e.g., 'W-MON' for Monday).</td>\n",
    "        </tr>\n",
    "        <tr>\n",
    "            <td>'M'</td>\n",
    "            <td>Monthly frequency (end of the month).</td>\n",
    "        </tr>\n",
    "        <tr>\n",
    "            <td>'SM'</td>\n",
    "            <td>Semi-monthly frequency (15th and end of the month).</td>\n",
    "        </tr>\n",
    "        <tr>\n",
    "            <td>'MS'</td>\n",
    "            <td>Month start frequency (first day of the month).</td>\n",
    "        </tr>\n",
    "        <tr>\n",
    "            <td>'BMS'</td>\n",
    "            <td>Business month start frequency (first business day of the month).</td>\n",
    "        </tr>\n",
    "        <tr>\n",
    "            <td>'BME'</td>\n",
    "            <td>Business month-end frequency (last business day of the month).</td>\n",
    "        </tr>\n",
    "        <tr>\n",
    "            <td>'A' or 'Y'</td>\n",
    "            <td>Year-end frequency (last day of the year).</td>\n",
    "        </tr>\n",
    "        <tr>\n",
    "            <td>'AS' or 'YS'</td>\n",
    "            <td>Year start frequency (first day of the year).</td>\n",
    "        </tr>\n",
    "        <tr>\n",
    "            <td>'Q'</td>\n",
    "            <td>Quarter-end frequency.</td>\n",
    "        </tr>\n",
    "        <tr>\n",
    "            <td>'QS'</td>\n",
    "            <td>Quarter start frequency.</td>\n",
    "        </tr>\n",
    "    </tbody>\n",
    "</table>"
   ]
  },
  {
   "cell_type": "markdown",
   "metadata": {
    "id": "75c_5UOaJA9-"
   },
   "source": [
    "<br><hr><br>"
   ]
  },
  {
   "cell_type": "markdown",
   "metadata": {
    "id": "0DhINtpSHfLp"
   },
   "source": [
    "## 3.9 - timedelta_range()\n",
    "\n",
    "* Generates a range of Timedelta objects, representing differences between timestamps\n",
    "* This is useful when you want to create a series of time differences (like 5 minutes, 10 days, etc.)\n",
    "* Use cases:\n",
    "    * ***Time differences for event duraions***"
   ]
  },
  {
   "cell_type": "markdown",
   "metadata": {
    "id": "I7OqIchWUcv8"
   },
   "source": [
    "### 3.9.1 - Generate timedelta"
   ]
  },
  {
   "cell_type": "code",
   "execution_count": 174,
   "metadata": {
    "ExecuteTime": {
     "end_time": "2025-03-16T09:52:50.348044Z",
     "start_time": "2025-03-16T09:52:50.342044Z"
    },
    "colab": {
     "base_uri": "https://localhost:8080/"
    },
    "executionInfo": {
     "elapsed": 6,
     "status": "ok",
     "timestamp": 1742117678553,
     "user": {
      "displayName": "Pacurar Sebastian",
      "userId": "15686393619609976384"
     },
     "user_tz": -120
    },
    "id": "bXSoNpX8Uk-M",
    "outputId": "bd12f279-c8eb-4baf-b64e-1efd54115b99"
   },
   "outputs": [
    {
     "data": {
      "text/plain": [
       "TimedeltaIndex(['0 days', '1 days', '2 days', '3 days', '4 days'], dtype='timedelta64[ns]', freq='D')"
      ]
     },
     "execution_count": 174,
     "metadata": {},
     "output_type": "execute_result"
    }
   ],
   "source": [
    "pd.timedelta_range(start=\"0 days\", periods=5, freq=\"D\")"
   ]
  },
  {
   "cell_type": "code",
   "execution_count": 175,
   "metadata": {
    "ExecuteTime": {
     "end_time": "2025-03-16T09:52:50.406862Z",
     "start_time": "2025-03-16T09:52:50.401449Z"
    },
    "colab": {
     "base_uri": "https://localhost:8080/"
    },
    "executionInfo": {
     "elapsed": 24,
     "status": "ok",
     "timestamp": 1742117678578,
     "user": {
      "displayName": "Pacurar Sebastian",
      "userId": "15686393619609976384"
     },
     "user_tz": -120
    },
    "id": "Wx9tI82oZlbC",
    "outputId": "3c7256f0-5b93-4bb0-e65d-360eb3aab566"
   },
   "outputs": [
    {
     "data": {
      "text/plain": [
       "Timedelta('1 days 00:00:00')"
      ]
     },
     "execution_count": 175,
     "metadata": {},
     "output_type": "execute_result"
    }
   ],
   "source": [
    "# get time difference by stubstracting 2 given times\n",
    "\n",
    "time_a = pd.Timestamp(\"2025-2-22 13:24:00\")\n",
    "time_b = pd.Timestamp(\"2025-2-23 13:24:00\")\n",
    "\n",
    "time_b - time_a"
   ]
  },
  {
   "cell_type": "markdown",
   "metadata": {
    "id": "I9v4iD7rUfu3"
   },
   "source": [
    "### 3.9.2 - Frequencies\n",
    "\n",
    "<table>\n",
    "    <thead>\n",
    "        <tr>\n",
    "            <th>Code</th>\n",
    "            <th>Description</th>\n",
    "        </tr>\n",
    "    </thead>\n",
    "    <tbody>\n",
    "        <tr>\n",
    "            <td>'D'</td>\n",
    "            <td>Day frequency (e.g., 1 day).</td>\n",
    "        </tr>\n",
    "        <tr>\n",
    "            <td>'h'</td>\n",
    "            <td>Hourly frequency (e.g., 1 hour).</td>\n",
    "        </tr>\n",
    "        <tr>\n",
    "            <td>'min'</td>\n",
    "            <td>Minute frequency (e.g., 1 minute).</td>\n",
    "        </tr>\n",
    "        <tr>\n",
    "            <td>'s'</td>\n",
    "            <td>Second frequency (e.g., 1 second).</td>\n",
    "        </tr>\n",
    "        <tr>\n",
    "            <td>'ms'</td>\n",
    "            <td>Millisecond frequency (e.g., 1 millisecond).</td>\n",
    "        </tr>\n",
    "        <tr>\n",
    "            <td>'us'</td>\n",
    "            <td>Microsecond frequency (e.g., 1 microsecond).</td>\n",
    "        </tr>\n",
    "    </tbody>\n",
    "</table>"
   ]
  },
  {
   "cell_type": "code",
   "execution_count": 177,
   "metadata": {
    "ExecuteTime": {
     "end_time": "2025-03-16T09:52:50.475250Z",
     "start_time": "2025-03-16T09:52:50.469809Z"
    },
    "colab": {
     "base_uri": "https://localhost:8080/"
    },
    "executionInfo": {
     "elapsed": 14,
     "status": "ok",
     "timestamp": 1742117678643,
     "user": {
      "displayName": "Pacurar Sebastian",
      "userId": "15686393619609976384"
     },
     "user_tz": -120
    },
    "id": "nsivbTN8qeoi",
    "outputId": "e6a8b21f-30c0-4269-abf0-e560fd67414d"
   },
   "outputs": [
    {
     "data": {
      "text/plain": [
       "TimedeltaIndex(['0 days', '1 days', '2 days', '3 days', '4 days', '5 days',\n",
       "                '6 days', '7 days', '8 days', '9 days'],\n",
       "               dtype='timedelta64[ns]', freq='D')"
      ]
     },
     "execution_count": 177,
     "metadata": {},
     "output_type": "execute_result"
    }
   ],
   "source": [
    "# \"D\": day frequency\n",
    "pd.timedelta_range(start=\"0 days\", periods=10, freq=\"D\")"
   ]
  },
  {
   "cell_type": "code",
   "execution_count": 178,
   "metadata": {
    "ExecuteTime": {
     "end_time": "2025-03-16T09:52:50.558456Z",
     "start_time": "2025-03-16T09:52:50.549221Z"
    },
    "colab": {
     "base_uri": "https://localhost:8080/"
    },
    "executionInfo": {
     "elapsed": 27,
     "status": "ok",
     "timestamp": 1742117678671,
     "user": {
      "displayName": "Pacurar Sebastian",
      "userId": "15686393619609976384"
     },
     "user_tz": -120
    },
    "id": "eXcd9_97qktY",
    "outputId": "27b43cf5-5eb9-444a-9f71-03542fb61fd2"
   },
   "outputs": [
    {
     "data": {
      "text/plain": [
       "TimedeltaIndex(['0 days 00:00:00', '0 days 01:00:00', '0 days 02:00:00',\n",
       "                '0 days 03:00:00', '0 days 04:00:00', '0 days 05:00:00',\n",
       "                '0 days 06:00:00', '0 days 07:00:00', '0 days 08:00:00',\n",
       "                '0 days 09:00:00'],\n",
       "               dtype='timedelta64[ns]', freq='h')"
      ]
     },
     "execution_count": 178,
     "metadata": {},
     "output_type": "execute_result"
    }
   ],
   "source": [
    "# \"h\": hourly frequency\n",
    "pd.timedelta_range(start=\"0 hours\", periods=10, freq=\"h\")"
   ]
  },
  {
   "cell_type": "code",
   "execution_count": 179,
   "metadata": {
    "ExecuteTime": {
     "end_time": "2025-03-16T09:52:50.648014Z",
     "start_time": "2025-03-16T09:52:50.640538Z"
    },
    "colab": {
     "base_uri": "https://localhost:8080/"
    },
    "executionInfo": {
     "elapsed": 17,
     "status": "ok",
     "timestamp": 1742117678672,
     "user": {
      "displayName": "Pacurar Sebastian",
      "userId": "15686393619609976384"
     },
     "user_tz": -120
    },
    "id": "ACcJr6z7qrmY",
    "outputId": "b7818836-684f-461a-86d7-e2adf9428ed7"
   },
   "outputs": [
    {
     "data": {
      "text/plain": [
       "TimedeltaIndex(['0 days 00:00:00', '0 days 00:01:00', '0 days 00:02:00',\n",
       "                '0 days 00:03:00', '0 days 00:04:00', '0 days 00:05:00',\n",
       "                '0 days 00:06:00', '0 days 00:07:00', '0 days 00:08:00',\n",
       "                '0 days 00:09:00'],\n",
       "               dtype='timedelta64[ns]', freq='min')"
      ]
     },
     "execution_count": 179,
     "metadata": {},
     "output_type": "execute_result"
    }
   ],
   "source": [
    "# \"min\": minute frequency\n",
    "pd.timedelta_range(start=\"0 minutes\", periods=10, freq=\"min\")"
   ]
  },
  {
   "cell_type": "code",
   "execution_count": 180,
   "metadata": {
    "ExecuteTime": {
     "end_time": "2025-03-16T09:52:50.744496Z",
     "start_time": "2025-03-16T09:52:50.737349Z"
    },
    "colab": {
     "base_uri": "https://localhost:8080/"
    },
    "executionInfo": {
     "elapsed": 8,
     "status": "ok",
     "timestamp": 1742117678673,
     "user": {
      "displayName": "Pacurar Sebastian",
      "userId": "15686393619609976384"
     },
     "user_tz": -120
    },
    "id": "TH4jiE_PqyX6",
    "outputId": "7564c831-143b-4101-af30-f85b570fbad9"
   },
   "outputs": [
    {
     "data": {
      "text/plain": [
       "TimedeltaIndex(['0 days 00:00:00', '0 days 00:00:01', '0 days 00:00:02',\n",
       "                '0 days 00:00:03', '0 days 00:00:04', '0 days 00:00:05',\n",
       "                '0 days 00:00:06', '0 days 00:00:07', '0 days 00:00:08',\n",
       "                '0 days 00:00:09'],\n",
       "               dtype='timedelta64[ns]', freq='s')"
      ]
     },
     "execution_count": 180,
     "metadata": {},
     "output_type": "execute_result"
    }
   ],
   "source": [
    "# \"s\": second frequency\n",
    "pd.timedelta_range(start=\"0 seconds\", periods=10, freq=\"s\")"
   ]
  },
  {
   "cell_type": "code",
   "execution_count": 181,
   "metadata": {
    "ExecuteTime": {
     "end_time": "2025-03-16T09:52:50.803753Z",
     "start_time": "2025-03-16T09:52:50.798553Z"
    },
    "colab": {
     "base_uri": "https://localhost:8080/"
    },
    "executionInfo": {
     "elapsed": 11,
     "status": "ok",
     "timestamp": 1742117678684,
     "user": {
      "displayName": "Pacurar Sebastian",
      "userId": "15686393619609976384"
     },
     "user_tz": -120
    },
    "id": "7oQW96UQq5nh",
    "outputId": "9f727bdd-7a00-40ad-efc1-b43e06f01759"
   },
   "outputs": [
    {
     "data": {
      "text/plain": [
       "TimedeltaIndex([       '0 days 00:00:00', '0 days 00:00:00.001000',\n",
       "                '0 days 00:00:00.002000', '0 days 00:00:00.003000',\n",
       "                '0 days 00:00:00.004000', '0 days 00:00:00.005000',\n",
       "                '0 days 00:00:00.006000', '0 days 00:00:00.007000',\n",
       "                '0 days 00:00:00.008000', '0 days 00:00:00.009000'],\n",
       "               dtype='timedelta64[ns]', freq='ms')"
      ]
     },
     "execution_count": 181,
     "metadata": {},
     "output_type": "execute_result"
    }
   ],
   "source": [
    " # \"ms\": millisecond frequency\n",
    "pd.timedelta_range(start=\"0 milliseconds\", periods=10, freq=\"ms\")"
   ]
  },
  {
   "cell_type": "code",
   "execution_count": 182,
   "metadata": {
    "ExecuteTime": {
     "end_time": "2025-03-16T09:52:50.881549Z",
     "start_time": "2025-03-16T09:52:50.875551Z"
    },
    "colab": {
     "base_uri": "https://localhost:8080/"
    },
    "executionInfo": {
     "elapsed": 10,
     "status": "ok",
     "timestamp": 1742117678695,
     "user": {
      "displayName": "Pacurar Sebastian",
      "userId": "15686393619609976384"
     },
     "user_tz": -120
    },
    "id": "mY0nR3jKrKdM",
    "outputId": "09ad1ef7-af51-4153-87cc-adda559e3e84"
   },
   "outputs": [
    {
     "data": {
      "text/plain": [
       "TimedeltaIndex([       '0 days 00:00:00', '0 days 00:00:00.000001',\n",
       "                '0 days 00:00:00.000002', '0 days 00:00:00.000003',\n",
       "                '0 days 00:00:00.000004', '0 days 00:00:00.000005',\n",
       "                '0 days 00:00:00.000006', '0 days 00:00:00.000007',\n",
       "                '0 days 00:00:00.000008', '0 days 00:00:00.000009'],\n",
       "               dtype='timedelta64[ns]', freq='us')"
      ]
     },
     "execution_count": 182,
     "metadata": {},
     "output_type": "execute_result"
    }
   ],
   "source": [
    "# \"us\": microsecond frequency\n",
    "pd.timedelta_range(start=\"0 microseconds\", periods=10, freq=\"us\")"
   ]
  },
  {
   "cell_type": "markdown",
   "metadata": {
    "id": "0QsMiQXfJGig"
   },
   "source": [
    "<br><hr><hr><br>"
   ]
  },
  {
   "cell_type": "markdown",
   "metadata": {
    "id": "jqTuZV7jupSE"
   },
   "source": [
    "# 4) Data Wrangling"
   ]
  },
  {
   "cell_type": "markdown",
   "metadata": {
    "id": "oa0LsWZlKBd8"
   },
   "source": [
    "<br><hr><br>"
   ]
  },
  {
   "cell_type": "code",
   "execution_count": 186,
   "metadata": {
    "ExecuteTime": {
     "end_time": "2025-03-16T09:52:50.948253Z",
     "start_time": "2025-03-16T09:52:50.937165Z"
    },
    "colab": {
     "base_uri": "https://localhost:8080/",
     "height": 310
    },
    "executionInfo": {
     "elapsed": 52,
     "status": "ok",
     "timestamp": 1742117678749,
     "user": {
      "displayName": "Pacurar Sebastian",
      "userId": "15686393619609976384"
     },
     "user_tz": -120
    },
    "id": "WP2hzyD-usC2",
    "outputId": "5248cc2c-c1ab-43e1-e089-789ea6cefb2f"
   },
   "outputs": [
    {
     "data": {
      "text/html": [
       "<div>\n",
       "<style scoped>\n",
       "    .dataframe tbody tr th:only-of-type {\n",
       "        vertical-align: middle;\n",
       "    }\n",
       "\n",
       "    .dataframe tbody tr th {\n",
       "        vertical-align: top;\n",
       "    }\n",
       "\n",
       "    .dataframe thead th {\n",
       "        text-align: right;\n",
       "    }\n",
       "</style>\n",
       "<table border=\"1\" class=\"dataframe\">\n",
       "  <thead>\n",
       "    <tr style=\"text-align: right;\">\n",
       "      <th></th>\n",
       "      <th>User ID</th>\n",
       "      <th>Birthdate</th>\n",
       "      <th>City</th>\n",
       "      <th>State</th>\n",
       "      <th>Zip</th>\n",
       "      <th>Available Points</th>\n",
       "      <th>Total Points Earned</th>\n",
       "      <th>Points Spent</th>\n",
       "      <th>Joined On</th>\n",
       "      <th>Last Seen</th>\n",
       "      <th>Tags</th>\n",
       "    </tr>\n",
       "  </thead>\n",
       "  <tbody>\n",
       "    <tr>\n",
       "      <th>0</th>\n",
       "      <td>1</td>\n",
       "      <td>1/31/1992</td>\n",
       "      <td>Minneapolis</td>\n",
       "      <td>Georgia</td>\n",
       "      <td>55401</td>\n",
       "      <td>300</td>\n",
       "      <td>300</td>\n",
       "      <td>0</td>\n",
       "      <td>9/4/2020 0:15</td>\n",
       "      <td>12/16/2021 17:42</td>\n",
       "      <td>ClassOf2025</td>\n",
       "    </tr>\n",
       "    <tr>\n",
       "      <th>1</th>\n",
       "      <td>2</td>\n",
       "      <td>NaN</td>\n",
       "      <td>Los Angeles</td>\n",
       "      <td>Colorado</td>\n",
       "      <td>90210</td>\n",
       "      <td>320</td>\n",
       "      <td>320</td>\n",
       "      <td>0</td>\n",
       "      <td>8/19/2020 11:15</td>\n",
       "      <td>4/13/2022 14:28</td>\n",
       "      <td>ClassOf2025|apple</td>\n",
       "    </tr>\n",
       "    <tr>\n",
       "      <th>2</th>\n",
       "      <td>3</td>\n",
       "      <td>1/11/1990</td>\n",
       "      <td>Merida</td>\n",
       "      <td>AL</td>\n",
       "      <td>97204</td>\n",
       "      <td>330</td>\n",
       "      <td>330</td>\n",
       "      <td>0</td>\n",
       "      <td>10/13/2020 16:20</td>\n",
       "      <td>4/21/2021 10:54</td>\n",
       "      <td>Freshman|Developer</td>\n",
       "    </tr>\n",
       "    <tr>\n",
       "      <th>3</th>\n",
       "      <td>4</td>\n",
       "      <td>4/16/1990</td>\n",
       "      <td>Winston-Salem</td>\n",
       "      <td>NC</td>\n",
       "      <td>27106</td>\n",
       "      <td>10790</td>\n",
       "      <td>14290</td>\n",
       "      <td>3500</td>\n",
       "      <td>8/18/2020 13:21</td>\n",
       "      <td>6/30/2022 22:22</td>\n",
       "      <td>GraduateStudent|admin|MBBvsDuke</td>\n",
       "    </tr>\n",
       "    <tr>\n",
       "      <th>4</th>\n",
       "      <td>5</td>\n",
       "      <td>3/24/1994</td>\n",
       "      <td>Winston-Salem</td>\n",
       "      <td>NC</td>\n",
       "      <td>27109</td>\n",
       "      <td>650</td>\n",
       "      <td>650</td>\n",
       "      <td>0</td>\n",
       "      <td>8/21/2020 11:27</td>\n",
       "      <td>12/30/2020 10:57</td>\n",
       "      <td>Student|NOBSBvsNDGame3|NOBSBvsNDGame3A</td>\n",
       "    </tr>\n",
       "  </tbody>\n",
       "</table>\n",
       "</div>"
      ],
      "text/plain": [
       "   User ID  Birthdate           City     State    Zip  Available Points  \\\n",
       "0        1  1/31/1992   Minneapolis    Georgia  55401               300   \n",
       "1        2        NaN   Los Angeles   Colorado  90210               320   \n",
       "2        3  1/11/1990         Merida        AL  97204               330   \n",
       "3        4  4/16/1990  Winston-Salem        NC  27106             10790   \n",
       "4        5  3/24/1994  Winston-Salem        NC  27109               650   \n",
       "\n",
       "   Total Points Earned  Points Spent         Joined On         Last Seen  \\\n",
       "0                  300             0     9/4/2020 0:15  12/16/2021 17:42   \n",
       "1                  320             0   8/19/2020 11:15   4/13/2022 14:28   \n",
       "2                  330             0  10/13/2020 16:20   4/21/2021 10:54   \n",
       "3                14290          3500   8/18/2020 13:21   6/30/2022 22:22   \n",
       "4                  650             0   8/21/2020 11:27  12/30/2020 10:57   \n",
       "\n",
       "                                     Tags  \n",
       "0                             ClassOf2025  \n",
       "1                       ClassOf2025|apple  \n",
       "2                      Freshman|Developer  \n",
       "3         GraduateStudent|admin|MBBvsDuke  \n",
       "4  Student|NOBSBvsNDGame3|NOBSBvsNDGame3A  "
      ]
     },
     "execution_count": 186,
     "metadata": {},
     "output_type": "execute_result"
    }
   ],
   "source": [
    "rewards.head()"
   ]
  },
  {
   "cell_type": "code",
   "execution_count": 187,
   "metadata": {
    "ExecuteTime": {
     "end_time": "2025-03-16T09:52:51.060895Z",
     "start_time": "2025-03-16T09:52:51.052849Z"
    },
    "colab": {
     "base_uri": "https://localhost:8080/",
     "height": 429
    },
    "executionInfo": {
     "elapsed": 15,
     "status": "ok",
     "timestamp": 1742117678763,
     "user": {
      "displayName": "Pacurar Sebastian",
      "userId": "15686393619609976384"
     },
     "user_tz": -120
    },
    "id": "DbJMEax0utwG",
    "outputId": "44971c0a-0b62-43bc-bd56-4cc0b7260f5d"
   },
   "outputs": [
    {
     "data": {
      "text/plain": [
       "User ID                   0\n",
       "Birthdate              6080\n",
       "City                   6922\n",
       "State                  6922\n",
       "Zip                    6922\n",
       "Available Points          0\n",
       "Total Points Earned       0\n",
       "Points Spent              0\n",
       "Joined On                 0\n",
       "Last Seen               221\n",
       "Tags                      0\n",
       "dtype: int64"
      ]
     },
     "execution_count": 187,
     "metadata": {},
     "output_type": "execute_result"
    }
   ],
   "source": [
    "# use sum() to get the total of missing values\n",
    "missing_value_counts = rewards.isna().sum()\n",
    "missing_value_counts"
   ]
  },
  {
   "cell_type": "code",
   "execution_count": 188,
   "metadata": {
    "ExecuteTime": {
     "end_time": "2025-03-16T09:52:51.179702Z",
     "start_time": "2025-03-16T09:52:51.172705Z"
    },
    "colab": {
     "base_uri": "https://localhost:8080/",
     "height": 429
    },
    "executionInfo": {
     "elapsed": 24,
     "status": "ok",
     "timestamp": 1742117678785,
     "user": {
      "displayName": "Pacurar Sebastian",
      "userId": "15686393619609976384"
     },
     "user_tz": -120
    },
    "id": "adBrcw7kVCOv",
    "outputId": "f6709c5d-39de-487f-abae-99a43ec68b98"
   },
   "outputs": [
    {
     "data": {
      "text/plain": [
       "User ID                 0.000000\n",
       "Birthdate              83.838941\n",
       "City                   95.449531\n",
       "State                  95.449531\n",
       "Zip                    95.449531\n",
       "Available Points        0.000000\n",
       "Total Points Earned     0.000000\n",
       "Points Spent            0.000000\n",
       "Joined On               0.000000\n",
       "Last Seen               3.047435\n",
       "Tags                    0.000000\n",
       "dtype: float64"
      ]
     },
     "execution_count": 188,
     "metadata": {},
     "output_type": "execute_result"
    }
   ],
   "source": [
    "# create and display missing value percentages variable\n",
    "missing_value_percentages = missing_value_counts / len(rewards) * 100\n",
    "missing_value_percentages"
   ]
  },
  {
   "cell_type": "code",
   "execution_count": 189,
   "metadata": {
    "ExecuteTime": {
     "end_time": "2025-03-16T09:52:51.354376Z",
     "start_time": "2025-03-16T09:52:51.343419Z"
    },
    "colab": {
     "base_uri": "https://localhost:8080/"
    },
    "executionInfo": {
     "elapsed": 38,
     "status": "ok",
     "timestamp": 1742117678823,
     "user": {
      "displayName": "Pacurar Sebastian",
      "userId": "15686393619609976384"
     },
     "user_tz": -120
    },
    "id": "uUXidS7yVQiB",
    "outputId": "dc133df7-5230-4775-a6cc-b44d72aad85b"
   },
   "outputs": [
    {
     "name": "stdout",
     "output_type": "stream",
     "text": [
      "<class 'pandas.core.frame.DataFrame'>\n",
      "RangeIndex: 7252 entries, 0 to 7251\n",
      "Data columns (total 11 columns):\n",
      " #   Column               Non-Null Count  Dtype \n",
      "---  ------               --------------  ----- \n",
      " 0   User ID              7252 non-null   int64 \n",
      " 1   Birthdate            1172 non-null   object\n",
      " 2   City                 330 non-null    object\n",
      " 3   State                330 non-null    object\n",
      " 4   Zip                  330 non-null    object\n",
      " 5   Available Points     7252 non-null   int64 \n",
      " 6   Total Points Earned  7252 non-null   int64 \n",
      " 7   Points Spent         7252 non-null   int64 \n",
      " 8   Joined On            7252 non-null   object\n",
      " 9   Last Seen            7031 non-null   object\n",
      " 10  Tags                 7252 non-null   object\n",
      "dtypes: int64(4), object(7)\n",
      "memory usage: 623.3+ KB\n"
     ]
    }
   ],
   "source": [
    "rewards.info()"
   ]
  },
  {
   "cell_type": "code",
   "execution_count": 190,
   "metadata": {
    "ExecuteTime": {
     "end_time": "2025-03-16T09:52:51.522671Z",
     "start_time": "2025-03-16T09:52:51.493671Z"
    },
    "colab": {
     "base_uri": "https://localhost:8080/"
    },
    "executionInfo": {
     "elapsed": 27,
     "status": "ok",
     "timestamp": 1742117678894,
     "user": {
      "displayName": "Pacurar Sebastian",
      "userId": "15686393619609976384"
     },
     "user_tz": -120
    },
    "id": "PD8ZtyU5VkjU",
    "outputId": "8d0ab469-c3b6-414d-ff72-fa78bbf3af2e"
   },
   "outputs": [
    {
     "name": "stdout",
     "output_type": "stream",
     "text": [
      "<class 'pandas.core.frame.DataFrame'>\n",
      "RangeIndex: 7252 entries, 0 to 7251\n",
      "Data columns (total 11 columns):\n",
      " #   Column               Non-Null Count  Dtype         \n",
      "---  ------               --------------  -----         \n",
      " 0   User ID              7252 non-null   int64         \n",
      " 1   Birthdate            1172 non-null   object        \n",
      " 2   City                 330 non-null    object        \n",
      " 3   State                330 non-null    object        \n",
      " 4   Zip                  330 non-null    object        \n",
      " 5   Available Points     7252 non-null   int64         \n",
      " 6   Total Points Earned  7252 non-null   int64         \n",
      " 7   Points Spent         7252 non-null   int64         \n",
      " 8   Joined On            7252 non-null   object        \n",
      " 9   Last Seen            7031 non-null   datetime64[ns]\n",
      " 10  Tags                 7252 non-null   object        \n",
      "dtypes: datetime64[ns](1), int64(4), object(6)\n",
      "memory usage: 623.3+ KB\n"
     ]
    }
   ],
   "source": [
    "# convert the \"Last Seen\" column from a generic object date type to datetime\n",
    "rewards[\"Last Seen\"] = pd.to_datetime(rewards[\"Last Seen\"])\n",
    "rewards.info()"
   ]
  },
  {
   "cell_type": "code",
   "execution_count": 191,
   "metadata": {
    "ExecuteTime": {
     "end_time": "2025-03-16T09:52:51.693996Z",
     "start_time": "2025-03-16T09:52:51.684961Z"
    },
    "colab": {
     "base_uri": "https://localhost:8080/"
    },
    "executionInfo": {
     "elapsed": 11,
     "status": "ok",
     "timestamp": 1742117678906,
     "user": {
      "displayName": "Pacurar Sebastian",
      "userId": "15686393619609976384"
     },
     "user_tz": -120
    },
    "id": "azfBYuZLeBTV",
    "outputId": "0cc13e9d-424e-400f-e035-064c14484092"
   },
   "outputs": [
    {
     "name": "stdout",
     "output_type": "stream",
     "text": [
      "2020-10-12 14:38:00 - 2022-07-01 08:36:00\n",
      "count of min_date in original df: 1\n",
      "count of min_date in no na df: 222\n"
     ]
    }
   ],
   "source": [
    "# find the range of dates\n",
    "min_date = rewards[\"Last Seen\"].min()\n",
    "max_date = rewards[\"Last Seen\"].max()\n",
    "print(f'{min_date} - {max_date}')\n",
    "\n",
    "print(f'count of min_date in original df: {(rewards[\"Last Seen\"] == min_date).sum()}')\n",
    "\n",
    "new_df = rewards.copy()\n",
    "new_df[\"Last Seen\"] = new_df[\"Last Seen\"].fillna(value=min_date)\n",
    "\n",
    "print(f'count of min_date in no na df: {(new_df[\"Last Seen\"] == min_date).sum()}')"
   ]
  },
  {
   "cell_type": "code",
   "execution_count": 192,
   "metadata": {
    "ExecuteTime": {
     "end_time": "2025-03-16T09:52:51.829940Z",
     "start_time": "2025-03-16T09:52:51.818712Z"
    },
    "colab": {
     "base_uri": "https://localhost:8080/",
     "height": 429
    },
    "executionInfo": {
     "elapsed": 16,
     "status": "ok",
     "timestamp": 1742117678921,
     "user": {
      "displayName": "Pacurar Sebastian",
      "userId": "15686393619609976384"
     },
     "user_tz": -120
    },
    "id": "pCZ0had5ehDh",
    "outputId": "9fceea14-9e16-491e-c4a8-0410da3a0afd"
   },
   "outputs": [
    {
     "data": {
      "text/plain": [
       "User ID                172\n",
       "Birthdate              172\n",
       "City                   172\n",
       "State                  172\n",
       "Zip                    172\n",
       "Available Points       172\n",
       "Total Points Earned    172\n",
       "Points Spent           172\n",
       "Joined On              172\n",
       "Last Seen              172\n",
       "Tags                   172\n",
       "dtype: int64"
      ]
     },
     "execution_count": 192,
     "metadata": {},
     "output_type": "execute_result"
    }
   ],
   "source": [
    "# drop records with missing values and assign result to new dataframe\n",
    "rewards_df_sample = rewards.dropna()\n",
    "missing_counts = rewards_df_sample.notna().sum()\n",
    "missing_counts"
   ]
  },
  {
   "cell_type": "code",
   "execution_count": 193,
   "metadata": {
    "ExecuteTime": {
     "end_time": "2025-03-16T09:52:51.994574Z",
     "start_time": "2025-03-16T09:52:51.983409Z"
    },
    "colab": {
     "base_uri": "https://localhost:8080/"
    },
    "executionInfo": {
     "elapsed": 74,
     "status": "ok",
     "timestamp": 1742117678993,
     "user": {
      "displayName": "Pacurar Sebastian",
      "userId": "15686393619609976384"
     },
     "user_tz": -120
    },
    "id": "tIXOsdh-k8JW",
    "outputId": "3a841de7-606f-471b-f106-50c993426956"
   },
   "outputs": [
    {
     "name": "stdout",
     "output_type": "stream",
     "text": [
      "<class 'pandas.core.frame.DataFrame'>\n",
      "Index: 1 entries, 5169 to 5169\n",
      "Data columns (total 10 columns):\n",
      " #   Column               Non-Null Count  Dtype         \n",
      "---  ------               --------------  -----         \n",
      " 0   User ID              1 non-null      int64         \n",
      " 1   Birthdate            0 non-null      object        \n",
      " 2   City                 0 non-null      object        \n",
      " 3   State                0 non-null      object        \n",
      " 4   Zip                  0 non-null      object        \n",
      " 5   Available Points     1 non-null      int64         \n",
      " 6   Total Points Earned  1 non-null      int64         \n",
      " 7   Points Spent         1 non-null      int64         \n",
      " 8   Joined On            1 non-null      object        \n",
      " 9   Last Seen            1 non-null      datetime64[ns]\n",
      "dtypes: datetime64[ns](1), int64(4), object(5)\n",
      "memory usage: 88.0+ bytes\n"
     ]
    }
   ],
   "source": [
    "# drop the \"Tags\" column from rewards_sample\n",
    "rewards_sample = rewards.copy()\n",
    "rewards_sample = rewards.sample().drop(columns=\"Tags\")\n",
    "rewards_sample.info()"
   ]
  },
  {
   "cell_type": "markdown",
   "metadata": {
    "id": "YluO7Bj7J0uN"
   },
   "source": [
    "<br><hr><br>"
   ]
  },
  {
   "cell_type": "markdown",
   "metadata": {
    "id": "_JJhjH2Eunl8"
   },
   "source": [
    "## 4.1 - Get Unique City using Pandas (Recommended)"
   ]
  },
  {
   "cell_type": "code",
   "execution_count": 196,
   "metadata": {
    "ExecuteTime": {
     "end_time": "2025-03-16T09:52:52.109221Z",
     "start_time": "2025-03-16T09:52:52.097901Z"
    },
    "colab": {
     "base_uri": "https://localhost:8080/"
    },
    "executionInfo": {
     "elapsed": 45,
     "status": "ok",
     "timestamp": 1742117678993,
     "user": {
      "displayName": "Pacurar Sebastian",
      "userId": "15686393619609976384"
     },
     "user_tz": -120
    },
    "id": "VnEa_MuWuulx",
    "outputId": "42c9cd19-1f7d-4e7f-f363-a2fee83ac929"
   },
   "outputs": [
    {
     "name": "stdout",
     "output_type": "stream",
     "text": [
      "Initial count: 330; Uniques count: 136\n"
     ]
    },
    {
     "data": {
      "text/plain": [
       "array(['Anderson', 'Anthem', 'Ashburn', 'Asheboro', 'Atlanta', 'Aurora',\n",
       "       'Austin', 'Bakersfield', 'Baltimore', 'Belmont', 'Bethesda',\n",
       "       'Big Flats', 'Blaine', 'Bourne', 'Cary', 'Chapel Hill',\n",
       "       'Charlotte', 'Chester Springs', 'Chevy Chase', 'Clemmons',\n",
       "       'Cleveland', 'Clovis', 'Dallas', 'Darien', 'Delhi', 'Delran',\n",
       "       'Dover', 'Downers Grove', 'Dublin', 'Durham', 'Duxbury', 'Edina',\n",
       "       'Fairfield', 'Fort Myers', 'Frankfort', 'G', 'Gainesville',\n",
       "       'Glen Mills', 'Glenview', 'Goldsboro', 'Greensboro', 'Guaynabo',\n",
       "       'Harrison', 'Hickory', 'Huntersville', 'Indian Trail', 'Jackson',\n",
       "       'Jacksonville', 'Jamesville', 'Kenneth Square', 'Lafayette',\n",
       "       'Larchmont', 'Lexington', 'Libertyville', 'Lincoln University',\n",
       "       'Littleton', 'Lmao', 'Locust', 'Long Valley', 'Los Angeles',\n",
       "       'Louisville', 'Loveland', 'Lutherville', 'Madison', 'Malvern',\n",
       "       'Manhattan Beach', 'Maple Grove', 'Marblehead', 'Mclean', 'Medina',\n",
       "       'Memphis', 'Merida', 'Midlothian', 'Milwaukee', 'Minneapolis',\n",
       "       'Mooresville', 'Morganton', 'Mt. Pleasant', 'Naples', 'Nashville',\n",
       "       'Natick', 'Newtown Square', 'Northport', 'Oak Ridge', 'Oakwood',\n",
       "       'Orleans', 'Ormond Beach', 'Palm Beach Gardens', 'Palm Harbor',\n",
       "       'Palmetto Bay', 'Perry', 'Pfafftown', 'Piedmont', 'Pinehurst',\n",
       "       'Pittsburgh', 'Potomac', 'Raleigh', 'Rex', 'Rich Square',\n",
       "       'Rockville', 'Rocky Hill', 'Rome', 'San Francisco', 'San Marcos',\n",
       "       'Sandy Springs', 'Scituate', 'Seneca', 'Shaker Hts', 'Sharon',\n",
       "       'Silver Spring', 'Smithtown', 'Smyrna', 'Summit', 'Supply',\n",
       "       'Terrace Park', 'The Woodlands', 'Thomasville', 'Valrico',\n",
       "       'Vero Beach', 'Vienna', 'Walkertown', 'Warren', 'Washington',\n",
       "       'Waukegan', 'Waxhaw', 'Wellesley', 'West Chester', 'Weston',\n",
       "       'Westport', 'Whippany', 'Whitesboro', 'Wilmette', 'Winston Salem',\n",
       "       'Winston Salem  Nc', 'Wyckoff', 'Wyomissing'], dtype=object)"
      ]
     },
     "execution_count": 196,
     "metadata": {},
     "output_type": "execute_result"
    }
   ],
   "source": [
    "import pandas as pd\n",
    "\n",
    "rewards_sample = rewards.copy()\n",
    "\n",
    "# get unique cities, remove NaN, and convert to string\n",
    "city_vals = rewards_sample['City'].dropna().astype(str)\n",
    "\n",
    "# normalize cities: strip spaces, replace dashes/commas with space, and standardize capitalization\n",
    "city_vals = city_vals.str.strip().str.replace(r\"[-,]\", \" \", regex=True).str.title()\n",
    "\n",
    "# get unique values and sort them\n",
    "unique_sorted = city_vals.drop_duplicates().sort_values(ignore_index=True)\n",
    "\n",
    "print(f\"Initial count: {city_vals.shape[0]}; Uniques count: {unique_sorted.shape[0]}\")\n",
    "np.array(unique_sorted)"
   ]
  },
  {
   "cell_type": "markdown",
   "metadata": {
    "id": "U4wL0LmeJxeY"
   },
   "source": [
    "<br><hr><br>"
   ]
  },
  {
   "cell_type": "markdown",
   "metadata": {
    "id": "TnNEjNMRuhbs"
   },
   "source": [
    "## 4.2 - Get Unique City using numpy (Alternative)"
   ]
  },
  {
   "cell_type": "code",
   "execution_count": 199,
   "metadata": {
    "ExecuteTime": {
     "end_time": "2025-03-16T09:52:52.268811Z",
     "start_time": "2025-03-16T09:52:52.256160Z"
    },
    "colab": {
     "base_uri": "https://localhost:8080/"
    },
    "executionInfo": {
     "elapsed": 31,
     "status": "ok",
     "timestamp": 1742117678994,
     "user": {
      "displayName": "Pacurar Sebastian",
      "userId": "15686393619609976384"
     },
     "user_tz": -120
    },
    "id": "W-XUY29al-tT",
    "outputId": "8a6c1532-159c-4f03-8397-fb15b27c67ba"
   },
   "outputs": [
    {
     "name": "stdout",
     "output_type": "stream",
     "text": [
      "Initial count: 330; Uniques count: 136\n"
     ]
    },
    {
     "data": {
      "text/plain": [
       "array(['Anderson', 'Anthem', 'Ashburn', 'Asheboro', 'Atlanta', 'Aurora',\n",
       "       'Austin', 'Bakersfield', 'Baltimore', 'Belmont', 'Bethesda',\n",
       "       'Big Flats', 'Blaine', 'Bourne', 'Cary', 'Chapel Hill',\n",
       "       'Charlotte', 'Chester Springs', 'Chevy Chase', 'Clemmons',\n",
       "       'Cleveland', 'Clovis', 'Dallas', 'Darien', 'Delhi', 'Delran',\n",
       "       'Dover', 'Downers Grove', 'Dublin', 'Durham', 'Duxbury', 'Edina',\n",
       "       'Fairfield', 'Fort Myers', 'Frankfort', 'G', 'Gainesville',\n",
       "       'Glen Mills', 'Glenview', 'Goldsboro', 'Greensboro', 'Guaynabo',\n",
       "       'Harrison', 'Hickory', 'Huntersville', 'Indian Trail', 'Jackson',\n",
       "       'Jacksonville', 'Jamesville', 'Kenneth Square', 'Lafayette',\n",
       "       'Larchmont', 'Lexington', 'Libertyville', 'Lincoln University',\n",
       "       'Littleton', 'Lmao', 'Locust', 'Long Valley', 'Los Angeles',\n",
       "       'Louisville', 'Loveland', 'Lutherville', 'Madison', 'Malvern',\n",
       "       'Manhattan Beach', 'Maple Grove', 'Marblehead', 'Mclean', 'Medina',\n",
       "       'Memphis', 'Merida', 'Midlothian', 'Milwaukee', 'Minneapolis',\n",
       "       'Mooresville', 'Morganton', 'Mt. Pleasant', 'Naples', 'Nashville',\n",
       "       'Natick', 'Newtown Square', 'Northport', 'Oak Ridge', 'Oakwood',\n",
       "       'Orleans', 'Ormond Beach', 'Palm Beach Gardens', 'Palm Harbor',\n",
       "       'Palmetto Bay', 'Perry', 'Pfafftown', 'Piedmont', 'Pinehurst',\n",
       "       'Pittsburgh', 'Potomac', 'Raleigh', 'Rex', 'Rich Square',\n",
       "       'Rockville', 'Rocky Hill', 'Rome', 'San Francisco', 'San Marcos',\n",
       "       'Sandy Springs', 'Scituate', 'Seneca', 'Shaker Hts', 'Sharon',\n",
       "       'Silver Spring', 'Smithtown', 'Smyrna', 'Summit', 'Supply',\n",
       "       'Terrace Park', 'The Woodlands', 'Thomasville', 'Valrico',\n",
       "       'Vero Beach', 'Vienna', 'Walkertown', 'Warren', 'Washington',\n",
       "       'Waukegan', 'Waxhaw', 'Wellesley', 'West Chester', 'Weston',\n",
       "       'Westport', 'Whippany', 'Whitesboro', 'Wilmette', 'Winston Salem',\n",
       "       'Winston Salem Nc', 'Wyckoff', 'Wyomissing'], dtype='<U18')"
      ]
     },
     "execution_count": 199,
     "metadata": {},
     "output_type": "execute_result"
    }
   ],
   "source": [
    "rewards_sample = rewards.copy()\n",
    "\n",
    "# remove NaN, make sure only strings are selected, and convert to a NumPy array\n",
    "city_vals = rewards_sample['City'].dropna().astype(str).to_numpy()\n",
    "\n",
    "# normalize cities: strip spaces, replace dashes/commas with space, and standardize capitalization\n",
    "city_vals = np.array([city.strip().replace(\"-\", \" \").replace(\",\", \"\").title() for city in city_vals])\n",
    "\n",
    "# get unique values and sort them using NumPy\n",
    "unique_sorted = np.sort(np.unique(city_vals))\n",
    "\n",
    "print(f\"Initial count: {city_vals.shape[0]}; Uniques count: {unique_sorted.shape[0]}\")\n",
    "unique_sorted"
   ]
  },
  {
   "cell_type": "markdown",
   "metadata": {
    "id": "-RIoESSYJ2f0"
   },
   "source": [
    "<br><hr><br>"
   ]
  },
  {
   "cell_type": "markdown",
   "metadata": {
    "id": "f5fE2eX31vmw"
   },
   "source": [
    "## 4.3 - Fix States and Zip codes"
   ]
  },
  {
   "cell_type": "code",
   "execution_count": 202,
   "metadata": {
    "ExecuteTime": {
     "end_time": "2025-03-16T09:52:52.374196Z",
     "start_time": "2025-03-16T09:52:52.368976Z"
    },
    "executionInfo": {
     "elapsed": 12,
     "status": "ok",
     "timestamp": 1742117679003,
     "user": {
      "displayName": "Pacurar Sebastian",
      "userId": "15686393619609976384"
     },
     "user_tz": -120
    },
    "id": "J4JjgjZtmSs8"
   },
   "outputs": [],
   "source": [
    "us_state_to_abbrev = {\"Alabama\": \"AL\", \"Alaska\": \"AK\", \"Arizona\": \"AZ\", \"Arkansas\": \"AR\", \"California\": \"CA\", \"Colorado\": \"CO\", \"Connecticut\": \"CT\", \"Delaware\": \"DE\", \"Florida\": \"FL\",\n",
    "                      \"Georgia\": \"GA\", \"Hawaii\": \"HI\", \"Idaho\": \"ID\", \"Illinois\": \"IL\", \"Indiana\": \"IN\", \"Iowa\": \"IA\", \"Kansas\": \"KS\", \"Kentucky\": \"KY\", \"Louisiana\": \"LA\", \"Maine\": \"ME\",\n",
    "                      \"Maryland\": \"MD\", \"Massachusetts\": \"MA\", \"Michigan\": \"MI\", \"Minnesota\": \"MN\", \"Mississippi\": \"MS\", \"Missouri\": \"MO\", \"Montana\": \"MT\", \"Nebraska\": \"NE\", \"Nevada\": \"NV\",\n",
    "                      \"New Hampshire\": \"NH\", \"New Jersey\": \"NJ\", \"New Mexico\": \"NM\", \"New York\": \"NY\", \"North Carolina\": \"NC\", \"North Dakota\": \"ND\", \"Ohio\": \"OH\", \"Oklahoma\": \"OK\", \"Oregon\": \"OR\",\n",
    "                      \"Pennsylvania\": \"PA\", \"Rhode Island\": \"RI\", \"South Carolina\": \"SC\", \"South Dakota\": \"SD\", \"Tennessee\": \"TN\", \"Texas\": \"TX\", \"Utah\": \"UT\", \"Vermont\": \"VT\", \"Virginia\": \"VA\",\n",
    "                      \"Washington\": \"WA\", \"West Virginia\": \"WV\", \"Wisconsin\": \"WI\", \"Wyoming\": \"WY\", \"District of Columbia\": \"DC\", \"American Samoa\": \"AS\", \"Guam\": \"GU\",\n",
    "                      \"Northern Mariana Islands\": \"MP\", \"Puerto Rico\": \"PR\", \"United States Minor Outlying Islands\": \"UM\", \"Virgin Islands, U.S.\": \"VI\"}\n",
    "\n",
    "# TODO: continue here with lowercase() to match the remaining elements"
   ]
  },
  {
   "cell_type": "code",
   "execution_count": 203,
   "metadata": {
    "ExecuteTime": {
     "end_time": "2025-03-16T09:52:52.461161Z",
     "start_time": "2025-03-16T09:52:52.431244Z"
    },
    "colab": {
     "base_uri": "https://localhost:8080/"
    },
    "executionInfo": {
     "elapsed": 26,
     "status": "ok",
     "timestamp": 1742117679030,
     "user": {
      "displayName": "Pacurar Sebastian",
      "userId": "15686393619609976384"
     },
     "user_tz": -120
    },
    "id": "87uhah8Y5yOl",
    "outputId": "14955f8e-aff7-4a3b-b5fe-bb3f5a0eb7bf"
   },
   "outputs": [
    {
     "data": {
      "text/plain": [
       "(array(['al', 'az', 'ca', 'california', 'co', 'colorado', 'connecticut',\n",
       "        'ct', 'district of columbia', 'fl', 'florida', 'ga', 'georgia',\n",
       "        'il', 'illinois', 'kentucky', 'ky', 'ma', 'maryland',\n",
       "        'massachusetts', 'md', 'mn', 'ms', 'nc', 'new jersey',\n",
       "        'new mexico', 'new york', 'nj', 'north carolina', 'ny', 'oh',\n",
       "        'ohio', 'pa', 'pennsylvania', 'puerto rico', 'sc', 'tennessee',\n",
       "        'texas', 'tn', 'tx', 'va', 'wi'], dtype=object),\n",
       " 42)"
      ]
     },
     "execution_count": 203,
     "metadata": {},
     "output_type": "execute_result"
    }
   ],
   "source": [
    "rewards_sample = rewards.copy()\n",
    "\n",
    "rewards_sample[\"State\"] = rewards_sample[\"State\"].str.replace(r\"[-,]\", \" \", regex=True).str.strip().str.lower()\n",
    "\n",
    "for k, v in us_state_to_abbrev.items():\n",
    "    rewards_sample[\"State\"] = rewards_sample[\"State\"].replace(to_replace=k, value=v)\n",
    "\n",
    "unique_states = rewards_sample[\"State\"].dropna().astype(str).drop_duplicates().sort_values(ignore_index=True)\n",
    "original = rewards_sample[\"State\"].dropna().to_numpy()\n",
    "unique_states.to_numpy(), len(unique_states.to_numpy())"
   ]
  }
 ],
 "metadata": {
  "colab": {
   "provenance": []
  },
  "kernelspec": {
   "display_name": "Python [conda env:base] *",
   "language": "python",
   "name": "conda-base-py"
  },
  "language_info": {
   "codemirror_mode": {
    "name": "ipython",
    "version": 3
   },
   "file_extension": ".py",
   "mimetype": "text/x-python",
   "name": "python",
   "nbconvert_exporter": "python",
   "pygments_lexer": "ipython3",
   "version": "3.12.7"
  }
 },
 "nbformat": 4,
 "nbformat_minor": 4
}
