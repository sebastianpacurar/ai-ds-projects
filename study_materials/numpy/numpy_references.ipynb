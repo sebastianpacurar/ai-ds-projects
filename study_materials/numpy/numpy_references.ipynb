{
 "nbformat": 4,
 "nbformat_minor": 0,
 "metadata": {
  "colab": {
   "provenance": [],
   "collapsed_sections": [
    "ZJdioitvgPT3"
   ],
   "toc_visible": true
  },
  "kernelspec": {
   "name": "python3",
   "display_name": "Python 3 (ipykernel)",
   "language": "python"
  },
  "language_info": {
   "name": "python"
  }
 },
 "cells": [
  {
   "cell_type": "markdown",
   "source": [
    "# NB Seup"
   ],
   "metadata": {
    "id": "NaRimhvgi8m8"
   }
  },
  {
   "cell_type": "code",
   "metadata": {
    "id": "WQxGHxtUiZgD",
    "ExecuteTime": {
     "end_time": "2025-02-19T00:41:39.984658Z",
     "start_time": "2025-02-19T00:41:39.655183Z"
    }
   },
   "source": [
    "import numpy as np"
   ],
   "outputs": [],
   "execution_count": 1
  },
  {
   "cell_type": "markdown",
   "source": [
    "# Basics"
   ],
   "metadata": {
    "id": "IoPXFLLGitq3"
   }
  },
  {
   "cell_type": "markdown",
   "source": [
    "## Arrays"
   ],
   "metadata": {
    "id": "MB5c44eAiz3P"
   }
  },
  {
   "cell_type": "code",
   "source": [
    "a = np.arange(2, 10, 2) # start = 2, end = 10, step = 2\n",
    "a, type(a), type(a[0])"
   ],
   "metadata": {
    "colab": {
     "base_uri": "https://localhost:8080/"
    },
    "id": "ydzNPv1Ri2u1",
    "outputId": "1329d9c2-3e77-4f45-8936-b0a9e1a816c0",
    "ExecuteTime": {
     "end_time": "2025-02-19T00:41:40.013909Z",
     "start_time": "2025-02-19T00:41:40.000675Z"
    }
   },
   "outputs": [
    {
     "data": {
      "text/plain": [
       "(array([2, 4, 6, 8]), numpy.ndarray, numpy.int64)"
      ]
     },
     "execution_count": 2,
     "metadata": {},
     "output_type": "execute_result"
    }
   ],
   "execution_count": 2
  },
  {
   "cell_type": "code",
   "source": [
    "# generate array from list\n",
    "from_list = np.array([1,2,3])\n",
    "from_list"
   ],
   "metadata": {
    "colab": {
     "base_uri": "https://localhost:8080/"
    },
    "id": "M0tza8yhjFrf",
    "outputId": "abe0b5fc-11be-4271-d2c0-60abf876dca3",
    "ExecuteTime": {
     "end_time": "2025-02-19T00:41:40.385576Z",
     "start_time": "2025-02-19T00:41:40.379210Z"
    }
   },
   "outputs": [
    {
     "data": {
      "text/plain": [
       "array([1, 2, 3])"
      ]
     },
     "execution_count": 3,
     "metadata": {},
     "output_type": "execute_result"
    }
   ],
   "execution_count": 3
  },
  {
   "cell_type": "code",
   "source": [
    "# assign data type on instantiation\n",
    "a = np.array([1,2,3], dtype=np.int8)\n",
    "a, type(a[0])"
   ],
   "metadata": {
    "colab": {
     "base_uri": "https://localhost:8080/"
    },
    "id": "V7ZO8NprjIQh",
    "outputId": "ae68f0c3-8a22-4c22-a151-d52356198e6d",
    "ExecuteTime": {
     "end_time": "2025-02-19T00:41:40.465893Z",
     "start_time": "2025-02-19T00:41:40.457662Z"
    }
   },
   "outputs": [
    {
     "data": {
      "text/plain": [
       "(array([1, 2, 3], dtype=int8), numpy.int8)"
      ]
     },
     "execution_count": 4,
     "metadata": {},
     "output_type": "execute_result"
    }
   ],
   "execution_count": 4
  },
  {
   "cell_type": "code",
   "source": [
    "# 2D arrays\n",
    "a = np.array([[1,2,3], [4,5,6]], dtype=np.int8)\n",
    "a"
   ],
   "metadata": {
    "colab": {
     "base_uri": "https://localhost:8080/"
    },
    "id": "5X9aKGOwjJum",
    "outputId": "64457579-325b-421e-f6eb-9697bad0543d",
    "ExecuteTime": {
     "end_time": "2025-02-19T00:41:40.552934Z",
     "start_time": "2025-02-19T00:41:40.546591Z"
    }
   },
   "outputs": [
    {
     "data": {
      "text/plain": [
       "array([[1, 2, 3],\n",
       "       [4, 5, 6]], dtype=int8)"
      ]
     },
     "execution_count": 5,
     "metadata": {},
     "output_type": "execute_result"
    }
   ],
   "execution_count": 5
  },
  {
   "cell_type": "code",
   "source": [
    "# 2D array using np.arange\n",
    "a = np.array((np.arange(0,8,2), np.arange(1,8,2)), dtype=np.int8)\n",
    "a"
   ],
   "metadata": {
    "colab": {
     "base_uri": "https://localhost:8080/"
    },
    "id": "TlD3MyrrjLEf",
    "outputId": "fd0eefc1-d216-4b94-f6ec-4fa8589e51c9",
    "ExecuteTime": {
     "end_time": "2025-02-19T00:41:40.661941Z",
     "start_time": "2025-02-19T00:41:40.649733Z"
    }
   },
   "outputs": [
    {
     "data": {
      "text/plain": [
       "array([[0, 2, 4, 6],\n",
       "       [1, 3, 5, 7]], dtype=int8)"
      ]
     },
     "execution_count": 6,
     "metadata": {},
     "output_type": "execute_result"
    }
   ],
   "execution_count": 6
  },
  {
   "cell_type": "code",
   "source": [
    "# shapes 1D\n",
    "a = np.array(np.arange(10), dtype=np.int8)\n",
    "a, a.shape"
   ],
   "metadata": {
    "colab": {
     "base_uri": "https://localhost:8080/"
    },
    "id": "hBm-gAzOjMOt",
    "outputId": "a53a48f7-51b9-4748-9e14-cc17ed838563",
    "ExecuteTime": {
     "end_time": "2025-02-19T00:41:42.660938Z",
     "start_time": "2025-02-19T00:41:42.654952Z"
    }
   },
   "outputs": [
    {
     "data": {
      "text/plain": [
       "(array([0, 1, 2, 3, 4, 5, 6, 7, 8, 9], dtype=int8), (10,))"
      ]
     },
     "execution_count": 7,
     "metadata": {},
     "output_type": "execute_result"
    }
   ],
   "execution_count": 7
  },
  {
   "cell_type": "code",
   "source": [
    "# shapes nD\n",
    "a = np.array((np.arange(0, 10, 2), np.arange(0, 10, 2), np.arange(0, 10, 2)), dtype=np.int8)\n",
    "a, a.shape"
   ],
   "metadata": {
    "colab": {
     "base_uri": "https://localhost:8080/"
    },
    "id": "BXN00u-CjNla",
    "outputId": "6b858b27-c1c4-46bf-cf8c-2d5811e7edfb",
    "ExecuteTime": {
     "end_time": "2025-02-19T00:41:42.683796Z",
     "start_time": "2025-02-19T00:41:42.674634Z"
    }
   },
   "outputs": [
    {
     "data": {
      "text/plain": [
       "(array([[0, 2, 4, 6, 8],\n",
       "        [0, 2, 4, 6, 8],\n",
       "        [0, 2, 4, 6, 8]], dtype=int8),\n",
       " (3, 5))"
      ]
     },
     "execution_count": 8,
     "metadata": {},
     "output_type": "execute_result"
    }
   ],
   "execution_count": 8
  },
  {
   "cell_type": "code",
   "source": [
    "a = a.reshape(1,15)\n",
    "a, a.shape"
   ],
   "metadata": {
    "colab": {
     "base_uri": "https://localhost:8080/"
    },
    "id": "2kPBAJnEjTIm",
    "outputId": "aa483ad0-eed8-4c68-f536-b66bde792847",
    "ExecuteTime": {
     "end_time": "2025-02-19T00:41:42.983849Z",
     "start_time": "2025-02-19T00:41:42.977860Z"
    }
   },
   "outputs": [
    {
     "data": {
      "text/plain": [
       "(array([[0, 2, 4, 6, 8, 0, 2, 4, 6, 8, 0, 2, 4, 6, 8]], dtype=int8), (1, 15))"
      ]
     },
     "execution_count": 9,
     "metadata": {},
     "output_type": "execute_result"
    }
   ],
   "execution_count": 9
  },
  {
   "cell_type": "code",
   "source": [
    "a = a.reshape(5, 3)\n",
    "a, a.shape"
   ],
   "metadata": {
    "colab": {
     "base_uri": "https://localhost:8080/"
    },
    "id": "RPn38NerjTg9",
    "outputId": "090b0f96-ca15-4c70-c21e-f5a8ba6b6d1c",
    "ExecuteTime": {
     "end_time": "2025-02-19T00:41:46.835784Z",
     "start_time": "2025-02-19T00:41:46.828777Z"
    }
   },
   "outputs": [
    {
     "data": {
      "text/plain": [
       "(array([[0, 2, 4],\n",
       "        [6, 8, 0],\n",
       "        [2, 4, 6],\n",
       "        [8, 0, 2],\n",
       "        [4, 6, 8]], dtype=int8),\n",
       " (5, 3))"
      ]
     },
     "execution_count": 10,
     "metadata": {},
     "output_type": "execute_result"
    }
   ],
   "execution_count": 10
  },
  {
   "cell_type": "code",
   "source": [
    "# empty arrays\n",
    "e = np.zeros((2,2))\n",
    "e"
   ],
   "metadata": {
    "colab": {
     "base_uri": "https://localhost:8080/"
    },
    "id": "cFHz1D4_jX87",
    "outputId": "db586f5c-ef20-4bf2-a66b-5af1deb96f1e",
    "ExecuteTime": {
     "end_time": "2025-02-19T00:41:47.124843Z",
     "start_time": "2025-02-19T00:41:47.118524Z"
    }
   },
   "outputs": [
    {
     "data": {
      "text/plain": [
       "array([[0., 0.],\n",
       "       [0., 0.]])"
      ]
     },
     "execution_count": 11,
     "metadata": {},
     "output_type": "execute_result"
    }
   ],
   "execution_count": 11
  },
  {
   "cell_type": "code",
   "source": [
    "a = np.ones((2,2))\n",
    "a"
   ],
   "metadata": {
    "colab": {
     "base_uri": "https://localhost:8080/"
    },
    "id": "alE2bn5djYQH",
    "outputId": "14c68fc4-c58c-493b-b5a5-07cf9508ec3e",
    "ExecuteTime": {
     "end_time": "2025-02-19T00:41:47.409426Z",
     "start_time": "2025-02-19T00:41:47.403427Z"
    }
   },
   "outputs": [
    {
     "data": {
      "text/plain": [
       "array([[1., 1.],\n",
       "       [1., 1.]])"
      ]
     },
     "execution_count": 12,
     "metadata": {},
     "output_type": "execute_result"
    }
   ],
   "execution_count": 12
  },
  {
   "cell_type": "code",
   "source": [
    "# return random values (it returns unexpected results. use np.zeros instead)\n",
    "a = np.empty((2,2))\n",
    "b = np.empty((2,2,2))\n",
    "\n",
    "a, b"
   ],
   "metadata": {
    "colab": {
     "base_uri": "https://localhost:8080/"
    },
    "id": "tCwwA9eIjaFr",
    "outputId": "2151182a-466f-4a9c-c0b6-af71315cb7c7",
    "ExecuteTime": {
     "end_time": "2025-02-19T00:41:47.682419Z",
     "start_time": "2025-02-19T00:41:47.676566Z"
    }
   },
   "outputs": [
    {
     "data": {
      "text/plain": [
       "(array([[0., 0.],\n",
       "        [0., 0.]]),\n",
       " array([[[0., 0.],\n",
       "         [0., 0.]],\n",
       " \n",
       "        [[0., 0.],\n",
       "         [0., 0.]]]))"
      ]
     },
     "execution_count": 13,
     "metadata": {},
     "output_type": "execute_result"
    }
   ],
   "execution_count": 13
  },
  {
   "cell_type": "code",
   "source": [
    "# filled with 0, while main diagonal is filled with 1\n",
    "a = np.eye(3)\n",
    "\n",
    "# filled with 0, and fill 1 based on k parameter\n",
    "b = np.eye(3, k=1)\n",
    "c = np.eye(5, k=-2)\n",
    "\n",
    "a,b,c"
   ],
   "metadata": {
    "colab": {
     "base_uri": "https://localhost:8080/"
    },
    "id": "iHRVrqeKjcq1",
    "outputId": "c25eba4b-c257-4ef3-f4f6-e1dc26e3ddc3",
    "ExecuteTime": {
     "end_time": "2025-02-19T00:41:47.965087Z",
     "start_time": "2025-02-19T00:41:47.959366Z"
    }
   },
   "outputs": [
    {
     "data": {
      "text/plain": [
       "(array([[1., 0., 0.],\n",
       "        [0., 1., 0.],\n",
       "        [0., 0., 1.]]),\n",
       " array([[0., 1., 0.],\n",
       "        [0., 0., 1.],\n",
       "        [0., 0., 0.]]),\n",
       " array([[0., 0., 0., 0., 0.],\n",
       "        [0., 0., 0., 0., 0.],\n",
       "        [1., 0., 0., 0., 0.],\n",
       "        [0., 1., 0., 0., 0.],\n",
       "        [0., 0., 1., 0., 0.]]))"
      ]
     },
     "execution_count": 14,
     "metadata": {},
     "output_type": "execute_result"
    }
   ],
   "execution_count": 14
  },
  {
   "cell_type": "code",
   "source": [
    "a = np.eye(3)\n",
    "a1 = a.copy()\n",
    "a1[a1==0] = 2 # change all 0 values of the array to 2\n",
    "\n",
    "b = a.copy()\n",
    "b[b < 1] = 9\n",
    "\n",
    "c = a.copy()\n",
    "c[0] = 3 # change the first row of the array to 3\n",
    "c[1] = 4 # change the second row of the array to 4\n",
    "\n",
    "d = a.copy()\n",
    "d[:, 0] = 5 # change the first column of the array to 5\n",
    "d[:, -1] = 6 # change the last row of the array to 6\n",
    "\n",
    "e = np.eye(5)\n",
    "e[1:, :2] = -5 # change from the first row till the last row, and for the first 2 columns\n",
    "\n",
    "a,b,c,d,e"
   ],
   "metadata": {
    "colab": {
     "base_uri": "https://localhost:8080/"
    },
    "id": "Y0AqBKiMjc67",
    "outputId": "6e62f867-56f3-44c9-cbb1-b8b36d60be68",
    "ExecuteTime": {
     "end_time": "2025-02-19T00:41:48.290344Z",
     "start_time": "2025-02-19T00:41:48.282330Z"
    }
   },
   "outputs": [
    {
     "data": {
      "text/plain": [
       "(array([[1., 0., 0.],\n",
       "        [0., 1., 0.],\n",
       "        [0., 0., 1.]]),\n",
       " array([[1., 9., 9.],\n",
       "        [9., 1., 9.],\n",
       "        [9., 9., 1.]]),\n",
       " array([[3., 3., 3.],\n",
       "        [4., 4., 4.],\n",
       "        [0., 0., 1.]]),\n",
       " array([[5., 0., 6.],\n",
       "        [5., 1., 6.],\n",
       "        [5., 0., 6.]]),\n",
       " array([[ 1.,  0.,  0.,  0.,  0.],\n",
       "        [-5., -5.,  0.,  0.,  0.],\n",
       "        [-5., -5.,  1.,  0.,  0.],\n",
       "        [-5., -5.,  0.,  1.,  0.],\n",
       "        [-5., -5.,  0.,  0.,  1.]]))"
      ]
     },
     "execution_count": 15,
     "metadata": {},
     "output_type": "execute_result"
    }
   ],
   "execution_count": 15
  },
  {
   "cell_type": "code",
   "source": [
    "# sort arrays\n",
    "\n",
    "a = np.eye(3)\n",
    "\n",
    "a[1:, :2] = 4\n",
    "a[0, 0] = 2\n",
    "a[0, 1] = 9\n",
    "a[0, -1] = 2\n",
    "a[1:, -1] = 3\n",
    "\n",
    "col_sort = np.sort(a, axis=0, kind='quicksort') # sort based on columns. quicksort is the default algo\n",
    "row_sort = np.sort(a, axis=1, kind='quicksort') # sort based on rows, which is default (1). quicksort is the default algo\n",
    "a, col_sort, row_sort\n"
   ],
   "metadata": {
    "colab": {
     "base_uri": "https://localhost:8080/"
    },
    "id": "fa6ILaZojebb",
    "outputId": "34c6b705-6e94-44b4-f000-bdc7918b3c8d",
    "ExecuteTime": {
     "end_time": "2025-02-19T00:41:48.569924Z",
     "start_time": "2025-02-19T00:41:48.559915Z"
    }
   },
   "outputs": [
    {
     "data": {
      "text/plain": [
       "(array([[2., 9., 2.],\n",
       "        [4., 4., 3.],\n",
       "        [4., 4., 3.]]),\n",
       " array([[2., 4., 2.],\n",
       "        [4., 4., 3.],\n",
       "        [4., 9., 3.]]),\n",
       " array([[2., 2., 9.],\n",
       "        [3., 4., 4.],\n",
       "        [3., 4., 4.]]))"
      ]
     },
     "execution_count": 16,
     "metadata": {},
     "output_type": "execute_result"
    }
   ],
   "execution_count": 16
  },
  {
   "cell_type": "code",
   "source": [
    "# copy arrays\n",
    "a = np.array([[1,2,3], [4,5,6], [7,8,9]])\n",
    "my_view = a.view() # acts as python shallow copy()\n",
    "my_copy = a.copy() # acts as python deepcopy()\n",
    "\n",
    "# view() creates a new array object that shares the same data as a.\n",
    "#   Modifying my_view will affect a, and vice versa (as long as the modifications are done at the element level).\n",
    "#   However, if you change the structure (like reshaping my_view), it does not affect a.\n",
    "\n",
    "# copy() creates a new independent array with the same values as a.\n",
    "#   Modifying my_copy will NOT affect a, and vice versa.\n",
    "#   This is equivalent to Python's deepcopy() in that it creates a fully independent copy.\n",
    "\n",
    "my_view, my_copy"
   ],
   "metadata": {
    "colab": {
     "base_uri": "https://localhost:8080/"
    },
    "id": "LlUnZo5JjgP9",
    "outputId": "5690f6eb-b356-4e34-d7e4-b6801ca5d5ee",
    "ExecuteTime": {
     "end_time": "2025-02-19T00:41:48.767308Z",
     "start_time": "2025-02-19T00:41:48.761450Z"
    }
   },
   "outputs": [
    {
     "data": {
      "text/plain": [
       "(array([[1, 2, 3],\n",
       "        [4, 5, 6],\n",
       "        [7, 8, 9]]),\n",
       " array([[1, 2, 3],\n",
       "        [4, 5, 6],\n",
       "        [7, 8, 9]]))"
      ]
     },
     "execution_count": 17,
     "metadata": {},
     "output_type": "execute_result"
    }
   ],
   "execution_count": 17
  },
  {
   "cell_type": "markdown",
   "source": [
    "## Operations"
   ],
   "metadata": {
    "id": "FfdqzPrMj1dO"
   }
  },
  {
   "cell_type": "markdown",
   "source": [
    "### Fill an array"
   ],
   "metadata": {
    "id": "qeRsWRp5uUEZ"
   }
  },
  {
   "cell_type": "code",
   "source": [
    "# fill an array\n",
    "a = np.zeros((3,3), dtype=np.int64)\n",
    "b = a.copy()\n",
    "\n",
    "a[:] = 2  # Uses broadcasting\n",
    "b.fill(8) # Uses optimized in-place filling (more faster than [:], because it does not create an intermediate object—it simply updates memory locations )\n",
    "a, b"
   ],
   "metadata": {
    "colab": {
     "base_uri": "https://localhost:8080/"
    },
    "id": "05HDPNThj8tQ",
    "outputId": "c5a2b045-da93-4d1a-e5bd-1fbafe7691fa",
    "ExecuteTime": {
     "end_time": "2025-02-19T00:41:48.836926Z",
     "start_time": "2025-02-19T00:41:48.829753Z"
    }
   },
   "outputs": [
    {
     "data": {
      "text/plain": [
       "(array([[2, 2, 2],\n",
       "        [2, 2, 2],\n",
       "        [2, 2, 2]]),\n",
       " array([[8, 8, 8],\n",
       "        [8, 8, 8],\n",
       "        [8, 8, 8]]))"
      ]
     },
     "execution_count": 18,
     "metadata": {},
     "output_type": "execute_result"
    }
   ],
   "execution_count": 18
  },
  {
   "cell_type": "code",
   "source": [
    "a = np.zeros((3,3), dtype=np.int64)\n",
    "a.fill(8)\n",
    "b = a.copy()\n",
    "\n",
    "a -= 2 # using broadcasting\n",
    "b += [1,2,3] # using broadcasting\n",
    "\n",
    "a,b"
   ],
   "metadata": {
    "colab": {
     "base_uri": "https://localhost:8080/"
    },
    "id": "8IeiO4pslHEK",
    "outputId": "0fd28c9e-177e-4e2b-8161-e7ccd07efb99",
    "ExecuteTime": {
     "end_time": "2025-02-19T00:41:48.910140Z",
     "start_time": "2025-02-19T00:41:48.903204Z"
    }
   },
   "outputs": [
    {
     "data": {
      "text/plain": [
       "(array([[6, 6, 6],\n",
       "        [6, 6, 6],\n",
       "        [6, 6, 6]]),\n",
       " array([[ 9, 10, 11],\n",
       "        [ 9, 10, 11],\n",
       "        [ 9, 10, 11]]))"
      ]
     },
     "execution_count": 19,
     "metadata": {},
     "output_type": "execute_result"
    }
   ],
   "execution_count": 19
  },
  {
   "cell_type": "code",
   "source": [
    "a = np.zeros((3,3), dtype=np.float64)\n",
    "a.fill(8)\n",
    "b,c = a.copy(), a.copy()\n",
    "\n",
    "b /= 3 # using broadcasting to divide all by 3\n",
    "c /= [1, 2, 3] # using broadcasting to divide every row based on index\n",
    "\n",
    "a,b,c"
   ],
   "metadata": {
    "colab": {
     "base_uri": "https://localhost:8080/"
    },
    "id": "naGgORIJlJvb",
    "outputId": "4484babf-8268-455c-e72c-0931a184a61c",
    "ExecuteTime": {
     "end_time": "2025-02-19T00:41:48.982242Z",
     "start_time": "2025-02-19T00:41:48.975239Z"
    }
   },
   "outputs": [
    {
     "data": {
      "text/plain": [
       "(array([[8., 8., 8.],\n",
       "        [8., 8., 8.],\n",
       "        [8., 8., 8.]]),\n",
       " array([[2.66666667, 2.66666667, 2.66666667],\n",
       "        [2.66666667, 2.66666667, 2.66666667],\n",
       "        [2.66666667, 2.66666667, 2.66666667]]),\n",
       " array([[8.        , 4.        , 2.66666667],\n",
       "        [8.        , 4.        , 2.66666667],\n",
       "        [8.        , 4.        , 2.66666667]]))"
      ]
     },
     "execution_count": 20,
     "metadata": {},
     "output_type": "execute_result"
    }
   ],
   "execution_count": 20
  },
  {
   "cell_type": "markdown",
   "source": [
    "### Sum"
   ],
   "metadata": {
    "id": "xOC87cc4uYsz"
   }
  },
  {
   "cell_type": "code",
   "source": [
    "# sum of arrays\n",
    "\n",
    "a = np.array([[1,2,3], [4,5,6], [7,8,9]])\n",
    "\n",
    "sum_all_vals = a.sum()      # sum of all elements\n",
    "sum_col_wise = a.sum(axis=0)     # sum all elements from each column of the same row (col-wise)\n",
    "sum_row_wise = a.sum(axis=1)    # sum all elements from each row of the same column (row-wise)\n",
    "\n",
    "a, sum_all_vals, sum_col_wise, sum_row_wise\n"
   ],
   "metadata": {
    "colab": {
     "base_uri": "https://localhost:8080/"
    },
    "id": "C5qUst7ClLRn",
    "outputId": "cd9f5aa1-ce4a-493d-94ed-c5b2f673ae53",
    "ExecuteTime": {
     "end_time": "2025-02-19T00:41:49.029222Z",
     "start_time": "2025-02-19T00:41:49.024006Z"
    }
   },
   "outputs": [
    {
     "data": {
      "text/plain": [
       "(array([[1, 2, 3],\n",
       "        [4, 5, 6],\n",
       "        [7, 8, 9]]),\n",
       " np.int64(45),\n",
       " array([12, 15, 18]),\n",
       " array([ 6, 15, 24]))"
      ]
     },
     "execution_count": 21,
     "metadata": {},
     "output_type": "execute_result"
    }
   ],
   "execution_count": 21
  },
  {
   "cell_type": "markdown",
   "source": [
    "### Product"
   ],
   "metadata": {
    "id": "MK2h1Q3juZpy"
   }
  },
  {
   "cell_type": "code",
   "source": [
    "# prod of arrays\n",
    "\n",
    "a = np.array([[1,2,3],[4,5,6],[7,8,9]])\n",
    "\n",
    "prod_all_vals = a.prod()\n",
    "prod_col_wise = a.prod(axis=0)\n",
    "prod_row_wise = a.prod(axis=1)\n",
    "\n",
    "a, prod_all_vals, prod_col_wise, prod_row_wise"
   ],
   "metadata": {
    "colab": {
     "base_uri": "https://localhost:8080/"
    },
    "id": "5WNqfNl6lWc_",
    "outputId": "450d5bad-cadc-416d-8ea7-eb077249adec",
    "ExecuteTime": {
     "end_time": "2025-02-19T00:41:49.073499Z",
     "start_time": "2025-02-19T00:41:49.067566Z"
    }
   },
   "outputs": [
    {
     "data": {
      "text/plain": [
       "(array([[1, 2, 3],\n",
       "        [4, 5, 6],\n",
       "        [7, 8, 9]]),\n",
       " np.int64(362880),\n",
       " array([ 28,  80, 162]),\n",
       " array([  6, 120, 504]))"
      ]
     },
     "execution_count": 22,
     "metadata": {},
     "output_type": "execute_result"
    }
   ],
   "execution_count": 22
  },
  {
   "cell_type": "markdown",
   "source": [
    "### Mean"
   ],
   "metadata": {
    "id": "a6SWEwOVucJ7"
   }
  },
  {
   "cell_type": "code",
   "source": [
    "# mean (average) of arrays\n",
    "\n",
    "a = np.array([[1,2,3],[4,5,6],[7,8,9]])\n",
    "\n",
    "mean_all_vals = a.mean()\n",
    "mean_col_wise = a.mean(axis=0)\n",
    "mean_row_wise = a.mean(axis=1)\n",
    "\n",
    "a, mean_all_vals, mean_col_wise, mean_row_wise"
   ],
   "metadata": {
    "colab": {
     "base_uri": "https://localhost:8080/"
    },
    "id": "d_WHG9c0lY_N",
    "outputId": "ab0f4bab-4de3-47b5-9970-35b4049bbda7",
    "ExecuteTime": {
     "end_time": "2025-02-19T00:41:49.123169Z",
     "start_time": "2025-02-19T00:41:49.117324Z"
    }
   },
   "outputs": [
    {
     "data": {
      "text/plain": [
       "(array([[1, 2, 3],\n",
       "        [4, 5, 6],\n",
       "        [7, 8, 9]]),\n",
       " np.float64(5.0),\n",
       " array([4., 5., 6.]),\n",
       " array([2., 5., 8.]))"
      ]
     },
     "execution_count": 23,
     "metadata": {},
     "output_type": "execute_result"
    }
   ],
   "execution_count": 23
  },
  {
   "cell_type": "markdown",
   "source": [
    "### Min - Max"
   ],
   "metadata": {
    "id": "eNwoiCSTufN1"
   }
  },
  {
   "cell_type": "code",
   "source": [
    "# min max of arrays\n",
    "\n",
    "a = np.array([[1,2,3],[4,5,6],[7,8,9]])\n",
    "\n",
    "min_val = a.min()\n",
    "max_val = a.max()\n",
    "min_col_wise = a.min(0)\n",
    "min_row_wise = a.min(1)\n",
    "\n",
    "a, min_val, max_val, min_col_wise, min_row_wise"
   ],
   "metadata": {
    "colab": {
     "base_uri": "https://localhost:8080/"
    },
    "id": "ZjWzbhd4lZaY",
    "outputId": "6a20d76f-8d99-459f-f22e-5c84ec9de450",
    "ExecuteTime": {
     "end_time": "2025-02-19T00:41:49.175042Z",
     "start_time": "2025-02-19T00:41:49.169325Z"
    }
   },
   "outputs": [
    {
     "data": {
      "text/plain": [
       "(array([[1, 2, 3],\n",
       "        [4, 5, 6],\n",
       "        [7, 8, 9]]),\n",
       " np.int64(1),\n",
       " np.int64(9),\n",
       " array([1, 2, 3]),\n",
       " array([1, 4, 7]))"
      ]
     },
     "execution_count": 24,
     "metadata": {},
     "output_type": "execute_result"
    }
   ],
   "execution_count": 24
  },
  {
   "cell_type": "code",
   "source": [
    "# min max index of arrays\n",
    "\n",
    "a = np.array([[1,2,3], [4,5,6], [7,8,9]], dtype=np.int64)\n",
    "\n",
    "min_index = a.argmin()\n",
    "max_index = a.argmax()\n",
    "\n",
    "a, min_index, max_index"
   ],
   "metadata": {
    "colab": {
     "base_uri": "https://localhost:8080/"
    },
    "id": "iaIQEuJfliAn",
    "outputId": "74a2843b-5dad-479a-eb6b-32d3e408eaba",
    "ExecuteTime": {
     "end_time": "2025-02-19T00:41:49.233596Z",
     "start_time": "2025-02-19T00:41:49.226307Z"
    }
   },
   "outputs": [
    {
     "data": {
      "text/plain": [
       "(array([[1, 2, 3],\n",
       "        [4, 5, 6],\n",
       "        [7, 8, 9]]),\n",
       " np.int64(0),\n",
       " np.int64(8))"
      ]
     },
     "execution_count": 25,
     "metadata": {},
     "output_type": "execute_result"
    }
   ],
   "execution_count": 25
  },
  {
   "cell_type": "markdown",
   "source": [
    "### Peak to Peak"
   ],
   "metadata": {
    "id": "tBvdGSjyuNZG"
   }
  },
  {
   "cell_type": "code",
   "source": [
    "# peak-to-peak method\n",
    "\n",
    "a = np.array([[1,2,3],[4,5,6],[7,8,9]], dtype=np.int64)\n",
    "ptp = np.ptp(a)  # this equals to a.max() - a.min()\n",
    "ptp"
   ],
   "metadata": {
    "colab": {
     "base_uri": "https://localhost:8080/"
    },
    "id": "z5eTI3w9lppu",
    "outputId": "fc86a2ca-ae59-4967-8b46-6f8d91a50846",
    "ExecuteTime": {
     "end_time": "2025-02-19T00:41:49.288839Z",
     "start_time": "2025-02-19T00:41:49.282695Z"
    }
   },
   "outputs": [
    {
     "data": {
      "text/plain": [
       "np.int64(8)"
      ]
     },
     "execution_count": 26,
     "metadata": {},
     "output_type": "execute_result"
    }
   ],
   "execution_count": 26
  },
  {
   "cell_type": "markdown",
   "source": [
    "### Flatten"
   ],
   "metadata": {
    "id": "yRO8wfecuK6F"
   }
  },
  {
   "cell_type": "code",
   "source": [
    "# flatten an array\n",
    "\n",
    "a = np.array([[[0,1,2],[3,4,5], [6,7,8]], [[9,10,11],[12,13,14], [15,16,17]]])\n",
    "\n",
    "# using reshape:\n",
    "#   returns a new array with the same data but reshaped into a 1D array\n",
    "#   may return a view or a copy, depending on the memory layout\n",
    "#   less explicit than .ravel() or .flatten()\n",
    "flatten_1 = a.reshape(a.size)\n",
    "flatten_2 = a.reshape(-1)\n",
    "\n",
    "# using flatten():\n",
    "#   always returns a copy of the original array\n",
    "#   changes to the new array do not affect the original array\n",
    "#   takes an optional order argument ('C' for row-major, 'F' for column-major)\n",
    "flat_method = a.flatten()\n",
    "\n",
    "# using ravel():\n",
    "#   returns a view of the array whenever possible (i.e., if the array is contiguous in memory)\n",
    "#   if a view is returned, changes to ravel_method will affect the original array\n",
    "#   if a copy is needed (e.g., if the array is not contiguous), it returns a new array\n",
    "ravel_method = a.ravel()\n",
    "\n",
    "\n",
    "a, flatten_1, flatten_2, flat_method, ravel_method"
   ],
   "metadata": {
    "colab": {
     "base_uri": "https://localhost:8080/"
    },
    "id": "dp90SVlgltQ4",
    "outputId": "4aad8a84-6937-4836-effd-b0a8a802e8c3",
    "ExecuteTime": {
     "end_time": "2025-02-19T00:41:49.367392Z",
     "start_time": "2025-02-19T00:41:49.357385Z"
    }
   },
   "outputs": [
    {
     "data": {
      "text/plain": [
       "(array([[[ 0,  1,  2],\n",
       "         [ 3,  4,  5],\n",
       "         [ 6,  7,  8]],\n",
       " \n",
       "        [[ 9, 10, 11],\n",
       "         [12, 13, 14],\n",
       "         [15, 16, 17]]]),\n",
       " array([ 0,  1,  2,  3,  4,  5,  6,  7,  8,  9, 10, 11, 12, 13, 14, 15, 16,\n",
       "        17]),\n",
       " array([ 0,  1,  2,  3,  4,  5,  6,  7,  8,  9, 10, 11, 12, 13, 14, 15, 16,\n",
       "        17]),\n",
       " array([ 0,  1,  2,  3,  4,  5,  6,  7,  8,  9, 10, 11, 12, 13, 14, 15, 16,\n",
       "        17]),\n",
       " array([ 0,  1,  2,  3,  4,  5,  6,  7,  8,  9, 10, 11, 12, 13, 14, 15, 16,\n",
       "        17]))"
      ]
     },
     "execution_count": 27,
     "metadata": {},
     "output_type": "execute_result"
    }
   ],
   "execution_count": 27
  },
  {
   "cell_type": "markdown",
   "source": [
    "### Repeat"
   ],
   "metadata": {
    "id": "wTs5OVGDvC6T"
   }
  },
  {
   "cell_type": "code",
   "source": [
    "# repeat values/arrays\n",
    "a = np.array([[1,2,3],[4,5,6],[7,8,9]])\n",
    "b = np.repeat(255, 3) # first arg represents the value, the second arg represents the number of repetitions\n",
    "repeat_arr_flat = np.repeat(a, 3)\n",
    "repeat_arr_cols = np.repeat(a, 3, axis=0) # repeat col wise\n",
    "repeat_arr_rows = np.repeat(a, 3, axis=1) # repeat row wise\n",
    "\n",
    "a, b, repeat_arr_flat, repeat_arr_cols, repeat_arr_rows"
   ],
   "metadata": {
    "colab": {
     "base_uri": "https://localhost:8080/"
    },
    "id": "ij2iykVdltiH",
    "outputId": "95b92724-49b1-4393-efaa-c00f225eed3c",
    "ExecuteTime": {
     "end_time": "2025-02-19T00:41:49.427149Z",
     "start_time": "2025-02-19T00:41:49.420129Z"
    }
   },
   "outputs": [
    {
     "data": {
      "text/plain": [
       "(array([[1, 2, 3],\n",
       "        [4, 5, 6],\n",
       "        [7, 8, 9]]),\n",
       " array([255, 255, 255]),\n",
       " array([1, 1, 1, 2, 2, 2, 3, 3, 3, 4, 4, 4, 5, 5, 5, 6, 6, 6, 7, 7, 7, 8,\n",
       "        8, 8, 9, 9, 9]),\n",
       " array([[1, 2, 3],\n",
       "        [1, 2, 3],\n",
       "        [1, 2, 3],\n",
       "        [4, 5, 6],\n",
       "        [4, 5, 6],\n",
       "        [4, 5, 6],\n",
       "        [7, 8, 9],\n",
       "        [7, 8, 9],\n",
       "        [7, 8, 9]]),\n",
       " array([[1, 1, 1, 2, 2, 2, 3, 3, 3],\n",
       "        [4, 4, 4, 5, 5, 5, 6, 6, 6],\n",
       "        [7, 7, 7, 8, 8, 8, 9, 9, 9]]))"
      ]
     },
     "execution_count": 28,
     "metadata": {},
     "output_type": "execute_result"
    }
   ],
   "execution_count": 28
  },
  {
   "cell_type": "code",
   "source": [
    "# get unique values with np.repeat()\n",
    "a = np.array([[1,2,1], [2,1,3], [4,5,1]])\n",
    "rep = np.unique(a)\n",
    "\n",
    "display(a), display(rep)"
   ],
   "metadata": {
    "id": "PZs44H5Ql4Q4",
    "colab": {
     "base_uri": "https://localhost:8080/",
     "height": 109
    },
    "outputId": "1c56e223-e7a3-4786-ab71-d89943d36d20",
    "ExecuteTime": {
     "end_time": "2025-02-19T00:41:49.466701Z",
     "start_time": "2025-02-19T00:41:49.458298Z"
    }
   },
   "outputs": [
    {
     "data": {
      "text/plain": [
       "array([[1, 2, 1],\n",
       "       [2, 1, 3],\n",
       "       [4, 5, 1]])"
      ]
     },
     "metadata": {},
     "output_type": "display_data"
    },
    {
     "data": {
      "text/plain": [
       "array([1, 2, 3, 4, 5])"
      ]
     },
     "metadata": {},
     "output_type": "display_data"
    },
    {
     "data": {
      "text/plain": [
       "(None, None)"
      ]
     },
     "execution_count": 29,
     "metadata": {},
     "output_type": "execute_result"
    }
   ],
   "execution_count": 29
  },
  {
   "cell_type": "code",
   "source": [
    "# TODO: this is weird\n",
    "\n",
    "col_wise = np.unique(a, axis=0)\n",
    "row_wise = np.unique(a, axis=1)\n",
    "display(col_wise, row_wise)"
   ],
   "metadata": {
    "colab": {
     "base_uri": "https://localhost:8080/",
     "height": 128
    },
    "id": "U_NnwQ-FjOoM",
    "outputId": "90f8ed35-4cf6-4a80-fba4-fa087aa70089",
    "ExecuteTime": {
     "end_time": "2025-02-19T00:41:49.508686Z",
     "start_time": "2025-02-19T00:41:49.501850Z"
    }
   },
   "outputs": [
    {
     "data": {
      "text/plain": [
       "array([[1, 2, 1],\n",
       "       [2, 1, 3],\n",
       "       [4, 5, 1]])"
      ]
     },
     "metadata": {},
     "output_type": "display_data"
    },
    {
     "data": {
      "text/plain": [
       "array([[1, 1, 2],\n",
       "       [2, 3, 1],\n",
       "       [4, 1, 5]])"
      ]
     },
     "metadata": {},
     "output_type": "display_data"
    }
   ],
   "execution_count": 30
  },
  {
   "cell_type": "code",
   "source": [
    "# get diagonal values\n",
    "a = np.array([[1,2,3], [4,5,6], [7,8,9]])\n",
    "diag = np.diagonal(a)\n",
    "offset_1 = np.diagonal(a, offset=1)\n",
    "offset_2 = np.diagonal(a, offset=-1)\n",
    "\n",
    "a, diag, offset_1, offset_2"
   ],
   "metadata": {
    "colab": {
     "base_uri": "https://localhost:8080/"
    },
    "id": "H7qM8Wo0j5rz",
    "outputId": "a563ac5d-2b10-4ded-adb6-4df81701a622",
    "ExecuteTime": {
     "end_time": "2025-02-19T00:41:49.575959Z",
     "start_time": "2025-02-19T00:41:49.568641Z"
    }
   },
   "outputs": [
    {
     "data": {
      "text/plain": [
       "(array([[1, 2, 3],\n",
       "        [4, 5, 6],\n",
       "        [7, 8, 9]]),\n",
       " array([1, 5, 9]),\n",
       " array([2, 6]),\n",
       " array([4, 8]))"
      ]
     },
     "execution_count": 31,
     "metadata": {},
     "output_type": "execute_result"
    }
   ],
   "execution_count": 31
  },
  {
   "cell_type": "markdown",
   "source": [
    "### Random\n",
    "\n",
    "\n"
   ],
   "metadata": {
    "id": "a9ebZcHFf0fK"
   }
  },
  {
   "cell_type": "markdown",
   "source": [
    "#### Non-distribution related\n",
    "\n",
    "<table>\n",
    "    <thead>\n",
    "    <tr>\n",
    "        <th><strong>Function</strong></th>\n",
    "        <th><strong>Purpose</strong></th>\n",
    "    </tr>\n",
    "    </thead>\n",
    "    <tbody>\n",
    "    <tr>\n",
    "        <td><strong>rand()</strong></td>\n",
    "        <td>Uniform random numbers between 0 and 1</td>\n",
    "    </tr>\n",
    "    <tr>\n",
    "        <td><strong>random()</strong></td>\n",
    "        <td>Uniform random numbers between 0 and 1</td>\n",
    "    </tr>\n",
    "    <tr>\n",
    "        <td><strong>randint()</strong></td>\n",
    "        <td>Random integers in a given range</td>\n",
    "    </tr>\n",
    "    <tr>\n",
    "        <td><strong>choice()</strong></td>\n",
    "        <td>Random selection from an array with or without replacement</td>\n",
    "    </tr>\n",
    "    <tr>\n",
    "        <td><strong>shuffle()</strong></td>\n",
    "        <td>In-place shuffling of an array</td>\n",
    "    </tr>\n",
    "    <tr>\n",
    "        <td><strong>permutation()</strong></td>\n",
    "        <td>Random permutation of array elements</td>\n",
    "    </tr>\n",
    "    <tr>\n",
    "        <td><strong>seed()</strong></td>\n",
    "        <td>Set the seed for reproducibility in random number generation</td>\n",
    "    </tr>\n",
    "    </tbody>\n",
    "</table>"
   ],
   "metadata": {
    "id": "De_MygCIaeec"
   }
  },
  {
   "cell_type": "markdown",
   "source": [
    "##### **rand()**\n",
    "\n",
    "* Generates random numbers uniformly distributed between 0 and 1\n",
    "    * Every number in the range [0,1] has an equal probability of being chose\n",
    "    * This function is from the legacy random module (np.random.rand).\n",
    "    * Takes ***n*** positional arguments, which represent the dimensions of the array\n",
    "* Use cases:\n",
    "    * ***Simulating probabilities***\n",
    "    * ***random sampling***\n",
    "    * ***noise generation***"
   ],
   "metadata": {
    "id": "ZJdioitvgPT3"
   }
  },
  {
   "cell_type": "code",
   "source": [
    "# generate a single random float\n",
    "print(np.random.rand())\n",
    "\n",
    "# generate a 1D array with 5 random floats\n",
    "display(np.random.rand(5))\n",
    "\n",
    "# generate a 3x3 matrix of random floats\n",
    "display(np.random.rand(3, 3))\n",
    "\n",
    "# Generate a 2x3x4 array (3D)\n",
    "display(np.random.rand(2, 3, 4))"
   ],
   "metadata": {
    "colab": {
     "base_uri": "https://localhost:8080/",
     "height": 238
    },
    "id": "wBAfLi6Sf4wP",
    "outputId": "b756a38b-2b5d-4eb6-f5b6-2b19cd152912",
    "ExecuteTime": {
     "end_time": "2025-02-19T00:41:49.641749Z",
     "start_time": "2025-02-19T00:41:49.630241Z"
    }
   },
   "outputs": [
    {
     "name": "stdout",
     "output_type": "stream",
     "text": [
      "0.10791686981888848\n"
     ]
    },
    {
     "data": {
      "text/plain": [
       "array([0.14267186, 0.90138914, 0.72951738, 0.06854506, 0.99570143])"
      ]
     },
     "metadata": {},
     "output_type": "display_data"
    },
    {
     "data": {
      "text/plain": [
       "array([[0.06493185, 0.92538898, 0.81903593],\n",
       "       [0.93701496, 0.84552988, 0.71198397],\n",
       "       [0.20077441, 0.67578177, 0.57415863]])"
      ]
     },
     "metadata": {},
     "output_type": "display_data"
    },
    {
     "data": {
      "text/plain": [
       "array([[[0.71804752, 0.50690759, 0.461481  , 0.10479769],\n",
       "        [0.57030291, 0.88388083, 0.45194329, 0.43413962],\n",
       "        [0.65089545, 0.74003914, 0.85100737, 0.8857229 ]],\n",
       "\n",
       "       [[0.57747595, 0.34059934, 0.07011172, 0.19491781],\n",
       "        [0.2363846 , 0.98805756, 0.55898116, 0.83535444],\n",
       "        [0.02751919, 0.0638972 , 0.29190406, 0.61251628]]])"
      ]
     },
     "metadata": {},
     "output_type": "display_data"
    }
   ],
   "execution_count": 32
  },
  {
   "cell_type": "markdown",
   "source": [
    "##### **random()**\n",
    "\n",
    "* Similar to rand(), but returns numbers in the range [0, 1]\n",
    "* This function is from the modern `np.random` API\n",
    "* Takes 1 positional argument:\n",
    "    * a tuple containing the dimensions size\n",
    "* Use cases:\n",
    "    * ***Normalizing random sampling***\n",
    "    * ***General number generation***"
   ],
   "metadata": {
    "id": "LMEdFxFQsj45"
   }
  },
  {
   "cell_type": "code",
   "source": [
    "# generate a single random float\n",
    "print(np.random.random())\n",
    "\n",
    "# generate a 1D array of 5 random numbers\n",
    "display(np.random.random((5,)))\n",
    "\n",
    "# generate a 3x3 matrix of random numbers\n",
    "display(np.random.random((3, 3)))\n",
    "\n",
    "# Generate a 2x3x4 array (3D)\n",
    "display(np.random.random((2, 3, 4)))"
   ],
   "metadata": {
    "colab": {
     "base_uri": "https://localhost:8080/",
     "height": 238
    },
    "id": "3tfapaYks3Vo",
    "outputId": "85b2750e-15ff-4ced-fba3-dee823c7bb63",
    "ExecuteTime": {
     "end_time": "2025-02-19T00:41:49.711664Z",
     "start_time": "2025-02-19T00:41:49.703149Z"
    }
   },
   "outputs": [
    {
     "name": "stdout",
     "output_type": "stream",
     "text": [
      "0.5993883792242239\n"
     ]
    },
    {
     "data": {
      "text/plain": [
       "array([0.09312132, 0.9528228 , 0.87050569, 0.60439135, 0.0672045 ])"
      ]
     },
     "metadata": {},
     "output_type": "display_data"
    },
    {
     "data": {
      "text/plain": [
       "array([[0.19073918, 0.15385717, 0.1386757 ],\n",
       "       [0.85380816, 0.77183428, 0.87865105],\n",
       "       [0.89075135, 0.9826437 , 0.37294934]])"
      ]
     },
     "metadata": {},
     "output_type": "display_data"
    },
    {
     "data": {
      "text/plain": [
       "array([[[0.74512623, 0.15688801, 0.4462824 , 0.45923978],\n",
       "        [0.48561419, 0.23926289, 0.21339979, 0.42809165],\n",
       "        [0.7992289 , 0.94650484, 0.87973925, 0.15652826]],\n",
       "\n",
       "       [[0.42236784, 0.74139197, 0.89185684, 0.49326144],\n",
       "        [0.48750776, 0.25262204, 0.36127442, 0.29957946],\n",
       "        [0.29122563, 0.72724154, 0.61724096, 0.11693898]]])"
      ]
     },
     "metadata": {},
     "output_type": "display_data"
    }
   ],
   "execution_count": 33
  },
  {
   "cell_type": "markdown",
   "source": [
    "##### **randint()**\n",
    "\n",
    "Generates random ints between `low` (inclusive) and `high` (exclusive)\n",
    "\n",
    "* Takes 4 arguments:\n",
    "    * `low` = start point\n",
    "    * `height` = end point\n",
    "    * `size` = size of the array\n",
    "    * `dtype` = data type of the array (defaults to innt64)\n",
    "\n",
    "* Use cases:\n",
    "    * ***Simulating dice rolls***\n",
    "    * ***Random selection***\n",
    "    * ***Random Indexing***"
   ],
   "metadata": {
    "id": "iSUi-A4EgwM6"
   }
  },
  {
   "cell_type": "code",
   "source": [
    "# generate a single random ints between 10 and 50\n",
    "display(np.random.randint(low=10, high=50))\n",
    "\n",
    "# generate a 1D array of 5 random ints between 0 and 100\n",
    "display(np.random.randint(low=0, high=100, size=5))\n",
    "\n",
    "# generate a 3x3 matrix of random ints between 1 and 10 of type int8\n",
    "display(np.random.randint(low=1, high=10, size=(3, 3), dtype = np.int8))"
   ],
   "metadata": {
    "colab": {
     "base_uri": "https://localhost:8080/",
     "height": 109
    },
    "id": "UEAF3CqYhY7h",
    "outputId": "bd9412ad-5ab4-4f26-a2c8-2207f06bf14a",
    "ExecuteTime": {
     "end_time": "2025-02-19T00:41:49.778542Z",
     "start_time": "2025-02-19T00:41:49.769539Z"
    }
   },
   "outputs": [
    {
     "data": {
      "text/plain": [
       "45"
      ]
     },
     "metadata": {},
     "output_type": "display_data"
    },
    {
     "data": {
      "text/plain": [
       "array([78, 79, 36,  5, 99], dtype=int32)"
      ]
     },
     "metadata": {},
     "output_type": "display_data"
    },
    {
     "data": {
      "text/plain": [
       "array([[1, 6, 5],\n",
       "       [1, 4, 5],\n",
       "       [9, 6, 5]], dtype=int8)"
      ]
     },
     "metadata": {},
     "output_type": "display_data"
    }
   ],
   "execution_count": 34
  },
  {
   "cell_type": "markdown",
   "source": [
    "##### **choice()**\n",
    "\n",
    "* Picks random elements from an array\n",
    "* Can assign probabilities `p` to elements\n",
    "* Use cases:\n",
    "    * ***Random selection from a dataset***"
   ],
   "metadata": {
    "id": "AP12UULXmkm5"
   }
  },
  {
   "cell_type": "code",
   "source": [
    "# randomly select one element from the list\n",
    "print(np.random.choice(a=[10, 20, 30, 40, 50]))\n",
    "\n",
    "# generate an array of 10 random choices (with replacement)\n",
    "display(np.random.choice(a=[10, 20, 30, 40, 50], size=10))\n",
    "\n",
    "# generate an array of 5 unique choices (without replacement)\n",
    "display(np.random.choice(a=[10, 20, 30, 40, 50], size=5, replace=False))  # this will generate all the numbers of a, but in a different order"
   ],
   "metadata": {
    "colab": {
     "base_uri": "https://localhost:8080/",
     "height": 72
    },
    "id": "JsfdcGw0msJR",
    "outputId": "c58615b3-303f-4d62-d420-cc3bff7c4352",
    "ExecuteTime": {
     "end_time": "2025-02-19T00:41:49.839279Z",
     "start_time": "2025-02-19T00:41:49.832187Z"
    }
   },
   "outputs": [
    {
     "name": "stdout",
     "output_type": "stream",
     "text": [
      "10\n"
     ]
    },
    {
     "data": {
      "text/plain": [
       "array([20, 10, 20, 50, 20, 10, 50, 10, 20, 30])"
      ]
     },
     "metadata": {},
     "output_type": "display_data"
    },
    {
     "data": {
      "text/plain": [
       "array([50, 20, 10, 30, 40])"
      ]
     },
     "metadata": {},
     "output_type": "display_data"
    }
   ],
   "execution_count": 35
  },
  {
   "cell_type": "code",
   "source": [
    "# example with probabilities using 'p' parameter\n",
    "elements = [10, 20, 30, 40, 50]\n",
    "\n",
    "# probabilities assigned to each element. sum of list must be equal to 1\n",
    "probabilities = [0.1, 0.2, 0.4, 0.2, 0.1]\n",
    "\n",
    "# randomly select one element with given probabilities\n",
    "print(np.random.choice(a=elements, p=probabilities))\n",
    "\n",
    "# generate an array of 10 random choices (with replacement)\n",
    "display(np.random.choice(a=elements, size=10, p=probabilities))\n",
    "\n",
    "# generate an array of 5 unique choices (without replacement)\n",
    "#  if \"replace\" is False, \"p\" is ignored because each element can only be selected once.\n",
    "display(np.random.choice(a=elements, size=5, replace=False))"
   ],
   "metadata": {
    "colab": {
     "base_uri": "https://localhost:8080/",
     "height": 72
    },
    "id": "Ow5R62s8rTGJ",
    "outputId": "e08968fb-18e0-48c5-865a-65e2e3031e03",
    "ExecuteTime": {
     "end_time": "2025-02-19T00:41:49.906429Z",
     "start_time": "2025-02-19T00:41:49.897515Z"
    }
   },
   "outputs": [
    {
     "name": "stdout",
     "output_type": "stream",
     "text": [
      "10\n"
     ]
    },
    {
     "data": {
      "text/plain": [
       "array([10, 30, 40, 10, 40, 10, 30, 30, 50, 30])"
      ]
     },
     "metadata": {},
     "output_type": "display_data"
    },
    {
     "data": {
      "text/plain": [
       "array([30, 50, 20, 10, 40])"
      ]
     },
     "metadata": {},
     "output_type": "display_data"
    }
   ],
   "execution_count": 36
  },
  {
   "cell_type": "markdown",
   "source": [
    "##### **shuffle()**\n",
    "\n",
    "Shuffles an array in place (modifies the original array). It doesn't return a value\n",
    "* Takes 1 argument:\n",
    "    * `x` = the array to perform on\n",
    "* Use Cases:\n",
    "    * ***Shuffling data inplace form random experiments***\n",
    "    * ***Shuffling cards***\n",
    "\n"
   ],
   "metadata": {
    "id": "pOwWoO3InWy4"
   }
  },
  {
   "cell_type": "code",
   "source": [
    "arr = np.array([1, 2, 3, 4, 5])\n",
    "print(f\"Original array before shuffle: {arr}\")\n",
    "\n",
    "np.random.shuffle(x=arr)\n",
    "\n",
    "print(f\"Original array after shuffle: {arr}\")\n"
   ],
   "metadata": {
    "colab": {
     "base_uri": "https://localhost:8080/"
    },
    "id": "vLygs1agnfou",
    "outputId": "3e518433-0cd7-46eb-f0ed-5af798e81361",
    "ExecuteTime": {
     "end_time": "2025-02-19T00:41:49.955265Z",
     "start_time": "2025-02-19T00:41:49.950848Z"
    }
   },
   "outputs": [
    {
     "name": "stdout",
     "output_type": "stream",
     "text": [
      "Original array before shuffle: [1 2 3 4 5]\n",
      "Original array after shuffle: [3 4 2 1 5]\n"
     ]
    }
   ],
   "execution_count": 37
  },
  {
   "cell_type": "markdown",
   "source": [
    "##### **permutation()**\n",
    "\n",
    "Randomly permutes (shuffles) the sequence of elements in an array. Returns a new array\n",
    "* Takes 1 argument:\n",
    "    * `x` = the array to perform on\n",
    "* Use Cases:\n",
    "    * ***Shuffling elements***\n",
    "    * ***Randomizing order for experiments***\n"
   ],
   "metadata": {
    "id": "Mg8HVsXsnB-x"
   }
  },
  {
   "cell_type": "code",
   "source": [
    "arr = np.array([1, 2, 3, 4, 5])\n",
    "\n",
    "# return 5 copies of the array with items shuffled\n",
    "for i in range(5):\n",
    "    display(np.random.permutation(x=arr))"
   ],
   "metadata": {
    "colab": {
     "base_uri": "https://localhost:8080/",
     "height": 109
    },
    "id": "YfJOA4CBnHYh",
    "outputId": "94565acb-c916-42ee-a96f-9c5659642361",
    "ExecuteTime": {
     "end_time": "2025-02-19T00:41:50.029085Z",
     "start_time": "2025-02-19T00:41:50.019804Z"
    }
   },
   "outputs": [
    {
     "data": {
      "text/plain": [
       "array([1, 5, 2, 3, 4])"
      ]
     },
     "metadata": {},
     "output_type": "display_data"
    },
    {
     "data": {
      "text/plain": [
       "array([4, 3, 2, 5, 1])"
      ]
     },
     "metadata": {},
     "output_type": "display_data"
    },
    {
     "data": {
      "text/plain": [
       "array([4, 3, 1, 5, 2])"
      ]
     },
     "metadata": {},
     "output_type": "display_data"
    },
    {
     "data": {
      "text/plain": [
       "array([1, 5, 4, 2, 3])"
      ]
     },
     "metadata": {},
     "output_type": "display_data"
    },
    {
     "data": {
      "text/plain": [
       "array([1, 5, 2, 3, 4])"
      ]
     },
     "metadata": {},
     "output_type": "display_data"
    }
   ],
   "execution_count": 38
  },
  {
   "cell_type": "markdown",
   "source": [
    "##### **seed()**\n",
    "\n",
    "* Sets the seed for the random number generator to ensure reproducibility\n",
    "* The same seed will always generate the same sequence of random numbers\n",
    "* Use Cases:\n",
    "    * ***Ensure that the random numbers generated in experiments are reproducible for debugging or testing***"
   ],
   "metadata": {
    "id": "hC4COoRO1jUR"
   }
  },
  {
   "cell_type": "code",
   "source": [
    "# set seed for the whole cell run. Note that this remains applied for the following cells\n",
    "np.random.seed(42)\n",
    "\n",
    "# generate 5 arrays with 3 random floats in it\n",
    "#  rerunning this cell will cause the exact same results as before\n",
    "for i in range(5):\n",
    "    display(np.random.rand(3))\n",
    "\n",
    "# reset to numpy default seed system, to prevent following notebooks get affected\n",
    "np.random.seed(None)"
   ],
   "metadata": {
    "colab": {
     "base_uri": "https://localhost:8080/",
     "height": 109
    },
    "id": "6rhKDZLE1oL1",
    "outputId": "2185f8a3-8508-4cfb-c51f-a3b5bce5d365",
    "ExecuteTime": {
     "end_time": "2025-02-19T00:41:50.073025Z",
     "start_time": "2025-02-19T00:41:50.062910Z"
    }
   },
   "outputs": [
    {
     "data": {
      "text/plain": [
       "array([0.37454012, 0.95071431, 0.73199394])"
      ]
     },
     "metadata": {},
     "output_type": "display_data"
    },
    {
     "data": {
      "text/plain": [
       "array([0.59865848, 0.15601864, 0.15599452])"
      ]
     },
     "metadata": {},
     "output_type": "display_data"
    },
    {
     "data": {
      "text/plain": [
       "array([0.05808361, 0.86617615, 0.60111501])"
      ]
     },
     "metadata": {},
     "output_type": "display_data"
    },
    {
     "data": {
      "text/plain": [
       "array([0.70807258, 0.02058449, 0.96990985])"
      ]
     },
     "metadata": {},
     "output_type": "display_data"
    },
    {
     "data": {
      "text/plain": [
       "array([0.83244264, 0.21233911, 0.18182497])"
      ]
     },
     "metadata": {},
     "output_type": "display_data"
    }
   ],
   "execution_count": 39
  },
  {
   "cell_type": "markdown",
   "source": [
    "#### **Distribution based**\n",
    "\n",
    "<table>\n",
    "    <thead>\n",
    "    <tr>\n",
    "        <th><strong>Function</strong></th>\n",
    "        <th><strong>Purpose</strong></th>\n",
    "    </tr>\n",
    "    </thead>\n",
    "    <tbody>\n",
    "    <tr>\n",
    "        <td><strong>uniform()</strong></td>\n",
    "        <td>Random numbers from a uniform distribution over a given range</td>\n",
    "    </tr>\n",
    "    <tr>\n",
    "        <td><strong>binomial()</strong></td>\n",
    "        <td>Number of successes in a fixed number of Bernoulli trialss</td>\n",
    "    </tr>\n",
    "    <tr>\n",
    "        <td><strong>negative_binomial()</strong></td>\n",
    "        <td>Number of failures before a fixed number of successes in Bernoulli trials</td>\n",
    "    </tr>\n",
    "    <tr>\n",
    "        <td><strong>multinomial()</strong></td>\n",
    "        <td>Random samples from a Multinomial distribution, which is a generalization of the binomial distribution</td>\n",
    "    </tr>\n",
    "    <tr>\n",
    "        <td><strong>poisson()</strong></td>\n",
    "        <td>Random samples from a Poisson distribution, modeling the number of events in a fixed interval</td>\n",
    "    </tr>\n",
    "    <tr>\n",
    "        <td><strong>normal()</strong></td>\n",
    "        <td>Random numbers from a normal distribution with a given mean and standard deviation</td>\n",
    "    </tr>\n",
    "    <tr>\n",
    "        <td><strong>standard_normal()</strong></td>\n",
    "        <td>Random numbers from the standard normal distribution (mean = 0, std = 1)</td>\n",
    "    </tr>\n",
    "    <tr>\n",
    "        <td><strong>randn()</strong></td>\n",
    "        <td>Random numbers from the standard normal distribution (mean = 0, std = 1)</td>\n",
    "    </tr>\n",
    "    <tr>\n",
    "        <td><strong>standard_t()</strong></td>\n",
    "        <td>Random samples from a Student’s t-distribution, used for small-sample hypothesis testing</td>\n",
    "    </tr>\n",
    "    <tr>\n",
    "        <td><strong>exponential()</strong></td>\n",
    "        <td>Random samples from an Exponential distribution, modeling time until an event occurs</td>\n",
    "    </tr>\n",
    "    <tr>\n",
    "        <td><strong>beta()</strong></td>\n",
    "        <td>Random samples from a Beta distribution, often used for probabilities and Bayesian statistics</td>\n",
    "    </tr>\n",
    "    <tr>\n",
    "        <td><strong>gamma()</strong></td>\n",
    "        <td>Random samples from a Gamma distribution, modeling waiting times and sum of exponentials</td>\n",
    "    </tr>\n",
    "    <tr>\n",
    "        <td><strong>chisquare()</strong></td>\n",
    "        <td>Random samples from a Chi-square distribution, used in hypothesis testing</td>\n",
    "    </tr>\n",
    "    <tr>\n",
    "        <td><strong>geometric()</strong></td>\n",
    "        <td>Number of trials until the first success in Bernoulli trials</td>\n",
    "    </tr>\n",
    "    <tr>\n",
    "        <td><strong>hypergeometric()</strong></td>\n",
    "        <td>Number of successes in a draw without replacement from a finite population</td>\n",
    "    </tr>\n",
    "    <tr>\n",
    "        <td><strong>laplace()</strong></td>\n",
    "        <td>\tRandom samples from a Laplace distribution (double exponential), used in signal processing</td>\n",
    "    </tr>\n",
    "    <tr>\n",
    "        <td><strong>logistic()</strong></td>\n",
    "        <td>Random samples from a Logistic distribution, used for modeling growth curves.</td>\n",
    "    </tr>\n",
    "    <tr>\n",
    "        <td><strong>lognormal()</strong></td>\n",
    "        <td>Random samples from a Log-normal distribution, where the log of the variable is normally distributed</td>\n",
    "    </tr>\n",
    "    <tr>\n",
    "        <td><strong>rayleigh()</strong></td>\n",
    "        <td>Random samples from a Rayleigh distribution, used in signal processing and wave modeling</td>\n",
    "    </tr>\n",
    "    <tr>\n",
    "        <td><strong>triangular()</strong></td>\n",
    "        <td>Random samples from a Triangular distribution, a simple distribution defined by min, mode, and max</td>\n",
    "    </tr>\n",
    "    <tr>\n",
    "        <td><strong>vonmises()</strong></td>\n",
    "        <td>Random samples from a Von Mises distribution, used for circular data (e.g., wind directions)</td>\n",
    "    </tr>\n",
    "    <tr>\n",
    "        <td><strong>wald()</strong></td>\n",
    "        <td>Random samples from a Wald (Inverse Gaussian) distribution, used in survival analysis</td>\n",
    "    </tr>\n",
    "    <tr>\n",
    "        <td><strong>weibull()</strong></td>\n",
    "        <td>Random samples from a Weibull distribution, commonly used in reliability analysis and failure modeling</td>\n",
    "    </tr>\n",
    "    </tbody>\n",
    "</table>\n"
   ],
   "metadata": {
    "id": "qd0n7Qybb12k"
   }
  },
  {
   "cell_type": "markdown",
   "source": [
    "##### **uniform()**\n",
    "\n",
    "Generates a ***uniform ditribution***\n",
    "\n",
    "Takes 3 arguments:\n",
    "* `low` = min number. defaults to ***0.0***\n",
    "* `high` = max number. defaults to ***1.0***\n",
    "* `size` = the size of the array. defaults to None\n",
    "\n",
    "Use cases:\n",
    "* ***Random float generation with a fixed range***"
   ],
   "metadata": {
    "id": "gTLFoAeQke0y"
   }
  },
  {
   "cell_type": "code",
   "source": [
    "# generate a single float between 5 and 10\n",
    "print(np.random.uniform(low=5, high=10))\n",
    "\n",
    "# generate an array of 5 floats between 20 and 50\n",
    "display(np.random.uniform(low=20, high=50, size=5))\n",
    "\n",
    "# generate a 3x3 matrix\n",
    "display(np.random.uniform(low=1, high=100, size=(3, 3)))"
   ],
   "metadata": {
    "colab": {
     "base_uri": "https://localhost:8080/",
     "height": 109
    },
    "id": "Z580okT6maEf",
    "outputId": "15bca046-ea33-4526-f9b2-3fdfe3afdf08",
    "ExecuteTime": {
     "end_time": "2025-02-19T00:41:50.139147Z",
     "start_time": "2025-02-19T00:41:50.132763Z"
    }
   },
   "outputs": [
    {
     "name": "stdout",
     "output_type": "stream",
     "text": [
      "5.46616695483154\n"
     ]
    },
    {
     "data": {
      "text/plain": [
       "array([32.3359572 , 47.41497605, 37.89929463, 27.28022706, 47.5018183 ])"
      ]
     },
     "metadata": {},
     "output_type": "display_data"
    },
    {
     "data": {
      "text/plain": [
       "array([[31.47921797, 40.65904183,  3.65309555],\n",
       "       [17.65635886, 97.73650328, 73.12582224],\n",
       "       [43.79477696, 93.63336735, 29.26796493]])"
      ]
     },
     "metadata": {},
     "output_type": "display_data"
    }
   ],
   "execution_count": 40
  },
  {
   "cell_type": "markdown",
   "source": [
    "##### **binomial()**\n",
    "\n",
    "* Models the number of successes in `n` trials with success probability `p`, where each trial has:\n",
    "    * ***Probability of success*** = `p`\n",
    "    * ***Probability of failure*** = `1 - p`\n",
    "\n",
    "*  Use cases:\n",
    "    * ***Coin flips***\n",
    "    * ***Quality control***\n",
    "    * ***Decision-making models***"
   ],
   "metadata": {
    "id": "DpkzZDdwoBwO"
   }
  },
  {
   "cell_type": "code",
   "source": [
    "# simulate flipping a coin 10 times, where success (heads) has probability 0.5\n",
    "print(np.random.binomial(n=10, p=0.5))\n",
    "\n",
    "# generate an array of 5 experiments\n",
    "print(np.random.binomial(n=10, p=0.5, size=5))"
   ],
   "metadata": {
    "colab": {
     "base_uri": "https://localhost:8080/"
    },
    "id": "AhaIZzoPv0al",
    "outputId": "79db3279-416d-4b22-f6e9-e06166bbfce9",
    "ExecuteTime": {
     "end_time": "2025-02-19T00:41:50.207206Z",
     "start_time": "2025-02-19T00:41:50.202203Z"
    }
   },
   "outputs": [
    {
     "name": "stdout",
     "output_type": "stream",
     "text": [
      "5\n",
      "[2 6 5 6 2]\n"
     ]
    }
   ],
   "execution_count": 41
  },
  {
   "cell_type": "markdown",
   "source": [
    "##### **negative_binomial()**\n",
    "\n",
    "* Generates random values from the ***negative binomial distribution***\n",
    "* This distribution models the number of trials required to achieve a fixed number of successes in a sequence of independent trial\n",
    "* Takes 3 arguments:\n",
    "    * `n` = the number of successes\n",
    "    * `p` = the probability of success on each trial\n",
    "    * `size` = the number of random values to generate\n",
    "* Use cases:\n",
    "    * ***Modeling the trials needed for success***, such as:\n",
    "        * ***Failure tests***\n",
    "        * ***Performance evaluations***\n"
   ],
   "metadata": {
    "id": "kUzjy7QETpyB"
   }
  },
  {
   "cell_type": "code",
   "source": [
    " # generate 5 random values from a negative binomial distribution\n",
    "display(np.random.negative_binomial(n=10, p=0.5, size=5))"
   ],
   "metadata": {
    "colab": {
     "base_uri": "https://localhost:8080/",
     "height": 35
    },
    "id": "g1iXuCt0UVWz",
    "outputId": "80ec724e-949a-4bc0-ecd0-792cdfdb9863",
    "ExecuteTime": {
     "end_time": "2025-02-19T00:41:50.257164Z",
     "start_time": "2025-02-19T00:41:50.251164Z"
    }
   },
   "outputs": [
    {
     "data": {
      "text/plain": [
       "array([8, 9, 7, 8, 7], dtype=int32)"
      ]
     },
     "metadata": {},
     "output_type": "display_data"
    }
   ],
   "execution_count": 42
  },
  {
   "cell_type": "markdown",
   "source": [
    "##### **multinomial()**\n",
    "\n",
    "* Generates random values from the multinomial distribution, which ***generalizes the binomial distribution*** for more than two outcomes\n",
    "* It models the counts of various categories in a series of trials\n",
    "* Takes 3 arguments:\n",
    "    * `n` = the number of trials\n",
    "    * `pvals` = an array of probabilities for each outcome\n",
    "    * `size` = the number of random values to generate\n",
    "* Use cases:\n",
    "    * ***Modeling categorical outcomes***, such as:\n",
    "        * ***Survey responses***\n",
    "        * ***Gene sequencing***"
   ],
   "metadata": {
    "id": "t_rMLhgRTIKe"
   }
  },
  {
   "cell_type": "code",
   "source": [
    "# generates 5 samples from a multinomial distribution\n",
    "display(np.random.multinomial(n=10, pvals=[0.2, 0.5, 0.3], size=5))"
   ],
   "metadata": {
    "colab": {
     "base_uri": "https://localhost:8080/",
     "height": 109
    },
    "id": "mn02hYq8Tqm6",
    "outputId": "ff8f92bf-5ae4-4523-80e9-dc710e1199ac",
    "ExecuteTime": {
     "end_time": "2025-02-19T00:41:50.352601Z",
     "start_time": "2025-02-19T00:41:50.348085Z"
    }
   },
   "outputs": [
    {
     "data": {
      "text/plain": [
       "array([[2, 6, 2],\n",
       "       [2, 5, 3],\n",
       "       [1, 5, 4],\n",
       "       [4, 6, 0],\n",
       "       [2, 6, 2]], dtype=int32)"
      ]
     },
     "metadata": {},
     "output_type": "display_data"
    }
   ],
   "execution_count": 43
  },
  {
   "cell_type": "markdown",
   "source": [
    "##### **poisson()**\n",
    "* Models the number of events in a fixed time interval\n",
    "* Takes 2 arguments:\n",
    "    * `lam` (λ) = expected number of events per interval\n",
    "    * `size` = number of samples\n",
    "* Use cases:\n",
    "    * ***Call center calls per hour***\n",
    "    * ***Event modeling***:\n",
    "        * ***Customer arrivals***\n",
    "        * ***Traffic accidents***"
   ],
   "metadata": {
    "id": "7tT72KGW05nH"
   }
  },
  {
   "cell_type": "code",
   "source": [
    "# generate a single number with lambda=5\n",
    "print(np.random.poisson(lam=5))\n",
    "\n",
    "# generate an array of 5 values\n",
    "print(np.random.poisson(lam=5, size=5))"
   ],
   "metadata": {
    "colab": {
     "base_uri": "https://localhost:8080/"
    },
    "id": "tnkDA6Jc1KG6",
    "outputId": "ccb44a36-8858-49f8-f736-de4314e1a646",
    "ExecuteTime": {
     "end_time": "2025-02-19T00:41:50.394268Z",
     "start_time": "2025-02-19T00:41:50.389684Z"
    }
   },
   "outputs": [
    {
     "name": "stdout",
     "output_type": "stream",
     "text": [
      "3\n",
      "[ 9  2  4 10  9]\n"
     ]
    }
   ],
   "execution_count": 44
  },
  {
   "cell_type": "markdown",
   "source": [
    "##### **normal()**\n",
    "\n",
    "Generates random numbers from a ***normal distribution*** with a specified mean and standard deviation\n",
    "\n",
    "Takes 3 arguments:\n",
    "* `loc` = ***Mean (μ)***\n",
    "* `scale` = ***Standard deviation (σ)***\n",
    "\n",
    "Use cases:\n",
    "* ***Statistics***\n",
    "* ***Finance***\n",
    "* ***Physics simulations***"
   ],
   "metadata": {
    "id": "-GLLV48vj0c7"
   }
  },
  {
   "cell_type": "code",
   "source": [
    "# generate a single random number with mean=50 and std dev=10\n",
    "print(np.random.normal(loc=50, scale=10))\n",
    "\n",
    "# generate an array of 5 values\n",
    "display(np.random.normal(loc=50, scale=10, size=5))\n",
    "\n",
    "# generate a 2x2 matrix\n",
    "display(np.random.normal(loc=50, scale=10, size=(2, 2)))"
   ],
   "metadata": {
    "colab": {
     "base_uri": "https://localhost:8080/",
     "height": 91
    },
    "id": "Vm59tGtxkUq3",
    "outputId": "d2ff097e-d858-40ef-8267-bea3cce52746",
    "ExecuteTime": {
     "end_time": "2025-02-19T00:41:50.442850Z",
     "start_time": "2025-02-19T00:41:50.435279Z"
    }
   },
   "outputs": [
    {
     "name": "stdout",
     "output_type": "stream",
     "text": [
      "32.10636153360166\n"
     ]
    },
    {
     "data": {
      "text/plain": [
       "array([54.29055514, 45.69074321, 43.97027417, 52.37569664, 31.43863289])"
      ]
     },
     "metadata": {},
     "output_type": "display_data"
    },
    {
     "data": {
      "text/plain": [
       "array([[54.55654245, 50.31071336],\n",
       "       [59.10094057, 53.86781511]])"
      ]
     },
     "metadata": {},
     "output_type": "display_data"
    }
   ],
   "execution_count": 45
  },
  {
   "cell_type": "markdown",
   "source": [
    "##### **standard_t()**\n",
    "\n",
    "* Generates random values from the ***Student's t-distribution***, used in hypothesis testing and when sample sizes are small\n",
    "* Takes 2 arguments:\n",
    "    * `df` = degrees of freedom, parameter that controls the distribution's shape\n",
    "    * `size` = the number of random values to generate\n",
    "* Use cases:\n",
    "    * ***Modeling data with heavy tails***, such as:\n",
    "       * ***Stock returns***\n",
    "       * ***Small-sample statistical inference***"
   ],
   "metadata": {
    "id": "NDUzHbcxVtue"
   }
  },
  {
   "cell_type": "code",
   "source": [
    " # generate 5 random values from a Student's t-distribution\n",
    "display(np.random.standard_t(df=10, size=5))"
   ],
   "metadata": {
    "colab": {
     "base_uri": "https://localhost:8080/",
     "height": 35
    },
    "id": "xMh-QK8dWZZP",
    "outputId": "6d8c3596-f571-4f14-9428-6b4584c1bee1",
    "ExecuteTime": {
     "end_time": "2025-02-19T00:41:50.491639Z",
     "start_time": "2025-02-19T00:41:50.486180Z"
    }
   },
   "outputs": [
    {
     "data": {
      "text/plain": [
       "array([-0.22554814,  0.65915646,  1.33129018, -0.35351138, -2.03972944])"
      ]
     },
     "metadata": {},
     "output_type": "display_data"
    }
   ],
   "execution_count": 46
  },
  {
   "cell_type": "markdown",
   "source": [
    "##### **standard_normal()**\n",
    "* Generates random numbers from a ***standard normal distribution***, which has:\n",
    "    * Mean = 0\n",
    "    * Standard Deviation = 1\n",
    "* This is a special case of the normal distribution with fixed parameters (mean = 0, standard deviation = 1)\n",
    "* This generates the same result as ***randn()***\n",
    "* Takes 1 argument:\n",
    "    * `size` = the number of random values to generate\n",
    "* Use cases:\n",
    "    * ***Simulations or modeling where you need data that follows a standard normal distribution***, such as:\n",
    "        * ***Physics - Particle Movement (Brownian Motion)***\n",
    "        * ***Biology - Genetic Variability***\n"
   ],
   "metadata": {
    "id": "qralOPI6gIgM"
   }
  },
  {
   "cell_type": "code",
   "source": [
    "# generate 5 random numbers from a standard normal distribution\n",
    "random_array = np.random.standard_normal(5)"
   ],
   "metadata": {
    "id": "AFak1yehiOck",
    "ExecuteTime": {
     "end_time": "2025-02-19T00:41:50.547893Z",
     "start_time": "2025-02-19T00:41:50.541705Z"
    }
   },
   "outputs": [],
   "execution_count": 47
  },
  {
   "cell_type": "markdown",
   "source": [
    "##### **randn()**\n",
    "\n",
    "* Generate random numbers from a ***standard normal distribution*** meaning that:\n",
    "    * Mean (μ) = 0\n",
    "    * Standard deviation (σ) = 1\n",
    "    * Bell-shaped curve (Gaussian distribution)\n",
    "* This returns the same result as ***standard_normal()***\n",
    "* Takes `n` arguments, representing the dimensions\n",
    "* Use Case: Modeling real-world data like:\n",
    "    * ***heights***\n",
    "    * ***test scores***\n",
    "    * ***financial returns***"
   ],
   "metadata": {
    "id": "HGnZywhZiMVQ"
   }
  },
  {
   "cell_type": "code",
   "source": [
    "# generate a single random number\n",
    "print(np.random.randn())  # no args means single float\n",
    "\n",
    "# generate a 1D array of 5 values\n",
    "display(np.random.randn(5))  # d0=5\n",
    "\n",
    "# generate a 3x3 matrix\n",
    "display(np.random.randn(3, 3))  # d0=3, d1=3"
   ],
   "metadata": {
    "colab": {
     "base_uri": "https://localhost:8080/",
     "height": 109
    },
    "id": "bBwglr7Ziwan",
    "outputId": "2d4a0496-d526-4da8-eb52-1cea997eee6b",
    "ExecuteTime": {
     "end_time": "2025-02-19T00:41:50.612971Z",
     "start_time": "2025-02-19T00:41:50.604975Z"
    }
   },
   "outputs": [
    {
     "name": "stdout",
     "output_type": "stream",
     "text": [
      "-0.034525568435950185\n"
     ]
    },
    {
     "data": {
      "text/plain": [
       "array([ 0.83550826, -0.52483509,  1.07063215,  0.59715358, -0.15199133])"
      ]
     },
     "metadata": {},
     "output_type": "display_data"
    },
    {
     "data": {
      "text/plain": [
       "array([[-0.59087447, -1.626032  ,  1.71446578],\n",
       "       [ 1.10184429, -1.50340648, -0.50280243],\n",
       "       [-0.5652582 ,  1.3150034 , -0.28791246]])"
      ]
     },
     "metadata": {},
     "output_type": "display_data"
    }
   ],
   "execution_count": 48
  },
  {
   "cell_type": "markdown",
   "source": [
    "##### **exponential()**\n",
    "\n",
    "* Generates random numbers from an ***exponential distribution***, which models the time between events in a Poisson process\n",
    "* Takes 2 arguments:\n",
    "    * `scale` = 1 / λ  (inverse of the event rate)\n",
    "    * `size` = number of samples\n",
    "* Use Cases:\n",
    "    * ***Waiting times*** (example: time between earthquakes or customer arrivals)\n",
    "* Use Cases:\n",
    "    * ***Modeling waiting times***:\n",
    "        * ***The time between customer arrivals***"
   ],
   "metadata": {
    "id": "LZztjE1bv5QO"
   }
  },
  {
   "cell_type": "code",
   "source": [
    "# Generate a single number with scale=2.0\n",
    "print(np.random.exponential(scale=2.0))\n",
    "\n",
    "# Generate an array of 5 values\n",
    "print(np.random.exponential(scale=2.0, size=5))"
   ],
   "metadata": {
    "colab": {
     "base_uri": "https://localhost:8080/"
    },
    "id": "CqBY7byx02eY",
    "outputId": "02c77b1f-2196-4e33-ae5d-ad86a0499db6",
    "ExecuteTime": {
     "end_time": "2025-02-19T00:41:50.646034Z",
     "start_time": "2025-02-19T00:41:50.641516Z"
    }
   },
   "outputs": [
    {
     "name": "stdout",
     "output_type": "stream",
     "text": [
      "2.851472074510295\n",
      "[1.19621118 0.4645452  0.77845906 2.08441252 1.15751395]\n"
     ]
    }
   ],
   "execution_count": 49
  },
  {
   "cell_type": "markdown",
   "source": [],
   "metadata": {
    "id": "gOaQPbI53gt4"
   }
  },
  {
   "cell_type": "markdown",
   "source": [
    "##### **beta()**\n",
    "\n",
    "* Models probabilities (values bwetween `0` and `1`)\n",
    "* Takes 3 arguments:\n",
    "    * `a` (alpha) = the shape parameter for the ***distribution's first part***. Controls the \"left\" side (the lower values)\n",
    "    * `b` (beta) = the shape parameter for the ***distribution's second part***. Controls the \"right\" side (the higher values)\n",
    "    * `size` = number of samples\n",
    "* The shape of the distribution changes depending on the values of `a` and `b`:\n",
    "    * When a = b = 1, the Beta distribution is a uniform distribution between 0 and 1.\n",
    "    * When a > b, the distribution is ***skewed toward 1*** (more values near 1)\n",
    "    * When a < b, the distribution is ***skewed toward 0*** (more values near 0)\n",
    "    * When a = b > 1, the distribution has ***a bell-shaped curve*** centered around `0.5`\n",
    "* Use cases:\n",
    "    * ***Modeling probabilities***\n",
    "    * ***Bayesian statistics***\n",
    "    * ***A/B Testing***"
   ],
   "metadata": {
    "id": "r-OIzv2A4xkl"
   }
  },
  {
   "cell_type": "code",
   "source": [
    "# generates 5 random Beta-distributed values\n",
    "display(np.random.beta(a=2.0, b=5.0, size=5))"
   ],
   "metadata": {
    "colab": {
     "base_uri": "https://localhost:8080/",
     "height": 35
    },
    "id": "j7SkZ1Un5v3b",
    "outputId": "4c4c791b-7b70-4696-bd61-debc509f125c",
    "ExecuteTime": {
     "end_time": "2025-02-19T00:41:50.704978Z",
     "start_time": "2025-02-19T00:41:50.699977Z"
    }
   },
   "outputs": [
    {
     "data": {
      "text/plain": [
       "array([0.24731408, 0.15554331, 0.41183582, 0.161236  , 0.64666002])"
      ]
     },
     "metadata": {},
     "output_type": "display_data"
    }
   ],
   "execution_count": 50
  },
  {
   "cell_type": "markdown",
   "source": [
    "##### **gamma()**\n",
    "\n",
    "* A ***generalization of the exponential distribution***, used for waiting times\n",
    "* gamma() models waiting times in a Posson process\n",
    "\n",
    "* Use Cases:\n",
    "    * ***Reliability Engineering***\n",
    "    * ***Risk Analysis***\n",
    "    * ***Queing Models***\n",
    "        * ***Arrival times in queues***"
   ],
   "metadata": {
    "id": "7bCg8J4F1JnL"
   }
  },
  {
   "cell_type": "code",
   "source": [
    "# generate a single number with shape=2.0 and scale=2.0\n",
    "print(np.random.gamma(shape=2.0, scale=2.0))\n",
    "\n",
    "# generate an array of 5 values\n",
    "display(np.random.gamma(shape=2.0, scale=2.0, size=5))"
   ],
   "metadata": {
    "colab": {
     "base_uri": "https://localhost:8080/",
     "height": 54
    },
    "id": "rjtpjoDU1aJq",
    "outputId": "3b95450d-acfe-4bbb-8424-6fd0b46450f5",
    "ExecuteTime": {
     "end_time": "2025-02-19T00:41:50.743432Z",
     "start_time": "2025-02-19T00:41:50.737100Z"
    }
   },
   "outputs": [
    {
     "name": "stdout",
     "output_type": "stream",
     "text": [
      "0.6645841422453882\n"
     ]
    },
    {
     "data": {
      "text/plain": [
       "array([12.71145031,  1.02553848,  0.61013128,  0.28296993,  2.24462802])"
      ]
     },
     "metadata": {},
     "output_type": "display_data"
    }
   ],
   "execution_count": 51
  },
  {
   "cell_type": "markdown",
   "source": [
    "##### **chisquare()**\n",
    "\n",
    "* Generates random values from the ***chi-squared distribution***\n",
    "* Takes 2 arguments:\n",
    "    * `df` = degrees of freedom; it's the shape parameter (sometimes denoted as `k`)\n",
    "    * `size` = the number of values to generate\n",
    "* Use cases:\n",
    "    * ***Used in chi-squared tests***\n",
    "    * ***To model variances***\n",
    "    * *** Hypothesis testing***\n"
   ],
   "metadata": {
    "id": "TNTe7S8kKELP"
   }
  },
  {
   "cell_type": "code",
   "source": [
    "# generate 5 random values from a chi-squared distribution\n",
    "display(np.random.chisquare(df=2.0, size=5))"
   ],
   "metadata": {
    "id": "KCy2YqXIKsxZ",
    "outputId": "740427f5-14ff-4f74-937b-f3f5302e1b80",
    "colab": {
     "base_uri": "https://localhost:8080/",
     "height": 35
    },
    "ExecuteTime": {
     "end_time": "2025-02-19T00:41:50.793057Z",
     "start_time": "2025-02-19T00:41:50.787963Z"
    }
   },
   "outputs": [
    {
     "data": {
      "text/plain": [
       "array([1.44581043, 0.16557502, 0.56955542, 3.57402449, 0.74743119])"
      ]
     },
     "metadata": {},
     "output_type": "display_data"
    }
   ],
   "execution_count": 52
  },
  {
   "cell_type": "markdown",
   "source": [
    "##### **geometric()**\n",
    "Generates random values from a ***geometric distribution***, which models the number of trials needed before the first success in a sequence of Bernoulli trials\n",
    "* Takes 2 arguments:\n",
    "    * `p` = the probability of cuccess on each trial\n",
    "    * `size` = the number of random values to generate\n",
    "* Use cases:\n",
    "    * ***Modeling the number of trials until the first success***, such as:\n",
    "        * ***Quality control processes***\n",
    "        * ***Search problems***\n"
   ],
   "metadata": {
    "id": "RipXzuOaK4Yj"
   }
  },
  {
   "cell_type": "code",
   "source": [
    "# generate 5 random values from a Geometric distribution\n",
    "display(np.random.geometric(p=0.5, size=5))"
   ],
   "metadata": {
    "id": "tuit_XdsLvHP",
    "outputId": "df4620bd-8124-4b40-e4b4-2f5a01c57fbe",
    "colab": {
     "base_uri": "https://localhost:8080/",
     "height": 35
    },
    "ExecuteTime": {
     "end_time": "2025-02-19T00:41:50.846421Z",
     "start_time": "2025-02-19T00:41:50.837928Z"
    }
   },
   "outputs": [
    {
     "data": {
      "text/plain": [
       "array([5, 1, 4, 3, 6], dtype=int32)"
      ]
     },
     "metadata": {},
     "output_type": "display_data"
    }
   ],
   "execution_count": 53
  },
  {
   "cell_type": "markdown",
   "source": [
    "##### **hypergeometric()**\n",
    "\n",
    "* Generates random values from the ***hypergeometric distribution***\n",
    "* This distribution models the number of successes in a sample drawn without replacement ***from a finite population***\n",
    "* Takes 4 arguments:\n",
    "    * `ngood` = the number of good items in the population\n",
    "    * `nbad` = the number of bad items in the poopulation\n",
    "    * `nsample` = the size of the sample drawn\n",
    "    * `size` = the number of random values to generate\n",
    "* Use cases:\n",
    "    * ***Sampling without replacement***, such as:\n",
    "        * ***Quality testing***\n",
    "        * ***Survey sampling***\n"
   ],
   "metadata": {
    "id": "MNpgJbMbL2Js"
   }
  },
  {
   "cell_type": "code",
   "source": [
    "# generate 3 samples from a Hypergeometric distribution\n",
    "display(np.random.hypergeometric(ngood=10, nbad=20, nsample=5, size=3))"
   ],
   "metadata": {
    "colab": {
     "base_uri": "https://localhost:8080/",
     "height": 35
    },
    "id": "B_tujjxGM8_o",
    "outputId": "0f8de18f-c2b4-44d8-aa06-f47578bce340",
    "ExecuteTime": {
     "end_time": "2025-02-19T00:41:50.919378Z",
     "start_time": "2025-02-19T00:41:50.914374Z"
    }
   },
   "outputs": [
    {
     "data": {
      "text/plain": [
       "array([2, 2, 1], dtype=int32)"
      ]
     },
     "metadata": {},
     "output_type": "display_data"
    }
   ],
   "execution_count": 54
  },
  {
   "cell_type": "markdown",
   "source": [
    "##### **laplace()**\n",
    "\n",
    "* Generates random values from a ***Laplace distribution***, also known as the ***double exponential distribution***\n",
    "* This distribution is used to model the difference between two independent exponential variables\n",
    "* Takes 3 arguments:\n",
    "    * `loc` = the location parameter (mean)\n",
    "    * `scale` = the divergence of spread of the distribution\n",
    "    * `size` = the number of random values to generate\n",
    "* Use cases:\n",
    "    * ***Modeling data with large deviations or noise***, such as:\n",
    "        * ***Image Processing***\n",
    "        * ***Finance for price changes***"
   ],
   "metadata": {
    "id": "oRKTHnrLNHra"
   }
  },
  {
   "cell_type": "code",
   "source": [
    "# generate 5 random values from a Laplace distribution\n",
    "display(np.random.laplace(loc=0.0, scale=1.0, size=5))"
   ],
   "metadata": {
    "colab": {
     "base_uri": "https://localhost:8080/",
     "height": 35
    },
    "id": "de5CD3mzOGBa",
    "outputId": "3d687225-9995-40c8-abe4-ab5b55ed9511",
    "ExecuteTime": {
     "end_time": "2025-02-19T00:41:50.967046Z",
     "start_time": "2025-02-19T00:41:50.962048Z"
    }
   },
   "outputs": [
    {
     "data": {
      "text/plain": [
       "array([ 2.76460825,  0.22947267,  0.73042163, -0.86086913,  1.95199798])"
      ]
     },
     "metadata": {},
     "output_type": "display_data"
    }
   ],
   "execution_count": 55
  },
  {
   "cell_type": "markdown",
   "source": [
    "##### **logistic()**\n",
    "\n",
    "* Generates random values from the ***logistic distribution*** commonly used in logistic regression and binary classification\n",
    "* Takes 3 arguments:\n",
    "    * `loc`= the location parameter (mean)\n",
    "    * `scale` = the scale parameter (analogous to the ***standard deviation***)\n",
    "    * `size` = the number of random values to generate\n",
    "* Use cases:\n",
    "    * ***Logistic Regression (growith processes)***\n",
    "    * ***Binary Classification (binary outcomes)***\n",
    "    * ***Modeling growth processes or binary ourcomes with an \"S-shaped\" curve***, such as:\n",
    "        * ***Population growth***"
   ],
   "metadata": {
    "id": "fkLM2cKwOOCc"
   }
  },
  {
   "cell_type": "code",
   "source": [
    " # generate 5 random values from a Logistic distribution\n",
    "display(np.random.logistic(loc=0.0, scale=1.0, size=5))"
   ],
   "metadata": {
    "colab": {
     "base_uri": "https://localhost:8080/",
     "height": 35
    },
    "id": "WKr45Hx9Q3xT",
    "outputId": "1b35486a-3568-4355-996d-d378bcb98f34",
    "ExecuteTime": {
     "end_time": "2025-02-19T00:41:51.008417Z",
     "start_time": "2025-02-19T00:41:51.003447Z"
    }
   },
   "outputs": [
    {
     "data": {
      "text/plain": [
       "array([-0.41217784,  1.89907131, -1.26251348, -0.75291441, -1.35476949])"
      ]
     },
     "metadata": {},
     "output_type": "display_data"
    }
   ],
   "execution_count": 56
  },
  {
   "cell_type": "markdown",
   "source": [
    "##### **lognormal()**\n",
    "\n",
    "* Generates random values from the ***log-normal distribution***, which is often used to model stock prices, income, and other positively skewed data\n",
    "* Takes 3 arguments:\n",
    "    * `mean` = the mean of the underlying normal distribution\n",
    "    * `signam` = the standard deviation of the underlying normal distribution\n",
    "    * `size` = the number of random values to generate\n",
    "* Use cases:\n",
    "    * ***Used to model data with positive skewness***, such as:\n",
    "        * ***Financial returns***\n",
    "        * ***Lifespan of products***\n"
   ],
   "metadata": {
    "id": "FrXDUJoSQ_vK"
   }
  },
  {
   "cell_type": "code",
   "source": [
    " # generate 5 random values from a log-normal distribution\n",
    "display(np.random.lognormal(mean=0.0, sigma=1.0, size=5))"
   ],
   "metadata": {
    "colab": {
     "base_uri": "https://localhost:8080/",
     "height": 35
    },
    "id": "v7c3ER2KS90r",
    "outputId": "092e80fe-e56b-4cc6-8c10-ae9914742359",
    "ExecuteTime": {
     "end_time": "2025-02-19T00:41:51.052066Z",
     "start_time": "2025-02-19T00:41:51.047056Z"
    }
   },
   "outputs": [
    {
     "data": {
      "text/plain": [
       "array([2.33725428, 1.67963667, 0.10552148, 0.55882612, 3.00201336])"
      ]
     },
     "metadata": {},
     "output_type": "display_data"
    }
   ],
   "execution_count": 57
  },
  {
   "cell_type": "markdown",
   "source": [
    "##### **rayleigh()**\n",
    "\n",
    "* Generates random values from the Rayleigh distribution, commonly used to model wind speed and other continuous random variables with skewed distributions\n",
    "* Takes 2 arguments:\n",
    "    * `scale` = the scale parameter, sometimes denoted as σ\n",
    "    * `size` = the number of random values to generate\n",
    "* Use cases:\n",
    "    * ***Model non-negative data***, such as:\n",
    "        * ***Signal Processing***\n",
    "        * ***Natural Sciences***"
   ],
   "metadata": {
    "id": "ETjo3Pe3Ua8m"
   }
  },
  {
   "cell_type": "code",
   "source": [
    "# 5 generate random values from a rayleigh distribution\n",
    "display(np.random.rayleigh(scale=2.0, size=5))"
   ],
   "metadata": {
    "colab": {
     "base_uri": "https://localhost:8080/",
     "height": 35
    },
    "id": "p4zQWlnsVmh8",
    "outputId": "db865a9e-8a20-412f-e66c-81a233d2675d",
    "ExecuteTime": {
     "end_time": "2025-02-19T00:41:51.103683Z",
     "start_time": "2025-02-19T00:41:51.098406Z"
    }
   },
   "outputs": [
    {
     "data": {
      "text/plain": [
       "array([3.00515226, 2.24109376, 0.71437161, 1.28852271, 1.09430464])"
      ]
     },
     "metadata": {},
     "output_type": "display_data"
    }
   ],
   "execution_count": 58
  },
  {
   "cell_type": "markdown",
   "source": [
    "##### **traingular()**\n",
    "\n",
    "*  Generates random values from the ***triangular distribution***, which is commonly used in simulations to represent uncertain variables\n",
    "* Takes 4 arguments:\n",
    "    * `left` = the lower bound of the distribution\n",
    "    * `mode` = the peak or most likely value\n",
    "    * `right` = the upper bound of the distribution\n",
    "    * `size` = the number of random values to generate\n",
    "* Use cases:\n",
    "    * ***Simulation modeling***, such as:\n",
    "       * ***Project Management***\n",
    "       * ***Risk analysis***"
   ],
   "metadata": {
    "id": "-JWheyJOWmx5"
   }
  },
  {
   "cell_type": "code",
   "source": [
    "# generate 5 random values from a triangular distribution\n",
    "display(np.random.triangular(left=0, mode=5, right=10, size=5))"
   ],
   "metadata": {
    "colab": {
     "base_uri": "https://localhost:8080/",
     "height": 35
    },
    "id": "lxbbJNB1X4JU",
    "outputId": "dd62af08-9dfb-4ccd-9a3b-b777e6e1e3e3",
    "ExecuteTime": {
     "end_time": "2025-02-19T00:41:51.142244Z",
     "start_time": "2025-02-19T00:41:51.134529Z"
    }
   },
   "outputs": [
    {
     "data": {
      "text/plain": [
       "array([4.02683938, 3.28791099, 1.96547048, 4.32661324, 6.27406521])"
      ]
     },
     "metadata": {},
     "output_type": "display_data"
    }
   ],
   "execution_count": 59
  },
  {
   "cell_type": "markdown",
   "source": [
    "##### **vonmises()**\n",
    "* Generates random values from the ***von Mises distribution***, which is a probability distribution for circular data (angles)\n",
    "* Takes 3 arguments:\n",
    "    * `mu` = the location parameter (mean angle)\n",
    "    * `kappa` = the concatenation parameter, which controls the spread\n",
    "    * `size` = the number of random values to generate\n",
    "* Use cases:\n",
    "    * ***Modeling circular data***, such as:\n",
    "        * ***Wind direction***\n",
    "        * ***Time of day***"
   ],
   "metadata": {
    "id": "e9Iog8fRYD7j"
   }
  },
  {
   "cell_type": "code",
   "source": [
    "# generate 5 random values from a von mises distribution\n",
    "display(np.random.vonmises(mu=0.0, kappa=1.0, size=5))"
   ],
   "metadata": {
    "colab": {
     "base_uri": "https://localhost:8080/",
     "height": 35
    },
    "id": "KNyHzOAaYke-",
    "outputId": "028e27a3-b787-4d2b-8d07-915e479c7099",
    "ExecuteTime": {
     "end_time": "2025-02-19T00:41:51.171918Z",
     "start_time": "2025-02-19T00:41:51.165522Z"
    }
   },
   "outputs": [
    {
     "data": {
      "text/plain": [
       "array([-1.01575814,  0.94380415, -0.37616565,  0.38553754, -0.04913357])"
      ]
     },
     "metadata": {},
     "output_type": "display_data"
    }
   ],
   "execution_count": 60
  },
  {
   "cell_type": "markdown",
   "source": [
    "##### **wald()**\n",
    "\n",
    "* Generates random values from the ***Wald distribution***, which is used for modeling processes where the waiting times or durations of events vary\n",
    "* Takes 3 arguments:\n",
    "    * `mean` = the mean of the distribution\n",
    "    * `scale` = the scale parameter\n",
    "    * `size` = the number of random values to generate\n",
    "* Use cases:\n",
    "    * ***Queuing models***\n",
    "    * ***Lifespan modeling***"
   ],
   "metadata": {
    "id": "Z1Rw9fh9YkD5"
   }
  },
  {
   "cell_type": "code",
   "source": [
    "# generate 5 random values from a wald distribution\n",
    "display(np.random.wald(mean=1.0, scale=1.0, size=5))"
   ],
   "metadata": {
    "colab": {
     "base_uri": "https://localhost:8080/",
     "height": 35
    },
    "id": "5Tl7XkFiZKmv",
    "outputId": "2aa6de31-e901-4162-b123-2d6a1ada505e",
    "ExecuteTime": {
     "end_time": "2025-02-19T00:41:51.209354Z",
     "start_time": "2025-02-19T00:41:51.204357Z"
    }
   },
   "outputs": [
    {
     "data": {
      "text/plain": [
       "array([2.56688508, 0.35808218, 1.31317225, 0.74756311, 0.75435115])"
      ]
     },
     "metadata": {},
     "output_type": "display_data"
    }
   ],
   "execution_count": 61
  },
  {
   "cell_type": "markdown",
   "source": [
    "##### **weibull()**\n",
    "* Generates random values from the ***Weibull distribution***, which is used in reliability analysis and survival analysis\n",
    "* Takes 2 arguments:\n",
    "    * `a` = the shape parameter\n",
    "    * `size` = the number of random values to generate\n",
    "* Use cases:\n",
    "    * ***Failure time analysis***, such as:\n",
    "        * ***Modeling product lifetimes***\n"
   ],
   "metadata": {
    "id": "dOK2UTMpZQ1s"
   }
  },
  {
   "cell_type": "code",
   "source": [
    " # generate 5 random values from a Weibull distribution\n",
    "display(np.random.weibull(a=2.0, size=5))"
   ],
   "metadata": {
    "colab": {
     "base_uri": "https://localhost:8080/",
     "height": 35
    },
    "id": "zFTrtYCcZpGT",
    "outputId": "17665bd8-c501-45dc-90a9-bd30d32de9ba",
    "ExecuteTime": {
     "end_time": "2025-02-19T00:41:51.245729Z",
     "start_time": "2025-02-19T00:41:51.239730Z"
    }
   },
   "outputs": [
    {
     "data": {
      "text/plain": [
       "array([0.62464054, 0.54362929, 0.79274295, 0.69910217, 1.0478448 ])"
      ]
     },
     "metadata": {},
     "output_type": "display_data"
    }
   ],
   "execution_count": 62
  },
  {
   "cell_type": "markdown",
   "source": [
    "### Conversion"
   ],
   "metadata": {
    "id": "jbW8SxbbuCwt"
   }
  },
  {
   "cell_type": "code",
   "source": [
    "# conversion and storage\n",
    "a = np.array([[1,2,3], [4,5,6], [7,8,9]])\n",
    "\n",
    "type(a), type(a.tolist()) # use tolist() to store in python list"
   ],
   "metadata": {
    "colab": {
     "base_uri": "https://localhost:8080/"
    },
    "id": "oLkwtDwAkc9T",
    "outputId": "9532185c-9099-4df9-c489-ebacc43b7069",
    "ExecuteTime": {
     "end_time": "2025-02-19T00:41:51.271648Z",
     "start_time": "2025-02-19T00:41:51.267232Z"
    }
   },
   "outputs": [
    {
     "data": {
      "text/plain": [
       "(numpy.ndarray, list)"
      ]
     },
     "execution_count": 63,
     "metadata": {},
     "output_type": "execute_result"
    }
   ],
   "execution_count": 63
  },
  {
   "cell_type": "code",
   "source": [
    "a = np.array([[10,20,30], [40,50,60], [70,80,90]])\n",
    "display(a)\n",
    "a.tofile(\"my_arr.txt\", sep=\"\\n\")  # convert to a txt file"
   ],
   "metadata": {
    "colab": {
     "base_uri": "https://localhost:8080/",
     "height": 72
    },
    "id": "p6ZSScP1k9dS",
    "outputId": "15249883-5db2-46af-bc68-2586b99ac2fe",
    "ExecuteTime": {
     "end_time": "2025-02-19T00:41:51.314151Z",
     "start_time": "2025-02-19T00:41:51.308332Z"
    }
   },
   "outputs": [
    {
     "data": {
      "text/plain": [
       "array([[10, 20, 30],\n",
       "       [40, 50, 60],\n",
       "       [70, 80, 90]])"
      ]
     },
     "metadata": {},
     "output_type": "display_data"
    }
   ],
   "execution_count": 64
  },
  {
   "cell_type": "markdown",
   "source": [
    "### Transposition"
   ],
   "metadata": {
    "id": "UOyyLyBPt_ep"
   }
  },
  {
   "cell_type": "code",
   "source": [
    "# transposition\n",
    "a = np.array([[1,2,3],[4,5,6],[7,8,9]])\n",
    "b, c = a.copy(), a.copy()\n",
    "\n",
    "swapped = np.swapaxes(a, 0, 1)  # swaps axes 0 (rows) and 1 (columns)\n",
    "transposed = b.transpose(1, 0)  # transposes the array (equivalent to swapping rows and columns)\n",
    "short_transposed = c.T  # Another shorthand for transposition (equivalent to transpose())\n",
    "\n",
    "a, swapped, transposed, short_transposed"
   ],
   "metadata": {
    "colab": {
     "base_uri": "https://localhost:8080/"
    },
    "id": "bUhVRjQdl5Bt",
    "outputId": "a1db10c0-4349-4f6c-c0e9-31f480a19a8a",
    "ExecuteTime": {
     "end_time": "2025-02-19T00:41:51.360125Z",
     "start_time": "2025-02-19T00:41:51.351948Z"
    }
   },
   "outputs": [
    {
     "data": {
      "text/plain": [
       "(array([[1, 2, 3],\n",
       "        [4, 5, 6],\n",
       "        [7, 8, 9]]),\n",
       " array([[1, 4, 7],\n",
       "        [2, 5, 8],\n",
       "        [3, 6, 9]]),\n",
       " array([[1, 4, 7],\n",
       "        [2, 5, 8],\n",
       "        [3, 6, 9]]),\n",
       " array([[1, 4, 7],\n",
       "        [2, 5, 8],\n",
       "        [3, 6, 9]]))"
      ]
     },
     "execution_count": 65,
     "metadata": {},
     "output_type": "execute_result"
    }
   ],
   "execution_count": 65
  },
  {
   "cell_type": "code",
   "source": [
    "a = np.array([[[1, 2], [3, 4]], [[5, 6], [7, 8]]])\n",
    "\n",
    "# a.shape = (2, 2, 2)\n",
    "\n",
    "transposed_012 = np.transpose(a, (0, 1, 2))  # no change\n",
    "transposed_021 = np.transpose(a, (0, 2, 1))  # swap last two axes\n",
    "transposed_102 = np.transpose(a, (1, 0, 2))  # swap first two axes\n",
    "transposed_210 = np.transpose(a, (2, 1, 0))  # reverse all axes\n",
    "\n",
    "display(transposed_012)  # unchanged\n",
    "display(transposed_021)  # different reshuffle\n",
    "display(transposed_102)  # reshuffled again\n",
    "display(transposed_210)  # completely reversed"
   ],
   "metadata": {
    "colab": {
     "base_uri": "https://localhost:8080/",
     "height": 386
    },
    "id": "K0L1gPi2mGCK",
    "outputId": "d8bd08fa-4758-4584-ab96-393e6d70423d",
    "ExecuteTime": {
     "end_time": "2025-02-19T00:41:51.397783Z",
     "start_time": "2025-02-19T00:41:51.388568Z"
    }
   },
   "outputs": [
    {
     "data": {
      "text/plain": [
       "array([[[1, 2],\n",
       "        [3, 4]],\n",
       "\n",
       "       [[5, 6],\n",
       "        [7, 8]]])"
      ]
     },
     "metadata": {},
     "output_type": "display_data"
    },
    {
     "data": {
      "text/plain": [
       "array([[[1, 3],\n",
       "        [2, 4]],\n",
       "\n",
       "       [[5, 7],\n",
       "        [6, 8]]])"
      ]
     },
     "metadata": {},
     "output_type": "display_data"
    },
    {
     "data": {
      "text/plain": [
       "array([[[1, 2],\n",
       "        [5, 6]],\n",
       "\n",
       "       [[3, 4],\n",
       "        [7, 8]]])"
      ]
     },
     "metadata": {},
     "output_type": "display_data"
    },
    {
     "data": {
      "text/plain": [
       "array([[[1, 5],\n",
       "        [3, 7]],\n",
       "\n",
       "       [[2, 6],\n",
       "        [4, 8]]])"
      ]
     },
     "metadata": {},
     "output_type": "display_data"
    }
   ],
   "execution_count": 66
  },
  {
   "cell_type": "markdown",
   "source": [
    "### Operations on 2 matrices"
   ],
   "metadata": {
    "id": "Xf1elyxnutkF"
   }
  },
  {
   "cell_type": "code",
   "source": [
    "a = np.zeros((3,3))\n",
    "a.fill(2)\n",
    "b = np.array([[1,2,3], [4,5,6], [7,8,9]])\n",
    "add_ops = a + b\n",
    "complex_ops = (a + b - 2 * a) / 4\n",
    "\n",
    "a, b, add_ops, complex_ops"
   ],
   "metadata": {
    "colab": {
     "base_uri": "https://localhost:8080/"
    },
    "id": "fGxBKzI7sZb9",
    "outputId": "2036a49a-ed10-48f5-b304-bfdacdccf698",
    "ExecuteTime": {
     "end_time": "2025-02-19T00:41:51.439436Z",
     "start_time": "2025-02-19T00:41:51.433840Z"
    }
   },
   "outputs": [
    {
     "data": {
      "text/plain": [
       "(array([[2., 2., 2.],\n",
       "        [2., 2., 2.],\n",
       "        [2., 2., 2.]]),\n",
       " array([[1, 2, 3],\n",
       "        [4, 5, 6],\n",
       "        [7, 8, 9]]),\n",
       " array([[ 3.,  4.,  5.],\n",
       "        [ 6.,  7.,  8.],\n",
       "        [ 9., 10., 11.]]),\n",
       " array([[-0.25,  0.  ,  0.25],\n",
       "        [ 0.5 ,  0.75,  1.  ],\n",
       "        [ 1.25,  1.5 ,  1.75]]))"
      ]
     },
     "execution_count": 67,
     "metadata": {},
     "output_type": "execute_result"
    }
   ],
   "execution_count": 67
  },
  {
   "cell_type": "markdown",
   "source": [
    "#### Modulo"
   ],
   "metadata": {
    "id": "V4cdqzC4wU_T"
   }
  },
  {
   "cell_type": "code",
   "source": [
    "a = np.zeros((3,3))\n",
    "a.fill(2)\n",
    "b = np.array([[1,2,3],[4,5,6],[7,8,9]])\n",
    "\n",
    "a_mod_b = a % b\n",
    "b_mod_a = b % a\n",
    "\n",
    "a,b, a_mod_b, b_mod_a"
   ],
   "metadata": {
    "colab": {
     "base_uri": "https://localhost:8080/"
    },
    "id": "x7XpOAjyvADu",
    "outputId": "27969bdb-3276-41f9-e25b-3cb72f7d6307",
    "ExecuteTime": {
     "end_time": "2025-02-19T00:41:51.514283Z",
     "start_time": "2025-02-19T00:41:51.508839Z"
    }
   },
   "outputs": [
    {
     "data": {
      "text/plain": [
       "(array([[2., 2., 2.],\n",
       "        [2., 2., 2.],\n",
       "        [2., 2., 2.]]),\n",
       " array([[1, 2, 3],\n",
       "        [4, 5, 6],\n",
       "        [7, 8, 9]]),\n",
       " array([[0., 0., 2.],\n",
       "        [2., 2., 2.],\n",
       "        [2., 2., 2.]]),\n",
       " array([[1., 0., 1.],\n",
       "        [0., 1., 0.],\n",
       "        [1., 0., 1.]]))"
      ]
     },
     "execution_count": 68,
     "metadata": {},
     "output_type": "execute_result"
    }
   ],
   "execution_count": 68
  },
  {
   "cell_type": "markdown",
   "source": [
    "#### Floor Division"
   ],
   "metadata": {
    "id": "BT6Bwvu-w7S0"
   }
  },
  {
   "cell_type": "code",
   "source": [
    "# using floor division operator. output is in int\n",
    "a = np.zeros((3,3))\n",
    "a.fill(2)\n",
    "b = np.array([[1,2,3], [4,5,6], [7,8,9]])\n",
    "\n",
    "floor_1 = a // b # this returns ints\n",
    "floor_2 = b // a # this returns ints\n",
    "\n",
    "a,b, floor_1, floor_2"
   ],
   "metadata": {
    "colab": {
     "base_uri": "https://localhost:8080/"
    },
    "id": "ueDUDxiXwiJ5",
    "outputId": "8488a6ea-19e1-425d-e41a-cce19badf946",
    "ExecuteTime": {
     "end_time": "2025-02-19T00:41:51.562739Z",
     "start_time": "2025-02-19T00:41:51.554747Z"
    }
   },
   "outputs": [
    {
     "data": {
      "text/plain": [
       "(array([[2., 2., 2.],\n",
       "        [2., 2., 2.],\n",
       "        [2., 2., 2.]]),\n",
       " array([[1, 2, 3],\n",
       "        [4, 5, 6],\n",
       "        [7, 8, 9]]),\n",
       " array([[2., 1., 0.],\n",
       "        [0., 0., 0.],\n",
       "        [0., 0., 0.]]),\n",
       " array([[0., 1., 1.],\n",
       "        [2., 2., 3.],\n",
       "        [3., 4., 4.]]))"
      ]
     },
     "execution_count": 69,
     "metadata": {},
     "output_type": "execute_result"
    }
   ],
   "execution_count": 69
  },
  {
   "cell_type": "code",
   "source": [
    "# using np.floor() function. output is in float\n",
    "a = np.zeros((3,3))\n",
    "a.fill(2)\n",
    "b = np.array([[1,2,3], [4,5,6], [7,8,9]])\n",
    "\n",
    "floor_1 = np.floor(a/b) # this returns floats\n",
    "floor_2 = np.floor(b/a) # this returns floats\n",
    "\n",
    "a,b, floor_1, floor_2"
   ],
   "metadata": {
    "colab": {
     "base_uri": "https://localhost:8080/"
    },
    "id": "MuA_pp3ZxIXQ",
    "outputId": "c4a13401-662d-4d8c-b54c-e4376471ad36",
    "ExecuteTime": {
     "end_time": "2025-02-19T00:41:51.594778Z",
     "start_time": "2025-02-19T00:41:51.587777Z"
    }
   },
   "outputs": [
    {
     "data": {
      "text/plain": [
       "(array([[2., 2., 2.],\n",
       "        [2., 2., 2.],\n",
       "        [2., 2., 2.]]),\n",
       " array([[1, 2, 3],\n",
       "        [4, 5, 6],\n",
       "        [7, 8, 9]]),\n",
       " array([[2., 1., 0.],\n",
       "        [0., 0., 0.],\n",
       "        [0., 0., 0.]]),\n",
       " array([[0., 1., 1.],\n",
       "        [2., 2., 3.],\n",
       "        [3., 4., 4.]]))"
      ]
     },
     "execution_count": 70,
     "metadata": {},
     "output_type": "execute_result"
    }
   ],
   "execution_count": 70
  },
  {
   "cell_type": "markdown",
   "source": [
    "#### Matrix Multiplication"
   ],
   "metadata": {
    "id": "rYkPoC8vy8ST"
   }
  },
  {
   "cell_type": "code",
   "source": [
    "# using element wise multiplication: a * b\n",
    "a = np.zeros((3,3))\n",
    "a.fill(2)\n",
    "b = np.array([[1,2,3], [4,5,6], [7,8,9]])\n",
    "\n",
    "prod = a * b\n",
    "\n",
    "prod"
   ],
   "metadata": {
    "colab": {
     "base_uri": "https://localhost:8080/"
    },
    "id": "l7rSTHRKy-sj",
    "outputId": "f1ce11db-9b99-400a-a5fe-15ee11999c08",
    "ExecuteTime": {
     "end_time": "2025-02-19T00:41:51.620552Z",
     "start_time": "2025-02-19T00:41:51.615165Z"
    }
   },
   "outputs": [
    {
     "data": {
      "text/plain": [
       "array([[ 2.,  4.,  6.],\n",
       "       [ 8., 10., 12.],\n",
       "       [14., 16., 18.]])"
      ]
     },
     "execution_count": 71,
     "metadata": {},
     "output_type": "execute_result"
    }
   ],
   "execution_count": 71
  },
  {
   "cell_type": "code",
   "source": [
    "# using matrix-wise multiplication: np.matmul(a, b) or a.dot(b) or by using @ operator\n",
    "a = np.zeros((3,3))\n",
    "a.fill(2)\n",
    "b = np.array([[1,2,3], [4,5,6], [7,8,9]])\n",
    "\n",
    "prod = np.matmul(a, b)\n",
    "dot = a.dot(b)          # same effect as np.matmul(a, b)\n",
    "at_operator = a @ b     # same effect as np.matmul(a, b)\n",
    "\n",
    "prod, dot, at_operator"
   ],
   "metadata": {
    "colab": {
     "base_uri": "https://localhost:8080/"
    },
    "id": "CCySzeKzzn3h",
    "outputId": "e593159a-f0e5-43e9-fcf9-65282666498d",
    "ExecuteTime": {
     "end_time": "2025-02-19T00:41:51.728909Z",
     "start_time": "2025-02-19T00:41:51.720088Z"
    }
   },
   "outputs": [
    {
     "data": {
      "text/plain": [
       "(array([[24., 30., 36.],\n",
       "        [24., 30., 36.],\n",
       "        [24., 30., 36.]]),\n",
       " array([[24., 30., 36.],\n",
       "        [24., 30., 36.],\n",
       "        [24., 30., 36.]]),\n",
       " array([[24., 30., 36.],\n",
       "        [24., 30., 36.],\n",
       "        [24., 30., 36.]]))"
      ]
     },
     "execution_count": 72,
     "metadata": {},
     "output_type": "execute_result"
    }
   ],
   "execution_count": 72
  }
 ]
}
